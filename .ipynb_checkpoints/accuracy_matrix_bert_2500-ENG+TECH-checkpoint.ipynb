{
 "cells": [
  {
   "cell_type": "code",
   "execution_count": 1,
   "metadata": {
    "id": "QUKJvStgL4b2"
   },
   "outputs": [],
   "source": [
    "# Importing the libraries here\n",
    "\n",
    "import pandas as pd\n",
    "import numpy as np\n",
    "import ast\n",
    "import json\n",
    "from operator import add \n",
    "from operator import truediv\n",
    "import re\n",
    "# import swifter\n",
    "from tqdm import tqdm"
   ]
  },
  {
   "cell_type": "code",
   "execution_count": 2,
   "metadata": {},
   "outputs": [],
   "source": [
    "#data with TECH removed or non master removed and tech removed\n",
    "# summary = pd.read_csv(\"BERT_Pred_189_FULL_with_eng.csv\")\n",
    "# summary = pd.read_csv(\"BERT_Pred_189_FULL_without_MASTER.csv\")\n",
    "# summary = pd.read_csv(\"BERT_Pred_500_without_MASTER_ROW_WISE.csv\")\n",
    "# summary = pd.read_csv(\"BERT_Pred_500_without_MASTER_ENG+TECH_ROW_WISE.csv\")\n",
    "\n",
    "summary = pd.read_csv(\"Bert_Preds_EXP_Summary_ENG+TECH.csv\")\n",
    "\n",
    "\n",
    "# summary[\"BERT_tags\"]=summary[\"BERT_tags_wo_MASTER\"]\n",
    "# summary[\"BERT_ENG_tag\"]=summary[\"BERT_tags_wo_MASTER\"]"
   ]
  },
  {
   "cell_type": "code",
   "execution_count": 3,
   "metadata": {},
   "outputs": [
    {
     "data": {
      "text/html": [
       "<div>\n",
       "<style scoped>\n",
       "    .dataframe tbody tr th:only-of-type {\n",
       "        vertical-align: middle;\n",
       "    }\n",
       "\n",
       "    .dataframe tbody tr th {\n",
       "        vertical-align: top;\n",
       "    }\n",
       "\n",
       "    .dataframe thead th {\n",
       "        text-align: right;\n",
       "    }\n",
       "</style>\n",
       "<table border=\"1\" class=\"dataframe\">\n",
       "  <thead>\n",
       "    <tr style=\"text-align: right;\">\n",
       "      <th></th>\n",
       "      <th>Unnamed: 0</th>\n",
       "      <th>id</th>\n",
       "      <th>summaries</th>\n",
       "      <th>exact_matched_patt_contextual</th>\n",
       "      <th>BERT_ENG+string_matched</th>\n",
       "    </tr>\n",
       "  </thead>\n",
       "  <tbody>\n",
       "    <tr>\n",
       "      <th>0</th>\n",
       "      <td>0</td>\n",
       "      <td>-4W7H0UFJneCeHmDK-b9LA_0000</td>\n",
       "      <td>im a seasoned software consultant and manager...</td>\n",
       "      <td>['gmail']</td>\n",
       "      <td>[]</td>\n",
       "    </tr>\n",
       "    <tr>\n",
       "      <th>1</th>\n",
       "      <td>1</td>\n",
       "      <td>-5KQNWRmZUAxcmAKsBVFCw_0000</td>\n",
       "      <td>committed and clientfocused technical lead wi...</td>\n",
       "      <td>['oracle pl/sql', 'vb.net', 'hp quality center...</td>\n",
       "      <td>['tidal', 'windows xp']</td>\n",
       "    </tr>\n",
       "    <tr>\n",
       "      <th>2</th>\n",
       "      <td>2</td>\n",
       "      <td>-9vRkMCaww4q9MTuMhg16A_0000</td>\n",
       "      <td>professional web site design and development ...</td>\n",
       "      <td>['html', 'php', 'javascript']</td>\n",
       "      <td>['html', 'javascript', 'php']</td>\n",
       "    </tr>\n",
       "    <tr>\n",
       "      <th>3</th>\n",
       "      <td>3</td>\n",
       "      <td>-nZOV-0MncypcjMiVI38pQ_0000</td>\n",
       "      <td>experienced it software and infrastructure pr...</td>\n",
       "      <td>['versionone', 'ios', 'sharepoint', 'windows 1...</td>\n",
       "      <td>['citrix xenmobile', 'dell', 'versionone', 'sh...</td>\n",
       "    </tr>\n",
       "    <tr>\n",
       "      <th>4</th>\n",
       "      <td>4</td>\n",
       "      <td>0-6kc4T3YjlcPQYOK7Wt4g_0000</td>\n",
       "      <td>now hiring actively sourcing nfoh manager agm...</td>\n",
       "      <td>['gmail']</td>\n",
       "      <td>[]</td>\n",
       "    </tr>\n",
       "  </tbody>\n",
       "</table>\n",
       "</div>"
      ],
      "text/plain": [
       "   Unnamed: 0                           id  \\\n",
       "0           0  -4W7H0UFJneCeHmDK-b9LA_0000   \n",
       "1           1  -5KQNWRmZUAxcmAKsBVFCw_0000   \n",
       "2           2  -9vRkMCaww4q9MTuMhg16A_0000   \n",
       "3           3  -nZOV-0MncypcjMiVI38pQ_0000   \n",
       "4           4  0-6kc4T3YjlcPQYOK7Wt4g_0000   \n",
       "\n",
       "                                           summaries  \\\n",
       "0   im a seasoned software consultant and manager...   \n",
       "1   committed and clientfocused technical lead wi...   \n",
       "2   professional web site design and development ...   \n",
       "3   experienced it software and infrastructure pr...   \n",
       "4   now hiring actively sourcing nfoh manager agm...   \n",
       "\n",
       "                       exact_matched_patt_contextual  \\\n",
       "0                                          ['gmail']   \n",
       "1  ['oracle pl/sql', 'vb.net', 'hp quality center...   \n",
       "2                      ['html', 'php', 'javascript']   \n",
       "3  ['versionone', 'ios', 'sharepoint', 'windows 1...   \n",
       "4                                          ['gmail']   \n",
       "\n",
       "                             BERT_ENG+string_matched  \n",
       "0                                                 []  \n",
       "1                            ['tidal', 'windows xp']  \n",
       "2                      ['html', 'javascript', 'php']  \n",
       "3  ['citrix xenmobile', 'dell', 'versionone', 'sh...  \n",
       "4                                                 []  "
      ]
     },
     "execution_count": 3,
     "metadata": {},
     "output_type": "execute_result"
    }
   ],
   "source": [
    "summary.head()"
   ]
  },
  {
   "cell_type": "code",
   "execution_count": 4,
   "metadata": {},
   "outputs": [],
   "source": [
    "# dataa = summary[['id','summaries','exact_matched_patt_contextual','BERT_Tags']]\n",
    "\n",
    "# dataa = summary[['ID','summaries','exact_matched_patt_contextual','string_matched']]"
   ]
  },
  {
   "cell_type": "code",
   "execution_count": 5,
   "metadata": {},
   "outputs": [],
   "source": [
    "# summary=dataa"
   ]
  },
  {
   "cell_type": "code",
   "execution_count": 4,
   "metadata": {
    "id": "urN31hx3L4b6"
   },
   "outputs": [],
   "source": [
    "summary = summary.sort_values(by=['id'], ascending=False)\n",
    "summary.reset_index(inplace = True, drop = True)"
   ]
  },
  {
   "cell_type": "code",
   "execution_count": 5,
   "metadata": {},
   "outputs": [],
   "source": [
    "# col_name_op = \"BERT_Tags\"\n",
    "col_name_op =\"BERT_ENG+string_matched\"\n",
    "# col_name_op = \"string_matched\""
   ]
  },
  {
   "cell_type": "code",
   "execution_count": 6,
   "metadata": {},
   "outputs": [],
   "source": [
    "# Pass the matched technology column that we got\n",
    "def convert_data_format(df,column_name):\n",
    "    \n",
    "    for i in range(0, len(df)):\n",
    "        \n",
    "        if df[column_name][i][0] == '[':\n",
    "            res = ast.literal_eval(df[column_name][i])\n",
    "            df[column_name][i] = res\n",
    "            \n",
    "        else:\n",
    "            x = []\n",
    "            x.insert(0, df[column_name][i])\n",
    "            df[column_name][i] = x\n",
    "            \n",
    "    return df\n",
    "\n",
    "df_cm = summary"
   ]
  },
  {
   "cell_type": "code",
   "execution_count": 7,
   "metadata": {
    "id": "HmN4Ivz3L4b8"
   },
   "outputs": [
    {
     "name": "stderr",
     "output_type": "stream",
     "text": [
      "/Users/mohitbagaria/anaconda3/lib/python3.7/site-packages/ipykernel_launcher.py:8: SettingWithCopyWarning: \n",
      "A value is trying to be set on a copy of a slice from a DataFrame\n",
      "\n",
      "See the caveats in the documentation: http://pandas.pydata.org/pandas-docs/stable/indexing.html#indexing-view-versus-copy\n",
      "  \n"
     ]
    }
   ],
   "source": [
    "df_cm = convert_data_format(df_cm, col_name_op)"
   ]
  },
  {
   "cell_type": "code",
   "execution_count": 8,
   "metadata": {},
   "outputs": [
    {
     "name": "stderr",
     "output_type": "stream",
     "text": [
      "/Users/mohitbagaria/anaconda3/lib/python3.7/site-packages/ipykernel_launcher.py:8: SettingWithCopyWarning: \n",
      "A value is trying to be set on a copy of a slice from a DataFrame\n",
      "\n",
      "See the caveats in the documentation: http://pandas.pydata.org/pandas-docs/stable/indexing.html#indexing-view-versus-copy\n",
      "  \n"
     ]
    }
   ],
   "source": [
    "df_cm = convert_data_format(df_cm, \"exact_matched_patt_contextual\")"
   ]
  },
  {
   "cell_type": "code",
   "execution_count": 9,
   "metadata": {},
   "outputs": [
    {
     "data": {
      "text/plain": [
       "[]"
      ]
     },
     "execution_count": 9,
     "metadata": {},
     "output_type": "execute_result"
    }
   ],
   "source": [
    "df_cm[col_name_op][12]"
   ]
  },
  {
   "cell_type": "code",
   "execution_count": 10,
   "metadata": {},
   "outputs": [
    {
     "data": {
      "text/plain": [
       "['gmail']"
      ]
     },
     "execution_count": 10,
     "metadata": {},
     "output_type": "execute_result"
    }
   ],
   "source": [
    "df_cm[\"exact_matched_patt_contextual\"][12]"
   ]
  },
  {
   "cell_type": "code",
   "execution_count": 11,
   "metadata": {},
   "outputs": [
    {
     "data": {
      "text/plain": [
       "362"
      ]
     },
     "execution_count": 11,
     "metadata": {},
     "output_type": "execute_result"
    }
   ],
   "source": [
    "count_context_technologies = []\n",
    "\n",
    "for i in range(0, len(df_cm)):\n",
    "    count_context_technologies.extend(df_cm[\"exact_matched_patt_contextual\"][i])\n",
    "d = list(set(count_context_technologies))\n",
    "len(d)"
   ]
  },
  {
   "cell_type": "markdown",
   "metadata": {
    "id": "nB5FwA4kL4b9"
   },
   "source": [
    "# Converting into dataformat to compare two strings"
   ]
  },
  {
   "cell_type": "code",
   "execution_count": 12,
   "metadata": {
    "id": "royjvg14L4b9"
   },
   "outputs": [],
   "source": [
    "# TP: present in both sheet i==j\n",
    "# TN: not in both (insignificant)\n",
    "# FP: in extracted sheet but not in manual tagging     i!=j\n",
    "# FN: in manual tagging and is not in extracted tagging j"
   ]
  },
  {
   "cell_type": "code",
   "execution_count": 13,
   "metadata": {
    "id": "PK5FRNxTL4b_"
   },
   "outputs": [],
   "source": [
    "tp = []\n",
    "tn = []\n",
    "fp = []\n",
    "fn = []"
   ]
  },
  {
   "cell_type": "code",
   "execution_count": 14,
   "metadata": {
    "id": "W-XM1LmCL4b_"
   },
   "outputs": [
    {
     "data": {
      "text/html": [
       "<div>\n",
       "<style scoped>\n",
       "    .dataframe tbody tr th:only-of-type {\n",
       "        vertical-align: middle;\n",
       "    }\n",
       "\n",
       "    .dataframe tbody tr th {\n",
       "        vertical-align: top;\n",
       "    }\n",
       "\n",
       "    .dataframe thead th {\n",
       "        text-align: right;\n",
       "    }\n",
       "</style>\n",
       "<table border=\"1\" class=\"dataframe\">\n",
       "  <thead>\n",
       "    <tr style=\"text-align: right;\">\n",
       "      <th></th>\n",
       "      <th>Unnamed: 0</th>\n",
       "      <th>id</th>\n",
       "      <th>summaries</th>\n",
       "      <th>exact_matched_patt_contextual</th>\n",
       "      <th>BERT_ENG+string_matched</th>\n",
       "    </tr>\n",
       "  </thead>\n",
       "  <tbody>\n",
       "    <tr>\n",
       "      <th>0</th>\n",
       "      <td>384</td>\n",
       "      <td>zeExhAA-r0lbcTQH41BlFg_0000</td>\n",
       "      <td>senior account manager at verizon enterprise ...</td>\n",
       "      <td>[verizon enterprise]</td>\n",
       "      <td>[verizon enterprise]</td>\n",
       "    </tr>\n",
       "    <tr>\n",
       "      <th>1</th>\n",
       "      <td>386</td>\n",
       "      <td>zSvilx9nLA2ADlgkbh0Avw_0000</td>\n",
       "      <td>12 years of software development experience o...</td>\n",
       "      <td>[microsoft.net, asp.net, java, jquery, html, j...</td>\n",
       "      <td>[html, angular, jquery mobile, nunit, java, an...</td>\n",
       "    </tr>\n",
       "    <tr>\n",
       "      <th>2</th>\n",
       "      <td>381</td>\n",
       "      <td>z5Kl-V2w51Z-6uhXbNCRrQ_0000</td>\n",
       "      <td>ours excavating is a commercial excavating de...</td>\n",
       "      <td>[gmail]</td>\n",
       "      <td>[]</td>\n",
       "    </tr>\n",
       "    <tr>\n",
       "      <th>3</th>\n",
       "      <td>375</td>\n",
       "      <td>yCI14syBYDiD3pwIDKVEKQ_0000</td>\n",
       "      <td>getting things done voor iedere uitdaging de ...</td>\n",
       "      <td>[gmail]</td>\n",
       "      <td>[]</td>\n",
       "    </tr>\n",
       "    <tr>\n",
       "      <th>4</th>\n",
       "      <td>370</td>\n",
       "      <td>xuMF3K3aFCBGMOElWU0WTA_0000</td>\n",
       "      <td>12 +years of experience in development qa dev...</td>\n",
       "      <td>[java, selenium]</td>\n",
       "      <td>[java, sap erp, selenium, j2ee, eclipse]</td>\n",
       "    </tr>\n",
       "  </tbody>\n",
       "</table>\n",
       "</div>"
      ],
      "text/plain": [
       "   Unnamed: 0                           id  \\\n",
       "0         384  zeExhAA-r0lbcTQH41BlFg_0000   \n",
       "1         386  zSvilx9nLA2ADlgkbh0Avw_0000   \n",
       "2         381  z5Kl-V2w51Z-6uhXbNCRrQ_0000   \n",
       "3         375  yCI14syBYDiD3pwIDKVEKQ_0000   \n",
       "4         370  xuMF3K3aFCBGMOElWU0WTA_0000   \n",
       "\n",
       "                                           summaries  \\\n",
       "0   senior account manager at verizon enterprise ...   \n",
       "1   12 years of software development experience o...   \n",
       "2   ours excavating is a commercial excavating de...   \n",
       "3   getting things done voor iedere uitdaging de ...   \n",
       "4   12 +years of experience in development qa dev...   \n",
       "\n",
       "                       exact_matched_patt_contextual  \\\n",
       "0                               [verizon enterprise]   \n",
       "1  [microsoft.net, asp.net, java, jquery, html, j...   \n",
       "2                                            [gmail]   \n",
       "3                                            [gmail]   \n",
       "4                                   [java, selenium]   \n",
       "\n",
       "                             BERT_ENG+string_matched  \n",
       "0                               [verizon enterprise]  \n",
       "1  [html, angular, jquery mobile, nunit, java, an...  \n",
       "2                                                 []  \n",
       "3                                                 []  \n",
       "4           [java, sap erp, selenium, j2ee, eclipse]  "
      ]
     },
     "execution_count": 14,
     "metadata": {},
     "output_type": "execute_result"
    }
   ],
   "source": [
    "TP = TN = FP = FN = 0\n",
    "\n",
    "# TP + FP calculation\n",
    "# op_string = exact_matched_patt\n",
    "# , manual_tagged_string = Actual/Actual(NER)\n",
    "\n",
    "df_cm.head()"
   ]
  },
  {
   "cell_type": "code",
   "execution_count": 15,
   "metadata": {
    "id": "nJisBsXOL4b_"
   },
   "outputs": [],
   "source": [
    "df_cm[\"exact_matched_patt_contextual\"] = df_cm[\"exact_matched_patt_contextual\"].fillna('[]')\n",
    "\n",
    "# # reading \n",
    "# tech = pd.read_csv(\"/Users/mohitbagaria/Downloads/spacy_string_match/Eng_pydictionary_2.csv\")\n",
    "# # tech = pd.read_csv(\"Tech_pydictionary_2.csv\")\n",
    "\n",
    "# tech.columns = [\"index\", \"title\"]\n",
    "# tech.drop(columns = [\"index\"], axis =1 , inplace = True)\n",
    "# tech.reset_index(inplace = True, drop = True)"
   ]
  },
  {
   "cell_type": "code",
   "execution_count": 16,
   "metadata": {},
   "outputs": [],
   "source": [
    "# tech.head()"
   ]
  },
  {
   "cell_type": "code",
   "execution_count": 17,
   "metadata": {},
   "outputs": [],
   "source": [
    "# tech_list = tech[\"title\"].tolist()\n",
    "# tech_list = list(set(tech_list))\n",
    "# len(tech_list)"
   ]
  },
  {
   "cell_type": "code",
   "execution_count": 18,
   "metadata": {},
   "outputs": [],
   "source": [
    "# for i in range(0, len(tech_list)):\n",
    "#     tech_list[i] = tech_list[i].lower()"
   ]
  },
  {
   "cell_type": "code",
   "execution_count": 19,
   "metadata": {},
   "outputs": [],
   "source": [
    "# tech_list"
   ]
  },
  {
   "cell_type": "code",
   "execution_count": 20,
   "metadata": {},
   "outputs": [],
   "source": [
    "# tech_tag_list = []\n",
    "\n",
    "# def get_tech_tagged_data(manually_tagged, tech_list):\n",
    "#     manually_tagged_copy = manually_tagged\n",
    "#     for word in list(manually_tagged):\n",
    "# #         print(word)\n",
    "#         if word not in tech_list:\n",
    "#             manually_tagged.remove(word)\n",
    "#     return manually_tagged"
   ]
  },
  {
   "cell_type": "code",
   "execution_count": 21,
   "metadata": {},
   "outputs": [],
   "source": [
    "# df_cm.head()"
   ]
  },
  {
   "cell_type": "code",
   "execution_count": null,
   "metadata": {},
   "outputs": [],
   "source": []
  },
  {
   "cell_type": "code",
   "execution_count": 22,
   "metadata": {},
   "outputs": [
    {
     "name": "stderr",
     "output_type": "stream",
     "text": [
      "/Users/mohitbagaria/anaconda3/lib/python3.7/site-packages/ipykernel_launcher.py:3: SettingWithCopyWarning: \n",
      "A value is trying to be set on a copy of a slice from a DataFrame\n",
      "\n",
      "See the caveats in the documentation: http://pandas.pydata.org/pandas-docs/stable/indexing.html#indexing-view-versus-copy\n",
      "  This is separate from the ipykernel package so we can avoid doing imports until\n"
     ]
    }
   ],
   "source": [
    "for i in range(0, len(df_cm)):\n",
    "    l = df_cm[col_name_op][i]\n",
    "    df_cm[col_name_op][i] = [0 if element == '0' else element for element in l]"
   ]
  },
  {
   "cell_type": "code",
   "execution_count": 23,
   "metadata": {},
   "outputs": [],
   "source": [
    "for i in range(0, len(df_cm)):\n",
    "  words = df_cm[col_name_op][i]\n",
    "  stopwords = [0]\n",
    "  for word in list(words):\n",
    "    if word in stopwords:\n",
    "      words.remove(word)"
   ]
  },
  {
   "cell_type": "code",
   "execution_count": 24,
   "metadata": {},
   "outputs": [],
   "source": [
    "def Diff(li1, li2): #FP entries\n",
    "    return list(set(li2)-set(li1))"
   ]
  },
  {
   "cell_type": "code",
   "execution_count": 25,
   "metadata": {},
   "outputs": [],
   "source": [
    "def Same(lis1,lis2): #TP entries\n",
    "    return list(set(lis1).intersection(lis2))"
   ]
  },
  {
   "cell_type": "code",
   "execution_count": 26,
   "metadata": {},
   "outputs": [],
   "source": [
    "def Common(lis1,lis2):\n",
    "    return list(set(lis1)-(set(lis2)))"
   ]
  },
  {
   "cell_type": "code",
   "execution_count": 27,
   "metadata": {},
   "outputs": [],
   "source": [
    "# list of technologies which are not in extracted list but are in tagged list i.e. FN entries\n",
    "df_cm['FP_entries'] = df_cm.apply(lambda x: Diff(x[\"exact_matched_patt_contextual\"], x[col_name_op]), axis = 1)"
   ]
  },
  {
   "cell_type": "code",
   "execution_count": 28,
   "metadata": {},
   "outputs": [],
   "source": [
    "# list of technologies which are in extracted list and are in tagged list i.e. TP entries\n",
    "df_cm['TP_entries'] = df_cm.apply(lambda x: Same(x[\"exact_matched_patt_contextual\"], x[col_name_op]), axis = 1)"
   ]
  },
  {
   "cell_type": "code",
   "execution_count": 29,
   "metadata": {},
   "outputs": [],
   "source": [
    "# list of technologies which are NOT extracted list and are in tagged list i.e. FN entries\n",
    "df_cm['FN_entries'] = df_cm.apply(lambda x: Common(x[\"exact_matched_patt_contextual\"], x[col_name_op]), axis = 1)"
   ]
  },
  {
   "cell_type": "code",
   "execution_count": 30,
   "metadata": {},
   "outputs": [
    {
     "data": {
      "text/html": [
       "<div>\n",
       "<style scoped>\n",
       "    .dataframe tbody tr th:only-of-type {\n",
       "        vertical-align: middle;\n",
       "    }\n",
       "\n",
       "    .dataframe tbody tr th {\n",
       "        vertical-align: top;\n",
       "    }\n",
       "\n",
       "    .dataframe thead th {\n",
       "        text-align: right;\n",
       "    }\n",
       "</style>\n",
       "<table border=\"1\" class=\"dataframe\">\n",
       "  <thead>\n",
       "    <tr style=\"text-align: right;\">\n",
       "      <th></th>\n",
       "      <th>Unnamed: 0</th>\n",
       "      <th>id</th>\n",
       "      <th>summaries</th>\n",
       "      <th>exact_matched_patt_contextual</th>\n",
       "      <th>BERT_ENG+string_matched</th>\n",
       "      <th>FP_entries</th>\n",
       "      <th>TP_entries</th>\n",
       "      <th>FN_entries</th>\n",
       "    </tr>\n",
       "  </thead>\n",
       "  <tbody>\n",
       "    <tr>\n",
       "      <th>0</th>\n",
       "      <td>384</td>\n",
       "      <td>zeExhAA-r0lbcTQH41BlFg_0000</td>\n",
       "      <td>senior account manager at verizon enterprise ...</td>\n",
       "      <td>[verizon enterprise]</td>\n",
       "      <td>[verizon enterprise]</td>\n",
       "      <td>[]</td>\n",
       "      <td>[verizon enterprise]</td>\n",
       "      <td>[]</td>\n",
       "    </tr>\n",
       "    <tr>\n",
       "      <th>1</th>\n",
       "      <td>386</td>\n",
       "      <td>zSvilx9nLA2ADlgkbh0Avw_0000</td>\n",
       "      <td>12 years of software development experience o...</td>\n",
       "      <td>[microsoft.net, asp.net, java, jquery, html, j...</td>\n",
       "      <td>[html, angular, jquery mobile, nunit, java, an...</td>\n",
       "      <td>[jquery mobile]</td>\n",
       "      <td>[javascript, angularjs, nunit, angular, rabbit...</td>\n",
       "      <td>[microsoft.net, asp.net]</td>\n",
       "    </tr>\n",
       "    <tr>\n",
       "      <th>2</th>\n",
       "      <td>381</td>\n",
       "      <td>z5Kl-V2w51Z-6uhXbNCRrQ_0000</td>\n",
       "      <td>ours excavating is a commercial excavating de...</td>\n",
       "      <td>[gmail]</td>\n",
       "      <td>[]</td>\n",
       "      <td>[]</td>\n",
       "      <td>[]</td>\n",
       "      <td>[gmail]</td>\n",
       "    </tr>\n",
       "    <tr>\n",
       "      <th>3</th>\n",
       "      <td>375</td>\n",
       "      <td>yCI14syBYDiD3pwIDKVEKQ_0000</td>\n",
       "      <td>getting things done voor iedere uitdaging de ...</td>\n",
       "      <td>[gmail]</td>\n",
       "      <td>[]</td>\n",
       "      <td>[]</td>\n",
       "      <td>[]</td>\n",
       "      <td>[gmail]</td>\n",
       "    </tr>\n",
       "    <tr>\n",
       "      <th>4</th>\n",
       "      <td>370</td>\n",
       "      <td>xuMF3K3aFCBGMOElWU0WTA_0000</td>\n",
       "      <td>12 +years of experience in development qa dev...</td>\n",
       "      <td>[java, selenium]</td>\n",
       "      <td>[java, sap erp, selenium, j2ee, eclipse]</td>\n",
       "      <td>[j2ee, sap erp, eclipse]</td>\n",
       "      <td>[selenium, java]</td>\n",
       "      <td>[]</td>\n",
       "    </tr>\n",
       "    <tr>\n",
       "      <th>5</th>\n",
       "      <td>368</td>\n",
       "      <td>xlZw0zgxhTJ34Zkj8qz3ow_0000</td>\n",
       "      <td>i am an upcoming graduate from the university...</td>\n",
       "      <td>[gmail]</td>\n",
       "      <td>[]</td>\n",
       "      <td>[]</td>\n",
       "      <td>[]</td>\n",
       "      <td>[gmail]</td>\n",
       "    </tr>\n",
       "    <tr>\n",
       "      <th>6</th>\n",
       "      <td>366</td>\n",
       "      <td>xi1WETjz2xTW4jBSE8U8DQ_0000</td>\n",
       "      <td>specialties advertising technology agile soft...</td>\n",
       "      <td>[java, javascript]</td>\n",
       "      <td>[javascript, java]</td>\n",
       "      <td>[]</td>\n",
       "      <td>[java, javascript]</td>\n",
       "      <td>[]</td>\n",
       "    </tr>\n",
       "    <tr>\n",
       "      <th>7</th>\n",
       "      <td>365</td>\n",
       "      <td>xfwmFMDDgwYyhZMc1MJcpg_0000</td>\n",
       "      <td>cpa eligible currently taking cpa exams and a...</td>\n",
       "      <td>[gmail]</td>\n",
       "      <td>[]</td>\n",
       "      <td>[]</td>\n",
       "      <td>[]</td>\n",
       "      <td>[gmail]</td>\n",
       "    </tr>\n",
       "    <tr>\n",
       "      <th>8</th>\n",
       "      <td>361</td>\n",
       "      <td>wy3R8tztPGIHWzOl1wTTOg_0000</td>\n",
       "      <td>an experienced test consultant in the field o...</td>\n",
       "      <td>[ibm rational, soapui, selenium, javascript, j...</td>\n",
       "      <td>[soapui, java, python, selenium, perl, javascr...</td>\n",
       "      <td>[]</td>\n",
       "      <td>[ibm rational, perl, selenium, soapui, javascr...</td>\n",
       "      <td>[]</td>\n",
       "    </tr>\n",
       "    <tr>\n",
       "      <th>9</th>\n",
       "      <td>354</td>\n",
       "      <td>wmiO3uJcgJcjGMruOdWykg_0000</td>\n",
       "      <td>an accomplished resultsoriented customer supp...</td>\n",
       "      <td>[gmail]</td>\n",
       "      <td>[]</td>\n",
       "      <td>[]</td>\n",
       "      <td>[]</td>\n",
       "      <td>[gmail]</td>\n",
       "    </tr>\n",
       "    <tr>\n",
       "      <th>10</th>\n",
       "      <td>352</td>\n",
       "      <td>wfeb9x1PszS-BeaAlBlS4w_0000</td>\n",
       "      <td>i am a selfstarter with a passion for busines...</td>\n",
       "      <td>[google analytics]</td>\n",
       "      <td>[]</td>\n",
       "      <td>[]</td>\n",
       "      <td>[]</td>\n",
       "      <td>[google analytics]</td>\n",
       "    </tr>\n",
       "    <tr>\n",
       "      <th>11</th>\n",
       "      <td>359</td>\n",
       "      <td>wTue5Ls4a6DY7MB4rxCynw_0000</td>\n",
       "      <td>im an extrovert with good managerial skills h...</td>\n",
       "      <td>[adobe, forte]</td>\n",
       "      <td>[adobe, swift, forte, adobe photoshop]</td>\n",
       "      <td>[swift, adobe photoshop]</td>\n",
       "      <td>[forte, adobe]</td>\n",
       "      <td>[]</td>\n",
       "    </tr>\n",
       "    <tr>\n",
       "      <th>12</th>\n",
       "      <td>356</td>\n",
       "      <td>wPQdim5iOSpeJnA5zh5lHA_0000</td>\n",
       "      <td>goals involve using systems engineering and l...</td>\n",
       "      <td>[gmail]</td>\n",
       "      <td>[]</td>\n",
       "      <td>[]</td>\n",
       "      <td>[]</td>\n",
       "      <td>[gmail]</td>\n",
       "    </tr>\n",
       "    <tr>\n",
       "      <th>13</th>\n",
       "      <td>355</td>\n",
       "      <td>wMr2Z7wACq1tSdfGQrWP2Q_0000</td>\n",
       "      <td>i have been working in the film and tv indust...</td>\n",
       "      <td>[gmail]</td>\n",
       "      <td>[]</td>\n",
       "      <td>[]</td>\n",
       "      <td>[]</td>\n",
       "      <td>[gmail]</td>\n",
       "    </tr>\n",
       "    <tr>\n",
       "      <th>14</th>\n",
       "      <td>351</td>\n",
       "      <td>wAXzF14t17vJAESEBSbWEA_0000</td>\n",
       "      <td>experienced developer java bpm and mainframe ...</td>\n",
       "      <td>[java, informatica, spring, html, javascript, ...</td>\n",
       "      <td>[html, javascript, linux, spring, java, jboss,...</td>\n",
       "      <td>[]</td>\n",
       "      <td>[linux, jboss, cobol, jenkins, jcl, informatic...</td>\n",
       "      <td>[]</td>\n",
       "    </tr>\n",
       "  </tbody>\n",
       "</table>\n",
       "</div>"
      ],
      "text/plain": [
       "    Unnamed: 0                           id  \\\n",
       "0          384  zeExhAA-r0lbcTQH41BlFg_0000   \n",
       "1          386  zSvilx9nLA2ADlgkbh0Avw_0000   \n",
       "2          381  z5Kl-V2w51Z-6uhXbNCRrQ_0000   \n",
       "3          375  yCI14syBYDiD3pwIDKVEKQ_0000   \n",
       "4          370  xuMF3K3aFCBGMOElWU0WTA_0000   \n",
       "5          368  xlZw0zgxhTJ34Zkj8qz3ow_0000   \n",
       "6          366  xi1WETjz2xTW4jBSE8U8DQ_0000   \n",
       "7          365  xfwmFMDDgwYyhZMc1MJcpg_0000   \n",
       "8          361  wy3R8tztPGIHWzOl1wTTOg_0000   \n",
       "9          354  wmiO3uJcgJcjGMruOdWykg_0000   \n",
       "10         352  wfeb9x1PszS-BeaAlBlS4w_0000   \n",
       "11         359  wTue5Ls4a6DY7MB4rxCynw_0000   \n",
       "12         356  wPQdim5iOSpeJnA5zh5lHA_0000   \n",
       "13         355  wMr2Z7wACq1tSdfGQrWP2Q_0000   \n",
       "14         351  wAXzF14t17vJAESEBSbWEA_0000   \n",
       "\n",
       "                                            summaries  \\\n",
       "0    senior account manager at verizon enterprise ...   \n",
       "1    12 years of software development experience o...   \n",
       "2    ours excavating is a commercial excavating de...   \n",
       "3    getting things done voor iedere uitdaging de ...   \n",
       "4    12 +years of experience in development qa dev...   \n",
       "5    i am an upcoming graduate from the university...   \n",
       "6    specialties advertising technology agile soft...   \n",
       "7    cpa eligible currently taking cpa exams and a...   \n",
       "8    an experienced test consultant in the field o...   \n",
       "9    an accomplished resultsoriented customer supp...   \n",
       "10   i am a selfstarter with a passion for busines...   \n",
       "11   im an extrovert with good managerial skills h...   \n",
       "12   goals involve using systems engineering and l...   \n",
       "13   i have been working in the film and tv indust...   \n",
       "14   experienced developer java bpm and mainframe ...   \n",
       "\n",
       "                        exact_matched_patt_contextual  \\\n",
       "0                                [verizon enterprise]   \n",
       "1   [microsoft.net, asp.net, java, jquery, html, j...   \n",
       "2                                             [gmail]   \n",
       "3                                             [gmail]   \n",
       "4                                    [java, selenium]   \n",
       "5                                             [gmail]   \n",
       "6                                  [java, javascript]   \n",
       "7                                             [gmail]   \n",
       "8   [ibm rational, soapui, selenium, javascript, j...   \n",
       "9                                             [gmail]   \n",
       "10                                 [google analytics]   \n",
       "11                                     [adobe, forte]   \n",
       "12                                            [gmail]   \n",
       "13                                            [gmail]   \n",
       "14  [java, informatica, spring, html, javascript, ...   \n",
       "\n",
       "                              BERT_ENG+string_matched  \\\n",
       "0                                [verizon enterprise]   \n",
       "1   [html, angular, jquery mobile, nunit, java, an...   \n",
       "2                                                  []   \n",
       "3                                                  []   \n",
       "4            [java, sap erp, selenium, j2ee, eclipse]   \n",
       "5                                                  []   \n",
       "6                                  [javascript, java]   \n",
       "7                                                  []   \n",
       "8   [soapui, java, python, selenium, perl, javascr...   \n",
       "9                                                  []   \n",
       "10                                                 []   \n",
       "11             [adobe, swift, forte, adobe photoshop]   \n",
       "12                                                 []   \n",
       "13                                                 []   \n",
       "14  [html, javascript, linux, spring, java, jboss,...   \n",
       "\n",
       "                  FP_entries  \\\n",
       "0                         []   \n",
       "1            [jquery mobile]   \n",
       "2                         []   \n",
       "3                         []   \n",
       "4   [j2ee, sap erp, eclipse]   \n",
       "5                         []   \n",
       "6                         []   \n",
       "7                         []   \n",
       "8                         []   \n",
       "9                         []   \n",
       "10                        []   \n",
       "11  [swift, adobe photoshop]   \n",
       "12                        []   \n",
       "13                        []   \n",
       "14                        []   \n",
       "\n",
       "                                           TP_entries  \\\n",
       "0                                [verizon enterprise]   \n",
       "1   [javascript, angularjs, nunit, angular, rabbit...   \n",
       "2                                                  []   \n",
       "3                                                  []   \n",
       "4                                    [selenium, java]   \n",
       "5                                                  []   \n",
       "6                                  [java, javascript]   \n",
       "7                                                  []   \n",
       "8   [ibm rational, perl, selenium, soapui, javascr...   \n",
       "9                                                  []   \n",
       "10                                                 []   \n",
       "11                                     [forte, adobe]   \n",
       "12                                                 []   \n",
       "13                                                 []   \n",
       "14  [linux, jboss, cobol, jenkins, jcl, informatic...   \n",
       "\n",
       "                  FN_entries  \n",
       "0                         []  \n",
       "1   [microsoft.net, asp.net]  \n",
       "2                    [gmail]  \n",
       "3                    [gmail]  \n",
       "4                         []  \n",
       "5                    [gmail]  \n",
       "6                         []  \n",
       "7                    [gmail]  \n",
       "8                         []  \n",
       "9                    [gmail]  \n",
       "10        [google analytics]  \n",
       "11                        []  \n",
       "12                   [gmail]  \n",
       "13                   [gmail]  \n",
       "14                        []  "
      ]
     },
     "execution_count": 30,
     "metadata": {},
     "output_type": "execute_result"
    }
   ],
   "source": [
    "df_cm.head(15)"
   ]
  },
  {
   "cell_type": "code",
   "execution_count": 31,
   "metadata": {},
   "outputs": [],
   "source": [
    "# df_cm.to_csv(\"bert_eng_accuracy_M1_with_entries.csv\", index = False)"
   ]
  },
  {
   "cell_type": "code",
   "execution_count": 32,
   "metadata": {
    "id": "iktQD7-SL4cA"
   },
   "outputs": [],
   "source": [
    "def get_TP(df,manual_tagged_string,op_string):\n",
    "    \n",
    "    for ind in df.index:\n",
    "        TP = FP = 0\n",
    "        \n",
    "        for i in range(0, len(df[op_string][ind])):\n",
    "            \n",
    "            if df[op_string][ind][i] in df[manual_tagged_string][ind]:\n",
    "                TP = TP + 1\n",
    "                \n",
    "            else:\n",
    "                pass\n",
    "                \n",
    "        tp.append(TP)\n",
    "\n",
    "    return tp"
   ]
  },
  {
   "cell_type": "code",
   "execution_count": 33,
   "metadata": {},
   "outputs": [],
   "source": [
    "fp_entry =[]\n",
    "# fn_entry = []"
   ]
  },
  {
   "cell_type": "code",
   "execution_count": 34,
   "metadata": {
    "id": "5zJ2Qy8pL4cA"
   },
   "outputs": [],
   "source": [
    "# import numpy as np\n",
    "# list_1 = [\"a\", \"b\", \"c\", \"d\", \"e\"]\n",
    "# list_2 = [\"a\", \"f\", \"c\", \"m\"] \n",
    "# # yields the elements in `list_2` that are NOT in `list_1`\n",
    "# main_list = np.setdiff1d(list_2,list_1)\n",
    "# yields the elements in `list_2` that are NOT in `list_1`\n",
    "\n",
    "\n",
    "\n",
    "def get_FP(df,manual_tagged_string, op_string):\n",
    "    \n",
    "    for ind in df.index:\n",
    "        main_list = np.setdiff1d(df[op_string][ind],df[manual_tagged_string][ind])\n",
    "        fp.append(len(main_list))\n",
    "        fp_entry.append(main_list)\n",
    "        \n",
    "        \n",
    "    return fp, fp_entry"
   ]
  },
  {
   "cell_type": "code",
   "execution_count": 35,
   "metadata": {
    "id": "BMn9F9K2L4cA"
   },
   "outputs": [],
   "source": [
    "# ORIGINAL\n",
    "# def get_FN(df,manual_tagged_string, op_string):\n",
    "    \n",
    "#     for ind in df.index:\n",
    "        \n",
    "#         main_list = np.setdiff1d(df[manual_tagged_string][ind], df[op_string][ind])\n",
    "#         fn.append(len(main_list))\n",
    "        \n",
    "#     return fn"
   ]
  },
  {
   "cell_type": "code",
   "execution_count": 36,
   "metadata": {},
   "outputs": [],
   "source": [
    "def get_FN(df,manual_tagged_string, op_string):\n",
    "    \n",
    "    for ind in df.index:\n",
    "        \n",
    "        main_list = np.setdiff1d(df[manual_tagged_string][ind], df[op_string][ind])\n",
    "        if df[manual_tagged_string][ind]=='[]':\n",
    "            fn.append(0)\n",
    "        else:\n",
    "            fn.append(len(main_list))\n",
    "        \n",
    "    return fn"
   ]
  },
  {
   "cell_type": "code",
   "execution_count": 37,
   "metadata": {},
   "outputs": [],
   "source": [
    "# entry like Empty|list of technology output\n"
   ]
  },
  {
   "cell_type": "code",
   "execution_count": 38,
   "metadata": {},
   "outputs": [],
   "source": [
    "# def get_FN(df,manual_tagged_string, op_string):\n",
    "    \n",
    "#     for ind in df.index:\n",
    "        \n",
    "#         main_list = np.setdiff1d(df[manual_tagged_string][ind], df[op_string][ind])\n",
    "#         if (manual_tagged_string[ind] == \"[]\"or manual_tagged_string[ind] == \"\"):\n",
    "#             fn.append(0)\n",
    "#         else:\n",
    "#             fn.append(len(main_list))\n",
    "        \n",
    "#     return fn"
   ]
  },
  {
   "cell_type": "code",
   "execution_count": 39,
   "metadata": {
    "id": "jq8qjL0lL4cA"
   },
   "outputs": [],
   "source": [
    "# function call\n",
    "tp = get_TP(df_cm, \"exact_matched_patt_contextual\", col_name_op)\n",
    "fp, fp_entry_names = get_FP(df_cm, \"exact_matched_patt_contextual\", col_name_op)\n",
    "fn = get_FN(df_cm, \"exact_matched_patt_contextual\", col_name_op)\n",
    "\n",
    "# tp = get_TP(df_cm, \"Tech_Label\", col_name_op)\n",
    "# fp, fp_entry_names = get_FP(df_cm, \"Tech_Label\", col_name_op)\n",
    "# fn = get_FN(df_cm, \"Tech_Label\", col_name_op)\n",
    "\n",
    "\n",
    "# tp = get_TP(df_cm, \"Technology\", col_name_op)\n",
    "# fp = get_FP(df_cm, \"Technology\", col_name_op)\n",
    "# fn = get_FN(df_cm, \"Technology\", col_name_op)"
   ]
  },
  {
   "cell_type": "code",
   "execution_count": 40,
   "metadata": {},
   "outputs": [],
   "source": [
    "# tp"
   ]
  },
  {
   "cell_type": "code",
   "execution_count": 41,
   "metadata": {
    "colab": {
     "base_uri": "https://localhost:8080/"
    },
    "id": "pK2mL9yOL4cB",
    "outputId": "020334f1-19f7-4300-d4e6-12a3476dcf1f"
   },
   "outputs": [
    {
     "name": "stdout",
     "output_type": "stream",
     "text": [
      "391 391 391\n"
     ]
    }
   ],
   "source": [
    "print(len(tp), len(fp), len(fn))"
   ]
  },
  {
   "cell_type": "code",
   "execution_count": 42,
   "metadata": {},
   "outputs": [
    {
     "data": {
      "text/plain": [
       "391"
      ]
     },
     "execution_count": 42,
     "metadata": {},
     "output_type": "execute_result"
    }
   ],
   "source": [
    "len(fp_entry_names)"
   ]
  },
  {
   "cell_type": "code",
   "execution_count": 43,
   "metadata": {},
   "outputs": [
    {
     "data": {
      "text/plain": [
       "list"
      ]
     },
     "execution_count": 43,
     "metadata": {},
     "output_type": "execute_result"
    }
   ],
   "source": [
    "type(fp_entry_names)"
   ]
  },
  {
   "cell_type": "code",
   "execution_count": 44,
   "metadata": {},
   "outputs": [],
   "source": [
    "dict_fp = {}"
   ]
  },
  {
   "cell_type": "code",
   "execution_count": 45,
   "metadata": {},
   "outputs": [],
   "source": [
    "for i in range(0, len(fp_entry_names)):\n",
    "    fp_entry_names[i] = fp_entry_names[i].tolist()\n",
    "    dict_fp[i] = fp_entry_names[i]"
   ]
  },
  {
   "cell_type": "code",
   "execution_count": 46,
   "metadata": {},
   "outputs": [],
   "source": [
    "# dict_fp"
   ]
  },
  {
   "cell_type": "code",
   "execution_count": 47,
   "metadata": {},
   "outputs": [],
   "source": [
    "# for i in range(0, len(fn_entry_names)):\n",
    "# #     fn_entry_names[i] = fn_entry_names[i].tolist()\n",
    "#     dict_fn[i] = fn_entry_names[i]"
   ]
  },
  {
   "cell_type": "code",
   "execution_count": 48,
   "metadata": {},
   "outputs": [],
   "source": [
    "# dict_fn"
   ]
  },
  {
   "cell_type": "code",
   "execution_count": 49,
   "metadata": {},
   "outputs": [],
   "source": [
    "# len(dict_fp)"
   ]
  },
  {
   "cell_type": "code",
   "execution_count": 50,
   "metadata": {},
   "outputs": [],
   "source": [
    "# df_fp = pd.DataFrame(dict_fp.items(), columns=['index', 'FP_entries_string'])\n",
    "# df_fn = pd.DataFrame(dict_fp.items(), columns=['index', 'FN_entries_combined'])"
   ]
  },
  {
   "cell_type": "code",
   "execution_count": 51,
   "metadata": {},
   "outputs": [],
   "source": [
    "# len(df_fp)"
   ]
  },
  {
   "cell_type": "code",
   "execution_count": 52,
   "metadata": {},
   "outputs": [],
   "source": [
    "# df_fp_fn = pd.concat([df_fp, df_cm], axis = 1)"
   ]
  },
  {
   "cell_type": "code",
   "execution_count": 53,
   "metadata": {},
   "outputs": [],
   "source": [
    "# df_fp_fn.head()"
   ]
  },
  {
   "cell_type": "code",
   "execution_count": 54,
   "metadata": {},
   "outputs": [],
   "source": [
    "# df_fp_fn.to_csv(\"FP_combined.csv\", index = False)"
   ]
  },
  {
   "cell_type": "code",
   "execution_count": 55,
   "metadata": {
    "colab": {
     "base_uri": "https://localhost:8080/",
     "height": 419
    },
    "id": "mJJ4g_rxL4cB",
    "outputId": "77b2e10f-c14c-40de-c8fb-0727ba08fca5"
   },
   "outputs": [
    {
     "data": {
      "text/html": [
       "<div>\n",
       "<style scoped>\n",
       "    .dataframe tbody tr th:only-of-type {\n",
       "        vertical-align: middle;\n",
       "    }\n",
       "\n",
       "    .dataframe tbody tr th {\n",
       "        vertical-align: top;\n",
       "    }\n",
       "\n",
       "    .dataframe thead th {\n",
       "        text-align: right;\n",
       "    }\n",
       "</style>\n",
       "<table border=\"1\" class=\"dataframe\">\n",
       "  <thead>\n",
       "    <tr style=\"text-align: right;\">\n",
       "      <th></th>\n",
       "      <th>TP</th>\n",
       "      <th>FP</th>\n",
       "      <th>FN</th>\n",
       "    </tr>\n",
       "  </thead>\n",
       "  <tbody>\n",
       "    <tr>\n",
       "      <th>0</th>\n",
       "      <td>1</td>\n",
       "      <td>0</td>\n",
       "      <td>0</td>\n",
       "    </tr>\n",
       "    <tr>\n",
       "      <th>1</th>\n",
       "      <td>8</td>\n",
       "      <td>1</td>\n",
       "      <td>2</td>\n",
       "    </tr>\n",
       "    <tr>\n",
       "      <th>2</th>\n",
       "      <td>0</td>\n",
       "      <td>0</td>\n",
       "      <td>1</td>\n",
       "    </tr>\n",
       "    <tr>\n",
       "      <th>3</th>\n",
       "      <td>0</td>\n",
       "      <td>0</td>\n",
       "      <td>1</td>\n",
       "    </tr>\n",
       "    <tr>\n",
       "      <th>4</th>\n",
       "      <td>2</td>\n",
       "      <td>3</td>\n",
       "      <td>0</td>\n",
       "    </tr>\n",
       "    <tr>\n",
       "      <th>5</th>\n",
       "      <td>0</td>\n",
       "      <td>0</td>\n",
       "      <td>1</td>\n",
       "    </tr>\n",
       "    <tr>\n",
       "      <th>6</th>\n",
       "      <td>2</td>\n",
       "      <td>0</td>\n",
       "      <td>0</td>\n",
       "    </tr>\n",
       "    <tr>\n",
       "      <th>7</th>\n",
       "      <td>0</td>\n",
       "      <td>0</td>\n",
       "      <td>1</td>\n",
       "    </tr>\n",
       "    <tr>\n",
       "      <th>8</th>\n",
       "      <td>7</td>\n",
       "      <td>0</td>\n",
       "      <td>0</td>\n",
       "    </tr>\n",
       "    <tr>\n",
       "      <th>9</th>\n",
       "      <td>0</td>\n",
       "      <td>0</td>\n",
       "      <td>1</td>\n",
       "    </tr>\n",
       "    <tr>\n",
       "      <th>10</th>\n",
       "      <td>0</td>\n",
       "      <td>0</td>\n",
       "      <td>1</td>\n",
       "    </tr>\n",
       "    <tr>\n",
       "      <th>11</th>\n",
       "      <td>2</td>\n",
       "      <td>2</td>\n",
       "      <td>0</td>\n",
       "    </tr>\n",
       "    <tr>\n",
       "      <th>12</th>\n",
       "      <td>0</td>\n",
       "      <td>0</td>\n",
       "      <td>1</td>\n",
       "    </tr>\n",
       "    <tr>\n",
       "      <th>13</th>\n",
       "      <td>0</td>\n",
       "      <td>0</td>\n",
       "      <td>1</td>\n",
       "    </tr>\n",
       "    <tr>\n",
       "      <th>14</th>\n",
       "      <td>12</td>\n",
       "      <td>0</td>\n",
       "      <td>0</td>\n",
       "    </tr>\n",
       "    <tr>\n",
       "      <th>15</th>\n",
       "      <td>0</td>\n",
       "      <td>1</td>\n",
       "      <td>1</td>\n",
       "    </tr>\n",
       "    <tr>\n",
       "      <th>16</th>\n",
       "      <td>0</td>\n",
       "      <td>0</td>\n",
       "      <td>1</td>\n",
       "    </tr>\n",
       "    <tr>\n",
       "      <th>17</th>\n",
       "      <td>0</td>\n",
       "      <td>0</td>\n",
       "      <td>1</td>\n",
       "    </tr>\n",
       "    <tr>\n",
       "      <th>18</th>\n",
       "      <td>1</td>\n",
       "      <td>0</td>\n",
       "      <td>0</td>\n",
       "    </tr>\n",
       "    <tr>\n",
       "      <th>19</th>\n",
       "      <td>0</td>\n",
       "      <td>0</td>\n",
       "      <td>1</td>\n",
       "    </tr>\n",
       "    <tr>\n",
       "      <th>20</th>\n",
       "      <td>1</td>\n",
       "      <td>0</td>\n",
       "      <td>0</td>\n",
       "    </tr>\n",
       "    <tr>\n",
       "      <th>21</th>\n",
       "      <td>4</td>\n",
       "      <td>0</td>\n",
       "      <td>0</td>\n",
       "    </tr>\n",
       "    <tr>\n",
       "      <th>22</th>\n",
       "      <td>1</td>\n",
       "      <td>0</td>\n",
       "      <td>0</td>\n",
       "    </tr>\n",
       "    <tr>\n",
       "      <th>23</th>\n",
       "      <td>12</td>\n",
       "      <td>2</td>\n",
       "      <td>1</td>\n",
       "    </tr>\n",
       "    <tr>\n",
       "      <th>24</th>\n",
       "      <td>0</td>\n",
       "      <td>0</td>\n",
       "      <td>1</td>\n",
       "    </tr>\n",
       "    <tr>\n",
       "      <th>25</th>\n",
       "      <td>2</td>\n",
       "      <td>1</td>\n",
       "      <td>0</td>\n",
       "    </tr>\n",
       "    <tr>\n",
       "      <th>26</th>\n",
       "      <td>5</td>\n",
       "      <td>0</td>\n",
       "      <td>0</td>\n",
       "    </tr>\n",
       "    <tr>\n",
       "      <th>27</th>\n",
       "      <td>0</td>\n",
       "      <td>0</td>\n",
       "      <td>1</td>\n",
       "    </tr>\n",
       "    <tr>\n",
       "      <th>28</th>\n",
       "      <td>0</td>\n",
       "      <td>0</td>\n",
       "      <td>1</td>\n",
       "    </tr>\n",
       "    <tr>\n",
       "      <th>29</th>\n",
       "      <td>4</td>\n",
       "      <td>0</td>\n",
       "      <td>0</td>\n",
       "    </tr>\n",
       "    <tr>\n",
       "      <th>...</th>\n",
       "      <td>...</td>\n",
       "      <td>...</td>\n",
       "      <td>...</td>\n",
       "    </tr>\n",
       "    <tr>\n",
       "      <th>360</th>\n",
       "      <td>0</td>\n",
       "      <td>1</td>\n",
       "      <td>1</td>\n",
       "    </tr>\n",
       "    <tr>\n",
       "      <th>361</th>\n",
       "      <td>0</td>\n",
       "      <td>0</td>\n",
       "      <td>1</td>\n",
       "    </tr>\n",
       "    <tr>\n",
       "      <th>362</th>\n",
       "      <td>2</td>\n",
       "      <td>0</td>\n",
       "      <td>0</td>\n",
       "    </tr>\n",
       "    <tr>\n",
       "      <th>363</th>\n",
       "      <td>0</td>\n",
       "      <td>0</td>\n",
       "      <td>1</td>\n",
       "    </tr>\n",
       "    <tr>\n",
       "      <th>364</th>\n",
       "      <td>1</td>\n",
       "      <td>1</td>\n",
       "      <td>0</td>\n",
       "    </tr>\n",
       "    <tr>\n",
       "      <th>365</th>\n",
       "      <td>2</td>\n",
       "      <td>0</td>\n",
       "      <td>0</td>\n",
       "    </tr>\n",
       "    <tr>\n",
       "      <th>366</th>\n",
       "      <td>3</td>\n",
       "      <td>0</td>\n",
       "      <td>3</td>\n",
       "    </tr>\n",
       "    <tr>\n",
       "      <th>367</th>\n",
       "      <td>4</td>\n",
       "      <td>0</td>\n",
       "      <td>0</td>\n",
       "    </tr>\n",
       "    <tr>\n",
       "      <th>368</th>\n",
       "      <td>1</td>\n",
       "      <td>0</td>\n",
       "      <td>0</td>\n",
       "    </tr>\n",
       "    <tr>\n",
       "      <th>369</th>\n",
       "      <td>0</td>\n",
       "      <td>0</td>\n",
       "      <td>1</td>\n",
       "    </tr>\n",
       "    <tr>\n",
       "      <th>370</th>\n",
       "      <td>0</td>\n",
       "      <td>0</td>\n",
       "      <td>1</td>\n",
       "    </tr>\n",
       "    <tr>\n",
       "      <th>371</th>\n",
       "      <td>4</td>\n",
       "      <td>0</td>\n",
       "      <td>0</td>\n",
       "    </tr>\n",
       "    <tr>\n",
       "      <th>372</th>\n",
       "      <td>9</td>\n",
       "      <td>3</td>\n",
       "      <td>1</td>\n",
       "    </tr>\n",
       "    <tr>\n",
       "      <th>373</th>\n",
       "      <td>7</td>\n",
       "      <td>0</td>\n",
       "      <td>1</td>\n",
       "    </tr>\n",
       "    <tr>\n",
       "      <th>374</th>\n",
       "      <td>0</td>\n",
       "      <td>0</td>\n",
       "      <td>1</td>\n",
       "    </tr>\n",
       "    <tr>\n",
       "      <th>375</th>\n",
       "      <td>1</td>\n",
       "      <td>1</td>\n",
       "      <td>0</td>\n",
       "    </tr>\n",
       "    <tr>\n",
       "      <th>376</th>\n",
       "      <td>4</td>\n",
       "      <td>1</td>\n",
       "      <td>2</td>\n",
       "    </tr>\n",
       "    <tr>\n",
       "      <th>377</th>\n",
       "      <td>1</td>\n",
       "      <td>0</td>\n",
       "      <td>0</td>\n",
       "    </tr>\n",
       "    <tr>\n",
       "      <th>378</th>\n",
       "      <td>1</td>\n",
       "      <td>0</td>\n",
       "      <td>0</td>\n",
       "    </tr>\n",
       "    <tr>\n",
       "      <th>379</th>\n",
       "      <td>0</td>\n",
       "      <td>0</td>\n",
       "      <td>1</td>\n",
       "    </tr>\n",
       "    <tr>\n",
       "      <th>380</th>\n",
       "      <td>1</td>\n",
       "      <td>0</td>\n",
       "      <td>1</td>\n",
       "    </tr>\n",
       "    <tr>\n",
       "      <th>381</th>\n",
       "      <td>1</td>\n",
       "      <td>2</td>\n",
       "      <td>0</td>\n",
       "    </tr>\n",
       "    <tr>\n",
       "      <th>382</th>\n",
       "      <td>0</td>\n",
       "      <td>0</td>\n",
       "      <td>1</td>\n",
       "    </tr>\n",
       "    <tr>\n",
       "      <th>383</th>\n",
       "      <td>4</td>\n",
       "      <td>1</td>\n",
       "      <td>1</td>\n",
       "    </tr>\n",
       "    <tr>\n",
       "      <th>384</th>\n",
       "      <td>3</td>\n",
       "      <td>0</td>\n",
       "      <td>0</td>\n",
       "    </tr>\n",
       "    <tr>\n",
       "      <th>385</th>\n",
       "      <td>2</td>\n",
       "      <td>0</td>\n",
       "      <td>4</td>\n",
       "    </tr>\n",
       "    <tr>\n",
       "      <th>386</th>\n",
       "      <td>0</td>\n",
       "      <td>0</td>\n",
       "      <td>1</td>\n",
       "    </tr>\n",
       "    <tr>\n",
       "      <th>387</th>\n",
       "      <td>2</td>\n",
       "      <td>0</td>\n",
       "      <td>0</td>\n",
       "    </tr>\n",
       "    <tr>\n",
       "      <th>388</th>\n",
       "      <td>1</td>\n",
       "      <td>2</td>\n",
       "      <td>1</td>\n",
       "    </tr>\n",
       "    <tr>\n",
       "      <th>389</th>\n",
       "      <td>2</td>\n",
       "      <td>1</td>\n",
       "      <td>0</td>\n",
       "    </tr>\n",
       "  </tbody>\n",
       "</table>\n",
       "<p>390 rows × 3 columns</p>\n",
       "</div>"
      ],
      "text/plain": [
       "     TP  FP  FN\n",
       "0     1   0   0\n",
       "1     8   1   2\n",
       "2     0   0   1\n",
       "3     0   0   1\n",
       "4     2   3   0\n",
       "5     0   0   1\n",
       "6     2   0   0\n",
       "7     0   0   1\n",
       "8     7   0   0\n",
       "9     0   0   1\n",
       "10    0   0   1\n",
       "11    2   2   0\n",
       "12    0   0   1\n",
       "13    0   0   1\n",
       "14   12   0   0\n",
       "15    0   1   1\n",
       "16    0   0   1\n",
       "17    0   0   1\n",
       "18    1   0   0\n",
       "19    0   0   1\n",
       "20    1   0   0\n",
       "21    4   0   0\n",
       "22    1   0   0\n",
       "23   12   2   1\n",
       "24    0   0   1\n",
       "25    2   1   0\n",
       "26    5   0   0\n",
       "27    0   0   1\n",
       "28    0   0   1\n",
       "29    4   0   0\n",
       "..   ..  ..  ..\n",
       "360   0   1   1\n",
       "361   0   0   1\n",
       "362   2   0   0\n",
       "363   0   0   1\n",
       "364   1   1   0\n",
       "365   2   0   0\n",
       "366   3   0   3\n",
       "367   4   0   0\n",
       "368   1   0   0\n",
       "369   0   0   1\n",
       "370   0   0   1\n",
       "371   4   0   0\n",
       "372   9   3   1\n",
       "373   7   0   1\n",
       "374   0   0   1\n",
       "375   1   1   0\n",
       "376   4   1   2\n",
       "377   1   0   0\n",
       "378   1   0   0\n",
       "379   0   0   1\n",
       "380   1   0   1\n",
       "381   1   2   0\n",
       "382   0   0   1\n",
       "383   4   1   1\n",
       "384   3   0   0\n",
       "385   2   0   4\n",
       "386   0   0   1\n",
       "387   2   0   0\n",
       "388   1   2   1\n",
       "389   2   1   0\n",
       "\n",
       "[390 rows x 3 columns]"
      ]
     },
     "execution_count": 55,
     "metadata": {},
     "output_type": "execute_result"
    }
   ],
   "source": [
    "# creating a dataframe\n",
    "df_matrix = pd.DataFrame(list(zip(tp, fp, fn)), \n",
    "               columns =['TP', 'FP', \"FN\"])\n",
    "df_matrix.head(-1)"
   ]
  },
  {
   "cell_type": "code",
   "execution_count": 56,
   "metadata": {
    "id": "v2EqX-TlL4cB"
   },
   "outputs": [],
   "source": [
    "def get_precision(tp,fp):\n",
    "    \n",
    "    if tp+fp ==0:\n",
    "        precision = 0\n",
    "    else:\n",
    "        precision = tp/(tp+fp)\n",
    "    \n",
    "    return precision"
   ]
  },
  {
   "cell_type": "code",
   "execution_count": 57,
   "metadata": {
    "id": "QZySAZqbL4cB"
   },
   "outputs": [],
   "source": [
    "def get_recall(tp,fn):\n",
    "    \n",
    "    if tp+fn ==0:\n",
    "        recall = 0\n",
    "    else:\n",
    "        recall = tp/(tp+fn)\n",
    "    \n",
    "    return recall"
   ]
  },
  {
   "cell_type": "code",
   "execution_count": 58,
   "metadata": {
    "id": "GvUg2Wf-L4cC"
   },
   "outputs": [],
   "source": [
    "def get_f_score(precision, recall):\n",
    "    if precision+recall == 0:\n",
    "        f_score = 0\n",
    "    else:\n",
    "        f_score = 2*(precision*recall)/(precision+recall)\n",
    "        \n",
    "    return f_score"
   ]
  },
  {
   "cell_type": "code",
   "execution_count": 59,
   "metadata": {
    "id": "lZ75jArPL4cC"
   },
   "outputs": [],
   "source": [
    "df_matrix['Precision'] = df_matrix.apply(lambda x: get_precision(x[\"TP\"], x[\"FP\"]), axis = 1)"
   ]
  },
  {
   "cell_type": "code",
   "execution_count": 60,
   "metadata": {
    "id": "gI_MseILL4cC"
   },
   "outputs": [],
   "source": [
    "df_matrix[\"Recall\"] = df_matrix.apply(lambda x: get_recall(x[\"TP\"], x[\"FN\"]), axis = 1)"
   ]
  },
  {
   "cell_type": "code",
   "execution_count": 61,
   "metadata": {
    "id": "TvnAn8oNL4cC"
   },
   "outputs": [],
   "source": [
    "df_matrix[\"f_score\"] = df_matrix.apply(lambda x: get_f_score(x[\"Precision\"], x[\"Recall\"]), axis = 1)"
   ]
  },
  {
   "cell_type": "code",
   "execution_count": 62,
   "metadata": {
    "colab": {
     "base_uri": "https://localhost:8080/",
     "height": 204
    },
    "id": "3woo4j7CL4cC",
    "outputId": "a23454ec-d9b1-4620-e995-ddc312348831"
   },
   "outputs": [
    {
     "data": {
      "text/html": [
       "<div>\n",
       "<style scoped>\n",
       "    .dataframe tbody tr th:only-of-type {\n",
       "        vertical-align: middle;\n",
       "    }\n",
       "\n",
       "    .dataframe tbody tr th {\n",
       "        vertical-align: top;\n",
       "    }\n",
       "\n",
       "    .dataframe thead th {\n",
       "        text-align: right;\n",
       "    }\n",
       "</style>\n",
       "<table border=\"1\" class=\"dataframe\">\n",
       "  <thead>\n",
       "    <tr style=\"text-align: right;\">\n",
       "      <th></th>\n",
       "      <th>TP</th>\n",
       "      <th>FP</th>\n",
       "      <th>FN</th>\n",
       "      <th>Precision</th>\n",
       "      <th>Recall</th>\n",
       "      <th>f_score</th>\n",
       "    </tr>\n",
       "  </thead>\n",
       "  <tbody>\n",
       "    <tr>\n",
       "      <th>0</th>\n",
       "      <td>1</td>\n",
       "      <td>0</td>\n",
       "      <td>0</td>\n",
       "      <td>1.000000</td>\n",
       "      <td>1.0</td>\n",
       "      <td>1.000000</td>\n",
       "    </tr>\n",
       "    <tr>\n",
       "      <th>1</th>\n",
       "      <td>8</td>\n",
       "      <td>1</td>\n",
       "      <td>2</td>\n",
       "      <td>0.888889</td>\n",
       "      <td>0.8</td>\n",
       "      <td>0.842105</td>\n",
       "    </tr>\n",
       "    <tr>\n",
       "      <th>2</th>\n",
       "      <td>0</td>\n",
       "      <td>0</td>\n",
       "      <td>1</td>\n",
       "      <td>0.000000</td>\n",
       "      <td>0.0</td>\n",
       "      <td>0.000000</td>\n",
       "    </tr>\n",
       "    <tr>\n",
       "      <th>3</th>\n",
       "      <td>0</td>\n",
       "      <td>0</td>\n",
       "      <td>1</td>\n",
       "      <td>0.000000</td>\n",
       "      <td>0.0</td>\n",
       "      <td>0.000000</td>\n",
       "    </tr>\n",
       "    <tr>\n",
       "      <th>4</th>\n",
       "      <td>2</td>\n",
       "      <td>3</td>\n",
       "      <td>0</td>\n",
       "      <td>0.400000</td>\n",
       "      <td>1.0</td>\n",
       "      <td>0.571429</td>\n",
       "    </tr>\n",
       "  </tbody>\n",
       "</table>\n",
       "</div>"
      ],
      "text/plain": [
       "   TP  FP  FN  Precision  Recall   f_score\n",
       "0   1   0   0   1.000000     1.0  1.000000\n",
       "1   8   1   2   0.888889     0.8  0.842105\n",
       "2   0   0   1   0.000000     0.0  0.000000\n",
       "3   0   0   1   0.000000     0.0  0.000000\n",
       "4   2   3   0   0.400000     1.0  0.571429"
      ]
     },
     "execution_count": 62,
     "metadata": {},
     "output_type": "execute_result"
    }
   ],
   "source": [
    "df_matrix.head()"
   ]
  },
  {
   "cell_type": "code",
   "execution_count": 65,
   "metadata": {
    "id": "wdpYNTxBL4cD"
   },
   "outputs": [],
   "source": [
    "# df_matrix.to_csv(\"Train_Data/Accuracy_Data/Dataset_to_run_on_all/Output/Accuracy_Sheet_ner_en_large_flair_100_tagged.csv\", index = False)\n",
    "# df_matrix.to_csv(\"Train_Data/Accuracy_Data/Dataset_to_run_on_all/Output/Accuracy_Sheet_spacy_adding_more_tags.csv\", index = False)\n",
    "# df_matrix.to_csv(\"Train_Data/Accuracy_Data/Dataset_to_run_on_all/Output/Accuracy_Sheet_String_Match_non_context.csv\", index = False)\n",
    "# df_matrix.to_csv(\"189_BERT_tags_SPACY_TEST_DATA_M1_12_Jun_21.csv\", index = False)\n",
    "\n",
    "# df_matrix.to_csv(\"Train_Data/Accuracy_Data/Dataset_to_run_on_all/Output/Accuracy_Sheet_lg__moreTAGS_tagged_100_more_ENTS.csv\", index = False)\n",
    "# df_matrix.to_csv(\"Train_Data/Accuracy_Data/Dataset_to_run_on_all/Output/Accuracy_Sheet_lg_100_simple_spacy.csv\", index = False)\n"
   ]
  },
  {
   "cell_type": "code",
   "execution_count": 63,
   "metadata": {},
   "outputs": [],
   "source": [
    "final_data = df_cm.join(df_matrix)\n",
    "final_data.to_csv(\"ACC-ENG+TECH_BERT_pred_ENG_SUM_EXP.csv\")\n",
    "# final_data.to_csv(\"1190_spacy_pred_tech_match.csv\")"
   ]
  },
  {
   "cell_type": "code",
   "execution_count": null,
   "metadata": {},
   "outputs": [],
   "source": []
  }
 ],
 "metadata": {
  "colab": {
   "name": "(Version3)matrix_code_string_match_generalised_v2.ipynb",
   "provenance": [],
   "toc_visible": true
  },
  "kernelspec": {
   "display_name": "Python 3",
   "language": "python",
   "name": "python3"
  },
  "language_info": {
   "codemirror_mode": {
    "name": "ipython",
    "version": 3
   },
   "file_extension": ".py",
   "mimetype": "text/x-python",
   "name": "python",
   "nbconvert_exporter": "python",
   "pygments_lexer": "ipython3",
   "version": "3.8.5"
  }
 },
 "nbformat": 4,
 "nbformat_minor": 1
}
