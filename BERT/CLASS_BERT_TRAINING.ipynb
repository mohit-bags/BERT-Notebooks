{
 "cells": [
  {
   "cell_type": "code",
   "execution_count": 4,
   "id": "d75ec3d6",
   "metadata": {},
   "outputs": [],
   "source": [
    "import pandas as pd\n",
    "import numpy as np\n",
    "from sklearn.preprocessing import LabelEncoder\n",
    "from sklearn.model_selection import train_test_split\n",
    "from sklearn.metrics import accuracy_score\n",
    "from sklearn.metrics import confusion_matrix\n",
    "from simpletransformers.ner import NERModel,NERArgs\n",
    "import torch"
   ]
  },
  {
   "cell_type": "code",
   "execution_count": 5,
   "id": "ef853909",
   "metadata": {},
   "outputs": [],
   "source": [
    "class bert_training:\n",
    "    \n",
    "    def __init__(self,bio_data_path):\n",
    "        self.data = pd.read_csv(bio_data_path,encoding=\"latin1\" )\n",
    "        self.data = self.data.replace(r'^\\s*$', np.nan, regex=True)\n",
    "        self.data = self.data.fillna(method =\"ffill\")\n",
    "        self.data[\"Sentence #\"] = LabelEncoder().fit_transform(self.data[\"Sentence #\"])\n",
    "        self.data.rename(columns={\"Sentence #\":\"sentence_id\",\"Word\":\"words\",\"Tag\":\"labels\"}, inplace =True)  \n",
    "        X = self.data[[\"sentence_id\",\"words\"]]\n",
    "        Y = self.data[\"labels\"]\n",
    "        x_train, x_test, y_train, y_test = train_test_split(X,Y, test_size =0.2)\n",
    "        #building up train and test data\n",
    "        self.train_data = pd.DataFrame({\"sentence_id\":x_train[\"sentence_id\"],\"words\":x_train[\"words\"],\"labels\":y_train})\n",
    "        self.test_data = pd.DataFrame({\"sentence_id\":x_test[\"sentence_id\"],\"words\":x_test[\"words\"],\"labels\":y_test})\n",
    "        self.label = self.data[\"labels\"].unique().tolist()\n",
    "        \n",
    "    def give_Args(self,num_epochs,learning_rate,train_batch_size,eval_batch_size):\n",
    "        args = NERArgs()\n",
    "        args.num_train_epochs = num_epochs\n",
    "        args.learning_rate = learning_rate\n",
    "        args.overwrite_output_dir =True\n",
    "        args.train_batch_size = train_batch_size\n",
    "        args.eval_batch_size = eval_batch_size\n",
    "        print(\"DOWNLOADING Model\")\n",
    "        self.model = NERModel('bert', 'bert-base-uncased',labels=self.label,args =args)\n",
    "        print(\"TRAINING Begins\")\n",
    "        self.model.train_model(self.train_data,eval_data =self.test_data,acc=accuracy_score)\n",
    "        print(\"TRAINING Ends\")\n",
    "        result, model_outputs, preds_list = self.model.eval_model(self.test_data)\n",
    "        print(result) #after fine tuning on test data\n",
    "\n",
    "    def save_model(self,path):\n",
    "        torch.save(self.model,path)\n",
    "        print(\"Model Saved at given \",path)"
   ]
  },
  {
   "cell_type": "code",
   "execution_count": null,
   "id": "61558547",
   "metadata": {},
   "outputs": [],
   "source": [
    "data_path = \"/content/drive/MyDrive/2000_BIO_taggingdata_ALL_ROW_WISE.csv\"\n",
    "obj_name = bert_training(data_path) #DATA READ\n",
    "obj_name.give_Args(2,1e-4,32,32)\n",
    "obj_name.save_model(\"/content/drive/MyDrive/model_check\")"
   ]
  }
 ],
 "metadata": {
  "kernelspec": {
   "display_name": "Python 3",
   "language": "python",
   "name": "python3"
  },
  "language_info": {
   "codemirror_mode": {
    "name": "ipython",
    "version": 3
   },
   "file_extension": ".py",
   "mimetype": "text/x-python",
   "name": "python",
   "nbconvert_exporter": "python",
   "pygments_lexer": "ipython3",
   "version": "3.8.10"
  }
 },
 "nbformat": 4,
 "nbformat_minor": 5
}
