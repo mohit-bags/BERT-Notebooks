{
 "cells": [
  {
   "cell_type": "code",
   "execution_count": 1,
   "id": "8f0f00e2",
   "metadata": {},
   "outputs": [],
   "source": [
    "import pandas as pd\n",
    "import numpy as np\n",
    "import nltk\n",
    "words = set(nltk.corpus.words.words())\n",
    "from tqdm import tqdm\n",
    "import matplotlib.pyplot as plt"
   ]
  },
  {
   "cell_type": "code",
   "execution_count": 2,
   "id": "5b1583a5",
   "metadata": {},
   "outputs": [
    {
     "name": "stderr",
     "output_type": "stream",
     "text": [
      "/home/slintel/bert/lib/python3.6/site-packages/IPython/core/interactiveshell.py:3072: DtypeWarning: Columns (4) have mixed types.Specify dtype option on import or set low_memory=False.\n",
      "  interactivity=interactivity, compiler=compiler, result=result)\n"
     ]
    }
   ],
   "source": [
    "data = pd.read_csv(\"../data/6lakh_pipeline_company_companies_data_2021-07-21.csv\")"
   ]
  },
  {
   "cell_type": "code",
   "execution_count": 3,
   "id": "f7b1bad7",
   "metadata": {},
   "outputs": [
    {
     "data": {
      "text/plain": [
       "Index(['revenue', 'rank', 'stock_exchange', 'open_requisitions_range',\n",
       "       'stock_price', 'stock_symbol', '_id', 'company_city', 'company_country',\n",
       "       'company_state', 'company_crunchbase_page', 'company_description',\n",
       "       'company_facebook_page', 'company_funding', 'company_industry',\n",
       "       'company_latest_funding_date', 'company_linkedin_page', 'company_name',\n",
       "       'company_phone_number', 'company_products_services',\n",
       "       'company_profile_image_url', 'company_sector', 'company_size',\n",
       "       'company_twitter_page', 'company_type', 'company_website', 'ebitda',\n",
       "       'fiscal_year', 'homepage_url', 'job_count', 'tags', 'lead_count',\n",
       "       'updated_at', 'permalink', 'company_founded_at', 'geo_point',\n",
       "       'company_continent', 'postal_code', 'company_address', 'sic_code',\n",
       "       'naics_code', 'created_at', 'cb_id', 'revenue_range', 'flag',\n",
       "       'nubela_id', 'linkedin_internal_id', 'tagline', 'linkedin_search_id',\n",
       "       'linkedin_employee_count', 'linkedin_follower_count', 'addr_upd_from',\n",
       "       'owler_id', 'partition_0'],\n",
       "      dtype='object')"
      ]
     },
     "execution_count": 3,
     "metadata": {},
     "output_type": "execute_result"
    }
   ],
   "source": [
    "data.columns"
   ]
  },
  {
   "cell_type": "code",
   "execution_count": 4,
   "id": "5f81fbe3",
   "metadata": {},
   "outputs": [
    {
     "data": {
      "text/plain": [
       "596769"
      ]
     },
     "execution_count": 4,
     "metadata": {},
     "output_type": "execute_result"
    }
   ],
   "source": [
    "len(data)"
   ]
  },
  {
   "cell_type": "code",
   "execution_count": 5,
   "id": "0952ae12",
   "metadata": {},
   "outputs": [
    {
     "name": "stdout",
     "output_type": "stream",
     "text": [
      "<class 'pandas.core.frame.DataFrame'>\n",
      "RangeIndex: 596769 entries, 0 to 596768\n",
      "Data columns (total 54 columns):\n",
      " #   Column                       Non-Null Count   Dtype  \n",
      "---  ------                       --------------   -----  \n",
      " 0   revenue                      7122 non-null    float64\n",
      " 1   rank                         596727 non-null  float64\n",
      " 2   stock_exchange               3580 non-null    object \n",
      " 3   open_requisitions_range      2975 non-null    object \n",
      " 4   stock_price                  240 non-null     object \n",
      " 5   stock_symbol                 3580 non-null    object \n",
      " 6   _id                          596769 non-null  object \n",
      " 7   company_city                 578835 non-null  object \n",
      " 8   company_country              584001 non-null  object \n",
      " 9   company_state                576327 non-null  object \n",
      " 10  company_crunchbase_page      596725 non-null  object \n",
      " 11  company_description          585547 non-null  object \n",
      " 12  company_facebook_page        391896 non-null  object \n",
      " 13  company_funding              455494 non-null  float64\n",
      " 14  company_industry             596769 non-null  object \n",
      " 15  company_latest_funding_date  454185 non-null  float64\n",
      " 16  company_linkedin_page        569675 non-null  object \n",
      " 17  company_name                 596766 non-null  object \n",
      " 18  company_phone_number         457999 non-null  object \n",
      " 19  company_products_services    382108 non-null  object \n",
      " 20  company_profile_image_url    593476 non-null  object \n",
      " 21  company_sector               596769 non-null  object \n",
      " 22  company_size                 575797 non-null  object \n",
      " 23  company_twitter_page         384194 non-null  object \n",
      " 24  company_type                 501853 non-null  object \n",
      " 25  company_website              596769 non-null  object \n",
      " 26  ebitda                       7310 non-null    float64\n",
      " 27  fiscal_year                  34883 non-null   object \n",
      " 28  homepage_url                 596769 non-null  object \n",
      " 29  job_count                    596769 non-null  int64  \n",
      " 30  tags                         177761 non-null  object \n",
      " 31  lead_count                   596769 non-null  int64  \n",
      " 32  updated_at                   596769 non-null  int64  \n",
      " 33  permalink                    596766 non-null  object \n",
      " 34  company_founded_at           487133 non-null  float64\n",
      " 35  geo_point                    232530 non-null  object \n",
      " 36  company_continent            584001 non-null  object \n",
      " 37  postal_code                  366262 non-null  object \n",
      " 38  company_address              530760 non-null  object \n",
      " 39  sic_code                     122108 non-null  object \n",
      " 40  naics_code                   122102 non-null  object \n",
      " 41  created_at                   596769 non-null  int64  \n",
      " 42  cb_id                        596769 non-null  object \n",
      " 43  revenue_range                596769 non-null  object \n",
      " 44  flag                         0 non-null       float64\n",
      " 45  nubela_id                    544625 non-null  object \n",
      " 46  linkedin_internal_id         543074 non-null  float64\n",
      " 47  tagline                      264810 non-null  object \n",
      " 48  linkedin_search_id           542942 non-null  object \n",
      " 49  linkedin_employee_count      503170 non-null  float64\n",
      " 50  linkedin_follower_count      385319 non-null  float64\n",
      " 51  addr_upd_from                12711 non-null   object \n",
      " 52  owler_id                     0 non-null       float64\n",
      " 53  partition_0                  596769 non-null  object \n",
      "dtypes: float64(11), int64(4), object(39)\n",
      "memory usage: 245.9+ MB\n"
     ]
    }
   ],
   "source": [
    "data.info()"
   ]
  },
  {
   "cell_type": "code",
   "execution_count": 6,
   "id": "97b3f464",
   "metadata": {},
   "outputs": [
    {
     "data": {
      "text/plain": [
       "['rank',\n",
       " '_id',\n",
       " 'company_city',\n",
       " 'company_country',\n",
       " 'company_state',\n",
       " 'company_crunchbase_page',\n",
       " 'company_description',\n",
       " 'company_funding',\n",
       " 'company_industry',\n",
       " 'company_latest_funding_date',\n",
       " 'company_linkedin_page',\n",
       " 'company_name',\n",
       " 'company_phone_number',\n",
       " 'company_profile_image_url',\n",
       " 'company_sector',\n",
       " 'company_size',\n",
       " 'company_type',\n",
       " 'company_website',\n",
       " 'homepage_url',\n",
       " 'job_count',\n",
       " 'lead_count',\n",
       " 'updated_at',\n",
       " 'permalink',\n",
       " 'company_founded_at',\n",
       " 'company_continent',\n",
       " 'company_address',\n",
       " 'created_at',\n",
       " 'cb_id',\n",
       " 'revenue_range',\n",
       " 'nubela_id',\n",
       " 'linkedin_internal_id',\n",
       " 'linkedin_search_id',\n",
       " 'linkedin_employee_count',\n",
       " 'partition_0']"
      ]
     },
     "execution_count": 6,
     "metadata": {},
     "output_type": "execute_result"
    }
   ],
   "source": [
    "keep = []\n",
    "for i in data.columns:\n",
    "    non_null_count = data[i].notnull().sum()\n",
    "    if(non_null_count>=0.7*len(data)):\n",
    "        keep.append(i)\n",
    "keep"
   ]
  },
  {
   "cell_type": "code",
   "execution_count": 7,
   "id": "206444c3",
   "metadata": {},
   "outputs": [
    {
     "data": {
      "text/plain": [
       "34"
      ]
     },
     "execution_count": 7,
     "metadata": {},
     "output_type": "execute_result"
    }
   ],
   "source": [
    "keep = []\n",
    "for i in data.columns:\n",
    "    non_null_count = data[i].notnull().sum()\n",
    "    if(non_null_count>=0.7*len(data)):\n",
    "        keep.append(i)\n",
    "len(keep)"
   ]
  },
  {
   "cell_type": "code",
   "execution_count": 8,
   "id": "a407f231",
   "metadata": {},
   "outputs": [
    {
     "data": {
      "text/plain": [
       "39"
      ]
     },
     "execution_count": 8,
     "metadata": {},
     "output_type": "execute_result"
    }
   ],
   "source": [
    "keep2 = []\n",
    "for i in data.columns:\n",
    "    non_null_count = data[i].notnull().sum()\n",
    "    if(non_null_count>=0.5*len(data)):\n",
    "        keep2.append(i)\n",
    "len(keep2)\n",
    "# (set(keep2)-set(keep))"
   ]
  },
  {
   "cell_type": "code",
   "execution_count": 9,
   "id": "615400c0",
   "metadata": {},
   "outputs": [
    {
     "data": {
      "text/plain": [
       "(39, 34)"
      ]
     },
     "execution_count": 9,
     "metadata": {},
     "output_type": "execute_result"
    }
   ],
   "source": [
    "len(keep2),len(keep)"
   ]
  },
  {
   "cell_type": "code",
   "execution_count": 10,
   "id": "476615f8",
   "metadata": {},
   "outputs": [
    {
     "name": "stdout",
     "output_type": "stream",
     "text": [
      "company_facebook_page\n",
      "company_products_services\n",
      "company_twitter_page\n",
      "postal_code\n",
      "linkedin_follower_count\n"
     ]
    }
   ],
   "source": [
    "for i in keep2:\n",
    "    if i not in keep:\n",
    "        print(i)"
   ]
  },
  {
   "cell_type": "code",
   "execution_count": 11,
   "id": "746e18df",
   "metadata": {},
   "outputs": [
    {
     "data": {
      "text/plain": [
       "['rank',\n",
       " '_id',\n",
       " 'company_city',\n",
       " 'company_country',\n",
       " 'company_state',\n",
       " 'company_crunchbase_page',\n",
       " 'company_description',\n",
       " 'company_funding',\n",
       " 'company_industry',\n",
       " 'company_latest_funding_date',\n",
       " 'company_linkedin_page',\n",
       " 'company_name',\n",
       " 'company_phone_number',\n",
       " 'company_profile_image_url',\n",
       " 'company_sector',\n",
       " 'company_size',\n",
       " 'company_type',\n",
       " 'company_website',\n",
       " 'homepage_url',\n",
       " 'job_count',\n",
       " 'lead_count',\n",
       " 'updated_at',\n",
       " 'permalink',\n",
       " 'company_founded_at',\n",
       " 'company_continent',\n",
       " 'company_address',\n",
       " 'created_at',\n",
       " 'cb_id',\n",
       " 'revenue_range',\n",
       " 'nubela_id',\n",
       " 'linkedin_internal_id',\n",
       " 'linkedin_search_id',\n",
       " 'linkedin_employee_count',\n",
       " 'partition_0']"
      ]
     },
     "execution_count": 11,
     "metadata": {},
     "output_type": "execute_result"
    }
   ],
   "source": [
    "keep"
   ]
  },
  {
   "cell_type": "code",
   "execution_count": 12,
   "id": "ff743918",
   "metadata": {},
   "outputs": [],
   "source": [
    "df = data[keep]"
   ]
  },
  {
   "cell_type": "code",
   "execution_count": 13,
   "id": "2807d603",
   "metadata": {},
   "outputs": [],
   "source": [
    "df2=df.drop(columns=['company_crunchbase_page','company_address','created_at','cb_id','nubela_id',\n",
    "                 'linkedin_internal_id','linkedin_search_id','company_linkedin_page','company_phone_number',\n",
    "                    'company_profile_image_url','homepage_url'])"
   ]
  },
  {
   "cell_type": "code",
   "execution_count": 14,
   "id": "22ff1a6b",
   "metadata": {},
   "outputs": [
    {
     "data": {
      "text/plain": [
       "Index(['rank', '_id', 'company_city', 'company_country', 'company_state',\n",
       "       'company_description', 'company_funding', 'company_industry',\n",
       "       'company_latest_funding_date', 'company_name', 'company_sector',\n",
       "       'company_size', 'company_type', 'company_website', 'job_count',\n",
       "       'lead_count', 'updated_at', 'permalink', 'company_founded_at',\n",
       "       'company_continent', 'revenue_range', 'linkedin_employee_count',\n",
       "       'partition_0'],\n",
       "      dtype='object')"
      ]
     },
     "execution_count": 14,
     "metadata": {},
     "output_type": "execute_result"
    }
   ],
   "source": [
    "df2.columns"
   ]
  },
  {
   "cell_type": "code",
   "execution_count": 15,
   "id": "555e14a6",
   "metadata": {},
   "outputs": [],
   "source": [
    "to_drop = ['updated_at', 'permalink','partition_0','company_website','rank']"
   ]
  },
  {
   "cell_type": "code",
   "execution_count": 16,
   "id": "c32a5452",
   "metadata": {},
   "outputs": [
    {
     "data": {
      "text/html": [
       "<div>\n",
       "<style scoped>\n",
       "    .dataframe tbody tr th:only-of-type {\n",
       "        vertical-align: middle;\n",
       "    }\n",
       "\n",
       "    .dataframe tbody tr th {\n",
       "        vertical-align: top;\n",
       "    }\n",
       "\n",
       "    .dataframe thead th {\n",
       "        text-align: right;\n",
       "    }\n",
       "</style>\n",
       "<table border=\"1\" class=\"dataframe\">\n",
       "  <thead>\n",
       "    <tr style=\"text-align: right;\">\n",
       "      <th></th>\n",
       "      <th>_id</th>\n",
       "      <th>company_city</th>\n",
       "      <th>company_country</th>\n",
       "      <th>company_state</th>\n",
       "      <th>company_description</th>\n",
       "      <th>company_funding</th>\n",
       "      <th>company_industry</th>\n",
       "      <th>company_latest_funding_date</th>\n",
       "      <th>company_name</th>\n",
       "      <th>company_sector</th>\n",
       "      <th>company_size</th>\n",
       "      <th>company_type</th>\n",
       "      <th>job_count</th>\n",
       "      <th>lead_count</th>\n",
       "      <th>company_founded_at</th>\n",
       "      <th>company_continent</th>\n",
       "      <th>revenue_range</th>\n",
       "      <th>linkedin_employee_count</th>\n",
       "    </tr>\n",
       "  </thead>\n",
       "  <tbody>\n",
       "    <tr>\n",
       "      <th>0</th>\n",
       "      <td>5b073192599b311ccc11b101</td>\n",
       "      <td>San Francisco</td>\n",
       "      <td>United States</td>\n",
       "      <td>California</td>\n",
       "      <td>ProLeads is The Holy Grail of Account Based Pr...</td>\n",
       "      <td>75000.0</td>\n",
       "      <td>Information Technology and Services</td>\n",
       "      <td>1.483661e+09</td>\n",
       "      <td>ProLeads io</td>\n",
       "      <td>Technology</td>\n",
       "      <td>1-10</td>\n",
       "      <td>Private</td>\n",
       "      <td>0</td>\n",
       "      <td>1</td>\n",
       "      <td>2012.0</td>\n",
       "      <td>North America</td>\n",
       "      <td>Unknown</td>\n",
       "      <td>2.0</td>\n",
       "    </tr>\n",
       "    <tr>\n",
       "      <th>1</th>\n",
       "      <td>5b0737d1599b311ccc11c3f4</td>\n",
       "      <td>Madrid</td>\n",
       "      <td>Spain</td>\n",
       "      <td>Madrid</td>\n",
       "      <td>cramway | The collaborative e-learning\\n\\ncram...</td>\n",
       "      <td>NaN</td>\n",
       "      <td>E-Learning</td>\n",
       "      <td>NaN</td>\n",
       "      <td>cramway</td>\n",
       "      <td>Technology</td>\n",
       "      <td>1-10</td>\n",
       "      <td>Private</td>\n",
       "      <td>0</td>\n",
       "      <td>0</td>\n",
       "      <td>2013.0</td>\n",
       "      <td>Europe</td>\n",
       "      <td>Unknown</td>\n",
       "      <td>1.0</td>\n",
       "    </tr>\n",
       "    <tr>\n",
       "      <th>2</th>\n",
       "      <td>5b073905599b311ccc11c792</td>\n",
       "      <td>Sion</td>\n",
       "      <td>Switzerland</td>\n",
       "      <td>Valais</td>\n",
       "      <td>Imperix is a Swiss company developing high-end...</td>\n",
       "      <td>NaN</td>\n",
       "      <td>Electrical/Electronic Manufacturing</td>\n",
       "      <td>NaN</td>\n",
       "      <td>imperix</td>\n",
       "      <td>Industrials &amp; Chemicals</td>\n",
       "      <td>11-50</td>\n",
       "      <td>Private</td>\n",
       "      <td>0</td>\n",
       "      <td>8</td>\n",
       "      <td>2013.0</td>\n",
       "      <td>Europe</td>\n",
       "      <td>Unknown</td>\n",
       "      <td>9.0</td>\n",
       "    </tr>\n",
       "    <tr>\n",
       "      <th>3</th>\n",
       "      <td>5b073d93599b311ccc11d524</td>\n",
       "      <td>Seoul</td>\n",
       "      <td>Korea Republic of</td>\n",
       "      <td>Seoul-t'ukpyolsi</td>\n",
       "      <td>Yonhap Infomax is a financial news and data pr...</td>\n",
       "      <td>0.0</td>\n",
       "      <td>Information Services</td>\n",
       "      <td>0.000000e+00</td>\n",
       "      <td>Yonhap Infomax</td>\n",
       "      <td>Technology</td>\n",
       "      <td>51-200</td>\n",
       "      <td>Private</td>\n",
       "      <td>0</td>\n",
       "      <td>128</td>\n",
       "      <td>NaN</td>\n",
       "      <td>Asia</td>\n",
       "      <td>100M-500M</td>\n",
       "      <td>72.0</td>\n",
       "    </tr>\n",
       "    <tr>\n",
       "      <th>4</th>\n",
       "      <td>5b07485b599b311ccc11f4af</td>\n",
       "      <td>New York</td>\n",
       "      <td>United States</td>\n",
       "      <td>New York</td>\n",
       "      <td>Saffron Fix is the ONLY Indian meal-kit delive...</td>\n",
       "      <td>0.0</td>\n",
       "      <td>Food &amp; Beverages</td>\n",
       "      <td>0.000000e+00</td>\n",
       "      <td>Saffron Fix</td>\n",
       "      <td>Retail and CPG</td>\n",
       "      <td>1-10</td>\n",
       "      <td>NaN</td>\n",
       "      <td>0</td>\n",
       "      <td>0</td>\n",
       "      <td>2014.0</td>\n",
       "      <td>North America</td>\n",
       "      <td>1M-10M</td>\n",
       "      <td>NaN</td>\n",
       "    </tr>\n",
       "    <tr>\n",
       "      <th>...</th>\n",
       "      <td>...</td>\n",
       "      <td>...</td>\n",
       "      <td>...</td>\n",
       "      <td>...</td>\n",
       "      <td>...</td>\n",
       "      <td>...</td>\n",
       "      <td>...</td>\n",
       "      <td>...</td>\n",
       "      <td>...</td>\n",
       "      <td>...</td>\n",
       "      <td>...</td>\n",
       "      <td>...</td>\n",
       "      <td>...</td>\n",
       "      <td>...</td>\n",
       "      <td>...</td>\n",
       "      <td>...</td>\n",
       "      <td>...</td>\n",
       "      <td>...</td>\n",
       "    </tr>\n",
       "    <tr>\n",
       "      <th>596764</th>\n",
       "      <td>5ba8a5d37c8666394377bf49</td>\n",
       "      <td>Simsbury</td>\n",
       "      <td>United States</td>\n",
       "      <td>Connecticut</td>\n",
       "      <td>The former professionals of Saslow Lufkin &amp; Bu...</td>\n",
       "      <td>NaN</td>\n",
       "      <td>Accounting</td>\n",
       "      <td>NaN</td>\n",
       "      <td>Saslow Lufkin &amp; Buggy Llp</td>\n",
       "      <td>Financial Services</td>\n",
       "      <td>51-200</td>\n",
       "      <td>NaN</td>\n",
       "      <td>0</td>\n",
       "      <td>11</td>\n",
       "      <td>1999.0</td>\n",
       "      <td>North America</td>\n",
       "      <td>Unknown</td>\n",
       "      <td>NaN</td>\n",
       "    </tr>\n",
       "    <tr>\n",
       "      <th>596765</th>\n",
       "      <td>5ba8a5d37c8666394377bf56</td>\n",
       "      <td>Houston</td>\n",
       "      <td>United States</td>\n",
       "      <td>Texas</td>\n",
       "      <td>Samuel L. Bryant Investments has over 5 decade...</td>\n",
       "      <td>0.0</td>\n",
       "      <td>Real Estate</td>\n",
       "      <td>0.000000e+00</td>\n",
       "      <td>Samuel L. Bryant Investments</td>\n",
       "      <td>Professional Services</td>\n",
       "      <td>1-10</td>\n",
       "      <td>Partnership</td>\n",
       "      <td>0</td>\n",
       "      <td>2</td>\n",
       "      <td>NaN</td>\n",
       "      <td>North America</td>\n",
       "      <td>Unknown</td>\n",
       "      <td>4.0</td>\n",
       "    </tr>\n",
       "    <tr>\n",
       "      <th>596766</th>\n",
       "      <td>5ba8a5d37c8666394377bf68</td>\n",
       "      <td>Leeds</td>\n",
       "      <td>United Kingdom</td>\n",
       "      <td>Leeds</td>\n",
       "      <td>Deliberately disruptive and culturally connect...</td>\n",
       "      <td>NaN</td>\n",
       "      <td>Public Relations and Communications</td>\n",
       "      <td>NaN</td>\n",
       "      <td>SLBPR</td>\n",
       "      <td>Professional Services</td>\n",
       "      <td>1-10</td>\n",
       "      <td>Private</td>\n",
       "      <td>0</td>\n",
       "      <td>10</td>\n",
       "      <td>NaN</td>\n",
       "      <td>Europe</td>\n",
       "      <td>1M-10M</td>\n",
       "      <td>6.0</td>\n",
       "    </tr>\n",
       "    <tr>\n",
       "      <th>596767</th>\n",
       "      <td>5ba8a5d37c8666394377bf9d</td>\n",
       "      <td>Dongying</td>\n",
       "      <td>China</td>\n",
       "      <td>Shandong</td>\n",
       "      <td>Shandong Polymer Biochemicals is a biotechnolo...</td>\n",
       "      <td>NaN</td>\n",
       "      <td>Biotechnology</td>\n",
       "      <td>NaN</td>\n",
       "      <td>Shandong Polymer Biochemicals Co., Ltd</td>\n",
       "      <td>Healthcare and Lifesciences</td>\n",
       "      <td>1-10</td>\n",
       "      <td>Public</td>\n",
       "      <td>0</td>\n",
       "      <td>1</td>\n",
       "      <td>NaN</td>\n",
       "      <td>Asia</td>\n",
       "      <td>Unknown</td>\n",
       "      <td>17.0</td>\n",
       "    </tr>\n",
       "    <tr>\n",
       "      <th>596768</th>\n",
       "      <td>5ba8a5d37c8666394377bf9e</td>\n",
       "      <td>Snodland</td>\n",
       "      <td>United Kingdom</td>\n",
       "      <td>Kent</td>\n",
       "      <td>SL Capital Partners LLP (SL Capital) is a subs...</td>\n",
       "      <td>0.0</td>\n",
       "      <td>Investment Management</td>\n",
       "      <td>0.000000e+00</td>\n",
       "      <td>Sl Capital Partners</td>\n",
       "      <td>Financial Services</td>\n",
       "      <td>201-500</td>\n",
       "      <td>NaN</td>\n",
       "      <td>0</td>\n",
       "      <td>17</td>\n",
       "      <td>1997.0</td>\n",
       "      <td>Europe</td>\n",
       "      <td>Unknown</td>\n",
       "      <td>NaN</td>\n",
       "    </tr>\n",
       "  </tbody>\n",
       "</table>\n",
       "<p>596769 rows × 18 columns</p>\n",
       "</div>"
      ],
      "text/plain": [
       "                             _id   company_city    company_country  \\\n",
       "0       5b073192599b311ccc11b101  San Francisco      United States   \n",
       "1       5b0737d1599b311ccc11c3f4         Madrid              Spain   \n",
       "2       5b073905599b311ccc11c792           Sion        Switzerland   \n",
       "3       5b073d93599b311ccc11d524          Seoul  Korea Republic of   \n",
       "4       5b07485b599b311ccc11f4af       New York      United States   \n",
       "...                          ...            ...                ...   \n",
       "596764  5ba8a5d37c8666394377bf49       Simsbury      United States   \n",
       "596765  5ba8a5d37c8666394377bf56        Houston      United States   \n",
       "596766  5ba8a5d37c8666394377bf68          Leeds     United Kingdom   \n",
       "596767  5ba8a5d37c8666394377bf9d       Dongying              China   \n",
       "596768  5ba8a5d37c8666394377bf9e       Snodland     United Kingdom   \n",
       "\n",
       "           company_state                                company_description  \\\n",
       "0             California  ProLeads is The Holy Grail of Account Based Pr...   \n",
       "1                 Madrid  cramway | The collaborative e-learning\\n\\ncram...   \n",
       "2                 Valais  Imperix is a Swiss company developing high-end...   \n",
       "3       Seoul-t'ukpyolsi  Yonhap Infomax is a financial news and data pr...   \n",
       "4               New York  Saffron Fix is the ONLY Indian meal-kit delive...   \n",
       "...                  ...                                                ...   \n",
       "596764       Connecticut  The former professionals of Saslow Lufkin & Bu...   \n",
       "596765             Texas  Samuel L. Bryant Investments has over 5 decade...   \n",
       "596766             Leeds  Deliberately disruptive and culturally connect...   \n",
       "596767          Shandong  Shandong Polymer Biochemicals is a biotechnolo...   \n",
       "596768              Kent  SL Capital Partners LLP (SL Capital) is a subs...   \n",
       "\n",
       "        company_funding                     company_industry  \\\n",
       "0               75000.0  Information Technology and Services   \n",
       "1                   NaN                           E-Learning   \n",
       "2                   NaN  Electrical/Electronic Manufacturing   \n",
       "3                   0.0                 Information Services   \n",
       "4                   0.0                     Food & Beverages   \n",
       "...                 ...                                  ...   \n",
       "596764              NaN                           Accounting   \n",
       "596765              0.0                          Real Estate   \n",
       "596766              NaN  Public Relations and Communications   \n",
       "596767              NaN                        Biotechnology   \n",
       "596768              0.0                Investment Management   \n",
       "\n",
       "        company_latest_funding_date                            company_name  \\\n",
       "0                      1.483661e+09                             ProLeads io   \n",
       "1                               NaN                                 cramway   \n",
       "2                               NaN                                 imperix   \n",
       "3                      0.000000e+00                          Yonhap Infomax   \n",
       "4                      0.000000e+00                             Saffron Fix   \n",
       "...                             ...                                     ...   \n",
       "596764                          NaN               Saslow Lufkin & Buggy Llp   \n",
       "596765                 0.000000e+00            Samuel L. Bryant Investments   \n",
       "596766                          NaN                                   SLBPR   \n",
       "596767                          NaN  Shandong Polymer Biochemicals Co., Ltd   \n",
       "596768                 0.000000e+00                     Sl Capital Partners   \n",
       "\n",
       "                     company_sector company_size company_type  job_count  \\\n",
       "0                        Technology         1-10      Private          0   \n",
       "1                        Technology         1-10      Private          0   \n",
       "2           Industrials & Chemicals        11-50      Private          0   \n",
       "3                        Technology       51-200      Private          0   \n",
       "4                    Retail and CPG         1-10          NaN          0   \n",
       "...                             ...          ...          ...        ...   \n",
       "596764           Financial Services       51-200          NaN          0   \n",
       "596765        Professional Services         1-10  Partnership          0   \n",
       "596766        Professional Services         1-10      Private          0   \n",
       "596767  Healthcare and Lifesciences         1-10       Public          0   \n",
       "596768           Financial Services      201-500          NaN          0   \n",
       "\n",
       "        lead_count  company_founded_at company_continent revenue_range  \\\n",
       "0                1              2012.0     North America       Unknown   \n",
       "1                0              2013.0            Europe       Unknown   \n",
       "2                8              2013.0            Europe       Unknown   \n",
       "3              128                 NaN              Asia     100M-500M   \n",
       "4                0              2014.0     North America        1M-10M   \n",
       "...            ...                 ...               ...           ...   \n",
       "596764          11              1999.0     North America       Unknown   \n",
       "596765           2                 NaN     North America       Unknown   \n",
       "596766          10                 NaN            Europe        1M-10M   \n",
       "596767           1                 NaN              Asia       Unknown   \n",
       "596768          17              1997.0            Europe       Unknown   \n",
       "\n",
       "        linkedin_employee_count  \n",
       "0                           2.0  \n",
       "1                           1.0  \n",
       "2                           9.0  \n",
       "3                          72.0  \n",
       "4                           NaN  \n",
       "...                         ...  \n",
       "596764                      NaN  \n",
       "596765                      4.0  \n",
       "596766                      6.0  \n",
       "596767                     17.0  \n",
       "596768                      NaN  \n",
       "\n",
       "[596769 rows x 18 columns]"
      ]
     },
     "execution_count": 16,
     "metadata": {},
     "output_type": "execute_result"
    }
   ],
   "source": [
    "df2=df2.drop(columns=to_drop)\n",
    "df2"
   ]
  },
  {
   "cell_type": "code",
   "execution_count": 17,
   "id": "5e641ff6",
   "metadata": {},
   "outputs": [
    {
     "name": "stdout",
     "output_type": "stream",
     "text": [
      "<class 'pandas.core.frame.DataFrame'>\n",
      "RangeIndex: 596769 entries, 0 to 596768\n",
      "Data columns (total 18 columns):\n",
      " #   Column                       Non-Null Count   Dtype  \n",
      "---  ------                       --------------   -----  \n",
      " 0   _id                          596769 non-null  object \n",
      " 1   company_city                 578835 non-null  object \n",
      " 2   company_country              584001 non-null  object \n",
      " 3   company_state                576327 non-null  object \n",
      " 4   company_description          585547 non-null  object \n",
      " 5   company_funding              455494 non-null  float64\n",
      " 6   company_industry             596769 non-null  object \n",
      " 7   company_latest_funding_date  454185 non-null  float64\n",
      " 8   company_name                 596766 non-null  object \n",
      " 9   company_sector               596769 non-null  object \n",
      " 10  company_size                 575797 non-null  object \n",
      " 11  company_type                 501853 non-null  object \n",
      " 12  job_count                    596769 non-null  int64  \n",
      " 13  lead_count                   596769 non-null  int64  \n",
      " 14  company_founded_at           487133 non-null  float64\n",
      " 15  company_continent            584001 non-null  object \n",
      " 16  revenue_range                596769 non-null  object \n",
      " 17  linkedin_employee_count      503170 non-null  float64\n",
      "dtypes: float64(4), int64(2), object(12)\n",
      "memory usage: 82.0+ MB\n"
     ]
    }
   ],
   "source": [
    "df2.info()"
   ]
  },
  {
   "cell_type": "code",
   "execution_count": 18,
   "id": "c0fee7b3",
   "metadata": {},
   "outputs": [
    {
     "data": {
      "text/plain": [
       "_id                             0.000000\n",
       "company_city                    3.005183\n",
       "company_country                 2.139521\n",
       "company_state                   3.425446\n",
       "company_description             1.880460\n",
       "company_funding                23.673314\n",
       "company_industry                0.000000\n",
       "company_latest_funding_date    23.892662\n",
       "company_name                    0.000503\n",
       "company_sector                  0.000000\n",
       "company_size                    3.514258\n",
       "company_type                   15.904982\n",
       "job_count                       0.000000\n",
       "lead_count                      0.000000\n",
       "company_founded_at             18.371598\n",
       "company_continent               2.139521\n",
       "revenue_range                   0.000000\n",
       "linkedin_employee_count        15.684293\n",
       "dtype: float64"
      ]
     },
     "execution_count": 18,
     "metadata": {},
     "output_type": "execute_result"
    }
   ],
   "source": [
    "df2.isnull().mean() * 100"
   ]
  },
  {
   "cell_type": "code",
   "execution_count": 19,
   "id": "33a25ed1",
   "metadata": {},
   "outputs": [
    {
     "data": {
      "text/plain": [
       "array(['Technology', 'Industrials & Chemicals', 'Retail and CPG',\n",
       "       'Professional Services', 'Healthcare and Lifesciences',\n",
       "       'Financial Services', 'Media and Telecom', 'Energy and Utilities'],\n",
       "      dtype=object)"
      ]
     },
     "execution_count": 19,
     "metadata": {},
     "output_type": "execute_result"
    }
   ],
   "source": [
    "df2.company_sector.unique()"
   ]
  },
  {
   "cell_type": "code",
   "execution_count": 20,
   "id": "2903568a",
   "metadata": {},
   "outputs": [
    {
     "data": {
      "text/plain": [
       "array(['Information Technology and Services', 'E-Learning',\n",
       "       'Electrical/Electronic Manufacturing', 'Information Services',\n",
       "       'Food & Beverages', 'Internet', 'Education Management',\n",
       "       'Public Relations and Communications', 'Marketing and Advertising',\n",
       "       'Higher Education', 'Supermarkets',\n",
       "       'Professional Training & Coaching', 'Hospital & Health Care',\n",
       "       'Sporting Goods', 'Hospitality', 'Investment Banking',\n",
       "       'Staffing and Recruiting', 'Insurance', 'Research',\n",
       "       'Biotechnology', 'Computer Software', 'Public Policy',\n",
       "       'Leisure Travel & Tourism', 'Health Wellness and Fitness',\n",
       "       'Computer Games', 'Entertainment', 'Apparel & Fashion',\n",
       "       'Medical Devices', 'Consumer Services',\n",
       "       'Venture Capital & Private Equity', 'Online Media',\n",
       "       'Business Supplies and Equipment', 'Retail', 'Real Estate',\n",
       "       'Government Administration', 'Building Materials',\n",
       "       'Investment Management', 'Defense & Space', 'Wireless',\n",
       "       'Computer Hardware', 'Music', 'Media Production',\n",
       "       'Renewables & Environment', 'Capital Markets',\n",
       "       'Financial Services', 'Wholesale', 'Broadcast Media',\n",
       "       'International Trade and Development', 'Automotive',\n",
       "       'Fund-Raising', 'Maritime', 'Alternative Medicine', 'Sports',\n",
       "       'Outsourcing/Offshoring', 'Construction',\n",
       "       'Glass Ceramics & Concrete', 'Banking', 'Packaging and Containers',\n",
       "       'Food Production', 'Pharmaceuticals', 'Telecommunications',\n",
       "       'Farming', 'Oil & Energy', 'Wine and Spirits', 'Cosmetics',\n",
       "       'Chemicals', 'Logistics and Supply Chain',\n",
       "       'Environmental Services', 'Consumer Goods', 'Government Relations',\n",
       "       'Management Consulting', 'Events Services',\n",
       "       'Mechanical or Industrial Engineering', 'Law Enforcement',\n",
       "       'Luxury Goods & Jewelry', 'Airlines/Aviation', 'Human Resources',\n",
       "       'Law Practice', 'Facilities Services', 'Mining & Metals',\n",
       "       'Furniture', 'Paper & Forest Products', 'Legal Services',\n",
       "       'Commercial Real Estate', 'Security and Investigations',\n",
       "       'Aviation & Aerospace', 'Transportation/Trucking/Railroad',\n",
       "       'Civil Engineering', 'Semiconductors', 'Design', 'Tobacco',\n",
       "       'Industrial Automation', 'Accounting',\n",
       "       'Translation and Localization', 'Executive Office',\n",
       "       'Civic & Social Organization', 'Textiles', 'Publishing',\n",
       "       'Public Safety', 'Utilities', 'Nonprofit Organization Management',\n",
       "       'Restaurants', 'Computer Networking', 'Newspapers',\n",
       "       'Architecture & Planning', 'Gambling & Casinos',\n",
       "       'Package/Freight Delivery', 'Machinery', 'Consumer Electronics',\n",
       "       'Motion Pictures and Film', 'International Affairs',\n",
       "       'Computer & Network Security', 'Veterinary', 'Warehousing',\n",
       "       'Political Organization', 'Performing Arts', 'Medical Practice',\n",
       "       'Photography', 'Printing', 'Animation',\n",
       "       'Individual & Family Services',\n",
       "       'Recreational Facilities and Services', 'Market Research',\n",
       "       'Writing and Editing', 'Primary/Secondary Education',\n",
       "       'Mental Health Care', 'Dairy', 'Arts and Crafts', 'Philanthropy',\n",
       "       'Alternative Dispute Resolution', 'Graphic Design', 'Think Tanks',\n",
       "       'Military', 'Religious Institutions', 'Plastics',\n",
       "       'Import and Export', 'Museums and Institutions', 'Ranching',\n",
       "       'Fishery', 'Libraries', 'Program Development', 'Fine Art',\n",
       "       'Nanotechnology', 'Railroad Manufacture', 'Shipbuilding',\n",
       "       'Judiciary', 'Legislative Office'], dtype=object)"
      ]
     },
     "execution_count": 20,
     "metadata": {},
     "output_type": "execute_result"
    }
   ],
   "source": [
    "df2.company_industry.unique()"
   ]
  },
  {
   "cell_type": "code",
   "execution_count": 21,
   "id": "d1c34ab4",
   "metadata": {},
   "outputs": [
    {
     "name": "stdout",
     "output_type": "stream",
     "text": [
      "596769 \n",
      "After Drop:\n",
      "585547\n"
     ]
    }
   ],
   "source": [
    "print(len(df2),\"\\nAfter Drop:\")\n",
    "df3 = df2.dropna(axis=0, subset=['company_description','company_industry','company_sector'])\n",
    "df3.reset_index(inplace=True,drop=True)\n",
    "print(len(df3))"
   ]
  },
  {
   "cell_type": "code",
   "execution_count": 22,
   "id": "40ad0c27",
   "metadata": {},
   "outputs": [],
   "source": [
    "data = df3[['company_description','company_industry','company_sector']] #for TEXT ONLY"
   ]
  },
  {
   "cell_type": "code",
   "execution_count": 23,
   "id": "65b450ca",
   "metadata": {
    "scrolled": true
   },
   "outputs": [
    {
     "data": {
      "text/html": [
       "<div>\n",
       "<style scoped>\n",
       "    .dataframe tbody tr th:only-of-type {\n",
       "        vertical-align: middle;\n",
       "    }\n",
       "\n",
       "    .dataframe tbody tr th {\n",
       "        vertical-align: top;\n",
       "    }\n",
       "\n",
       "    .dataframe thead th {\n",
       "        text-align: right;\n",
       "    }\n",
       "</style>\n",
       "<table border=\"1\" class=\"dataframe\">\n",
       "  <thead>\n",
       "    <tr style=\"text-align: right;\">\n",
       "      <th></th>\n",
       "      <th>company_description</th>\n",
       "      <th>company_industry</th>\n",
       "      <th>company_sector</th>\n",
       "    </tr>\n",
       "  </thead>\n",
       "  <tbody>\n",
       "    <tr>\n",
       "      <th>0</th>\n",
       "      <td>ProLeads is The Holy Grail of Account Based Pr...</td>\n",
       "      <td>Information Technology and Services</td>\n",
       "      <td>Technology</td>\n",
       "    </tr>\n",
       "    <tr>\n",
       "      <th>1</th>\n",
       "      <td>cramway | The collaborative e-learning\\n\\ncram...</td>\n",
       "      <td>E-Learning</td>\n",
       "      <td>Technology</td>\n",
       "    </tr>\n",
       "    <tr>\n",
       "      <th>2</th>\n",
       "      <td>Imperix is a Swiss company developing high-end...</td>\n",
       "      <td>Electrical/Electronic Manufacturing</td>\n",
       "      <td>Industrials &amp; Chemicals</td>\n",
       "    </tr>\n",
       "    <tr>\n",
       "      <th>3</th>\n",
       "      <td>Yonhap Infomax is a financial news and data pr...</td>\n",
       "      <td>Information Services</td>\n",
       "      <td>Technology</td>\n",
       "    </tr>\n",
       "    <tr>\n",
       "      <th>4</th>\n",
       "      <td>Saffron Fix is the ONLY Indian meal-kit delive...</td>\n",
       "      <td>Food &amp; Beverages</td>\n",
       "      <td>Retail and CPG</td>\n",
       "    </tr>\n",
       "    <tr>\n",
       "      <th>...</th>\n",
       "      <td>...</td>\n",
       "      <td>...</td>\n",
       "      <td>...</td>\n",
       "    </tr>\n",
       "    <tr>\n",
       "      <th>585542</th>\n",
       "      <td>The former professionals of Saslow Lufkin &amp; Bu...</td>\n",
       "      <td>Accounting</td>\n",
       "      <td>Financial Services</td>\n",
       "    </tr>\n",
       "    <tr>\n",
       "      <th>585543</th>\n",
       "      <td>Samuel L. Bryant Investments has over 5 decade...</td>\n",
       "      <td>Real Estate</td>\n",
       "      <td>Professional Services</td>\n",
       "    </tr>\n",
       "    <tr>\n",
       "      <th>585544</th>\n",
       "      <td>Deliberately disruptive and culturally connect...</td>\n",
       "      <td>Public Relations and Communications</td>\n",
       "      <td>Professional Services</td>\n",
       "    </tr>\n",
       "    <tr>\n",
       "      <th>585545</th>\n",
       "      <td>Shandong Polymer Biochemicals is a biotechnolo...</td>\n",
       "      <td>Biotechnology</td>\n",
       "      <td>Healthcare and Lifesciences</td>\n",
       "    </tr>\n",
       "    <tr>\n",
       "      <th>585546</th>\n",
       "      <td>SL Capital Partners LLP (SL Capital) is a subs...</td>\n",
       "      <td>Investment Management</td>\n",
       "      <td>Financial Services</td>\n",
       "    </tr>\n",
       "  </tbody>\n",
       "</table>\n",
       "<p>585547 rows × 3 columns</p>\n",
       "</div>"
      ],
      "text/plain": [
       "                                      company_description  \\\n",
       "0       ProLeads is The Holy Grail of Account Based Pr...   \n",
       "1       cramway | The collaborative e-learning\\n\\ncram...   \n",
       "2       Imperix is a Swiss company developing high-end...   \n",
       "3       Yonhap Infomax is a financial news and data pr...   \n",
       "4       Saffron Fix is the ONLY Indian meal-kit delive...   \n",
       "...                                                   ...   \n",
       "585542  The former professionals of Saslow Lufkin & Bu...   \n",
       "585543  Samuel L. Bryant Investments has over 5 decade...   \n",
       "585544  Deliberately disruptive and culturally connect...   \n",
       "585545  Shandong Polymer Biochemicals is a biotechnolo...   \n",
       "585546  SL Capital Partners LLP (SL Capital) is a subs...   \n",
       "\n",
       "                           company_industry               company_sector  \n",
       "0       Information Technology and Services                   Technology  \n",
       "1                                E-Learning                   Technology  \n",
       "2       Electrical/Electronic Manufacturing      Industrials & Chemicals  \n",
       "3                      Information Services                   Technology  \n",
       "4                          Food & Beverages               Retail and CPG  \n",
       "...                                     ...                          ...  \n",
       "585542                           Accounting           Financial Services  \n",
       "585543                          Real Estate        Professional Services  \n",
       "585544  Public Relations and Communications        Professional Services  \n",
       "585545                        Biotechnology  Healthcare and Lifesciences  \n",
       "585546                Investment Management           Financial Services  \n",
       "\n",
       "[585547 rows x 3 columns]"
      ]
     },
     "execution_count": 23,
     "metadata": {},
     "output_type": "execute_result"
    }
   ],
   "source": [
    "data"
   ]
  },
  {
   "cell_type": "code",
   "execution_count": 34,
   "id": "ff4ef8b5",
   "metadata": {},
   "outputs": [],
   "source": [
    "def get_non_Eng(data):\n",
    "    fin_data=pd.DataFrame()\n",
    "    spa_data=pd.DataFrame()\n",
    "    for i in tqdm(data.index):\n",
    "        ini_len = len(data['company_description'][i])\n",
    "        \n",
    "        sen = \" \".join(w for w in nltk.wordpunct_tokenize(data['company_description'][i]) if w.lower() in words or not w.isalpha())\n",
    "\n",
    "        fin_len=len(sen)\n",
    "        if(fin_len>= 0.5*ini_len):\n",
    "            fin_data=fin_data.append(data.iloc[i])\n",
    "        else:\n",
    "            spa_data=spa_data.append(data.iloc[i])\n",
    "    fin_data.reset_index(inplace=True,drop=True)\n",
    "    spa_data.reset_index(inplace=True,drop=True)\n",
    "\n",
    "    return fin_data,spa_data"
   ]
  },
  {
   "cell_type": "code",
   "execution_count": 35,
   "id": "b83d1c90",
   "metadata": {},
   "outputs": [
    {
     "name": "stderr",
     "output_type": "stream",
     "text": [
      "100%|██████████| 585547/585547 [2:13:48<00:00, 72.93it/s]  \n"
     ]
    }
   ],
   "source": [
    "engdf,nonedf=get_non_Eng(data)"
   ]
  },
  {
   "cell_type": "code",
   "execution_count": 36,
   "id": "6b8f452a",
   "metadata": {},
   "outputs": [
    {
     "data": {
      "text/html": [
       "<div>\n",
       "<style scoped>\n",
       "    .dataframe tbody tr th:only-of-type {\n",
       "        vertical-align: middle;\n",
       "    }\n",
       "\n",
       "    .dataframe tbody tr th {\n",
       "        vertical-align: top;\n",
       "    }\n",
       "\n",
       "    .dataframe thead th {\n",
       "        text-align: right;\n",
       "    }\n",
       "</style>\n",
       "<table border=\"1\" class=\"dataframe\">\n",
       "  <thead>\n",
       "    <tr style=\"text-align: right;\">\n",
       "      <th></th>\n",
       "      <th>company_description</th>\n",
       "      <th>company_industry</th>\n",
       "      <th>company_sector</th>\n",
       "    </tr>\n",
       "  </thead>\n",
       "  <tbody>\n",
       "    <tr>\n",
       "      <th>0</th>\n",
       "      <td>HØGSKOLEN STORD/HAUGESUND is an internet compa...</td>\n",
       "      <td>Internet</td>\n",
       "      <td>Technology</td>\n",
       "    </tr>\n",
       "    <tr>\n",
       "      <th>1</th>\n",
       "      <td>sMoneybox - domácí účetnictví zdarma\\n\\nsMoney...</td>\n",
       "      <td>Financial Services</td>\n",
       "      <td>Financial Services</td>\n",
       "    </tr>\n",
       "    <tr>\n",
       "      <th>2</th>\n",
       "      <td>Berg-Hansen ble etablert i 1875, og eies i dag...</td>\n",
       "      <td>Leisure Travel &amp; Tourism</td>\n",
       "      <td>Professional Services</td>\n",
       "    </tr>\n",
       "    <tr>\n",
       "      <th>3</th>\n",
       "      <td>Vil du jobbe med Kremen av iskrem?\\nNoen morge...</td>\n",
       "      <td>Food &amp; Beverages</td>\n",
       "      <td>Retail and CPG</td>\n",
       "    </tr>\n",
       "    <tr>\n",
       "      <th>4</th>\n",
       "      <td>Maske Gruppen AS er en av landets ledende gros...</td>\n",
       "      <td>Wholesale</td>\n",
       "      <td>Retail and CPG</td>\n",
       "    </tr>\n",
       "    <tr>\n",
       "      <th>...</th>\n",
       "      <td>...</td>\n",
       "      <td>...</td>\n",
       "      <td>...</td>\n",
       "    </tr>\n",
       "    <tr>\n",
       "      <th>60689</th>\n",
       "      <td>Groothandel in refurbished laptops en laptopon...</td>\n",
       "      <td>Computer Hardware</td>\n",
       "      <td>Technology</td>\n",
       "    </tr>\n",
       "    <tr>\n",
       "      <th>60690</th>\n",
       "      <td>Skywell LLC – международная ІТ-компания с офис...</td>\n",
       "      <td>Information Technology and Services</td>\n",
       "      <td>Technology</td>\n",
       "    </tr>\n",
       "    <tr>\n",
       "      <th>60691</th>\n",
       "      <td>Brokering fine wines to cruise lines and air l...</td>\n",
       "      <td>Wine and Spirits</td>\n",
       "      <td>Retail and CPG</td>\n",
       "    </tr>\n",
       "    <tr>\n",
       "      <th>60692</th>\n",
       "      <td>SPECIALISTEN IN INTERNET MARKETING, WEBDESIGN,...</td>\n",
       "      <td>Internet</td>\n",
       "      <td>Technology</td>\n",
       "    </tr>\n",
       "    <tr>\n",
       "      <th>60693</th>\n",
       "      <td>Slash Communication est une entreprise de mark...</td>\n",
       "      <td>Marketing and Advertising</td>\n",
       "      <td>Professional Services</td>\n",
       "    </tr>\n",
       "  </tbody>\n",
       "</table>\n",
       "<p>60694 rows × 3 columns</p>\n",
       "</div>"
      ],
      "text/plain": [
       "                                     company_description  \\\n",
       "0      HØGSKOLEN STORD/HAUGESUND is an internet compa...   \n",
       "1      sMoneybox - domácí účetnictví zdarma\\n\\nsMoney...   \n",
       "2      Berg-Hansen ble etablert i 1875, og eies i dag...   \n",
       "3      Vil du jobbe med Kremen av iskrem?\\nNoen morge...   \n",
       "4      Maske Gruppen AS er en av landets ledende gros...   \n",
       "...                                                  ...   \n",
       "60689  Groothandel in refurbished laptops en laptopon...   \n",
       "60690  Skywell LLC – международная ІТ-компания с офис...   \n",
       "60691  Brokering fine wines to cruise lines and air l...   \n",
       "60692  SPECIALISTEN IN INTERNET MARKETING, WEBDESIGN,...   \n",
       "60693  Slash Communication est une entreprise de mark...   \n",
       "\n",
       "                          company_industry         company_sector  \n",
       "0                                 Internet             Technology  \n",
       "1                       Financial Services     Financial Services  \n",
       "2                 Leisure Travel & Tourism  Professional Services  \n",
       "3                         Food & Beverages         Retail and CPG  \n",
       "4                                Wholesale         Retail and CPG  \n",
       "...                                    ...                    ...  \n",
       "60689                    Computer Hardware             Technology  \n",
       "60690  Information Technology and Services             Technology  \n",
       "60691                     Wine and Spirits         Retail and CPG  \n",
       "60692                             Internet             Technology  \n",
       "60693            Marketing and Advertising  Professional Services  \n",
       "\n",
       "[60694 rows x 3 columns]"
      ]
     },
     "execution_count": 36,
     "metadata": {},
     "output_type": "execute_result"
    }
   ],
   "source": [
    "nonedf"
   ]
  },
  {
   "cell_type": "code",
   "execution_count": 39,
   "id": "dfe1a6ce",
   "metadata": {},
   "outputs": [],
   "source": [
    "nonedf.to_excel(\"../data/nonEng_split.xlsx\")"
   ]
  },
  {
   "cell_type": "code",
   "execution_count": null,
   "id": "a6ccac41",
   "metadata": {},
   "outputs": [],
   "source": [
    "engdf.to_excel(\"../data/Eng_split.xlsx\", engine='xlsxwriter')"
   ]
  },
  {
   "cell_type": "code",
   "execution_count": 46,
   "id": "a69f639e",
   "metadata": {},
   "outputs": [],
   "source": [
    "engdf.to_csv(\"../data/Eng_split.csv\",encoding='utf8')"
   ]
  },
  {
   "cell_type": "code",
   "execution_count": 5,
   "id": "b62b8676",
   "metadata": {
    "scrolled": true
   },
   "outputs": [
    {
     "name": "stderr",
     "output_type": "stream",
     "text": [
      "/home/slintel/bert/lib/python3.6/site-packages/IPython/core/interactiveshell.py:3072: DtypeWarning: Columns (4) have mixed types.Specify dtype option on import or set low_memory=False.\n",
      "  interactivity=interactivity, compiler=compiler, result=result)\n"
     ]
    }
   ],
   "source": [
    "df = pd.read_csv(\"../data/6lakh_pipeline_company_companies_data_2021-07-21.csv\")\n",
    "\n",
    "df=df[['_id','company_description']]\n",
    "\n",
    "pd.merge(df, data, on=\"company_description\")"
   ]
  },
  {
   "cell_type": "code",
   "execution_count": 47,
   "id": "a32abdc1",
   "metadata": {
    "scrolled": true
   },
   "outputs": [
    {
     "name": "stdout",
     "output_type": "stream",
     "text": [
      "{'language': 'en', 'score': 0.9999952866913357}\n"
     ]
    }
   ],
   "source": [
    "from spacy_langdetect import LanguageDetector\n",
    "import spacy\n",
    "nlp = spacy.load('en_core_web_sm')  # 1\n",
    "nlp.add_pipe('language_detector', last=True) #2\n",
    "text_content = \"My name mohit in Berlin.\"\n",
    "doc = nlp(text_content) #3\n",
    "detect_language = doc._.language #4\n",
    "print(detect_language)"
   ]
  },
  {
   "cell_type": "code",
   "execution_count": 48,
   "id": "167efbb9",
   "metadata": {},
   "outputs": [],
   "source": [
    "noneng=pd.read_excel(\"../data/nonEng_split.xlsx\")"
   ]
  },
  {
   "cell_type": "code",
   "execution_count": null,
   "id": "a20cec8a",
   "metadata": {},
   "outputs": [],
   "source": [
    "count=0\n",
    "for i in tqdm(noneng.index):\n",
    "    text_content = noneng['company_description'][i]\n",
    "    doc = nlp(text_content) #3\n",
    "    detect_language = doc._.language #4\n",
    "    if('en'==detect_language['language']):\n",
    "        count+=1\n",
    "#         print(text_content,\"\\n\")"
   ]
  },
  {
   "cell_type": "code",
   "execution_count": 52,
   "id": "4bb40218",
   "metadata": {},
   "outputs": [],
   "source": [
    "def get_lang(x):\n",
    "    text_content = x\n",
    "    doc = nlp(text_content) #3\n",
    "    detect_language = doc._.language #4\n",
    "    return detect_language['language']"
   ]
  },
  {
   "cell_type": "code",
   "execution_count": 57,
   "id": "0ae611de",
   "metadata": {},
   "outputs": [
    {
     "name": "stderr",
     "output_type": "stream",
     "text": [
      "100%|██████████| 60694/60694 [23:24<00:00, 43.22it/s]\n"
     ]
    }
   ],
   "source": [
    "tqdm.pandas()\n",
    "\n",
    "noneng['language']=noneng.progress_apply(lambda i: get_lang(i['company_description']),axis=1)"
   ]
  },
  {
   "cell_type": "code",
   "execution_count": 55,
   "id": "12cbae46",
   "metadata": {},
   "outputs": [
    {
     "data": {
      "text/plain": [
       "Index(['Unnamed: 0', 'company_description', 'company_industry',\n",
       "       'company_sector'],\n",
       "      dtype='object')"
      ]
     },
     "execution_count": 55,
     "metadata": {},
     "output_type": "execute_result"
    }
   ],
   "source": [
    "noneng.columns"
   ]
  },
  {
   "cell_type": "code",
   "execution_count": 58,
   "id": "afc99e35",
   "metadata": {},
   "outputs": [
    {
     "data": {
      "text/html": [
       "<div>\n",
       "<style scoped>\n",
       "    .dataframe tbody tr th:only-of-type {\n",
       "        vertical-align: middle;\n",
       "    }\n",
       "\n",
       "    .dataframe tbody tr th {\n",
       "        vertical-align: top;\n",
       "    }\n",
       "\n",
       "    .dataframe thead th {\n",
       "        text-align: right;\n",
       "    }\n",
       "</style>\n",
       "<table border=\"1\" class=\"dataframe\">\n",
       "  <thead>\n",
       "    <tr style=\"text-align: right;\">\n",
       "      <th></th>\n",
       "      <th>Unnamed: 0</th>\n",
       "      <th>company_description</th>\n",
       "      <th>company_industry</th>\n",
       "      <th>company_sector</th>\n",
       "      <th>language</th>\n",
       "    </tr>\n",
       "  </thead>\n",
       "  <tbody>\n",
       "    <tr>\n",
       "      <th>0</th>\n",
       "      <td>0</td>\n",
       "      <td>HØGSKOLEN STORD/HAUGESUND is an internet compa...</td>\n",
       "      <td>Internet</td>\n",
       "      <td>Technology</td>\n",
       "      <td>en</td>\n",
       "    </tr>\n",
       "    <tr>\n",
       "      <th>1</th>\n",
       "      <td>1</td>\n",
       "      <td>sMoneybox - domácí účetnictví zdarma\\n\\nsMoney...</td>\n",
       "      <td>Financial Services</td>\n",
       "      <td>Financial Services</td>\n",
       "      <td>cs</td>\n",
       "    </tr>\n",
       "    <tr>\n",
       "      <th>2</th>\n",
       "      <td>2</td>\n",
       "      <td>Berg-Hansen ble etablert i 1875, og eies i dag...</td>\n",
       "      <td>Leisure Travel &amp; Tourism</td>\n",
       "      <td>Professional Services</td>\n",
       "      <td>no</td>\n",
       "    </tr>\n",
       "    <tr>\n",
       "      <th>3</th>\n",
       "      <td>3</td>\n",
       "      <td>Vil du jobbe med Kremen av iskrem?\\nNoen morge...</td>\n",
       "      <td>Food &amp; Beverages</td>\n",
       "      <td>Retail and CPG</td>\n",
       "      <td>no</td>\n",
       "    </tr>\n",
       "    <tr>\n",
       "      <th>4</th>\n",
       "      <td>4</td>\n",
       "      <td>Maske Gruppen AS er en av landets ledende gros...</td>\n",
       "      <td>Wholesale</td>\n",
       "      <td>Retail and CPG</td>\n",
       "      <td>no</td>\n",
       "    </tr>\n",
       "    <tr>\n",
       "      <th>...</th>\n",
       "      <td>...</td>\n",
       "      <td>...</td>\n",
       "      <td>...</td>\n",
       "      <td>...</td>\n",
       "      <td>...</td>\n",
       "    </tr>\n",
       "    <tr>\n",
       "      <th>60689</th>\n",
       "      <td>60689</td>\n",
       "      <td>Groothandel in refurbished laptops en laptopon...</td>\n",
       "      <td>Computer Hardware</td>\n",
       "      <td>Technology</td>\n",
       "      <td>nl</td>\n",
       "    </tr>\n",
       "    <tr>\n",
       "      <th>60690</th>\n",
       "      <td>60690</td>\n",
       "      <td>Skywell LLC – международная ІТ-компания с офис...</td>\n",
       "      <td>Information Technology and Services</td>\n",
       "      <td>Technology</td>\n",
       "      <td>ru</td>\n",
       "    </tr>\n",
       "    <tr>\n",
       "      <th>60691</th>\n",
       "      <td>60691</td>\n",
       "      <td>Brokering fine wines to cruise lines and air l...</td>\n",
       "      <td>Wine and Spirits</td>\n",
       "      <td>Retail and CPG</td>\n",
       "      <td>en</td>\n",
       "    </tr>\n",
       "    <tr>\n",
       "      <th>60692</th>\n",
       "      <td>60692</td>\n",
       "      <td>SPECIALISTEN IN INTERNET MARKETING, WEBDESIGN,...</td>\n",
       "      <td>Internet</td>\n",
       "      <td>Technology</td>\n",
       "      <td>nl</td>\n",
       "    </tr>\n",
       "    <tr>\n",
       "      <th>60693</th>\n",
       "      <td>60693</td>\n",
       "      <td>Slash Communication est une entreprise de mark...</td>\n",
       "      <td>Marketing and Advertising</td>\n",
       "      <td>Professional Services</td>\n",
       "      <td>fr</td>\n",
       "    </tr>\n",
       "  </tbody>\n",
       "</table>\n",
       "<p>60694 rows × 5 columns</p>\n",
       "</div>"
      ],
      "text/plain": [
       "       Unnamed: 0                                company_description  \\\n",
       "0               0  HØGSKOLEN STORD/HAUGESUND is an internet compa...   \n",
       "1               1  sMoneybox - domácí účetnictví zdarma\\n\\nsMoney...   \n",
       "2               2  Berg-Hansen ble etablert i 1875, og eies i dag...   \n",
       "3               3  Vil du jobbe med Kremen av iskrem?\\nNoen morge...   \n",
       "4               4  Maske Gruppen AS er en av landets ledende gros...   \n",
       "...           ...                                                ...   \n",
       "60689       60689  Groothandel in refurbished laptops en laptopon...   \n",
       "60690       60690  Skywell LLC – международная ІТ-компания с офис...   \n",
       "60691       60691  Brokering fine wines to cruise lines and air l...   \n",
       "60692       60692  SPECIALISTEN IN INTERNET MARKETING, WEBDESIGN,...   \n",
       "60693       60693  Slash Communication est une entreprise de mark...   \n",
       "\n",
       "                          company_industry         company_sector language  \n",
       "0                                 Internet             Technology       en  \n",
       "1                       Financial Services     Financial Services       cs  \n",
       "2                 Leisure Travel & Tourism  Professional Services       no  \n",
       "3                         Food & Beverages         Retail and CPG       no  \n",
       "4                                Wholesale         Retail and CPG       no  \n",
       "...                                    ...                    ...      ...  \n",
       "60689                    Computer Hardware             Technology       nl  \n",
       "60690  Information Technology and Services             Technology       ru  \n",
       "60691                     Wine and Spirits         Retail and CPG       en  \n",
       "60692                             Internet             Technology       nl  \n",
       "60693            Marketing and Advertising  Professional Services       fr  \n",
       "\n",
       "[60694 rows x 5 columns]"
      ]
     },
     "execution_count": 58,
     "metadata": {},
     "output_type": "execute_result"
    }
   ],
   "source": [
    "noneng"
   ]
  },
  {
   "cell_type": "code",
   "execution_count": 60,
   "id": "e50cc442",
   "metadata": {},
   "outputs": [
    {
     "data": {
      "text/html": [
       "<div>\n",
       "<style scoped>\n",
       "    .dataframe tbody tr th:only-of-type {\n",
       "        vertical-align: middle;\n",
       "    }\n",
       "\n",
       "    .dataframe tbody tr th {\n",
       "        vertical-align: top;\n",
       "    }\n",
       "\n",
       "    .dataframe thead th {\n",
       "        text-align: right;\n",
       "    }\n",
       "</style>\n",
       "<table border=\"1\" class=\"dataframe\">\n",
       "  <thead>\n",
       "    <tr style=\"text-align: right;\">\n",
       "      <th></th>\n",
       "      <th>Unnamed: 0</th>\n",
       "      <th>company_description</th>\n",
       "      <th>company_industry</th>\n",
       "      <th>company_sector</th>\n",
       "      <th>language</th>\n",
       "    </tr>\n",
       "  </thead>\n",
       "  <tbody>\n",
       "    <tr>\n",
       "      <th>0</th>\n",
       "      <td>0</td>\n",
       "      <td>HØGSKOLEN STORD/HAUGESUND is an internet compa...</td>\n",
       "      <td>Internet</td>\n",
       "      <td>Technology</td>\n",
       "      <td>en</td>\n",
       "    </tr>\n",
       "    <tr>\n",
       "      <th>5</th>\n",
       "      <td>5</td>\n",
       "      <td>3B Fiberglass developer and supplier of fibreg...</td>\n",
       "      <td>Glass Ceramics &amp; Concrete</td>\n",
       "      <td>Industrials &amp; Chemicals</td>\n",
       "      <td>en</td>\n",
       "    </tr>\n",
       "    <tr>\n",
       "      <th>6</th>\n",
       "      <td>6</td>\n",
       "      <td>Neville Clarke is a consultancy and training o...</td>\n",
       "      <td>Management Consulting</td>\n",
       "      <td>Professional Services</td>\n",
       "      <td>en</td>\n",
       "    </tr>\n",
       "    <tr>\n",
       "      <th>11</th>\n",
       "      <td>11</td>\n",
       "      <td>Kapa Biosystems offers next generation sequenc...</td>\n",
       "      <td>Biotechnology</td>\n",
       "      <td>Healthcare and Lifesciences</td>\n",
       "      <td>en</td>\n",
       "    </tr>\n",
       "    <tr>\n",
       "      <th>21</th>\n",
       "      <td>21</td>\n",
       "      <td>IT services</td>\n",
       "      <td>Information Technology and Services</td>\n",
       "      <td>Technology</td>\n",
       "      <td>en</td>\n",
       "    </tr>\n",
       "    <tr>\n",
       "      <th>...</th>\n",
       "      <td>...</td>\n",
       "      <td>...</td>\n",
       "      <td>...</td>\n",
       "      <td>...</td>\n",
       "      <td>...</td>\n",
       "    </tr>\n",
       "    <tr>\n",
       "      <th>60647</th>\n",
       "      <td>60647</td>\n",
       "      <td>SmarterCircle is a marketing company which dev...</td>\n",
       "      <td>Internet</td>\n",
       "      <td>Technology</td>\n",
       "      <td>en</td>\n",
       "    </tr>\n",
       "    <tr>\n",
       "      <th>60656</th>\n",
       "      <td>60656</td>\n",
       "      <td>Skills in Healthcare is a pharmaceuticals comp...</td>\n",
       "      <td>Pharmaceuticals</td>\n",
       "      <td>Healthcare and Lifesciences</td>\n",
       "      <td>en</td>\n",
       "    </tr>\n",
       "    <tr>\n",
       "      <th>60674</th>\n",
       "      <td>60674</td>\n",
       "      <td>Sky Network is a Telecommunications company lo...</td>\n",
       "      <td>Telecommunications</td>\n",
       "      <td>Media and Telecom</td>\n",
       "      <td>en</td>\n",
       "    </tr>\n",
       "    <tr>\n",
       "      <th>60684</th>\n",
       "      <td>60684</td>\n",
       "      <td>SKYNICHE is an Indian multinational corporatio...</td>\n",
       "      <td>Information Technology and Services</td>\n",
       "      <td>Technology</td>\n",
       "      <td>en</td>\n",
       "    </tr>\n",
       "    <tr>\n",
       "      <th>60691</th>\n",
       "      <td>60691</td>\n",
       "      <td>Brokering fine wines to cruise lines and air l...</td>\n",
       "      <td>Wine and Spirits</td>\n",
       "      <td>Retail and CPG</td>\n",
       "      <td>en</td>\n",
       "    </tr>\n",
       "  </tbody>\n",
       "</table>\n",
       "<p>11495 rows × 5 columns</p>\n",
       "</div>"
      ],
      "text/plain": [
       "       Unnamed: 0                                company_description  \\\n",
       "0               0  HØGSKOLEN STORD/HAUGESUND is an internet compa...   \n",
       "5               5  3B Fiberglass developer and supplier of fibreg...   \n",
       "6               6  Neville Clarke is a consultancy and training o...   \n",
       "11             11  Kapa Biosystems offers next generation sequenc...   \n",
       "21             21                                        IT services   \n",
       "...           ...                                                ...   \n",
       "60647       60647  SmarterCircle is a marketing company which dev...   \n",
       "60656       60656  Skills in Healthcare is a pharmaceuticals comp...   \n",
       "60674       60674  Sky Network is a Telecommunications company lo...   \n",
       "60684       60684  SKYNICHE is an Indian multinational corporatio...   \n",
       "60691       60691  Brokering fine wines to cruise lines and air l...   \n",
       "\n",
       "                          company_industry               company_sector  \\\n",
       "0                                 Internet                   Technology   \n",
       "5                Glass Ceramics & Concrete      Industrials & Chemicals   \n",
       "6                    Management Consulting        Professional Services   \n",
       "11                           Biotechnology  Healthcare and Lifesciences   \n",
       "21     Information Technology and Services                   Technology   \n",
       "...                                    ...                          ...   \n",
       "60647                             Internet                   Technology   \n",
       "60656                      Pharmaceuticals  Healthcare and Lifesciences   \n",
       "60674                   Telecommunications            Media and Telecom   \n",
       "60684  Information Technology and Services                   Technology   \n",
       "60691                     Wine and Spirits               Retail and CPG   \n",
       "\n",
       "      language  \n",
       "0           en  \n",
       "5           en  \n",
       "6           en  \n",
       "11          en  \n",
       "21          en  \n",
       "...        ...  \n",
       "60647       en  \n",
       "60656       en  \n",
       "60674       en  \n",
       "60684       en  \n",
       "60691       en  \n",
       "\n",
       "[11495 rows x 5 columns]"
      ]
     },
     "execution_count": 60,
     "metadata": {},
     "output_type": "execute_result"
    }
   ],
   "source": [
    "noneng.loc['en'==noneng['language']]"
   ]
  },
  {
   "cell_type": "code",
   "execution_count": 98,
   "id": "20c99fde",
   "metadata": {},
   "outputs": [
    {
     "data": {
      "text/plain": [
       "Index(['company_description', 'company_industry', 'company_sector'], dtype='object')"
      ]
     },
     "execution_count": 98,
     "metadata": {},
     "output_type": "execute_result"
    }
   ],
   "source": [
    "data=pd.read_csv(\"../data/Eng_split.csv\")\n",
    "to_add = noneng.loc['en'==noneng['language']].drop('language',axis=1)\n",
    "\n",
    "data = pd.concat([data,to_add])\n",
    "data = data.drop('Unnamed: 0',axis=1)\n",
    "\n",
    "data.columns"
   ]
  },
  {
   "cell_type": "code",
   "execution_count": 99,
   "id": "0d92b4b8",
   "metadata": {},
   "outputs": [],
   "source": [
    "df = pd.read_csv(\"../data/6lakh_pipeline_company_companies_data_2021-07-21.csv\")\n",
    "\n",
    "df=df[['_id','company_description', 'company_industry', 'company_sector']]"
   ]
  },
  {
   "cell_type": "code",
   "execution_count": 100,
   "id": "f3b83780",
   "metadata": {},
   "outputs": [],
   "source": [
    "data=pd.merge(df, data, on=['company_description', 'company_industry', 'company_sector'],how='inner')"
   ]
  },
  {
   "cell_type": "code",
   "execution_count": 102,
   "id": "07827a88",
   "metadata": {},
   "outputs": [],
   "source": [
    "data.reset_index(inplace=True,drop=True)"
   ]
  },
  {
   "cell_type": "code",
   "execution_count": 126,
   "id": "65a73a23",
   "metadata": {},
   "outputs": [],
   "source": [
    "data.to_csv(\"../data/Final_data.csv\")"
   ]
  },
  {
   "cell_type": "code",
   "execution_count": 127,
   "id": "f1de63f9",
   "metadata": {},
   "outputs": [
    {
     "data": {
      "text/plain": [
       "Professional Services          5986\n",
       "Technology                     5553\n",
       "Financial Services             1952\n",
       "Retail and CPG                 1857\n",
       "Industrials & Chemicals        1703\n",
       "Healthcare and Lifesciences    1282\n",
       "Media and Telecom              1169\n",
       "Energy and Utilities            499\n",
       "Name: company_sector, dtype: int64"
      ]
     },
     "execution_count": 127,
     "metadata": {},
     "output_type": "execute_result"
    }
   ],
   "source": [
    "data['company_sector'].value_counts()"
   ]
  },
  {
   "cell_type": "code",
   "execution_count": 129,
   "id": "1943c543",
   "metadata": {},
   "outputs": [
    {
     "data": {
      "image/png": "[encoded data removed]",
      "text/plain": [
       "<Figure size 576x432 with 1 Axes>"
      ]
     },
     "metadata": {
      "needs_background": "light"
     },
     "output_type": "display_data"
    }
   ],
   "source": [
    "fig = plt.figure(figsize=(8,6))\n",
    "data.groupby('company_sector').company_description.count().plot.bar()\n",
    "plt.show()"
   ]
  },
  {
   "cell_type": "code",
   "execution_count": 2,
   "id": "1eb112c1",
   "metadata": {},
   "outputs": [],
   "source": [
    "data=pd.read_csv(\"../data/Eng_split.csv\") ##\n",
    "data=data.loc[:10000]\n",
    "df=data.loc[:10000]"
   ]
  },
  {
   "cell_type": "code",
   "execution_count": 3,
   "id": "0cd53553",
   "metadata": {},
   "outputs": [
    {
     "data": {
      "text/html": [
       "<div>\n",
       "<style scoped>\n",
       "    .dataframe tbody tr th:only-of-type {\n",
       "        vertical-align: middle;\n",
       "    }\n",
       "\n",
       "    .dataframe tbody tr th {\n",
       "        vertical-align: top;\n",
       "    }\n",
       "\n",
       "    .dataframe thead th {\n",
       "        text-align: right;\n",
       "    }\n",
       "</style>\n",
       "<table border=\"1\" class=\"dataframe\">\n",
       "  <thead>\n",
       "    <tr style=\"text-align: right;\">\n",
       "      <th></th>\n",
       "      <th>Unnamed: 0</th>\n",
       "      <th>company_description</th>\n",
       "      <th>company_industry</th>\n",
       "      <th>company_sector</th>\n",
       "      <th>text_clean</th>\n",
       "    </tr>\n",
       "  </thead>\n",
       "  <tbody>\n",
       "    <tr>\n",
       "      <th>0</th>\n",
       "      <td>0</td>\n",
       "      <td>ProLeads is The Holy Grail of Account Based Pr...</td>\n",
       "      <td>Information Technology and Services</td>\n",
       "      <td>Technology</td>\n",
       "      <td>proleads holy grail account based prospect dev...</td>\n",
       "    </tr>\n",
       "    <tr>\n",
       "      <th>1</th>\n",
       "      <td>1</td>\n",
       "      <td>cramway | The collaborative e-learning\\n\\ncram...</td>\n",
       "      <td>E-Learning</td>\n",
       "      <td>Technology</td>\n",
       "      <td>cramway collaborative elearningcramway collabo...</td>\n",
       "    </tr>\n",
       "    <tr>\n",
       "      <th>2</th>\n",
       "      <td>2</td>\n",
       "      <td>Imperix is a Swiss company developing high-end...</td>\n",
       "      <td>Electrical/Electronic Manufacturing</td>\n",
       "      <td>Industrials &amp; Chemicals</td>\n",
       "      <td>imperix swiss company developing highend contr...</td>\n",
       "    </tr>\n",
       "    <tr>\n",
       "      <th>3</th>\n",
       "      <td>3</td>\n",
       "      <td>Yonhap Infomax is a financial news and data pr...</td>\n",
       "      <td>Information Services</td>\n",
       "      <td>Technology</td>\n",
       "      <td>yonhap infomax financial news data providing c...</td>\n",
       "    </tr>\n",
       "    <tr>\n",
       "      <th>4</th>\n",
       "      <td>4</td>\n",
       "      <td>Saffron Fix is the ONLY Indian meal-kit delive...</td>\n",
       "      <td>Food &amp; Beverages</td>\n",
       "      <td>Retail and CPG</td>\n",
       "      <td>saffron fix indian mealkit delivery service us...</td>\n",
       "    </tr>\n",
       "  </tbody>\n",
       "</table>\n",
       "</div>"
      ],
      "text/plain": [
       "   Unnamed: 0                                company_description  \\\n",
       "0           0  ProLeads is The Holy Grail of Account Based Pr...   \n",
       "1           1  cramway | The collaborative e-learning\\n\\ncram...   \n",
       "2           2  Imperix is a Swiss company developing high-end...   \n",
       "3           3  Yonhap Infomax is a financial news and data pr...   \n",
       "4           4  Saffron Fix is the ONLY Indian meal-kit delive...   \n",
       "\n",
       "                      company_industry           company_sector  \\\n",
       "0  Information Technology and Services               Technology   \n",
       "1                           E-Learning               Technology   \n",
       "2  Electrical/Electronic Manufacturing  Industrials & Chemicals   \n",
       "3                 Information Services               Technology   \n",
       "4                     Food & Beverages           Retail and CPG   \n",
       "\n",
       "                                          text_clean  \n",
       "0  proleads holy grail account based prospect dev...  \n",
       "1  cramway collaborative elearningcramway collabo...  \n",
       "2  imperix swiss company developing highend contr...  \n",
       "3  yonhap infomax financial news data providing c...  \n",
       "4  saffron fix indian mealkit delivery service us...  "
      ]
     },
     "execution_count": 3,
     "metadata": {},
     "output_type": "execute_result"
    }
   ],
   "source": [
    "import re\n",
    "import nltk.corpus\n",
    "from nltk.corpus import stopwords\n",
    "\n",
    "def  clean_text(df, text_field, new_text_field_name):\n",
    "    df[new_text_field_name] = df[text_field].str.lower()\n",
    "    df[new_text_field_name] = df[new_text_field_name].apply(lambda elem: re.sub(r\"(@[A-Za-z0-9]+)|([^0-9A-Za-z \\t])|(\\w+:\\/\\/\\S+)|^rt|http.+?\", \"\", elem))  \n",
    "    df[new_text_field_name] = df[new_text_field_name].apply(lambda elem: re.sub(r\"\\d+\", \"\", elem))\n",
    "    return df\n",
    "\n",
    "data_clean = clean_text(data, 'company_description', 'text_clean')\n",
    "\n",
    "stop = stopwords.words('english')\n",
    "data_clean['text_clean'] = data_clean['text_clean'].apply(lambda x: ' '.join([word for word in x.split() if word not in (stop)]))\n",
    "data_clean.head()\n",
    "\n",
    "# import nltk \n",
    "# nltk.download('punkt')\n",
    "# from nltk.tokenize import sent_tokenize, word_tokenize\n",
    "# data_clean['text_tokens'] = data_clean['text_clean'].apply(lambda x: word_tokenize(x))\n",
    "# data_clean.head()\n",
    "\n",
    "# from nltk.stem import PorterStemmer \n",
    "# from nltk.tokenize import word_tokenize\n",
    "# def word_stemmer(text):\n",
    "#     stem_text = [PorterStemmer().stem(i) for i in text]\n",
    "#     return stem_text\n",
    "# data_clean['text_tokens_stem'] = data_clean['text_tokens'].apply(lambda x: word_stemmer(x))\n",
    "# data_clean.head()\n",
    "\n",
    "# nltk.download('wordnet')\n",
    "# from nltk.stem import WordNetLemmatizer\n",
    "# def word_lemmatizer(text):\n",
    "#     lem_text = [WordNetLemmatizer().lemmatize(i) for i in text]\n",
    "#     return lem_text\n",
    "# data_clean['text_tokens_lemma'] = data_clean['text_tokens'].apply(lambda x: word_lemmatizer(x))\n",
    "# data_clean.head()"
   ]
  },
  {
   "cell_type": "code",
   "execution_count": 4,
   "id": "ca9cfc8f",
   "metadata": {},
   "outputs": [],
   "source": [
    "data_clean['company_description']=data_clean['text_clean']\n",
    "df= data_clean"
   ]
  },
  {
   "cell_type": "code",
   "execution_count": 5,
   "id": "0249bfb6",
   "metadata": {},
   "outputs": [
    {
     "data": {
      "text/html": [
       "<div>\n",
       "<style scoped>\n",
       "    .dataframe tbody tr th:only-of-type {\n",
       "        vertical-align: middle;\n",
       "    }\n",
       "\n",
       "    .dataframe tbody tr th {\n",
       "        vertical-align: top;\n",
       "    }\n",
       "\n",
       "    .dataframe thead th {\n",
       "        text-align: right;\n",
       "    }\n",
       "</style>\n",
       "<table border=\"1\" class=\"dataframe\">\n",
       "  <thead>\n",
       "    <tr style=\"text-align: right;\">\n",
       "      <th></th>\n",
       "      <th>company_sector</th>\n",
       "      <th>company_description</th>\n",
       "      <th>category_id</th>\n",
       "    </tr>\n",
       "  </thead>\n",
       "  <tbody>\n",
       "    <tr>\n",
       "      <th>0</th>\n",
       "      <td>Technology</td>\n",
       "      <td>proleads holy grail account based prospect dev...</td>\n",
       "      <td>0</td>\n",
       "    </tr>\n",
       "    <tr>\n",
       "      <th>1</th>\n",
       "      <td>Technology</td>\n",
       "      <td>cramway collaborative elearningcramway collabo...</td>\n",
       "      <td>0</td>\n",
       "    </tr>\n",
       "    <tr>\n",
       "      <th>2</th>\n",
       "      <td>Industrials &amp; Chemicals</td>\n",
       "      <td>imperix swiss company developing highend contr...</td>\n",
       "      <td>1</td>\n",
       "    </tr>\n",
       "    <tr>\n",
       "      <th>3</th>\n",
       "      <td>Technology</td>\n",
       "      <td>yonhap infomax financial news data providing c...</td>\n",
       "      <td>0</td>\n",
       "    </tr>\n",
       "    <tr>\n",
       "      <th>4</th>\n",
       "      <td>Retail and CPG</td>\n",
       "      <td>saffron fix indian mealkit delivery service us...</td>\n",
       "      <td>2</td>\n",
       "    </tr>\n",
       "  </tbody>\n",
       "</table>\n",
       "</div>"
      ],
      "text/plain": [
       "            company_sector                                company_description  \\\n",
       "0               Technology  proleads holy grail account based prospect dev...   \n",
       "1               Technology  cramway collaborative elearningcramway collabo...   \n",
       "2  Industrials & Chemicals  imperix swiss company developing highend contr...   \n",
       "3               Technology  yonhap infomax financial news data providing c...   \n",
       "4           Retail and CPG  saffron fix indian mealkit delivery service us...   \n",
       "\n",
       "   category_id  \n",
       "0            0  \n",
       "1            0  \n",
       "2            1  \n",
       "3            0  \n",
       "4            2  "
      ]
     },
     "execution_count": 5,
     "metadata": {},
     "output_type": "execute_result"
    }
   ],
   "source": [
    "from io import StringIO\n",
    "col = ['company_sector', 'company_description']\n",
    "df = df[col]\n",
    "df = df[pd.notnull(df['company_description'])]\n",
    "df.columns = ['company_sector', 'company_description']\n",
    "df['category_id'] = df['company_sector'].factorize()[0]\n",
    "category_id_df = df[['company_sector', 'category_id']].drop_duplicates().sort_values('category_id')\n",
    "category_to_id = dict(category_id_df.values)\n",
    "id_to_category = dict(category_id_df[['category_id', 'company_sector']].values)\n",
    "df.head()"
   ]
  },
  {
   "cell_type": "code",
   "execution_count": 6,
   "id": "c4cd5773",
   "metadata": {},
   "outputs": [
    {
     "data": {
      "text/plain": [
       "(10001, 18158)"
      ]
     },
     "execution_count": 6,
     "metadata": {},
     "output_type": "execute_result"
    }
   ],
   "source": [
    "from sklearn.feature_extraction.text import TfidfVectorizer\n",
    "tfidf = TfidfVectorizer(sublinear_tf=True, min_df=5, norm='l2', encoding='latin-1', ngram_range=(1, 2), stop_words='english')\n",
    "features = tfidf.fit_transform(df.company_description).toarray()\n",
    "labels = df.category_id\n",
    "features.shape"
   ]
  },
  {
   "cell_type": "code",
   "execution_count": 7,
   "id": "86845e49",
   "metadata": {},
   "outputs": [
    {
     "name": "stdout",
     "output_type": "stream",
     "text": [
      "# 'Energy and Utilities':\n",
      "  . Most correlated unigrams:\n",
      ". gas\n",
      ". energy\n",
      "  . Most correlated bigrams:\n",
      ". energy company\n",
      ". natural gas\n",
      "# 'Financial Services':\n",
      "  . Most correlated unigrams:\n",
      ". investment\n",
      ". insurance\n",
      "  . Most correlated bigrams:\n",
      ". financial services\n",
      ". private equity\n",
      "# 'Healthcare and Lifesciences':\n",
      "  . Most correlated unigrams:\n",
      ". health\n",
      ". care\n",
      "  . Most correlated bigrams:\n",
      ". care company\n",
      ". health care\n",
      "# 'Industrials & Chemicals':\n",
      "  . Most correlated unigrams:\n",
      ". aircraft\n",
      ". automotive\n",
      "  . Most correlated bigrams:\n",
      ". electricalelectronic manufacturing\n",
      ". automotive company\n",
      "# 'Media and Telecom':\n",
      "  . Most correlated unigrams:\n",
      ". wireless\n",
      ". news\n",
      "  . Most correlated bigrams:\n",
      ". motion pictures\n",
      ". telecommunications company\n",
      "# 'Professional Services':\n",
      "  . Most correlated unigrams:\n",
      ". university\n",
      ". school\n",
      "  . Most correlated bigrams:\n",
      ". college school\n",
      ". real estate\n",
      "# 'Retail and CPG':\n",
      "  . Most correlated unigrams:\n",
      ". fashion\n",
      ". wine\n",
      "  . Most correlated bigrams:\n",
      ". goods company\n",
      ". retail company\n",
      "# 'Technology':\n",
      "  . Most correlated unigrams:\n",
      ". cloud\n",
      ". software\n",
      "  . Most correlated bigrams:\n",
      ". technology services\n",
      ". information technology\n"
     ]
    }
   ],
   "source": [
    "from sklearn.feature_selection import chi2\n",
    "import numpy as np\n",
    "N = 2\n",
    "for Product, category_id in sorted(category_to_id.items()):\n",
    "  features_chi2 = chi2(features, labels == category_id)\n",
    "  indices = np.argsort(features_chi2[0])\n",
    "  feature_names = np.array(tfidf.get_feature_names())[indices]\n",
    "  unigrams = [v for v in feature_names if len(v.split(' ')) == 1]\n",
    "  bigrams = [v for v in feature_names if len(v.split(' ')) == 2]\n",
    "  print(\"# '{}':\".format(Product))\n",
    "  print(\"  . Most correlated unigrams:\\n. {}\".format('\\n. '.join(unigrams[-N:])))\n",
    "  print(\"  . Most correlated bigrams:\\n. {}\".format('\\n. '.join(bigrams[-N:])))"
   ]
  },
  {
   "cell_type": "code",
   "execution_count": 8,
   "id": "23b8c92c",
   "metadata": {},
   "outputs": [],
   "source": [
    "from sklearn.model_selection import train_test_split\n",
    "from sklearn.feature_extraction.text import CountVectorizer\n",
    "from sklearn.feature_extraction.text import TfidfTransformer\n",
    "from sklearn.naive_bayes import MultinomialNB\n",
    "X_train, X_test, y_train, y_test = train_test_split(df['company_description'], df['company_sector'], random_state = 0)\n",
    "count_vect = CountVectorizer()\n",
    "X_train_counts = count_vect.fit_transform(X_train)\n",
    "tfidf_transformer = TfidfTransformer()\n",
    "X_train_tfidf = tfidf_transformer.fit_transform(X_train_counts)\n",
    "clf = MultinomialNB().fit(X_train_tfidf, y_train)"
   ]
  },
  {
   "cell_type": "code",
   "execution_count": 10,
   "id": "374f79be",
   "metadata": {},
   "outputs": [
    {
     "name": "stderr",
     "output_type": "stream",
     "text": [
      "/home/slintel/bert/lib/python3.6/site-packages/sklearn/linear_model/_logistic.py:765: ConvergenceWarning: lbfgs failed to converge (status=1):\n",
      "STOP: TOTAL NO. of ITERATIONS REACHED LIMIT.\n",
      "\n",
      "Increase the number of iterations (max_iter) or scale the data as shown in:\n",
      "    https://scikit-learn.org/stable/modules/preprocessing.html\n",
      "Please also refer to the documentation for alternative solver options:\n",
      "    https://scikit-learn.org/stable/modules/linear_model.html#logistic-regression\n",
      "  extra_warning_msg=_LOGISTIC_SOLVER_CONVERGENCE_MSG)\n",
      "/home/slintel/bert/lib/python3.6/site-packages/sklearn/linear_model/_logistic.py:765: ConvergenceWarning: lbfgs failed to converge (status=1):\n",
      "STOP: TOTAL NO. of ITERATIONS REACHED LIMIT.\n",
      "\n",
      "Increase the number of iterations (max_iter) or scale the data as shown in:\n",
      "    https://scikit-learn.org/stable/modules/preprocessing.html\n",
      "Please also refer to the documentation for alternative solver options:\n",
      "    https://scikit-learn.org/stable/modules/linear_model.html#logistic-regression\n",
      "  extra_warning_msg=_LOGISTIC_SOLVER_CONVERGENCE_MSG)\n",
      "/home/slintel/bert/lib/python3.6/site-packages/sklearn/linear_model/_logistic.py:765: ConvergenceWarning: lbfgs failed to converge (status=1):\n",
      "STOP: TOTAL NO. of ITERATIONS REACHED LIMIT.\n",
      "\n",
      "Increase the number of iterations (max_iter) or scale the data as shown in:\n",
      "    https://scikit-learn.org/stable/modules/preprocessing.html\n",
      "Please also refer to the documentation for alternative solver options:\n",
      "    https://scikit-learn.org/stable/modules/linear_model.html#logistic-regression\n",
      "  extra_warning_msg=_LOGISTIC_SOLVER_CONVERGENCE_MSG)\n",
      "/home/slintel/bert/lib/python3.6/site-packages/sklearn/linear_model/_logistic.py:765: ConvergenceWarning: lbfgs failed to converge (status=1):\n",
      "STOP: TOTAL NO. of ITERATIONS REACHED LIMIT.\n",
      "\n",
      "Increase the number of iterations (max_iter) or scale the data as shown in:\n",
      "    https://scikit-learn.org/stable/modules/preprocessing.html\n",
      "Please also refer to the documentation for alternative solver options:\n",
      "    https://scikit-learn.org/stable/modules/linear_model.html#logistic-regression\n",
      "  extra_warning_msg=_LOGISTIC_SOLVER_CONVERGENCE_MSG)\n",
      "/home/slintel/bert/lib/python3.6/site-packages/sklearn/linear_model/_logistic.py:765: ConvergenceWarning: lbfgs failed to converge (status=1):\n",
      "STOP: TOTAL NO. of ITERATIONS REACHED LIMIT.\n",
      "\n",
      "Increase the number of iterations (max_iter) or scale the data as shown in:\n",
      "    https://scikit-learn.org/stable/modules/preprocessing.html\n",
      "Please also refer to the documentation for alternative solver options:\n",
      "    https://scikit-learn.org/stable/modules/linear_model.html#logistic-regression\n",
      "  extra_warning_msg=_LOGISTIC_SOLVER_CONVERGENCE_MSG)\n"
     ]
    },
    {
     "data": {
      "image/png": "[encoded data removed]",
      "text/plain": [
       "<Figure size 432x288 with 1 Axes>"
      ]
     },
     "metadata": {
      "needs_background": "light"
     },
     "output_type": "display_data"
    }
   ],
   "source": [
    "from sklearn.linear_model import LogisticRegression\n",
    "from sklearn.ensemble import RandomForestClassifier\n",
    "from sklearn.svm import LinearSVC\n",
    "from sklearn.model_selection import cross_val_score\n",
    "models = [\n",
    "    RandomForestClassifier(n_estimators=200, max_depth=3, random_state=0),\n",
    "    LinearSVC(),\n",
    "     MultinomialNB(),\n",
    "    LogisticRegression(random_state=0),\n",
    "]\n",
    "CV = 5\n",
    "cv_df = pd.DataFrame(index=range(CV * len(models)))\n",
    "entries = []\n",
    "for model in models:\n",
    "  model_name = model.__class__.__name__\n",
    "  accuracies = cross_val_score(model, features, labels, scoring='accuracy', cv=CV)\n",
    "  for fold_idx, accuracy in enumerate(accuracies):\n",
    "    entries.append((model_name, fold_idx, accuracy))\n",
    "cv_df = pd.DataFrame(entries, columns=['model_name', 'fold_idx', 'accuracy'])\n",
    "import seaborn as sns\n",
    "sns.boxplot(x='model_name', y='accuracy', data=cv_df)\n",
    "sns.stripplot(x='model_name', y='accuracy', data=cv_df, \n",
    "              size=8, jitter=True, edgecolor=\"gray\", linewidth=2)\n",
    "plt.show()"
   ]
  },
  {
   "cell_type": "code",
   "execution_count": 13,
   "id": "f61cce53",
   "metadata": {},
   "outputs": [
    {
     "data": {
      "image/png": "[encoded data removed]",
      "text/plain": [
       "<Figure size 720x720 with 2 Axes>"
      ]
     },
     "metadata": {
      "needs_background": "light"
     },
     "output_type": "display_data"
    }
   ],
   "source": [
    "model = LinearSVC()\n",
    "X_train, X_test, y_train, y_test, indices_train, indices_test = train_test_split(features, labels, df.index, test_size=0.33, random_state=0)\n",
    "model.fit(X_train, y_train)\n",
    "y_pred = model.predict(X_test)\n",
    "from sklearn.metrics import confusion_matrix\n",
    "conf_mat = confusion_matrix(y_test, y_pred)\n",
    "fig, ax = plt.subplots(figsize=(10,10))\n",
    "sns.heatmap(conf_mat, annot=True, fmt='d',\n",
    "            xticklabels=category_id_df.company_sector.values, yticklabels=category_id_df.company_sector.values)\n",
    "plt.ylabel('Actual')\n",
    "plt.xlabel('Predicted')\n",
    "plt.show()"
   ]
  },
  {
   "cell_type": "code",
   "execution_count": 14,
   "id": "f150ec26",
   "metadata": {},
   "outputs": [
    {
     "name": "stdout",
     "output_type": "stream",
     "text": [
      "                             precision    recall  f1-score   support\n",
      "\n",
      "                 Technology       0.64      0.72      0.67       780\n",
      "    Industrials & Chemicals       0.62      0.57      0.59       304\n",
      "             Retail and CPG       0.69      0.61      0.64       331\n",
      "      Professional Services       0.65      0.71      0.68      1003\n",
      "Healthcare and Lifesciences       0.78      0.77      0.77       254\n",
      "         Financial Services       0.83      0.82      0.83       346\n",
      "          Media and Telecom       0.74      0.40      0.52       192\n",
      "       Energy and Utilities       0.80      0.56      0.66        91\n",
      "\n",
      "                   accuracy                           0.68      3301\n",
      "                  macro avg       0.72      0.64      0.67      3301\n",
      "               weighted avg       0.69      0.68      0.68      3301\n",
      "\n"
     ]
    }
   ],
   "source": [
    "from sklearn import metrics\n",
    "print(metrics.classification_report(y_test, y_pred, target_names=df['company_sector'].unique()))"
   ]
  },
  {
   "cell_type": "code",
   "execution_count": null,
   "id": "65ce52c9",
   "metadata": {},
   "outputs": [],
   "source": []
  }
 ],
 "metadata": {
  "kernelspec": {
   "display_name": "Python 3",
   "language": "python",
   "name": "python3"
  },
  "language_info": {
   "codemirror_mode": {
    "name": "ipython",
    "version": 3
   },
   "file_extension": ".py",
   "mimetype": "text/x-python",
   "name": "python",
   "nbconvert_exporter": "python",
   "pygments_lexer": "ipython3",
   "version": "3.8.10"
  }
 },
 "nbformat": 4,
 "nbformat_minor": 5
}
