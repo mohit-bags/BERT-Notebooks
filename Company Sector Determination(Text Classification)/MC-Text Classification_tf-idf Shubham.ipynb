{
 "cells": [
  {
   "cell_type": "markdown",
   "metadata": {},
   "source": [
    "# Classification (Complaint-Status)"
   ]
  },
  {
   "cell_type": "code",
   "execution_count": 2,
   "metadata": {},
   "outputs": [],
   "source": [
    "import seaborn as sns\n",
    "from sklearn.preprocessing import MinMaxScaler\n",
    "#from sklearn.cross_validation import train_test_split\n",
    "from sklearn.model_selection import train_test_split\n",
    "\n",
    "from sklearn.neighbors import KNeighborsClassifier\n",
    "from sklearn.metrics import f1_score\n",
    "from sklearn.feature_extraction.text import TfidfVectorizer, CountVectorizer\n",
    "from nltk.stem.porter import PorterStemmer\n",
    "\n",
    "import pandas as pd\n",
    "import numpy as np\n",
    "import matplotlib.pyplot as plt\n",
    "from sklearn.model_selection import cross_val_score\n",
    "import nltk\n",
    "import re\n",
    "import codecs\n",
    "import seaborn as sns\n",
    "from sklearn.preprocessing import LabelEncoder, OneHotEncoder\n",
    "#from sklearn.cross_validation import train_test_split\n",
    "from sklearn.neighbors import KNeighborsClassifier\n",
    "from sklearn.metrics import f1_score"
   ]
  },
  {
   "cell_type": "code",
   "execution_count": 3,
   "metadata": {},
   "outputs": [],
   "source": [
    "###Loading the Train and Test Dataset\n",
    "train = pd.read_csv('C:/Users/HP/Desktop/DataVsualisation/converted_data_train.csv')\n",
    "test = pd.read_csv('C:/Users/HP/Desktop/DataVsualisation/converted_data_test.csv')"
   ]
  },
  {
   "cell_type": "markdown",
   "metadata": {},
   "source": [
    "# Exploring The Dataset"
   ]
  },
  {
   "cell_type": "code",
   "execution_count": 4,
   "metadata": {},
   "outputs": [
    {
     "name": "stdout",
     "output_type": "stream",
     "text": [
      "Training Dataset Shape:\n",
      "(43266, 11)\n",
      "\n",
      "\n",
      "Training Dataset Columns/Features:\n",
      "Complaint-ID                  object\n",
      "Date-received                 object\n",
      "Transaction-Type              object\n",
      "Complaint-reason              object\n",
      "Company-response              object\n",
      "Date-sent-to-company          object\n",
      "Complaint-Status              object\n",
      "Consumer-disputes             object\n",
      "Consumer-complaint-summary    object\n",
      "converted_text                object\n",
      "convertion_language           object\n",
      "dtype: object\n"
     ]
    }
   ],
   "source": [
    "print(\"Training Dataset Shape:\")\n",
    "print(train.shape)\n",
    "print(\"\\n\")\n",
    "print(\"Training Dataset Columns/Features:\")\n",
    "print(train.dtypes)"
   ]
  },
  {
   "cell_type": "code",
   "execution_count": 5,
   "metadata": {},
   "outputs": [
    {
     "data": {
      "text/html": [
       "<div>\n",
       "<style scoped>\n",
       "    .dataframe tbody tr th:only-of-type {\n",
       "        vertical-align: middle;\n",
       "    }\n",
       "\n",
       "    .dataframe tbody tr th {\n",
       "        vertical-align: top;\n",
       "    }\n",
       "\n",
       "    .dataframe thead th {\n",
       "        text-align: right;\n",
       "    }\n",
       "</style>\n",
       "<table border=\"1\" class=\"dataframe\">\n",
       "  <thead>\n",
       "    <tr style=\"text-align: right;\">\n",
       "      <th></th>\n",
       "      <th>Complaint-ID</th>\n",
       "      <th>Date-received</th>\n",
       "      <th>Transaction-Type</th>\n",
       "      <th>Complaint-reason</th>\n",
       "      <th>Company-response</th>\n",
       "      <th>Date-sent-to-company</th>\n",
       "      <th>Complaint-Status</th>\n",
       "      <th>Consumer-disputes</th>\n",
       "      <th>Consumer-complaint-summary</th>\n",
       "      <th>converted_text</th>\n",
       "      <th>convertion_language</th>\n",
       "    </tr>\n",
       "  </thead>\n",
       "  <tbody>\n",
       "    <tr>\n",
       "      <th>0</th>\n",
       "      <td>Tr-1</td>\n",
       "      <td>11/11/2015</td>\n",
       "      <td>Mortgage</td>\n",
       "      <td>Loan servicing, payments, escrow account</td>\n",
       "      <td>NaN</td>\n",
       "      <td>11/11/2015</td>\n",
       "      <td>Closed with explanation</td>\n",
       "      <td>Yes</td>\n",
       "      <td>Seterus, Inc a déposé un faux rapport auprès d...</td>\n",
       "      <td>Seterus, Inc. filed a false report with the ma...</td>\n",
       "      <td>fr</td>\n",
       "    </tr>\n",
       "    <tr>\n",
       "      <th>1</th>\n",
       "      <td>Tr-2</td>\n",
       "      <td>7/7/2015</td>\n",
       "      <td>Credit reporting</td>\n",
       "      <td>Incorrect information on credit report</td>\n",
       "      <td>Company chooses not to provide a public response</td>\n",
       "      <td>7/7/2015</td>\n",
       "      <td>Closed with non-monetary relief</td>\n",
       "      <td>No</td>\n",
       "      <td>XX / XX / XXXX La requête en faillite n ° XXXX...</td>\n",
       "      <td>XX / XX / XXXX Bankruptcy Claim XXXX of Chapte...</td>\n",
       "      <td>fr</td>\n",
       "    </tr>\n",
       "    <tr>\n",
       "      <th>2</th>\n",
       "      <td>Tr-3</td>\n",
       "      <td>5/7/2015</td>\n",
       "      <td>Bank account or service</td>\n",
       "      <td>Using a debit or ATM card</td>\n",
       "      <td>NaN</td>\n",
       "      <td>5/7/2015</td>\n",
       "      <td>Closed with explanation</td>\n",
       "      <td>No</td>\n",
       "      <td>El XXXX / XXXX / 15, estaba preparando el vuel...</td>\n",
       "      <td>XXXX / XXXX / 15, I was preparing the flight b...</td>\n",
       "      <td>es</td>\n",
       "    </tr>\n",
       "    <tr>\n",
       "      <th>3</th>\n",
       "      <td>Tr-4</td>\n",
       "      <td>11/12/2016</td>\n",
       "      <td>Debt collection</td>\n",
       "      <td>Cont'd attempts collect debt not owed</td>\n",
       "      <td>Company believes it acted appropriately as aut...</td>\n",
       "      <td>11/12/2016</td>\n",
       "      <td>Closed with explanation</td>\n",
       "      <td>No</td>\n",
       "      <td>The loan was paid in XXXX XXXX. In XXXX, 4 yea...</td>\n",
       "      <td>The loan was paid in XXXX XXXX. In XXXX, 4 yea...</td>\n",
       "      <td>en</td>\n",
       "    </tr>\n",
       "    <tr>\n",
       "      <th>4</th>\n",
       "      <td>Tr-5</td>\n",
       "      <td>9/29/2016</td>\n",
       "      <td>Credit card</td>\n",
       "      <td>Payoff process</td>\n",
       "      <td>Company has responded to the consumer and the ...</td>\n",
       "      <td>9/29/2016</td>\n",
       "      <td>Closed with explanation</td>\n",
       "      <td>No</td>\n",
       "      <td>J'ai obtenu un compte de crédit de soins pour ...</td>\n",
       "      <td>I got a care credit account for XXXX. Immediat...</td>\n",
       "      <td>fr</td>\n",
       "    </tr>\n",
       "  </tbody>\n",
       "</table>\n",
       "</div>"
      ],
      "text/plain": [
       "  Complaint-ID Date-received         Transaction-Type  \\\n",
       "0         Tr-1    11/11/2015                 Mortgage   \n",
       "1         Tr-2      7/7/2015         Credit reporting   \n",
       "2         Tr-3      5/7/2015  Bank account or service   \n",
       "3         Tr-4    11/12/2016          Debt collection   \n",
       "4         Tr-5     9/29/2016              Credit card   \n",
       "\n",
       "                           Complaint-reason  \\\n",
       "0  Loan servicing, payments, escrow account   \n",
       "1    Incorrect information on credit report   \n",
       "2                 Using a debit or ATM card   \n",
       "3     Cont'd attempts collect debt not owed   \n",
       "4                            Payoff process   \n",
       "\n",
       "                                    Company-response Date-sent-to-company  \\\n",
       "0                                                NaN           11/11/2015   \n",
       "1   Company chooses not to provide a public response             7/7/2015   \n",
       "2                                                NaN             5/7/2015   \n",
       "3  Company believes it acted appropriately as aut...           11/12/2016   \n",
       "4  Company has responded to the consumer and the ...            9/29/2016   \n",
       "\n",
       "                  Complaint-Status Consumer-disputes  \\\n",
       "0          Closed with explanation               Yes   \n",
       "1  Closed with non-monetary relief                No   \n",
       "2          Closed with explanation                No   \n",
       "3          Closed with explanation                No   \n",
       "4          Closed with explanation                No   \n",
       "\n",
       "                          Consumer-complaint-summary  \\\n",
       "0  Seterus, Inc a déposé un faux rapport auprès d...   \n",
       "1  XX / XX / XXXX La requête en faillite n ° XXXX...   \n",
       "2  El XXXX / XXXX / 15, estaba preparando el vuel...   \n",
       "3  The loan was paid in XXXX XXXX. In XXXX, 4 yea...   \n",
       "4  J'ai obtenu un compte de crédit de soins pour ...   \n",
       "\n",
       "                                      converted_text convertion_language  \n",
       "0  Seterus, Inc. filed a false report with the ma...                  fr  \n",
       "1  XX / XX / XXXX Bankruptcy Claim XXXX of Chapte...                  fr  \n",
       "2  XXXX / XXXX / 15, I was preparing the flight b...                  es  \n",
       "3  The loan was paid in XXXX XXXX. In XXXX, 4 yea...                  en  \n",
       "4  I got a care credit account for XXXX. Immediat...                  fr  "
      ]
     },
     "execution_count": 5,
     "metadata": {},
     "output_type": "execute_result"
    }
   ],
   "source": [
    "#Viewing the top few entries of Training Dataset\n",
    "train.head()"
   ]
  },
  {
   "cell_type": "code",
   "execution_count": 6,
   "metadata": {},
   "outputs": [
    {
     "name": "stdout",
     "output_type": "stream",
     "text": [
      "Test Dataset Shape:\n",
      "(18543, 10)\n",
      "\n",
      "\n",
      "Test Dataset Columns/Features:\n",
      "Complaint-ID                  object\n",
      "Date-received                 object\n",
      "Transaction-Type              object\n",
      "Complaint-reason              object\n",
      "Company-response              object\n",
      "Date-sent-to-company          object\n",
      "Consumer-disputes             object\n",
      "Consumer-complaint-summary    object\n",
      "converted_text                object\n",
      "convertion_language           object\n",
      "dtype: object\n"
     ]
    }
   ],
   "source": [
    "print(\"Test Dataset Shape:\")\n",
    "print(test.shape)\n",
    "print(\"\\n\")\n",
    "print(\"Test Dataset Columns/Features:\")\n",
    "print(test.dtypes)\n"
   ]
  },
  {
   "cell_type": "code",
   "execution_count": 7,
   "metadata": {},
   "outputs": [],
   "source": [
    "#object: Object format means variables are categorical,text and date-time."
   ]
  },
  {
   "cell_type": "code",
   "execution_count": 8,
   "metadata": {},
   "outputs": [
    {
     "data": {
      "text/html": [
       "<div>\n",
       "<style scoped>\n",
       "    .dataframe tbody tr th:only-of-type {\n",
       "        vertical-align: middle;\n",
       "    }\n",
       "\n",
       "    .dataframe tbody tr th {\n",
       "        vertical-align: top;\n",
       "    }\n",
       "\n",
       "    .dataframe thead th {\n",
       "        text-align: right;\n",
       "    }\n",
       "</style>\n",
       "<table border=\"1\" class=\"dataframe\">\n",
       "  <thead>\n",
       "    <tr style=\"text-align: right;\">\n",
       "      <th></th>\n",
       "      <th>Complaint-ID</th>\n",
       "      <th>Date-received</th>\n",
       "      <th>Transaction-Type</th>\n",
       "      <th>Complaint-reason</th>\n",
       "      <th>Company-response</th>\n",
       "      <th>Date-sent-to-company</th>\n",
       "      <th>Consumer-disputes</th>\n",
       "      <th>Consumer-complaint-summary</th>\n",
       "      <th>converted_text</th>\n",
       "      <th>convertion_language</th>\n",
       "    </tr>\n",
       "  </thead>\n",
       "  <tbody>\n",
       "    <tr>\n",
       "      <th>0</th>\n",
       "      <td>Te-1</td>\n",
       "      <td>8/18/2016</td>\n",
       "      <td>Bank account or service</td>\n",
       "      <td>Account opening, closing, or management</td>\n",
       "      <td>Company has responded to the consumer and the ...</td>\n",
       "      <td>8/18/2016</td>\n",
       "      <td>No</td>\n",
       "      <td>XXXX / XXXX / 16 I called Citibank to open a c...</td>\n",
       "      <td>XXXX / XXXX / 16 I called Citibank to open a c...</td>\n",
       "      <td>en</td>\n",
       "    </tr>\n",
       "    <tr>\n",
       "      <th>1</th>\n",
       "      <td>Te-2</td>\n",
       "      <td>4/18/2016</td>\n",
       "      <td>Debt collection</td>\n",
       "      <td>Communication tactics</td>\n",
       "      <td>Company believes it acted appropriately as aut...</td>\n",
       "      <td>4/20/2016</td>\n",
       "      <td>No</td>\n",
       "      <td>I'm struggling financially. I called and I off...</td>\n",
       "      <td>I'm struggling financially. I called and I off...</td>\n",
       "      <td>en</td>\n",
       "    </tr>\n",
       "    <tr>\n",
       "      <th>2</th>\n",
       "      <td>Te-3</td>\n",
       "      <td>3/23/2016</td>\n",
       "      <td>Credit reporting</td>\n",
       "      <td>Incorrect information on credit report</td>\n",
       "      <td>NaN</td>\n",
       "      <td>3/23/2016</td>\n",
       "      <td>No</td>\n",
       "      <td>In XXXX of 2015, an automatic payment was conf...</td>\n",
       "      <td>In XXXX of 2015, an automatic payment was conf...</td>\n",
       "      <td>en</td>\n",
       "    </tr>\n",
       "    <tr>\n",
       "      <th>3</th>\n",
       "      <td>Te-4</td>\n",
       "      <td>6/26/2017</td>\n",
       "      <td>Student loan</td>\n",
       "      <td>Dealing with your lender or servicer</td>\n",
       "      <td>NaN</td>\n",
       "      <td>6/26/2017</td>\n",
       "      <td>NaN</td>\n",
       "      <td>I submitted a request to XXXX, which is my cur...</td>\n",
       "      <td>I submitted a request to XXXX, which is my cur...</td>\n",
       "      <td>en</td>\n",
       "    </tr>\n",
       "    <tr>\n",
       "      <th>4</th>\n",
       "      <td>Te-5</td>\n",
       "      <td>5/13/2016</td>\n",
       "      <td>Credit reporting</td>\n",
       "      <td>Incorrect information on credit report</td>\n",
       "      <td>Company has responded to the consumer and the ...</td>\n",
       "      <td>5/13/2016</td>\n",
       "      <td>No</td>\n",
       "      <td>A state tax lien was filed against me XXXX / X...</td>\n",
       "      <td>A state tax lien was filed against me XXXX / X...</td>\n",
       "      <td>en</td>\n",
       "    </tr>\n",
       "  </tbody>\n",
       "</table>\n",
       "</div>"
      ],
      "text/plain": [
       "  Complaint-ID Date-received         Transaction-Type  \\\n",
       "0         Te-1     8/18/2016  Bank account or service   \n",
       "1         Te-2     4/18/2016          Debt collection   \n",
       "2         Te-3     3/23/2016         Credit reporting   \n",
       "3         Te-4     6/26/2017             Student loan   \n",
       "4         Te-5     5/13/2016         Credit reporting   \n",
       "\n",
       "                          Complaint-reason  \\\n",
       "0  Account opening, closing, or management   \n",
       "1                    Communication tactics   \n",
       "2   Incorrect information on credit report   \n",
       "3     Dealing with your lender or servicer   \n",
       "4   Incorrect information on credit report   \n",
       "\n",
       "                                    Company-response Date-sent-to-company  \\\n",
       "0  Company has responded to the consumer and the ...            8/18/2016   \n",
       "1  Company believes it acted appropriately as aut...            4/20/2016   \n",
       "2                                                NaN            3/23/2016   \n",
       "3                                                NaN            6/26/2017   \n",
       "4  Company has responded to the consumer and the ...            5/13/2016   \n",
       "\n",
       "  Consumer-disputes                         Consumer-complaint-summary  \\\n",
       "0                No  XXXX / XXXX / 16 I called Citibank to open a c...   \n",
       "1                No  I'm struggling financially. I called and I off...   \n",
       "2                No  In XXXX of 2015, an automatic payment was conf...   \n",
       "3               NaN  I submitted a request to XXXX, which is my cur...   \n",
       "4                No  A state tax lien was filed against me XXXX / X...   \n",
       "\n",
       "                                      converted_text convertion_language  \n",
       "0  XXXX / XXXX / 16 I called Citibank to open a c...                  en  \n",
       "1  I'm struggling financially. I called and I off...                  en  \n",
       "2  In XXXX of 2015, an automatic payment was conf...                  en  \n",
       "3  I submitted a request to XXXX, which is my cur...                  en  \n",
       "4  A state tax lien was filed against me XXXX / X...                  en  "
      ]
     },
     "execution_count": 8,
     "metadata": {},
     "output_type": "execute_result"
    }
   ],
   "source": [
    "##Viewing the top few entries of Test Dataset\n",
    "test.head()"
   ]
  },
  {
   "cell_type": "code",
   "execution_count": 9,
   "metadata": {},
   "outputs": [],
   "source": [
    "#Let’s make a copy of train and test data so that even if we have to make any changes in these datasets we would \n",
    "#not lose the original datasets.\n",
    "train_original=train.copy()\n",
    "test_original=test.copy()"
   ]
  },
  {
   "cell_type": "code",
   "execution_count": 10,
   "metadata": {},
   "outputs": [
    {
     "data": {
      "text/html": [
       "<div>\n",
       "<style scoped>\n",
       "    .dataframe tbody tr th:only-of-type {\n",
       "        vertical-align: middle;\n",
       "    }\n",
       "\n",
       "    .dataframe tbody tr th {\n",
       "        vertical-align: top;\n",
       "    }\n",
       "\n",
       "    .dataframe thead th {\n",
       "        text-align: right;\n",
       "    }\n",
       "</style>\n",
       "<table border=\"1\" class=\"dataframe\">\n",
       "  <thead>\n",
       "    <tr style=\"text-align: right;\">\n",
       "      <th></th>\n",
       "      <th>Complaint-ID</th>\n",
       "      <th>Date-received</th>\n",
       "      <th>Transaction-Type</th>\n",
       "      <th>Complaint-reason</th>\n",
       "      <th>Company-response</th>\n",
       "      <th>Date-sent-to-company</th>\n",
       "      <th>Complaint-Status</th>\n",
       "      <th>Consumer-disputes</th>\n",
       "      <th>Consumer-complaint-summary</th>\n",
       "      <th>converted_text</th>\n",
       "      <th>convertion_language</th>\n",
       "    </tr>\n",
       "  </thead>\n",
       "  <tbody>\n",
       "    <tr>\n",
       "      <th>count</th>\n",
       "      <td>43266</td>\n",
       "      <td>43266</td>\n",
       "      <td>43266</td>\n",
       "      <td>43266</td>\n",
       "      <td>20760</td>\n",
       "      <td>43266</td>\n",
       "      <td>43266</td>\n",
       "      <td>35568</td>\n",
       "      <td>43266</td>\n",
       "      <td>43226</td>\n",
       "      <td>43226</td>\n",
       "    </tr>\n",
       "    <tr>\n",
       "      <th>unique</th>\n",
       "      <td>43266</td>\n",
       "      <td>920</td>\n",
       "      <td>18</td>\n",
       "      <td>150</td>\n",
       "      <td>10</td>\n",
       "      <td>930</td>\n",
       "      <td>5</td>\n",
       "      <td>2</td>\n",
       "      <td>43022</td>\n",
       "      <td>42928</td>\n",
       "      <td>4</td>\n",
       "    </tr>\n",
       "    <tr>\n",
       "      <th>top</th>\n",
       "      <td>Tr-6999</td>\n",
       "      <td>1/19/2017</td>\n",
       "      <td>Debt collection</td>\n",
       "      <td>Incorrect information on credit report</td>\n",
       "      <td>Company has responded to the consumer and the ...</td>\n",
       "      <td>1/19/2017</td>\n",
       "      <td>Closed with explanation</td>\n",
       "      <td>No</td>\n",
       "      <td>Equifax mishandled my information, which has l...</td>\n",
       "      <td>Equifax mishandled my information, which has l...</td>\n",
       "      <td>en</td>\n",
       "    </tr>\n",
       "    <tr>\n",
       "      <th>freq</th>\n",
       "      <td>1</td>\n",
       "      <td>226</td>\n",
       "      <td>10422</td>\n",
       "      <td>4466</td>\n",
       "      <td>10928</td>\n",
       "      <td>182</td>\n",
       "      <td>34300</td>\n",
       "      <td>27663</td>\n",
       "      <td>13</td>\n",
       "      <td>13</td>\n",
       "      <td>27827</td>\n",
       "    </tr>\n",
       "  </tbody>\n",
       "</table>\n",
       "</div>"
      ],
      "text/plain": [
       "       Complaint-ID Date-received Transaction-Type  \\\n",
       "count         43266         43266            43266   \n",
       "unique        43266           920               18   \n",
       "top         Tr-6999     1/19/2017  Debt collection   \n",
       "freq              1           226            10422   \n",
       "\n",
       "                              Complaint-reason  \\\n",
       "count                                    43266   \n",
       "unique                                     150   \n",
       "top     Incorrect information on credit report   \n",
       "freq                                      4466   \n",
       "\n",
       "                                         Company-response  \\\n",
       "count                                               20760   \n",
       "unique                                                 10   \n",
       "top     Company has responded to the consumer and the ...   \n",
       "freq                                                10928   \n",
       "\n",
       "       Date-sent-to-company         Complaint-Status Consumer-disputes  \\\n",
       "count                 43266                    43266             35568   \n",
       "unique                  930                        5                 2   \n",
       "top               1/19/2017  Closed with explanation                No   \n",
       "freq                    182                    34300             27663   \n",
       "\n",
       "                               Consumer-complaint-summary  \\\n",
       "count                                               43266   \n",
       "unique                                              43022   \n",
       "top     Equifax mishandled my information, which has l...   \n",
       "freq                                                   13   \n",
       "\n",
       "                                           converted_text convertion_language  \n",
       "count                                               43226               43226  \n",
       "unique                                              42928                   4  \n",
       "top     Equifax mishandled my information, which has l...                  en  \n",
       "freq                                                   13               27827  "
      ]
     },
     "execution_count": 10,
     "metadata": {},
     "output_type": "execute_result"
    }
   ],
   "source": [
    "train.describe()"
   ]
  },
  {
   "cell_type": "markdown",
   "metadata": {},
   "source": [
    "The features: 'Company-response' and 'Consumer-disputes' has missing values that needs to be handled."
   ]
  },
  {
   "cell_type": "code",
   "execution_count": 11,
   "metadata": {},
   "outputs": [
    {
     "data": {
      "image/png": "[encoded data removed]",
      "text/plain": [
       "<matplotlib.figure.Figure at 0x1d02f055908>"
      ]
     },
     "metadata": {},
     "output_type": "display_data"
    }
   ],
   "source": [
    "cnt_srs = train['Complaint-Status'].value_counts()\n",
    "\n",
    "plt.figure(figsize=(18,7))\n",
    "sns.barplot(cnt_srs.index, cnt_srs.values, alpha=0.8)\n",
    "plt.ylabel('Number of Occurrences', fontsize=12)\n",
    "plt.xlabel('Complaint-Status', fontsize=12)\n",
    "plt.show()\n"
   ]
  },
  {
   "cell_type": "code",
   "execution_count": 12,
   "metadata": {},
   "outputs": [
    {
     "data": {
      "text/html": [
       "<div>\n",
       "<style scoped>\n",
       "    .dataframe tbody tr th:only-of-type {\n",
       "        vertical-align: middle;\n",
       "    }\n",
       "\n",
       "    .dataframe tbody tr th {\n",
       "        vertical-align: top;\n",
       "    }\n",
       "\n",
       "    .dataframe thead th {\n",
       "        text-align: right;\n",
       "    }\n",
       "</style>\n",
       "<table border=\"1\" class=\"dataframe\">\n",
       "  <thead>\n",
       "    <tr style=\"text-align: right;\">\n",
       "      <th></th>\n",
       "      <th>Complaint-ID</th>\n",
       "      <th>Date-received</th>\n",
       "      <th>Transaction-Type</th>\n",
       "      <th>Complaint-reason</th>\n",
       "      <th>Company-response</th>\n",
       "      <th>Date-sent-to-company</th>\n",
       "      <th>Consumer-disputes</th>\n",
       "      <th>Consumer-complaint-summary</th>\n",
       "      <th>converted_text</th>\n",
       "      <th>convertion_language</th>\n",
       "    </tr>\n",
       "  </thead>\n",
       "  <tbody>\n",
       "    <tr>\n",
       "      <th>count</th>\n",
       "      <td>18543</td>\n",
       "      <td>18543</td>\n",
       "      <td>18543</td>\n",
       "      <td>18543</td>\n",
       "      <td>8842</td>\n",
       "      <td>18543</td>\n",
       "      <td>15239</td>\n",
       "      <td>18543</td>\n",
       "      <td>18520</td>\n",
       "      <td>18520</td>\n",
       "    </tr>\n",
       "    <tr>\n",
       "      <th>unique</th>\n",
       "      <td>18543</td>\n",
       "      <td>914</td>\n",
       "      <td>18</td>\n",
       "      <td>147</td>\n",
       "      <td>10</td>\n",
       "      <td>914</td>\n",
       "      <td>2</td>\n",
       "      <td>18485</td>\n",
       "      <td>18449</td>\n",
       "      <td>4</td>\n",
       "    </tr>\n",
       "    <tr>\n",
       "      <th>top</th>\n",
       "      <td>Te-14880</td>\n",
       "      <td>1/19/2017</td>\n",
       "      <td>Debt collection</td>\n",
       "      <td>Incorrect information on credit report</td>\n",
       "      <td>Company has responded to the consumer and the ...</td>\n",
       "      <td>1/19/2017</td>\n",
       "      <td>No</td>\n",
       "      <td>I am filing this complaint because Equifax has...</td>\n",
       "      <td>I am filing this complaint because Experian ha...</td>\n",
       "      <td>en</td>\n",
       "    </tr>\n",
       "    <tr>\n",
       "      <th>freq</th>\n",
       "      <td>1</td>\n",
       "      <td>92</td>\n",
       "      <td>4539</td>\n",
       "      <td>2039</td>\n",
       "      <td>4695</td>\n",
       "      <td>87</td>\n",
       "      <td>11824</td>\n",
       "      <td>6</td>\n",
       "      <td>6</td>\n",
       "      <td>12028</td>\n",
       "    </tr>\n",
       "  </tbody>\n",
       "</table>\n",
       "</div>"
      ],
      "text/plain": [
       "       Complaint-ID Date-received Transaction-Type  \\\n",
       "count         18543         18543            18543   \n",
       "unique        18543           914               18   \n",
       "top        Te-14880     1/19/2017  Debt collection   \n",
       "freq              1            92             4539   \n",
       "\n",
       "                              Complaint-reason  \\\n",
       "count                                    18543   \n",
       "unique                                     147   \n",
       "top     Incorrect information on credit report   \n",
       "freq                                      2039   \n",
       "\n",
       "                                         Company-response  \\\n",
       "count                                                8842   \n",
       "unique                                                 10   \n",
       "top     Company has responded to the consumer and the ...   \n",
       "freq                                                 4695   \n",
       "\n",
       "       Date-sent-to-company Consumer-disputes  \\\n",
       "count                 18543             15239   \n",
       "unique                  914                 2   \n",
       "top               1/19/2017                No   \n",
       "freq                     87             11824   \n",
       "\n",
       "                               Consumer-complaint-summary  \\\n",
       "count                                               18543   \n",
       "unique                                              18485   \n",
       "top     I am filing this complaint because Equifax has...   \n",
       "freq                                                    6   \n",
       "\n",
       "                                           converted_text convertion_language  \n",
       "count                                               18520               18520  \n",
       "unique                                              18449                   4  \n",
       "top     I am filing this complaint because Experian ha...                  en  \n",
       "freq                                                    6               12028  "
      ]
     },
     "execution_count": 12,
     "metadata": {},
     "output_type": "execute_result"
    }
   ],
   "source": [
    "test.describe()"
   ]
  },
  {
   "cell_type": "code",
   "execution_count": 13,
   "metadata": {},
   "outputs": [
    {
     "data": {
      "image/png": "[encoded data removed]",
      "text/plain": [
       "<matplotlib.figure.Figure at 0x1d02f055780>"
      ]
     },
     "metadata": {},
     "output_type": "display_data"
    }
   ],
   "source": [
    "cnt_srs = train['Consumer-disputes'].value_counts()\n",
    "\n",
    "plt.figure(figsize=(8,4))\n",
    "sns.barplot(cnt_srs.index, cnt_srs.values, alpha=0.8)\n",
    "plt.ylabel('Number of Occurrences', fontsize=12)\n",
    "plt.xlabel('Consumer-disputes', fontsize=12)\n",
    "plt.show()\n"
   ]
  },
  {
   "cell_type": "code",
   "execution_count": 15,
   "metadata": {},
   "outputs": [
    {
     "data": {
      "image/png": "[encoded data removed]",
      "text/plain": [
       "<matplotlib.figure.Figure at 0x1d02f3c9f28>"
      ]
     },
     "metadata": {},
     "output_type": "display_data"
    }
   ],
   "source": [
    "cnt_srs = test['Consumer-disputes'].value_counts()\n",
    "\n",
    "plt.figure(figsize=(8,4))\n",
    "sns.barplot(cnt_srs.index, cnt_srs.values, alpha=0.8)\n",
    "plt.ylabel('Number of Occurrences', fontsize=12)\n",
    "plt.xlabel('Consumer-disputes', fontsize=12)\n",
    "plt.show()"
   ]
  },
  {
   "cell_type": "code",
   "execution_count": 14,
   "metadata": {},
   "outputs": [
    {
     "name": "stdout",
     "output_type": "stream",
     "text": [
      "Training Dataset Missing Value Columns:\n",
      "Complaint-ID                      0\n",
      "Date-received                     0\n",
      "Transaction-Type                  0\n",
      "Complaint-reason                  0\n",
      "Company-response              22506\n",
      "Date-sent-to-company              0\n",
      "Complaint-Status                  0\n",
      "Consumer-disputes              7698\n",
      "Consumer-complaint-summary        0\n",
      "converted_text                   40\n",
      "convertion_language              40\n",
      "dtype: int64\n",
      "\n",
      "\n",
      "Test Dataset Missing Value Columns:\n",
      "Complaint-ID                     0\n",
      "Date-received                    0\n",
      "Transaction-Type                 0\n",
      "Complaint-reason                 0\n",
      "Company-response              9701\n",
      "Date-sent-to-company             0\n",
      "Consumer-disputes             3304\n",
      "Consumer-complaint-summary       0\n",
      "converted_text                  23\n",
      "convertion_language             23\n",
      "dtype: int64\n"
     ]
    }
   ],
   "source": [
    "# Now Checking For Any Missing Values\n",
    "print(\"Training Dataset Missing Value Columns:\")\n",
    "print(train.isnull().sum())\n",
    "print(\"\\n\")\n",
    "print(\"Test Dataset Missing Value Columns:\")\n",
    "print(test.isnull().sum())"
   ]
  },
  {
   "cell_type": "markdown",
   "metadata": {},
   "source": [
    "# Now Strategy To Tackle The Dataset (Data Preprocessing)\n",
    "\n",
    "Complaint-ID:This Column has no null value neither in the Training set nor in the Test set, while exploring this feature I found out that each value is unique from the rest of all values, therefore I am not going to consider this feature for our model because it will not help our model to predict better.\n",
    "\n",
    "Date-received:This Column tells us the date on which the complaint was registered.\n",
    "Date-sent-to-company :This Column tells us the date on which the complaint was sent to company.\n",
    "(These two features above are used later in order to derive a new feature i.e Delay in entertaining the Consumer-Complaint.)\n",
    "\n",
    "Transaction-Type :There are 18 different types of transaction occured,which will now be converted into numerical form using LabelEncoding and One-hot Encoding for both training and test datasets.\n",
    "\n",
    "Complaint-reason :This feature is a text feature that does not have any fixed number of categories. Hence I have converted the text into the corresponding Tf-idf vector.\n",
    "\n",
    "Company-response :There are 22506 null values in training set and 9706 null values in test set. I have fill all the missing values using an unknown variable e.g 'Unknown'.This Column will then be converted into numerical form using LabelEncoding and then OneHotEncoding will be performed to ensure that none gets priority over another because of magnitude of LabelEncoded values.\n",
    "\n",
    "Complaint-Status :This Column is the target variable.\n",
    "\n",
    "Consumer-disputes :There are 7698 null values in training set and 3304 null values in test set.I will fill all the missing values using the Mode measure of central tendency of the dataset.i.e. 'No'\n",
    "This is also a categorical feature which will be LabelEncoded.\n",
    "\n",
    "Consumer-complaint-summary:This Column is Text feature.As,Text feature can not be given as input to the Machine Learning Model,so,I will Convert it into numerical form using Tfidf features.But,since it contains text in 3 different languages i.e. English('en'),Spanish('es'),French('fr') and the Converted text in English Language is present in 'converted_text' column which will be used for Tfidf features.\n",
    "\n",
    "converted_text:This Column contains the converted text of 'Consumer-complaint-summary' into English language only.\n",
    "\n",
    "convertion_language :This Column contains the languge of the text present in 'Consumer-complaint-summary' Column for specific index values as 'en','es' and 'fr'."
   ]
  },
  {
   "cell_type": "markdown",
   "metadata": {},
   "source": [
    "# Data Pre-Processing Steps"
   ]
  },
  {
   "cell_type": "code",
   "execution_count": 16,
   "metadata": {},
   "outputs": [],
   "source": [
    "#The first step is to fill the null values in 'Converted_text' with a new value 'Unknown1'\n",
    "values = {'converted_text':'Unknown1'}\n",
    "train = train.fillna(value=values)\n",
    "test = test.fillna(value=values)"
   ]
  },
  {
   "cell_type": "code",
   "execution_count": 17,
   "metadata": {},
   "outputs": [],
   "source": [
    "#removing non-letter symbols and converting text in 'converted_text' to lowercase \n",
    "train['converted_text'] = train['converted_text'].apply(lambda x: \"\".join(re.sub(r\"[^A-Za-z\\s]\", '',str(x))))\n",
    "test['converted_text'] = test['converted_text'].apply(lambda x: \"\".join(re.sub(r\"[^A-Za-z\\s]\",'',str(x))))\n",
    "train['converted_text'] = train['converted_text'].apply(lambda x: \" \".join(x.lower() for x in x.split()))\n",
    "test['converted_text'] = test['converted_text'].apply(lambda x: \" \".join(x.lower() for x in x.split()))"
   ]
  },
  {
   "cell_type": "code",
   "execution_count": 18,
   "metadata": {},
   "outputs": [],
   "source": [
    "#Removing punctuations\n",
    "#adding characters list which needs to remove that is PUNCTUATION\n",
    "punc = ['.', ',', '\"', \"'\", '?', '!', ':', ';', '(', ')', '[', ']', '{', '}',\"%\",'/','<','>','br','�','^','XX','XXXX','xxxx','xx']\n",
    "#removing extra characters\n",
    "train['converted_text'] = train['converted_text'].apply(lambda x: \" \".join(x for x in x.split() if x not in punc))\n",
    "test['converted_text'] = test['converted_text'].apply(lambda x: \" \".join(x for x in x.split() if x not in punc))"
   ]
  },
  {
   "cell_type": "code",
   "execution_count": 19,
   "metadata": {},
   "outputs": [],
   "source": [
    "#removal of stopwords\n",
    "from nltk.corpus import stopwords\n",
    "stop = stopwords.words('english')\n",
    "train['converted_text'] = train['converted_text'].apply(lambda x: \" \".join(x for x in x.split() if x not in stop))\n",
    "test['converted_text'] = test['converted_text'].apply(lambda x: \" \".join(x for x in x.split() if x not in stop))"
   ]
  },
  {
   "cell_type": "code",
   "execution_count": 20,
   "metadata": {},
   "outputs": [],
   "source": [
    "#common words removal\n",
    "freq_train = pd.Series(' '.join(train['converted_text']).split()).value_counts()[:10]\n",
    "freq_test = pd.Series(' '.join(test['converted_text']).split()).value_counts()[:10]\n",
    "freq_train = list(freq_train.index)\n",
    "train['converted_text'] = train['converted_text'].apply(lambda x: \" \".join(x for x in x.split() if x not in freq_train))\n",
    "freq_test = list(freq_test.index)\n",
    "test['converted_text'] = test['converted_text'].apply(lambda x: \" \".join(x for x in x.split() if x not in freq_test))"
   ]
  },
  {
   "cell_type": "code",
   "execution_count": 21,
   "metadata": {},
   "outputs": [],
   "source": [
    "#rare words removal\n",
    "freq_train_rare = pd.Series(' '.join(train['converted_text']).split()).value_counts()[-10:]\n",
    "freq_train_rare = list(freq_train_rare.index)\n",
    "train['converted_text'] = train['converted_text'].apply(lambda x: \" \".join(x for x in x.split() if x not in freq_train_rare))\n",
    "freq_test_rare = pd.Series(' '.join(test['converted_text']).split()).value_counts()[-10:]\n",
    "freq_test_rare = list(freq_test_rare.index)\n",
    "test['converted_text'] = test['converted_text'].apply(lambda x: \" \".join(x for x in x.split() if x not in freq_test_rare))"
   ]
  },
  {
   "cell_type": "code",
   "execution_count": 22,
   "metadata": {},
   "outputs": [],
   "source": [
    "#STEMMING\n",
    "st = PorterStemmer()\n",
    "train['converted_text']=train['converted_text'].apply(lambda x: \" \".join([st.stem(w) for w in x.split()]))\n",
    "test['converted_text']=test['converted_text'].apply(lambda x: \" \".join([st.stem(w) for w in x.split()]))"
   ]
  },
  {
   "cell_type": "code",
   "execution_count": 39,
   "metadata": {},
   "outputs": [],
   "source": [
    "def x_data(dataset):\n",
    "    \n",
    "    #filling missing values in 'Consumer-disputes with the mode'\n",
    "    values = {'Consumer-disputes':'No'}\n",
    "    dataset = dataset.fillna(value=values)\n",
    "    \n",
    "    #filling missing values in 'Company response with a new category'\n",
    "    values1 = {'Company-response':'Unknown'}\n",
    "    dataset = dataset.fillna(value=values1)\n",
    "    \n",
    "    \n",
    "    a = dataset.describe()\n",
    "    \n",
    "    #drop the column having complaint-ID as it is of no importance\n",
    "    dataset=dataset.drop(['Complaint-ID'], axis=1)\n",
    "    dataset=dataset.drop(['Consumer-complaint-summary'], axis=1)\n",
    "    \n",
    "    #making a new feature delay with the help of two dates feature to know the date difference\n",
    "    difference= []\n",
    "    for i in range(len(dataset)):\n",
    "        a = dataset['Date-sent-to-company'][i].split('/')\n",
    "        b = dataset['Date-received'][i].split('/')\n",
    "        difference.append(int(a[2])*365 + int(a[0])*30 + int(a[1]) - int(b[2])*365 -int(b[0])*30 -int(b[1]))\n",
    "    dataset['delayed'] = difference\n",
    "    dataset=dataset.drop(['Date-sent-to-company'], axis=1)\n",
    "    dataset=dataset.drop(['Date-received'], axis=1)\n",
    "    \n",
    "    \n",
    "    X = dataset.loc[:,['Transaction-Type','Complaint-reason','Company-response','Consumer-disputes','delayed','converted_text','convertion_language']]\n",
    "    \n",
    "    #LabelEncoding the categorical features\n",
    "    labelencoder = LabelEncoder()\n",
    "    labelencoder.fit(X.iloc[:,0].values)\n",
    "    X.iloc[:,0]=labelencoder.transform(X.iloc[:,0])\n",
    "    labelencoder.fit(X.iloc[:,2].values)\n",
    "    X.iloc[:,2]=labelencoder.transform(X.iloc[:,2])\n",
    "    labelencoder.fit(X.iloc[:,3].values)\n",
    "    X.iloc[:,3]=labelencoder.transform(X.iloc[:,3])\n",
    "    bhau=X.head()\n",
    "    \n",
    "    reason = X.iloc[:,[1]]\n",
    "    summary =X.iloc[:,[5]] \n",
    "    conv_lang=X.iloc[:,[6]]\n",
    "    X=X.drop(['Complaint-reason'], axis=1)\n",
    "    X=X.drop(['converted_text'], axis=1)\n",
    "    #X=X.drop(['Consumer-complaint-summary'], axis=1)\n",
    "    X=X.drop(['convertion_language'], axis=1)\n",
    "    bhau2=X.head()\n",
    "    \n",
    "    onehotencoder = OneHotEncoder(categorical_features = [0,1])\n",
    "    X = onehotencoder.fit_transform(X).toarray()\n",
    "    \n",
    "    \n",
    "    \n",
    "    \n",
    "    \n",
    "    sc_x = MinMaxScaler()\n",
    "    X = sc_x.fit_transform(X)\n",
    "    return X, reason, summary, conv_lang"
   ]
  },
  {
   "cell_type": "code",
   "execution_count": 25,
   "metadata": {},
   "outputs": [],
   "source": [
    "x,reason_train,summary_train,conv_language_train = x_data(train)  #train set"
   ]
  },
  {
   "cell_type": "code",
   "execution_count": 26,
   "metadata": {},
   "outputs": [
    {
     "name": "stderr",
     "output_type": "stream",
     "text": [
      "C:\\Users\\HP\\Anaconda3\\lib\\site-packages\\sklearn\\preprocessing\\label.py:95: DataConversionWarning: A column-vector y was passed when a 1d array was expected. Please change the shape of y to (n_samples, ), for example using ravel().\n",
      "  y = column_or_1d(y, warn=True)\n",
      "C:\\Users\\HP\\Anaconda3\\lib\\site-packages\\sklearn\\preprocessing\\label.py:128: DataConversionWarning: A column-vector y was passed when a 1d array was expected. Please change the shape of y to (n_samples, ), for example using ravel().\n",
      "  y = column_or_1d(y, warn=True)\n"
     ]
    }
   ],
   "source": [
    "#NOw We will convert the target variable into LabelEncoder\n",
    "y_train = train.loc[:,['Complaint-Status']]\n",
    "labelencoder1 = LabelEncoder()\n",
    "labelencoder1.fit(y_train.values)\n",
    "y_train=labelencoder1.transform(y_train)"
   ]
  },
  {
   "cell_type": "code",
   "execution_count": 28,
   "metadata": {},
   "outputs": [],
   "source": [
    "x1,reason_test,summary_test,conv_language_test = x_data(test)  #test set"
   ]
  },
  {
   "cell_type": "code",
   "execution_count": 29,
   "metadata": {},
   "outputs": [],
   "source": [
    "#converting the reason into list\n",
    "res_train = reason_train['Complaint-reason'].tolist()\n",
    "res_test = reason_test['Complaint-reason'].tolist()"
   ]
  },
  {
   "cell_type": "code",
   "execution_count": 30,
   "metadata": {},
   "outputs": [],
   "source": [
    "#converting the summary into list\n",
    "sum_train = summary_train['converted_text'].tolist()\n",
    "sum_test = summary_test['converted_text'].tolist()"
   ]
  },
  {
   "cell_type": "code",
   "execution_count": 31,
   "metadata": {},
   "outputs": [],
   "source": [
    "#adding train and test list for reason\n",
    "lis = res_train + res_test\n",
    "#adding train and test list for summary\n",
    "lis_summary =sum_train+sum_test"
   ]
  },
  {
   "cell_type": "code",
   "execution_count": 32,
   "metadata": {},
   "outputs": [
    {
     "name": "stdout",
     "output_type": "stream",
     "text": [
      "{'loan': 100, 'servicing': 159, 'payments': 125, 'escrow': 66, 'account': 0, 'incorrect': 86, 'information': 89, 'credit': 46, 'report': 145, 'using': 190, 'debit': 51, 'atm': 17, 'card': 26, 'cont': 42, 'attempts': 18, 'collect': 37, 'debt': 52, 'owed': 122, 'payoff': 126, 'process': 131, 'modification': 110, 'collection': 38, 'foreclosure': 76, 'problems': 130, 'caused': 28, 'funds': 79, 'low': 102, 'protection': 136, 'managing': 105, 'lease': 95, 'problem': 129, 'making': 103, 'false': 71, 'statements': 167, 'representation': 148, 'disclosure': 61, 'verification': 192, 'customer': 48, 'service': 156, 'relations': 143, 'improper': 83, 'use': 189, 'deposits': 57, 'withdrawals': 195, 'communication': 39, 'tactics': 171, 'settlement': 160, 'costs': 45, 'dealing': 50, 'lender': 97, 'servicer': 157, 'closing': 36, 'cancelling': 25, 'applying': 13, 'mortgage': 113, 'refinancing': 142, 'existing': 69, 'unable': 184, 'pay': 123, 'taking': 173, 'charged': 31, 'fees': 74, 'didn': 60, 'expect': 70, 'reporting': 146, 'company': 40, 'investigation': 90, 'opening': 117, 'management': 104, 'struggling': 170, 'decision': 53, 'underwriting': 186, 'contact': 43, 'sharing': 162, 'info': 88, 'score': 153, 'purchase': 137, 'shown': 164, 'statement': 166, 'repay': 144, 'billing': 23, 'disputes': 63, 'receiving': 141, 'sending': 155, 'money': 111, 'identity': 81, 'theft': 175, 'fraud': 77, 'embezzlement': 64, 'took': 178, 'threatened': 176, 'negative': 114, 'legal': 96, 'action': 2, 'application': 10, 'originator': 119, 'broker': 24, 'trouble': 183, 'monitoring': 112, 'getting': 80, 'unsolicited': 188, 'issuance': 91, 'written': 197, 'notification': 115, 'alerts': 8, 'security': 154, 'freezes': 78, 'taken': 172, 'bank': 21, 'wrong': 198, 'day': 49, 'payment': 124, 'line': 99, 'features': 72, 'terms': 174, 'end': 65, 'advertising': 7, 'marketing': 106, 'available': 19, 'promised': 134, 'services': 158, 'scam': 152, 'share': 161, 'improperly': 84, 'acct': 1, 'amt': 9, 'increase': 87, 'decrease': 54, 'delinquent': 56, 'threatening': 177, 'illegal': 82, 'fee': 73, 'charging': 33, 'balance': 20, 'transfer': 182, 'adding': 4, 'disclosures': 62, 'unauthorized': 185, 'transactions': 181, 'trans': 179, 'issues': 93, 'apr': 15, 'rate': 138, 'transaction': 180, 'late': 94, 'rewards': 149, 'issue': 92, 'unexpected': 187, 'additional': 5, 'add': 3, 'products': 133, 'sale': 150, 'stop': 169, 'charges': 32, 'including': 85, 'promotional': 135, 'offers': 116, 'bankruptcy': 22, 'determination': 58, 'received': 140, 'apply': 12, 'shopping': 163, 'changes': 30, 'lost': 101, 'stolen': 168, 'check': 34, 'privacy': 128, 'cash': 27, 'advance': 6, 'credited': 47, 'processing': 132, 'delay': 55, 'convenience': 44, 'checks': 35, 'missing': 108, 'applied': 11, 'did': 59, 'receive': 139, 'arbitration': 16, 'forbearance': 75, 'workout': 196, 'plans': 127, 'overdraft': 120, 'savings': 151, 'wasn': 194, 'excessive': 67, 'confusing': 41, 'repossessed': 147, 'sold': 165, 'vehicle': 191, 'misleading': 107, 'mobile': 109, 'wallet': 193, 'limit': 98, 'changed': 29, 'exchange': 68, 'overlimit': 121, 'order': 118, 'approved': 14}\n",
      "[ 3.02225077  7.60100364  4.91623832  9.63392517  8.27062033  9.63392517\n",
      "  8.56608454  6.14571641  7.6251012   8.39423428  4.9033245   8.73598358\n",
      "  7.741361    7.02118515 10.64552608  6.4905569   8.63062306  5.84355632\n",
      "  3.26402419  7.29562199  7.26113582  7.47794355  9.08738146  4.96194631\n",
      "  4.93675607  5.95647441  5.06863046  8.56608454  5.44014671 10.93320815\n",
      "  9.83459587  6.12918711  8.09999481  7.741361   10.24006097  9.46687109\n",
      "  4.07604466  3.26402419  3.91899296  4.36982288  4.0267871   9.03608817\n",
      "  3.4301023   5.00450593  9.46687109  5.49368062  2.61821275  8.02448726\n",
      "  6.19117879  8.27062033  4.09874067  5.84355632  2.87942703  6.0682411\n",
      "  6.99486784  8.29415082  6.486643    5.05734153  7.04138786  8.73598358\n",
      "  6.10756465  4.28855074  8.08057672  5.14631077  5.76272416  7.7010871\n",
      "  3.60520863  9.39276311 11.33867326  4.82544315  6.33137687  4.77129784\n",
      "  7.01454061  5.94277557  5.77799163  8.56608454  3.91899296  5.19986688\n",
      "  7.6251012   5.44014671  6.6381929   5.24849524  5.19878871  4.28379192\n",
      "  7.88868572  7.49922095  2.94704329  6.99486784  5.17220554  2.9425184\n",
      "  4.05111262  6.96291624  6.67052828  6.19700971  6.486643    4.32836139\n",
      "  6.31479274  4.02412043 10.93320815  6.87276514  2.67435401  9.63392517\n",
      "  5.44014671  5.69854081  4.42543305  4.44400322  6.14849805 10.64552608\n",
      "  8.39423428 10.24006097  3.91899296  5.57819544  6.15688971  4.51158589\n",
      "  6.31479274  5.89193589  7.49922095  4.3356078  10.24006097  4.93675607\n",
      "  9.9523789   9.83459587  3.26402419  4.92112432  5.86430395  3.48915446\n",
      "  6.90785646  8.56608454  8.4483015   4.47382548  4.65593829  4.87720509\n",
      "  8.29415082  9.63392517  7.29562199  7.49922095  5.63322551  6.72355275\n",
      "  6.486643    8.63062306  7.39709145  5.94277557  7.10456676  6.22367795\n",
      "  4.95263605  2.72680646  4.0565996   9.25923172  4.77129784  6.36885996\n",
      "  8.85376661 10.08591029  6.26662934  5.33355239  7.6251012   5.94277557\n",
      "  6.01566328  4.09587534  7.72775535  3.60520863  5.49368062  7.88868572\n",
      "  5.19448763  6.79007343  6.84443464  9.25923172  6.09957526  4.77129784\n",
      "  9.63392517  8.06152853  5.50094281  4.36982288 10.24006097  4.78473986\n",
      "  7.00138252  5.65000443  6.12918711  5.19878871  6.31479274  6.98839533\n",
      "  6.05546953  6.92587497  7.08306055  5.83741505  4.67362669  6.92587497\n",
      "  6.0682411   8.50545992  6.96291624  4.79764326  5.71465576  9.25923172\n",
      "  4.28855074 10.24006097  9.83459587  5.05547237  8.56608454  5.89193589\n",
      "  7.741361  ]\n"
     ]
    },
    {
     "data": {
      "text/plain": [
       "numpy.ndarray"
      ]
     },
     "execution_count": 32,
     "metadata": {},
     "output_type": "execute_result"
    }
   ],
   "source": [
    "#Calling TFID vectorizer\n",
    "tfv = TfidfVectorizer(max_features=1000, lowercase=True, analyzer='word',\n",
    " stop_words= 'english',ngram_range=(1,1))\n",
    "# Fitting TF-IDF to both training and test sets (semi-supervised learning)\n",
    "tfv.fit(lis)\n",
    "print(tfv.vocabulary_)\n",
    "print(tfv.idf_)\n",
    "\n",
    "xtrain_tfv =  tfv.transform(res_train).toarray()\n",
    "xtest_tfv = tfv.transform(res_test).toarray()\n",
    "type(xtrain_tfv)\n"
   ]
  },
  {
   "cell_type": "code",
   "execution_count": 33,
   "metadata": {},
   "outputs": [
    {
     "name": "stdout",
     "output_type": "stream",
     "text": [
      "{'seteru': 3981, 'file': 1692, 'fals': 1620, 'major': 2581, 'bureau': 532, 'state': 4202, 'mortgag': 2787, 'late': 2421, 'receiv': 3564, 'repay': 3708, 'note': 2910, 'delay': 1117, 'assess': 272, 'accord': 36, 'term': 4425, 'condit': 851, 'contract': 905, 'unabl': 4610, 'new': 2862, 'home': 2041, 'action': 55, 'bankruptci': 365, 'claim': 718, 'chapter': 659, 'hawaii': 1981, 'includ': 2171, 'creditor': 993, 'unknown': 4675, 'assum': 280, 'paid': 3055, 'prepar': 3289, 'flight': 1725, 'funer': 1829, 'close': 742, 'rel': 3660, 'stay': 4211, 'hotel': 2068, 'airport': 123, 'leav': 2441, 'hire': 2031, 'dog': 1315, 'friend': 1807, 'refer': 3615, 'peopl': 3131, 'knew': 2392, 'watch': 4853, 'hous': 2071, 'pick': 3175, 'mail': 2574, 'care': 583, 'plant': 3200, 'given': 1867, 'person': 3150, 'key': 2380, 'return': 3793, 'got': 1886, 'realiz': 3541, 'debit': 1069, 'card': 579, 'use': 4739, 'make': 2582, 'approxim': 229, 'purchas': 3404, 'check': 674, 'capit': 572, 'immedi': 2121, 'stop': 4229, 'sinc': 4048, 'week': 4866, 'know': 2394, 'happen': 1963, 'struggl': 4259, 'sent': 3965, 'notar': 2907, 'affidavit': 95, 'charg': 662, 'copi': 930, 'polic': 3228, 'continu': 904, 'question': 3426, 'everi': 1518, 'send': 3958, 'exactli': 1530, 'paperwork': 3064, 'eventu': 1514, 'favor': 1640, 'reason': 3549, 'complaint': 818, 'onlin': 2986, 'catalog': 606, 'order': 3004, 'deliveri': 1124, 'day': 1050, 'pleas': 3209, 'custom': 1030, 'place': 3191, 'alway': 154, 'gone': 1881, 'directli': 1216, 'store': 4231, 'avail': 322, 'area': 241, 'left': 2444, 'sit': 4056, 'desk': 1163, 'comput': 835, 'discount': 1239, 'coupon': 960, 'woman': 4926, 'guess': 1934, 'odd': 2955, 'howev': 2073, 'think': 4457, 'probabl': 3333, 'tri': 4567, 'buy': 539, 'merchandis': 2671, 'therefor': 4449, 'open': 2989, 'went': 4879, 'round': 3844, 'cours': 962, 'disput': 1273, 'ask': 265, 'thing': 4456, 'articl': 257, 'need': 2845, 'signatur': 4033, 'strang': 4238, 'proof': 3363, 'attach': 292, 'say': 3894, 'imposs': 2145, 'away': 331, 'medic': 2651, 'exam': 1532, 'program': 3351, 'mile': 2698, 'mattress': 2626, 'chang': 654, 'lock': 2520, 'earli': 1371, 'night': 2873, 'support': 4324, 'discuss': 1249, 'page': 3054, 'citi': 705, 'refus': 3628, 'point': 3227, 'view': 4799, 'alon': 147, 'item': 2336, 'legitim': 2449, 'famili': 1625, 'bank': 359, 'depart': 1137, 'manag': 2590, 'money': 2773, 'transact': 4541, 'benefit': 411, 'year': 4980, 'va': 4751, 'month': 2778, 'pay': 3099, 'debt': 1070, 'repres': 3725, 'contact': 894, 'suddenli': 4298, 'indic': 2197, 'owe': 3044, 'explain': 1574, 'mani': 2596, 'pass': 3085, 'destroy': 1171, 'document': 1308, 'fact': 1606, 'right': 3816, 'cash': 598, 'possess': 3245, 'someth': 4118, 'provid': 3383, 'anyth': 205, 'despit': 1169, 'letter': 2463, 'convers': 919, 'phone': 3168, 'harass': 1966, 'noth': 2911, 'collect': 772, 'addit': 66, 'total': 4514, 'cascad': 596, 'agenc': 108, 'problem': 3335, 'understand': 4635, 'spent': 4153, 'want': 4842, 'entireti': 1465, 'record': 3588, 'disast': 1227, 'mayb': 2632, 'base': 372, 'compani': 804, 'stolen': 4225, 'issu': 2333, 'date': 1046, 'process': 3341, 'cancel': 565, 'unfortun': 4656, 'save': 3892, 'wrongli': 4953, 'anoth': 197, 'doctor': 1307, 'let': 2462, 'respons': 3767, 'perform': 3137, 'payment': 3104, 'miss': 2736, 'fee': 1664, 'settl': 3982, 'credit': 992, 'purpos': 3408, 'offic': 2961, 'troubl': 4576, 'load': 2510, 'physic': 3173, 'notif': 2913, 'inform': 2220, 'sold': 4106, 'fix': 1711, 'mess': 2679, 'sever': 3987, 'time': 4483, 'messag': 2680, 'solv': 4113, 'owner': 3046, 'origin': 3009, 'later': 2422, 'chase': 669, 'said': 3870, 'court': 963, 'properti': 3366, 'assign': 275, 'write': 4948, 'acknowledg': 50, 'power': 3258, 'attorney': 301, 'execut': 1546, 'present': 3298, 'work': 4931, 'meanwhil': 2646, 'deni': 1131, 'modif': 2764, 'foreclosur': 1754, 'modifi': 2765, 'declar': 1085, 'way': 4856, 'reaffirm': 3536, 'foreclos': 1753, 'deed': 1094, 'appli': 219, 'ga': 1837, 'retain': 3781, 'lawyer': 2430, 'sign': 4030, 'theft': 4443, 'longer': 2528, 'practic': 3262, 'law': 2427, 'legal': 2446, 'forc': 1748, 'illeg': 2113, 'start': 4199, 'ago': 114, 'test': 4433, 'wait': 4832, 'correspond': 939, 'regard': 3632, 'step': 4216, 'request': 3736, 'sort': 4127, 'resolut': 3760, 'matter': 2625, 'theyv': 4453, 'wrong': 4951, 'ive': 2339, 'alreadi': 149, 'thousand': 4464, 'dollar': 1317, 'fight': 1690, 'victim': 4796, 'ident': 2103, 'fraud': 1794, 'investig': 2307, 'list': 2495, 'initi': 2226, 'simpli': 4044, 'evid': 1524, 'consent': 874, 'im': 2118, 'anywher': 206, 'remov': 3692, 'prevent': 3311, 'better': 418, 'rate': 3523, 'xxxxxx': 4973, 'bankrupt': 364, 'pc': 3110, 'ge': 1850, 'consum': 891, 'statut': 4209, 'limit': 2490, 'expir': 1572, 'constantli': 884, 'recov': 3590, 'sunday': 4312, 'synchroni': 4363, 'financi': 1699, 'reduc': 3606, 'exposur': 1582, 'sector': 3942, 'seri': 3971, 'separ': 3967, 'societi': 4099, 'read': 3532, 'websit': 4863, 'ignor': 2108, 'difficulti': 1202, 'caus': 612, 'review': 3801, 'thank': 4440, 'believ': 404, 'opportun': 2993, 'respond': 3766, 'notic': 2912, 'employ': 1431, 'embargo': 1419, 'paycheck': 3101, 'verifi': 4782, 'judici': 2365, 'began': 397, 'written': 4950, 'incorrectli': 2184, 'judg': 2363, 'oregon': 3006, 'live': 2502, 'washington': 4851, 'old': 2971, 'feel': 1667, 'case': 597, 'number': 2925, 'experian': 1567, 'abandon': 7, 'today': 4500, 'vehicl': 4772, 'lean': 2438, 'repossess': 3723, 'discov': 1241, 'took': 4509, 'minut': 2711, 'withdrawn': 4921, 'worth': 4942, 'ftc': 1816, 'bbb': 383, 'possibl': 3246, 'lawsuit': 2429, 'unit': 4669, 'wholesal': 4898, 'hold': 2037, 'guarante': 1929, 'turn': 4591, 'telephon': 4411, 'answer': 198, 'escrow': 1496, 'lot': 2539, 'necessari': 2842, 'requir': 3738, 'expens': 1565, 'class': 723, 'respa': 3764, 'infract': 2222, 'client': 738, 'easi': 1377, 'mathemat': 2623, 'equat': 1479, 'appar': 214, 'guy': 1943, 'boyfriend': 483, 'bought': 478, 'sofa': 4100, 'establish': 1501, 'automat': 317, 'monthli': 2779, 'invoic': 2310, 'td': 4394, 'connect': 870, 'set': 3979, 'design': 1160, 'allow': 146, 'minimum': 2706, 'equal': 1478, 'cost': 944, 'configur': 859, 'servic': 3976, 'technic': 4401, 'failur': 1613, 'enter': 1461, 'larger': 2419, 'associ': 279, 'recur': 3595, 'promis': 3356, 'interestfre': 2271, 'import': 2141, 'barrier': 371, 'extra': 1594, 'polici': 3229, 'predatori': 3272, 'hour': 2070, 'neg': 2847, 'remark': 3682, 'score': 3914, 'address': 67, 'california': 554, 'challeng': 650, 'life': 2482, 'someon': 4117, 'social': 4098, 'secur': 3943, 'birth': 430, 'multipl': 2808, 'account': 38, 'fraudul': 1796, 'like': 2488, 'ca': 543, 'reinstat': 3652, 'excel': 1538, 'maintain': 2578, 'townhous': 4521, 'refinanc': 3621, 'hard': 1967, 'suspect': 4343, 'stole': 4224, 'ruin': 3856, 'restor': 3772, 'truth': 4584, 'help': 2003, 'driver': 1343, 'licens': 2477, 'dmv': 1304, 'tax': 4387, 'prove': 3381, 'commit': 798, 'crime': 997, 'southern': 4134, 'avoid': 326, 'caught': 611, 'balanc': 350, 'zero': 4994, 'updat': 4715, 'shown': 4023, 'transunion': 4553, 'report': 3719, 'agre': 115, 'settlement': 3983, 'parti': 3076, 'karma': 2376, 'leas': 2440, 'dba': 1053, 'kia': 2382, 'wife': 4903, 'id': 2099, 'car': 578, 'soul': 4129, 'plu': 3214, 'husband': 2092, 'insur': 2259, 'registr': 3636, 'tell': 4413, 'financ': 1698, 'option': 3000, 'effect': 1396, 'finish': 1703, 'beg': 396, 'honor': 2053, 'good': 1882, 'dealership': 1063, 'disappear': 1224, 'soon': 4123, 'dr': 1328, 'vin': 4802, 'consult': 889, 'came': 560, 'differ': 1199, 'sale': 3874, 'price': 3315, 'real': 3538, 'valu': 4759, 'calcul': 551, 'becam': 392, 'clear': 730, 'reject': 3658, 'control': 914, 'black': 436, 'lucki': 2555, 'buyer': 540, 'incent': 2163, 'everyth': 1521, 'look': 2533, 'begin': 398, 'schedul': 3907, 'relationship': 3662, 'profil': 3349, 'delet': 1119, 'elimin': 1414, 'evalu': 1511, 'result': 3776, 'csr': 1013, 'void': 4817, 'malici': 2587, 'intent': 2267, 'code': 759, 'correct': 937, 'error': 1492, 'certifi': 641, 'queri': 3425, 'resolv': 3761, 'hear': 1990, 'coast': 756, 'profession': 3348, 'confirm': 860, 'kind': 2387, 'unfavor': 4654, 'offer': 2959, 'damag': 1039, 'erron': 1491, 'intern': 2284, 'obvious': 2944, 'statu': 4208, 'affect': 94, 'abil': 10, 'approv': 227, 'numer': 2927, 'incorrect': 2183, 'plan': 3196, 'previou': 3312, 'earlier': 1372, 'final': 1697, 'unfair': 4652, 'accept': 30, 'wrote': 4954, 'violat': 4803, 'section': 3941, 'fcba': 1646, 'fcra': 1652, 'cfpb': 645, 'data': 1044, 'pattern': 3097, 'valid': 4757, 'far': 1629, 'expect': 1561, 'complet': 821, 'inaccur': 2154, 'gap': 1840, 'visa': 4808, 'retail': 3780, 'chip': 687, 'activ': 56, 'shame': 3993, 'bad': 342, 'equifax': 1481, 'releas': 3665, 'unsecur': 4700, 'transfer': 4543, 'calib': 553, 'loan': 2511, 'motion': 2793, 'florida': 1729, 'administr': 74, 'surpris': 4336, 'main': 2576, 'resid': 3754, 'children': 686, 'vacat': 4753, 'reloc': 3677, 'assist': 277, 'pend': 3120, 'appeal': 215, 'evict': 1523, 'xxxxxxxxxxxx': 4976, 'second': 3935, 'morn': 2785, 'email': 1418, 'share': 3995, 'pull': 3397, 'afterward': 104, 'element': 1411, 'evidenc': 1525, 'alert': 131, 'reinsert': 3650, 'quit': 3434, 'alarm': 128, 'similar': 4040, 'clearli': 733, 'deliber': 1120, 'sabotag': 3864, 'follow': 1739, 'past': 3090, 'sure': 4330, 'statement': 4204, 'thought': 4463, 'reach': 3528, 'young': 4988, 'son': 4122, 'usaa': 4730, 'feder': 1662, 'primari': 3317, 'holder': 2038, 'saw': 3893, 'unauthor': 4614, 'mobil': 2754, 'deposit': 1144, 'electron': 1410, 'withdrew': 4922, 'student': 4262, 'red': 3597, 'flag': 1714, 'withdraw': 4920, 'talk': 4375, 'gave': 1848, 'detect': 1174, 'instead': 2252, 'busi': 537, 'frustrat': 1814, 'hung': 2085, 'unexpect': 4649, 'loyal': 2549, 'best': 414, 'suspici': 4346, 'mark': 2605, 'author': 313, 'conclus': 847, 'determin': 1177, 'rais': 3510, 'atm': 289, 'fund': 1827, 'increment': 2188, 'imag': 2119, 'appear': 216, 'everyon': 1520, 'gain': 1838, 'access': 31, 'health': 1988, 'becom': 393, 'widespread': 4901, 'suppos': 4325, 'hope': 2057, 'properli': 3365, 'ad': 60, 'consid': 877, 'institut': 2254, 'job': 2353, 'manner': 2598, 'blame': 441, 'recours': 3589, 'treat': 4562, 'accur': 44, 'affirm': 97, 'true': 4578, 'dept': 1150, 'faith': 1616, 'setback': 3980, 'great': 1910, 'postpon': 3254, 'attempt': 294, 'fine': 1700, 'mean': 2641, 'period': 3139, 'verif': 4781, 'insist': 2244, 'portfolio': 3241, 'recoveri': 3592, 'inquiri': 2236, 'wish': 4918, 'subject': 4274, 'correctli': 938, 'simplifi': 4045, 'freedom': 1800, 'processor': 3342, 'come': 787, 'littl': 2500, 'explan': 1575, 'subordin': 4277, 'agreement': 117, 'previous': 3313, 'lender': 2454, 'fed': 1661, 'constant': 883, 'lack': 2408, 'commun': 802, 'introduc': 2296, 'bug': 522, 'navient': 2826, 'arrear': 251, 'toler': 4502, 'overdu': 3029, 'notifi': 2914, 'deliv': 1123, 'prohibit': 3353, 'unpleas': 4687, 'respect': 3765, 'regist': 3635, 'tire': 4489, 'fax': 1641, 'serv': 3974, 'utah': 4748, 'higher': 2020, 'educ': 1394, 'recent': 3565, 'transit': 4545, 'log': 2523, 'print': 3321, 'pdf': 3112, 'quotyou': 3501, 'awar': 329, 'locat': 2519, 'somewher': 4121, 'els': 1416, 'estim': 1503, 'summari': 4307, 'upload': 4718, 'site': 4057, 'paper': 3062, 'difficult': 1201, 'borrow': 474, 'obtain': 2942, 'actual': 58, 'america': 163, 'reimburs': 3647, 'annual': 191, 'assur': 282, 'refund': 3627, 'twice': 4596, 'exceed': 1537, 'type': 4600, 'known': 2397, 'rest': 3768, 'lien': 2479, 'heard': 1991, 'handl': 1958, 'abl': 11, 'demand': 1126, 'free': 1798, 'artifici': 258, 'suit': 4303, 'forward': 1779, 'gener': 1851, 'uu': 4750, 'nevada': 2861, 'repeatedli': 3711, 'histori': 2033, 'unverifi': 4710, 'stream': 4243, 'pnc': 3221, 'refin': 3620, 'readi': 3534, 'applic': 221, 'incomplet': 2178, 'apprais': 223, 'ap': 207, 'outsid': 3020, 'alli': 141, 'outstand': 3022, 'lump': 2558, 'sum': 4305, 'econom': 1387, 'emot': 1425, 'ae': 92, 'american': 164, 'certain': 636, 'express': 1583, 'reset': 3753, 'lie': 2478, 'rent': 3698, 'end': 1443, 'impecc': 2132, 'form': 1768, 'inspect': 2245, 'decis': 1083, 'felt': 1673, 'park': 3074, 'tight': 4479, 'rang': 3515, 'auction': 304, 'ridicul': 3815, 'appal': 213, 'especi': 1497, 'rise': 3819, 'meet': 2657, 'criteria': 1000, 'normal': 2903, 'goe': 1878, 'tripl': 4575, 'internet': 2285, 'regul': 3641, 'ohio': 2966, 'select': 3950, 'submit': 4276, 'myfedloan': 2814, 'incomebas': 2174, 'argu': 242, 'public': 3393, 'forgiv': 1764, 'ibr': 2095, 'resubmit': 3775, 'indulg': 2203, 'afford': 98, 'lenienc': 2458, 'nowher': 2916, 'join': 2355, 'incom': 2173, 'reappli': 3546, 'suggest': 4302, 'comfort': 790, 'otherwis': 3011, 'add': 64, 'piec': 3179, 'word': 4930, 'realli': 3542, 'graduat': 1896, 'school': 3910, 'highest': 2021, 'degre': 1114, 'field': 1688, 'paraleg': 3067, 'role': 3833, 'fargo': 1632, 'wf': 4885, 'risk': 3821, 'proceed': 3340, 'creat': 984, 'adjust': 72, 'defici': 1108, 'trace': 4526, 'yesterday': 4984, 'voic': 4815, 'cell': 629, 'tomorrow': 4505, 'afternoon': 103, 'noon': 2900, 'workplac': 4933, 'photo': 3169, 'sender': 3959, 'seal': 3928, 'confidenti': 858, 'arrest': 252, 'warrant': 4847, 'ill': 2112, 'accus': 46, 'crazi': 979, 'counti': 955, 'clerk': 735, 'quotso': 3484, 'scam': 3899, 'defens': 1105, 'quotit': 3463, 'youv': 4992, 'chosen': 692, 'anyon': 204, 'xxxx': 4963, 'quotand': 3439, 'attend': 295, 'privat': 3328, 'colleg': 774, 'ran': 3512, 'long': 2527, 'space': 4138, 'spoke': 4160, 'director': 1217, 'studi': 4264, 'ahead': 118, 'lost': 2538, 'sympathi': 4360, 'homeless': 2044, 'street': 4245, 'larg': 2418, 'storag': 4230, 'donat': 1320, 'furnitur': 1833, 'carri': 592, 'pet': 3156, 'low': 2545, 'solut': 4112, 'default': 1101, 'advantag': 83, 'consolid': 880, 'apart': 208, 'lowest': 2547, 'bare': 370, 'dent': 1134, 'effort': 1398, 'trust': 4580, 'interact': 2268, 'global': 1873, 'high': 2019, 'spoken': 4161, 'track': 4527, 'su': 4268, 'inflat': 2216, 'risen': 3820, 'confus': 865, 'book': 470, 'supervisor': 4319, 'mediat': 2650, 'clariti': 722, 'rip': 3818, 'scare': 3903, 'seriou': 3973, 'mistak': 2741, 'swindl': 4355, 'tactic': 4371, 'greentre': 1918, 'princip': 3319, 'interfer': 2277, 'exact': 1529, 'reflect': 3622, 'remain': 3680, 'excus': 1545, 'doubt': 1324, 'moment': 2769, 'futur': 1835, 'incid': 2168, 'fha': 1679, 'cmg': 753, 'premium': 3287, 'mip': 2712, 'deduct': 1093, 'refi': 3618, 'currenc': 1023, 'comptrol': 833, 'vice': 4794, 'presid': 3300, 'excess': 1540, 'rule': 3857, 'tangibl': 4376, 'current': 1024, 'lose': 2536, 'convent': 917, 'vp': 4824, 'arriv': 253, 'touch': 4515, 'defect': 1103, 'angri': 182, 'shock': 4007, 'remind': 3687, 'recommend': 3579, 'bear': 388, 'appropri': 226, 'meantim': 2645, 'specif': 4145, 'method': 2685, 'guidelin': 1938, 'display': 1269, 'proper': 3364, 'post': 3248, 'repli': 3717, 'deadlin': 1059, 'daili': 1037, 'block': 448, 'mainli': 2577, 'rude': 3855, 'threaten': 4467, 'wage': 4831, 'garnish': 1844, 'loss': 2537, 'heloc': 2002, 'inaugur': 2160, 'stellar': 4215, 'decid': 1081, 'fulli': 1822, 'increas': 2185, 'knock': 2393, 'door': 1321, 'unaccept': 4611, 'singl': 4050, 'whatev': 4889, 'terribl': 4429, 'latest': 2423, 'kimbal': 2386, 'tirey': 4491, 'st': 4180, 'john': 2354, 'liabil': 2471, 'individu': 2201, 'comment': 793, 'renew': 3695, 'repair': 3707, 'build': 523, 'elev': 1412, 'guest': 1935, 'colorado': 780, 'seiz': 3948, 'corp': 935, 'row': 3850, 'instal': 2247, 'reader': 3533, 'box': 481, 'devic': 1183, 'insert': 2240, 'pin': 3182, 'depriv': 1149, 'usual': 4745, 'protect': 3376, 'unjustli': 4673, 'enrich': 1457, 'qualifi': 3418, 'revis': 3802, 'hud': 2079, 'liquid': 2494, 'lieu': 2481, 'dil': 1206, 'discret': 1245, 'cite': 704, 'center': 632, 'agent': 109, 'oblig': 2936, 'variat': 4767, 'knowledg': 2396, 'experi': 1566, 'fico': 1683, 'standard': 4195, 'line': 2491, 'contain': 895, 'subscript': 4283, 'team': 4398, 'condominium': 853, 'compli': 823, 'elig': 1413, 'identifi': 2105, 'special': 4143, 'progress': 3352, 'condo': 852, 'certif': 640, 'asset': 274, 'occupi': 2950, 'suffici': 4301, 'suitabl': 4304, 'taken': 4373, 'pictur': 3178, 'citibank': 706, 'autom': 316, 'averag': 325, 'ir': 2321, 'fiscal': 1708, 'success': 4294, 'invest': 2306, 'compil': 816, 'affair': 93, 'rd': 3527, 'edit': 1392, 'monitor': 2776, 'sens': 3963, 'advanc': 81, 'ye': 4979, 'ladi': 2409, 'monday': 2771, 'cover': 969, 'green': 1916, 'tree': 4564, 'sc': 3896, 'dismiss': 1260, 'roughli': 3843, 'gm': 1874, 'repeat': 3710, 'branch': 487, 'cashier': 601, 'nobodi': 2881, 'xxxxxxxx': 4974, 'apolog': 211, 'experienc': 1569, 'ocwen': 2953, 'llc': 2506, 'extend': 1587, 'penni': 3126, 'compens': 812, 'equiti': 1485, 'basic': 375, 'steal': 4213, 'small': 4083, 'quantiti': 3420, 'complain': 817, 'supervis': 4318, 'oper': 2991, 'signatori': 4032, 'commerci': 795, 'louisiana': 2543, 'occas': 2947, 'idea': 2101, 'compar': 807, 'acct': 42, 'unpaid': 4686, 'belong': 408, 'affili': 96, 'tarnish': 4381, 'oklahoma': 2970, 'motor': 2795, 'sell': 3954, 'broke': 505, 'callback': 555, 'scandal': 3902, 'server': 3975, 'magic': 2571, 'verdict': 4779, 'est': 1500, 'voicemail': 4816, 'ext': 1586, 'fourth': 1783, 'cp': 972, 'unless': 4677, 'inconsist': 2180, 'titl': 4492, 'sometim': 4119, 'midland': 2694, 'barclay': 368, 'delawar': 1116, 'revolv': 3806, 'gt': 1928, 'le': 2434, 'cart': 595, 'crdit': 981, 'chargeoff': 664, 'maximum': 2630, 'delinqu': 1122, 'learn': 2439, 'breach': 490, 'regular': 3642, 'hello': 2001, 'clean': 728, 'inaccuraci': 2155, 'trick': 4570, 'principl': 3320, 'thirti': 4459, 'derogatori': 1155, 'electr': 1409, 'citizen': 713, 'group': 1925, 'rhode': 3809, 'island': 2331, 'particular': 3079, 'posit': 3244, 'payrol': 3109, 'occur': 2951, 'worri': 4937, 'overdraft': 3026, 'mysteri': 2815, 'spend': 4152, 'entir': 1464, 'deceiv': 1077, 'count': 950, 'quot': 3435, 'quotthi': 3490, 'retroact': 3791, 'scheme': 3908, 'prolong': 3355, 'behalf': 400, 'reliabl': 3670, 'thiev': 4455, 'speak': 4141, 'format': 1770, 'advis': 87, 'remot': 3691, 'short': 4012, 'balloon': 353, 'discharg': 1232, 'admit': 76, 'bsi': 518, 'fl': 1713, 'deal': 1061, 'particip': 3078, 'kill': 2385, 'fault': 1638, 'punish': 3401, 'recipi': 3573, 'blood': 452, 'break': 491, 'improv': 2150, 'dime': 1210, 'resent': 3751, 'packag': 3052, 'earn': 1374, 'air': 121, 'fidel': 1686, 'elan': 1404, 'saturday': 3891, 'usa': 4729, 'loyalti': 2550, 'revel': 3797, 'shut': 4025, 'listen': 2496, 'accuraci': 45, 'ditech': 1295, 'preced': 3268, 'choic': 689, 'accumul': 43, 'extrem': 1598, 'pressur': 3303, 'grandmoth': 1902, 'collabor': 768, 'mitig': 2748, 'homeown': 2045, 'desper': 1166, 'head': 1983, 'investor': 2308, 'amazon': 156, 'grace': 1893, 'intend': 2264, 'defer': 1106, 'fair': 1614, 'cbe': 617, 'matur': 2627, 'perman': 3142, 'suntrust': 4314, 'illegitim': 2114, 'pal': 3059, 'approach': 225, 'rescind': 3744, 'link': 2493, 'hint': 2027, 'instruct': 2255, 'examin': 1533, 'sworn': 4358, 'relat': 3661, 'direct': 1215, 'download': 1326, 'chxxxx': 696, 'barclaycard': 369, 'culprit': 1017, 'merchant': 2672, 'handwritten': 1960, 'reportquot': 3720, 'research': 3747, 'compromis': 832, 'procedur': 3339, 'meant': 2644, 'quotth': 3485, 'thoroughli': 4462, 'simpl': 4043, 'skeptic': 4063, 'member': 2659, 'rush': 3860, 'materi': 2621, 'bind': 429, 'indiana': 2196, 'prompt': 3359, 'grant': 1906, 'resort': 3762, 'entri': 1469, 'label': 2405, 'potenti': 3255, 'broken': 506, 'reposit': 3721, 'extens': 1588, 'variou': 4769, 'interv': 2291, 'combin': 785, 'sw': 4352, 'rapid': 3519, 'reward': 3807, 'equival': 1486, 'specifi': 4146, 'warn': 4846, 'natur': 2824, 'fictiti': 1684, 'forbidden': 1747, 'oppos': 2994, 'product': 3345, 'stipul': 4222, 'interrupt': 2289, 'seen': 3947, 'yield': 4985, 'regulatori': 3644, 'seek': 3945, 'opinion': 2992, 'appreci': 224, 'measur': 2647, 'disclosur': 1235, 'impact': 2129, 'arbitr': 235, 'followup': 1740, 'concern': 840, 'mo': 2753, 'apr': 230, 'overwhelm': 3042, 'mother': 2791, 'cut': 1031, 'threw': 4471, 'trash': 4557, 'redirect': 3603, 'hardship': 1972, 'lower': 2546, 'verbal': 4777, 'receipt': 3563, 'situat': 4058, 'employe': 1432, 'tran': 4540, 'union': 4667, 'penal': 3118, 'incompet': 2177, 'signific': 4035, 'summar': 4306, 'attent': 296, 'ut': 4747, 'cc': 620, 'inspector': 2246, 'trade': 4530, 'commiss': 796, 'dc': 1054, 'ref': 3614, 'definit': 1111, 'formal': 1769, 'act': 54, 'fdcpa': 1656, 'disclos': 1234, 'truste': 4581, 'sp': 4137, 'fail': 1612, 'sincer': 4049, 'walmart': 4840, 'fallen': 1619, 'unrel': 4694, 'fulfil': 1820, 'exist': 1555, 'flagstar': 1718, 'portal': 3240, 'mention': 2666, 'paragraph': 3066, 'middl': 2693, 'congratul': 866, 'text': 4437, 'closur': 746, 'ball': 352, 'besid': 413, 'stori': 4232, 'subscrib': 4282, 'suspend': 4344, 'drove': 1348, 'corpor': 936, 'supposedli': 4326, 'boss': 475, 'wave': 4855, 'friday': 1806, 'cd': 624, 'cool': 925, 'retriev': 3790, 'veteran': 4789, 'militari': 2700, 'influenc': 2218, 'men': 2664, 'immor': 2126, 'assigne': 276, 'subprim': 4280, 'decreas': 1090, 'qualif': 3417, 'amort': 172, 'reduct': 3607, 'profit': 3350, 'market': 2607, 'ensur': 1459, 'escap': 1495, 'custodi': 1028, 'govern': 1889, 'innoc': 2232, 'illinoi': 2116, 'forese': 1758, 'distanc': 1283, 'billion': 426, 'disparag': 1264, 'deserv': 1159, 'task': 4383, 'greatli': 1913, 'amazoncom': 157, 'voluntarili': 4822, 'gateway': 1846, 'pro': 3331, 'se': 3927, 'leader': 2436, 'transmit': 4548, 'referr': 3617, 'quotif': 3458, 'local': 2518, 'stress': 4248, 'nonstop': 2898, 'uneth': 4648, 'seller': 3955, 'specialist': 4144, 'publish': 3395, 'nonrefund': 2895, 'gc': 1849, 'hang': 1961, 'joint': 2356, 'equit': 1484, 'admiss': 75, 'rehabilit': 3645, 'speed': 4149, 'transport': 4550, 'memori': 2663, 'drop': 1346, 'suffer': 4300, 'decept': 1080, 'hurt': 2091, 'gestur': 1858, 'fedloan': 1663, 'franchis': 1789, 'poor': 3232, 'adjourn': 70, 'forbear': 1745, 'satisfi': 3890, 'oneyear': 2984, 'implement': 2136, 'polit': 3230, 'backdat': 337, 'understood': 4636, 'forgiven': 1765, 'vain': 4756, 'cooper': 926, 'ownership': 3047, 'subsequ': 4285, 'satisfactorili': 3889, 'disconnect': 1237, 'brand': 488, 'perfect': 3135, 'discrimin': 1247, 'age': 107, 'jeep': 2346, 'withheld': 4923, 'dealer': 1062, 'discourag': 1240, 'coverag': 970, 'surround': 4339, 'divis': 1300, 'beneficiari': 410, 'overlook': 3033, 'honestli': 2052, 'discoveri': 1242, 'careless': 587, 'tempt': 4418, 'spous': 4166, 'wfd': 4887, 'systemat': 4367, 'misunderstand': 2745, 'flat': 1719, 'quickli': 3432, 'coordin': 927, 'controversi': 915, 'level': 2465, 'led': 2442, 'dilemma': 1207, 'recept': 3566, 'proactiv': 3332, 'equip': 1483, 'postal': 3250, 'rushmor': 3862, 'aunt': 310, 'uncl': 4621, 'deceas': 1075, 'revers': 3799, 'die': 1197, 'death': 1066, 'wash': 4849, 'hand': 1957, 'vacant': 4752, 'expedit': 1562, 'corner': 934, 'prosecut': 3371, 'thief': 4454, 'notari': 2908, 'threat': 4466, 'evas': 1512, 'crimin': 998, 'fell': 1671, 'intervent': 2293, 'stub': 4260, 'unemploy': 4646, 'slow': 4079, 'valuabl': 4760, 'inact': 2156, 'unus': 4708, 'residenti': 3755, 'pennsylvania': 3127, 'upset': 4721, 'pack': 3051, 'serial': 3972, 'match': 2620, 'discard': 1230, 'unwant': 4711, 'bring': 500, 'afni': 100, 'collector': 773, 'entitl': 1467, 'capac': 570, 'duress': 1364, 'vari': 4765, 'face': 1602, 'random': 3513, 'retir': 3785, 'resourc': 3763, 'inherit': 2225, 'distinguish': 1286, 'visit': 4811, 'father': 1636, 'guardian': 1933, 'il': 2111, 'strong': 4255, 'outgo': 3014, 'neglig': 2849, 'reprehens': 3724, 'inadequ': 2157, 'district': 1292, 'counterfeit': 953, 'payabl': 3100, 'imprison': 2147, 'falsif': 1622, 'misappropri': 2718, 'civil': 715, 'depositor': 1145, 'furthermor': 1834, 'basi': 374, 'emphasi': 1428, 'defam': 1099, 'slander': 4070, 'floor': 1728, 'forg': 1760, 'endors': 1446, 'feed': 1665, 'anim': 184, 'engag': 1450, 'veterinari': 4790, 'medicin': 2654, 'defin': 1110, 'conduct': 854, 'profess': 3347, 'injuri': 2228, 'board': 460, 'exampl': 1534, 'claimant': 719, 'appel': 217, 'subdivis': 4273, 'falsifi': 1623, 'grand': 1898, 'embezzl': 1421, 'reissu': 3656, 'gla': 1868, 'sue': 4299, 'duplic': 1361, 'permiss': 3143, 'quick': 3429, 'sheet': 3999, 'walk': 4837, 'tx': 4599, 'quotwhat': 3496, 'inde': 2190, 'recogn': 3576, 'behavior': 402, 'event': 1513, 'repo': 3718, 'horribl': 2059, 'injustic': 2229, 'repositori': 3722, 'exercis': 1550, 'advic': 86, 'ongo': 2985, 'auto': 314, 'bother': 476, 'voucher': 4823, 'circl': 697, 'interst': 2290, 'regardless': 3633, 'harsh': 1977, 'describ': 1156, 'interim': 2278, 'litig': 2498, 'ny': 2930, 'quicken': 3430, 'rout': 3847, 'declin': 1087, 'nsf': 2919, 'visibl': 4809, 'liabl': 2472, 'arm': 247, 'wors': 4939, 'variabl': 4766, 'fear': 1658, 'unnecessari': 4682, 'accordingli': 37, 'happi': 1964, 'treatment': 4563, 'administ': 73, 'minor': 2709, 'pocket': 3225, 'carecredit': 584, 'enhanc': 1453, 'comen': 788, 'extent': 1589, 'approx': 228, 'payday': 3102, 'iowa': 2316, 'hospit': 2063, 'googl': 1885, 'advertis': 85, 'possiblethank': 3247, 'charact': 660, 'secondli': 3937, 'intellig': 2263, 'condescend': 850, 'belittl': 405, 'terminolog': 4427, 'pronounc': 3362, 'inappropri': 2159, 'maiden': 2573, 'marri': 2608, 'virginia': 4805, 'classifi': 726, 'imper': 2134, 'acceler': 28, 'ee': 1395, 'froze': 1812, 'station': 4206, 'abroad': 13, 'reactiv': 3531, 'wear': 4859, 'ic': 2096, 'freez': 1802, 'version': 4786, 'frozen': 1813, 'aggreg': 111, 'togeth': 4501, 'lead': 2435, 'entiti': 1466, 'uniqu': 4668, 'easili': 1379, 'opt': 2997, 'exchang': 1541, 'convert': 920, 'anymor': 203, 'greed': 1914, 'cri': 996, 'aloud': 148, 'window': 4910, 'layoff': 2432, 'worker': 4932, 'manual': 2599, 'pace': 3049, 'critic': 1002, 'quotin': 3460, 'loanquot': 2514, 'privileg': 3329, 'rich': 3811, 'santand': 3882, 'renov': 3697, 'kitchen': 2390, 'wast': 4852, 'identif': 2104, 'hassl': 1979, 'easier': 1378, 'bathroom': 377, 'construct': 887, 'reevalu': 3612, 'scratch': 3918, 'nationstar': 2822, 'flood': 1727, 'usd': 4737, 'doubl': 1323, 'silli': 4039, 'paypal': 3107, 'chargeback': 663, 'withhold': 4924, 'gift': 1863, 'justif': 2373, 'run': 3858, 'reserv': 3752, 'ssn': 4179, 'tenth': 4424, 'regret': 3639, 'friendli': 1808, 'user': 4741, 'conveni': 916, 'rc': 3526, 'cmre': 754, 'prior': 3324, 'hamp': 1955, 'georgia': 1857, 'region': 3634, 'trip': 4574, 'duequot': 1357, 'anger': 181, 'negoti': 2850, 'woke': 4925, 'insuffici': 2257, 'hsbc': 2077, 'aris': 244, 'safe': 3866, 'click': 737, 'rememb': 3685, 'relief': 3671, 'divorc': 1301, 'temporari': 4416, 'dead': 1058, 'rescu': 3746, 'na': 2816, 'preciou': 3269, 'outrag': 3018, 'extern': 1591, 'estat': 1502, 'discrep': 1244, 'accru': 41, 'balancequot': 351, 'amaz': 155, 'exorbit': 1558, 'absurd': 22, 'disappoint': 1225, 'sister': 4054, 'movi': 2800, 'alleg': 137, 'partner': 3082, 'solid': 4111, 'project': 3354, 'garag': 1841, 'virtu': 4806, 'expel': 1564, 'annoy': 190, 'timelin': 4485, 'quotyour': 3502, 'adequ': 68, 'coupl': 959, 'quotnotic': 3476, 'quotw': 3494, 'quota': 3436, 'descript': 1157, 'disburs': 1229, 'onetim': 2983, 'prorat': 3370, 'tonight': 4508, 'unjustifi': 4672, 'twelv': 4593, 'phh': 3164, 'elderli': 1407, 'elder': 1406, 'abus': 23, 'newli': 2864, 'built': 525, 'waiv': 4833, 'entrust': 1470, 'fulltim': 1824, 'ltv': 2553, 'countless': 956, 'cutoff': 1032, 'atti': 298, 'superior': 4316, 'scriptur': 3924, 'goal': 1876, 'reveal': 3796, 'biggest': 425, 'begun': 399, 'clinic': 740, 'allevi': 140, 'appoint': 222, 'fifth': 1689, 'nearbi': 2837, 'wa': 4829, 'renounc': 3696, 'imagin': 2120, 'hundr': 2084, 'fortun': 1777, 'creation': 985, 'technolog': 4404, 'cycl': 1035, 'west': 4880, 'arizona': 245, 'acquir': 51, 'languag': 2415, 'envelop': 1471, 'content': 898, 'courier': 961, 'vs': 4825, 'play': 3205, 'game': 1839, 'million': 2701, 'cal': 550, 'departur': 1139, 'greater': 1911, 'race': 3504, 'texa': 4436, 'surplu': 4335, 'advoc': 90, 'seneca': 3960, 'hipoteca': 2029, 'toyota': 4523, 'truck': 4577, 'regularli': 3643, 'chat': 670, 'humili': 2083, 'hesit': 2011, 'digit': 1204, 'perplex': 3147, 'syncb': 4361, 'jc': 2342, 'diagnos': 1189, 'surgeri': 4332, 'drive': 1341, 'road': 3825, 'chrysler': 694, 'headquart': 1986, 'burden': 530, 'plane': 3197, 'ticket': 4476, 'kept': 2379, 'reinstal': 3651, 'honest': 2050, 'specul': 4147, 'annex': 186, 'highlight': 2023, 'exhibit': 1553, 'rpm': 3851, 'xxxxthi': 4971, 'belliger': 407, 'wisconsin': 4916, 'bar': 367, 'wi': 4899, 'unjust': 4671, 'firm': 1704, 'knowingli': 2395, 'involv': 2314, 'collus': 778, 'fake': 1617, 'uptod': 4723, 'diploma': 1214, 'background': 338, 'holiday': 2040, 'sick': 4026, 'reput': 3735, 'nonexist': 2889, 'assumpt': 281, 'daughter': 1048, 'news': 2865, 'decent': 1079, 'justic': 2372, 'rectifi': 3594, 'substanti': 4290, 'cloth': 747, 'elsewher': 1417, 'varieti': 4768, 'fall': 1618, 'love': 2544, 'scream': 3919, 'unprofession': 4688, 'aforement': 101, 'search': 3930, 'ss': 4175, 'summit': 4309, 'foreign': 1756, 'quarterli': 3423, 'chose': 691, 'experion': 1570, 'half': 1951, 'brother': 510, 'jail': 2340, 'parent': 3073, 'ag': 105, 'mainten': 2579, 'overload': 3032, 'deactiv': 1057, 'extract': 1595, 'onsit': 2987, 'amp': 173, 'asleep': 266, 'robot': 3831, 'concentr': 838, 'babi': 335, 'landlord': 2414, 'sanction': 3881, 'justifi': 2374, 'convinc': 923, 'unscrupul': 4699, 'backup': 340, 'impress': 2146, 'male': 2584, 'dishonest': 1255, 'escal': 1494, 'demonstr': 1130, 'uncoop': 4627, 'univers': 4670, 'lentz': 2460, 'impli': 2137, 'offici': 2962, 'ok': 2968, 'urgenc': 4726, 'attract': 302, 'charter': 668, 'bit': 432, 'quotlat': 3465, 'paymentquot': 3105, 'met': 2683, 'exempt': 1549, 'stamp': 4193, 'advisor': 88, 'hit': 2034, 'penn': 3123, 'md': 2639, 'facil': 1604, 'repurchas': 3734, 'elaps': 1405, 'machin': 2565, 'liter': 2497, 'fast': 1634, 'farc': 1630, 'mind': 2703, 'upper': 4719, 'cent': 631, 'overdrawn': 3028, 'recip': 3572, 'zip': 4996, 'summon': 4310, 'salari': 3873, 'mislead': 2730, 'depend': 1140, 'trial': 4568, 'denial': 1132, 'fcdpa': 1648, 'obviou': 2943, 'counselor': 949, 'pmi': 3219, 'rid': 3813, 'durat': 1363, 'deceit': 1076, 'corrupt': 941, 'netspend': 2859, 'dental': 1135, 'familiar': 1626, 'mock': 2756, 'degrad': 1113, 'dear': 1065, 'overpay': 3036, 'near': 2836, 'maryland': 2612, 'relev': 3668, 'signal': 4031, 'represent': 3726, 'cheat': 673, 'neglect': 2848, 'mismanag': 2731, 'harm': 1974, 'broad': 502, 'surpass': 4334, 'arbitrarili': 237, 'usp': 4743, 'ate': 286, 'omit': 2979, 'ultim': 4607, 'compet': 813, 'airlin': 122, 'tone': 4507, 'membership': 2660, 'revok': 3805, 'sir': 4053, 'maci': 2566, 'accident': 33, 'overpaid': 3035, 'beat': 389, 'dealt': 1064, 'marriag': 2609, 'dilig': 1208, 'grate': 1909, 'uncollect': 4624, 'uninterrupt': 4666, 'indiffer': 2198, 'useless': 4740, 'tuesday': 4589, 'celebr': 628, 'suck': 4296, 'wellsfargo': 4877, 'thursday': 4475, 'quoti': 3457, 'youquot': 4991, 'commonwealth': 801, 'proven': 3382, 'cain': 548, 'weiner': 4872, 'thankyou': 4441, 'prefer': 3278, 'boa': 459, 'interven': 2292, 'clearer': 732, 'rental': 3699, 'mom': 2768, 'replac': 3715, 'tie': 4477, 'produc': 3344, 'gentleman': 1853, 'nonpay': 2891, 'accent': 29, 'credenc': 989, 'physician': 3174, 'danc': 1040, 'injur': 2227, 'faster': 1635, 'cb': 615, 'pmt': 3220, 'girl': 1864, 'seat': 3932, 'recal': 3560, 'en': 1434, 'emerg': 1423, 'checkbook': 675, 'teller': 4414, 'stand': 4194, 'blockag': 450, 'wednesday': 4865, 'overcom': 3025, 'meaningless': 2643, 'intens': 2265, 'disrupt': 1278, 'deputi': 1153, 'tip': 4488, 'plagu': 3193, 'render': 3693, 'lt': 2552, 'navi': 2825, 'impos': 2143, 'briefli': 499, 'coborrow': 758, 'comprehens': 831, 'patienc': 3094, 'contrari': 910, 'suppli': 4322, 'internship': 2286, 'summer': 4308, 'counter': 951, 'suspens': 4345, 'bond': 467, 'bail': 346, 'staff': 4184, 'tariff': 4380, 'forgotten': 1767, 'paperless': 3063, 'featur': 1660, 'enabl': 1435, 'sourc': 4131, 'function': 1826, 'lend': 2453, 'upgrad': 4717, 'percentag': 3134, 'overal': 3023, 'usag': 4732, 'util': 4749, 'outdat': 3013, 'fluctuat': 1731, 'filter': 1695, 'quotno': 3473, 'expiri': 1573, 'cach': 547, 'incorpor': 2182, 'smartphon': 4087, 'contemptu': 897, 'teeth': 4406, 'credibl': 991, 'mastercard': 2619, 'bk': 435, 'indebt': 2191, 'travel': 4559, 'neighborhood': 2852, 'conflict': 862, 'nd': 2834, 'preserv': 3299, 'th': 4439, 'draft': 1329, 'ford': 1751, 'shortli': 4017, 'wine': 4912, 'databas': 1045, 'numberquot': 2926, 'patient': 3095, 'importantli': 2142, 'changequot': 655, 'newspap': 2866, 'south': 4132, 'dakota': 1038, 'quotpleas': 3481, 'cfbp': 644, 'countri': 957, 'consider': 878, 'chexsystem': 683, 'sheriff': 4003, 'room': 3836, 'nerv': 2856, 'partial': 3077, 'xxxxthe': 4970, 'detriment': 1178, 'instant': 2249, 'ct': 1015, 'adjud': 71, 'award': 330, 'eye': 1600, 'calendar': 552, 'quotxxxxquot': 3500, 'xxxxi': 4966, 'quotaccount': 3437, 'banco': 356, 'jp': 2360, 'morgan': 2784, 'whenev': 4892, 'pleasur': 3211, 'exhaust': 1552, 'accompani': 35, 'seizur': 3949, 'focu': 1736, 'child': 685, 'citigold': 710, 'promot': 3358, 'bonu': 468, 'light': 2486, 'assert': 271, 'vendor': 4773, 'choos': 690, 'conform': 863, 'absolut': 18, 'stabl': 4182, 'dozen': 1327, 'inaccess': 2153, 'pertin': 3154, 'cbna': 618, 'depot': 1146, 'unfairli': 4653, 'exit': 1556, 'forgot': 1766, 'eras': 1489, 'privaci': 3327, 'broadcast': 503, 'sam': 3879, 'club': 749, 'master': 2618, 'min': 2702, 'wonder': 4928, 'forget': 1763, 'bewar': 419, 'human': 2081, 'benefici': 409, 'misc': 2719, 'map': 2601, 'plain': 3194, 'miscellan': 2721, 'piti': 3189, 'sat': 3885, 'rewrit': 3808, 'valuat': 4761, 'clarifi': 721, 'fiasco': 1682, 'debat': 1068, 'flaw': 1721, 'hostil': 2066, 'huntington': 2088, 'nation': 2821, 'curiou': 1022, 'retreat': 3789, 'secondari': 3936, 'tuition': 4590, 'ship': 4005, 'older': 2972, 'mandat': 2591, 'press': 3301, 'allianc': 142, 'guilt': 1940, 'needless': 2846, 'clearspr': 734, 'stage': 4186, 'stall': 4192, 'cautiou': 613, 'distribut': 1290, 'squar': 4174, 'smallest': 4085, 'penalti': 3119, 'consist': 879, 'economi': 1388, 'sprint': 4171, 'partnership': 3083, 'york': 4986, 'cellular': 630, 'consecut': 873, 'jefferson': 2347, 'minnesota': 2708, 'frca': 1797, 'circumst': 700, 'restructur': 3774, 'joke': 2358, 'rare': 3521, 'world': 4936, 'humbl': 2082, 'big': 423, 'badli': 343, 'dial': 1191, 'keybank': 2381, 'water': 4854, 'petit': 3157, 'trap': 4556, 'poorli': 3233, 'misappli': 2717, 'ethic': 1506, 'nv': 2929, 'nightmar': 2874, 'oversight': 3039, 'confront': 864, 'incur': 2189, 'broker': 507, 'restitut': 3771, 'dri': 1339, 'embarrass': 1420, 'fiduciari': 1687, 'duti': 1365, 'reappear': 3545, 'debtor': 1071, 'maneuv': 2593, 'restrict': 3773, 'held': 1999, 'spell': 4151, 'rebuild': 3556, 'underwat': 4637, 'halfway': 1952, 'confid': 857, 'sorri': 4126, 'denounc': 1133, 'tel': 4407, 'gold': 1879, 'questionnair': 3427, 'decor': 1088, 'coinbas': 763, 'bitcoin': 433, 'reinvestig': 3655, 'thirdparti': 4458, 'nissan': 2875, 'shot': 4019, 'dispos': 1271, 'reconnect': 3583, 'undeliver': 4629, 'vital': 4813, 'nmac': 2879, 'unlimit': 4679, 'shortterm': 4018, 'levi': 2466, 'promissori': 3357, 'lvnv': 2561, 'factor': 1608, 'defend': 1104, 'usc': 4735, 'companyquot': 806, 'implic': 2138, 'unreason': 4692, 'nearest': 2838, 'hell': 2000, 'safeti': 3869, 'exce': 1536, 'grew': 1920, 'drown': 1349, 'afraid': 102, 'seven': 3985, 'float': 1726, 'reregist': 3740, 'attitud': 299, 'worthless': 4944, 'pretens': 3307, 'clever': 736, 'strongli': 4256, 'await': 328, 'nelnet': 2853, 'honesti': 2051, 'dream': 1336, 'vulner': 4827, 'bulli': 529, 'giant': 1862, 'defeat': 1102, 'spirit': 4155, 'hate': 1980, 'brought': 512, 'remedi': 3684, 'revoc': 3804, 'mi': 2690, 'suprem': 4328, 'registri': 3638, 'coincident': 765, 'motiv': 2794, 'contradict': 908, 'unclaim': 4622, 'dictat': 1195, 'destin': 1170, 'manufactur': 2600, 'fabric': 1601, 'pa': 3048, 'postag': 3249, 'sentenc': 3966, 'accid': 32, 'bmo': 457, 'harri': 1976, 'announc': 189, 'recurr': 3596, 'kindli': 2388, 'courtesi': 965, 'pledg': 3212, 'satisfact': 3887, 'heart': 1992, 'submiss': 4275, 'bid': 421, 'strategi': 4241, 'flagrant': 1715, 'outsourc': 3021, 'math': 2622, 'pursuant': 3411, 'furnish': 1832, 'ii': 2109, 'iii': 2110, 'subsect': 4284, 'survey': 4341, 'underwrit': 4639, 'addendum': 65, 'inabl': 2152, 'frame': 1787, 'shoe': 4008, 'pair': 3058, 'resum': 3777, 'pain': 3056, 'battl': 379, 'unansw': 4613, 'thrown': 4473, 'liar': 2473, 'music': 2812, 'uncomfort': 4625, 'wallet': 4839, 'thorough': 4461, 'ceas': 625, 'frivol': 1810, 'eo': 1473, 'cca': 621, 'paus': 3098, 'slightli': 4077, 'mishandl': 2726, 'wwwequifaxsecuritycom': 4958, 'protocol': 3379, 'nearli': 2839, 'hi': 2015, 'toxic': 4522, 'tend': 4420, 'skyrocket': 4068, 'pretext': 3308, 'subsidiari': 4288, 'consequ': 875, 'instrument': 2256, 'launch': 2425, 'collater': 770, 'obstruct': 2941, 'fay': 1642, 'disconcert': 1236, 'gross': 1923, 'amend': 162, 'bureaucraci': 533, 'mobiloan': 2755, 'la': 2403, 'madam': 2568, 'refut': 3629, 'whichev': 4896, 'sole': 4108, 'constru': 886, 'recognit': 3577, 'sd': 3926, 'inquir': 2235, 'contractu': 907, 'significantli': 4036, 'slowli': 4080, 'formerli': 1771, 'repaid': 3706, 'laugh': 2424, 'worst': 4941, 'semest': 3956, 'cosign': 942, 'skill': 4064, 'hole': 2039, 'model': 2759, 'uniform': 4661, 'merci': 2673, 'unresolv': 4696, 'gmac': 1875, 'personnel': 3151, 'cyber': 1033, 'attack': 293, 'cybersecur': 1034, 'cs': 1011, 'doe': 1313, 'budget': 521, 'alloc': 143, 'phase': 3162, 'cardhold': 580, 'fianc': 1681, 'achiev': 49, 'ed': 1390, 'accredit': 40, 'drag': 1330, 'acquisit': 52, 'atlant': 288, 'az': 333, 'scra': 3917, 'confer': 855, 'deepli': 1098, 'firmli': 1705, 'indefinit': 2193, 'info': 2219, 'shark': 3997, 'vm': 4814, 'wireless': 4915, 'caller': 556, 'virtual': 4807, 'pd': 3111, 'desist': 1162, 'incred': 2187, 'snowbal': 4095, 'bridg': 496, 'quotloan': 3468, 'redund': 3608, 'gather': 1847, 'vagu': 4755, 'man': 2589, 'arrang': 250, 'mad': 2567, 'cra': 976, 'career': 585, 'switch': 4356, 'proport': 3367, 'ideal': 2102, 'od': 2954, 'catch': 608, 'wachovia': 4830, 'everbank': 1515, 'complianc': 824, 'fema': 1674, 'statutori': 4210, 'spreadsheet': 4168, 'placement': 3192, 'carrier': 593, 'impair': 2130, 'awa': 327, 'prison': 3326, 'hidden': 2017, 'size': 4062, 'deviat': 1182, 'falsehood': 1621, 'pretend': 3306, 'edg': 1391, 'reassign': 3551, 'ank': 185, 'lifetim': 2484, 'feloni': 1672, 'dictionari': 1196, 'extort': 1593, 'silenc': 4037, 'guilti': 1941, 'edt': 1393, 'unreal': 4690, 'retent': 3784, 'pt': 3392, 'align': 134, 'enrol': 1458, 'prize': 3330, 'reconsid': 3584, 'abrupt': 14, 'drastic': 1333, 'expediti': 1563, 'mcm': 2638, 'tn': 4499, 'born': 473, 'aid': 119, 'index': 2195, 'plaintiff': 3195, 'judgment': 2364, 'enforc': 1449, 'defraud': 1112, 'emc': 1422, 'archiv': 239, 'pg': 3159, 'miscalcul': 2720, 'exclud': 1543, 'pursu': 3410, 'coincid': 764, 'bodi': 462, 'empathi': 1426, 'screenshot': 3921, 'ar': 233, 'refriger': 3626, 'applianc': 220, 'hot': 2067, 'food': 1741, 'recharg': 3571, 'shout': 4021, 'quoth': 3454, 'itquot': 2337, 'nervou': 2857, 'breakdown': 492, 'precis': 3270, 'suspicion': 4347, 'carpet': 591, 'tour': 4517, 'video': 4798, 'tenant': 4419, 'complex': 822, 'hunter': 2087, 'warfield': 4845, 'web': 4861, 'elabor': 1403, 'herebi': 2007, 'solicit': 4109, 'invit': 2309, 'insult': 2258, 'testifi': 4434, 'moral': 2780, 'sear': 3929, 'chanc': 653, 'repetit': 3714, 'women': 4927, 'undo': 4641, 'retaliatori': 3783, 'bait': 348, 'carrington': 594, 'weekli': 4868, 'unlock': 4681, 'dob': 1305, 'suppress': 4327, 'sl': 4069, 'propos': 3368, 'obstacl': 2940, 'bofa': 463, 'sm': 4082, 'redempt': 3600, 'jurisdict': 2370, 'structur': 4258, 'viabl': 4793, 'trail': 4537, 'misinform': 2727, 'warranti': 4848, 'dedic': 1091, 'monetari': 2772, 'punctual': 3400, 'redo': 3605, 'platinum': 3204, 'feequot': 1668, 'unexplain': 4651, 'allegedli': 138, 'surnam': 4333, 'quotat': 3440, 'hoepa': 2036, 'guid': 1936, 'common': 800, 'feesquot': 1669, 'rushcard': 3861, 'monterey': 2777, 'amsher': 175, 'contractor': 906, 'lake': 2411, 'deferr': 1107, 'claus': 727, 'senat': 3957, 'obama': 2933, 'bbt': 384, 'seemingli': 3946, 'lexi': 2467, 'nexi': 2867, 'supplier': 4323, 'ministri': 2707, 'compass': 809, 'dti': 1354, 'login': 2525, 'percent': 3133, 'transpar': 4549, 'twenti': 4594, 'dinner': 1213, 'unsuccess': 4706, 'resend': 3750, 'quotxxxx': 3499, 'xxxxquot': 4969, 'brazen': 489, 'disregard': 1276, 'jurisprud': 2371, 'oath': 2932, 'annot': 188, 'et': 1504, 'seq': 3969, 'noncompli': 2888, 'media': 2649, 'popup': 3236, 'prequalifi': 3292, 'hack': 1946, 'quarrel': 3421, 'aspir': 268, 'http': 2078, 'colleagu': 771, 'senior': 3962, 'transcript': 4542, 'oppress': 2996, 'intimid': 2295, 'signer': 4034, 'ramif': 3511, 'alia': 133, 'gradual': 1895, 'altern': 151, 'enorm': 1456, 'sustain': 4349, 'tremend': 4565, 'pm': 3218, 'stranger': 4239, 'aggress': 112, 'payquot': 3108, 'temporarili': 4417, 'organ': 3007, 'hipaa': 2028, 'destruct': 1172, 'forth': 1774, 'topic': 4511, 'shop': 4010, 'pst': 3391, 'provok': 3386, 'reprimand': 3727, 'costco': 945, 'devil': 1184, 'shortag': 4013, 'interestonli': 2273, 'stood': 4228, 'viciou': 4795, 'encrypt': 1441, 'scan': 3901, 'hair': 1950, 'sleep': 4073, 'push': 3413, 'yell': 4982, 'grow': 1926, 'sigh': 4028, 'engin': 1451, 'stuck': 4261, 'dramat': 1332, 'flagrantli': 1716, 'introduct': 2297, 'amex': 170, 'enclos': 1437, 'advers': 84, 'inund': 2300, 'transpos': 4551, 'inexplic': 2213, 'phoenix': 3167, 'surviv': 4342, 'anguish': 183, 'danger': 1041, 'blacklist': 438, 'horrifi': 2060, 'mode': 2758, 'qwr': 3503, 'contest': 900, 'healthi': 1989, 'revert': 3800, 'endur': 1447, 'verbiag': 4778, 'weekend': 4867, 'tcf': 4392, 'captur': 577, 'fought': 1780, 'junk': 2368, 'deriv': 1154, 'reopen': 3702, 'provision': 3385, 'draw': 1334, 'accountquot': 39, 'hinder': 2026, 'livelihood': 2503, 'diversifi': 1296, 'guarantor': 1931, 'audit': 308, 'sun': 4311, 'ambul': 159, 'succeed': 4293, 'closer': 743, 'prepay': 3290, 'reenter': 3609, 'occurr': 2952, 'stupid': 4266, 'jersey': 2349, 'ph': 3160, 'preferenti': 3279, 'oh': 2965, 'unspecifi': 4703, 'target': 4379, 'concret': 848, 'territori': 4431, 'disturb': 1294, 'compat': 810, 'conclud': 846, 'printout': 3323, 'independ': 2194, 'slip': 4078, 'al': 126, 'prepaid': 3288, 'ky': 2401, 'mutual': 2813, 'unknowingli': 4674, 'sensit': 3964, 'captial': 576, 'interpret': 2287, 'cap': 568, 'mtg': 2807, 'win': 4907, 'audio': 307, 'herewith': 2009, 'termin': 4426, 'illicit': 2115, 'fia': 1680, 'usbank': 4734, 'diamond': 1194, 'overcharg': 3024, 'banker': 362, 'categori': 610, 'rebutt': 3558, 'reg': 3630, 'upsid': 4722, 'packet': 3053, 'ln': 2508, 'quotverifiedquot': 3493, 'wed': 4864, 'ring': 3817, 'beauti': 391, 'hide': 2018, 'reaction': 3530, 'funni': 1830, 'cheap': 671, 'qualiti': 3419, 'jewelri': 2351, 'tag': 4372, 'alabama': 127, 'okay': 2969, 'oracl': 3001, 'pretti': 3309, 'fraudster': 1795, 'preapprov': 3265, 'tabl': 4369, 'audac': 305, 'object': 2935, 'factual': 1610, 'creditworthi': 995, 'templat': 4415, 'toll': 4503, 'municip': 2810, 'misrepres': 2734, 'eat': 1382, 'persecut': 3148, 'assault': 269, 'mequot': 2668, 'bullet': 528, 'whereabout': 4894, 'bounc': 479, 'lazi': 2433, 'honda': 2049, 'armi': 248, 'distract': 1288, 'reluctantli': 3679, 'argument': 243, 'crook': 1004, 'button': 538, 'merced': 2670, 'benz': 412, 'mbf': 2634, 'unfound': 4657, 'expert': 1571, 'unsign': 4701, 'wall': 4838, 'focus': 1737, 'empti': 1433, 'automobil': 318, 'industri': 2204, 'inflict': 2217, 'constitut': 885, 'pra': 3261, 'letterhead': 2464, 'medicaid': 2652, 'senex': 3961, 'selen': 3951, 'commenc': 792, 'solicitor': 4110, 'spin': 4154, 'northland': 2905, 'restart': 3769, 'writer': 4949, 'inch': 2167, 'computer': 836, 'welcom': 4874, 'non': 2886, 'tm': 4495, 'camera': 561, 'surveil': 4340, 'quotnoquot': 3474, 'duli': 1358, 'registrar': 3637, 'peac': 3114, 'merg': 2675, 'rep': 3705, 'publicli': 3394, 'trigger': 4573, 'solvenc': 4114, 'satisfactori': 3888, 'bonus': 469, 'unsatisfactori': 4698, 'depress': 1148, 'mostli': 2790, 'recalcul': 3561, 'imput': 2151, 'invalid': 2302, 'trader': 4533, 'extenu': 1590, 'rape': 3518, 'notori': 2915, 'indisput': 2200, 'helplin': 2005, 'channel': 656, 'thread': 4465, 'wire': 4914, 'premis': 3286, 'devast': 1180, 'idiot': 2106, 'midwest': 2696, 'ch': 647, 'improperli': 2149, 'deaf': 1060, 'ear': 1370, 'abstent': 21, 'huge': 2080, 'contribut': 913, 'prioriti': 3325, 'xxx': 4962, 'crash': 978, 'deploy': 1143, 'rear': 3547, 'distributor': 1291, 'substitut': 4291, 'mileag': 2699, 'cashback': 599, 'indirectli': 2199, 'citizenship': 714, 'analyz': 180, 'discriminatori': 1248, 'advisori': 89, 'dovenmuehl': 1325, 'checklist': 677, 'spoc': 4158, 'selfemploy': 3953, 'unoccupi': 4685, 'mt': 2805, 'persist': 3149, 'password': 3089, 'scenario': 3905, 'endang': 1444, 'glad': 1869, 'secret': 3938, 'mississippi': 2738, 'executor': 1547, 'granddaught': 1900, 'redeem': 3599, 'provis': 3384, 'phish': 3165, 'dare': 1042, 'central': 633, 'drivetim': 1344, 'shape': 3994, 'misrepresent': 2735, 'platform': 3203, 'movement': 2799, 'postcard': 3251, 'forum': 1778, 'smaller': 4084, 'bedroom': 395, 'soft': 4102, 'encourag': 1440, 'feet': 1670, 'manipul': 2597, 'inconveni': 2181, 'ira': 2322, 'backward': 341, 'god': 1877, 'scale': 3898, 'duplex': 1360, 'lent': 2459, 'minu': 2710, 'quotinterest': 3461, 'defamatori': 1100, 'mouth': 2798, 'nonprofit': 2893, 'fdic': 1657, 'amrica': 174, 'memo': 2661, 'ceo': 635, 'exwif': 1599, 'decre': 1089, 'fairli': 1615, 'skip': 4066, 'rotat': 3841, 'frequenc': 1803, 'classif': 725, 'raffl': 3508, 'necessarili': 2843, 'lunch': 2559, 'mission': 2737, 'purport': 3407, 'passport': 3088, 'interf': 2275, 'imped': 2133, 'jewel': 2350, 'westlak': 4882, 'naiv': 2819, 'nh': 2869, 'replenish': 3716, 'unchang': 4620, 'facta': 1607, 'paralyz': 3068, 'punit': 3402, 'distress': 1289, 'exhusband': 1554, 'smoke': 4089, 'ex': 1527, 'retract': 3787, 'explicitli': 1577, 'dual': 1355, 'invent': 2304, 'annualcreditreportcom': 192, 'null': 2924, 'context': 901, 'path': 3092, 'torment': 4512, 'parcel': 3071, 'anticip': 199, 'divid': 1298, 'environ': 1472, 'icon': 2098, 'stafford': 4185, 'disabl': 1220, 'session': 3978, 'missouri': 2739, 'jpmorgan': 2362, 'threeway': 4469, 'asc': 261, 'misinterpret': 2728, 'flexibl': 1723, 'disposit': 1272, 'analysi': 178, 'reentri': 3610, 'mod': 2757, 'interview': 2294, 'npv': 2917, 'transworld': 4554, 'ps': 3389, 'fyi': 1836, 'robo': 3828, 'ia': 2094, 'crack': 977, 'restaur': 3770, 'parttim': 3084, 'confisc': 861, 'quotfin': 3451, 'midnight': 2695, 'nj': 2876, 'governor': 1891, 'algorithm': 132, 'landlin': 2413, 'veterinarian': 4791, 'cargo': 588, 'spring': 4169, 'predat': 3271, 'bankcard': 361, 'setup': 3984, 'quotwhen': 3497, 'thatquot': 4442, 'techniqu': 4403, 'cashcal': 600, 'oral': 3002, 'unrecogn': 4693, 'springleaf': 4170, 'disrespect': 1277, 'emphas': 1427, 'birthday': 431, 'max': 2628, 'titlemax': 4493, 'upquot': 4720, 'cushion': 1027, 'net': 2858, 'western': 4881, 'ebay': 1383, 'campu': 564, 'successor': 4295, 'ein': 1401, 'unfreez': 4658, 'reinvest': 3654, 'portion': 3242, 'essenti': 1499, 'powerless': 3259, 'reluct': 3678, 'forens': 1757, 'chao': 657, 'syndic': 4365, 'youll': 4987, 'slrp': 4081, 'partli': 3081, 'sec': 3934, 'absenc': 16, 'presum': 3305, 'subparagraph': 4278, 'shall': 3992, 'collis': 777, 'drawn': 1335, 'fbi': 1644, 'custodian': 1029, 'land': 2412, 'desir': 1161, 'hors': 2062, 'patriot': 3096, 'exagger': 1531, 'recess': 3570, 'expand': 1560, 'bless': 445, 'guidanc': 1937, 'garbag': 1842, 'everywher': 1522, 'pipe': 3185, 'unidentifi': 4660, 'urgent': 4727, 'perhap': 3138, 'adult': 80, 'energi': 1448, 'flatli': 1720, 'jump': 2367, 'hoop': 2056, 'bombard': 465, 'tv': 4592, 'anxieti': 200, 'checkcash': 676, 'doc': 1306, 'retrospect': 3792, 'decad': 1074, 'massachusett': 2615, 'certainli': 637, 'folder': 1738, 'worrisom': 4938, 'blackmail': 439, 'remarri': 3683, 'ding': 1212, 'town': 4520, 'ck': 717, 'hurri': 2089, 'teach': 4396, 'episod': 1476, 'citifinanci': 709, 'thereaft': 4448, 'odomet': 2956, 'concessionair': 843, 'scope': 3913, 'bbva': 385, 'cold': 766, 'laid': 2410, 'insid': 2241, 'tablet': 4370, 'eft': 1399, 'attest': 297, 'etern': 1505, 'innumer': 2233, 'strictli': 4250, 'elect': 1408, 'enact': 1436, 'resign': 3757, 'morgag': 2783, 'irregular': 2325, 'capitol': 574, 'slide': 4074, 'secretari': 3939, 'prescrib': 3294, 'climb': 739, 'intensifi': 2266, 'compon': 827, 'informationquot': 2221, 'expos': 1581, 'solar': 4105, 'pound': 3256, 'comb': 783, 'quotdo': 3450, 'callquot': 557, 'prosecutor': 3372, 'instanc': 2248, 'adopt': 77, 'testimoni': 4435, 'reassess': 3550, 'fli': 1724, 'roll': 3834, 'mbna': 2635, 'predecessor': 3273, 'aka': 125, 'plastic': 3201, 'crown': 1006, 'dentist': 1136, 'syncroni': 4364, 'cr': 975, 'domest': 1319, 'straighten': 4236, 'burn': 535, 'miser': 2724, 'demolish': 1129, 'tragedi': 4536, 'devot': 1185, 'ghost': 1860, 'countrywid': 958, 'perspect': 3152, 'nonjudici': 2890, 'snaac': 4092, 'tow': 4518, 'screen': 3920, 'unsuspect': 4707, 'disgust': 1253, 'nonsens': 2896, 'stepson': 4218, 'sooner': 4124, 'accommod': 34, 'unwil': 4712, 'loancar': 2512, 'household': 2072, 'star': 4198, 'medium': 2656, 'grade': 1894, 'rebuilt': 3557, 'longterm': 2531, 'routin': 3849, 'bimonthli': 428, 'tradit': 4534, 'ordinari': 3005, 'irrit': 2330, 'salli': 3877, 'mae': 2569, 'boy': 482, 'overrid': 3037, 'merger': 2676, 'exclus': 1544, 'warehous': 4844, 'biweekli': 434, 'spoil': 4159, 'spam': 4139, 'readjust': 3535, 'dissatisfi': 1280, 'grantor': 1907, 'misconduct': 2722, 'anxiou': 201, 'aliv': 136, 'blog': 451, 'anybodi': 202, 'feasibl': 1659, 'furiou': 1831, 'wealth': 4858, 'probat': 3334, 'mix': 2749, 'vault': 4771, 'coin': 762, 'instantli': 2251, 'franklin': 1792, 'ms': 2803, 'mailbox': 2575, 'genuin': 1855, 'ac': 24, 'complic': 826, 'breath': 493, 'nice': 2871, 'coercion': 760, 'unusu': 4709, 'hacker': 1947, 'rma': 3824, 'comparison': 808, 'comp': 803, 'revenu': 3798, 'poc': 3224, 'teacher': 4397, 'root': 3838, 'conn': 869, 'contradictori': 909, 'endless': 1445, 'mistaken': 2742, 'abstain': 20, 'ace': 47, 'bound': 480, 'strict': 4249, 'brotherinlaw': 511, 'motherinlaw': 2792, 'deeper': 1097, 'evil': 1526, 'snow': 4094, 'develop': 1181, 'blow': 454, 'pray': 3263, 'reorder': 3703, 'sequenc': 3970, 'gym': 1944, 'legibl': 2447, 'gasolin': 1845, 'groceri': 1922, 'cm': 751, 'memorandum': 2662, 'undu': 4643, 'ara': 234, 'aros': 249, 'adam': 61, 'tf': 4438, 'panel': 3060, 'entail': 1460, 'urg': 4725, 'declaratori': 1086, 'calm': 558, 'calvari': 559, 'commerc': 794, 'theftgov': 4444, 'categor': 609, 'par': 3065, 'mandatori': 2592, 'bpo': 485, 'alter': 150, 'recit': 3574, 'ombudsman': 2976, 'amcol': 161, 'nc': 2829, 'peak': 3115, 'er': 1487, 'presenc': 3297, 'wrongdo': 4952, 'extinguish': 1592, 'gladli': 1870, 'outlet': 3015, 'dissatisfact': 1279, 'brief': 498, 'televis': 4412, 'dish': 1254, 'juri': 2369, 'mass': 2614, 'massiv': 2617, 'shift': 4004, 'cure': 1021, 'heal': 1987, 'conspiraci': 882, 'delic': 1121, 'tu': 4587, 'clarif': 720, 'quotpaid': 3479, 'predict': 3275, 'dad': 1036, 'permit': 3144, 'soc': 4096, 'pest': 3155, 'betray': 417, 'prudent': 3388, 'clock': 741, 'gov': 1888, 'tast': 4384, 'disqualifi': 1275, 'cashnet': 602, 'blue': 455, 'plug': 3215, 'recertif': 3568, 'standbi': 4196, 'browser': 515, 'zone': 4998, 'maam': 2563, 'sight': 4029, 'sport': 4164, 'lj': 2505, 'ross': 3840, 'copay': 929, 'domain': 1318, 'abid': 9, 'prestig': 3304, 'sound': 4130, 'cumbersom': 1019, 'tmc': 4496, 'season': 3931, 'distant': 1284, 'willing': 4905, 'demograph': 1128, 'courteou': 964, 'everhom': 1517, 'laboratori': 2407, 'translat': 4546, 'integr': 2262, 'foot': 1744, 'unafford': 4612, 'essenc': 1498, 'pioneer': 3184, 'avant': 323, 'shipment': 4006, 'kansa': 2375, 'ks': 2400, 'assoc': 278, 'weak': 4857, 'shellpoint': 4001, 'blatant': 443, 'forego': 1755, 'north': 2904, 'carolina': 590, 'laptop': 2417, 'grandson': 1904, 'involuntari': 2312, 'dark': 1043, 'pure': 3405, 'surprisingli': 4337, 'mental': 2665, 'tortur': 4513, 'pathet': 3093, 'heavi': 1995, 'ach': 48, 'religion': 3674, 'ethnic': 1507, 'ecoa': 1386, 'aspect': 267, 'color': 779, 'racial': 3505, 'popul': 3234, 'garden': 1843, 'tub': 4588, 'nelson': 2854, 'profan': 3346, 'earth': 1375, 'cessat': 642, 'shuffl': 4024, 'mst': 2804, 'lienhold': 2480, 'reestablish': 3611, 'rereport': 3741, 'poverti': 3257, 'sewer': 3988, 'network': 2860, 'luck': 2554, 'plumb': 3216, 'scene': 3906, 'brick': 495, 'launder': 2426, 'afloat': 99, 'outofpocket': 3016, 'distrust': 1293, 'hostag': 2065, 'limbo': 2489, 'enjoy': 1454, 'laps': 2416, 'loop': 2534, 'ba': 334, 'nk': 2877, 'thu': 4474, 'lenderl': 2455, 'prime': 3318, 'poa': 3223, 'explicit': 1576, 'concept': 839, 'preexist': 3276, 'reconsider': 3585, 'detent': 1175, 'train': 4539, 'xxxxa': 4964, 'bottl': 477, 'sponsor': 4162, 'promptli': 3360, 'ratio': 3524, 'resciss': 3745, 'wherea': 4893, 'rain': 3509, 'quickenloan': 3431, 'optim': 2998, 'absorb': 19, 'fafsa': 1611, 'subsid': 4286, 'subsidi': 4287, 'bac': 336, 'companion': 805, 'fare': 1631, 'smooth': 4090, 'disagre': 1223, 'taxabl': 4388, 'sought': 4128, 'issuanc': 2334, 'issuer': 2335, 'nfcu': 2868, 'referenc': 3616, 'wfhm': 4888, 'violent': 4804, 'prospect': 3373, 'appendix': 218, 'omiss': 2978, 'frantic': 1793, 'hamper': 1956, 'worthi': 4943, 'overdraw': 3027, 'chap': 658, 'disclaim': 1233, 'deep': 1096, 'forclosur': 1750, 'conserv': 876, 'harder': 1969, 'convict': 922, 'perfectli': 3136, 'dispar': 1263, 'authent': 312, 'somewhat': 4120, 'facilit': 1605, 'depreci': 1147, 'mr': 2802, 'frequent': 1804, 'wind': 4908, 'bb': 382, 'typic': 4601, 'deplor': 1142, 'irrespons': 2328, 'swear': 4354, 'pose': 3243, 'merit': 2677, 'tool': 4510, 'tile': 4482, 'pen': 3117, 'detain': 1173, 'fcu': 1653, 'documentari': 1309, 'waiver': 4834, 'mechan': 2648, 'pii': 3180, 'terror': 4432, 'leg': 2445, 'unlik': 4678, 'helpless': 2004, 'spite': 4156, 'script': 3923, 'stone': 4226, 'marin': 2603, 'astoria': 283, 'reckless': 3575, 'pennymac': 3128, 'unsolicit': 4702, 'theyr': 4452, 'congressman': 868, 'repeatli': 3712, 'synopsi': 4366, 'transmiss': 4547, 'english': 1452, 'composit': 829, 'tower': 4519, 'underli': 4633, 'protest': 3378, 'hail': 1949, 'surcharg': 4329, 'concess': 842, 'fit': 1710, 'taxi': 4390, 'ssa': 4176, 'receptionist': 3567, 'ground': 1924, 'crisi': 999, 'throw': 4472, 'stepfath': 4217, 'plot': 3213, 'annul': 194, 'fan': 1627, 'stagnat': 4188, 'classic': 724, 'socal': 4097, 'sink': 4052, 'expressli': 1584, 'unreli': 4695, 'remit': 3688, 'unload': 4680, 'fullest': 1821, 'mid': 2692, 'orient': 3008, 'exspous': 1585, 'erc': 1490, 'invas': 2303, 'length': 2457, 'genesi': 1852, 'murki': 2811, 'inept': 2209, 'cordial': 931, 'abruptli': 15, 'roundpoint': 3845, 'underway': 4638, 'converg': 918, 'cowork': 971, 'cruel': 1008, 'proxi': 3387, 'chequ': 680, 'centuri': 634, 'faulti': 1639, 'neighbor': 2851, 'contraven': 912, 'observ': 2938, 'radio': 3507, 'thereof': 4450, 'legisl': 2448, 'unhappi': 4659, 'hafa': 1948, 'trid': 4571, 'dubiou': 1356, 'treasuri': 4561, 'mistakenli': 2743, 'dispers': 1267, 'quarter': 3422, 'prematur': 3284, 'unearn': 4645, 'entranc': 1468, 'doj': 1316, 'condemn': 849, 'slightest': 4076, 'empir': 1430, 'pleasant': 3210, 'quoton': 3478, 'departmentquot': 1138, 'encount': 1439, 'perceiv': 3132, 'popular': 3235, 'compound': 830, 'strength': 4246, 'debacl': 1067, 'collaps': 769, 'doddfrank': 1311, 'insinu': 2243, 'verifiedquot': 4783, 'hurrican': 2090, 'strand': 4237, 'blank': 442, 'react': 3529, 'outcom': 3012, 'campaign': 563, 'motorcycl': 2796, 'glass': 1871, 'smart': 4086, 'tape': 4378, 'verac': 4776, 'dress': 1337, 'threshold': 4470, 'reloadit': 3676, 'comcast': 786, 'clue': 750, 'leak': 2437, 'mold': 2767, 'caregiv': 586, 'lifestyl': 2483, 'lp': 2551, 'realiti': 3540, 'explor': 1580, 'shoulder': 4020, 'piraci': 3186, 'pirat': 3187, 'kohl': 2398, 'winter': 4913, 'pension': 3129, 'ineffect': 2206, 'citimortgag': 712, 'drug': 1350, 'loandepot': 2513, 'treasur': 4560, 'cba': 616, 'disorgan': 1262, 'bigger': 424, 'michigan': 2691, 'planet': 3198, 'infring': 2223, 'happili': 1965, 'altisourc': 152, 'securit': 3944, 'rock': 3832, 'idaho': 2100, 'ecmc': 1385, 'debtquot': 1072, 'bay': 380, 'url': 4728, 'competitor': 815, 'audienc': 306, 'facetofac': 1603, 'extraordinari': 1596, 'bribe': 494, 'interestingli': 2272, 'depth': 1151, 'weve': 4884, 'dd': 1056, 'menu': 2667, 'puzzl': 3414, 'mountain': 2797, 'sixth': 4060, 'arbitrari': 236, 'traumat': 4558, 'ambigu': 158, 'pinnacl': 3183, 'takeov': 4374, 'xxxxx': 4972, 'roommat': 3837, 'purs': 3409, 'dirti': 1219, 'deterior': 1176, 'occup': 2949, 'resel': 3748, 'hid': 2016, 'harp': 1975, 'relentless': 3666, 'fraction': 1786, 'citicard': 707, 'opposit': 2995, 'resal': 3742, 'terrifi': 4430, 'fuel': 1819, 'driven': 1342, 'meter': 2684, 'hammer': 1954, 'tribal': 4569, 'sovereign': 4136, 'immun': 2127, 'problemquot': 3337, 'nonverifi': 2899, 'simm': 4042, 'weltman': 4878, 'weinberg': 4871, 'rei': 3646, 'interrog': 2288, 'farm': 1633, 'largest': 2420, 'blind': 446, 'figur': 1691, 'ineptitud': 2210, 'renegoti': 3694, 'tj': 4494, 'maxx': 2631, 'agit': 113, 'nois': 2883, 'pod': 3226, 'tsi': 4586, 'adorn': 78, 'astronom': 285, 'frankli': 1791, 'shoot': 4009, 'rm': 3823, 'luckili': 2556, 'reag': 3537, 'hr': 2075, 'pickup': 3177, 'subcontract': 4271, 'resist': 3758, 'crush': 1010, 'displeasur': 1270, 'logic': 2524, 'bayview': 381, 'incident': 2169, 'concert': 841, 'retali': 3782, 'lemon': 2452, 'histor': 2032, 'astra': 284, 'counsel': 948, 'commission': 797, 'shake': 3991, 'cabl': 545, 'singlefamili': 4051, 'occ': 2946, 'analyst': 179, 'highli': 2022, 'imperson': 2135, 'mini': 2704, 'miranda': 2715, 'sporad': 4163, 'amx': 177, 'perpetu': 3146, 'csc': 1012, 'chain': 648, 'plate': 3202, 'sudden': 4297, 'greatest': 1912, 'mer': 2669, 'induc': 2202, 'reform': 3623, 'pardon': 3072, 'insan': 2237, 'sad': 3865, 'string': 4252, 'irrepar': 2327, 'nationwid': 2823, 'relentlessli': 3667, 'courthous': 966, 'similarli': 4041, 'consciou': 872, 'super': 4315, 'creativ': 986, 'timequot': 4486, 'mortgagor': 2789, 'corrobor': 940, 'ineffici': 2207, 'cook': 924, 'kid': 2384, 'religi': 3673, 'usuri': 4746, 'longtim': 2532, 'salesperson': 3876, 'telemarket': 4410, 'penncredit': 3124, 'blatantli': 444, 'precaut': 3267, 'procollect': 3343, 'robberi': 3827, 'chief': 684, 'realloc': 3543, 'strengthen': 4247, 'skin': 4065, 'style': 4267, 'problemat': 3336, 'intermediari': 2282, 'imparti': 2131, 'bia': 420, 'margin': 2602, 'idr': 2107, 'prerecord': 3293, 'unnecessarili': 4683, 'reconsolid': 3586, 'medicar': 2653, 'offerquot': 2960, 'coowner': 928, 'remodel': 3690, 'rs': 3852, 'heater': 1994, 'disagr': 1222, 'perjuri': 3140, 'vast': 4770, 'sharehold': 3996, 'quotthey': 3489, 'tank': 4377, 'reassur': 3552, 'chair': 649, 'straight': 4235, 'resurg': 3779, 'offens': 2958, 'supplement': 4320, 'supplementari': 4321, 'shadi': 3990, 'band': 358, 'photocopi': 3170, 'storm': 4233, 'roof': 3835, 'ceil': 627, 'interior': 2279, 'resold': 3759, 'vacuum': 4754, 'slap': 4071, 'buri': 534, 'wit': 4919, 'costli': 946, 'safeguard': 3867, 'legitimaci': 2450, 'magistr': 2572, 'forprofit': 1773, 'recruit': 3593, 'speaker': 4142, 'atroci': 290, 'reiter': 3657, 'citat': 703, 'mirror': 2716, 'massag': 2616, 'therapi': 4447, 'sychroni': 4359, 'washer': 4850, 'dryer': 1351, 'kit': 2389, 'stack': 4183, 'despic': 1167, 'redeposit': 3601, 'unintellig': 4664, 'heritag': 2010, 'stain': 4189, 'beaten': 390, 'forgav': 1761, 'worsen': 4940, 'unforeseen': 4655, 'height': 1997, 'wow': 4946, 'surrend': 4338, 'versu': 4787, 'obscen': 2937, 'scottrad': 3916, 'brokerag': 508, 'credenti': 990, 'seventh': 3986, 'avenu': 324, 'fixedr': 1712, 'greet': 1919, 'lesson': 2461, 'congress': 867, 'divulg': 1302, 'reconcili': 3581, 'strip': 4253, 'recollect': 3578, 'evad': 1510, 'paramount': 3070, 'paymentsquot': 3106, 'wide': 4900, 'reorgan': 3704, 'kramer': 2399, 'aurora': 311, 'annuiti': 193, 'increasingli': 2186, 'overtim': 3040, 'chronolog': 693, 'mexico': 2686, 'wound': 4945, 'statementquot': 4205, 'deem': 1095, 'stock': 4223, 'inconceiv': 2179, 'quotcredit': 3445, 'oldest': 2973, 'deduc': 1092, 'ip': 2317, 'nephew': 2855, 'chargesquot': 665, 'twoyear': 4598, 'burdensom': 531, 'unbear': 4617, 'ban': 354, 'theyll': 4451, 'cnac': 755, 'van': 4762, 'diseas': 1251, 'aggrav': 110, 'misus': 2747, 'pejor': 3116, 'disbelief': 1228, 'irrelev': 2326, 'xxxxdear': 4965, 'di': 1188, 'tech': 4400, 'clearanc': 731, 'subpoena': 4279, 'eastern': 1381, 'inbox': 2161, 'unsubsid': 4705, 'bold': 464, 'stagger': 4187, 'mac': 2564, 'voluntari': 4821, 'brows': 514, 'iron': 2323, 'daycar': 1051, 'yearold': 4981, 'finger': 1701, 'hey': 2012, 'inlaw': 2231, 'cfr': 646, 'dwell': 1366, 'til': 4480, 'reconfigur': 3582, 'phrase': 3172, 'rob': 3826, 'ncc': 2831, 'dialogu': 1193, 'dynam': 1369, 'ride': 3814, 'occasion': 2948, 'iq': 2320, 'bylaw': 541, 'attribut': 303, 'champion': 652, 'cross': 1005, 'nod': 2882, 'nt': 2922, 'mha': 2689, 'tpp': 4524, 'simultan': 4047, 'continent': 902, 'quotfor': 3452, 'protectionquot': 3377, 'cst': 1014, 'scold': 3912, 'tcpa': 4393, 'interlocutor': 2280, 'homeward': 2048, 'ssi': 4178, 'connecticut': 871, 'billpay': 427, 'bed': 394, 'wood': 4929, 'coastal': 757, 'nr': 2918, 'stat': 4201, 'trademark': 4532, 'adher': 69, 'behav': 401, 'fundament': 1828, 'xxxxit': 4968, 'ing': 2224, 'tila': 4481, 'underemploy': 4630, 'litton': 2501, 'aarp': 6, 'foundat': 1781, 'reli': 3669, 'implor': 2140, 'reload': 3675, 'divert': 1297, 'acc': 27, 'white': 4897, 'mp': 2801, 'quotverificationquot': 3492, 'sarcast': 3884, 'headach': 1984, 'bmw': 458, 'shell': 4000, 'lo': 2509, 'improp': 2148, 'hardearn': 1968, 'proud': 3380, 'offend': 2957, 'bag': 345, 'mn': 2752, 'isol': 2332, 'guard': 1932, 'exploit': 1579, 'quotdebt': 3448, 'confess': 856, 'volunt': 4820, 'giro': 1866, 'prescript': 3295, 'prosper': 3374, 'bet': 416, 'forbid': 1746, 'refresh': 3625, 'tracker': 4528, 'belief': 403, 'header': 1985, 'nonspecif': 2897, 'retrain': 3788, 'meaning': 2642, 'enlist': 1455, 'anomali': 195, 'regrett': 3640, 'subchapt': 4270, 'nasti': 2820, 'unexpectedli': 4650, 'quothav': 3455, 'passag': 3086, 'rash': 3522, 'curti': 1026, 'obsolet': 2939, 'ua': 4603, 'queue': 3428, 'po': 3222, 'repercuss': 3713, 'fullquot': 1823, 'greedi': 1915, 'disdain': 1250, 'contempt': 896, 'xxxxxxxxxx': 4975, 'boat': 461, 'tier': 4478, 'klein': 2391, 'writ': 4947, 'scammer': 3900, 'dl': 1303, 'immin': 2125, 'hereinaft': 2008, 'driveway': 1345, 'trustworthi': 4583, 'svc': 4351, 'ton': 4506, 'crc': 980, 'pr': 3260, 'firsthand': 1706, 'sophist': 4125, 'ncb': 2830, 'reprogram': 3730, 'reschedul': 3743, 'satellit': 3886, 'wake': 4835, 'indymac': 2205, 'rebat': 3553, 'creditquot': 994, 'reincorpor': 3648, 'resembl': 3749, 'undergo': 4632, 'quotim': 3459, 'silent': 4038, 'dismay': 1259, 'synchron': 4362, 'conting': 903, 'spread': 4167, 'curs': 1025, 'circul': 699, 'perpetr': 3145, 'onemain': 2981, 'incarcer': 2162, 'runaround': 3859, 'autopay': 320, 'niec': 2872, 'gram': 1897, 'timeshar': 4487, 'dialer': 1192, 'shore': 4011, 'lowincom': 2548, 'trident': 4572, 'llp': 2507, 'asid': 264, 'unnot': 4684, 'offset': 2964, 'republish': 3733, 'promulg': 3361, 'aim': 120, 'competit': 814, 'panic': 3061, 'vision': 4810, 'mortgage': 2788, 'columbia': 781, 'misplac': 2732, 'softwar': 4103, 'moneygram': 2774, 'ipad': 2318, 'pressler': 3302, 'southwest': 4135, 'sixti': 4061, 'disadvantag': 1221, 'weigh': 4869, 'reconcil': 3580, 'capitalon': 573, 'femal': 1675, 'stun': 4265, 'diminish': 1211, 'inexcus': 2212, 'fingerprint': 1702, 'allot': 145, 'formula': 1772, 'undisclos': 4640, 'prejudic': 3282, 'refrain': 3624, 'circuit': 698, 'visual': 4812, 'valley': 4758, 'wakefield': 4836, 'hotlin': 2069, 'roundtrip': 3846, 'livid': 2504, 'fcr': 1651, 'proce': 3338, 'hfc': 2013, 'quotwel': 3495, 'adapt': 62, 'tennesse': 4422, 'premier': 3285, 'command': 791, 'recertifi': 3569, 'invok': 2311, 'aadvantag': 2, 'asham': 262, 'wise': 4917, 'crdito': 982, 'que': 3424, 'una': 4609, 'mortag': 2786, 'daughterinlaw': 1049, 'sticker': 4221, 'unconsci': 4626, 'anonym': 196, 'tradelin': 4531, 'ink': 2230, 'catastroph': 607, 'earliest': 1373, 'resurfac': 3778, 'bidder': 422, 'taught': 4386, 'fun': 1825, 'stake': 4190, 'overnight': 3034, 'batch': 376, 'intercept': 2270, 'plummet': 3217, 'reliev': 3672, 'twentytwo': 4595, 'trend': 4566, 'grievanc': 1921, 'creator': 987, 'deficit': 1109, 'combat': 784, 'habit': 1945, 'uncertainti': 4619, 'autodraft': 315, 'horror': 2061, 'harvard': 1978, 'regain': 3631, 'fcc': 1647, 'halst': 1953, 'lawn': 2428, 'pool': 3231, 'passeng': 3087, 'luggag': 2557, 'quotcash': 3441, 'advancequot': 82, 'weird': 4873, 'interfac': 2276, 'upfront': 4716, 'grab': 1892, 'heat': 1993, 'cabinet': 544, 'whatsoev': 4890, 'blindli': 447, 'teleconfer': 4409, 'lockout': 2521, 'column': 782, 'rebil': 3554, 'forev': 1759, 'retire': 3786, 'attn': 300, 'hippa': 2030, 'tear': 4399, 'spot': 4165, 'chariti': 666, 'somebodi': 4116, 'reread': 3739, 'reintegr': 3653, 'bancorp': 357, 'notat': 2909, 'lexu': 2469, 'granit': 1905, 'bc': 386, 'preauthor': 3266, 'fdca': 1654, 'directori': 1218, 'geograph': 1856, 'disputequot': 1274, 'typograph': 4602, 'steadili': 4212, 'moneyquot': 2775, 'shortfal': 4016, 'republ': 3732, 'puerto': 3396, 'rico': 3812, 'bankquot': 363, 'pslf': 3390, 'lift': 2485, 'li': 2470, 'unilater': 4662, 'liberti': 2474, 'effici': 1397, 'chex': 682, 'goodby': 1883, 'jointli': 2357, 'scari': 3904, 'fanni': 1628, 'bu': 519, 'pendrick': 3121, 'remitt': 3689, 'fm': 1733, 'hardli': 1971, 'americollect': 165, 'xxxxin': 4967, 'guild': 1939, 'weight': 4870, 'quotcollect': 3443, 'lodg': 2522, 'intact': 2261, 'paint': 3057, 'librari': 2476, 'excerpt': 1539, 'cultur': 1018, 'ledger': 2443, 'bankamericard': 360, 'misl': 2729, 'nm': 2878, 'marker': 2606, 'banana': 355, 'streamlin': 4244, 'fnb': 1734, 'omaha': 2975, 'cbr': 619, 'bal': 349, 'ugli': 4606, 'technician': 4402, 'inferior': 2214, 'xxxxxxxxxxxxxxxx': 4977, 'grandfath': 1901, 'versa': 4785, 'repeal': 3709, 'fortiva': 1775, 'interestquot': 2274, 'lay': 2431, 'conceal': 837, 'arrog': 254, 'candid': 566, 'omega': 2977, 'everyday': 1519, 'unclear': 4623, 'misspel': 2740, 'apt': 232, 'portabl': 3239, 'insensit': 2239, 'unsaf': 4697, 'dispatch': 1265, 'vike': 4800, 'insecur': 2238, 'capio': 571, 'speedi': 4150, 'enterpris': 1462, 'complementari': 820, 'scholarship': 3909, 'nco': 2832, 'intermedi': 2281, 'port': 3238, 'ration': 3525, 'predetermin': 3274, 'dci': 1055, 'zion': 4995, 'drink': 1340, 'ne': 2835, 'mon': 2770, 'openli': 2990, 'reus': 3794, 'atg': 287, 'amerihom': 167, 'unawar': 4616, 'heir': 1998, 'simul': 4046, 'dissolv': 1281, 'disord': 1261, 'widow': 4902, 'quotgood': 3453, 'stoneg': 4227, 'hardwork': 1973, 'dodg': 1312, 'payer': 3103, 'undoubtedli': 4642, 'slate': 4072, 'sofi': 4101, 'shorten': 4014, 'reviv': 3803, 'younger': 4989, 'april': 231, 'cu': 1016, 'screw': 3922, 'transfere': 4544, 'rearrang': 3548, 'consumerfinancegov': 892, 'unwilling': 4713, 'counteroff': 954, 'emphat': 1429, 'loantovalu': 2515, 'boot': 471, 'dropdown': 1347, 'nct': 2833, 'collegi': 775, 'discern': 1231, 'pymt': 3415, 'secretli': 3940, 'anniversari': 187, 'tirelessli': 4490, 'extravag': 1597, 'dissuad': 1282, 'horizon': 2058, 'yellow': 4983, 'entertain': 1463, 'stabil': 4181, 'cloud': 748, 'eob': 1474, 'framework': 1788, 'misreport': 2733, 'imposit': 2144, 'longstand': 2530, 'lobbi': 2516, 'straw': 4242, 'dividend': 1299, 'kentucki': 2378, 'closest': 744, 'deck': 1084, 'tough': 4516, 'scrutini': 3925, 'unequivoc': 4647, 'feedback': 1666, 'demean': 1127, 'moreov': 2782, 'quotto': 3491, 'hometown': 2047, 'displac': 1268, 'luxuri': 2560, 'shorter': 4015, 'owen': 3045, 'frighten': 1809, 'concili': 844, 'manhattan': 2595, 'beach': 387, 'ventur': 4775, 'exoner': 1557, 'usernam': 4742, 'tollfre': 4504, 'nml': 2880, 'fci': 1649, 'sampl': 3880, 'misunderstood': 2746, 'hunt': 2086, 'unavail': 4615, 'reexamin': 3613, 'advocaci': 91, 'highrisk': 2024, 'despis': 1168, 'cheaper': 672, 'plea': 3207, 'thirtyday': 4460, 'acr': 53, 'fortnightli': 1776, 'despair': 1165, 'stalker': 4191, 'windham': 4909, 'dillard': 1209, 'randomli': 3514, 'conspir': 881, 'tractor': 4529, 'fbc': 1643, 'indebted': 2192, 'quotjust': 3464, 'volkswagen': 4818, 'vw': 4828, 'convey': 921, 'parrot': 3075, 'wellb': 4876, 'absent': 17, 'split': 4157, 'cardquot': 582, 'quotpay': 3480, 'agreedquot': 116, 'miracul': 2714, 'iphon': 2319, 'amic': 171, 'girlfriend': 1865, 'logo': 2526, 'mistreat': 2744, 'uninform': 4663, 'council': 947, 'batteri': 378, 'distort': 1287, 'naca': 2817, 'workshop': 4935, 'unintent': 4665, 'necess': 2841, 'zombi': 4997, 'quotlostquot': 3469, 'wherev': 4895, 'caiss': 549, 'lendmark': 2456, 'loudli': 2542, 'trustmark': 4582, 'intrus': 2299, 'bridgecrest': 497, 'volum': 4819, 'fc': 1645, 'overdub': 3030, 'taxat': 4389, 'remic': 3686, 'ucc': 4604, 'fr': 1785, 'matrix': 2624, 'relay': 3664, 'consumpt': 893, 'fool': 1742, 'paramet': 3069, 'frank': 1790, 'purg': 3406, 'statist': 4207, 'self': 3952, 'cit': 702, 'eighth': 1400, 'pheaa': 3163, 'pentagon': 3130, 'usda': 4738, 'reconstruct': 3587, 'bapcpa': 366, 'homestead': 2046, 'underestim': 4631, 'subtract': 4292, 'nomin': 2885, 'misdirect': 2723, 'illustr': 2117, 'art': 256, 'sake': 3872, 'jumbo': 2366, 'lord': 2535, 'unsubscrib': 4704, 'disapprov': 1226, 'infin': 2215, 'meal': 2640, 'printer': 3322, 'exacerb': 1528, 'traffic': 4535, 'burst': 536, 'dispens': 1266, 'pursuit': 3412, 'misfortun': 2725, 'prey': 3314, 'chamber': 651, 'residu': 3756, 'inadvert': 2158, 'hoa': 2035, 'dot': 1322, 'contenti': 899, 'udaap': 4605, 'lightli': 2487, 'bestbuy': 415, 'maxim': 2629, 'ml': 2750, 'discontinu': 1238, 'jh': 2352, 'labor': 2406, 'unrealist': 4691, 'realist': 3539, 'litigi': 2499, 'taxpay': 4391, 'quotleg': 3467, 'intermitt': 2283, 'maker': 2583, 'complement': 819, 'diagnosi': 1190, 'quotthat': 3487, 'goodwil': 1884, 'henc': 2006, 'daysquot': 1052, 'verg': 4780, 'uscg': 4736, 'fdcp': 1655, 'ql': 3416, 'redesign': 3602, 'debttoincom': 1073, 'usb': 4733, 'ordeal': 3003, 'heavili': 1996, 'brochur': 504, 'el': 1402, 'ebil': 1384, 'particularli': 3080, 'malic': 2586, 'spv': 4172, 'bailout': 347, 'asap': 260, 'zwicker': 4999, 'courtroom': 967, 'elit': 1415, 'deutsch': 1179, 'rank': 3516, 'wu': 4955, 'minim': 2705, 'surfac': 4331, 'messi': 2682, 'altogeth': 153, 'inclus': 2172, 'iv': 2338, 'charl': 667, 'schwab': 3911, 'smell': 4088, 'penney': 3125, 'mc': 2636, 'app': 212, 'rebound': 3555, 'twist': 4597, 'cavalri': 614, 'mask': 2613, 'gfe': 1859, 'academi': 26, 'youngest': 4990, 'bloomingdal': 453, 'preliminari': 3283, 'supermarket': 4317, 'prevail': 3310, 'kick': 2383, 'kay': 2377, 'transuion': 4552, 'obey': 2934, 'grandpar': 1903, 'concis': 845, 'ion': 2315, 'exasper': 1535, 'snapshot': 4093, 'starter': 4200, 'introductori': 2298, 'growth': 1927, 'multipli': 2809, 'consulta': 890, 'gentlemen': 1854, 'characterist': 661, 'wet': 4883, 'adp': 79, 'rec': 3559, 'wwwannualcreditreportcom': 4957, 'recover': 3591, 'nordstrom': 2901, 'wfb': 4886, 'immers': 2123, 'invad': 2301, 'east': 1380, 'prequalif': 3291, 'bluebird': 456, 'septic': 3968, 'stearn': 4214, 'hyundai': 2093, 'sba': 3895, 'excit': 1542, 'abovement': 12, 'persuad': 3153, 'blackhawk': 437, 'norm': 2902, 'aaa': 1, 'robosign': 3830, 'racket': 3506, 'fresh': 1805, 'forgeri': 1762, 'certegi': 639, 'guaranti': 1930, 'aargon': 5, 'eq': 1477, 'quotmi': 3470, 'mohela': 2766, 'film': 1694, 'flagship': 1717, 'flow': 1730, 'offlin': 2963, 'overvalu': 3041, 'overestim': 3031, 'modern': 2762, 'struck': 4257, 'quotdebtquot': 3449, 'contrast': 911, 'government': 1890, 'capabl': 569, 'studentloansgov': 4263, 'william': 4904, 'fudg': 1818, 'arduou': 240, 'hook': 2055, 'modem': 2760, 'caprici': 575, 'academ': 25, 'gi': 1861, 'chl': 688, 'sky': 4067, 'truli': 4579, 'shed': 3998, 'corelog': 933, 'durabl': 1362, 'flyer': 1732, 'riski': 3822, 'sterl': 4219, 'remaind': 3681, 'fourteen': 1782, 'inevit': 2211, 'df': 1186, 'rose': 3839, 'ri': 3810, 'dofd': 1314, 'incess': 2165, 'lotteri': 2540, 'photograph': 3171, 'basement': 373, 'quotnew': 3471, 'blah': 440, 'vi': 4792, 'ashley': 263, 'hood': 2054, 'marit': 2604, 'rapidli': 3520, 'castl': 604, 'bona': 466, 'fide': 1685, 'modest': 2763, 'recast': 3562, 'filequot': 1693, 'quotthank': 3486, 'robocal': 3829, 'autotrakk': 321, 'northstar': 2906, 'tender': 4421, 'quotnewquot': 3472, 'quotinvestigationquot': 3462, 'lexisnexi': 2468, 'interbank': 2269, 'nuisanc': 2923, 'nycb': 2931, 'puppi': 3403, 'wv': 4956, 'poster': 3252, 'blockad': 449, 'dishonor': 1257, 'pl': 3190, 'tediou': 4405, 'automot': 319, 'messeng': 2681, 'discredit': 1243, 'insignific': 2242, 'circumv': 701, 'quotsh': 3483, 'om': 2974, 'arkansa': 246, 'input': 2234, 'loud': 2541, 'cpa': 973, 'freed': 1799, 'baffl': 344, 'navig': 2827, 'compos': 828, 'reinforc': 3649, 'decenc': 1078, 'jpm': 2361, 'stick': 4220, 'proprietari': 3369, 'border': 472, 'bs': 517, 'statebridg': 4203, 'exet': 1551, 'pile': 3181, 'ts': 4585, 'prayer': 3264, 'encumbr': 1442, 'ecsi': 1389, 'tr': 4525, 'telecheck': 4408, 'api': 210, 'manger': 2594, 'shower': 4022, 'prefabr': 3277, 'sunris': 4313, 'quotcreditorquot': 3446, 'usquot': 4744, 'dump': 1359, 'deciph': 1082, 'fox': 1784, 'church': 695, 'dodd': 1310, 'plaza': 3206, 'checkquot': 679, 'timefram': 4484, 'sub': 4269, 'plead': 3208, 'sapphir': 3883, 'airway': 124, 'optimum': 2999, 'mere': 2674, 'nurs': 2928, 'euro': 1509, 'att': 291, 'oversea': 3038, 'nonpubl': 2894, 'southeast': 4133, 'shelter': 4002, 'explod': 1578, 'amerin': 168, 'citicorp': 708, 'perkin': 3141, 'mccarthi': 2637, 'salesman': 3875, 'nonprofession': 2892, 'drain': 1331, 'renter': 3700, 'fewer': 1677, 'bubbl': 520, 'patent': 3091, 'involuntarili': 2313, 'incept': 2164, 'oil': 2967, 'hsa': 2076, 'pacif': 3050, 'citigroup': 711, 'committe': 799, 'reo': 3701, 'mtcn': 2806, 'merril': 2678, 'lynch': 2562, 'counterclaim': 952, 'dyck': 1367, 'oneal': 2980, 'termit': 4428, 'vanderbilt': 4764, 'soldier': 4107, 'delbert': 1118, 'strike': 4251, 'loc': 2517, 'closet': 745, 'homebuy': 2043, 'hp': 2074, 'digniti': 1205, 'weber': 4862, 'distinct': 1285, 'quotther': 3488, 'substanc': 4289, 'bypass': 542, 'arc': 238, 'vandal': 4763, 'pf': 3158, 'incomedriven': 2175, 'gotten': 1887, 'golden': 1880, 'yard': 4978, 'instantan': 2250, 'certainti': 638, 'cleaner': 729, 'bulk': 526, 'fatherinlaw': 1637, 'criterion': 1001, 'salliema': 3878, 'thequot': 4446, 'safer': 3868, 'brake': 486, 'fenc': 1676, 'assessor': 273, 'realtim': 3544, 'exp': 1559, 'slight': 4075, 'oc': 2945, 'cmc': 752, 'quotcustom': 3447, 'exemplari': 1548, 'theme': 4445, 'datequot': 1047, 'eas': 1376, 'aaf': 3, 'highway': 2025, 'longest': 2529, 'miracl': 2713, 'jcpenney': 2344, 'tranunion': 4555, 'british': 501, 'smoothli': 4091, 'noisi': 2884, 'instig': 2253, 'inventori': 2305, 'quotoh': 3477, 'inelig': 2208, 'del': 1115, 'belk': 406, 'pump': 3399, 'era': 1488, 'allong': 144, 'jcpenni': 2345, 'quiet': 3433, 'unduli': 4644, 'comerica': 789, 'dsnb': 1353, 'vet': 4788, 'quotnot': 3475, 'yyyi': 4993, 'preforeclosur': 3280, 'neck': 2844, 'rept': 3731, 'compliant': 825, 'grass': 1908, 'uncov': 4628, 'amca': 160, 'newer': 2863, 'sak': 3871, 'core': 932, 'marriott': 2610, 'quotquot': 3482, 'pult': 3398, 'delta': 1125, 'brown': 513, 'checkout': 678, 'sisterinlaw': 4055, 'tarp': 4382, 'redcard': 3598, 'welfar': 4875, 'emiss': 1424, 'constructor': 888, 'subcontractor': 4272, 'builder': 524, 'mellon': 2658, 'dishonesti': 1256, 'repris': 3728, 'amerisav': 169, 'majest': 2580, 'undermin': 4634, 'pharmaci': 3161, 'carmax': 589, 'wyndham': 4959, 'tab': 4368, 'onemonth': 2982, 'desktop': 1164, 'ruthless': 3863, 'mart': 2611, 'bp': 484, 'mgr': 2688, 'strive': 4254, 'crucial': 1007, 'subrog': 4281, 'assembl': 270, 'drew': 1338, 'inclin': 2170, 'host': 2064, 'quothow': 3456, 'ccc': 622, 'tmobil': 4497, 'porch': 3237, 'reprocess': 3729, 'venmo': 4774, 'mediocr': 2655, 'scott': 3915, 'dietech': 1198, 'differenti': 1200, 'civilian': 716, 'equifaxsecuritycom': 1482, 'homebridg': 2042, 'quotwhi': 3498, 'requestquot': 3737, 'abc': 8, 'onxx': 2988, 'threemonth': 4468, 'trailer': 4538, 'usabl': 4731, 'sol': 4104, 'war': 4843, 'overwritten': 3043, 'handwrit': 1959, 'factori': 1609, 'dig': 1203, 'firstmark': 1707, 'camp': 562, 'weather': 4860, 'moder': 2761, 'compel': 811, 'bull': 527, 'unlaw': 4676, 'depto': 1152, 'redistribut': 3604, 'grandchildren': 1899, 'incessantli': 2166, 'jeopard': 2348, 'cashnetusa': 603, 'kyhc': 2402, 'incomm': 2176, 'unproven': 4689, 'fam': 1624, 'apex': 209, 'outofst': 3017, 'auditor': 309, 'malfunct': 2585, 'eoscar': 1475, 'swore': 4357, 'nebraska': 2840, 'cumul': 1020, 'outright': 3019, 'wheel': 4891, 'nsm': 2921, 'quotal': 3438, 'frontlin': 1811, 'freeli': 1801, 'servicequot': 3977, 'hardest': 1970, 'discretionari': 1246, 'sca': 3897, 'suv': 4350, 'postmark': 3253, 'uncertain': 4618, 'foolish': 1743, 'forecast': 1752, 'upcom': 4714, 'lab': 2404, 'alaska': 129, 'cream': 983, 'cousin': 968, 'brutal': 516, 'ax': 332, 'forcibl': 1749, 'aldridg': 130, 'standstil': 4197, 'rough': 3842, 'implicit': 2139, 'cat': 605, 'glasser': 1872, 'es': 1493, 'preselect': 3296, 'rev': 3795, 'disguis': 1252, 'solvent': 4115, 'tdbank': 4395, 'ssan': 4177, 'adastra': 63, 'nonbank': 2887, 'vermont': 4784, 'imortgag': 2128, 'worksheet': 4934, 'rejoin': 3659, 'greenski': 1917, 'credco': 988, 'refil': 3619, 'compulsori': 834, 'fh': 1678, 'cann': 567, 'cpfb': 974, 'aag': 4, 'cosmet': 943, 'fish': 1709, 'backlog': 339, 'immens': 2122, 'lein': 2451, 'gulf': 1942, 'xoom': 4960, 'pdq': 3113, 'quotconsum': 3444, 'penf': 3122, 'dhi': 1187, 'irrefut': 2324, 'sixmonth': 4059, 'villag': 4801, 'sierra': 4027, 'speech': 4148, 'chevron': 681, 'evergreen': 1516, 'cf': 643, 'aa': 0, 'libor': 2475, 'strateg': 4240, 'encor': 1438, 'cruis': 1009, 'fin': 1696, 'urban': 4724, 'experiancom': 1568, 'actor': 57, 'ransom': 3517, 'pride': 3316, 'pregnant': 3281, 'magazin': 2570, 'cac': 546, 'naf': 2818, 'stove': 4234, 'dishwash': 1258, 'nba': 2828, 'quotchasequot': 3442, 'wamu': 4841, 'acura': 59, 'pickapay': 3176, 'mb': 2633, 'alimoni': 135, 'sf': 3989, 'planner': 3199, 'immigr': 2124, 'amt': 176, 'susquehanna': 4348, 'jcp': 2343, 'brookwood': 509, 'spark': 4140, 'arvest': 259, 'rtr': 3854, 'phl': 3166, 'fsb': 1815, 'fleet': 1722, 'fco': 1650, 'quotlatequot': 3466, 'hhi': 2014, 'xp': 4961, 'hanna': 1962, 'fnbo': 1735, 'equiant': 1480, 'deplet': 1141, 'cedar': 626, 'niagara': 2870, 'umpqua': 4608, 'cco': 623, 'mall': 2588, 'coll': 767, 'coffe': 761, 'migrat': 2697, 'router': 3848, 'rt': 3853, 'fuck': 1817, 'dsl': 1352, 'orion': 3010, 'windshield': 4911, 'crm': 1003, 'hbor': 1982, 'int': 2260, 'vsac': 4826, 'pite': 3188, 'tent': 4423, 'etrad': 1508, 'linebarg': 2492, 'victoria': 4797, 'meyer': 2687, 'jare': 2341, 'cardin': 581, 'irrevoc': 2329, 'moratorium': 2781, 'wilshir': 4906, 'desd': 1158, 'swbc': 4353, 'allen': 139, 'tate': 4385, 'icm': 2097, 'tmsi': 4498, 'relax': 3663, 'sebon': 3933, 'prota': 3375, 'spvok': 4173, 'collin': 776, 'dyckon': 1368, 'joseph': 2359, 'mmi': 2751, 'amerifirst': 166, 'arstrat': 255, 'agco': 106, 'nslij': 2920}\n",
      "[8.7737239  9.54691379 7.64979381 ... 8.42090253 7.7010871  9.63392517]\n"
     ]
    },
    {
     "data": {
      "text/plain": [
       "numpy.ndarray"
      ]
     },
     "execution_count": 33,
     "metadata": {},
     "output_type": "execute_result"
    }
   ],
   "source": [
    "#Fitting TFIDF on summary\n",
    "tfv_sum = TfidfVectorizer(max_features=5000, lowercase=True, analyzer='word',\n",
    " stop_words= 'english',ngram_range=(1,1))\n",
    "# Fitting TF-IDF to both training and test sets (semi-supervised learning)\n",
    "tfv_sum.fit(lis_summary)\n",
    "print(tfv_sum.vocabulary_)\n",
    "print(tfv_sum.idf_)\n",
    "xtrain_tfv_sum =  tfv_sum.transform(sum_train).toarray()\n",
    "xtest_tfv_sum = tfv_sum.transform(sum_test).toarray()\n",
    "type(xtrain_tfv_sum)\n"
   ]
  },
  {
   "cell_type": "code",
   "execution_count": 34,
   "metadata": {},
   "outputs": [],
   "source": [
    "x_train = np.concatenate((x,xtrain_tfv,xtrain_tfv_sum),axis = 1)\n",
    "x_test = np.concatenate((x1,xtest_tfv,xtest_tfv_sum),axis = 1)\n"
   ]
  },
  {
   "cell_type": "markdown",
   "metadata": {},
   "source": [
    "# Applying the model: Best Accuracy is in the case of Logistic regression with solver as lbfgs and c=10"
   ]
  },
  {
   "cell_type": "code",
   "execution_count": 35,
   "metadata": {},
   "outputs": [],
   "source": [
    "classifier = KNeighborsClassifier(n_neighbors=5, metric='minkowski', p=1, algorithm='kd_tree')\n",
    "classifier.fit(x_train, y_train)\n",
    "y_pred = classifier.predict(x_test)\n"
   ]
  },
  {
   "cell_type": "code",
   "execution_count": 36,
   "metadata": {},
   "outputs": [],
   "source": [
    "from sklearn.linear_model import LogisticRegression\n",
    "classifier=LogisticRegression(solver='lbfgs',multi_class='multinomial',random_state=0,C=10)\n",
    "classifier.fit(x_train,y_train)\n",
    "y_pred = classifier.predict(x_test)\n"
   ]
  },
  {
   "cell_type": "code",
   "execution_count": 37,
   "metadata": {},
   "outputs": [
    {
     "name": "stderr",
     "output_type": "stream",
     "text": [
      "C:\\Users\\HP\\Anaconda3\\lib\\site-packages\\sklearn\\preprocessing\\label.py:151: DeprecationWarning: The truth value of an empty array is ambiguous. Returning False, but in future this will result in an error. Use `array.size > 0` to check that an array is not empty.\n",
      "  if diff:\n"
     ]
    }
   ],
   "source": [
    "ans = labelencoder1.inverse_transform(y_pred)\n",
    "type(ans)\n",
    "ans = pd.DataFrame(ans)"
   ]
  },
  {
   "cell_type": "code",
   "execution_count": 38,
   "metadata": {},
   "outputs": [],
   "source": [
    "id1=test.loc[:,['Complaint-ID']]\n",
    "final_ans = [id1, ans]\n",
    "final_ans = pd.concat(final_ans, axis=1)\n",
    "final_ans.columns = ['Complaint-ID', 'Complaint-Status']\n",
    "final_ans.to_csv('submission_logistic_6-12_knn.csv',index=False)"
   ]
  },
  {
   "cell_type": "code",
   "execution_count": null,
   "metadata": {},
   "outputs": [],
   "source": []
  }
 ],
 "metadata": {
  "kernelspec": {
   "display_name": "Python 3",
   "language": "python",
   "name": "python3"
  },
  "language_info": {
   "codemirror_mode": {
    "name": "ipython",
    "version": 3
   },
   "file_extension": ".py",
   "mimetype": "text/x-python",
   "name": "python",
   "nbconvert_exporter": "python",
   "pygments_lexer": "ipython3",
   "version": "3.6.4"
  }
 },
 "nbformat": 4,
 "nbformat_minor": 2
}
