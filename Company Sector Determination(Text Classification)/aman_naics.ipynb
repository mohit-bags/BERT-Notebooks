{
 "cells": [
  {
   "cell_type": "code",
   "execution_count": 1,
   "id": "df90f8e4",
   "metadata": {},
   "outputs": [],
   "source": [
    "import pandas as pd"
   ]
  },
  {
   "cell_type": "code",
   "execution_count": 2,
   "id": "5645a9e5",
   "metadata": {},
   "outputs": [
    {
     "name": "stderr",
     "output_type": "stream",
     "text": [
      "/mnt/bert_fine_tuning/cluster_env/lib/python3.6/site-packages/IPython/core/interactiveshell.py:3072: DtypeWarning: Columns (4) have mixed types.Specify dtype option on import or set low_memory=False.\n",
      "  interactivity=interactivity, compiler=compiler, result=result)\n"
     ]
    }
   ],
   "source": [
    "df = pd.read_csv('../data/6lakh_pipeline_company_companies_data_2021-07-21.csv')"
   ]
  },
  {
   "cell_type": "code",
   "execution_count": 3,
   "id": "a43fbf91",
   "metadata": {},
   "outputs": [
    {
     "data": {
      "text/html": [
       "<div>\n",
       "<style scoped>\n",
       "    .dataframe tbody tr th:only-of-type {\n",
       "        vertical-align: middle;\n",
       "    }\n",
       "\n",
       "    .dataframe tbody tr th {\n",
       "        vertical-align: top;\n",
       "    }\n",
       "\n",
       "    .dataframe thead th {\n",
       "        text-align: right;\n",
       "    }\n",
       "</style>\n",
       "<table border=\"1\" class=\"dataframe\">\n",
       "  <thead>\n",
       "    <tr style=\"text-align: right;\">\n",
       "      <th></th>\n",
       "      <th>revenue</th>\n",
       "      <th>rank</th>\n",
       "      <th>stock_exchange</th>\n",
       "      <th>open_requisitions_range</th>\n",
       "      <th>stock_price</th>\n",
       "      <th>stock_symbol</th>\n",
       "      <th>_id</th>\n",
       "      <th>company_city</th>\n",
       "      <th>company_country</th>\n",
       "      <th>company_state</th>\n",
       "      <th>...</th>\n",
       "      <th>flag</th>\n",
       "      <th>nubela_id</th>\n",
       "      <th>linkedin_internal_id</th>\n",
       "      <th>tagline</th>\n",
       "      <th>linkedin_search_id</th>\n",
       "      <th>linkedin_employee_count</th>\n",
       "      <th>linkedin_follower_count</th>\n",
       "      <th>addr_upd_from</th>\n",
       "      <th>owler_id</th>\n",
       "      <th>partition_0</th>\n",
       "    </tr>\n",
       "  </thead>\n",
       "  <tbody>\n",
       "    <tr>\n",
       "      <th>0</th>\n",
       "      <td>NaN</td>\n",
       "      <td>525172.0</td>\n",
       "      <td>NaN</td>\n",
       "      <td>NaN</td>\n",
       "      <td>NaN</td>\n",
       "      <td>NaN</td>\n",
       "      <td>5b073192599b311ccc11b101</td>\n",
       "      <td>San Francisco</td>\n",
       "      <td>United States</td>\n",
       "      <td>California</td>\n",
       "      <td>...</td>\n",
       "      <td>NaN</td>\n",
       "      <td>proleads-io</td>\n",
       "      <td>2936369.0</td>\n",
       "      <td>NaN</td>\n",
       "      <td>2936369</td>\n",
       "      <td>2.0</td>\n",
       "      <td>97.0</td>\n",
       "      <td>NaN</td>\n",
       "      <td>NaN</td>\n",
       "      <td>2021-07-21</td>\n",
       "    </tr>\n",
       "    <tr>\n",
       "      <th>1</th>\n",
       "      <td>NaN</td>\n",
       "      <td>988083.0</td>\n",
       "      <td>NaN</td>\n",
       "      <td>NaN</td>\n",
       "      <td>NaN</td>\n",
       "      <td>NaN</td>\n",
       "      <td>5b0737d1599b311ccc11c3f4</td>\n",
       "      <td>Madrid</td>\n",
       "      <td>Spain</td>\n",
       "      <td>Madrid</td>\n",
       "      <td>...</td>\n",
       "      <td>NaN</td>\n",
       "      <td>cramway</td>\n",
       "      <td>3075546.0</td>\n",
       "      <td>NaN</td>\n",
       "      <td>3075546</td>\n",
       "      <td>1.0</td>\n",
       "      <td>84.0</td>\n",
       "      <td>NaN</td>\n",
       "      <td>NaN</td>\n",
       "      <td>2021-07-21</td>\n",
       "    </tr>\n",
       "    <tr>\n",
       "      <th>2</th>\n",
       "      <td>NaN</td>\n",
       "      <td>383864.0</td>\n",
       "      <td>NaN</td>\n",
       "      <td>NaN</td>\n",
       "      <td>NaN</td>\n",
       "      <td>NaN</td>\n",
       "      <td>5b073905599b311ccc11c792</td>\n",
       "      <td>Sion</td>\n",
       "      <td>Switzerland</td>\n",
       "      <td>Valais</td>\n",
       "      <td>...</td>\n",
       "      <td>NaN</td>\n",
       "      <td>imperix</td>\n",
       "      <td>3328031.0</td>\n",
       "      <td>Imperix develops high-end control prototyping ...</td>\n",
       "      <td>3328031</td>\n",
       "      <td>9.0</td>\n",
       "      <td>1174.0</td>\n",
       "      <td>NaN</td>\n",
       "      <td>NaN</td>\n",
       "      <td>2021-07-21</td>\n",
       "    </tr>\n",
       "    <tr>\n",
       "      <th>3</th>\n",
       "      <td>NaN</td>\n",
       "      <td>148922.0</td>\n",
       "      <td>NaN</td>\n",
       "      <td>NaN</td>\n",
       "      <td>NaN</td>\n",
       "      <td>NaN</td>\n",
       "      <td>5b073d93599b311ccc11d524</td>\n",
       "      <td>Seoul</td>\n",
       "      <td>Korea Republic of</td>\n",
       "      <td>Seoul-t'ukpyolsi</td>\n",
       "      <td>...</td>\n",
       "      <td>NaN</td>\n",
       "      <td>yonhap-infomax</td>\n",
       "      <td>519567.0</td>\n",
       "      <td>NaN</td>\n",
       "      <td>519567</td>\n",
       "      <td>72.0</td>\n",
       "      <td>NaN</td>\n",
       "      <td>NaN</td>\n",
       "      <td>NaN</td>\n",
       "      <td>2021-07-21</td>\n",
       "    </tr>\n",
       "    <tr>\n",
       "      <th>4</th>\n",
       "      <td>NaN</td>\n",
       "      <td>247881.0</td>\n",
       "      <td>NaN</td>\n",
       "      <td>NaN</td>\n",
       "      <td>NaN</td>\n",
       "      <td>NaN</td>\n",
       "      <td>5b07485b599b311ccc11f4af</td>\n",
       "      <td>New York</td>\n",
       "      <td>United States</td>\n",
       "      <td>New York</td>\n",
       "      <td>...</td>\n",
       "      <td>NaN</td>\n",
       "      <td>saffron-fix</td>\n",
       "      <td>52765808.0</td>\n",
       "      <td>NaN</td>\n",
       "      <td>52765808</td>\n",
       "      <td>NaN</td>\n",
       "      <td>NaN</td>\n",
       "      <td>NaN</td>\n",
       "      <td>NaN</td>\n",
       "      <td>2021-07-21</td>\n",
       "    </tr>\n",
       "  </tbody>\n",
       "</table>\n",
       "<p>5 rows × 54 columns</p>\n",
       "</div>"
      ],
      "text/plain": [
       "   revenue      rank stock_exchange open_requisitions_range stock_price  \\\n",
       "0      NaN  525172.0            NaN                     NaN         NaN   \n",
       "1      NaN  988083.0            NaN                     NaN         NaN   \n",
       "2      NaN  383864.0            NaN                     NaN         NaN   \n",
       "3      NaN  148922.0            NaN                     NaN         NaN   \n",
       "4      NaN  247881.0            NaN                     NaN         NaN   \n",
       "\n",
       "  stock_symbol                       _id   company_city    company_country  \\\n",
       "0          NaN  5b073192599b311ccc11b101  San Francisco      United States   \n",
       "1          NaN  5b0737d1599b311ccc11c3f4         Madrid              Spain   \n",
       "2          NaN  5b073905599b311ccc11c792           Sion        Switzerland   \n",
       "3          NaN  5b073d93599b311ccc11d524          Seoul  Korea Republic of   \n",
       "4          NaN  5b07485b599b311ccc11f4af       New York      United States   \n",
       "\n",
       "      company_state  ... flag       nubela_id linkedin_internal_id  \\\n",
       "0        California  ...  NaN     proleads-io            2936369.0   \n",
       "1            Madrid  ...  NaN         cramway            3075546.0   \n",
       "2            Valais  ...  NaN         imperix            3328031.0   \n",
       "3  Seoul-t'ukpyolsi  ...  NaN  yonhap-infomax             519567.0   \n",
       "4          New York  ...  NaN     saffron-fix           52765808.0   \n",
       "\n",
       "                                             tagline linkedin_search_id  \\\n",
       "0                                                NaN            2936369   \n",
       "1                                                NaN            3075546   \n",
       "2  Imperix develops high-end control prototyping ...            3328031   \n",
       "3                                                NaN             519567   \n",
       "4                                                NaN           52765808   \n",
       "\n",
       "   linkedin_employee_count linkedin_follower_count addr_upd_from owler_id  \\\n",
       "0                      2.0                    97.0           NaN      NaN   \n",
       "1                      1.0                    84.0           NaN      NaN   \n",
       "2                      9.0                  1174.0           NaN      NaN   \n",
       "3                     72.0                     NaN           NaN      NaN   \n",
       "4                      NaN                     NaN           NaN      NaN   \n",
       "\n",
       "  partition_0  \n",
       "0  2021-07-21  \n",
       "1  2021-07-21  \n",
       "2  2021-07-21  \n",
       "3  2021-07-21  \n",
       "4  2021-07-21  \n",
       "\n",
       "[5 rows x 54 columns]"
      ]
     },
     "execution_count": 3,
     "metadata": {},
     "output_type": "execute_result"
    }
   ],
   "source": [
    "df.head()"
   ]
  },
  {
   "cell_type": "code",
   "execution_count": 4,
   "id": "e57e13bc",
   "metadata": {},
   "outputs": [
    {
     "data": {
      "text/html": [
       "<div>\n",
       "<style scoped>\n",
       "    .dataframe tbody tr th:only-of-type {\n",
       "        vertical-align: middle;\n",
       "    }\n",
       "\n",
       "    .dataframe tbody tr th {\n",
       "        vertical-align: top;\n",
       "    }\n",
       "\n",
       "    .dataframe thead th {\n",
       "        text-align: right;\n",
       "    }\n",
       "</style>\n",
       "<table border=\"1\" class=\"dataframe\">\n",
       "  <thead>\n",
       "    <tr style=\"text-align: right;\">\n",
       "      <th></th>\n",
       "      <th>2017 NAICS Code</th>\n",
       "      <th>2017 NAICS Title</th>\n",
       "    </tr>\n",
       "  </thead>\n",
       "  <tbody>\n",
       "    <tr>\n",
       "      <th>0</th>\n",
       "      <td>11</td>\n",
       "      <td>Agriculture, Forestry, Fishing and HuntingT</td>\n",
       "    </tr>\n",
       "    <tr>\n",
       "      <th>1</th>\n",
       "      <td>111</td>\n",
       "      <td>Crop ProductionT</td>\n",
       "    </tr>\n",
       "    <tr>\n",
       "      <th>2</th>\n",
       "      <td>1111</td>\n",
       "      <td>Oilseed and Grain FarmingT</td>\n",
       "    </tr>\n",
       "    <tr>\n",
       "      <th>3</th>\n",
       "      <td>11111</td>\n",
       "      <td>Soybean FarmingT</td>\n",
       "    </tr>\n",
       "    <tr>\n",
       "      <th>4</th>\n",
       "      <td>111110</td>\n",
       "      <td>Soybean Farming</td>\n",
       "    </tr>\n",
       "  </tbody>\n",
       "</table>\n",
       "</div>"
      ],
      "text/plain": [
       "   2017 NAICS Code                             2017 NAICS Title\n",
       "0               11  Agriculture, Forestry, Fishing and HuntingT\n",
       "1              111                            Crop ProductionT \n",
       "2             1111                   Oilseed and Grain FarmingT\n",
       "3            11111                             Soybean FarmingT\n",
       "4           111110                              Soybean Farming"
      ]
     },
     "execution_count": 4,
     "metadata": {},
     "output_type": "execute_result"
    }
   ],
   "source": [
    "nic = pd.read_csv('../data/NIC.csv')\n",
    "nic.head()"
   ]
  },
  {
   "cell_type": "code",
   "execution_count": 5,
   "id": "301737a8",
   "metadata": {},
   "outputs": [
    {
     "data": {
      "text/plain": [
       "Index(['revenue', 'rank', 'stock_exchange', 'open_requisitions_range',\n",
       "       'stock_price', 'stock_symbol', '_id', 'company_city', 'company_country',\n",
       "       'company_state', 'company_crunchbase_page', 'company_description',\n",
       "       'company_facebook_page', 'company_funding', 'company_industry',\n",
       "       'company_latest_funding_date', 'company_linkedin_page', 'company_name',\n",
       "       'company_phone_number', 'company_products_services',\n",
       "       'company_profile_image_url', 'company_sector', 'company_size',\n",
       "       'company_twitter_page', 'company_type', 'company_website', 'ebitda',\n",
       "       'fiscal_year', 'homepage_url', 'job_count', 'tags', 'lead_count',\n",
       "       'updated_at', 'permalink', 'company_founded_at', 'geo_point',\n",
       "       'company_continent', 'postal_code', 'company_address', 'sic_code',\n",
       "       'naics_code', 'created_at', 'cb_id', 'revenue_range', 'flag',\n",
       "       'nubela_id', 'linkedin_internal_id', 'tagline', 'linkedin_search_id',\n",
       "       'linkedin_employee_count', 'linkedin_follower_count', 'addr_upd_from',\n",
       "       'owler_id', 'partition_0'],\n",
       "      dtype='object')"
      ]
     },
     "execution_count": 5,
     "metadata": {},
     "output_type": "execute_result"
    }
   ],
   "source": [
    "df.columns"
   ]
  },
  {
   "cell_type": "code",
   "execution_count": 11,
   "id": "49522e0e",
   "metadata": {},
   "outputs": [],
   "source": [
    "mapp = {}\n",
    "for index, row in nic.iterrows():\n",
    "    mapp[row['2017 NAICS Code']] = row['2017 NAICS Title']"
   ]
  },
  {
   "cell_type": "code",
   "execution_count": 12,
   "id": "05e2dcb8",
   "metadata": {},
   "outputs": [],
   "source": [
    "there = {}\n",
    "not_there = []\n",
    "for index, row in df.iterrows():\n",
    "    if row['naics_code'] in mapp:\n",
    "        there[row['_id']] = mapp[row['naics_code']]\n",
    "    else:\n",
    "        not_there.append(row['_id'])"
   ]
  },
  {
   "cell_type": "code",
   "execution_count": 13,
   "id": "933c508b",
   "metadata": {},
   "outputs": [
    {
     "name": "stdout",
     "output_type": "stream",
     "text": [
      "596769\n"
     ]
    }
   ],
   "source": [
    "print(len(not_there))"
   ]
  },
  {
   "cell_type": "code",
   "execution_count": 14,
   "id": "04ca0f4d",
   "metadata": {},
   "outputs": [
    {
     "name": "stdout",
     "output_type": "stream",
     "text": [
      "131\n",
      "596769\n",
      "\n",
      "596638\n"
     ]
    }
   ],
   "source": [
    "print(len(nic))\n",
    "print(len(df))\n",
    "print()\n",
    "print(len(df) - len(nic))"
   ]
  },
  {
   "cell_type": "code",
   "execution_count": null,
   "id": "b205dcc0",
   "metadata": {},
   "outputs": [],
   "source": []
  }
 ],
 "metadata": {
  "kernelspec": {
   "display_name": "Python 3",
   "language": "python",
   "name": "python3"
  },
  "language_info": {
   "codemirror_mode": {
    "name": "ipython",
    "version": 3
   },
   "file_extension": ".py",
   "mimetype": "text/x-python",
   "name": "python",
   "nbconvert_exporter": "python",
   "pygments_lexer": "ipython3",
   "version": "3.6.9"
  }
 },
 "nbformat": 4,
 "nbformat_minor": 5
}
