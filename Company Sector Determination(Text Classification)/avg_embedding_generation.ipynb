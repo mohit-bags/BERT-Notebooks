{
 "cells": [
  {
   "cell_type": "code",
   "execution_count": 1,
   "id": "720629cb",
   "metadata": {},
   "outputs": [],
   "source": [
    "import pandas as pd\n",
    "import numpy as np\n",
    "import matplotlib.pyplot as plt"
   ]
  },
  {
   "cell_type": "code",
   "execution_count": 2,
   "id": "36b02d50",
   "metadata": {},
   "outputs": [],
   "source": [
    "import fasttext\n",
    "import fasttext.util\n",
    "from tqdm import tqdm\n",
    "tqdm.pandas()"
   ]
  },
  {
   "cell_type": "code",
   "execution_count": 3,
   "id": "465dc193",
   "metadata": {},
   "outputs": [
    {
     "name": "stderr",
     "output_type": "stream",
     "text": [
      "Warning : `load_model` does not return WordVectorModel or SupervisedModel any more, but a `FastText` object which is very similar.\n"
     ]
    },
    {
     "data": {
      "text/plain": [
       "300"
      ]
     },
     "execution_count": 3,
     "metadata": {},
     "output_type": "execute_result"
    }
   ],
   "source": [
    "ft = fasttext.load_model('../../clustering_func_div/cc.en.300.bin')\n",
    "# get dimension\n",
    "ft.get_dimension()"
   ]
  },
  {
   "cell_type": "code",
   "execution_count": 4,
   "id": "49f30b1d",
   "metadata": {},
   "outputs": [
    {
     "name": "stderr",
     "output_type": "stream",
     "text": [
      "/home/slintel/bert/lib/python3.6/site-packages/IPython/core/interactiveshell.py:3072: DtypeWarning: Columns (4) have mixed types.Specify dtype option on import or set low_memory=False.\n",
      "  interactivity=interactivity, compiler=compiler, result=result)\n"
     ]
    }
   ],
   "source": [
    "data_train = pd.read_csv(\"../data/6lakh_pipeline_company_companies_data_2021-07-21.csv\")"
   ]
  },
  {
   "cell_type": "code",
   "execution_count": 5,
   "id": "93f4b25d",
   "metadata": {},
   "outputs": [
    {
     "data": {
      "text/plain": [
       "Index(['revenue', 'rank', 'stock_exchange', 'open_requisitions_range',\n",
       "       'stock_price', 'stock_symbol', '_id', 'company_city', 'company_country',\n",
       "       'company_state', 'company_crunchbase_page', 'company_description',\n",
       "       'company_facebook_page', 'company_funding', 'company_industry',\n",
       "       'company_latest_funding_date', 'company_linkedin_page', 'company_name',\n",
       "       'company_phone_number', 'company_products_services',\n",
       "       'company_profile_image_url', 'company_sector', 'company_size',\n",
       "       'company_twitter_page', 'company_type', 'company_website', 'ebitda',\n",
       "       'fiscal_year', 'homepage_url', 'job_count', 'tags', 'lead_count',\n",
       "       'updated_at', 'permalink', 'company_founded_at', 'geo_point',\n",
       "       'company_continent', 'postal_code', 'company_address', 'sic_code',\n",
       "       'naics_code', 'created_at', 'cb_id', 'revenue_range', 'flag',\n",
       "       'nubela_id', 'linkedin_internal_id', 'tagline', 'linkedin_search_id',\n",
       "       'linkedin_employee_count', 'linkedin_follower_count', 'addr_upd_from',\n",
       "       'owler_id', 'partition_0'],\n",
       "      dtype='object')"
      ]
     },
     "execution_count": 5,
     "metadata": {},
     "output_type": "execute_result"
    }
   ],
   "source": [
    "data_train.columns"
   ]
  },
  {
   "cell_type": "code",
   "execution_count": 6,
   "id": "c69d5e2c",
   "metadata": {},
   "outputs": [],
   "source": [
    "# from gensim.models.fasttext import FastText\n",
    "# ft_model = FastText.load_fasttext_format('cc.en.300.bin', encoding='utf8')\n",
    "# print(ft_model.wv['artificial'])"
   ]
  },
  {
   "cell_type": "code",
   "execution_count": 7,
   "id": "42d0f61f",
   "metadata": {},
   "outputs": [],
   "source": [
    "data_train = data_train[[\"_id\", \"company_products_services\"]]"
   ]
  },
  {
   "cell_type": "code",
   "execution_count": null,
   "id": "45e3e6ee",
   "metadata": {},
   "outputs": [],
   "source": []
  },
  {
   "cell_type": "code",
   "execution_count": 8,
   "id": "ed5b7622",
   "metadata": {},
   "outputs": [],
   "source": [
    "# # df = pd.read_excel(\"100K_designations.xlsx\")\n",
    "# # reading data\n",
    "# # data_train = pd.read_csv(\"../data/6lakh_pipeline_company_companies_data_2021-07-21.csv\")\n",
    "# # data=pd.read_csv(\"../data/50k_data_crunchbase.csv\")\n",
    "# X_train=pd.read_csv('../scripts/X_train_raw.csv', lineterminator='\\n')\n",
    "# # X_test=pd.read_csv('../scripts/X_test_raw.csv')\n",
    "# y_train=pd.read_csv('../scripts/y_train_raw.csv', lineterminator='\\n')\n",
    "# y_test=pd.read_csv('../scripts/y_test_raw.csv', lineterminator='\\n')\n",
    "\n",
    "\n",
    "# X_test = pd.read_csv('../scripts/X_test_raw.csv',\n",
    "#                  lineterminator='\\n')"
   ]
  },
  {
   "cell_type": "code",
   "execution_count": 9,
   "id": "ee2f4653",
   "metadata": {},
   "outputs": [],
   "source": [
    "# X_train.shape, X_test.shape, y_train.shape, y_test.shape"
   ]
  },
  {
   "cell_type": "code",
   "execution_count": 10,
   "id": "445e37d7",
   "metadata": {},
   "outputs": [],
   "source": [
    "# X_train.columns"
   ]
  },
  {
   "cell_type": "code",
   "execution_count": 11,
   "id": "f0a39d85",
   "metadata": {},
   "outputs": [],
   "source": [
    "# X_train = X_train[[\"_id\",\"company_products_services\"]]"
   ]
  },
  {
   "cell_type": "code",
   "execution_count": 12,
   "id": "0fbf5a32",
   "metadata": {},
   "outputs": [],
   "source": [
    "train_cps = data_train.dropna(how = \"any\")\n",
    "train_cps.reset_index(inplace = True)"
   ]
  },
  {
   "cell_type": "code",
   "execution_count": 13,
   "id": "bb687018",
   "metadata": {},
   "outputs": [
    {
     "name": "stdout",
     "output_type": "stream",
     "text": [
      "   index                       _id  \\\n",
      "0      0  5b073192599b311ccc11b101   \n",
      "1      1  5b0737d1599b311ccc11c3f4   \n",
      "2      2  5b073905599b311ccc11c792   \n",
      "3      5  5b07552e599b311ccc121919   \n",
      "4      6  5b0755f4599b311ccc121b43   \n",
      "\n",
      "                           company_products_services  \n",
      "0  [Personalization, Sales Development, Sales Com...  \n",
      "1              [e-learning Herramienta colaborativa]  \n",
      "2  [Power electronic systems, Advanced control ha...  \n",
      "3     [Education, Learning, Tutoring, Homework Help]  \n",
      "4                  [fine chemicals chemical sharing]  \n",
      "382108\n"
     ]
    }
   ],
   "source": [
    "print(train_cps.head())\n",
    "print(len(train_cps))"
   ]
  },
  {
   "cell_type": "code",
   "execution_count": 14,
   "id": "5423bfcf",
   "metadata": {},
   "outputs": [
    {
     "name": "stderr",
     "output_type": "stream",
     "text": [
      "/home/slintel/bert/lib/python3.6/site-packages/pandas/core/frame.py:4174: SettingWithCopyWarning: \n",
      "A value is trying to be set on a copy of a slice from a DataFrame\n",
      "\n",
      "See the caveats in the documentation: https://pandas.pydata.org/pandas-docs/stable/user_guide/indexing.html#returning-a-view-versus-a-copy\n",
      "  errors=errors,\n"
     ]
    },
    {
     "data": {
      "text/html": [
       "<div>\n",
       "<style scoped>\n",
       "    .dataframe tbody tr th:only-of-type {\n",
       "        vertical-align: middle;\n",
       "    }\n",
       "\n",
       "    .dataframe tbody tr th {\n",
       "        vertical-align: top;\n",
       "    }\n",
       "\n",
       "    .dataframe thead th {\n",
       "        text-align: right;\n",
       "    }\n",
       "</style>\n",
       "<table border=\"1\" class=\"dataframe\">\n",
       "  <thead>\n",
       "    <tr style=\"text-align: right;\">\n",
       "      <th></th>\n",
       "      <th>_id</th>\n",
       "      <th>company_products_services</th>\n",
       "    </tr>\n",
       "  </thead>\n",
       "  <tbody>\n",
       "    <tr>\n",
       "      <th>0</th>\n",
       "      <td>5b073192599b311ccc11b101</td>\n",
       "      <td>[Personalization, Sales Development, Sales Com...</td>\n",
       "    </tr>\n",
       "    <tr>\n",
       "      <th>1</th>\n",
       "      <td>5b0737d1599b311ccc11c3f4</td>\n",
       "      <td>[e-learning Herramienta colaborativa]</td>\n",
       "    </tr>\n",
       "    <tr>\n",
       "      <th>2</th>\n",
       "      <td>5b073905599b311ccc11c792</td>\n",
       "      <td>[Power electronic systems, Advanced control ha...</td>\n",
       "    </tr>\n",
       "    <tr>\n",
       "      <th>3</th>\n",
       "      <td>5b07552e599b311ccc121919</td>\n",
       "      <td>[Education, Learning, Tutoring, Homework Help]</td>\n",
       "    </tr>\n",
       "    <tr>\n",
       "      <th>4</th>\n",
       "      <td>5b0755f4599b311ccc121b43</td>\n",
       "      <td>[fine chemicals chemical sharing]</td>\n",
       "    </tr>\n",
       "  </tbody>\n",
       "</table>\n",
       "</div>"
      ],
      "text/plain": [
       "                        _id                          company_products_services\n",
       "0  5b073192599b311ccc11b101  [Personalization, Sales Development, Sales Com...\n",
       "1  5b0737d1599b311ccc11c3f4              [e-learning Herramienta colaborativa]\n",
       "2  5b073905599b311ccc11c792  [Power electronic systems, Advanced control ha...\n",
       "3  5b07552e599b311ccc121919     [Education, Learning, Tutoring, Homework Help]\n",
       "4  5b0755f4599b311ccc121b43                  [fine chemicals chemical sharing]"
      ]
     },
     "execution_count": 14,
     "metadata": {},
     "output_type": "execute_result"
    }
   ],
   "source": [
    "train_cps.drop(columns = [\"index\"], axis = 1, inplace = True)\n",
    "train_cps.head()"
   ]
  },
  {
   "cell_type": "code",
   "execution_count": 15,
   "id": "a6e74521",
   "metadata": {},
   "outputs": [],
   "source": [
    "def get_embeddings(list_name, ft):\n",
    "    \n",
    "    for keyword in list_name:\n",
    "        avg_embedding = []\n",
    "        f = ft.get_word_vector(keyword)\n",
    "#         print(\"shape of word vector for single word\", f.shape)\n",
    "        avg_embedding.append(f)\n",
    "    final_avg_vector = np.mean(avg_embedding, axis = 0) \n",
    "    \n",
    "    return final_avg_vector"
   ]
  },
  {
   "cell_type": "code",
   "execution_count": 16,
   "id": "dac65e81",
   "metadata": {},
   "outputs": [],
   "source": [
    "def convert_format(n):\n",
    "    # strip brackets\n",
    "    n_split_clean = n.strip('[]')\n",
    "    # split by comma\n",
    "    n_split = n_split_clean.split(\",\")\n",
    "    #strip whitespaces of start and end\n",
    "    n_split_list =[]\n",
    "    for i in n_split:\n",
    "        n_split_final = i.strip(\" \")\n",
    "        n_split_list.append(n_split_final)\n",
    "    n_new = n_split_list\n",
    "        \n",
    "    return n_new"
   ]
  },
  {
   "cell_type": "code",
   "execution_count": 17,
   "id": "5f0187ab",
   "metadata": {},
   "outputs": [
    {
     "name": "stderr",
     "output_type": "stream",
     "text": [
      "100%|██████████| 382108/382108 [00:07<00:00, 50377.49it/s]\n",
      "/home/slintel/bert/lib/python3.6/site-packages/ipykernel_launcher.py:2: SettingWithCopyWarning: \n",
      "A value is trying to be set on a copy of a slice from a DataFrame.\n",
      "Try using .loc[row_indexer,col_indexer] = value instead\n",
      "\n",
      "See the caveats in the documentation: https://pandas.pydata.org/pandas-docs/stable/user_guide/indexing.html#returning-a-view-versus-a-copy\n",
      "  \n"
     ]
    }
   ],
   "source": [
    "# data['company_products_services_embeddings'] = data.apply(lambda x: get_embeddings(x[\"company_products_services\"], ft), axis = 1)\n",
    "train_cps[\"company_products_services\"] = train_cps.progress_apply(lambda x: convert_format(x[\"company_products_services\"]), axis = 1)"
   ]
  },
  {
   "cell_type": "code",
   "execution_count": 18,
   "id": "60218cde",
   "metadata": {},
   "outputs": [
    {
     "data": {
      "text/plain": [
       "['Personalization', 'Sales Development', 'Sales Communication', 'Workflow']"
      ]
     },
     "execution_count": 18,
     "metadata": {},
     "output_type": "execute_result"
    }
   ],
   "source": [
    "train_cps[\"company_products_services\"][0]"
   ]
  },
  {
   "cell_type": "code",
   "execution_count": null,
   "id": "f442198d",
   "metadata": {},
   "outputs": [],
   "source": []
  },
  {
   "cell_type": "code",
   "execution_count": null,
   "id": "58c24a6d",
   "metadata": {},
   "outputs": [],
   "source": []
  },
  {
   "cell_type": "code",
   "execution_count": 19,
   "id": "998e2f60",
   "metadata": {},
   "outputs": [],
   "source": [
    "# for keyword in list_name:\n",
    "#     avg_embedding = []\n",
    "#     f = ft.get_word_vector(keyword)\n",
    "#     print(\"shape of word vector for single word\", f.shape())\n",
    "#     avg_embedding.append(f)\n",
    "# final_avg_vector = np.mean(avg_embedding, axis = 0) \n",
    "#     return final_avg_vector\n",
    "    \n",
    "    \n",
    "    "
   ]
  },
  {
   "cell_type": "code",
   "execution_count": 20,
   "id": "ce6ed1b3",
   "metadata": {},
   "outputs": [
    {
     "name": "stderr",
     "output_type": "stream",
     "text": [
      "100%|██████████| 382108/382108 [01:07<00:00, 5680.35it/s]\n",
      "/home/slintel/bert/lib/python3.6/site-packages/ipykernel_launcher.py:1: SettingWithCopyWarning: \n",
      "A value is trying to be set on a copy of a slice from a DataFrame.\n",
      "Try using .loc[row_indexer,col_indexer] = value instead\n",
      "\n",
      "See the caveats in the documentation: https://pandas.pydata.org/pandas-docs/stable/user_guide/indexing.html#returning-a-view-versus-a-copy\n",
      "  \"\"\"Entry point for launching an IPython kernel.\n"
     ]
    }
   ],
   "source": [
    "train_cps['CPS_embeddings'] = train_cps.progress_apply(lambda x: get_embeddings(x[\"company_products_services\"], ft), axis = 1)"
   ]
  },
  {
   "cell_type": "code",
   "execution_count": 21,
   "id": "3abd9722",
   "metadata": {},
   "outputs": [
    {
     "data": {
      "text/plain": [
       "array([ 5.81681840e-02,  4.32600155e-02,  4.78967018e-02, -6.37340769e-02,\n",
       "        3.28424722e-02,  5.97780459e-02, -5.91425449e-02,  4.65427265e-02,\n",
       "        1.95542648e-02,  9.10749938e-03, -8.88578147e-02,  3.63049507e-02,\n",
       "       -5.63906021e-02,  2.52024811e-02, -1.25449123e-02, -2.75662635e-02,\n",
       "        9.62147042e-02,  3.05396281e-02,  4.69662063e-02, -9.85592511e-03,\n",
       "        4.82240394e-02, -6.49489388e-02, -2.58193118e-03,  3.01636080e-03,\n",
       "       -2.29687262e-02, -7.12520033e-02, -3.94501165e-02,  1.20565603e-02,\n",
       "        6.86522648e-02,  1.58117101e-01, -7.44756602e-04,  2.76350174e-02,\n",
       "       -8.53598863e-03, -1.48489792e-02, -5.16629778e-02,  3.43001098e-03,\n",
       "       -2.72104200e-02, -5.22704646e-02, -9.04752873e-03,  1.13058267e-02,\n",
       "        4.79351915e-02, -4.31932025e-02, -4.85462463e-03,  3.92522998e-02,\n",
       "       -4.62081395e-02, -9.25210188e-04, -2.49267332e-02, -2.56999228e-02,\n",
       "        8.38824809e-02,  2.77770348e-02, -4.60156016e-02,  5.18320948e-02,\n",
       "        6.70302585e-02, -7.70865194e-03, -4.35830019e-02, -2.36360310e-03,\n",
       "        1.91559568e-02, -2.53039114e-02, -9.22184810e-03,  4.70154472e-02,\n",
       "       -6.82279915e-02, -2.37396862e-02, -1.10031264e-02,  6.99580610e-02,\n",
       "       -3.65498587e-02,  1.00208468e-04, -1.39181893e-02,  1.42960288e-02,\n",
       "        5.47778234e-02, -1.34837165e-01,  2.76825540e-02,  1.26021672e-02,\n",
       "        7.16629345e-03,  3.42559479e-02,  1.93202291e-02,  1.42484829e-01,\n",
       "       -5.88906556e-02,  7.14394916e-03, -2.26947237e-02,  3.74109708e-02,\n",
       "        3.87444198e-02, -7.43705183e-02,  8.15501064e-02,  1.02415554e-01,\n",
       "        1.13257039e-02,  7.87939429e-02,  3.89819741e-02,  9.22944513e-04,\n",
       "       -3.36685847e-03,  2.23961775e-03,  3.68834957e-02,  2.16524489e-02,\n",
       "        4.00016904e-02, -3.73899005e-03, -5.01588695e-02, -1.01804873e-03,\n",
       "       -3.56401913e-02, -1.14906738e-02,  9.30366889e-02,  4.95376848e-02,\n",
       "       -2.17317510e-03, -3.85090075e-02,  2.01388747e-02,  2.44869962e-02,\n",
       "       -1.81160644e-02, -1.56851895e-02, -2.36395374e-02,  2.42884029e-02,\n",
       "       -4.58119391e-03, -6.64624646e-02,  2.68312637e-02,  6.23808689e-02,\n",
       "        1.52230896e-02, -6.71852455e-02,  2.85350718e-02, -6.43876148e-03,\n",
       "        6.47342056e-02, -1.27173617e-01,  2.31375778e-03, -6.95764050e-02,\n",
       "        1.11313518e-02, -5.26582114e-02,  1.10258888e-02, -6.48773909e-02,\n",
       "       -9.36797932e-02, -7.68496618e-02,  3.37275416e-02,  6.13383166e-02,\n",
       "       -2.02811509e-02,  9.26072057e-03, -3.13857496e-02,  8.69463906e-02,\n",
       "        1.51419351e-02, -2.84009874e-02, -6.02810532e-02, -1.48037001e-02,\n",
       "        3.07541974e-02, -1.35431262e-02,  5.02006859e-02,  1.95011739e-02,\n",
       "       -3.23145911e-02,  5.13783135e-02, -2.09262799e-02, -2.24627592e-02,\n",
       "       -4.56628762e-02, -2.16496233e-02, -5.92099652e-02, -1.02868728e-01,\n",
       "        9.45017114e-03, -2.74152705e-03,  3.16924565e-02, -3.42938676e-02,\n",
       "       -3.22086997e-02,  3.89096700e-02,  7.82211777e-03, -7.68937990e-02,\n",
       "        2.81898528e-02, -3.70929167e-02,  5.28037325e-02,  2.31742337e-02,\n",
       "       -5.14622107e-02,  1.63687929e-03,  1.45933907e-02,  6.12961799e-02,\n",
       "        5.63135929e-02,  6.51070327e-02, -6.13995194e-02, -3.25690433e-02,\n",
       "        3.76902968e-02, -1.05421189e-02,  2.15409659e-02, -1.43321650e-02,\n",
       "       -4.07998683e-03, -1.01831004e-01, -1.72716156e-02,  6.73660487e-02,\n",
       "        6.80380389e-02, -3.56842950e-02,  3.65246385e-02,  6.31393716e-02,\n",
       "        3.56750749e-02, -1.95522550e-02,  3.14190909e-02,  4.24525999e-02,\n",
       "       -1.25017948e-02,  1.21592827e-01, -9.76939802e-04,  2.72037294e-02,\n",
       "        3.42302658e-02, -4.14091460e-02, -2.61321757e-02, -3.95085700e-02,\n",
       "       -4.40663751e-03,  4.10413742e-02,  3.49834561e-02, -2.03444511e-02,\n",
       "        1.83251016e-02,  1.83266196e-02, -1.79484431e-02, -2.62225512e-02,\n",
       "        1.09571651e-01, -3.77606638e-02,  3.52885649e-02, -2.49047298e-02,\n",
       "       -8.46508599e-04, -2.42850408e-02,  1.03610230e-03, -5.97251467e-02,\n",
       "       -4.54902798e-02, -2.81329509e-02, -4.15817611e-02, -1.72532909e-02,\n",
       "       -7.70655796e-02,  2.51812283e-02, -2.52946187e-02, -1.40046878e-02,\n",
       "        2.07336973e-02, -2.78490074e-02, -6.30549341e-02,  6.22214889e-03,\n",
       "        3.35243568e-02,  6.36046678e-02,  1.83728151e-02, -8.08289796e-02,\n",
       "        2.21943040e-03, -5.05917612e-03,  2.53801383e-02, -9.84878745e-03,\n",
       "       -2.04413161e-02, -4.00008783e-02,  9.61849913e-02,  7.81730935e-02,\n",
       "       -3.18974853e-02,  2.77008000e-03, -4.43864204e-02, -2.95104329e-02,\n",
       "       -5.42248692e-03, -2.69084610e-02,  3.45688127e-02, -2.25134548e-02,\n",
       "       -8.25818162e-03,  5.76251261e-02,  4.89927903e-02,  3.73879038e-02,\n",
       "        5.76991364e-02, -1.34817898e-01, -2.85304841e-02, -1.98038667e-02,\n",
       "        5.01461551e-02, -5.54419011e-02, -4.33407836e-02,  9.77991056e-03,\n",
       "       -1.90961286e-02, -9.95477661e-02, -6.65884651e-03,  3.36490050e-02,\n",
       "        1.46450428e-02, -4.68684249e-02,  2.03731861e-02, -7.05660135e-02,\n",
       "        2.16050800e-02,  4.83188182e-02,  7.89529085e-02, -3.58162485e-02,\n",
       "        5.80866029e-03,  4.64347098e-03, -8.64494964e-03,  3.28607508e-03,\n",
       "        9.87086911e-03, -2.50295214e-02,  3.66402864e-02, -2.13373844e-02,\n",
       "        4.46479172e-02,  3.38657051e-02,  1.27410947e-03,  5.61849810e-02,\n",
       "        2.62064263e-02, -2.21826248e-02,  3.39804515e-02, -3.16437036e-02,\n",
       "        3.85903530e-02,  2.51211859e-02, -5.25289960e-02,  9.49189253e-03,\n",
       "       -3.25840488e-02,  1.10982440e-01, -2.97449231e-02,  3.47349793e-02,\n",
       "        4.90989834e-02, -2.31946731e-04,  3.82990413e-03,  2.24183220e-02,\n",
       "        1.12487718e-01,  1.89428460e-02, -2.60048639e-02, -5.08466214e-02,\n",
       "        1.98831526e-03,  7.03405067e-02, -1.08110048e-01,  1.68769585e-03],\n",
       "      dtype=float32)"
      ]
     },
     "execution_count": 21,
     "metadata": {},
     "output_type": "execute_result"
    }
   ],
   "source": [
    "train_cps[\"CPS_embeddings\"][0]"
   ]
  },
  {
   "cell_type": "code",
   "execution_count": null,
   "id": "7c5f5789",
   "metadata": {},
   "outputs": [],
   "source": [
    "# train_cps.to_csv(\"../data/cps_embeddings.csv\", index = False)"
   ]
  },
  {
   "cell_type": "code",
   "execution_count": 22,
   "id": "cee549af",
   "metadata": {},
   "outputs": [
    {
     "data": {
      "text/html": [
       "<div>\n",
       "<style scoped>\n",
       "    .dataframe tbody tr th:only-of-type {\n",
       "        vertical-align: middle;\n",
       "    }\n",
       "\n",
       "    .dataframe tbody tr th {\n",
       "        vertical-align: top;\n",
       "    }\n",
       "\n",
       "    .dataframe thead th {\n",
       "        text-align: right;\n",
       "    }\n",
       "</style>\n",
       "<table border=\"1\" class=\"dataframe\">\n",
       "  <thead>\n",
       "    <tr style=\"text-align: right;\">\n",
       "      <th></th>\n",
       "      <th>_id</th>\n",
       "      <th>company_products_services</th>\n",
       "      <th>CPS_embeddings</th>\n",
       "    </tr>\n",
       "  </thead>\n",
       "  <tbody>\n",
       "    <tr>\n",
       "      <th>0</th>\n",
       "      <td>5b073192599b311ccc11b101</td>\n",
       "      <td>[Personalization, Sales Development, Sales Com...</td>\n",
       "      <td>[0.058168184, 0.043260016, 0.0478967, -0.06373...</td>\n",
       "    </tr>\n",
       "    <tr>\n",
       "      <th>1</th>\n",
       "      <td>5b0737d1599b311ccc11c3f4</td>\n",
       "      <td>[e-learning Herramienta colaborativa]</td>\n",
       "      <td>[0.0, 0.0, 0.0, 0.0, 0.0, 0.0, 0.0, 0.0, 0.0, ...</td>\n",
       "    </tr>\n",
       "    <tr>\n",
       "      <th>2</th>\n",
       "      <td>5b073905599b311ccc11c792</td>\n",
       "      <td>[Power electronic systems, Advanced control ha...</td>\n",
       "      <td>[0.0, 0.0, 0.0, 0.0, 0.0, 0.0, 0.0, 0.0, 0.0, ...</td>\n",
       "    </tr>\n",
       "    <tr>\n",
       "      <th>3</th>\n",
       "      <td>5b07552e599b311ccc121919</td>\n",
       "      <td>[Education, Learning, Tutoring, Homework Help]</td>\n",
       "      <td>[0.0, 0.0, 0.0, 0.0, 0.0, 0.0, 0.0, 0.0, 0.0, ...</td>\n",
       "    </tr>\n",
       "    <tr>\n",
       "      <th>4</th>\n",
       "      <td>5b0755f4599b311ccc121b43</td>\n",
       "      <td>[fine chemicals chemical sharing]</td>\n",
       "      <td>[0.0, 0.0, 0.0, 0.0, 0.0, 0.0, 0.0, 0.0, 0.0, ...</td>\n",
       "    </tr>\n",
       "  </tbody>\n",
       "</table>\n",
       "</div>"
      ],
      "text/plain": [
       "                        _id  \\\n",
       "0  5b073192599b311ccc11b101   \n",
       "1  5b0737d1599b311ccc11c3f4   \n",
       "2  5b073905599b311ccc11c792   \n",
       "3  5b07552e599b311ccc121919   \n",
       "4  5b0755f4599b311ccc121b43   \n",
       "\n",
       "                           company_products_services  \\\n",
       "0  [Personalization, Sales Development, Sales Com...   \n",
       "1              [e-learning Herramienta colaborativa]   \n",
       "2  [Power electronic systems, Advanced control ha...   \n",
       "3     [Education, Learning, Tutoring, Homework Help]   \n",
       "4                  [fine chemicals chemical sharing]   \n",
       "\n",
       "                                      CPS_embeddings  \n",
       "0  [0.058168184, 0.043260016, 0.0478967, -0.06373...  \n",
       "1  [0.0, 0.0, 0.0, 0.0, 0.0, 0.0, 0.0, 0.0, 0.0, ...  \n",
       "2  [0.0, 0.0, 0.0, 0.0, 0.0, 0.0, 0.0, 0.0, 0.0, ...  \n",
       "3  [0.0, 0.0, 0.0, 0.0, 0.0, 0.0, 0.0, 0.0, 0.0, ...  \n",
       "4  [0.0, 0.0, 0.0, 0.0, 0.0, 0.0, 0.0, 0.0, 0.0, ...  "
      ]
     },
     "execution_count": 22,
     "metadata": {},
     "output_type": "execute_result"
    }
   ],
   "source": [
    "train_cps.head()"
   ]
  },
  {
   "cell_type": "code",
   "execution_count": 23,
   "id": "5c0f847a",
   "metadata": {},
   "outputs": [
    {
     "name": "stderr",
     "output_type": "stream",
     "text": [
      "100%|██████████| 300/300 [00:00<00:00, 570912.52it/s]\n"
     ]
    }
   ],
   "source": [
    "feat_cols = ['feature'+str(i) for i in tqdm(range(len(train_cps[\"CPS_embeddings\"][0])))]"
   ]
  },
  {
   "cell_type": "code",
   "execution_count": 24,
   "id": "fc0b6b27",
   "metadata": {},
   "outputs": [
    {
     "name": "stderr",
     "output_type": "stream",
     "text": [
      "/home/slintel/bert/lib/python3.6/site-packages/pandas/core/frame.py:3069: SettingWithCopyWarning: \n",
      "A value is trying to be set on a copy of a slice from a DataFrame.\n",
      "Try using .loc[row_indexer,col_indexer] = value instead\n",
      "\n",
      "See the caveats in the documentation: https://pandas.pydata.org/pandas-docs/stable/user_guide/indexing.html#returning-a-view-versus-a-copy\n",
      "  self[k1] = value[k2]\n"
     ]
    }
   ],
   "source": [
    "# split array entries into individual columns\n",
    "train_cps[feat_cols] = pd.DataFrame(train_cps.CPS_embeddings.tolist(), index= train_cps.index)"
   ]
  },
  {
   "cell_type": "code",
   "execution_count": 25,
   "id": "6d226cac",
   "metadata": {},
   "outputs": [],
   "source": [
    "from sklearn.decomposition import PCA\n",
    "# pca_breast = PCA(n_components=2)\n",
    "# principalComponents_breast = pca_breast.fit_transform(x)"
   ]
  },
  {
   "cell_type": "code",
   "execution_count": 26,
   "id": "21ddbce4",
   "metadata": {},
   "outputs": [],
   "source": [
    "pca_breast = PCA(n_components=2)"
   ]
  },
  {
   "cell_type": "code",
   "execution_count": 27,
   "id": "c991dd57",
   "metadata": {},
   "outputs": [],
   "source": [
    "# from sklearn.preprocessing import StandardScaler\n",
    "# x = df_ip.loc[:, feat_cols].values\n",
    "# x = StandardScaler().fit_transform(x) # normalizing the features"
   ]
  },
  {
   "cell_type": "code",
   "execution_count": 28,
   "id": "fd041a65",
   "metadata": {},
   "outputs": [],
   "source": [
    "x = train_cps[feat_cols]"
   ]
  },
  {
   "cell_type": "code",
   "execution_count": 29,
   "id": "77e853d2",
   "metadata": {},
   "outputs": [
    {
     "data": {
      "text/plain": [
       "(feature0      0.001497\n",
       " feature1      0.000862\n",
       " feature2      0.001256\n",
       " feature3     -0.019092\n",
       " feature4      0.005373\n",
       "                 ...   \n",
       " feature295    0.005506\n",
       " feature296    0.001046\n",
       " feature297    0.022878\n",
       " feature298   -0.008804\n",
       " feature299    0.005385\n",
       " Length: 300, dtype: float64,\n",
       " feature0      0.036766\n",
       " feature1      0.036262\n",
       " feature2      0.029425\n",
       " feature3      0.044675\n",
       " feature4      0.034049\n",
       "                 ...   \n",
       " feature295    0.045369\n",
       " feature296    0.038020\n",
       " feature297    0.072503\n",
       " feature298    0.047352\n",
       " feature299    0.043680\n",
       " Length: 300, dtype: float64)"
      ]
     },
     "execution_count": 29,
     "metadata": {},
     "output_type": "execute_result"
    }
   ],
   "source": [
    "np.mean(x),np.std(x)\n"
   ]
  },
  {
   "cell_type": "code",
   "execution_count": 30,
   "id": "2aa6a3a1",
   "metadata": {},
   "outputs": [],
   "source": [
    "# df3 = pd.DataFrame(df_ip['designation_embeddings'].to_list(), columns=feat_cols)"
   ]
  },
  {
   "cell_type": "code",
   "execution_count": 31,
   "id": "5b108e96",
   "metadata": {},
   "outputs": [],
   "source": [
    "principalComponents_breast = pca_breast.fit_transform(x)"
   ]
  },
  {
   "cell_type": "code",
   "execution_count": 32,
   "id": "5c9626df",
   "metadata": {},
   "outputs": [],
   "source": [
    "principal_breast_Df = pd.DataFrame(data = principalComponents_breast\n",
    "             , columns = ['principal component 1', 'principal component 2'])"
   ]
  },
  {
   "cell_type": "code",
   "execution_count": 33,
   "id": "400b78a2",
   "metadata": {},
   "outputs": [
    {
     "data": {
      "text/html": [
       "<div>\n",
       "<style scoped>\n",
       "    .dataframe tbody tr th:only-of-type {\n",
       "        vertical-align: middle;\n",
       "    }\n",
       "\n",
       "    .dataframe tbody tr th {\n",
       "        vertical-align: top;\n",
       "    }\n",
       "\n",
       "    .dataframe thead th {\n",
       "        text-align: right;\n",
       "    }\n",
       "</style>\n",
       "<table border=\"1\" class=\"dataframe\">\n",
       "  <thead>\n",
       "    <tr style=\"text-align: right;\">\n",
       "      <th></th>\n",
       "      <th>principal component 1</th>\n",
       "      <th>principal component 2</th>\n",
       "    </tr>\n",
       "  </thead>\n",
       "  <tbody>\n",
       "    <tr>\n",
       "      <th>0</th>\n",
       "      <td>0.342696</td>\n",
       "      <td>-0.136891</td>\n",
       "    </tr>\n",
       "    <tr>\n",
       "      <th>1</th>\n",
       "      <td>-0.111243</td>\n",
       "      <td>0.030840</td>\n",
       "    </tr>\n",
       "    <tr>\n",
       "      <th>2</th>\n",
       "      <td>-0.111243</td>\n",
       "      <td>0.030840</td>\n",
       "    </tr>\n",
       "    <tr>\n",
       "      <th>3</th>\n",
       "      <td>-0.111243</td>\n",
       "      <td>0.030840</td>\n",
       "    </tr>\n",
       "    <tr>\n",
       "      <th>4</th>\n",
       "      <td>-0.111243</td>\n",
       "      <td>0.030840</td>\n",
       "    </tr>\n",
       "    <tr>\n",
       "      <th>...</th>\n",
       "      <td>...</td>\n",
       "      <td>...</td>\n",
       "    </tr>\n",
       "    <tr>\n",
       "      <th>382103</th>\n",
       "      <td>-0.111243</td>\n",
       "      <td>0.030840</td>\n",
       "    </tr>\n",
       "    <tr>\n",
       "      <th>382104</th>\n",
       "      <td>-0.111243</td>\n",
       "      <td>0.030840</td>\n",
       "    </tr>\n",
       "    <tr>\n",
       "      <th>382105</th>\n",
       "      <td>-0.111243</td>\n",
       "      <td>0.030840</td>\n",
       "    </tr>\n",
       "    <tr>\n",
       "      <th>382106</th>\n",
       "      <td>-0.111243</td>\n",
       "      <td>0.030840</td>\n",
       "    </tr>\n",
       "    <tr>\n",
       "      <th>382107</th>\n",
       "      <td>-0.111243</td>\n",
       "      <td>0.030840</td>\n",
       "    </tr>\n",
       "  </tbody>\n",
       "</table>\n",
       "<p>382108 rows × 2 columns</p>\n",
       "</div>"
      ],
      "text/plain": [
       "        principal component 1  principal component 2\n",
       "0                    0.342696              -0.136891\n",
       "1                   -0.111243               0.030840\n",
       "2                   -0.111243               0.030840\n",
       "3                   -0.111243               0.030840\n",
       "4                   -0.111243               0.030840\n",
       "...                       ...                    ...\n",
       "382103              -0.111243               0.030840\n",
       "382104              -0.111243               0.030840\n",
       "382105              -0.111243               0.030840\n",
       "382106              -0.111243               0.030840\n",
       "382107              -0.111243               0.030840\n",
       "\n",
       "[382108 rows x 2 columns]"
      ]
     },
     "execution_count": 33,
     "metadata": {},
     "output_type": "execute_result"
    }
   ],
   "source": [
    "principal_breast_Df"
   ]
  },
  {
   "cell_type": "code",
   "execution_count": 34,
   "id": "10a558dd",
   "metadata": {},
   "outputs": [],
   "source": [
    "df_pca = pd.concat([train_cps,principal_breast_Df], axis = 1)"
   ]
  },
  {
   "cell_type": "code",
   "execution_count": 35,
   "id": "73772773",
   "metadata": {},
   "outputs": [
    {
     "data": {
      "text/html": [
       "<div>\n",
       "<style scoped>\n",
       "    .dataframe tbody tr th:only-of-type {\n",
       "        vertical-align: middle;\n",
       "    }\n",
       "\n",
       "    .dataframe tbody tr th {\n",
       "        vertical-align: top;\n",
       "    }\n",
       "\n",
       "    .dataframe thead th {\n",
       "        text-align: right;\n",
       "    }\n",
       "</style>\n",
       "<table border=\"1\" class=\"dataframe\">\n",
       "  <thead>\n",
       "    <tr style=\"text-align: right;\">\n",
       "      <th></th>\n",
       "      <th>_id</th>\n",
       "      <th>company_products_services</th>\n",
       "      <th>CPS_embeddings</th>\n",
       "      <th>feature0</th>\n",
       "      <th>feature1</th>\n",
       "      <th>feature2</th>\n",
       "      <th>feature3</th>\n",
       "      <th>feature4</th>\n",
       "      <th>feature5</th>\n",
       "      <th>feature6</th>\n",
       "      <th>...</th>\n",
       "      <th>feature292</th>\n",
       "      <th>feature293</th>\n",
       "      <th>feature294</th>\n",
       "      <th>feature295</th>\n",
       "      <th>feature296</th>\n",
       "      <th>feature297</th>\n",
       "      <th>feature298</th>\n",
       "      <th>feature299</th>\n",
       "      <th>principal component 1</th>\n",
       "      <th>principal component 2</th>\n",
       "    </tr>\n",
       "  </thead>\n",
       "  <tbody>\n",
       "    <tr>\n",
       "      <th>0</th>\n",
       "      <td>5b073192599b311ccc11b101</td>\n",
       "      <td>[Personalization, Sales Development, Sales Com...</td>\n",
       "      <td>[0.058168184, 0.043260016, 0.0478967, -0.06373...</td>\n",
       "      <td>0.058168</td>\n",
       "      <td>0.04326</td>\n",
       "      <td>0.047897</td>\n",
       "      <td>-0.063734</td>\n",
       "      <td>0.032842</td>\n",
       "      <td>0.059778</td>\n",
       "      <td>-0.059143</td>\n",
       "      <td>...</td>\n",
       "      <td>0.112488</td>\n",
       "      <td>0.018943</td>\n",
       "      <td>-0.026005</td>\n",
       "      <td>-0.050847</td>\n",
       "      <td>0.001988</td>\n",
       "      <td>0.070341</td>\n",
       "      <td>-0.10811</td>\n",
       "      <td>0.001688</td>\n",
       "      <td>0.342696</td>\n",
       "      <td>-0.136891</td>\n",
       "    </tr>\n",
       "    <tr>\n",
       "      <th>1</th>\n",
       "      <td>5b0737d1599b311ccc11c3f4</td>\n",
       "      <td>[e-learning Herramienta colaborativa]</td>\n",
       "      <td>[0.0, 0.0, 0.0, 0.0, 0.0, 0.0, 0.0, 0.0, 0.0, ...</td>\n",
       "      <td>0.000000</td>\n",
       "      <td>0.00000</td>\n",
       "      <td>0.000000</td>\n",
       "      <td>0.000000</td>\n",
       "      <td>0.000000</td>\n",
       "      <td>0.000000</td>\n",
       "      <td>0.000000</td>\n",
       "      <td>...</td>\n",
       "      <td>0.000000</td>\n",
       "      <td>0.000000</td>\n",
       "      <td>0.000000</td>\n",
       "      <td>0.000000</td>\n",
       "      <td>0.000000</td>\n",
       "      <td>0.000000</td>\n",
       "      <td>0.00000</td>\n",
       "      <td>0.000000</td>\n",
       "      <td>-0.111243</td>\n",
       "      <td>0.030840</td>\n",
       "    </tr>\n",
       "    <tr>\n",
       "      <th>2</th>\n",
       "      <td>5b073905599b311ccc11c792</td>\n",
       "      <td>[Power electronic systems, Advanced control ha...</td>\n",
       "      <td>[0.0, 0.0, 0.0, 0.0, 0.0, 0.0, 0.0, 0.0, 0.0, ...</td>\n",
       "      <td>0.000000</td>\n",
       "      <td>0.00000</td>\n",
       "      <td>0.000000</td>\n",
       "      <td>0.000000</td>\n",
       "      <td>0.000000</td>\n",
       "      <td>0.000000</td>\n",
       "      <td>0.000000</td>\n",
       "      <td>...</td>\n",
       "      <td>0.000000</td>\n",
       "      <td>0.000000</td>\n",
       "      <td>0.000000</td>\n",
       "      <td>0.000000</td>\n",
       "      <td>0.000000</td>\n",
       "      <td>0.000000</td>\n",
       "      <td>0.00000</td>\n",
       "      <td>0.000000</td>\n",
       "      <td>-0.111243</td>\n",
       "      <td>0.030840</td>\n",
       "    </tr>\n",
       "    <tr>\n",
       "      <th>3</th>\n",
       "      <td>5b07552e599b311ccc121919</td>\n",
       "      <td>[Education, Learning, Tutoring, Homework Help]</td>\n",
       "      <td>[0.0, 0.0, 0.0, 0.0, 0.0, 0.0, 0.0, 0.0, 0.0, ...</td>\n",
       "      <td>0.000000</td>\n",
       "      <td>0.00000</td>\n",
       "      <td>0.000000</td>\n",
       "      <td>0.000000</td>\n",
       "      <td>0.000000</td>\n",
       "      <td>0.000000</td>\n",
       "      <td>0.000000</td>\n",
       "      <td>...</td>\n",
       "      <td>0.000000</td>\n",
       "      <td>0.000000</td>\n",
       "      <td>0.000000</td>\n",
       "      <td>0.000000</td>\n",
       "      <td>0.000000</td>\n",
       "      <td>0.000000</td>\n",
       "      <td>0.00000</td>\n",
       "      <td>0.000000</td>\n",
       "      <td>-0.111243</td>\n",
       "      <td>0.030840</td>\n",
       "    </tr>\n",
       "    <tr>\n",
       "      <th>4</th>\n",
       "      <td>5b0755f4599b311ccc121b43</td>\n",
       "      <td>[fine chemicals chemical sharing]</td>\n",
       "      <td>[0.0, 0.0, 0.0, 0.0, 0.0, 0.0, 0.0, 0.0, 0.0, ...</td>\n",
       "      <td>0.000000</td>\n",
       "      <td>0.00000</td>\n",
       "      <td>0.000000</td>\n",
       "      <td>0.000000</td>\n",
       "      <td>0.000000</td>\n",
       "      <td>0.000000</td>\n",
       "      <td>0.000000</td>\n",
       "      <td>...</td>\n",
       "      <td>0.000000</td>\n",
       "      <td>0.000000</td>\n",
       "      <td>0.000000</td>\n",
       "      <td>0.000000</td>\n",
       "      <td>0.000000</td>\n",
       "      <td>0.000000</td>\n",
       "      <td>0.00000</td>\n",
       "      <td>0.000000</td>\n",
       "      <td>-0.111243</td>\n",
       "      <td>0.030840</td>\n",
       "    </tr>\n",
       "  </tbody>\n",
       "</table>\n",
       "<p>5 rows × 305 columns</p>\n",
       "</div>"
      ],
      "text/plain": [
       "                        _id  \\\n",
       "0  5b073192599b311ccc11b101   \n",
       "1  5b0737d1599b311ccc11c3f4   \n",
       "2  5b073905599b311ccc11c792   \n",
       "3  5b07552e599b311ccc121919   \n",
       "4  5b0755f4599b311ccc121b43   \n",
       "\n",
       "                           company_products_services  \\\n",
       "0  [Personalization, Sales Development, Sales Com...   \n",
       "1              [e-learning Herramienta colaborativa]   \n",
       "2  [Power electronic systems, Advanced control ha...   \n",
       "3     [Education, Learning, Tutoring, Homework Help]   \n",
       "4                  [fine chemicals chemical sharing]   \n",
       "\n",
       "                                      CPS_embeddings  feature0  feature1  \\\n",
       "0  [0.058168184, 0.043260016, 0.0478967, -0.06373...  0.058168   0.04326   \n",
       "1  [0.0, 0.0, 0.0, 0.0, 0.0, 0.0, 0.0, 0.0, 0.0, ...  0.000000   0.00000   \n",
       "2  [0.0, 0.0, 0.0, 0.0, 0.0, 0.0, 0.0, 0.0, 0.0, ...  0.000000   0.00000   \n",
       "3  [0.0, 0.0, 0.0, 0.0, 0.0, 0.0, 0.0, 0.0, 0.0, ...  0.000000   0.00000   \n",
       "4  [0.0, 0.0, 0.0, 0.0, 0.0, 0.0, 0.0, 0.0, 0.0, ...  0.000000   0.00000   \n",
       "\n",
       "   feature2  feature3  feature4  feature5  feature6  ...  feature292  \\\n",
       "0  0.047897 -0.063734  0.032842  0.059778 -0.059143  ...    0.112488   \n",
       "1  0.000000  0.000000  0.000000  0.000000  0.000000  ...    0.000000   \n",
       "2  0.000000  0.000000  0.000000  0.000000  0.000000  ...    0.000000   \n",
       "3  0.000000  0.000000  0.000000  0.000000  0.000000  ...    0.000000   \n",
       "4  0.000000  0.000000  0.000000  0.000000  0.000000  ...    0.000000   \n",
       "\n",
       "   feature293  feature294  feature295  feature296  feature297  feature298  \\\n",
       "0    0.018943   -0.026005   -0.050847    0.001988    0.070341    -0.10811   \n",
       "1    0.000000    0.000000    0.000000    0.000000    0.000000     0.00000   \n",
       "2    0.000000    0.000000    0.000000    0.000000    0.000000     0.00000   \n",
       "3    0.000000    0.000000    0.000000    0.000000    0.000000     0.00000   \n",
       "4    0.000000    0.000000    0.000000    0.000000    0.000000     0.00000   \n",
       "\n",
       "   feature299  principal component 1  principal component 2  \n",
       "0    0.001688               0.342696              -0.136891  \n",
       "1    0.000000              -0.111243               0.030840  \n",
       "2    0.000000              -0.111243               0.030840  \n",
       "3    0.000000              -0.111243               0.030840  \n",
       "4    0.000000              -0.111243               0.030840  \n",
       "\n",
       "[5 rows x 305 columns]"
      ]
     },
     "execution_count": 35,
     "metadata": {},
     "output_type": "execute_result"
    }
   ],
   "source": [
    "df_pca.head()"
   ]
  },
  {
   "cell_type": "code",
   "execution_count": 36,
   "id": "c77afa85",
   "metadata": {},
   "outputs": [],
   "source": [
    "df_pca = df_pca[[\"_id\", \"principal component 1\", \"principal component 2\"]]"
   ]
  },
  {
   "cell_type": "code",
   "execution_count": 38,
   "id": "7e9333f7",
   "metadata": {},
   "outputs": [
    {
     "data": {
      "text/html": [
       "<div>\n",
       "<style scoped>\n",
       "    .dataframe tbody tr th:only-of-type {\n",
       "        vertical-align: middle;\n",
       "    }\n",
       "\n",
       "    .dataframe tbody tr th {\n",
       "        vertical-align: top;\n",
       "    }\n",
       "\n",
       "    .dataframe thead th {\n",
       "        text-align: right;\n",
       "    }\n",
       "</style>\n",
       "<table border=\"1\" class=\"dataframe\">\n",
       "  <thead>\n",
       "    <tr style=\"text-align: right;\">\n",
       "      <th></th>\n",
       "      <th>_id</th>\n",
       "      <th>principal component 1</th>\n",
       "      <th>principal component 2</th>\n",
       "    </tr>\n",
       "  </thead>\n",
       "  <tbody>\n",
       "    <tr>\n",
       "      <th>0</th>\n",
       "      <td>5b073192599b311ccc11b101</td>\n",
       "      <td>0.342696</td>\n",
       "      <td>-0.136891</td>\n",
       "    </tr>\n",
       "    <tr>\n",
       "      <th>1</th>\n",
       "      <td>5b0737d1599b311ccc11c3f4</td>\n",
       "      <td>-0.111243</td>\n",
       "      <td>0.030840</td>\n",
       "    </tr>\n",
       "    <tr>\n",
       "      <th>2</th>\n",
       "      <td>5b073905599b311ccc11c792</td>\n",
       "      <td>-0.111243</td>\n",
       "      <td>0.030840</td>\n",
       "    </tr>\n",
       "    <tr>\n",
       "      <th>3</th>\n",
       "      <td>5b07552e599b311ccc121919</td>\n",
       "      <td>-0.111243</td>\n",
       "      <td>0.030840</td>\n",
       "    </tr>\n",
       "    <tr>\n",
       "      <th>4</th>\n",
       "      <td>5b0755f4599b311ccc121b43</td>\n",
       "      <td>-0.111243</td>\n",
       "      <td>0.030840</td>\n",
       "    </tr>\n",
       "  </tbody>\n",
       "</table>\n",
       "</div>"
      ],
      "text/plain": [
       "                        _id  principal component 1  principal component 2\n",
       "0  5b073192599b311ccc11b101               0.342696              -0.136891\n",
       "1  5b0737d1599b311ccc11c3f4              -0.111243               0.030840\n",
       "2  5b073905599b311ccc11c792              -0.111243               0.030840\n",
       "3  5b07552e599b311ccc121919              -0.111243               0.030840\n",
       "4  5b0755f4599b311ccc121b43              -0.111243               0.030840"
      ]
     },
     "execution_count": 38,
     "metadata": {},
     "output_type": "execute_result"
    }
   ],
   "source": [
    "df_pca.head()"
   ]
  },
  {
   "cell_type": "code",
   "execution_count": 39,
   "id": "edd3ffb2",
   "metadata": {},
   "outputs": [
    {
     "data": {
      "text/plain": [
       "382108"
      ]
     },
     "execution_count": 39,
     "metadata": {},
     "output_type": "execute_result"
    }
   ],
   "source": [
    "len(df_pca)\n",
    "\n",
    "\n",
    "# clustering find"
   ]
  },
  {
   "cell_type": "code",
   "execution_count": 40,
   "id": "7826b278",
   "metadata": {},
   "outputs": [
    {
     "name": "stderr",
     "output_type": "stream",
     "text": [
      "\r",
      "0it [00:00, ?it/s]"
     ]
    },
    {
     "data": {
      "text/plain": [
       "0it [00:00, ?it/s]"
      ]
     },
     "execution_count": 40,
     "metadata": {},
     "output_type": "execute_result"
    }
   ],
   "source": [
    "tqdm(df_pca.to_csv(\"../data/cps_embedding_pca.csv\", index = False))"
   ]
  }
 ],
 "metadata": {
  "kernelspec": {
   "display_name": "Python 3",
   "language": "python",
   "name": "python3"
  },
  "language_info": {
   "codemirror_mode": {
    "name": "ipython",
    "version": 3
   },
   "file_extension": ".py",
   "mimetype": "text/x-python",
   "name": "python",
   "nbconvert_exporter": "python",
   "pygments_lexer": "ipython3",
   "version": "3.6.9"
  }
 },
 "nbformat": 4,
 "nbformat_minor": 5
}
