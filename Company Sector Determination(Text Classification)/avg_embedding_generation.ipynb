{
 "cells": [
  {
   "cell_type": "code",
   "execution_count": 1,
   "id": "720629cb",
   "metadata": {},
   "outputs": [],
   "source": [
    "import pandas as pd\n",
    "import numpy as np\n",
    "import matplotlib.pyplot as plt"
   ]
  },
  {
   "cell_type": "code",
   "execution_count": 2,
   "id": "36b02d50",
   "metadata": {},
   "outputs": [],
   "source": [
    "import fasttext\n",
    "import fasttext.util"
   ]
  },
  {
   "cell_type": "code",
   "execution_count": 3,
   "id": "465dc193",
   "metadata": {},
   "outputs": [
    {
     "name": "stderr",
     "output_type": "stream",
     "text": [
      "Warning : `load_model` does not return WordVectorModel or SupervisedModel any more, but a `FastText` object which is very similar.\n"
     ]
    }
   ],
   "source": [
    "ft = fasttext.load_model('../../clustering_func_div/cc.en.300.bin')"
   ]
  },
  {
   "cell_type": "code",
   "execution_count": 4,
   "id": "717ac5b2",
   "metadata": {},
   "outputs": [
    {
     "data": {
      "text/plain": [
       "300"
      ]
     },
     "execution_count": 4,
     "metadata": {},
     "output_type": "execute_result"
    }
   ],
   "source": [
    "ft.get_dimension()"
   ]
  },
  {
   "cell_type": "code",
   "execution_count": 18,
   "id": "49f30b1d",
   "metadata": {},
   "outputs": [
    {
     "name": "stderr",
     "output_type": "stream",
     "text": [
      "/home/slintel/bert/lib/python3.6/site-packages/IPython/core/interactiveshell.py:3072: DtypeWarning: Columns (4) have mixed types.Specify dtype option on import or set low_memory=False.\n",
      "  interactivity=interactivity, compiler=compiler, result=result)\n"
     ]
    }
   ],
   "source": [
    "data_train = pd.read_csv(\"../data/6lakh_pipeline_company_companies_data_2021-07-21.csv\")\n"
   ]
  },
  {
   "cell_type": "code",
   "execution_count": 21,
   "id": "1cbbb907",
   "metadata": {},
   "outputs": [
    {
     "data": {
      "text/plain": [
       "0          [541890]\n",
       "1               NaN\n",
       "2               NaN\n",
       "3          [561499]\n",
       "4               NaN\n",
       "            ...    \n",
       "596764    [5412110]\n",
       "596765    [5312100]\n",
       "596766          NaN\n",
       "596767          NaN\n",
       "596768          NaN\n",
       "Name: naics_code, Length: 596769, dtype: object"
      ]
     },
     "execution_count": 21,
     "metadata": {},
     "output_type": "execute_result"
    }
   ],
   "source": [
    "data_train[\"naics_code\"]"
   ]
  },
  {
   "cell_type": "code",
   "execution_count": 5,
   "id": "c69d5e2c",
   "metadata": {},
   "outputs": [],
   "source": [
    "# from gensim.models.fasttext import FastText\n",
    "# ft_model = FastText.load_fasttext_format('cc.en.300.bin', encoding='utf8')\n",
    "# print(ft_model.wv['artificial'])"
   ]
  },
  {
   "cell_type": "code",
   "execution_count": null,
   "id": "42d0f61f",
   "metadata": {},
   "outputs": [],
   "source": []
  },
  {
   "cell_type": "code",
   "execution_count": 6,
   "id": "ed5b7622",
   "metadata": {},
   "outputs": [],
   "source": [
    "# df = pd.read_excel(\"100K_designations.xlsx\")\n",
    "# reading data\n",
    "# data_train = pd.read_csv(\"../data/6lakh_pipeline_company_companies_data_2021-07-21.csv\")\n",
    "# data=pd.read_csv(\"../data/50k_data_crunchbase.csv\")\n",
    "X_train=pd.read_csv('../scripts/X_train_raw.csv', lineterminator='\\n')\n",
    "# X_test=pd.read_csv('../scripts/X_test_raw.csv')\n",
    "y_train=pd.read_csv('../scripts/y_train_raw.csv', lineterminator='\\n')\n",
    "y_test=pd.read_csv('../scripts/y_test_raw.csv', lineterminator='\\n')\n",
    "\n",
    "\n",
    "X_test = pd.read_csv('../scripts/X_test_raw.csv',\n",
    "                 lineterminator='\\n')"
   ]
  },
  {
   "cell_type": "code",
   "execution_count": 7,
   "id": "ee2f4653",
   "metadata": {},
   "outputs": [
    {
     "data": {
      "text/plain": [
       "((37544, 53), (12515, 53), (37544, 1), (12515, 1))"
      ]
     },
     "execution_count": 7,
     "metadata": {},
     "output_type": "execute_result"
    }
   ],
   "source": [
    "X_train.shape, X_test.shape, y_train.shape, y_test.shape"
   ]
  },
  {
   "cell_type": "code",
   "execution_count": 8,
   "id": "445e37d7",
   "metadata": {},
   "outputs": [
    {
     "data": {
      "text/plain": [
       "Index(['revenue', 'rank', 'stock_exchange', 'open_requisitions_range',\n",
       "       'stock_price', 'stock_symbol', '_id', 'company_city', 'company_country',\n",
       "       'company_state', 'company_crunchbase_page', 'company_description',\n",
       "       'company_facebook_page', 'company_funding',\n",
       "       'company_latest_funding_date', 'company_linkedin_page', 'company_name',\n",
       "       'company_phone_number', 'company_products_services',\n",
       "       'company_profile_image_url', 'company_sector', 'company_size',\n",
       "       'company_twitter_page', 'company_type', 'company_website', 'ebitda',\n",
       "       'fiscal_year', 'homepage_url', 'job_count', 'tags', 'lead_count',\n",
       "       'updated_at', 'permalink', 'company_founded_at', 'geo_point',\n",
       "       'company_continent', 'postal_code', 'company_address', 'sic_code',\n",
       "       'naics_code', 'created_at', 'cb_id', 'revenue_range', 'flag',\n",
       "       'nubela_id', 'linkedin_internal_id', 'tagline', 'linkedin_search_id',\n",
       "       'linkedin_employee_count', 'linkedin_follower_count', 'addr_upd_from',\n",
       "       'owler_id', 'partition_0'],\n",
       "      dtype='object')"
      ]
     },
     "execution_count": 8,
     "metadata": {},
     "output_type": "execute_result"
    }
   ],
   "source": [
    "X_train.columns"
   ]
  },
  {
   "cell_type": "code",
   "execution_count": 9,
   "id": "f0a39d85",
   "metadata": {},
   "outputs": [],
   "source": [
    "X_train = X_train[[\"_id\",\"company_products_services\"]]"
   ]
  },
  {
   "cell_type": "code",
   "execution_count": 10,
   "id": "0fbf5a32",
   "metadata": {},
   "outputs": [],
   "source": [
    "# df_designation =df[[\"company_products_services\"]]\n",
    "X_train['company_products_services'].fillna(X_train['company_products_services'].mode()[0], inplace=True)"
   ]
  },
  {
   "cell_type": "code",
   "execution_count": 11,
   "id": "bb687018",
   "metadata": {},
   "outputs": [
    {
     "data": {
      "text/html": [
       "<div>\n",
       "<style scoped>\n",
       "    .dataframe tbody tr th:only-of-type {\n",
       "        vertical-align: middle;\n",
       "    }\n",
       "\n",
       "    .dataframe tbody tr th {\n",
       "        vertical-align: top;\n",
       "    }\n",
       "\n",
       "    .dataframe thead th {\n",
       "        text-align: right;\n",
       "    }\n",
       "</style>\n",
       "<table border=\"1\" class=\"dataframe\">\n",
       "  <thead>\n",
       "    <tr style=\"text-align: right;\">\n",
       "      <th></th>\n",
       "      <th>_id</th>\n",
       "      <th>company_products_services</th>\n",
       "    </tr>\n",
       "  </thead>\n",
       "  <tbody>\n",
       "    <tr>\n",
       "      <th>0</th>\n",
       "      <td>5c3b02f6d55ae49f1b7a199c</td>\n",
       "      <td>[Social Games]</td>\n",
       "    </tr>\n",
       "    <tr>\n",
       "      <th>1</th>\n",
       "      <td>5c3b015cd55ae49f1b77bcd7</td>\n",
       "      <td>[wellness, incentives, behavior change, corpor...</td>\n",
       "    </tr>\n",
       "    <tr>\n",
       "      <th>2</th>\n",
       "      <td>5c3b0316d55ae49f1b7a4cf2</td>\n",
       "      <td>[Lead generation, Web visitor demographics, We...</td>\n",
       "    </tr>\n",
       "    <tr>\n",
       "      <th>3</th>\n",
       "      <td>5c3b03ccd55ae49f1b7b5ad7</td>\n",
       "      <td>[Private Equity]</td>\n",
       "    </tr>\n",
       "    <tr>\n",
       "      <th>4</th>\n",
       "      <td>5c3b00fdd55ae49f1b773aa0</td>\n",
       "      <td>[account based sales, ABM, AI, Big Data, Accou...</td>\n",
       "    </tr>\n",
       "  </tbody>\n",
       "</table>\n",
       "</div>"
      ],
      "text/plain": [
       "                        _id                          company_products_services\n",
       "0  5c3b02f6d55ae49f1b7a199c                                     [Social Games]\n",
       "1  5c3b015cd55ae49f1b77bcd7  [wellness, incentives, behavior change, corpor...\n",
       "2  5c3b0316d55ae49f1b7a4cf2  [Lead generation, Web visitor demographics, We...\n",
       "3  5c3b03ccd55ae49f1b7b5ad7                                   [Private Equity]\n",
       "4  5c3b00fdd55ae49f1b773aa0  [account based sales, ABM, AI, Big Data, Accou..."
      ]
     },
     "execution_count": 11,
     "metadata": {},
     "output_type": "execute_result"
    }
   ],
   "source": [
    "X_train.head()"
   ]
  },
  {
   "cell_type": "code",
   "execution_count": 12,
   "id": "7b461259",
   "metadata": {},
   "outputs": [
    {
     "data": {
      "text/plain": [
       "37544"
      ]
     },
     "execution_count": 12,
     "metadata": {},
     "output_type": "execute_result"
    }
   ],
   "source": [
    "len(X_train)"
   ]
  },
  {
   "cell_type": "code",
   "execution_count": 13,
   "id": "a6e74521",
   "metadata": {},
   "outputs": [],
   "source": [
    "def get_embeddings(word, ft):\n",
    "    word = str(word)\n",
    "    f = ft.get_word_vector(word)\n",
    "\n",
    "    return f"
   ]
  },
  {
   "cell_type": "code",
   "execution_count": 14,
   "id": "ce6ed1b3",
   "metadata": {},
   "outputs": [],
   "source": [
    "X_train['CPS_embeddings'] = X_train.apply(lambda x: get_embeddings(x[\"company_products_services\"], ft), axis = 1)\n"
   ]
  },
  {
   "cell_type": "code",
   "execution_count": 17,
   "id": "3abd9722",
   "metadata": {},
   "outputs": [
    {
     "data": {
      "text/plain": [
       "array([0., 0., 0., 0., 0., 0., 0., 0., 0., 0., 0., 0., 0., 0., 0., 0., 0.,\n",
       "       0., 0., 0., 0., 0., 0., 0., 0., 0., 0., 0., 0., 0., 0., 0., 0., 0.,\n",
       "       0., 0., 0., 0., 0., 0., 0., 0., 0., 0., 0., 0., 0., 0., 0., 0., 0.,\n",
       "       0., 0., 0., 0., 0., 0., 0., 0., 0., 0., 0., 0., 0., 0., 0., 0., 0.,\n",
       "       0., 0., 0., 0., 0., 0., 0., 0., 0., 0., 0., 0., 0., 0., 0., 0., 0.,\n",
       "       0., 0., 0., 0., 0., 0., 0., 0., 0., 0., 0., 0., 0., 0., 0., 0., 0.,\n",
       "       0., 0., 0., 0., 0., 0., 0., 0., 0., 0., 0., 0., 0., 0., 0., 0., 0.,\n",
       "       0., 0., 0., 0., 0., 0., 0., 0., 0., 0., 0., 0., 0., 0., 0., 0., 0.,\n",
       "       0., 0., 0., 0., 0., 0., 0., 0., 0., 0., 0., 0., 0., 0., 0., 0., 0.,\n",
       "       0., 0., 0., 0., 0., 0., 0., 0., 0., 0., 0., 0., 0., 0., 0., 0., 0.,\n",
       "       0., 0., 0., 0., 0., 0., 0., 0., 0., 0., 0., 0., 0., 0., 0., 0., 0.,\n",
       "       0., 0., 0., 0., 0., 0., 0., 0., 0., 0., 0., 0., 0., 0., 0., 0., 0.,\n",
       "       0., 0., 0., 0., 0., 0., 0., 0., 0., 0., 0., 0., 0., 0., 0., 0., 0.,\n",
       "       0., 0., 0., 0., 0., 0., 0., 0., 0., 0., 0., 0., 0., 0., 0., 0., 0.,\n",
       "       0., 0., 0., 0., 0., 0., 0., 0., 0., 0., 0., 0., 0., 0., 0., 0., 0.,\n",
       "       0., 0., 0., 0., 0., 0., 0., 0., 0., 0., 0., 0., 0., 0., 0., 0., 0.,\n",
       "       0., 0., 0., 0., 0., 0., 0., 0., 0., 0., 0., 0., 0., 0., 0., 0., 0.,\n",
       "       0., 0., 0., 0., 0., 0., 0., 0., 0., 0., 0.], dtype=float32)"
      ]
     },
     "execution_count": 17,
     "metadata": {},
     "output_type": "execute_result"
    }
   ],
   "source": [
    "X_train[\"CPS_embeddings\"][0]"
   ]
  },
  {
   "cell_type": "code",
   "execution_count": null,
   "id": "d24bc093",
   "metadata": {},
   "outputs": [],
   "source": [
    "df_designation.columns"
   ]
  },
  {
   "cell_type": "code",
   "execution_count": null,
   "id": "7da52f10",
   "metadata": {},
   "outputs": [],
   "source": [
    "# df_ip.to_csv(\"embedding_v1.csv\", index = False)"
   ]
  },
  {
   "cell_type": "code",
   "execution_count": null,
   "id": "8356b9e3",
   "metadata": {},
   "outputs": [],
   "source": [
    "# !pip3 freeze > requirements.txt"
   ]
  },
  {
   "cell_type": "code",
   "execution_count": null,
   "id": "5c0f847a",
   "metadata": {},
   "outputs": [],
   "source": [
    "feat_cols = ['feature'+str(i) for i in range(len(df_designation[\"designation_embeddings\"][0]))]"
   ]
  },
  {
   "cell_type": "code",
   "execution_count": null,
   "id": "fc0b6b27",
   "metadata": {},
   "outputs": [],
   "source": [
    "# split array entries into individual columns\n",
    "df_designation[feat_cols] = pd.DataFrame(df_designation.designation_embeddings.tolist(), index= df_designation.index)"
   ]
  },
  {
   "cell_type": "code",
   "execution_count": null,
   "id": "6d226cac",
   "metadata": {},
   "outputs": [],
   "source": [
    "from sklearn.decomposition import PCA\n",
    "# pca_breast = PCA(n_components=2)\n",
    "# principalComponents_breast = pca_breast.fit_transform(x)"
   ]
  },
  {
   "cell_type": "code",
   "execution_count": null,
   "id": "21ddbce4",
   "metadata": {},
   "outputs": [],
   "source": [
    "pca_breast = PCA(n_components=2)"
   ]
  },
  {
   "cell_type": "code",
   "execution_count": null,
   "id": "c991dd57",
   "metadata": {},
   "outputs": [],
   "source": [
    "# from sklearn.preprocessing import StandardScaler\n",
    "# x = df_ip.loc[:, feat_cols].values\n",
    "# x = StandardScaler().fit_transform(x) # normalizing the features"
   ]
  },
  {
   "cell_type": "code",
   "execution_count": null,
   "id": "fd041a65",
   "metadata": {},
   "outputs": [],
   "source": [
    "x = df_designation[feat_cols]"
   ]
  },
  {
   "cell_type": "code",
   "execution_count": null,
   "id": "77e853d2",
   "metadata": {},
   "outputs": [],
   "source": [
    "np.mean(x),np.std(x)\n"
   ]
  },
  {
   "cell_type": "code",
   "execution_count": null,
   "id": "2aa6a3a1",
   "metadata": {},
   "outputs": [],
   "source": [
    "# df3 = pd.DataFrame(df_ip['designation_embeddings'].to_list(), columns=feat_cols)"
   ]
  },
  {
   "cell_type": "code",
   "execution_count": null,
   "id": "5b108e96",
   "metadata": {},
   "outputs": [],
   "source": [
    "principalComponents_breast = pca_breast.fit_transform(x)"
   ]
  },
  {
   "cell_type": "code",
   "execution_count": null,
   "id": "5c9626df",
   "metadata": {},
   "outputs": [],
   "source": [
    "principal_breast_Df = pd.DataFrame(data = principalComponents_breast\n",
    "             , columns = ['principal component 1', 'principal component 2'])"
   ]
  },
  {
   "cell_type": "code",
   "execution_count": null,
   "id": "400b78a2",
   "metadata": {},
   "outputs": [],
   "source": [
    "principal_breast_Df"
   ]
  },
  {
   "cell_type": "code",
   "execution_count": null,
   "id": "10a558dd",
   "metadata": {},
   "outputs": [],
   "source": [
    "df_pca = pd.concat([df_designation,principal_breast_Df], axis = 1)"
   ]
  },
  {
   "cell_type": "code",
   "execution_count": null,
   "id": "73772773",
   "metadata": {},
   "outputs": [],
   "source": [
    "df_pca.head()"
   ]
  },
  {
   "cell_type": "code",
   "execution_count": null,
   "id": "452f4080",
   "metadata": {},
   "outputs": [],
   "source": [
    "df_pca_ip = df_pca[[\"principal component 1\",\"principal component 2\"]]\n",
    "# df_pca_ip = df_pca[feat_cols]"
   ]
  },
  {
   "cell_type": "code",
   "execution_count": null,
   "id": "7e9333f7",
   "metadata": {},
   "outputs": [],
   "source": [
    "df_pca_ip"
   ]
  },
  {
   "cell_type": "code",
   "execution_count": null,
   "id": "edd3ffb2",
   "metadata": {},
   "outputs": [],
   "source": [
    "# clustering find"
   ]
  },
  {
   "cell_type": "code",
   "execution_count": null,
   "id": "853c6ea5",
   "metadata": {},
   "outputs": [],
   "source": [
    "\n",
    "from sklearn.cluster import KMeans\n",
    "wcss = []\n",
    "for i in range(1,11):\n",
    "    print(i)\n",
    "    kmeans = KMeans(n_clusters=i,init='k-means++',max_iter=600,n_init=10,random_state=0)\n",
    "    kmeans.fit(df_pca_ip)\n",
    "    wcss.append(kmeans.inertia_)\n",
    "plt.plot(range(1,11),wcss)\n",
    "plt.title('The Elbow Method')\n",
    "plt.xlabel('Number of clusters')\n",
    "plt.ylabel('WCSS')\n",
    "plt.savefig('elbow.png')\n",
    "plt.show()"
   ]
  },
  {
   "cell_type": "code",
   "execution_count": null,
   "id": "e2916906",
   "metadata": {},
   "outputs": [],
   "source": [
    "# Let n_cluster be 6 and 8\n",
    "kmeans = KMeans(n_clusters = 15, init = 'k-means++', random_state = 42)\n",
    "prediction_val = kmeans.fit_predict(df_pca_ip.values)\n",
    "#dropping the predicted value into the column name cluster\n",
    "df_pca_ip['cluster']=prediction_val"
   ]
  },
  {
   "cell_type": "code",
   "execution_count": null,
   "id": "f61bbe6a",
   "metadata": {},
   "outputs": [],
   "source": [
    "df_pca_ip"
   ]
  },
  {
   "cell_type": "code",
   "execution_count": null,
   "id": "df0675ba",
   "metadata": {},
   "outputs": [],
   "source": [
    "cent = kmeans.cluster_centers_\n",
    "print(cent)"
   ]
  },
  {
   "cell_type": "code",
   "execution_count": null,
   "id": "7824830d",
   "metadata": {},
   "outputs": [],
   "source": [
    "#clust_labels = prediction_val\n",
    "kmeans = pd.DataFrame(prediction_val)\n",
    "df_pca_ip.insert((df_pca_ip.shape[1]),'kmeans',kmeans)"
   ]
  },
  {
   "cell_type": "code",
   "execution_count": null,
   "id": "0cf431f5",
   "metadata": {},
   "outputs": [],
   "source": [
    "df_pca_ip"
   ]
  },
  {
   "cell_type": "code",
   "execution_count": null,
   "id": "5805915e",
   "metadata": {},
   "outputs": [],
   "source": [
    "#Plot the clusters obtained using k means\n",
    "fig = plt.figure(figsize=(20,10))\n",
    "ax = fig.add_subplot(111)\n",
    "scatter = ax.scatter(df_pca_ip['principal component 1'],df_pca_ip['principal component 2'],\n",
    "                     c=kmeans[0],s=50)\n",
    "ax.set_title('K-Means Clustering-15')\n",
    "ax.set_xlabel('PCA1 Position')\n",
    "ax.set_ylabel('PCA2 Position')\n",
    "plt.savefig('K-Means-15.png')\n",
    "\n",
    "plt.colorbar(scatter)"
   ]
  },
  {
   "cell_type": "code",
   "execution_count": null,
   "id": "7b18a250",
   "metadata": {},
   "outputs": [],
   "source": [
    "final_df=pd.DataFrame({'designation':df['designation'].values,\n",
    "                       'cluster':df_pca_ip[\"cluster\"]})"
   ]
  },
  {
   "cell_type": "code",
   "execution_count": null,
   "id": "19e410b1",
   "metadata": {},
   "outputs": [],
   "source": [
    "final_df.head()"
   ]
  },
  {
   "cell_type": "code",
   "execution_count": null,
   "id": "7826b278",
   "metadata": {},
   "outputs": [],
   "source": [
    "final_df.to_csv(\"designation_cluster.csv\", index = False)"
   ]
  },
  {
   "cell_type": "code",
   "execution_count": null,
   "id": "e756c437",
   "metadata": {},
   "outputs": [],
   "source": []
  }
 ],
 "metadata": {
  "kernelspec": {
   "display_name": "Python 3",
   "language": "python",
   "name": "python3"
  },
  "language_info": {
   "codemirror_mode": {
    "name": "ipython",
    "version": 3
   },
   "file_extension": ".py",
   "mimetype": "text/x-python",
   "name": "python",
   "nbconvert_exporter": "python",
   "pygments_lexer": "ipython3",
   "version": "3.6.9"
  }
 },
 "nbformat": 4,
 "nbformat_minor": 5
}
