{
 "cells": [
  {
   "cell_type": "markdown",
   "id": "0f167e5a",
   "metadata": {},
   "source": [
    "# Lead Company-Sector Mapping"
   ]
  },
  {
   "cell_type": "markdown",
   "id": "b3db6a78",
   "metadata": {},
   "source": [
    " - Data Exploration and Preprocessing Script"
   ]
  },
  {
   "cell_type": "code",
   "execution_count": 1,
   "id": "2ceb2029",
   "metadata": {},
   "outputs": [],
   "source": [
    "# importing the required libraries\n",
    "import pandas as pd\n",
    "import numpy as np\n",
    "import matplotlib.pyplot as plt\n",
    "import plotly.offline as py\n",
    "import plotly.graph_objs as go"
   ]
  },
  {
   "cell_type": "code",
   "execution_count": 2,
   "id": "191a8307",
   "metadata": {},
   "outputs": [
    {
     "name": "stderr",
     "output_type": "stream",
     "text": [
      "/mnt/bert_fine_tuning/cluster_env/lib/python3.6/site-packages/IPython/core/interactiveshell.py:3072: DtypeWarning:\n",
      "\n",
      "Columns (4) have mixed types.Specify dtype option on import or set low_memory=False.\n",
      "\n"
     ]
    }
   ],
   "source": [
    "# reading data\n",
    "data = pd.read_csv(\"../data/6lakh_pipeline_company_companies_data_2021-07-21.csv\")"
   ]
  },
  {
   "cell_type": "code",
   "execution_count": 3,
   "id": "e4fed0f2",
   "metadata": {},
   "outputs": [
    {
     "data": {
      "text/html": [
       "<div>\n",
       "<style scoped>\n",
       "    .dataframe tbody tr th:only-of-type {\n",
       "        vertical-align: middle;\n",
       "    }\n",
       "\n",
       "    .dataframe tbody tr th {\n",
       "        vertical-align: top;\n",
       "    }\n",
       "\n",
       "    .dataframe thead th {\n",
       "        text-align: right;\n",
       "    }\n",
       "</style>\n",
       "<table border=\"1\" class=\"dataframe\">\n",
       "  <thead>\n",
       "    <tr style=\"text-align: right;\">\n",
       "      <th></th>\n",
       "      <th>revenue</th>\n",
       "      <th>rank</th>\n",
       "      <th>stock_exchange</th>\n",
       "      <th>open_requisitions_range</th>\n",
       "      <th>stock_price</th>\n",
       "      <th>stock_symbol</th>\n",
       "      <th>_id</th>\n",
       "      <th>company_city</th>\n",
       "      <th>company_country</th>\n",
       "      <th>company_state</th>\n",
       "      <th>...</th>\n",
       "      <th>flag</th>\n",
       "      <th>nubela_id</th>\n",
       "      <th>linkedin_internal_id</th>\n",
       "      <th>tagline</th>\n",
       "      <th>linkedin_search_id</th>\n",
       "      <th>linkedin_employee_count</th>\n",
       "      <th>linkedin_follower_count</th>\n",
       "      <th>addr_upd_from</th>\n",
       "      <th>owler_id</th>\n",
       "      <th>partition_0</th>\n",
       "    </tr>\n",
       "  </thead>\n",
       "  <tbody>\n",
       "    <tr>\n",
       "      <th>0</th>\n",
       "      <td>NaN</td>\n",
       "      <td>525172.0</td>\n",
       "      <td>NaN</td>\n",
       "      <td>NaN</td>\n",
       "      <td>NaN</td>\n",
       "      <td>NaN</td>\n",
       "      <td>5b073192599b311ccc11b101</td>\n",
       "      <td>San Francisco</td>\n",
       "      <td>United States</td>\n",
       "      <td>California</td>\n",
       "      <td>...</td>\n",
       "      <td>NaN</td>\n",
       "      <td>proleads-io</td>\n",
       "      <td>2936369.0</td>\n",
       "      <td>NaN</td>\n",
       "      <td>2936369</td>\n",
       "      <td>2.0</td>\n",
       "      <td>97.0</td>\n",
       "      <td>NaN</td>\n",
       "      <td>NaN</td>\n",
       "      <td>2021-07-21</td>\n",
       "    </tr>\n",
       "    <tr>\n",
       "      <th>1</th>\n",
       "      <td>NaN</td>\n",
       "      <td>988083.0</td>\n",
       "      <td>NaN</td>\n",
       "      <td>NaN</td>\n",
       "      <td>NaN</td>\n",
       "      <td>NaN</td>\n",
       "      <td>5b0737d1599b311ccc11c3f4</td>\n",
       "      <td>Madrid</td>\n",
       "      <td>Spain</td>\n",
       "      <td>Madrid</td>\n",
       "      <td>...</td>\n",
       "      <td>NaN</td>\n",
       "      <td>cramway</td>\n",
       "      <td>3075546.0</td>\n",
       "      <td>NaN</td>\n",
       "      <td>3075546</td>\n",
       "      <td>1.0</td>\n",
       "      <td>84.0</td>\n",
       "      <td>NaN</td>\n",
       "      <td>NaN</td>\n",
       "      <td>2021-07-21</td>\n",
       "    </tr>\n",
       "    <tr>\n",
       "      <th>2</th>\n",
       "      <td>NaN</td>\n",
       "      <td>383864.0</td>\n",
       "      <td>NaN</td>\n",
       "      <td>NaN</td>\n",
       "      <td>NaN</td>\n",
       "      <td>NaN</td>\n",
       "      <td>5b073905599b311ccc11c792</td>\n",
       "      <td>Sion</td>\n",
       "      <td>Switzerland</td>\n",
       "      <td>Valais</td>\n",
       "      <td>...</td>\n",
       "      <td>NaN</td>\n",
       "      <td>imperix</td>\n",
       "      <td>3328031.0</td>\n",
       "      <td>Imperix develops high-end control prototyping ...</td>\n",
       "      <td>3328031</td>\n",
       "      <td>9.0</td>\n",
       "      <td>1174.0</td>\n",
       "      <td>NaN</td>\n",
       "      <td>NaN</td>\n",
       "      <td>2021-07-21</td>\n",
       "    </tr>\n",
       "    <tr>\n",
       "      <th>3</th>\n",
       "      <td>NaN</td>\n",
       "      <td>148922.0</td>\n",
       "      <td>NaN</td>\n",
       "      <td>NaN</td>\n",
       "      <td>NaN</td>\n",
       "      <td>NaN</td>\n",
       "      <td>5b073d93599b311ccc11d524</td>\n",
       "      <td>Seoul</td>\n",
       "      <td>Korea Republic of</td>\n",
       "      <td>Seoul-t'ukpyolsi</td>\n",
       "      <td>...</td>\n",
       "      <td>NaN</td>\n",
       "      <td>yonhap-infomax</td>\n",
       "      <td>519567.0</td>\n",
       "      <td>NaN</td>\n",
       "      <td>519567</td>\n",
       "      <td>72.0</td>\n",
       "      <td>NaN</td>\n",
       "      <td>NaN</td>\n",
       "      <td>NaN</td>\n",
       "      <td>2021-07-21</td>\n",
       "    </tr>\n",
       "    <tr>\n",
       "      <th>4</th>\n",
       "      <td>NaN</td>\n",
       "      <td>247881.0</td>\n",
       "      <td>NaN</td>\n",
       "      <td>NaN</td>\n",
       "      <td>NaN</td>\n",
       "      <td>NaN</td>\n",
       "      <td>5b07485b599b311ccc11f4af</td>\n",
       "      <td>New York</td>\n",
       "      <td>United States</td>\n",
       "      <td>New York</td>\n",
       "      <td>...</td>\n",
       "      <td>NaN</td>\n",
       "      <td>saffron-fix</td>\n",
       "      <td>52765808.0</td>\n",
       "      <td>NaN</td>\n",
       "      <td>52765808</td>\n",
       "      <td>NaN</td>\n",
       "      <td>NaN</td>\n",
       "      <td>NaN</td>\n",
       "      <td>NaN</td>\n",
       "      <td>2021-07-21</td>\n",
       "    </tr>\n",
       "  </tbody>\n",
       "</table>\n",
       "<p>5 rows × 54 columns</p>\n",
       "</div>"
      ],
      "text/plain": [
       "   revenue      rank stock_exchange open_requisitions_range stock_price  \\\n",
       "0      NaN  525172.0            NaN                     NaN         NaN   \n",
       "1      NaN  988083.0            NaN                     NaN         NaN   \n",
       "2      NaN  383864.0            NaN                     NaN         NaN   \n",
       "3      NaN  148922.0            NaN                     NaN         NaN   \n",
       "4      NaN  247881.0            NaN                     NaN         NaN   \n",
       "\n",
       "  stock_symbol                       _id   company_city    company_country  \\\n",
       "0          NaN  5b073192599b311ccc11b101  San Francisco      United States   \n",
       "1          NaN  5b0737d1599b311ccc11c3f4         Madrid              Spain   \n",
       "2          NaN  5b073905599b311ccc11c792           Sion        Switzerland   \n",
       "3          NaN  5b073d93599b311ccc11d524          Seoul  Korea Republic of   \n",
       "4          NaN  5b07485b599b311ccc11f4af       New York      United States   \n",
       "\n",
       "      company_state  ... flag       nubela_id linkedin_internal_id  \\\n",
       "0        California  ...  NaN     proleads-io            2936369.0   \n",
       "1            Madrid  ...  NaN         cramway            3075546.0   \n",
       "2            Valais  ...  NaN         imperix            3328031.0   \n",
       "3  Seoul-t'ukpyolsi  ...  NaN  yonhap-infomax             519567.0   \n",
       "4          New York  ...  NaN     saffron-fix           52765808.0   \n",
       "\n",
       "                                             tagline linkedin_search_id  \\\n",
       "0                                                NaN            2936369   \n",
       "1                                                NaN            3075546   \n",
       "2  Imperix develops high-end control prototyping ...            3328031   \n",
       "3                                                NaN             519567   \n",
       "4                                                NaN           52765808   \n",
       "\n",
       "   linkedin_employee_count linkedin_follower_count addr_upd_from owler_id  \\\n",
       "0                      2.0                    97.0           NaN      NaN   \n",
       "1                      1.0                    84.0           NaN      NaN   \n",
       "2                      9.0                  1174.0           NaN      NaN   \n",
       "3                     72.0                     NaN           NaN      NaN   \n",
       "4                      NaN                     NaN           NaN      NaN   \n",
       "\n",
       "  partition_0  \n",
       "0  2021-07-21  \n",
       "1  2021-07-21  \n",
       "2  2021-07-21  \n",
       "3  2021-07-21  \n",
       "4  2021-07-21  \n",
       "\n",
       "[5 rows x 54 columns]"
      ]
     },
     "execution_count": 3,
     "metadata": {},
     "output_type": "execute_result"
    }
   ],
   "source": [
    "# show top 5 entries by default\n",
    "data.head()"
   ]
  },
  {
   "cell_type": "code",
   "execution_count": 4,
   "id": "baebbe9b",
   "metadata": {},
   "outputs": [],
   "source": [
    "# creating and saving a copy\n",
    "# original_data = data.copy()"
   ]
  },
  {
   "cell_type": "markdown",
   "id": "1f13f7c9",
   "metadata": {},
   "source": [
    "# 1. Variable Identification"
   ]
  },
  {
   "cell_type": "markdown",
   "id": "cd00357d",
   "metadata": {},
   "source": [
    "Considering it a multiclass-classification problem.\n",
    "- Target Variable : company_sector (in this notebook)\n",
    "- i/p Variable : text column, Categorical, and Numerical"
   ]
  },
  {
   "cell_type": "code",
   "execution_count": 5,
   "id": "6846cffa",
   "metadata": {},
   "outputs": [
    {
     "name": "stdout",
     "output_type": "stream",
     "text": [
      "\n",
      " Columns in data- \n",
      "\n",
      " Index(['revenue', 'rank', 'stock_exchange', 'open_requisitions_range',\n",
      "       'stock_price', 'stock_symbol', '_id', 'company_city', 'company_country',\n",
      "       'company_state', 'company_crunchbase_page', 'company_description',\n",
      "       'company_facebook_page', 'company_funding', 'company_industry',\n",
      "       'company_latest_funding_date', 'company_linkedin_page', 'company_name',\n",
      "       'company_phone_number', 'company_products_services',\n",
      "       'company_profile_image_url', 'company_sector', 'company_size',\n",
      "       'company_twitter_page', 'company_type', 'company_website', 'ebitda',\n",
      "       'fiscal_year', 'homepage_url', 'job_count', 'tags', 'lead_count',\n",
      "       'updated_at', 'permalink', 'company_founded_at', 'geo_point',\n",
      "       'company_continent', 'postal_code', 'company_address', 'sic_code',\n",
      "       'naics_code', 'created_at', 'cb_id', 'revenue_range', 'flag',\n",
      "       'nubela_id', 'linkedin_internal_id', 'tagline', 'linkedin_search_id',\n",
      "       'linkedin_employee_count', 'linkedin_follower_count', 'addr_upd_from',\n",
      "       'owler_id', 'partition_0'],\n",
      "      dtype='object') \n",
      "\n",
      " No. of Unique columns - \n",
      " 54\n"
     ]
    }
   ],
   "source": [
    "# getting column names for data\n",
    "print(\"\\n Columns in data- \\n\\n\",data.columns, \"\\n\\n No. of Unique columns - \\n\", data.columns.nunique())"
   ]
  },
  {
   "cell_type": "code",
   "execution_count": 6,
   "id": "b893e662",
   "metadata": {},
   "outputs": [
    {
     "name": "stdout",
     "output_type": "stream",
     "text": [
      "Data Types of the columns are:\n",
      "\n",
      " revenue                        float64\n",
      "rank                           float64\n",
      "stock_exchange                  object\n",
      "open_requisitions_range         object\n",
      "stock_price                     object\n",
      "stock_symbol                    object\n",
      "_id                             object\n",
      "company_city                    object\n",
      "company_country                 object\n",
      "company_state                   object\n",
      "company_crunchbase_page         object\n",
      "company_description             object\n",
      "company_facebook_page           object\n",
      "company_funding                float64\n",
      "company_industry                object\n",
      "company_latest_funding_date    float64\n",
      "company_linkedin_page           object\n",
      "company_name                    object\n",
      "company_phone_number            object\n",
      "company_products_services       object\n",
      "company_profile_image_url       object\n",
      "company_sector                  object\n",
      "company_size                    object\n",
      "company_twitter_page            object\n",
      "company_type                    object\n",
      "company_website                 object\n",
      "ebitda                         float64\n",
      "fiscal_year                     object\n",
      "homepage_url                    object\n",
      "job_count                        int64\n",
      "tags                            object\n",
      "lead_count                       int64\n",
      "updated_at                       int64\n",
      "permalink                       object\n",
      "company_founded_at             float64\n",
      "geo_point                       object\n",
      "company_continent               object\n",
      "postal_code                     object\n",
      "company_address                 object\n",
      "sic_code                        object\n",
      "naics_code                      object\n",
      "created_at                       int64\n",
      "cb_id                           object\n",
      "revenue_range                   object\n",
      "flag                           float64\n",
      "nubela_id                       object\n",
      "linkedin_internal_id           float64\n",
      "tagline                         object\n",
      "linkedin_search_id              object\n",
      "linkedin_employee_count        float64\n",
      "linkedin_follower_count        float64\n",
      "addr_upd_from                   object\n",
      "owler_id                       float64\n",
      "partition_0                     object\n",
      "dtype: object\n"
     ]
    }
   ],
   "source": [
    "# getting data-types\n",
    "print(\"Data Types of the columns are:\\n\\n\", data.dtypes)"
   ]
  },
  {
   "cell_type": "code",
   "execution_count": 7,
   "id": "abad92ba",
   "metadata": {},
   "outputs": [
    {
     "name": "stdout",
     "output_type": "stream",
     "text": [
      "Shape of the dataset is :\n",
      " (596769, 54)\n"
     ]
    }
   ],
   "source": [
    "# shape of the dataset\n",
    "print(\"Shape of the dataset is :\\n\", data.shape)"
   ]
  },
  {
   "cell_type": "markdown",
   "id": "b6b3a44d",
   "metadata": {},
   "source": [
    "There are 5.96769 lakh rows and 54 columns in the dataset.\n",
    "\n",
    " - Categorical Variables:stock_exchange,open_requisitions_range,stock_symbol, company_city, company_country, company_state, company_name, company_products_services, company_industry, company_size, company_type, tags, company_founded_at, geo_point, company_continent, postal_code, company_address, sic_code, naics_code, revenue_range, flag\n",
    " \n",
    " \n",
    " - Continuous Variables: ebitda,rank,stock_price,_id, company_funding, lead_count, job_count, cb_id, nubela_id, linkedin_internal_id, linkedin_search_id, linkedin_employee_count, linkedin_follower_count, addr_upd_from, owler_id\n",
    " - Text Data: company_description\n",
    " - Date : company_latest_funding_date, fiscal_year, updated_at, created_at, tagline, partition_0\n",
    " \n",
    " - Mobile Number : company_phone_number\n",
    " \n",
    " - Others(like Links, etc):company_crunchbase_page, company_facebook_page, company_linkedin_page, company_profile_image_url, company_twitter_page, company_website, homepage_url, permalink\n",
    " \n",
    "    TARGET VARIABLE : `company_sector`"
   ]
  },
  {
   "cell_type": "markdown",
   "id": "7eaf67ec",
   "metadata": {},
   "source": [
    "# 2. Missing Values"
   ]
  },
  {
   "cell_type": "code",
   "execution_count": 8,
   "id": "a4ff7032",
   "metadata": {},
   "outputs": [],
   "source": [
    "# checking missing data percentage in data\n",
    "total = data.isnull().sum().sort_values(ascending = False)\n",
    "percent = (data.isnull().sum()/data.isnull().count()*100).sort_values(ascending = False)\n",
    "missing_Data = pd.concat([total, percent], axis=1, keys=['Total', 'Percent'])"
   ]
  },
  {
   "cell_type": "code",
   "execution_count": 9,
   "id": "95a018e4",
   "metadata": {},
   "outputs": [
    {
     "name": "stdout",
     "output_type": "stream",
     "text": [
      "\n",
      " ******* Missing Values in the Data ******* \n",
      "\n",
      "                               Total     Percent\n",
      "flag                         596769  100.000000\n",
      "owler_id                     596769  100.000000\n",
      "stock_price                  596529   99.959783\n",
      "open_requisitions_range      593794   99.501482\n",
      "stock_exchange               593189   99.400103\n",
      "stock_symbol                 593189   99.400103\n",
      "revenue                      589647   98.806573\n",
      "ebitda                       589459   98.775070\n",
      "addr_upd_from                584058   97.870030\n",
      "fiscal_year                  561886   94.154690\n",
      "naics_code                   474667   79.539487\n",
      "sic_code                     474661   79.538481\n",
      "tags                         419008   70.212762\n",
      "geo_point                    364239   61.035174\n",
      "tagline                      331959   55.626046\n",
      "postal_code                  230507   38.625833\n",
      "company_products_services    214661   35.970535\n",
      "company_twitter_page         212575   35.620986\n",
      "linkedin_follower_count      211450   35.432471\n",
      "company_facebook_page        204873   34.330369\n",
      "company_latest_funding_date  142584   23.892662\n",
      "company_funding              141275   23.673314\n",
      "company_phone_number         138770   23.253554\n",
      "company_founded_at           109636   18.371598\n",
      "company_type                  94916   15.904982\n",
      "linkedin_employee_count       93599   15.684293\n",
      "company_address               66009   11.061064\n",
      "linkedin_search_id            53827    9.019738\n",
      "linkedin_internal_id          53695    8.997619\n",
      "nubela_id                     52144    8.737719\n",
      "company_linkedin_page         27094    4.540115\n",
      "company_size                  20972    3.514258\n",
      "company_state                 20442    3.425446\n",
      "company_city                  17934    3.005183\n",
      "company_continent             12768    2.139521\n",
      "company_country               12768    2.139521\n",
      "company_description           11222    1.880460\n",
      "company_profile_image_url      3293    0.551805\n",
      "company_crunchbase_page          44    0.007373\n",
      "rank                             42    0.007038\n",
      "company_name                      3    0.000503\n",
      "permalink                         3    0.000503\n",
      "revenue_range                     0    0.000000\n",
      "cb_id                             0    0.000000\n",
      "created_at                        0    0.000000\n",
      "_id                               0    0.000000\n",
      "company_sector                    0    0.000000\n",
      "updated_at                        0    0.000000\n",
      "company_industry                  0    0.000000\n",
      "lead_count                        0    0.000000\n",
      "job_count                         0    0.000000\n",
      "homepage_url                      0    0.000000\n",
      "company_website                   0    0.000000\n",
      "partition_0                       0    0.000000\n"
     ]
    }
   ],
   "source": [
    "print(\"\\n ******* Missing Values in the Data ******* \\n\\n\",missing_Data)"
   ]
  },
  {
   "cell_type": "markdown",
   "id": "3b1254d1",
   "metadata": {},
   "source": [
    "- dropping columns where missing values >40 %"
   ]
  },
  {
   "cell_type": "code",
   "execution_count": null,
   "id": "388f39b5",
   "metadata": {},
   "outputs": [],
   "source": []
  },
  {
   "cell_type": "markdown",
   "id": "9edb444b",
   "metadata": {},
   "source": [
    "# 3. Univariate Analysis"
   ]
  },
  {
   "cell_type": "markdown",
   "id": "76c87e43",
   "metadata": {},
   "source": [
    "- Categorical Variables"
   ]
  },
  {
   "cell_type": "code",
   "execution_count": 10,
   "id": "e05c9ced",
   "metadata": {},
   "outputs": [],
   "source": [
    "def get_bar_and_percent(df,column_name,y_label,x_label):\n",
    "    \n",
    "    print(\"\\n\\n ****** Percentage Wise Variable Distribution ********* \\n\")\n",
    "    print(df[column_name].value_counts(normalize=True)*100)   # percentage wise\n",
    "    if df[column_name].nunique()<70:\n",
    "        print(\"\\n\\n ****** Bar Graph for - \"+column_name+\" ******\\n\")\n",
    "        fig = plt.figure(figsize = (15, 5))\n",
    "        # creating the bar plot\n",
    "        df[column_name].value_counts(normalize=False).plot.bar(title = column_name) \n",
    "        plt.xlabel(x_label)\n",
    "        plt.ylabel(y_label)\n",
    "        plt.show()\n",
    "    else:\n",
    "        c = df[column_name].nunique()\n",
    "        print(\"\\n ------------ Number of Unique entries: \"+str(c)+\"  are too large to display ------------\\n\")\n",
    "    \n",
    "    return True"
   ]
  },
  {
   "cell_type": "code",
   "execution_count": 11,
   "id": "19d01425",
   "metadata": {},
   "outputs": [
    {
     "name": "stdout",
     "output_type": "stream",
     "text": [
      "\n",
      "\n",
      " ****** Percentage Wise Variable Distribution ********* \n",
      "\n",
      "nasdaq     42.681564\n",
      "cve        20.307263\n",
      "asx        10.055866\n",
      "nse         8.100559\n",
      "tse         7.346369\n",
      "nyse        4.469274\n",
      "Nyse        1.145251\n",
      "lon         0.810056\n",
      "hel         0.642458\n",
      "nysemkt     0.586592\n",
      "Nasdaq      0.586592\n",
      "epa         0.418994\n",
      "otcqb       0.307263\n",
      "otcpink     0.279330\n",
      "tlv         0.279330\n",
      "Asx         0.139665\n",
      "ebr         0.139665\n",
      "otcmkts     0.111732\n",
      "tsx         0.111732\n",
      "Otcpink     0.111732\n",
      "Jse         0.111732\n",
      "otcqx       0.083799\n",
      "Lon         0.083799\n",
      "Bom         0.083799\n",
      "Epa         0.083799\n",
      "Hkg         0.055866\n",
      "ose         0.055866\n",
      "ams         0.055866\n",
      "etr         0.055866\n",
      "Etr         0.055866\n",
      "lse         0.027933\n",
      "Idx         0.027933\n",
      "Swx         0.027933\n",
      "bme         0.027933\n",
      "Tyo         0.027933\n",
      "bit         0.027933\n",
      "Sgx         0.027933\n",
      "Nysemkt     0.027933\n",
      "idx         0.027933\n",
      "Bcba        0.027933\n",
      "Klse        0.027933\n",
      "fra         0.027933\n",
      "bkk         0.027933\n",
      "Sek         0.027933\n",
      "Ebr         0.027933\n",
      "Nze         0.027933\n",
      "sha         0.027933\n",
      "Avns        0.027933\n",
      "Bkk         0.027933\n",
      "sgx         0.027933\n",
      "otcbb       0.027933\n",
      "swx         0.027933\n",
      "jse         0.027933\n",
      "Name: stock_exchange, dtype: float64\n",
      "\n",
      "\n",
      " ****** Bar Graph for - stock_exchange ******\n",
      "\n"
     ]
    },
    {
     "data": {
      "image/png": "[encoded data removed]",
      "text/plain": [
       "<Figure size 1080x360 with 1 Axes>"
      ]
     },
     "metadata": {
      "needs_background": "light"
     },
     "output_type": "display_data"
    },
    {
     "data": {
      "text/plain": [
       "True"
      ]
     },
     "execution_count": 11,
     "metadata": {},
     "output_type": "execute_result"
    }
   ],
   "source": [
    "get_bar_and_percent(data,\"stock_exchange\",\"Frequency\",\"Categories in stock_exchange\")"
   ]
  },
  {
   "cell_type": "code",
   "execution_count": 12,
   "id": "a1ee2a01",
   "metadata": {},
   "outputs": [
    {
     "name": "stdout",
     "output_type": "stream",
     "text": [
      "\n",
      "\n",
      " ****** Percentage Wise Variable Distribution ********* \n",
      "\n",
      "Unknown       30.487395\n",
      "1-10          23.126050\n",
      "11-50         19.394958\n",
      "51-200        16.470588\n",
      "201-500        5.411765\n",
      "501-1000       2.789916\n",
      "1001-5000      2.050420\n",
      "10000+         0.201681\n",
      "5001-10000     0.067227\n",
      "Name: open_requisitions_range, dtype: float64\n",
      "\n",
      "\n",
      " ****** Bar Graph for - open_requisitions_range ******\n",
      "\n"
     ]
    },
    {
     "data": {
      "image/png": "[encoded data removed]",
      "text/plain": [
       "<Figure size 1080x360 with 1 Axes>"
      ]
     },
     "metadata": {
      "needs_background": "light"
     },
     "output_type": "display_data"
    },
    {
     "data": {
      "text/plain": [
       "True"
      ]
     },
     "execution_count": 12,
     "metadata": {},
     "output_type": "execute_result"
    }
   ],
   "source": [
    "# open_requisitions_range\n",
    "get_bar_and_percent(data,\"open_requisitions_range\",\"Frequency\",\"Categories in open_requisitions_range\")"
   ]
  },
  {
   "cell_type": "code",
   "execution_count": 13,
   "id": "04bbe385",
   "metadata": {},
   "outputs": [
    {
     "name": "stdout",
     "output_type": "stream",
     "text": [
      "\n",
      "\n",
      " ****** Percentage Wise Variable Distribution ********* \n",
      "\n",
      "ORLY        0.027933\n",
      "NSX.V       0.027933\n",
      "STG         0.027933\n",
      "NSPR        0.027933\n",
      "EOLS        0.027933\n",
      "              ...   \n",
      "PBYI        0.027933\n",
      "ACGL        0.027933\n",
      "OUT1V.HE    0.027933\n",
      "Hog         0.027933\n",
      "GNUS        0.027933\n",
      "Name: stock_symbol, Length: 3580, dtype: float64\n",
      "\n",
      " ------------ Number of Unique entries: 3580  are too large to display ------------\n",
      "\n"
     ]
    },
    {
     "data": {
      "text/plain": [
       "True"
      ]
     },
     "execution_count": 13,
     "metadata": {},
     "output_type": "execute_result"
    }
   ],
   "source": [
    "# stock_symbol\n",
    "get_bar_and_percent(data,\"stock_symbol\",\"Frequency\",\"Categories in stock_symbol\")"
   ]
  },
  {
   "cell_type": "code",
   "execution_count": 14,
   "id": "733d6f7f",
   "metadata": {},
   "outputs": [
    {
     "name": "stdout",
     "output_type": "stream",
     "text": [
      "\n",
      "\n",
      " ****** Percentage Wise Variable Distribution ********* \n",
      "\n",
      "London           3.565437\n",
      "New York         3.365380\n",
      "San Francisco    2.149835\n",
      "Paris            1.123118\n",
      "Chicago          1.073017\n",
      "                   ...   \n",
      "Greenhaugh       0.000173\n",
      "Francheleins     0.000173\n",
      "La Napoule       0.000173\n",
      "Avranches        0.000173\n",
      "Beauchamp        0.000173\n",
      "Name: company_city, Length: 27545, dtype: float64\n",
      "\n",
      " ------------ Number of Unique entries: 27545  are too large to display ------------\n",
      "\n"
     ]
    },
    {
     "data": {
      "text/plain": [
       "True"
      ]
     },
     "execution_count": 14,
     "metadata": {},
     "output_type": "execute_result"
    }
   ],
   "source": [
    "# company_city\n",
    "get_bar_and_percent(data,\"company_city\",\"Frequency\",\"Categories in company_city\")"
   ]
  },
  {
   "cell_type": "code",
   "execution_count": 15,
   "id": "89dea8ec",
   "metadata": {},
   "outputs": [
    {
     "name": "stdout",
     "output_type": "stream",
     "text": [
      "\n",
      "\n",
      " ****** Percentage Wise Variable Distribution ********* \n",
      "\n",
      "United States                       47.845466\n",
      "United Kingdom                       8.846560\n",
      "India                                4.968656\n",
      "Canada                               4.378246\n",
      "France                               2.945029\n",
      "                                      ...    \n",
      "American Samoa                       0.000171\n",
      "Vanuatu                              0.000171\n",
      "Saint Martin                         0.000171\n",
      "Saint Vincent and the Grenadines     0.000171\n",
      "Aland Islands                        0.000171\n",
      "Name: company_country, Length: 208, dtype: float64\n",
      "\n",
      " ------------ Number of Unique entries: 208  are too large to display ------------\n",
      "\n"
     ]
    },
    {
     "data": {
      "text/plain": [
       "True"
      ]
     },
     "execution_count": 15,
     "metadata": {},
     "output_type": "execute_result"
    }
   ],
   "source": [
    "# company_country\n",
    "get_bar_and_percent(data,\"company_country\",\"Frequency\",\"Categories in company_country\")"
   ]
  },
  {
   "cell_type": "code",
   "execution_count": 16,
   "id": "1af041d4",
   "metadata": {},
   "outputs": [
    {
     "name": "stdout",
     "output_type": "stream",
     "text": [
      "\n",
      "\n",
      " ****** Percentage Wise Variable Distribution ********* \n",
      "\n",
      "California      10.820767\n",
      "New York         5.041409\n",
      "England          3.551803\n",
      "Texas            3.240521\n",
      "Florida          2.723454\n",
      "                  ...    \n",
      "Banghazi         0.000174\n",
      "Tak              0.000174\n",
      "Tagbilaran       0.000174\n",
      "Westmoreland     0.000174\n",
      "Kogi             0.000174\n",
      "Name: company_state, Length: 2062, dtype: float64\n",
      "\n",
      " ------------ Number of Unique entries: 2062  are too large to display ------------\n",
      "\n"
     ]
    },
    {
     "data": {
      "text/plain": [
       "True"
      ]
     },
     "execution_count": 16,
     "metadata": {},
     "output_type": "execute_result"
    }
   ],
   "source": [
    "# company_state\n",
    "get_bar_and_percent(data,\"company_state\",\"Frequency\",\"Categories in company_state\")"
   ]
  },
  {
   "cell_type": "code",
   "execution_count": 17,
   "id": "d17e34a1",
   "metadata": {},
   "outputs": [
    {
     "name": "stdout",
     "output_type": "stream",
     "text": [
      "\n",
      "\n",
      " ****** Percentage Wise Variable Distribution ********* \n",
      "\n",
      "Sphere                  0.001173\n",
      "Switch                  0.001173\n",
      "Fathom                  0.001173\n",
      "Shift                   0.001173\n",
      "Emerge                  0.001173\n",
      "                          ...   \n",
      "NuWest Group            0.000168\n",
      "CoWorkTampa             0.000168\n",
      "StageVoyage             0.000168\n",
      "Poly Canyon Ventures    0.000168\n",
      "Elwoodz                 0.000168\n",
      "Name: company_name, Length: 593322, dtype: float64\n",
      "\n",
      " ------------ Number of Unique entries: 593322  are too large to display ------------\n",
      "\n"
     ]
    },
    {
     "data": {
      "text/plain": [
       "True"
      ]
     },
     "execution_count": 17,
     "metadata": {},
     "output_type": "execute_result"
    }
   ],
   "source": [
    "# company_name\n",
    "get_bar_and_percent(data,\"company_name\",\"Frequency\",\"Categories in company_name\")"
   ]
  },
  {
   "cell_type": "code",
   "execution_count": 18,
   "id": "15a6195a",
   "metadata": {},
   "outputs": [
    {
     "name": "stdout",
     "output_type": "stream",
     "text": [
      "\n",
      "\n",
      " ****** Percentage Wise Variable Distribution ********* \n",
      "\n",
      "[Venture Capital]                                                                                                                                                                                                                                                                    0.028003\n",
      "[Private Equity]                                                                                                                                                                                                                                                                     0.026956\n",
      "[Real Estate]                                                                                                                                                                                                                                                                        0.020675\n",
      "[Education]                                                                                                                                                                                                                                                                          0.015441\n",
      "[Software Development]                                                                                                                                                                                                                                                               0.011777\n",
      "                                                                                                                                                                                                                                                                                       ...   \n",
      "[Web Design, Web Development, Domains, Hosting, VPS, SSL Certificates, Enterprise Resource Planning (ERP), Payment Gateway Integration, E-Commerce Solutions, Digital Marketing, Mobile App Development, BrManagement]                                                               0.000262\n",
      "[Leadership Character Development, Education, Technology, Arts, Athletics]                                                                                                                                                                                                           0.000262\n",
      "[pay card company, paycards, financial, prepaid cards, payroll cards, financial services, unbanked, underbanked, eliminate check cashing fees, payroll solutions, in house customer service, direct processor, electronic wage statements, mobile web, payroll experts, bill pay]    0.000262\n",
      "[Website Design & Development, Web Application Development, CMS Implementations: Drupal, Joomla, Wordpress, Digital Strategy & Web Marketing, Fully-Managed Web & Email Hosting, eCommerce, Data Integration Architecture, Web Marketing, Search Engine Marketing]                   0.000262\n",
      "[Cardiology (Cardio Team One), Emergency Trauma, Rehabilitation, Spinal Cord Injury Recovery, Adult & Pediatric Neurosurgery, Burn Center, Bariatric Services, Neonatal Intensive Care, Glaucoma, Stroke Services, Cancer Treatment, Sleep Medicine, Orthopaedics]                   0.000262\n",
      "Name: company_products_services, Length: 377910, dtype: float64\n",
      "\n",
      " ------------ Number of Unique entries: 377910  are too large to display ------------\n",
      "\n"
     ]
    },
    {
     "data": {
      "text/plain": [
       "True"
      ]
     },
     "execution_count": 18,
     "metadata": {},
     "output_type": "execute_result"
    }
   ],
   "source": [
    "# company_products_services\n",
    "get_bar_and_percent(data,\"company_products_services\",\"Frequency\",\"Categories in company_products_services\")"
   ]
  },
  {
   "cell_type": "code",
   "execution_count": 19,
   "id": "e2ab139d",
   "metadata": {},
   "outputs": [
    {
     "name": "stdout",
     "output_type": "stream",
     "text": [
      "\n",
      "\n",
      " ****** Percentage Wise Variable Distribution ********* \n",
      "\n",
      "Information Technology and Services    12.337437\n",
      "Computer Software                       8.136314\n",
      "Internet                                6.675615\n",
      "Marketing and Advertising               6.003998\n",
      "Financial Services                      3.772481\n",
      "                                         ...    \n",
      "Tobacco                                 0.012400\n",
      "Alternative Dispute Resolution          0.011730\n",
      "Ranching                                0.008881\n",
      "Judiciary                               0.007541\n",
      "Legislative Office                      0.003351\n",
      "Name: company_industry, Length: 147, dtype: float64\n",
      "\n",
      " ------------ Number of Unique entries: 147  are too large to display ------------\n",
      "\n"
     ]
    },
    {
     "data": {
      "text/plain": [
       "True"
      ]
     },
     "execution_count": 19,
     "metadata": {},
     "output_type": "execute_result"
    }
   ],
   "source": [
    "# company_industry\n",
    "get_bar_and_percent(data,\"company_industry\",\"Frequency\",\"Categories in company_industry\")"
   ]
  },
  {
   "cell_type": "code",
   "execution_count": 20,
   "id": "f962662e",
   "metadata": {},
   "outputs": [
    {
     "name": "stdout",
     "output_type": "stream",
     "text": [
      "\n",
      "\n",
      " ****** Percentage Wise Variable Distribution ********* \n",
      "\n",
      "1-10       35.519463\n",
      "11-50      33.200937\n",
      "51-200     16.399877\n",
      "201-500     6.711046\n",
      "1k-5k       3.320441\n",
      "501-1k      3.018599\n",
      "10k+        1.074684\n",
      "5k-10k      0.754954\n",
      "Name: company_size, dtype: float64\n",
      "\n",
      "\n",
      " ****** Bar Graph for - company_size ******\n",
      "\n"
     ]
    },
    {
     "data": {
      "image/png": "[encoded data removed]",
      "text/plain": [
       "<Figure size 1080x360 with 1 Axes>"
      ]
     },
     "metadata": {
      "needs_background": "light"
     },
     "output_type": "display_data"
    },
    {
     "data": {
      "text/plain": [
       "True"
      ]
     },
     "execution_count": 20,
     "metadata": {},
     "output_type": "execute_result"
    }
   ],
   "source": [
    "# company_size\n",
    "get_bar_and_percent(data,\"company_size\",\"Frequency\",\"Categories in company_size\")"
   ]
  },
  {
   "cell_type": "code",
   "execution_count": 21,
   "id": "59614433",
   "metadata": {},
   "outputs": [
    {
     "name": "stdout",
     "output_type": "stream",
     "text": [
      "\n",
      "\n",
      " ****** Percentage Wise Variable Distribution ********* \n",
      "\n",
      "Private                    70.341714\n",
      "Public                     12.355012\n",
      "Partnership                 6.242665\n",
      "Nonprofit                   4.115946\n",
      "Sole Proprietorship         4.048596\n",
      "Educational Institution     1.163887\n",
      "Self-Employed               1.136787\n",
      "Government Agency           0.595393\n",
      "Name: company_type, dtype: float64\n",
      "\n",
      "\n",
      " ****** Bar Graph for - company_type ******\n",
      "\n"
     ]
    },
    {
     "data": {
      "image/png": "[encoded data removed]",
      "text/plain": [
       "<Figure size 1080x360 with 1 Axes>"
      ]
     },
     "metadata": {
      "needs_background": "light"
     },
     "output_type": "display_data"
    },
    {
     "data": {
      "text/plain": [
       "True"
      ]
     },
     "execution_count": 21,
     "metadata": {},
     "output_type": "execute_result"
    }
   ],
   "source": [
    "# company_type\n",
    "get_bar_and_percent(data,\"company_type\",\"Frequency\",\"Categories in company_type\")"
   ]
  },
  {
   "cell_type": "code",
   "execution_count": 22,
   "id": "cc6a2f3b",
   "metadata": {},
   "outputs": [
    {
     "name": "stdout",
     "output_type": "stream",
     "text": [
      "\n",
      "\n",
      " ****** Percentage Wise Variable Distribution ********* \n",
      "\n",
      "[Oracle Suite]                                                                                                                                 23.364518\n",
      "[eCommerce businesses by technologies]                                                                                                         16.013636\n",
      "[eCommerce businesses]                                                                                                                         12.085891\n",
      "[Citrix Suite]                                                                                                                                  5.967563\n",
      "[Founded Before 2019]                                                                                                                           5.027537\n",
      "                                                                                                                                                 ...    \n",
      "[NWCDC Exhibitors 2019, eCommerce businesses by technologies, Greenhouse Technology]                                                            0.000563\n",
      "[KronosWorks Attendees 2019, Fortune 500 Companies, Fortune 1000, SAP Suite, Oracle Suite]                                                      0.000563\n",
      "[HR, HRMS, Founded Before 2019]                                                                                                                 0.000563\n",
      "[HR, Data-Driven Recruiting, Applicant Tracking, Oracle Suite]                                                                                  0.000563\n",
      "[ODSC West Attendees 2019, Fortune 500 Companies, Gartner Conferences 2019, Fortune 1000, Fortune 2000, SAP Suite, SAS Suite, Oracle Suite]     0.000563\n",
      "Name: tags, Length: 3295, dtype: float64\n",
      "\n",
      " ------------ Number of Unique entries: 3295  are too large to display ------------\n",
      "\n"
     ]
    },
    {
     "data": {
      "text/plain": [
       "True"
      ]
     },
     "execution_count": 22,
     "metadata": {},
     "output_type": "execute_result"
    }
   ],
   "source": [
    "# tags\n",
    "get_bar_and_percent(data,\"tags\",\"Frequency\",\"Categories in tags\")"
   ]
  },
  {
   "cell_type": "code",
   "execution_count": 23,
   "id": "1e040919",
   "metadata": {},
   "outputs": [
    {
     "name": "stdout",
     "output_type": "stream",
     "text": [
      "\n",
      "\n",
      " ****** Percentage Wise Variable Distribution ********* \n",
      "\n",
      "2015.0    6.493504\n",
      "2014.0    6.289453\n",
      "2013.0    5.821408\n",
      "2012.0    5.584101\n",
      "2016.0    5.306764\n",
      "            ...   \n",
      "1570.0    0.000205\n",
      "1719.0    0.000205\n",
      "1563.0    0.000205\n",
      "1741.0    0.000205\n",
      "1615.0    0.000205\n",
      "Name: company_founded_at, Length: 477, dtype: float64\n",
      "\n",
      " ------------ Number of Unique entries: 477  are too large to display ------------\n",
      "\n"
     ]
    },
    {
     "data": {
      "text/plain": [
       "True"
      ]
     },
     "execution_count": 23,
     "metadata": {},
     "output_type": "execute_result"
    }
   ],
   "source": [
    "# company_founded_at\n",
    "get_bar_and_percent(data,\"company_founded_at\",\"Frequency\",\"Categories in company_founded_at\")"
   ]
  },
  {
   "cell_type": "code",
   "execution_count": 24,
   "id": "c644aabc",
   "metadata": {},
   "outputs": [
    {
     "name": "stdout",
     "output_type": "stream",
     "text": [
      "\n",
      "\n",
      " ****** Percentage Wise Variable Distribution ********* \n",
      "\n",
      "51.50,-0.12      4.901303\n",
      "40.71,-74.00     4.731002\n",
      "37.77,-122.41    3.116587\n",
      "48.85,2.34       1.761063\n",
      "41.85,-87.65     1.545177\n",
      "                   ...   \n",
      "52.61,1.45       0.000430\n",
      "40.73,-79.74     0.000430\n",
      "47.26,9.50       0.000430\n",
      "-38.2,145.15     0.000430\n",
      "48.20,-116.54    0.000430\n",
      "Name: geo_point, Length: 12849, dtype: float64\n",
      "\n",
      " ------------ Number of Unique entries: 12849  are too large to display ------------\n",
      "\n"
     ]
    },
    {
     "data": {
      "text/plain": [
       "True"
      ]
     },
     "execution_count": 24,
     "metadata": {},
     "output_type": "execute_result"
    }
   ],
   "source": [
    "# geo_point\n",
    "get_bar_and_percent(data,\"geo_point\",\"Frequency\",\"Categories in geo_point\")"
   ]
  },
  {
   "cell_type": "code",
   "execution_count": 25,
   "id": "2515d6e9",
   "metadata": {},
   "outputs": [
    {
     "name": "stdout",
     "output_type": "stream",
     "text": [
      "\n",
      "\n",
      " ****** Percentage Wise Variable Distribution ********* \n",
      "\n",
      "North America    52.752992\n",
      "Europe           29.230601\n",
      "Asia             12.429773\n",
      "Oceania           2.682016\n",
      "South America     1.769175\n",
      "Africa            1.135443\n",
      "Name: company_continent, dtype: float64\n",
      "\n",
      "\n",
      " ****** Bar Graph for - company_continent ******\n",
      "\n"
     ]
    },
    {
     "data": {
      "image/png": "[encoded data removed]",
      "text/plain": [
       "<Figure size 1080x360 with 1 Axes>"
      ]
     },
     "metadata": {
      "needs_background": "light"
     },
     "output_type": "display_data"
    },
    {
     "data": {
      "text/plain": [
       "True"
      ]
     },
     "execution_count": 25,
     "metadata": {},
     "output_type": "execute_result"
    }
   ],
   "source": [
    "# company_continent\n",
    "get_bar_and_percent(data,\"company_continent\",\"Frequency\",\"Categories in company_continent\")"
   ]
  },
  {
   "cell_type": "code",
   "execution_count": 26,
   "id": "ff67f73b",
   "metadata": {},
   "outputs": [
    {
     "name": "stdout",
     "output_type": "stream",
     "text": [
      "\n",
      "\n",
      " ****** Percentage Wise Variable Distribution ********* \n",
      "\n",
      "10001         0.342378\n",
      "94107         0.334733\n",
      "94105         0.334187\n",
      "2000          0.328453\n",
      "10018         0.290775\n",
      "                ...   \n",
      "30300         0.000273\n",
      "77799         0.000273\n",
      "5611ED        0.000273\n",
      "04953         0.000273\n",
      "89141-3409    0.000273\n",
      "Name: postal_code, Length: 85631, dtype: float64\n",
      "\n",
      " ------------ Number of Unique entries: 85631  are too large to display ------------\n",
      "\n"
     ]
    },
    {
     "data": {
      "text/plain": [
       "True"
      ]
     },
     "execution_count": 26,
     "metadata": {},
     "output_type": "execute_result"
    }
   ],
   "source": [
    "# postal_code\n",
    "get_bar_and_percent(data,\"postal_code\",\"Frequency\",\"Categories in postal_code\")"
   ]
  },
  {
   "cell_type": "code",
   "execution_count": 27,
   "id": "e936a52d",
   "metadata": {},
   "outputs": [
    {
     "name": "stdout",
     "output_type": "stream",
     "text": [
      "\n",
      "\n",
      " ****** Percentage Wise Variable Distribution ********* \n",
      "\n",
      "City And County Of San Francisco    0.164858\n",
      "Los Angeles County                  0.102683\n",
      "Paris                               0.051059\n",
      "Cook County                         0.043522\n",
      "King County                         0.038059\n",
      "                                      ...   \n",
      "Kimbolton House Mount Beacon        0.000188\n",
      "Rambla Catalunya 47, 2º             0.000188\n",
      "Gropegã¥rdsgatan 11 E-porten        0.000188\n",
      "7412 Elsie Ave                      0.000188\n",
      "6329 Conleth Circle                 0.000188\n",
      "Name: company_address, Length: 486983, dtype: float64\n",
      "\n",
      " ------------ Number of Unique entries: 486983  are too large to display ------------\n",
      "\n"
     ]
    },
    {
     "data": {
      "text/plain": [
       "True"
      ]
     },
     "execution_count": 27,
     "metadata": {},
     "output_type": "execute_result"
    }
   ],
   "source": [
    "# company_address\n",
    "get_bar_and_percent(data,\"company_address\",\"Frequency\",\"Categories in company_address\")"
   ]
  },
  {
   "cell_type": "code",
   "execution_count": 28,
   "id": "c5059a0b",
   "metadata": {},
   "outputs": [
    {
     "name": "stdout",
     "output_type": "stream",
     "text": [
      "\n",
      "\n",
      " ****** Percentage Wise Variable Distribution ********* \n",
      "\n",
      "[7389]                                                                            5.572116\n",
      "[7371]                                                                            4.120942\n",
      "[8742]                                                                            3.757330\n",
      "[8748]                                                                            2.672225\n",
      "[7379]                                                                            1.950732\n",
      "                                                                                    ...   \n",
      "[5311, 5719, 5331, 5999, 5651, 6512]                                              0.000819\n",
      "[6553, 8322, 8111]                                                                0.000819\n",
      "[7231, 3993, 2731, 5812, 5947, 7221, 7389, 5251, 1629, 5712, 5945, 9999, 5191]    0.000819\n",
      "[8243, 8331]                                                                      0.000819\n",
      "[8222, 5812, 7389, 9121]                                                          0.000819\n",
      "Name: sic_code, Length: 21457, dtype: float64\n",
      "\n",
      " ------------ Number of Unique entries: 21457  are too large to display ------------\n",
      "\n"
     ]
    },
    {
     "data": {
      "text/plain": [
       "True"
      ]
     },
     "execution_count": 28,
     "metadata": {},
     "output_type": "execute_result"
    }
   ],
   "source": [
    "# sic_code\n",
    "get_bar_and_percent(data,\"sic_code\",\"Frequency\",\"Categories in sic_code\")"
   ]
  },
  {
   "cell_type": "code",
   "execution_count": 29,
   "id": "c5e0e71c",
   "metadata": {},
   "outputs": [
    {
     "name": "stdout",
     "output_type": "stream",
     "text": [
      "\n",
      "\n",
      " ****** Percentage Wise Variable Distribution ********* \n",
      "\n",
      "[443142]                                        3.183404\n",
      "[541511]                                        2.908224\n",
      "[999990]                                        2.351313\n",
      "[561990]                                        1.996691\n",
      "[561499]                                        1.836989\n",
      "                                                  ...   \n",
      "[4431411, 333911]                               0.000819\n",
      "[611420, 5415121, 4431424]                      0.000819\n",
      "[4543901, 311812, 4244900, 3118120, 3118110]    0.000819\n",
      "[5413301, 8139100, 5416140]                     0.000819\n",
      "[3113520, 4452920, 5615200, 311340, 531130]     0.000819\n",
      "Name: naics_code, Length: 29344, dtype: float64\n",
      "\n",
      " ------------ Number of Unique entries: 29344  are too large to display ------------\n",
      "\n"
     ]
    },
    {
     "data": {
      "text/plain": [
       "True"
      ]
     },
     "execution_count": 29,
     "metadata": {},
     "output_type": "execute_result"
    }
   ],
   "source": [
    "# naics_code\n",
    "get_bar_and_percent(data,\"naics_code\",\"Frequency\",\"Categories in naics_code\")"
   ]
  },
  {
   "cell_type": "code",
   "execution_count": 30,
   "id": "c4041807",
   "metadata": {},
   "outputs": [
    {
     "name": "stdout",
     "output_type": "stream",
     "text": [
      "\n",
      "\n",
      " ****** Percentage Wise Variable Distribution ********* \n",
      "\n",
      "Unknown      39.912764\n",
      "1M-10M       24.537468\n",
      "<1M          22.294053\n",
      "10M-50M       8.628799\n",
      "100M-500M     1.823821\n",
      "50M-100M      1.593917\n",
      "1B-10B        0.588000\n",
      "500M-1B       0.506226\n",
      "10B+          0.114952\n",
      "Name: revenue_range, dtype: float64\n",
      "\n",
      "\n",
      " ****** Bar Graph for - revenue_range ******\n",
      "\n"
     ]
    },
    {
     "data": {
      "image/png": "[encoded data removed]",
      "text/plain": [
       "<Figure size 1080x360 with 1 Axes>"
      ]
     },
     "metadata": {
      "needs_background": "light"
     },
     "output_type": "display_data"
    },
    {
     "data": {
      "text/plain": [
       "True"
      ]
     },
     "execution_count": 30,
     "metadata": {},
     "output_type": "execute_result"
    }
   ],
   "source": [
    "# revenue_range\n",
    "get_bar_and_percent(data,\"revenue_range\",\"Frequency\",\"Categories in revenue_range\")"
   ]
  },
  {
   "cell_type": "code",
   "execution_count": null,
   "id": "55c40924",
   "metadata": {},
   "outputs": [],
   "source": []
  },
  {
   "cell_type": "code",
   "execution_count": null,
   "id": "4f4659aa",
   "metadata": {},
   "outputs": [],
   "source": []
  },
  {
   "cell_type": "code",
   "execution_count": null,
   "id": "e9192e04",
   "metadata": {},
   "outputs": [],
   "source": []
  },
  {
   "cell_type": "code",
   "execution_count": null,
   "id": "5b1f32e4",
   "metadata": {},
   "outputs": [],
   "source": []
  },
  {
   "cell_type": "code",
   "execution_count": null,
   "id": "2ae70f31",
   "metadata": {},
   "outputs": [],
   "source": []
  },
  {
   "cell_type": "code",
   "execution_count": null,
   "id": "91390391",
   "metadata": {},
   "outputs": [],
   "source": []
  },
  {
   "cell_type": "code",
   "execution_count": null,
   "id": "005e6660",
   "metadata": {},
   "outputs": [],
   "source": []
  }
 ],
 "metadata": {
  "kernelspec": {
   "display_name": "Python 3",
   "language": "python",
   "name": "python3"
  },
  "language_info": {
   "codemirror_mode": {
    "name": "ipython",
    "version": 3
   },
   "file_extension": ".py",
   "mimetype": "text/x-python",
   "name": "python",
   "nbconvert_exporter": "python",
   "pygments_lexer": "ipython3",
   "version": "3.6.9"
  }
 },
 "nbformat": 4,
 "nbformat_minor": 5
}
