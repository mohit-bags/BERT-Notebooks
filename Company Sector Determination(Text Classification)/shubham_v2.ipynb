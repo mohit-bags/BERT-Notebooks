{
 "cells": [
  {
   "cell_type": "markdown",
   "id": "0f167e5a",
   "metadata": {},
   "source": [
    "# Lead Company-Sector Mapping"
   ]
  },
  {
   "cell_type": "markdown",
   "id": "b3db6a78",
   "metadata": {},
   "source": [
    " - Data Exploration and Preprocessing Script"
   ]
  },
  {
   "cell_type": "code",
   "execution_count": null,
   "id": "8379279a",
   "metadata": {},
   "outputs": [],
   "source": [
    "# !pip install fasttext\n",
    "# !pip install fasttext"
   ]
  },
  {
   "cell_type": "code",
   "execution_count": 1,
   "id": "2ceb2029",
   "metadata": {},
   "outputs": [
    {
     "name": "stderr",
     "output_type": "stream",
     "text": [
      "Warning : `load_model` does not return WordVectorModel or SupervisedModel any more, but a `FastText` object which is very similar.\n"
     ]
    }
   ],
   "source": [
    "# importing the required libraries\n",
    "import pandas as pd\n",
    "import numpy as np\n",
    "import matplotlib.pyplot as plt\n",
    "import plotly.offline as py\n",
    "import plotly.graph_objs as go\n",
    "import seaborn as sns\n",
    "import plotly.express as px\n",
    "\n",
    "import re\n",
    "from nltk.stem.porter import PorterStemmer\n",
    "from nltk.corpus import stopwords\n",
    "stop = stopwords.words('english')\n",
    "import fasttext\n",
    "import fasttext.util\n",
    "ft = fasttext.load_model('../../clustering_func_div/cc.en.300.bin')\n",
    "from sklearn.decomposition import PCA\n",
    "import torch\n",
    "import transformers as ppb\n",
    "import warnings\n",
    "warnings.filterwarnings('ignore')"
   ]
  },
  {
   "cell_type": "code",
   "execution_count": 7,
   "id": "191a8307",
   "metadata": {},
   "outputs": [],
   "source": [
    "# reading data\n",
    "# data_train = pd.read_csv(\"../data/6lakh_pipeline_company_companies_data_2021-07-21.csv\")\n",
    "# data=pd.read_csv(\"../data/50k_data_crunchbase.csv\")\n",
    "X_train=pd.read_csv('../scripts/X_train_raw.csv', lineterminator='\\n')\n",
    "# X_test=pd.read_csv('../scripts/X_test_raw.csv')\n",
    "y_train=pd.read_csv('../scripts/y_train_raw.csv', lineterminator='\\n')\n",
    "y_test=pd.read_csv('../scripts/y_test_raw.csv', lineterminator='\\n')\n",
    "\n",
    "\n",
    "X_test = pd.read_csv('../scripts/X_test_raw.csv',\n",
    "                 lineterminator='\\n')"
   ]
  },
  {
   "cell_type": "code",
   "execution_count": 8,
   "id": "c873a904",
   "metadata": {},
   "outputs": [
    {
     "data": {
      "text/plain": [
       "(37544, 53)"
      ]
     },
     "execution_count": 8,
     "metadata": {},
     "output_type": "execute_result"
    }
   ],
   "source": [
    "X_train.shape"
   ]
  },
  {
   "cell_type": "code",
   "execution_count": 9,
   "id": "b4ac14dd",
   "metadata": {},
   "outputs": [
    {
     "data": {
      "text/plain": [
       "(12515, 53)"
      ]
     },
     "execution_count": 9,
     "metadata": {},
     "output_type": "execute_result"
    }
   ],
   "source": [
    "X_test.shape"
   ]
  },
  {
   "cell_type": "code",
   "execution_count": 10,
   "id": "e4fed0f2",
   "metadata": {},
   "outputs": [
    {
     "data": {
      "text/plain": [
       "(37544, 1)"
      ]
     },
     "execution_count": 10,
     "metadata": {},
     "output_type": "execute_result"
    }
   ],
   "source": [
    "y_train.shape"
   ]
  },
  {
   "cell_type": "code",
   "execution_count": 11,
   "id": "dabd12b0",
   "metadata": {},
   "outputs": [
    {
     "data": {
      "text/plain": [
       "(12515, 1)"
      ]
     },
     "execution_count": 11,
     "metadata": {},
     "output_type": "execute_result"
    }
   ],
   "source": [
    "y_test.shape"
   ]
  },
  {
   "cell_type": "code",
   "execution_count": 12,
   "id": "baebbe9b",
   "metadata": {},
   "outputs": [],
   "source": [
    "# creating and saving a copy\n",
    "# original_data = data.copy()"
   ]
  },
  {
   "cell_type": "markdown",
   "id": "1f13f7c9",
   "metadata": {},
   "source": [
    "# 1. Variable Identification"
   ]
  },
  {
   "cell_type": "code",
   "execution_count": 13,
   "id": "2c0b3259",
   "metadata": {},
   "outputs": [],
   "source": [
    "def preprocessing(df):\n",
    "    \n",
    "    df = df[[\"company_city\", \"company_country\", \"company_state\", \"company_name\", \"company_products_services\", \"company_industry\", \n",
    "             \"company_size\", \"company_type\", \"company_founded_at\", \"company_continent\", \"company_address\", \"revenue_range\", \n",
    "             \"rank\",\"_id\", \"company_funding\", \"lead_count\", \"job_count\", \"cb_id\", \"linkedin_employee_count\", \"linkedin_follower_count\", \n",
    "             \"company_description\", \"company_latest_funding_date\", \"created_at\", \"company_sector\"]]\n",
    "    \n",
    "    return df"
   ]
  },
  {
   "cell_type": "code",
   "execution_count": null,
   "id": "008a94a8",
   "metadata": {},
   "outputs": [],
   "source": [
    "data_train = preprocessing(data_train)\n",
    "data_test = preprocessing(data_test)"
   ]
  },
  {
   "cell_type": "code",
   "execution_count": null,
   "id": "a3e74f05",
   "metadata": {},
   "outputs": [],
   "source": []
  },
  {
   "cell_type": "code",
   "execution_count": null,
   "id": "c52583f5",
   "metadata": {},
   "outputs": [],
   "source": []
  },
  {
   "cell_type": "code",
   "execution_count": null,
   "id": "e643256a",
   "metadata": {},
   "outputs": [],
   "source": []
  },
  {
   "cell_type": "markdown",
   "id": "d6cc220c",
   "metadata": {},
   "source": [
    "### 3.3 Text Data"
   ]
  },
  {
   "cell_type": "code",
   "execution_count": null,
   "id": "1cdbb6cf",
   "metadata": {},
   "outputs": [],
   "source": [
    "print(\" Text Type is: \\n\\n\",type(data[\"company_description\"][0]),\"\\n\\n Text: \\n\",data[\"company_description\"][0])"
   ]
  },
  {
   "cell_type": "code",
   "execution_count": null,
   "id": "a0e56865",
   "metadata": {},
   "outputs": [],
   "source": [
    "data['company_industry'].value_counts(normalize=True)*100   # percentage wise"
   ]
  },
  {
   "cell_type": "code",
   "execution_count": null,
   "id": "e9389289",
   "metadata": {},
   "outputs": [],
   "source": [
    "# sns.pairplot(data, hue='company_industry', height=2)\n",
    "# data['company_industry'].value_counts(normalize=True)*100   # percentage wise\n",
    "data['company_industry'].value_counts(normalize=True).plot.bar(title = \"company_industry\")"
   ]
  },
  {
   "cell_type": "markdown",
   "id": "c36905c6",
   "metadata": {},
   "source": [
    "can treat as `IMBALANCE DATASET` though not high imbalance is there"
   ]
  },
  {
   "cell_type": "markdown",
   "id": "15484ba2",
   "metadata": {},
   "source": [
    "- `FILLING MISSING VALUES`"
   ]
  },
  {
   "cell_type": "code",
   "execution_count": null,
   "id": "4400c32f",
   "metadata": {},
   "outputs": [],
   "source": [
    "# checking missing data percentage in data\n",
    "total = data.isnull().sum().sort_values(ascending = False)\n",
    "percent = (data.isnull().sum()/data.isnull().count()*100).sort_values(ascending = False)\n",
    "missing_Data = pd.concat([total, percent], axis=1, keys=['Total', 'Percent'])\n",
    "print(missing_Data)"
   ]
  },
  {
   "cell_type": "code",
   "execution_count": null,
   "id": "8108c0f0",
   "metadata": {},
   "outputs": [],
   "source": [
    "data['linkedin_follower_count'].fillna(data['linkedin_follower_count'].median(), inplace=True)\n",
    "data['company_latest_funding_date'].fillna(data['company_latest_funding_date'].mode()[0], inplace=True)\n",
    "data['company_funding'].fillna(data['company_funding'].median(), inplace=True)\n",
    "data['company_founded_at'].fillna(data['company_founded_at'].mode()[0], inplace=True)\n",
    "data['company_type'].fillna(data['company_type'].mode()[0], inplace=True)\n",
    "data['linkedin_employee_count'].fillna(data['linkedin_employee_count'].median(), inplace=True)\n",
    "data['company_address'].fillna(data['company_address'].mode()[0], inplace=True)\n",
    "data['company_size'].fillna(data['company_size'].mode()[0], inplace=True)\n",
    "data['company_state'].fillna(data['company_state'].mode()[0], inplace=True)\n",
    "data['company_city'].fillna(data['company_city'].mode()[0], inplace=True)\n",
    "data['company_country'].fillna(data['company_country'].mode()[0], inplace=True)\n",
    "data['company_continent'].fillna(data['company_continent'].mode()[0], inplace=True)\n",
    "data['company_description'].fillna(data['company_description'].mode()[0], inplace=True)\n",
    "data['company_continent'].fillna(data['company_continent'].mode()[0], inplace=True)\n",
    "data['rank'].fillna(data['rank'].median(), inplace=True)\n",
    "data['company_name'].fillna(data['company_name'].mode()[0], inplace=True)"
   ]
  },
  {
   "cell_type": "code",
   "execution_count": null,
   "id": "d03859ed",
   "metadata": {},
   "outputs": [],
   "source": [
    "data['company_products_services'].fillna(data['company_products_services'].mode()[0], inplace=True)"
   ]
  },
  {
   "cell_type": "code",
   "execution_count": null,
   "id": "163b6902",
   "metadata": {},
   "outputs": [],
   "source": [
    "# DEALING WITH IMBALANCE DATASET"
   ]
  },
  {
   "cell_type": "code",
   "execution_count": null,
   "id": "2f1dd792",
   "metadata": {},
   "outputs": [],
   "source": [
    "def convert_format(n):\n",
    "    # strip brackets\n",
    "    n_split_clean = n.strip('[]')\n",
    "    # split by comma\n",
    "    n_split = n_split_clean.split(\",\")\n",
    "    #strip whitespaces of start and end\n",
    "    n_split_list =[]\n",
    "    for i in n_split:\n",
    "        n_split_final = i.strip(\" \")\n",
    "        n_split_list.append(n_split_final)\n",
    "    n_new = n_split_list\n",
    "        \n",
    "    return n_new"
   ]
  },
  {
   "cell_type": "code",
   "execution_count": null,
   "id": "8bea702f",
   "metadata": {},
   "outputs": [],
   "source": [
    "# DEALING WITH company_products_services"
   ]
  },
  {
   "cell_type": "code",
   "execution_count": null,
   "id": "ebe86f05",
   "metadata": {},
   "outputs": [],
   "source": [
    "# data['company_products_services_embeddings'] = data.apply(lambda x: get_embeddings(x[\"company_products_services\"], ft), axis = 1)\n",
    "data[\"company_products_services\"] = data.apply(lambda x: convert_format(x[\"company_products_services\"]), axis = 1)"
   ]
  },
  {
   "cell_type": "code",
   "execution_count": null,
   "id": "0ec6d41e",
   "metadata": {},
   "outputs": [],
   "source": [
    "data[\"company_products_services\"][10]"
   ]
  },
  {
   "cell_type": "code",
   "execution_count": null,
   "id": "d3a26418",
   "metadata": {},
   "outputs": [],
   "source": [
    "# best way is to give them as embedding\n",
    "# [embedding1,embedding2....] ----> [PCA_combined]\n",
    "\n",
    "# Now fill theese missing values with PCA_combined as variable and drop company_products_services"
   ]
  },
  {
   "cell_type": "code",
   "execution_count": null,
   "id": "d90cad83",
   "metadata": {},
   "outputs": [],
   "source": [
    "# def get_embeddings(words, ft):\n",
    "#     pca_list = []\n",
    "#     for word in words:\n",
    "        \n",
    "#         word = str(word)\n",
    "#         f = ft.get_word_vector(word)\n",
    "        \n",
    "#         pca = PCA(n_components=1)\n",
    "#         f = f.reshape(-1,1)\n",
    "#         pca_comp = pca.fit_transform(f)\n",
    "#         pca_list.append(pca_comp)\n",
    "        \n",
    "        \n",
    "#     pca_2 = PCA(n_components=1)\n",
    "#     pca_list = np.array(pca_list).reshape(-1,1)\n",
    "#     pca_final = pca_2.fit_transform(pca_list)\n",
    "#     return pca_final"
   ]
  },
  {
   "cell_type": "code",
   "execution_count": null,
   "id": "b4e2e124",
   "metadata": {},
   "outputs": [],
   "source": [
    "# !pip install gensim"
   ]
  },
  {
   "cell_type": "code",
   "execution_count": null,
   "id": "820d6f46",
   "metadata": {},
   "outputs": [],
   "source": [
    "%%time\n",
    "print(\"YES\")"
   ]
  },
  {
   "cell_type": "code",
   "execution_count": null,
   "id": "d486c18c",
   "metadata": {},
   "outputs": [],
   "source": []
  },
  {
   "cell_type": "code",
   "execution_count": null,
   "id": "c197a372",
   "metadata": {},
   "outputs": [],
   "source": [
    "%%time\n",
    "# data['company_products_services_embeddings'] = data.apply(lambda x: get_embeddings(x[\"company_products_services\"], ft), axis = 1)\n",
    "# feat_cols = ['feature'+str(i) for i in range(len(df_designation[\"designation_embeddings\"][0]))]\n",
    "# # split array entries into individual columns\n",
    "# df_designation[feat_cols] = pd.DataFrame(df_designation.designation_embeddings.tolist(), index= df_designation.index)"
   ]
  },
  {
   "cell_type": "code",
   "execution_count": null,
   "id": "e59cee4b",
   "metadata": {},
   "outputs": [],
   "source": [
    "# ft.get_dimension()\n",
    "# fasttext.util.reduce_model(ft, 10)"
   ]
  },
  {
   "cell_type": "code",
   "execution_count": null,
   "id": "b10c61d6",
   "metadata": {},
   "outputs": [],
   "source": [
    "# fasttext.util.reduce_model(ft, 200)\n",
    "data.head()"
   ]
  },
  {
   "cell_type": "code",
   "execution_count": null,
   "id": "5a53ff0d",
   "metadata": {},
   "outputs": [],
   "source": [
    "\n",
    "# def get_embeddings(word_list, ft):\n",
    "#     embedding_list=[]\n",
    "#     for word in word_list:\n",
    "        \n",
    "#         word = str(word)\n",
    "#         f = ft.get_word_vector(word)\n",
    "#         embedding_list.append(f)\n",
    "\n",
    "#     return embedding_list"
   ]
  },
  {
   "cell_type": "code",
   "execution_count": null,
   "id": "973b680c",
   "metadata": {},
   "outputs": [],
   "source": [
    "# data['company_products_services_embeddings'] = data.apply(lambda x: get_embeddings(x[\"company_products_services\"], ft), axis = 1)"
   ]
  },
  {
   "cell_type": "markdown",
   "id": "77684ad6",
   "metadata": {},
   "source": [
    "### 4. Log Transformations-removing outliers/skewness"
   ]
  },
  {
   "cell_type": "code",
   "execution_count": null,
   "id": "53cebe12",
   "metadata": {},
   "outputs": [],
   "source": [
    "# Make Transformation for required features to remove outlier and skewness"
   ]
  },
  {
   "cell_type": "markdown",
   "id": "c71682df",
   "metadata": {},
   "source": [
    "### 5. FEATURE ENGINEERING"
   ]
  },
  {
   "cell_type": "code",
   "execution_count": null,
   "id": "576de7f2",
   "metadata": {},
   "outputs": [],
   "source": [
    "data.head()"
   ]
  },
  {
   "cell_type": "code",
   "execution_count": null,
   "id": "f017e6aa",
   "metadata": {},
   "outputs": [],
   "source": [
    "# feature from datetime"
   ]
  },
  {
   "cell_type": "markdown",
   "id": "2e57e8a9",
   "metadata": {},
   "source": [
    "### 6. TEXT CLEANING/Pre-Processing"
   ]
  },
  {
   "cell_type": "code",
   "execution_count": null,
   "id": "0f4fdf79",
   "metadata": {},
   "outputs": [],
   "source": [
    "data['company_description'] = data['company_description'].apply(lambda x: \"\".join(re.sub(r\"[^A-Za-z\\s]\", '',str(x))))"
   ]
  },
  {
   "cell_type": "code",
   "execution_count": null,
   "id": "8705bf7c",
   "metadata": {},
   "outputs": [],
   "source": [
    "data['company_description'] = data['company_description'].apply(lambda x: \" \".join(x.lower() for x in x.split()))"
   ]
  },
  {
   "cell_type": "code",
   "execution_count": null,
   "id": "1750bb28",
   "metadata": {},
   "outputs": [],
   "source": [
    "#Removing punctuations\n",
    "#adding characters list which needs to remove that is PUNCTUATION\n",
    "punc = ['.', ',', '\"', \"'\", '?', '!', ':', ';', '(', ')', '[', ']', '{', '}',\"%\",'/','<','>','br','�','^','XX','XXXX','xxxx','xx']\n",
    "#removing extra characters\n",
    "data['company_description'] = data['company_description'].apply(lambda x: \" \".join(x for x in x.split() if x not in punc))"
   ]
  },
  {
   "cell_type": "code",
   "execution_count": null,
   "id": "8c4c90a3",
   "metadata": {},
   "outputs": [],
   "source": [
    "#removal of stopwords\n",
    "data['company_description'] = data['company_description'].apply(lambda x: \" \".join(x for x in x.split() if x not in stop))"
   ]
  },
  {
   "cell_type": "code",
   "execution_count": null,
   "id": "c154db52",
   "metadata": {},
   "outputs": [],
   "source": [
    "#STEMMING\n",
    "st = PorterStemmer()\n",
    "data['company_description']=data['company_description'].apply(lambda x: \" \".join([st.stem(w) for w in x.split()]))"
   ]
  },
  {
   "cell_type": "code",
   "execution_count": null,
   "id": "81ec1d25",
   "metadata": {},
   "outputs": [],
   "source": [
    "data['company_description'][0], data['company_description'][10], data['company_description'][100]"
   ]
  },
  {
   "cell_type": "code",
   "execution_count": null,
   "id": "0a1270ea",
   "metadata": {},
   "outputs": [],
   "source": [
    "# dropping company_products_services for now"
   ]
  },
  {
   "cell_type": "markdown",
   "id": "b5cabf3a",
   "metadata": {},
   "source": [
    "### 7. CONVERT INTO EMBEDDINGS"
   ]
  },
  {
   "cell_type": "code",
   "execution_count": null,
   "id": "d32144d3",
   "metadata": {},
   "outputs": [],
   "source": []
  },
  {
   "cell_type": "code",
   "execution_count": null,
   "id": "643dc7ee",
   "metadata": {},
   "outputs": [],
   "source": []
  },
  {
   "cell_type": "markdown",
   "id": "80da652e",
   "metadata": {},
   "source": [
    "### 8. SCALING"
   ]
  },
  {
   "cell_type": "markdown",
   "id": "d6fa01f2",
   "metadata": {},
   "source": [
    "### 9. MODEL FIT"
   ]
  },
  {
   "cell_type": "code",
   "execution_count": null,
   "id": "d28ec6a1",
   "metadata": {},
   "outputs": [],
   "source": []
  }
 ],
 "metadata": {
  "kernelspec": {
   "display_name": "Python 3",
   "language": "python",
   "name": "python3"
  },
  "language_info": {
   "codemirror_mode": {
    "name": "ipython",
    "version": 3
   },
   "file_extension": ".py",
   "mimetype": "text/x-python",
   "name": "python",
   "nbconvert_exporter": "python",
   "pygments_lexer": "ipython3",
   "version": "3.6.9"
  }
 },
 "nbformat": 4,
 "nbformat_minor": 5
}
