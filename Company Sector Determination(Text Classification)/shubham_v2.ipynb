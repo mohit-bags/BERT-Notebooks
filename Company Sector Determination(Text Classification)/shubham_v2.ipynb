{
 "cells": [
  {
   "cell_type": "markdown",
   "id": "0f167e5a",
   "metadata": {},
   "source": [
    "# Lead Company-Sector Mapping"
   ]
  },
  {
   "cell_type": "markdown",
   "id": "b3db6a78",
   "metadata": {},
   "source": [
    " - Data Exploration and Preprocessing Script"
   ]
  },
  {
   "cell_type": "code",
   "execution_count": 14,
   "id": "8379279a",
   "metadata": {},
   "outputs": [],
   "source": [
    "# !pip install fasttext\n",
    "# !pip install fasttext"
   ]
  },
  {
   "cell_type": "code",
   "execution_count": 15,
   "id": "2ceb2029",
   "metadata": {},
   "outputs": [
    {
     "name": "stderr",
     "output_type": "stream",
     "text": [
      "Warning : `load_model` does not return WordVectorModel or SupervisedModel any more, but a `FastText` object which is very similar.\n"
     ]
    }
   ],
   "source": [
    "# importing the required libraries\n",
    "import pandas as pd\n",
    "import numpy as np\n",
    "import matplotlib.pyplot as plt\n",
    "import plotly.offline as py\n",
    "import plotly.graph_objs as go\n",
    "import seaborn as sns\n",
    "import plotly.express as px\n",
    "\n",
    "import re\n",
    "from nltk.stem.porter import PorterStemmer\n",
    "from nltk.corpus import stopwords\n",
    "stop = stopwords.words('english')\n",
    "import fasttext\n",
    "import fasttext.util\n",
    "ft = fasttext.load_model('../../clustering_func_div/cc.en.300.bin')\n",
    "from sklearn.decomposition import PCA\n",
    "import torch\n",
    "import transformers as ppb\n",
    "import warnings\n",
    "warnings.filterwarnings('ignore')"
   ]
  },
  {
   "cell_type": "code",
   "execution_count": 16,
   "id": "191a8307",
   "metadata": {},
   "outputs": [],
   "source": [
    "# reading data\n",
    "# data_train = pd.read_csv(\"../data/6lakh_pipeline_company_companies_data_2021-07-21.csv\")\n",
    "# data=pd.read_csv(\"../data/50k_data_crunchbase.csv\")\n",
    "X_train=pd.read_csv('../scripts/X_train_raw.csv', lineterminator='\\n')\n",
    "# X_test=pd.read_csv('../scripts/X_test_raw.csv')\n",
    "y_train=pd.read_csv('../scripts/y_train_raw.csv', lineterminator='\\n')\n",
    "y_test=pd.read_csv('../scripts/y_test_raw.csv', lineterminator='\\n')\n",
    "\n",
    "\n",
    "X_test = pd.read_csv('../scripts/X_test_raw.csv',\n",
    "                 lineterminator='\\n')"
   ]
  },
  {
   "cell_type": "code",
   "execution_count": 17,
   "id": "c873a904",
   "metadata": {},
   "outputs": [
    {
     "data": {
      "text/plain": [
       "(37544, 53)"
      ]
     },
     "execution_count": 17,
     "metadata": {},
     "output_type": "execute_result"
    }
   ],
   "source": [
    "X_train.shape"
   ]
  },
  {
   "cell_type": "code",
   "execution_count": 18,
   "id": "b4ac14dd",
   "metadata": {},
   "outputs": [
    {
     "data": {
      "text/plain": [
       "(12515, 53)"
      ]
     },
     "execution_count": 18,
     "metadata": {},
     "output_type": "execute_result"
    }
   ],
   "source": [
    "X_test.shape"
   ]
  },
  {
   "cell_type": "code",
   "execution_count": 19,
   "id": "e4fed0f2",
   "metadata": {},
   "outputs": [
    {
     "data": {
      "text/plain": [
       "(37544, 1)"
      ]
     },
     "execution_count": 19,
     "metadata": {},
     "output_type": "execute_result"
    }
   ],
   "source": [
    "y_train.shape"
   ]
  },
  {
   "cell_type": "code",
   "execution_count": 20,
   "id": "dabd12b0",
   "metadata": {},
   "outputs": [
    {
     "data": {
      "text/plain": [
       "(12515, 1)"
      ]
     },
     "execution_count": 20,
     "metadata": {},
     "output_type": "execute_result"
    }
   ],
   "source": [
    "y_test.shape"
   ]
  },
  {
   "cell_type": "code",
   "execution_count": 21,
   "id": "baebbe9b",
   "metadata": {},
   "outputs": [],
   "source": [
    "# creating and saving a copy\n",
    "# original_data = data.copy()"
   ]
  },
  {
   "cell_type": "markdown",
   "id": "1f13f7c9",
   "metadata": {},
   "source": [
    "# 1. Variable Identification"
   ]
  },
  {
   "cell_type": "code",
   "execution_count": 25,
   "id": "2c0b3259",
   "metadata": {},
   "outputs": [],
   "source": [
    "def preprocessing(df):\n",
    "    \n",
    "    df = df[[\"company_city\", \"company_country\", \"company_state\", \"company_name\", \"company_products_services\", \n",
    "             \"company_size\", \"company_type\", \"company_founded_at\", \"company_continent\", \"company_address\", \"revenue_range\", \n",
    "             \"rank\",\"_id\", \"company_funding\", \"lead_count\", \"job_count\", \"cb_id\", \"linkedin_employee_count\", \"linkedin_follower_count\", \n",
    "             \"company_description\", \"company_latest_funding_date\", \"created_at\", \"company_sector\"]]\n",
    "    \n",
    "    return df"
   ]
  },
  {
   "cell_type": "code",
   "execution_count": 26,
   "id": "008a94a8",
   "metadata": {},
   "outputs": [],
   "source": [
    "data_train = preprocessing(X_train)\n",
    "data_test = preprocessing(X_test)"
   ]
  },
  {
   "cell_type": "code",
   "execution_count": 27,
   "id": "a3e74f05",
   "metadata": {},
   "outputs": [
    {
     "data": {
      "text/html": [
       "<div>\n",
       "<style scoped>\n",
       "    .dataframe tbody tr th:only-of-type {\n",
       "        vertical-align: middle;\n",
       "    }\n",
       "\n",
       "    .dataframe tbody tr th {\n",
       "        vertical-align: top;\n",
       "    }\n",
       "\n",
       "    .dataframe thead th {\n",
       "        text-align: right;\n",
       "    }\n",
       "</style>\n",
       "<table border=\"1\" class=\"dataframe\">\n",
       "  <thead>\n",
       "    <tr style=\"text-align: right;\">\n",
       "      <th></th>\n",
       "      <th>company_city</th>\n",
       "      <th>company_country</th>\n",
       "      <th>company_state</th>\n",
       "      <th>company_name</th>\n",
       "      <th>company_products_services</th>\n",
       "      <th>company_size</th>\n",
       "      <th>company_type</th>\n",
       "      <th>company_founded_at</th>\n",
       "      <th>company_continent</th>\n",
       "      <th>company_address</th>\n",
       "      <th>...</th>\n",
       "      <th>company_funding</th>\n",
       "      <th>lead_count</th>\n",
       "      <th>job_count</th>\n",
       "      <th>cb_id</th>\n",
       "      <th>linkedin_employee_count</th>\n",
       "      <th>linkedin_follower_count</th>\n",
       "      <th>company_description</th>\n",
       "      <th>company_latest_funding_date</th>\n",
       "      <th>created_at</th>\n",
       "      <th>company_sector</th>\n",
       "    </tr>\n",
       "  </thead>\n",
       "  <tbody>\n",
       "    <tr>\n",
       "      <th>0</th>\n",
       "      <td>Barcelona</td>\n",
       "      <td>Spain</td>\n",
       "      <td>Catalonia</td>\n",
       "      <td>Duel4it</td>\n",
       "      <td>[Social Games]</td>\n",
       "      <td>1-10</td>\n",
       "      <td>Sole Proprietorship</td>\n",
       "      <td>2013.0</td>\n",
       "      <td>Europe</td>\n",
       "      <td>Av. Ernest Lluch 32</td>\n",
       "      <td>...</td>\n",
       "      <td>0.0</td>\n",
       "      <td>0</td>\n",
       "      <td>0</td>\n",
       "      <td>f29bcff8-b647-d3b4-0b05-9e867ecc6275</td>\n",
       "      <td>1.0</td>\n",
       "      <td>12.0</td>\n",
       "      <td>Welcome to Duel4it, a dueling game set in a vi...</td>\n",
       "      <td>0.000000e+00</td>\n",
       "      <td>1547273431</td>\n",
       "      <td>Professional Services</td>\n",
       "    </tr>\n",
       "    <tr>\n",
       "      <th>1</th>\n",
       "      <td>Chicago</td>\n",
       "      <td>United States</td>\n",
       "      <td>Illinois</td>\n",
       "      <td>PUSH Wellness Solutions, Inc</td>\n",
       "      <td>[wellness, incentives, behavior change, corpor...</td>\n",
       "      <td>11-50</td>\n",
       "      <td>Private</td>\n",
       "      <td>2011.0</td>\n",
       "      <td>North America</td>\n",
       "      <td>180 N Lasalle St. Suite 2305</td>\n",
       "      <td>...</td>\n",
       "      <td>1801391.0</td>\n",
       "      <td>12</td>\n",
       "      <td>0</td>\n",
       "      <td>a5472171-ec67-2dbe-80e4-3a44171fb70c</td>\n",
       "      <td>11.0</td>\n",
       "      <td>696.0</td>\n",
       "      <td>PUSH is the first fair and effective progress-...</td>\n",
       "      <td>1.536106e+09</td>\n",
       "      <td>1547273431</td>\n",
       "      <td>Healthcare and Lifesciences</td>\n",
       "    </tr>\n",
       "    <tr>\n",
       "      <th>2</th>\n",
       "      <td>Stockholm</td>\n",
       "      <td>Sweden</td>\n",
       "      <td>Stockholms Lan</td>\n",
       "      <td>Enecto Sverige AB - turning visitors into busi...</td>\n",
       "      <td>[Lead generation, Web visitor demographics, We...</td>\n",
       "      <td>1-10</td>\n",
       "      <td>Public</td>\n",
       "      <td>2002.0</td>\n",
       "      <td>Europe</td>\n",
       "      <td>Hornsgatan 79, 1 Tr</td>\n",
       "      <td>...</td>\n",
       "      <td>0.0</td>\n",
       "      <td>14</td>\n",
       "      <td>0</td>\n",
       "      <td>920bdf2f-ad29-b260-7d0f-3da3e87558db</td>\n",
       "      <td>14.0</td>\n",
       "      <td>181.0</td>\n",
       "      <td>By utilizing Enecto Web Lead, Enecto’s clients...</td>\n",
       "      <td>0.000000e+00</td>\n",
       "      <td>1547273431</td>\n",
       "      <td>Technology</td>\n",
       "    </tr>\n",
       "    <tr>\n",
       "      <th>3</th>\n",
       "      <td>Cape May Point</td>\n",
       "      <td>United States</td>\n",
       "      <td>New Jersey</td>\n",
       "      <td>Homestead Real Estate</td>\n",
       "      <td>NaN</td>\n",
       "      <td>1-10</td>\n",
       "      <td>Private</td>\n",
       "      <td>NaN</td>\n",
       "      <td>North America</td>\n",
       "      <td>502 Bank Street</td>\n",
       "      <td>...</td>\n",
       "      <td>0.0</td>\n",
       "      <td>60</td>\n",
       "      <td>0</td>\n",
       "      <td>f35f4876-f5c8-addc-7ca7-c62910fdd8e9</td>\n",
       "      <td>39.0</td>\n",
       "      <td>NaN</td>\n",
       "      <td>Homestead Real Estate sells all types of real ...</td>\n",
       "      <td>0.000000e+00</td>\n",
       "      <td>1547273431</td>\n",
       "      <td>Professional Services</td>\n",
       "    </tr>\n",
       "    <tr>\n",
       "      <th>4</th>\n",
       "      <td>San Francisco</td>\n",
       "      <td>United States</td>\n",
       "      <td>California</td>\n",
       "      <td>FunnelBeam</td>\n",
       "      <td>[account based sales, ABM, AI, Big Data, Accou...</td>\n",
       "      <td>11-50</td>\n",
       "      <td>Private</td>\n",
       "      <td>2017.0</td>\n",
       "      <td>North America</td>\n",
       "      <td>City And County Of San Francisco</td>\n",
       "      <td>...</td>\n",
       "      <td>0.0</td>\n",
       "      <td>27</td>\n",
       "      <td>0</td>\n",
       "      <td>abbcbae6-f8e3-1be4-3951-ff1366c5eb8b</td>\n",
       "      <td>16.0</td>\n",
       "      <td>NaN</td>\n",
       "      <td>It’s no secret that B2B enterprise sales is ex...</td>\n",
       "      <td>1.487722e+09</td>\n",
       "      <td>1547273431</td>\n",
       "      <td>Technology</td>\n",
       "    </tr>\n",
       "  </tbody>\n",
       "</table>\n",
       "<p>5 rows × 23 columns</p>\n",
       "</div>"
      ],
      "text/plain": [
       "     company_city company_country   company_state  \\\n",
       "0       Barcelona           Spain       Catalonia   \n",
       "1         Chicago   United States        Illinois   \n",
       "2       Stockholm          Sweden  Stockholms Lan   \n",
       "3  Cape May Point   United States      New Jersey   \n",
       "4   San Francisco   United States      California   \n",
       "\n",
       "                                        company_name  \\\n",
       "0                                            Duel4it   \n",
       "1                       PUSH Wellness Solutions, Inc   \n",
       "2  Enecto Sverige AB - turning visitors into busi...   \n",
       "3                              Homestead Real Estate   \n",
       "4                                         FunnelBeam   \n",
       "\n",
       "                           company_products_services company_size  \\\n",
       "0                                     [Social Games]         1-10   \n",
       "1  [wellness, incentives, behavior change, corpor...        11-50   \n",
       "2  [Lead generation, Web visitor demographics, We...         1-10   \n",
       "3                                                NaN         1-10   \n",
       "4  [account based sales, ABM, AI, Big Data, Accou...        11-50   \n",
       "\n",
       "          company_type  company_founded_at company_continent  \\\n",
       "0  Sole Proprietorship              2013.0            Europe   \n",
       "1              Private              2011.0     North America   \n",
       "2               Public              2002.0            Europe   \n",
       "3              Private                 NaN     North America   \n",
       "4              Private              2017.0     North America   \n",
       "\n",
       "                    company_address  ... company_funding  lead_count  \\\n",
       "0               Av. Ernest Lluch 32  ...             0.0           0   \n",
       "1      180 N Lasalle St. Suite 2305  ...       1801391.0          12   \n",
       "2               Hornsgatan 79, 1 Tr  ...             0.0          14   \n",
       "3                   502 Bank Street  ...             0.0          60   \n",
       "4  City And County Of San Francisco  ...             0.0          27   \n",
       "\n",
       "  job_count                                 cb_id  linkedin_employee_count  \\\n",
       "0         0  f29bcff8-b647-d3b4-0b05-9e867ecc6275                      1.0   \n",
       "1         0  a5472171-ec67-2dbe-80e4-3a44171fb70c                     11.0   \n",
       "2         0  920bdf2f-ad29-b260-7d0f-3da3e87558db                     14.0   \n",
       "3         0  f35f4876-f5c8-addc-7ca7-c62910fdd8e9                     39.0   \n",
       "4         0  abbcbae6-f8e3-1be4-3951-ff1366c5eb8b                     16.0   \n",
       "\n",
       "   linkedin_follower_count                                company_description  \\\n",
       "0                     12.0  Welcome to Duel4it, a dueling game set in a vi...   \n",
       "1                    696.0  PUSH is the first fair and effective progress-...   \n",
       "2                    181.0  By utilizing Enecto Web Lead, Enecto’s clients...   \n",
       "3                      NaN  Homestead Real Estate sells all types of real ...   \n",
       "4                      NaN  It’s no secret that B2B enterprise sales is ex...   \n",
       "\n",
       "   company_latest_funding_date  created_at               company_sector  \n",
       "0                 0.000000e+00  1547273431        Professional Services  \n",
       "1                 1.536106e+09  1547273431  Healthcare and Lifesciences  \n",
       "2                 0.000000e+00  1547273431                   Technology  \n",
       "3                 0.000000e+00  1547273431        Professional Services  \n",
       "4                 1.487722e+09  1547273431                   Technology  \n",
       "\n",
       "[5 rows x 23 columns]"
      ]
     },
     "execution_count": 27,
     "metadata": {},
     "output_type": "execute_result"
    }
   ],
   "source": [
    "data_train.head()"
   ]
  },
  {
   "cell_type": "code",
   "execution_count": 28,
   "id": "c52583f5",
   "metadata": {},
   "outputs": [
    {
     "data": {
      "text/html": [
       "<div>\n",
       "<style scoped>\n",
       "    .dataframe tbody tr th:only-of-type {\n",
       "        vertical-align: middle;\n",
       "    }\n",
       "\n",
       "    .dataframe tbody tr th {\n",
       "        vertical-align: top;\n",
       "    }\n",
       "\n",
       "    .dataframe thead th {\n",
       "        text-align: right;\n",
       "    }\n",
       "</style>\n",
       "<table border=\"1\" class=\"dataframe\">\n",
       "  <thead>\n",
       "    <tr style=\"text-align: right;\">\n",
       "      <th></th>\n",
       "      <th>company_city</th>\n",
       "      <th>company_country</th>\n",
       "      <th>company_state</th>\n",
       "      <th>company_name</th>\n",
       "      <th>company_products_services</th>\n",
       "      <th>company_size</th>\n",
       "      <th>company_type</th>\n",
       "      <th>company_founded_at</th>\n",
       "      <th>company_continent</th>\n",
       "      <th>company_address</th>\n",
       "      <th>...</th>\n",
       "      <th>company_funding</th>\n",
       "      <th>lead_count</th>\n",
       "      <th>job_count</th>\n",
       "      <th>cb_id</th>\n",
       "      <th>linkedin_employee_count</th>\n",
       "      <th>linkedin_follower_count</th>\n",
       "      <th>company_description</th>\n",
       "      <th>company_latest_funding_date</th>\n",
       "      <th>created_at</th>\n",
       "      <th>company_sector</th>\n",
       "    </tr>\n",
       "  </thead>\n",
       "  <tbody>\n",
       "    <tr>\n",
       "      <th>0</th>\n",
       "      <td>Sterling</td>\n",
       "      <td>United States</td>\n",
       "      <td>Virginia</td>\n",
       "      <td>Illumai</td>\n",
       "      <td>[shampoo, conditioner, finishing spray, hairca...</td>\n",
       "      <td>1-10</td>\n",
       "      <td>Private</td>\n",
       "      <td>2013.0</td>\n",
       "      <td>North America</td>\n",
       "      <td>46400 Benedict Dr., Suite 203</td>\n",
       "      <td>...</td>\n",
       "      <td>1300000.0</td>\n",
       "      <td>2</td>\n",
       "      <td>0</td>\n",
       "      <td>35fdbabf-a6da-f66b-5521-1d1852e59811</td>\n",
       "      <td>7.0</td>\n",
       "      <td>48.0</td>\n",
       "      <td>The illumai Biome Care System – is the only ha...</td>\n",
       "      <td>1.449965e+09</td>\n",
       "      <td>1547273431</td>\n",
       "      <td>Retail and CPG</td>\n",
       "    </tr>\n",
       "    <tr>\n",
       "      <th>1</th>\n",
       "      <td>San Diego</td>\n",
       "      <td>United States</td>\n",
       "      <td>California</td>\n",
       "      <td>Integrity Plus Property Management</td>\n",
       "      <td>NaN</td>\n",
       "      <td>1-10</td>\n",
       "      <td>NaN</td>\n",
       "      <td>2010.0</td>\n",
       "      <td>North America</td>\n",
       "      <td>P.o. Box 16994</td>\n",
       "      <td>...</td>\n",
       "      <td>NaN</td>\n",
       "      <td>9</td>\n",
       "      <td>0</td>\n",
       "      <td>b487117a-c9b8-4bce-a8be-e469de9a365a</td>\n",
       "      <td>NaN</td>\n",
       "      <td>NaN</td>\n",
       "      <td>Integrity Plus Property Management is a full s...</td>\n",
       "      <td>NaN</td>\n",
       "      <td>1537630537</td>\n",
       "      <td>Professional Services</td>\n",
       "    </tr>\n",
       "    <tr>\n",
       "      <th>2</th>\n",
       "      <td>Belmont</td>\n",
       "      <td>Australia</td>\n",
       "      <td>Victoria</td>\n",
       "      <td>Mappt</td>\n",
       "      <td>NaN</td>\n",
       "      <td>1-10</td>\n",
       "      <td>Private</td>\n",
       "      <td>2013.0</td>\n",
       "      <td>Oceania</td>\n",
       "      <td>Takor Group Ltd Unit 28, 12 Cowcher Place</td>\n",
       "      <td>...</td>\n",
       "      <td>0.0</td>\n",
       "      <td>0</td>\n",
       "      <td>0</td>\n",
       "      <td>76e2cc00-fd13-874e-757e-78c827aefaca</td>\n",
       "      <td>NaN</td>\n",
       "      <td>115.0</td>\n",
       "      <td>Mappt is a powerful mobile GIS and data collec...</td>\n",
       "      <td>0.000000e+00</td>\n",
       "      <td>1547273431</td>\n",
       "      <td>Technology</td>\n",
       "    </tr>\n",
       "    <tr>\n",
       "      <th>3</th>\n",
       "      <td>Cambridge</td>\n",
       "      <td>United States</td>\n",
       "      <td>Massachusetts</td>\n",
       "      <td>Jounce Therapeutics, Inc</td>\n",
       "      <td>[Cancer Immunotherapy, Immunology, Oncology, A...</td>\n",
       "      <td>51-200</td>\n",
       "      <td>Public</td>\n",
       "      <td>2013.0</td>\n",
       "      <td>North America</td>\n",
       "      <td>1030 Massachusetts Avenue</td>\n",
       "      <td>...</td>\n",
       "      <td>194249995.0</td>\n",
       "      <td>157</td>\n",
       "      <td>0</td>\n",
       "      <td>35998e83-7a9a-c4e6-2888-3722c1a486ed</td>\n",
       "      <td>151.0</td>\n",
       "      <td>7875.0</td>\n",
       "      <td>Jounce Therapeutics, Inc. is a clinical-stage ...</td>\n",
       "      <td>1.615334e+09</td>\n",
       "      <td>1547273431</td>\n",
       "      <td>Healthcare and Lifesciences</td>\n",
       "    </tr>\n",
       "    <tr>\n",
       "      <th>4</th>\n",
       "      <td>Chorleywood</td>\n",
       "      <td>United Kingdom</td>\n",
       "      <td>Buckinghamshire</td>\n",
       "      <td>Cache Digital</td>\n",
       "      <td>[Search Engine Optimisation, Search Engine Mar...</td>\n",
       "      <td>1-10</td>\n",
       "      <td>Private</td>\n",
       "      <td>2013.0</td>\n",
       "      <td>Europe</td>\n",
       "      <td>Globe House 25-27 Lower Road</td>\n",
       "      <td>...</td>\n",
       "      <td>NaN</td>\n",
       "      <td>4</td>\n",
       "      <td>0</td>\n",
       "      <td>b74316db-b6d5-41f3-ab13-114cdc41ac1c</td>\n",
       "      <td>3.0</td>\n",
       "      <td>16.0</td>\n",
       "      <td>Cache Digital are an Internet marketing and SE...</td>\n",
       "      <td>NaN</td>\n",
       "      <td>1537596090</td>\n",
       "      <td>Technology</td>\n",
       "    </tr>\n",
       "  </tbody>\n",
       "</table>\n",
       "<p>5 rows × 23 columns</p>\n",
       "</div>"
      ],
      "text/plain": [
       "  company_city company_country    company_state  \\\n",
       "0     Sterling   United States         Virginia   \n",
       "1    San Diego   United States       California   \n",
       "2      Belmont       Australia         Victoria   \n",
       "3    Cambridge   United States    Massachusetts   \n",
       "4  Chorleywood  United Kingdom  Buckinghamshire   \n",
       "\n",
       "                         company_name  \\\n",
       "0                             Illumai   \n",
       "1  Integrity Plus Property Management   \n",
       "2                               Mappt   \n",
       "3            Jounce Therapeutics, Inc   \n",
       "4                       Cache Digital   \n",
       "\n",
       "                           company_products_services company_size  \\\n",
       "0  [shampoo, conditioner, finishing spray, hairca...         1-10   \n",
       "1                                                NaN         1-10   \n",
       "2                                                NaN         1-10   \n",
       "3  [Cancer Immunotherapy, Immunology, Oncology, A...       51-200   \n",
       "4  [Search Engine Optimisation, Search Engine Mar...         1-10   \n",
       "\n",
       "  company_type  company_founded_at company_continent  \\\n",
       "0      Private              2013.0     North America   \n",
       "1          NaN              2010.0     North America   \n",
       "2      Private              2013.0           Oceania   \n",
       "3       Public              2013.0     North America   \n",
       "4      Private              2013.0            Europe   \n",
       "\n",
       "                             company_address  ... company_funding  lead_count  \\\n",
       "0              46400 Benedict Dr., Suite 203  ...       1300000.0           2   \n",
       "1                             P.o. Box 16994  ...             NaN           9   \n",
       "2  Takor Group Ltd Unit 28, 12 Cowcher Place  ...             0.0           0   \n",
       "3                  1030 Massachusetts Avenue  ...     194249995.0         157   \n",
       "4               Globe House 25-27 Lower Road  ...             NaN           4   \n",
       "\n",
       "  job_count                                 cb_id  linkedin_employee_count  \\\n",
       "0         0  35fdbabf-a6da-f66b-5521-1d1852e59811                      7.0   \n",
       "1         0  b487117a-c9b8-4bce-a8be-e469de9a365a                      NaN   \n",
       "2         0  76e2cc00-fd13-874e-757e-78c827aefaca                      NaN   \n",
       "3         0  35998e83-7a9a-c4e6-2888-3722c1a486ed                    151.0   \n",
       "4         0  b74316db-b6d5-41f3-ab13-114cdc41ac1c                      3.0   \n",
       "\n",
       "   linkedin_follower_count                                company_description  \\\n",
       "0                     48.0  The illumai Biome Care System – is the only ha...   \n",
       "1                      NaN  Integrity Plus Property Management is a full s...   \n",
       "2                    115.0  Mappt is a powerful mobile GIS and data collec...   \n",
       "3                   7875.0  Jounce Therapeutics, Inc. is a clinical-stage ...   \n",
       "4                     16.0  Cache Digital are an Internet marketing and SE...   \n",
       "\n",
       "   company_latest_funding_date  created_at               company_sector  \n",
       "0                 1.449965e+09  1547273431               Retail and CPG  \n",
       "1                          NaN  1537630537        Professional Services  \n",
       "2                 0.000000e+00  1547273431                   Technology  \n",
       "3                 1.615334e+09  1547273431  Healthcare and Lifesciences  \n",
       "4                          NaN  1537596090                   Technology  \n",
       "\n",
       "[5 rows x 23 columns]"
      ]
     },
     "execution_count": 28,
     "metadata": {},
     "output_type": "execute_result"
    }
   ],
   "source": [
    "data_test.head()"
   ]
  },
  {
   "cell_type": "code",
   "execution_count": null,
   "id": "e643256a",
   "metadata": {},
   "outputs": [],
   "source": []
  },
  {
   "cell_type": "markdown",
   "id": "d6cc220c",
   "metadata": {},
   "source": [
    "### 3.3 Text Data"
   ]
  },
  {
   "cell_type": "code",
   "execution_count": null,
   "id": "1cdbb6cf",
   "metadata": {},
   "outputs": [],
   "source": [
    "print(\" Text Type is: \\n\\n\",type(data[\"company_description\"][0]),\"\\n\\n Text: \\n\",data[\"company_description\"][0])"
   ]
  },
  {
   "cell_type": "code",
   "execution_count": null,
   "id": "a0e56865",
   "metadata": {},
   "outputs": [],
   "source": [
    "data['company_industry'].value_counts(normalize=True)*100   # percentage wise"
   ]
  },
  {
   "cell_type": "code",
   "execution_count": null,
   "id": "e9389289",
   "metadata": {},
   "outputs": [],
   "source": [
    "# sns.pairplot(data, hue='company_industry', height=2)\n",
    "# data['company_industry'].value_counts(normalize=True)*100   # percentage wise\n",
    "data['company_industry'].value_counts(normalize=True).plot.bar(title = \"company_industry\")"
   ]
  },
  {
   "cell_type": "markdown",
   "id": "c36905c6",
   "metadata": {},
   "source": [
    "can treat as `IMBALANCE DATASET` though not high imbalance is there"
   ]
  },
  {
   "cell_type": "markdown",
   "id": "15484ba2",
   "metadata": {},
   "source": [
    "- `FILLING MISSING VALUES`"
   ]
  },
  {
   "cell_type": "code",
   "execution_count": null,
   "id": "4400c32f",
   "metadata": {},
   "outputs": [],
   "source": [
    "# checking missing data percentage in data\n",
    "total = data.isnull().sum().sort_values(ascending = False)\n",
    "percent = (data.isnull().sum()/data.isnull().count()*100).sort_values(ascending = False)\n",
    "missing_Data = pd.concat([total, percent], axis=1, keys=['Total', 'Percent'])\n",
    "print(missing_Data)"
   ]
  },
  {
   "cell_type": "code",
   "execution_count": null,
   "id": "8108c0f0",
   "metadata": {},
   "outputs": [],
   "source": [
    "data['linkedin_follower_count'].fillna(data['linkedin_follower_count'].median(), inplace=True)\n",
    "data['company_latest_funding_date'].fillna(data['company_latest_funding_date'].mode()[0], inplace=True)\n",
    "data['company_funding'].fillna(data['company_funding'].median(), inplace=True)\n",
    "data['company_founded_at'].fillna(data['company_founded_at'].mode()[0], inplace=True)\n",
    "data['company_type'].fillna(data['company_type'].mode()[0], inplace=True)\n",
    "data['linkedin_employee_count'].fillna(data['linkedin_employee_count'].median(), inplace=True)\n",
    "data['company_address'].fillna(data['company_address'].mode()[0], inplace=True)\n",
    "data['company_size'].fillna(data['company_size'].mode()[0], inplace=True)\n",
    "data['company_state'].fillna(data['company_state'].mode()[0], inplace=True)\n",
    "data['company_city'].fillna(data['company_city'].mode()[0], inplace=True)\n",
    "data['company_country'].fillna(data['company_country'].mode()[0], inplace=True)\n",
    "data['company_continent'].fillna(data['company_continent'].mode()[0], inplace=True)\n",
    "data['company_description'].fillna(data['company_description'].mode()[0], inplace=True)\n",
    "data['company_continent'].fillna(data['company_continent'].mode()[0], inplace=True)\n",
    "data['rank'].fillna(data['rank'].median(), inplace=True)\n",
    "data['company_name'].fillna(data['company_name'].mode()[0], inplace=True)"
   ]
  },
  {
   "cell_type": "code",
   "execution_count": null,
   "id": "d03859ed",
   "metadata": {},
   "outputs": [],
   "source": [
    "data['company_products_services'].fillna(data['company_products_services'].mode()[0], inplace=True)"
   ]
  },
  {
   "cell_type": "code",
   "execution_count": null,
   "id": "163b6902",
   "metadata": {},
   "outputs": [],
   "source": [
    "# DEALING WITH IMBALANCE DATASET"
   ]
  },
  {
   "cell_type": "code",
   "execution_count": null,
   "id": "2f1dd792",
   "metadata": {},
   "outputs": [],
   "source": [
    "def convert_format(n):\n",
    "    # strip brackets\n",
    "    n_split_clean = n.strip('[]')\n",
    "    # split by comma\n",
    "    n_split = n_split_clean.split(\",\")\n",
    "    #strip whitespaces of start and end\n",
    "    n_split_list =[]\n",
    "    for i in n_split:\n",
    "        n_split_final = i.strip(\" \")\n",
    "        n_split_list.append(n_split_final)\n",
    "    n_new = n_split_list\n",
    "        \n",
    "    return n_new"
   ]
  },
  {
   "cell_type": "code",
   "execution_count": null,
   "id": "8bea702f",
   "metadata": {},
   "outputs": [],
   "source": [
    "# DEALING WITH company_products_services"
   ]
  },
  {
   "cell_type": "code",
   "execution_count": null,
   "id": "ebe86f05",
   "metadata": {},
   "outputs": [],
   "source": [
    "# data['company_products_services_embeddings'] = data.apply(lambda x: get_embeddings(x[\"company_products_services\"], ft), axis = 1)\n",
    "data[\"company_products_services\"] = data.apply(lambda x: convert_format(x[\"company_products_services\"]), axis = 1)"
   ]
  },
  {
   "cell_type": "code",
   "execution_count": null,
   "id": "0ec6d41e",
   "metadata": {},
   "outputs": [],
   "source": [
    "data[\"company_products_services\"][10]"
   ]
  },
  {
   "cell_type": "code",
   "execution_count": null,
   "id": "d3a26418",
   "metadata": {},
   "outputs": [],
   "source": [
    "# best way is to give them as embedding\n",
    "# [embedding1,embedding2....] ----> [PCA_combined]\n",
    "\n",
    "# Now fill theese missing values with PCA_combined as variable and drop company_products_services"
   ]
  },
  {
   "cell_type": "code",
   "execution_count": null,
   "id": "d90cad83",
   "metadata": {},
   "outputs": [],
   "source": [
    "# def get_embeddings(words, ft):\n",
    "#     pca_list = []\n",
    "#     for word in words:\n",
    "        \n",
    "#         word = str(word)\n",
    "#         f = ft.get_word_vector(word)\n",
    "        \n",
    "#         pca = PCA(n_components=1)\n",
    "#         f = f.reshape(-1,1)\n",
    "#         pca_comp = pca.fit_transform(f)\n",
    "#         pca_list.append(pca_comp)\n",
    "        \n",
    "        \n",
    "#     pca_2 = PCA(n_components=1)\n",
    "#     pca_list = np.array(pca_list).reshape(-1,1)\n",
    "#     pca_final = pca_2.fit_transform(pca_list)\n",
    "#     return pca_final"
   ]
  },
  {
   "cell_type": "code",
   "execution_count": null,
   "id": "b4e2e124",
   "metadata": {},
   "outputs": [],
   "source": [
    "# !pip install gensim"
   ]
  },
  {
   "cell_type": "code",
   "execution_count": null,
   "id": "820d6f46",
   "metadata": {},
   "outputs": [],
   "source": [
    "%%time\n",
    "print(\"YES\")"
   ]
  },
  {
   "cell_type": "code",
   "execution_count": null,
   "id": "d486c18c",
   "metadata": {},
   "outputs": [],
   "source": []
  },
  {
   "cell_type": "code",
   "execution_count": null,
   "id": "c197a372",
   "metadata": {},
   "outputs": [],
   "source": [
    "%%time\n",
    "# data['company_products_services_embeddings'] = data.apply(lambda x: get_embeddings(x[\"company_products_services\"], ft), axis = 1)\n",
    "# feat_cols = ['feature'+str(i) for i in range(len(df_designation[\"designation_embeddings\"][0]))]\n",
    "# # split array entries into individual columns\n",
    "# df_designation[feat_cols] = pd.DataFrame(df_designation.designation_embeddings.tolist(), index= df_designation.index)"
   ]
  },
  {
   "cell_type": "code",
   "execution_count": null,
   "id": "e59cee4b",
   "metadata": {},
   "outputs": [],
   "source": [
    "# ft.get_dimension()\n",
    "# fasttext.util.reduce_model(ft, 10)"
   ]
  },
  {
   "cell_type": "code",
   "execution_count": null,
   "id": "b10c61d6",
   "metadata": {},
   "outputs": [],
   "source": [
    "# fasttext.util.reduce_model(ft, 200)\n",
    "data.head()"
   ]
  },
  {
   "cell_type": "code",
   "execution_count": null,
   "id": "5a53ff0d",
   "metadata": {},
   "outputs": [],
   "source": [
    "\n",
    "# def get_embeddings(word_list, ft):\n",
    "#     embedding_list=[]\n",
    "#     for word in word_list:\n",
    "        \n",
    "#         word = str(word)\n",
    "#         f = ft.get_word_vector(word)\n",
    "#         embedding_list.append(f)\n",
    "\n",
    "#     return embedding_list"
   ]
  },
  {
   "cell_type": "code",
   "execution_count": null,
   "id": "973b680c",
   "metadata": {},
   "outputs": [],
   "source": [
    "# data['company_products_services_embeddings'] = data.apply(lambda x: get_embeddings(x[\"company_products_services\"], ft), axis = 1)"
   ]
  },
  {
   "cell_type": "markdown",
   "id": "77684ad6",
   "metadata": {},
   "source": [
    "### 4. Log Transformations-removing outliers/skewness"
   ]
  },
  {
   "cell_type": "code",
   "execution_count": null,
   "id": "53cebe12",
   "metadata": {},
   "outputs": [],
   "source": [
    "# Make Transformation for required features to remove outlier and skewness"
   ]
  },
  {
   "cell_type": "markdown",
   "id": "c71682df",
   "metadata": {},
   "source": [
    "### 5. FEATURE ENGINEERING"
   ]
  },
  {
   "cell_type": "code",
   "execution_count": null,
   "id": "576de7f2",
   "metadata": {},
   "outputs": [],
   "source": [
    "data.head()"
   ]
  },
  {
   "cell_type": "code",
   "execution_count": null,
   "id": "f017e6aa",
   "metadata": {},
   "outputs": [],
   "source": [
    "# feature from datetime"
   ]
  },
  {
   "cell_type": "markdown",
   "id": "2e57e8a9",
   "metadata": {},
   "source": [
    "### 6. TEXT CLEANING/Pre-Processing"
   ]
  },
  {
   "cell_type": "code",
   "execution_count": null,
   "id": "0f4fdf79",
   "metadata": {},
   "outputs": [],
   "source": [
    "data['company_description'] = data['company_description'].apply(lambda x: \"\".join(re.sub(r\"[^A-Za-z\\s]\", '',str(x))))"
   ]
  },
  {
   "cell_type": "code",
   "execution_count": null,
   "id": "8705bf7c",
   "metadata": {},
   "outputs": [],
   "source": [
    "data['company_description'] = data['company_description'].apply(lambda x: \" \".join(x.lower() for x in x.split()))"
   ]
  },
  {
   "cell_type": "code",
   "execution_count": null,
   "id": "1750bb28",
   "metadata": {},
   "outputs": [],
   "source": [
    "#Removing punctuations\n",
    "#adding characters list which needs to remove that is PUNCTUATION\n",
    "punc = ['.', ',', '\"', \"'\", '?', '!', ':', ';', '(', ')', '[', ']', '{', '}',\"%\",'/','<','>','br','�','^','XX','XXXX','xxxx','xx']\n",
    "#removing extra characters\n",
    "data['company_description'] = data['company_description'].apply(lambda x: \" \".join(x for x in x.split() if x not in punc))"
   ]
  },
  {
   "cell_type": "code",
   "execution_count": null,
   "id": "8c4c90a3",
   "metadata": {},
   "outputs": [],
   "source": [
    "#removal of stopwords\n",
    "data['company_description'] = data['company_description'].apply(lambda x: \" \".join(x for x in x.split() if x not in stop))"
   ]
  },
  {
   "cell_type": "code",
   "execution_count": null,
   "id": "c154db52",
   "metadata": {},
   "outputs": [],
   "source": [
    "#STEMMING\n",
    "st = PorterStemmer()\n",
    "data['company_description']=data['company_description'].apply(lambda x: \" \".join([st.stem(w) for w in x.split()]))"
   ]
  },
  {
   "cell_type": "code",
   "execution_count": null,
   "id": "81ec1d25",
   "metadata": {},
   "outputs": [],
   "source": [
    "data['company_description'][0], data['company_description'][10], data['company_description'][100]"
   ]
  },
  {
   "cell_type": "code",
   "execution_count": null,
   "id": "0a1270ea",
   "metadata": {},
   "outputs": [],
   "source": [
    "# dropping company_products_services for now"
   ]
  },
  {
   "cell_type": "markdown",
   "id": "b5cabf3a",
   "metadata": {},
   "source": [
    "### 7. CONVERT INTO EMBEDDINGS"
   ]
  },
  {
   "cell_type": "code",
   "execution_count": null,
   "id": "d32144d3",
   "metadata": {},
   "outputs": [],
   "source": []
  },
  {
   "cell_type": "code",
   "execution_count": null,
   "id": "643dc7ee",
   "metadata": {},
   "outputs": [],
   "source": []
  },
  {
   "cell_type": "markdown",
   "id": "80da652e",
   "metadata": {},
   "source": [
    "### 8. SCALING"
   ]
  },
  {
   "cell_type": "markdown",
   "id": "d6fa01f2",
   "metadata": {},
   "source": [
    "### 9. MODEL FIT"
   ]
  },
  {
   "cell_type": "code",
   "execution_count": null,
   "id": "d28ec6a1",
   "metadata": {},
   "outputs": [],
   "source": []
  }
 ],
 "metadata": {
  "kernelspec": {
   "display_name": "Python 3",
   "language": "python",
   "name": "python3"
  },
  "language_info": {
   "codemirror_mode": {
    "name": "ipython",
    "version": 3
   },
   "file_extension": ".py",
   "mimetype": "text/x-python",
   "name": "python",
   "nbconvert_exporter": "python",
   "pygments_lexer": "ipython3",
   "version": "3.6.9"
  }
 },
 "nbformat": 4,
 "nbformat_minor": 5
}
