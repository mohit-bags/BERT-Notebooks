{
 "cells": [
  {
   "cell_type": "code",
   "execution_count": 13,
   "id": "526541b7",
   "metadata": {},
   "outputs": [],
   "source": [
    "import pandas as pd\n",
    "import numpy as np"
   ]
  },
  {
   "cell_type": "code",
   "execution_count": 14,
   "id": "6f206d12",
   "metadata": {},
   "outputs": [],
   "source": [
    "data_path = \"BERT_prod_tagsv2.csv\" #ENTER DATA PATH\n",
    "data_path = \"production_tags_JD.csv\" #ENTER DATA PATH\n",
    "data=pd.read_csv(data_path)"
   ]
  },
  {
   "cell_type": "code",
   "execution_count": 15,
   "id": "32eeaa6a",
   "metadata": {},
   "outputs": [],
   "source": [
    "\n",
    "ID = 'lead_id'# ID column name\n",
    "summaries = 'summaries'#summaries column name\n",
    "manually_tagged = 'prod_tag' #manual tag column name\n",
    "bert_tags = 'BERT_Tags'#column name\n",
    "data[manually_tagged]=data[manually_tagged].apply(eval)\n",
    "# data[bert_tags]=data[bert_tags].apply(eval)"
   ]
  },
  {
   "cell_type": "code",
   "execution_count": 16,
   "id": "8344c5b4",
   "metadata": {},
   "outputs": [
    {
     "data": {
      "text/plain": [
       "Index(['job_id', 'company_name', 'company_id', 'job_title', 'job_desc',\n",
       "       'job_posting_date', 'technologies', 'last_detected', 'partition_0',\n",
       "       'prod_tag'],\n",
       "      dtype='object')"
      ]
     },
     "execution_count": 16,
     "metadata": {},
     "output_type": "execute_result"
    }
   ],
   "source": [
    "data.columns"
   ]
  },
  {
   "cell_type": "code",
   "execution_count": 17,
   "id": "80c83644",
   "metadata": {},
   "outputs": [
    {
     "data": {
      "text/html": [
       "<div>\n",
       "<style scoped>\n",
       "    .dataframe tbody tr th:only-of-type {\n",
       "        vertical-align: middle;\n",
       "    }\n",
       "\n",
       "    .dataframe tbody tr th {\n",
       "        vertical-align: top;\n",
       "    }\n",
       "\n",
       "    .dataframe thead th {\n",
       "        text-align: right;\n",
       "    }\n",
       "</style>\n",
       "<table border=\"1\" class=\"dataframe\">\n",
       "  <thead>\n",
       "    <tr style=\"text-align: right;\">\n",
       "      <th></th>\n",
       "      <th>job_id</th>\n",
       "      <th>company_name</th>\n",
       "      <th>company_id</th>\n",
       "      <th>job_title</th>\n",
       "      <th>job_desc</th>\n",
       "      <th>job_posting_date</th>\n",
       "      <th>technologies</th>\n",
       "      <th>last_detected</th>\n",
       "      <th>partition_0</th>\n",
       "      <th>prod_tag</th>\n",
       "    </tr>\n",
       "  </thead>\n",
       "  <tbody>\n",
       "    <tr>\n",
       "      <th>0</th>\n",
       "      <td>00013842-c738-49ea-b6e3-486dabe9d6c7</td>\n",
       "      <td>Ambitionbox</td>\n",
       "      <td>5c3b01b1d55ae49f1b783905</td>\n",
       "      <td>Gartner - Test Engineer - Manual/Automation Te...</td>\n",
       "      <td>*  Reviews \\n*  Jobs \\n*  Interview Questions ...</td>\n",
       "      <td>1622771042</td>\n",
       "      <td>{'technology': 'Python', 'pattern': 'Python', ...</td>\n",
       "      <td>1625557247</td>\n",
       "      <td>2021-07-05</td>\n",
       "      <td>[Python]</td>\n",
       "    </tr>\n",
       "    <tr>\n",
       "      <th>1</th>\n",
       "      <td>000160c7-88c1-46d4-9e46-9648f7b63ee1</td>\n",
       "      <td>Soundsphere Magazine</td>\n",
       "      <td>5d2dbf312faa194742013c30</td>\n",
       "      <td>Scientist</td>\n",
       "      <td>**Computational Scientist in Genomics**\\n\\nUni...</td>\n",
       "      <td>1624224162</td>\n",
       "      <td>{'technology': 'Python', 'pattern': 'Python', ...</td>\n",
       "      <td>1625557247</td>\n",
       "      <td>2021-07-05</td>\n",
       "      <td>[Python]</td>\n",
       "    </tr>\n",
       "    <tr>\n",
       "      <th>2</th>\n",
       "      <td>0003084f-8bfa-4b36-8d49-e1356bb0c5aa</td>\n",
       "      <td>Stockholmtorget.se</td>\n",
       "      <td>5d9e06aba7537b35bb6c9ef7</td>\n",
       "      <td>Senior Software Engineer - Partnerships J Jobb...</td>\n",
       "      <td>**Senior Software Engineer - Partnerships**\\n\\...</td>\n",
       "      <td>1620971459</td>\n",
       "      <td>{'technology': 'Python', 'pattern': 'Python', ...</td>\n",
       "      <td>1625557247</td>\n",
       "      <td>2021-07-05</td>\n",
       "      <td>[Python]</td>\n",
       "    </tr>\n",
       "    <tr>\n",
       "      <th>3</th>\n",
       "      <td>0003c5e2-893f-4877-bff5-4dde459639ae</td>\n",
       "      <td>Numerix</td>\n",
       "      <td>5b8917897c866675e511c97e</td>\n",
       "      <td>Software Developer - Backend</td>\n",
       "      <td>** Software Developer - Backend**\\n\\n\\n**Job C...</td>\n",
       "      <td>1623549100</td>\n",
       "      <td>{'technology': 'Python', 'pattern': 'Python', ...</td>\n",
       "      <td>1625557247</td>\n",
       "      <td>2021-07-05</td>\n",
       "      <td>[Python]</td>\n",
       "    </tr>\n",
       "    <tr>\n",
       "      <th>4</th>\n",
       "      <td>000493fa-cbfa-45c4-884e-894eb7d44b19</td>\n",
       "      <td>Fanatics, Inc</td>\n",
       "      <td>5b8916e17c866675e511589e</td>\n",
       "      <td>Software Engineer III - #7932</td>\n",
       "      <td>**Software Engineer III - #7932**\\n\\nIndia, Hy...</td>\n",
       "      <td>1623326333</td>\n",
       "      <td>{'technology': 'Python', 'pattern': 'Python', ...</td>\n",
       "      <td>1625557247</td>\n",
       "      <td>2021-07-05</td>\n",
       "      <td>[Python]</td>\n",
       "    </tr>\n",
       "  </tbody>\n",
       "</table>\n",
       "</div>"
      ],
      "text/plain": [
       "                                 job_id          company_name  \\\n",
       "0  00013842-c738-49ea-b6e3-486dabe9d6c7           Ambitionbox   \n",
       "1  000160c7-88c1-46d4-9e46-9648f7b63ee1  Soundsphere Magazine   \n",
       "2  0003084f-8bfa-4b36-8d49-e1356bb0c5aa    Stockholmtorget.se   \n",
       "3  0003c5e2-893f-4877-bff5-4dde459639ae               Numerix   \n",
       "4  000493fa-cbfa-45c4-884e-894eb7d44b19         Fanatics, Inc   \n",
       "\n",
       "                 company_id  \\\n",
       "0  5c3b01b1d55ae49f1b783905   \n",
       "1  5d2dbf312faa194742013c30   \n",
       "2  5d9e06aba7537b35bb6c9ef7   \n",
       "3  5b8917897c866675e511c97e   \n",
       "4  5b8916e17c866675e511589e   \n",
       "\n",
       "                                           job_title  \\\n",
       "0  Gartner - Test Engineer - Manual/Automation Te...   \n",
       "1                                          Scientist   \n",
       "2  Senior Software Engineer - Partnerships J Jobb...   \n",
       "3                       Software Developer - Backend   \n",
       "4                      Software Engineer III - #7932   \n",
       "\n",
       "                                            job_desc  job_posting_date  \\\n",
       "0  *  Reviews \\n*  Jobs \\n*  Interview Questions ...        1622771042   \n",
       "1  **Computational Scientist in Genomics**\\n\\nUni...        1624224162   \n",
       "2  **Senior Software Engineer - Partnerships**\\n\\...        1620971459   \n",
       "3  ** Software Developer - Backend**\\n\\n\\n**Job C...        1623549100   \n",
       "4  **Software Engineer III - #7932**\\n\\nIndia, Hy...        1623326333   \n",
       "\n",
       "                                        technologies  last_detected  \\\n",
       "0  {'technology': 'Python', 'pattern': 'Python', ...     1625557247   \n",
       "1  {'technology': 'Python', 'pattern': 'Python', ...     1625557247   \n",
       "2  {'technology': 'Python', 'pattern': 'Python', ...     1625557247   \n",
       "3  {'technology': 'Python', 'pattern': 'Python', ...     1625557247   \n",
       "4  {'technology': 'Python', 'pattern': 'Python', ...     1625557247   \n",
       "\n",
       "  partition_0  prod_tag  \n",
       "0  2021-07-05  [Python]  \n",
       "1  2021-07-05  [Python]  \n",
       "2  2021-07-05  [Python]  \n",
       "3  2021-07-05  [Python]  \n",
       "4  2021-07-05  [Python]  "
      ]
     },
     "execution_count": 17,
     "metadata": {},
     "output_type": "execute_result"
    }
   ],
   "source": [
    "data.head()"
   ]
  },
  {
   "cell_type": "code",
   "execution_count": 18,
   "id": "369eb4be",
   "metadata": {},
   "outputs": [],
   "source": [
    "# df_groups = data.groupby(['lead_id','title','summaries','start_date','end_date'])\n",
    "df_groups = data.groupby(['job_id','job_title','company_id','job_desc','job_posting_date','last_detected'])"
   ]
  },
  {
   "cell_type": "code",
   "execution_count": 19,
   "id": "bfece6df",
   "metadata": {},
   "outputs": [
    {
     "data": {
      "text/plain": [
       "7880"
      ]
     },
     "execution_count": 19,
     "metadata": {},
     "output_type": "execute_result"
    }
   ],
   "source": [
    "len(df_groups)"
   ]
  },
  {
   "cell_type": "code",
   "execution_count": 12,
   "id": "e3e58cb2",
   "metadata": {},
   "outputs": [
    {
     "name": "stderr",
     "output_type": "stream",
     "text": [
      "<ipython-input-12-a753452137f4>:25: SettingWithCopyWarning: \n",
      "A value is trying to be set on a copy of a slice from a DataFrame\n",
      "\n",
      "See the caveats in the documentation: https://pandas.pydata.org/pandas-docs/stable/user_guide/indexing.html#returning-a-view-versus-a-copy\n",
      "  add_data['prod_tag'][0]=list(tag_dict)\n",
      "<ipython-input-12-a753452137f4>:27: SettingWithCopyWarning: \n",
      "A value is trying to be set on a copy of a slice from a DataFrame\n",
      "\n",
      "See the caveats in the documentation: https://pandas.pydata.org/pandas-docs/stable/user_guide/indexing.html#returning-a-view-versus-a-copy\n",
      "  add_data['technologies'][0]=strtech\n"
     ]
    }
   ],
   "source": [
    "merged_data = pd.DataFrame()\n",
    "for k,i in df_groups:\n",
    "        temp_data=i\n",
    "        temp_data.reset_index(inplace=True,drop=True)\n",
    "        temp_data['prod_tag']=temp_data['prod_tag'].apply(eval)\n",
    "        tag_dict = set()\n",
    "        for i in temp_data['prod_tag']:\n",
    "#             print(i)\n",
    "            for j in i:\n",
    "                tag_dict.add(j)\n",
    "#         temp_data[bert_tags]=temp_data[bert_tags].apply(eval)\n",
    "\n",
    "#         bert_dict = set()\n",
    "#         for i in temp_data[bert_tags]:\n",
    "# #             print(i)\n",
    "        \n",
    "#             for j in i:\n",
    "#                 if(j=='adobe' or j=='illustrator'):\n",
    "#                     bert_dict.add('adobe illustrator')\n",
    "#                 bert_dict.add(j)\n",
    "        strtech = \"\"\n",
    "        for i in temp_data['technologies']:\n",
    "            strtech+=i\n",
    "        add_data=temp_data.head(1)\n",
    "        add_data['prod_tag'][0]=list(tag_dict)\n",
    "#         add_data[bert_tags][0]=list(bert_dict)\n",
    "        add_data['technologies'][0]=strtech\n",
    "        merged_data=merged_data.append(add_data)\n",
    "    "
   ]
  },
  {
   "cell_type": "code",
   "execution_count": 20,
   "id": "41058818",
   "metadata": {},
   "outputs": [],
   "source": [
    "merged_data.reset_index(inplace=True,drop=True)\n",
    "# merged_data.to_csv(\"BERT_prod_tags_v2_mergedkeys.csv\")\n",
    "merged_data.to_csv(\"production_tags_JD_mergedkeys.csv\",index=False)"
   ]
  },
  {
   "cell_type": "code",
   "execution_count": null,
   "id": "9ebe898b",
   "metadata": {},
   "outputs": [],
   "source": []
  }
 ],
 "metadata": {
  "kernelspec": {
   "display_name": "Python 3",
   "language": "python",
   "name": "python3"
  },
  "language_info": {
   "codemirror_mode": {
    "name": "ipython",
    "version": 3
   },
   "file_extension": ".py",
   "mimetype": "text/x-python",
   "name": "python",
   "nbconvert_exporter": "python",
   "pygments_lexer": "ipython3",
   "version": "3.8.5"
  }
 },
 "nbformat": 4,
 "nbformat_minor": 5
}
