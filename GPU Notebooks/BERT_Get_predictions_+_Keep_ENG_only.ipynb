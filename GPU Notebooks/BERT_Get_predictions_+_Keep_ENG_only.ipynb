{
 "cells": [
  {
   "cell_type": "code",
   "execution_count": 1,
   "metadata": {
    "colab": {
     "base_uri": "https://localhost:8080/",
     "height": 1000
    },
    "id": "ie6GGNYNXIc4",
    "outputId": "a3c805f5-d5f4-4531-e2a2-e1851bfd2e4c"
   },
   "outputs": [
    {
     "name": "stdout",
     "output_type": "stream",
     "text": [
      "Requirement already satisfied: simpletransformers in /home/slintel/bert/lib/python3.6/site-packages (0.61.7)\n",
      "Requirement already satisfied: scipy in /home/slintel/bert/lib/python3.6/site-packages (from simpletransformers) (1.5.4)\n",
      "Requirement already satisfied: sentencepiece in /home/slintel/bert/lib/python3.6/site-packages (from simpletransformers) (0.1.96)\n",
      "Requirement already satisfied: regex in /home/slintel/bert/lib/python3.6/site-packages (from simpletransformers) (2021.4.4)\n",
      "Requirement already satisfied: wandb>=0.10.32 in /home/slintel/bert/lib/python3.6/site-packages (from simpletransformers) (0.10.32)\n",
      "Requirement already satisfied: pandas in /home/slintel/bert/lib/python3.6/site-packages (from simpletransformers) (1.1.5)\n",
      "Requirement already satisfied: tokenizers in /home/slintel/bert/lib/python3.6/site-packages (from simpletransformers) (0.10.3)\n",
      "Requirement already satisfied: datasets in /home/slintel/bert/lib/python3.6/site-packages (from simpletransformers) (1.8.0)\n",
      "Requirement already satisfied: scikit-learn in /home/slintel/bert/lib/python3.6/site-packages (from simpletransformers) (0.24.2)\n",
      "Requirement already satisfied: tqdm>=4.47.0 in /home/slintel/bert/lib/python3.6/site-packages (from simpletransformers) (4.49.0)\n",
      "Requirement already satisfied: tensorboardx in /home/slintel/bert/lib/python3.6/site-packages (from simpletransformers) (2.2)\n",
      "Requirement already satisfied: streamlit in /home/slintel/bert/lib/python3.6/site-packages (from simpletransformers) (0.83.0)\n",
      "Requirement already satisfied: seqeval in /home/slintel/bert/lib/python3.6/site-packages (from simpletransformers) (1.2.2)\n",
      "Requirement already satisfied: numpy in /home/slintel/bert/lib/python3.6/site-packages (from simpletransformers) (1.19.5)\n",
      "Requirement already satisfied: requests in /home/slintel/bert/lib/python3.6/site-packages (from simpletransformers) (2.25.1)\n",
      "Requirement already satisfied: transformers>=4.2.0 in /home/slintel/bert/lib/python3.6/site-packages (from simpletransformers) (4.7.0)\n",
      "Requirement already satisfied: dataclasses in /home/slintel/bert/lib/python3.6/site-packages (from transformers>=4.2.0->simpletransformers) (0.8)\n",
      "Requirement already satisfied: filelock in /home/slintel/bert/lib/python3.6/site-packages (from transformers>=4.2.0->simpletransformers) (3.0.12)\n",
      "Requirement already satisfied: packaging in /home/slintel/bert/lib/python3.6/site-packages (from transformers>=4.2.0->simpletransformers) (20.9)\n",
      "Requirement already satisfied: importlib-metadata in /home/slintel/bert/lib/python3.6/site-packages (from transformers>=4.2.0->simpletransformers) (4.5.0)\n",
      "Requirement already satisfied: huggingface-hub==0.0.8 in /home/slintel/bert/lib/python3.6/site-packages (from transformers>=4.2.0->simpletransformers) (0.0.8)\n",
      "Requirement already satisfied: pyyaml in /home/slintel/bert/lib/python3.6/site-packages (from transformers>=4.2.0->simpletransformers) (5.4.1)\n",
      "Requirement already satisfied: sacremoses in /home/slintel/bert/lib/python3.6/site-packages (from transformers>=4.2.0->simpletransformers) (0.0.45)\n",
      "Requirement already satisfied: pathtools in /home/slintel/bert/lib/python3.6/site-packages (from wandb>=0.10.32->simpletransformers) (0.1.2)\n",
      "Requirement already satisfied: python-dateutil>=2.6.1 in /home/slintel/bert/lib/python3.6/site-packages (from wandb>=0.10.32->simpletransformers) (2.8.1)\n",
      "Requirement already satisfied: GitPython>=1.0.0 in /home/slintel/bert/lib/python3.6/site-packages (from wandb>=0.10.32->simpletransformers) (3.1.18)\n",
      "Requirement already satisfied: Click!=8.0.0,>=7.0 in /home/slintel/bert/lib/python3.6/site-packages (from wandb>=0.10.32->simpletransformers) (7.1.2)\n",
      "Requirement already satisfied: subprocess32>=3.5.3 in /home/slintel/bert/lib/python3.6/site-packages (from wandb>=0.10.32->simpletransformers) (3.5.4)\n",
      "Requirement already satisfied: protobuf>=3.12.0 in /home/slintel/bert/lib/python3.6/site-packages (from wandb>=0.10.32->simpletransformers) (3.17.3)\n",
      "Requirement already satisfied: docker-pycreds>=0.4.0 in /home/slintel/bert/lib/python3.6/site-packages (from wandb>=0.10.32->simpletransformers) (0.4.0)\n",
      "Requirement already satisfied: configparser>=3.8.1 in /home/slintel/bert/lib/python3.6/site-packages (from wandb>=0.10.32->simpletransformers) (5.0.2)\n",
      "Requirement already satisfied: promise<3,>=2.0 in /home/slintel/bert/lib/python3.6/site-packages (from wandb>=0.10.32->simpletransformers) (2.3)\n",
      "Requirement already satisfied: psutil>=5.0.0 in /home/slintel/bert/lib/python3.6/site-packages (from wandb>=0.10.32->simpletransformers) (5.8.0)\n",
      "Requirement already satisfied: shortuuid>=0.5.0 in /home/slintel/bert/lib/python3.6/site-packages (from wandb>=0.10.32->simpletransformers) (1.0.1)\n",
      "Requirement already satisfied: sentry-sdk>=0.4.0 in /home/slintel/bert/lib/python3.6/site-packages (from wandb>=0.10.32->simpletransformers) (1.1.0)\n",
      "Requirement already satisfied: six>=1.13.0 in /home/slintel/bert/lib/python3.6/site-packages (from wandb>=0.10.32->simpletransformers) (1.15.0)\n",
      "Requirement already satisfied: typing-extensions>=3.7.4.0 in /home/slintel/bert/lib/python3.6/site-packages (from GitPython>=1.0.0->wandb>=0.10.32->simpletransformers) (3.7.4.3)\n",
      "Requirement already satisfied: gitdb<5,>=4.0.1 in /home/slintel/bert/lib/python3.6/site-packages (from GitPython>=1.0.0->wandb>=0.10.32->simpletransformers) (4.0.7)\n",
      "Requirement already satisfied: smmap<5,>=3.0.1 in /home/slintel/bert/lib/python3.6/site-packages (from gitdb<5,>=4.0.1->GitPython>=1.0.0->wandb>=0.10.32->simpletransformers) (4.0.0)\n",
      "Requirement already satisfied: idna<3,>=2.5 in /home/slintel/bert/lib/python3.6/site-packages (from requests->simpletransformers) (2.10)\n",
      "Requirement already satisfied: chardet<5,>=3.0.2 in /home/slintel/bert/lib/python3.6/site-packages (from requests->simpletransformers) (4.0.0)\n",
      "Requirement already satisfied: certifi>=2017.4.17 in /home/slintel/bert/lib/python3.6/site-packages (from requests->simpletransformers) (2021.5.30)\n",
      "Requirement already satisfied: urllib3<1.27,>=1.21.1 in /home/slintel/bert/lib/python3.6/site-packages (from requests->simpletransformers) (1.26.5)\n",
      "Requirement already satisfied: fsspec in /home/slintel/bert/lib/python3.6/site-packages (from datasets->simpletransformers) (2021.6.0)\n",
      "Requirement already satisfied: multiprocess in /home/slintel/bert/lib/python3.6/site-packages (from datasets->simpletransformers) (0.70.12.2)\n",
      "Requirement already satisfied: pyarrow<4.0.0,>=1.0.0 in /home/slintel/bert/lib/python3.6/site-packages (from datasets->simpletransformers) (3.0.0)\n",
      "Requirement already satisfied: xxhash in /home/slintel/bert/lib/python3.6/site-packages (from datasets->simpletransformers) (2.0.2)\n",
      "Requirement already satisfied: dill in /home/slintel/bert/lib/python3.6/site-packages (from datasets->simpletransformers) (0.3.4)\n",
      "Requirement already satisfied: zipp>=0.5 in /home/slintel/bert/lib/python3.6/site-packages (from importlib-metadata->transformers>=4.2.0->simpletransformers) (3.4.1)\n",
      "Requirement already satisfied: pyparsing>=2.0.2 in /home/slintel/bert/lib/python3.6/site-packages (from packaging->transformers>=4.2.0->simpletransformers) (2.4.7)\n",
      "Requirement already satisfied: pytz>=2017.2 in /home/slintel/bert/lib/python3.6/site-packages (from pandas->simpletransformers) (2021.1)\n",
      "Requirement already satisfied: joblib in /home/slintel/bert/lib/python3.6/site-packages (from sacremoses->transformers>=4.2.0->simpletransformers) (1.0.1)\n",
      "Requirement already satisfied: threadpoolctl>=2.0.0 in /home/slintel/bert/lib/python3.6/site-packages (from scikit-learn->simpletransformers) (2.1.0)\n",
      "Requirement already satisfied: toml in /home/slintel/bert/lib/python3.6/site-packages (from streamlit->simpletransformers) (0.10.2)\n",
      "Requirement already satisfied: validators in /home/slintel/bert/lib/python3.6/site-packages (from streamlit->simpletransformers) (0.18.2)\n",
      "Requirement already satisfied: blinker in /home/slintel/bert/lib/python3.6/site-packages (from streamlit->simpletransformers) (1.4)\n",
      "Requirement already satisfied: tornado>=5.0 in /home/slintel/bert/lib/python3.6/site-packages (from streamlit->simpletransformers) (6.1)\n",
      "Requirement already satisfied: cachetools>=4.0 in /home/slintel/bert/lib/python3.6/site-packages (from streamlit->simpletransformers) (4.2.2)\n",
      "Requirement already satisfied: tzlocal in /home/slintel/bert/lib/python3.6/site-packages (from streamlit->simpletransformers) (2.1)\n",
      "Requirement already satisfied: base58 in /home/slintel/bert/lib/python3.6/site-packages (from streamlit->simpletransformers) (2.1.0)\n",
      "Requirement already satisfied: watchdog in /home/slintel/bert/lib/python3.6/site-packages (from streamlit->simpletransformers) (2.1.2)\n",
      "Requirement already satisfied: pydeck>=0.1.dev5 in /home/slintel/bert/lib/python3.6/site-packages (from streamlit->simpletransformers) (0.6.2)\n",
      "Requirement already satisfied: pillow>=6.2.0 in /home/slintel/bert/lib/python3.6/site-packages (from streamlit->simpletransformers) (8.2.0)\n",
      "Requirement already satisfied: astor in /home/slintel/bert/lib/python3.6/site-packages (from streamlit->simpletransformers) (0.8.1)\n",
      "Requirement already satisfied: altair>=3.2.0 in /home/slintel/bert/lib/python3.6/site-packages (from streamlit->simpletransformers) (4.1.0)\n",
      "Requirement already satisfied: toolz in /home/slintel/bert/lib/python3.6/site-packages (from altair>=3.2.0->streamlit->simpletransformers) (0.11.1)\n",
      "Requirement already satisfied: jinja2 in /home/slintel/bert/lib/python3.6/site-packages (from altair>=3.2.0->streamlit->simpletransformers) (3.0.1)\n",
      "Requirement already satisfied: entrypoints in /home/slintel/bert/lib/python3.6/site-packages (from altair>=3.2.0->streamlit->simpletransformers) (0.3)\n",
      "Requirement already satisfied: jsonschema in /home/slintel/bert/lib/python3.6/site-packages (from altair>=3.2.0->streamlit->simpletransformers) (3.2.0)\n"
     ]
    },
    {
     "name": "stdout",
     "output_type": "stream",
     "text": [
      "Requirement already satisfied: ipykernel>=5.1.2 in /home/slintel/bert/lib/python3.6/site-packages (from pydeck>=0.1.dev5->streamlit->simpletransformers) (5.5.5)\n",
      "Requirement already satisfied: traitlets>=4.3.2 in /home/slintel/bert/lib/python3.6/site-packages (from pydeck>=0.1.dev5->streamlit->simpletransformers) (4.3.3)\n",
      "Requirement already satisfied: ipywidgets>=7.0.0 in /home/slintel/bert/lib/python3.6/site-packages (from pydeck>=0.1.dev5->streamlit->simpletransformers) (7.6.3)\n",
      "Requirement already satisfied: jupyter-client in /home/slintel/bert/lib/python3.6/site-packages (from ipykernel>=5.1.2->pydeck>=0.1.dev5->streamlit->simpletransformers) (6.1.12)\n",
      "Requirement already satisfied: ipython>=5.0.0 in /home/slintel/bert/lib/python3.6/site-packages (from ipykernel>=5.1.2->pydeck>=0.1.dev5->streamlit->simpletransformers) (7.16.1)\n",
      "Requirement already satisfied: pexpect in /home/slintel/bert/lib/python3.6/site-packages (from ipython>=5.0.0->ipykernel>=5.1.2->pydeck>=0.1.dev5->streamlit->simpletransformers) (4.8.0)\n",
      "Requirement already satisfied: pickleshare in /home/slintel/bert/lib/python3.6/site-packages (from ipython>=5.0.0->ipykernel>=5.1.2->pydeck>=0.1.dev5->streamlit->simpletransformers) (0.7.5)\n",
      "Requirement already satisfied: setuptools>=18.5 in /home/slintel/bert/lib/python3.6/site-packages (from ipython>=5.0.0->ipykernel>=5.1.2->pydeck>=0.1.dev5->streamlit->simpletransformers) (57.0.0)\n",
      "Requirement already satisfied: backcall in /home/slintel/bert/lib/python3.6/site-packages (from ipython>=5.0.0->ipykernel>=5.1.2->pydeck>=0.1.dev5->streamlit->simpletransformers) (0.2.0)\n",
      "Requirement already satisfied: pygments in /home/slintel/bert/lib/python3.6/site-packages (from ipython>=5.0.0->ipykernel>=5.1.2->pydeck>=0.1.dev5->streamlit->simpletransformers) (2.9.0)\n",
      "Requirement already satisfied: decorator in /home/slintel/bert/lib/python3.6/site-packages (from ipython>=5.0.0->ipykernel>=5.1.2->pydeck>=0.1.dev5->streamlit->simpletransformers) (5.0.9)\n",
      "Requirement already satisfied: prompt-toolkit!=3.0.0,!=3.0.1,<3.1.0,>=2.0.0 in /home/slintel/bert/lib/python3.6/site-packages (from ipython>=5.0.0->ipykernel>=5.1.2->pydeck>=0.1.dev5->streamlit->simpletransformers) (3.0.19)\n",
      "Requirement already satisfied: jedi>=0.10 in /home/slintel/bert/lib/python3.6/site-packages (from ipython>=5.0.0->ipykernel>=5.1.2->pydeck>=0.1.dev5->streamlit->simpletransformers) (0.18.0)\n",
      "Requirement already satisfied: jupyterlab-widgets>=1.0.0 in /home/slintel/bert/lib/python3.6/site-packages (from ipywidgets>=7.0.0->pydeck>=0.1.dev5->streamlit->simpletransformers) (1.0.0)\n",
      "Requirement already satisfied: nbformat>=4.2.0 in /home/slintel/bert/lib/python3.6/site-packages (from ipywidgets>=7.0.0->pydeck>=0.1.dev5->streamlit->simpletransformers) (5.1.3)\n",
      "Requirement already satisfied: widgetsnbextension~=3.5.0 in /home/slintel/bert/lib/python3.6/site-packages (from ipywidgets>=7.0.0->pydeck>=0.1.dev5->streamlit->simpletransformers) (3.5.1)\n",
      "Requirement already satisfied: parso<0.9.0,>=0.8.0 in /home/slintel/bert/lib/python3.6/site-packages (from jedi>=0.10->ipython>=5.0.0->ipykernel>=5.1.2->pydeck>=0.1.dev5->streamlit->simpletransformers) (0.8.2)\n",
      "Requirement already satisfied: MarkupSafe>=2.0 in /home/slintel/bert/lib/python3.6/site-packages (from jinja2->altair>=3.2.0->streamlit->simpletransformers) (2.0.1)\n",
      "Requirement already satisfied: ipython-genutils in /home/slintel/bert/lib/python3.6/site-packages (from nbformat>=4.2.0->ipywidgets>=7.0.0->pydeck>=0.1.dev5->streamlit->simpletransformers) (0.2.0)\n",
      "Requirement already satisfied: jupyter-core in /home/slintel/bert/lib/python3.6/site-packages (from nbformat>=4.2.0->ipywidgets>=7.0.0->pydeck>=0.1.dev5->streamlit->simpletransformers) (4.7.1)\n",
      "Requirement already satisfied: attrs>=17.4.0 in /home/slintel/bert/lib/python3.6/site-packages (from jsonschema->altair>=3.2.0->streamlit->simpletransformers) (21.2.0)\n",
      "Requirement already satisfied: pyrsistent>=0.14.0 in /home/slintel/bert/lib/python3.6/site-packages (from jsonschema->altair>=3.2.0->streamlit->simpletransformers) (0.17.3)\n",
      "Requirement already satisfied: wcwidth in /home/slintel/bert/lib/python3.6/site-packages (from prompt-toolkit!=3.0.0,!=3.0.1,<3.1.0,>=2.0.0->ipython>=5.0.0->ipykernel>=5.1.2->pydeck>=0.1.dev5->streamlit->simpletransformers) (0.2.5)\n",
      "Requirement already satisfied: notebook>=4.4.1 in /home/slintel/bert/lib/python3.6/site-packages (from widgetsnbextension~=3.5.0->ipywidgets>=7.0.0->pydeck>=0.1.dev5->streamlit->simpletransformers) (6.4.0)\n",
      "Requirement already satisfied: terminado>=0.8.3 in /home/slintel/bert/lib/python3.6/site-packages (from notebook>=4.4.1->widgetsnbextension~=3.5.0->ipywidgets>=7.0.0->pydeck>=0.1.dev5->streamlit->simpletransformers) (0.10.1)\n",
      "Requirement already satisfied: pyzmq>=17 in /home/slintel/bert/lib/python3.6/site-packages (from notebook>=4.4.1->widgetsnbextension~=3.5.0->ipywidgets>=7.0.0->pydeck>=0.1.dev5->streamlit->simpletransformers) (22.1.0)\n",
      "Requirement already satisfied: prometheus-client in /home/slintel/bert/lib/python3.6/site-packages (from notebook>=4.4.1->widgetsnbextension~=3.5.0->ipywidgets>=7.0.0->pydeck>=0.1.dev5->streamlit->simpletransformers) (0.11.0)\n",
      "Requirement already satisfied: nbconvert in /home/slintel/bert/lib/python3.6/site-packages (from notebook>=4.4.1->widgetsnbextension~=3.5.0->ipywidgets>=7.0.0->pydeck>=0.1.dev5->streamlit->simpletransformers) (6.0.7)\n",
      "Requirement already satisfied: Send2Trash>=1.5.0 in /home/slintel/bert/lib/python3.6/site-packages (from notebook>=4.4.1->widgetsnbextension~=3.5.0->ipywidgets>=7.0.0->pydeck>=0.1.dev5->streamlit->simpletransformers) (1.5.0)\n",
      "Requirement already satisfied: argon2-cffi in /home/slintel/bert/lib/python3.6/site-packages (from notebook>=4.4.1->widgetsnbextension~=3.5.0->ipywidgets>=7.0.0->pydeck>=0.1.dev5->streamlit->simpletransformers) (20.1.0)\n",
      "Requirement already satisfied: ptyprocess in /home/slintel/bert/lib/python3.6/site-packages (from terminado>=0.8.3->notebook>=4.4.1->widgetsnbextension~=3.5.0->ipywidgets>=7.0.0->pydeck>=0.1.dev5->streamlit->simpletransformers) (0.7.0)\n",
      "Requirement already satisfied: cffi>=1.0.0 in /home/slintel/bert/lib/python3.6/site-packages (from argon2-cffi->notebook>=4.4.1->widgetsnbextension~=3.5.0->ipywidgets>=7.0.0->pydeck>=0.1.dev5->streamlit->simpletransformers) (1.14.5)\n",
      "Requirement already satisfied: pycparser in /home/slintel/bert/lib/python3.6/site-packages (from cffi>=1.0.0->argon2-cffi->notebook>=4.4.1->widgetsnbextension~=3.5.0->ipywidgets>=7.0.0->pydeck>=0.1.dev5->streamlit->simpletransformers) (2.20)\n",
      "Requirement already satisfied: defusedxml in /home/slintel/bert/lib/python3.6/site-packages (from nbconvert->notebook>=4.4.1->widgetsnbextension~=3.5.0->ipywidgets>=7.0.0->pydeck>=0.1.dev5->streamlit->simpletransformers) (0.7.1)\n",
      "Requirement already satisfied: pandocfilters>=1.4.1 in /home/slintel/bert/lib/python3.6/site-packages (from nbconvert->notebook>=4.4.1->widgetsnbextension~=3.5.0->ipywidgets>=7.0.0->pydeck>=0.1.dev5->streamlit->simpletransformers) (1.4.3)\n",
      "Requirement already satisfied: testpath in /home/slintel/bert/lib/python3.6/site-packages (from nbconvert->notebook>=4.4.1->widgetsnbextension~=3.5.0->ipywidgets>=7.0.0->pydeck>=0.1.dev5->streamlit->simpletransformers) (0.5.0)\n",
      "Requirement already satisfied: nbclient<0.6.0,>=0.5.0 in /home/slintel/bert/lib/python3.6/site-packages (from nbconvert->notebook>=4.4.1->widgetsnbextension~=3.5.0->ipywidgets>=7.0.0->pydeck>=0.1.dev5->streamlit->simpletransformers) (0.5.3)\n",
      "Requirement already satisfied: bleach in /home/slintel/bert/lib/python3.6/site-packages (from nbconvert->notebook>=4.4.1->widgetsnbextension~=3.5.0->ipywidgets>=7.0.0->pydeck>=0.1.dev5->streamlit->simpletransformers) (3.3.0)\n",
      "Requirement already satisfied: jupyterlab-pygments in /home/slintel/bert/lib/python3.6/site-packages (from nbconvert->notebook>=4.4.1->widgetsnbextension~=3.5.0->ipywidgets>=7.0.0->pydeck>=0.1.dev5->streamlit->simpletransformers) (0.1.2)\n",
      "Requirement already satisfied: mistune<2,>=0.8.1 in /home/slintel/bert/lib/python3.6/site-packages (from nbconvert->notebook>=4.4.1->widgetsnbextension~=3.5.0->ipywidgets>=7.0.0->pydeck>=0.1.dev5->streamlit->simpletransformers) (0.8.4)\n",
      "Requirement already satisfied: nest-asyncio in /home/slintel/bert/lib/python3.6/site-packages (from nbclient<0.6.0,>=0.5.0->nbconvert->notebook>=4.4.1->widgetsnbextension~=3.5.0->ipywidgets>=7.0.0->pydeck>=0.1.dev5->streamlit->simpletransformers) (1.5.1)\n",
      "Requirement already satisfied: async-generator in /home/slintel/bert/lib/python3.6/site-packages (from nbclient<0.6.0,>=0.5.0->nbconvert->notebook>=4.4.1->widgetsnbextension~=3.5.0->ipywidgets>=7.0.0->pydeck>=0.1.dev5->streamlit->simpletransformers) (1.10)\n",
      "Requirement already satisfied: webencodings in /home/slintel/bert/lib/python3.6/site-packages (from bleach->nbconvert->notebook>=4.4.1->widgetsnbextension~=3.5.0->ipywidgets>=7.0.0->pydeck>=0.1.dev5->streamlit->simpletransformers) (0.5.1)\n"
     ]
    }
   ],
   "source": [
    "!pip install simpletransformers"
   ]
  },
  {
   "cell_type": "code",
   "execution_count": 2,
   "metadata": {
    "id": "Tgc0tPKNZaj1"
   },
   "outputs": [],
   "source": [
    "###### Loading or Saving model\n",
    "\n",
    "import torch\n",
    "#for saving or loading the model as required using PyTorch\n",
    "# torch.save(model, '/content/drive/MyDrive/model_2000_manually_ROW_WISE')\n",
    "model = torch.load('/home/slintel/bert_folder/pkl_model/model_2000_manually_ROW_WISE')\n"
   ]
  },
  {
   "cell_type": "code",
   "execution_count": 3,
   "metadata": {},
   "outputs": [],
   "source": [
    "# pip install lxml"
   ]
  },
  {
   "cell_type": "code",
   "execution_count": 4,
   "metadata": {
    "colab": {
     "base_uri": "https://localhost:8080/"
    },
    "id": "jSCuwOxi0xB8",
    "outputId": "8fb97381-d65e-46d1-e9c2-4954c8dd8557"
   },
   "outputs": [
    {
     "name": "stderr",
     "output_type": "stream",
     "text": [
      "[nltk_data] Downloading package punkt to /home/slintel/nltk_data...\n",
      "[nltk_data]   Package punkt is already up-to-date!\n"
     ]
    }
   ],
   "source": [
    "#code to clean new summaries text\n",
    "import nltk\n",
    "import re\n",
    "from bs4 import BeautifulSoup\n",
    "import numpy as np\n",
    "import pandas as pd\n",
    "\n",
    "nltk.download(\"punkt\")\n",
    "\n",
    "REPLACE_BY_SPACE_RE = re.compile('[/(){}\\[\\]\\|@,;]')\n",
    "BAD_SYMBOLS_RE = re.compile('[^0-9a-z #+_]')\n",
    "\n",
    "def clean_text(text):\n",
    "    \"\"\"\n",
    "        text: a string\n",
    "        \n",
    "        return: modified initial string\n",
    "    \"\"\"\n",
    "    text = BeautifulSoup(text, \"lxml\").text # HTML decoding\n",
    "    text = text.lower() # lowercase text\n",
    "    text = REPLACE_BY_SPACE_RE.sub(' ', text) # replace REPLACE_BY_SPACE_RE symbols by space in text\n",
    "    text = BAD_SYMBOLS_RE.sub('', text) # delete symbols which are in BAD_SYMBOLS_RE from text\n",
    "    return text\n",
    "\n"
   ]
  },
  {
   "cell_type": "code",
   "execution_count": 5,
   "metadata": {
    "id": "-nmHOm2bQRZM"
   },
   "outputs": [],
   "source": [
    "sentence = \"i am a first year full-time mba student at the university of california irvine, paul merage school of business and my focus is entrepreneurship. i worked for east japan railway company for 4 years which is the largest railway company in the world. with knowledge of finance, general management skills, negotiation strategies and my engineering background, i would like to contribute to provide products and services to national and international market players.my specialties include: anaylytical thinking, microsoft power point, microsoft excel, microsoft word, i work for accenture as management consulting manager, focusing on oil and chemical industry. i was involved in making iot strategy for plant maintenance including erp system integration and rpa implementation. with knowledge of finance, general management skills, negotiation strategies and my engineering background, i would like to contribute to provide products and services to national and international market players. my specialties include: anaylytical thinking, sap pm, meridium, rpa, microsoft power point, microsoft excel, microsoft word, i work for accenture as management consultant, focusing on oil and chemical industry. i was involved in making iot strategy for plant maintenance including erp system integration. with knowledge of finance, general management skills, negotiation strategies and my engineering background, i would like to contribute to provide products and services to national and international market players. my specialties include: anaylytical thinking, sap pm, meridium, microsoft power point, microsoft excel, microsoft word, mba candidate class of 2016, the paul merage school of business, uc irvine, accenture - management consulting manager\""
   ]
  },
  {
   "cell_type": "code",
   "execution_count": 6,
   "metadata": {
    "id": "PKAMxeYcQZHI"
   },
   "outputs": [],
   "source": [
    "sentence=clean_text(sentence)"
   ]
  },
  {
   "cell_type": "code",
   "execution_count": 7,
   "metadata": {
    "colab": {
     "base_uri": "https://localhost:8080/",
     "height": 171
    },
    "id": "XakwBp1BRJ3V",
    "outputId": "e78f970a-2ec5-44cd-b40d-736732157b98"
   },
   "outputs": [
    {
     "data": {
      "text/plain": [
       "'i am a first year fulltime mba student at the university of california irvine  paul merage school of business and my focus is entrepreneurship i worked for east japan railway company for 4 years which is the largest railway company in the world with knowledge of finance  general management skills  negotiation strategies and my engineering background  i would like to contribute to provide products and services to national and international market playersmy specialties include anaylytical thinking  microsoft power point  microsoft excel  microsoft word  i work for accenture as management consulting manager  focusing on oil and chemical industry i was involved in making iot strategy for plant maintenance including erp system integration and rpa implementation with knowledge of finance  general management skills  negotiation strategies and my engineering background  i would like to contribute to provide products and services to national and international market players my specialties include anaylytical thinking  sap pm  meridium  rpa  microsoft power point  microsoft excel  microsoft word  i work for accenture as management consultant  focusing on oil and chemical industry i was involved in making iot strategy for plant maintenance including erp system integration with knowledge of finance  general management skills  negotiation strategies and my engineering background  i would like to contribute to provide products and services to national and international market players my specialties include anaylytical thinking  sap pm  meridium  microsoft power point  microsoft excel  microsoft word  mba candidate class of 2016  the paul merage school of business  uc irvine  accenture  management consulting manager'"
      ]
     },
     "execution_count": 7,
     "metadata": {},
     "output_type": "execute_result"
    }
   ],
   "source": [
    "sentence"
   ]
  },
  {
   "cell_type": "code",
   "execution_count": 8,
   "metadata": {
    "colab": {
     "base_uri": "https://localhost:8080/",
     "height": 171
    },
    "id": "HyX5nUINRDXH",
    "outputId": "e81bb49a-59a4-4e3e-8ca2-55be38329d55"
   },
   "outputs": [
    {
     "data": {
      "text/plain": [
       "'i am a first year fulltime mba student at the university of california irvine paul merage school of business and my focus is entrepreneurship i worked for east japan railway company for 4 years which is the largest railway company in the world with knowledge of finance general management skills negotiation strategies and my engineering background i would like to contribute to provide products and services to national and international market playersmy specialties include anaylytical thinking microsoft power point microsoft excel microsoft word i work for accenture as management consulting manager focusing on oil and chemical industry i was involved in making iot strategy for plant maintenance including erp system integration and rpa implementation with knowledge of finance general management skills negotiation strategies and my engineering background i would like to contribute to provide products and services to national and international market players my specialties include anaylytical thinking sap pm meridium rpa microsoft power point microsoft excel microsoft word i work for accenture as management consultant focusing on oil and chemical industry i was involved in making iot strategy for plant maintenance including erp system integration with knowledge of finance general management skills negotiation strategies and my engineering background i would like to contribute to provide products and services to national and international market players my specialties include anaylytical thinking sap pm meridium microsoft power point microsoft excel microsoft word mba candidate class of 2016 the paul merage school of business uc irvine accenture management consulting manager'"
      ]
     },
     "execution_count": 8,
     "metadata": {},
     "output_type": "execute_result"
    }
   ],
   "source": [
    "sentence=' '.join(sentence.split())\n",
    "sentence"
   ]
  },
  {
   "cell_type": "code",
   "execution_count": 9,
   "metadata": {
    "id": "4GJ3I5KmTH_3"
   },
   "outputs": [],
   "source": [
    "def get_sen(sentence):\n",
    "  pred_data,model_output=model.predict([sentence])\n",
    "  df=pd.DataFrame(pred_data)\n",
    "  df=df.transpose()\n",
    "  df.columns=['AA']\n",
    "  df['AA']=df['AA'].astype(str)\n",
    "  df['AA']=df['AA'].str[2:-2]\n",
    "  df[['Word', 'Pred']] = df['AA'].str.split(\"': '\", 1, expand=True)\n",
    "  df=df.drop(columns='AA')\n",
    "  return df"
   ]
  },
  {
   "cell_type": "code",
   "execution_count": 10,
   "metadata": {
    "id": "YxTZFGi0ks1_"
   },
   "outputs": [],
   "source": [
    "def give_dataframe_return_list_of_TAGS(temp_data):\n",
    "  ccc=0\n",
    "  tagg_per_sent = []\n",
    "  prev_tag=\"O\"\n",
    "  string=\"\"\n",
    "  for i in range(0,len(temp_data)):\n",
    "    value=temp_data['Pred'][i]\n",
    "    key=temp_data['Word'][i]\n",
    "    if(value==\"B-ORG\"):\n",
    "      # print(key)\n",
    "      if (prev_tag==\"B-ORG\" or prev_tag==\"I-ORG\" or prev_tag==\"O\"):\n",
    "            if(len(string)>0):\n",
    "              tagg_per_sent.append(string)\n",
    "            string=key\n",
    "      prev_tag=\"B-ORG\"\n",
    "    \n",
    "    elif (value==\"I-ORG\"):\n",
    "      string+=\" \"+key\n",
    "      prev_tag=\"I-ORG\"\n",
    "      ccc+=1\n",
    "    else:\n",
    "      if(len(string)>0):\n",
    "          tagg_per_sent.append(string)\n",
    "      string=\"\"\n",
    "      prev_tag=\"O\"\n",
    "    if(len(string)>0):\n",
    "        tagg_per_sent.append(string)\n",
    "  # if(ccc>=1):\n",
    "  #   print(\"i-org-count\",ccc)\n",
    "  return tagg_per_sent"
   ]
  },
  {
   "cell_type": "code",
   "execution_count": 11,
   "metadata": {
    "colab": {
     "base_uri": "https://localhost:8080/",
     "height": 311,
     "referenced_widgets": [
      "5dd38f37c4f6476599c9c6f1f5961fed",
      "cb1eb63280404460a1db2a1b6823be57",
      "45f7bad4230643398453ee47044360da",
      "a570da32cb4a4857a7a674d3c73b3e9d",
      "458fc97a32f34f95b100bf4ae0ac37e8",
      "b96fcb9f9b564c088c98b1362c250673",
      "a7f4c2c8ed15434abaac1478a1b46875",
      "e03cff39421945f3ae859dc720aaaca0",
      "0ea6a340c42e435b8bce794ce0eab9da",
      "c0355198ffc44527a614c54e90a0959e",
      "8f61edb7190645e4bd727ea611aafcd0",
      "ce5131e282df4877bae5fd458c1cd868",
      "ffd3232f059b403498d8bb8283df5d05",
      "ef5044fff71246e58aa9c71593694b81",
      "f20e7e614c5c4e5583451a3ac4572f93",
      "07a0ae943cc24f1dad3ae0bf648c1477",
      "00890db8c28d4bc4ad9173e50f30351b",
      "6ced19bfdbca4ba085aae592ce260aa1",
      "8bfe3dd59643439e9d6190b42d6fde3e",
      "1e039ca9fda349c48e6bc25efb9b2321",
      "7742a2ae77414706abbdbe10db9cfc7b",
      "c2b20efb9f274edca3e3a7ca87c6d1c7",
      "156b6a7b6c534b1c9e64eb05655dff57",
      "9160c8120f654e84bdfb23d22dbb5398",
      "c620d270b5334853a048d0cbafc7cdb8",
      "fb8c0910c822438d80d2f9ab5c2b6bdd",
      "a868412a03e84038b43f3fff10145c0a",
      "b530ca0796424dd1829be3b941ed3a33",
      "ad37b42eec2f41d6ac6c0987e6a27a80",
      "4b3fb5477ffd4939b918a03d237d280d",
      "8e4a2ebc722e4d9785310783275e84dc",
      "609978ee57ab4a3da78e69ca09eed856",
      "c9eb0b805f0f4f88873c0876c678b420",
      "52f0d7f096504bf4bbc11b8da5cc379d",
      "c632d9211dea4d6f9b3627105ef33d3b",
      "b81c0ec2edba4cd89f1a3c342bec2c7b",
      "2c0f33291db84297ac9f704e321ef154",
      "907337d4b1994147ac93a08cb4eb1d92",
      "21f420f35ad142c89fbb99ced8e14375",
      "05160713f9cf408599e8e6bbf0116185",
      "404eec96a02e48ae9d70fc6710043638",
      "fbdd62b56d6c43c28e7b81b4ce2e2870",
      "cb79bc28bbe64e2ca583d294b686084a",
      "d53fbdc5a88b4eb4b70ace888a97090b",
      "d5c6c9076b2d4cbcb133bb705578d286",
      "743151bee74e4e1d807d3ba2ab570028",
      "be6ffa220faf4e38a0152c2f6613fd3a",
      "26b3b7bc11224bf28a63bc82fa7abb47"
     ]
    },
    "id": "aFs9efCbSz3H",
    "outputId": "b816ed9f-091c-4bf3-b078-42d4544db83c"
   },
   "outputs": [
    {
     "data": {
      "application/vnd.jupyter.widget-view+json": {
       "model_id": "1cc66321ccac42d1a5f4660000bc0e69",
       "version_major": 2,
       "version_minor": 0
      },
      "text/plain": [
       "HBox(children=(FloatProgress(value=0.0, max=1.0), HTML(value='')))"
      ]
     },
     "metadata": {},
     "output_type": "display_data"
    },
    {
     "name": "stdout",
     "output_type": "stream",
     "text": [
      "\n"
     ]
    },
    {
     "data": {
      "application/vnd.jupyter.widget-view+json": {
       "model_id": "3753a313d65146628cde0857ccc93fe8",
       "version_major": 2,
       "version_minor": 0
      },
      "text/plain": [
       "HBox(children=(FloatProgress(value=0.0, description='Running Prediction', max=1.0, style=ProgressStyle(descrip…"
      ]
     },
     "metadata": {},
     "output_type": "display_data"
    },
    {
     "name": "stdout",
     "output_type": "stream",
     "text": [
      "\n"
     ]
    },
    {
     "data": {
      "application/vnd.jupyter.widget-view+json": {
       "model_id": "dadad10ab3ee4670b3080bb6aa93acee",
       "version_major": 2,
       "version_minor": 0
      },
      "text/plain": [
       "HBox(children=(FloatProgress(value=0.0, max=1.0), HTML(value='')))"
      ]
     },
     "metadata": {},
     "output_type": "display_data"
    },
    {
     "name": "stdout",
     "output_type": "stream",
     "text": [
      "\n"
     ]
    },
    {
     "data": {
      "application/vnd.jupyter.widget-view+json": {
       "model_id": "588a5f33c22f400480c1c6ce16d6eac4",
       "version_major": 2,
       "version_minor": 0
      },
      "text/plain": [
       "HBox(children=(FloatProgress(value=0.0, description='Running Prediction', max=1.0, style=ProgressStyle(descrip…"
      ]
     },
     "metadata": {},
     "output_type": "display_data"
    },
    {
     "name": "stdout",
     "output_type": "stream",
     "text": [
      "\n"
     ]
    },
    {
     "data": {
      "application/vnd.jupyter.widget-view+json": {
       "model_id": "00f88390e8cf4a91a527167c019e05a0",
       "version_major": 2,
       "version_minor": 0
      },
      "text/plain": [
       "HBox(children=(FloatProgress(value=0.0, max=1.0), HTML(value='')))"
      ]
     },
     "metadata": {},
     "output_type": "display_data"
    },
    {
     "name": "stdout",
     "output_type": "stream",
     "text": [
      "\n"
     ]
    },
    {
     "data": {
      "application/vnd.jupyter.widget-view+json": {
       "model_id": "66eb268a7c904a05ab10526c46162a21",
       "version_major": 2,
       "version_minor": 0
      },
      "text/plain": [
       "HBox(children=(FloatProgress(value=0.0, description='Running Prediction', max=1.0, style=ProgressStyle(descrip…"
      ]
     },
     "metadata": {},
     "output_type": "display_data"
    },
    {
     "name": "stdout",
     "output_type": "stream",
     "text": [
      "\n"
     ]
    }
   ],
   "source": [
    "length_shouldbe = len(sentence) #no of characters\n",
    "temp_data=get_sen(sentence) \n",
    "len_till_now = temp_data['Word'].str.len().sum()+1+len(temp_data)\n",
    "\n",
    "while (len_till_now<length_shouldbe):\n",
    "  aaa = get_sen(sentence[len_till_now:])\n",
    "  kkk = temp_data.append(aaa)\n",
    "  temp_data = kkk.reset_index(drop=True)\n",
    "  len_till_now = temp_data['Word'].str.len().sum()+1+len(temp_data)\n",
    "  \n",
    "bert_preds=list(set(give_dataframe_return_list_of_TAGS(temp_data)))\n",
    "  "
   ]
  },
  {
   "cell_type": "code",
   "execution_count": 12,
   "metadata": {
    "colab": {
     "base_uri": "https://localhost:8080/"
    },
    "id": "jMcoK2Ap7S9u",
    "outputId": "c8d0d472-b3fc-4c91-a701-1c57c4e4f0b7"
   },
   "outputs": [
    {
     "name": "stdout",
     "output_type": "stream",
     "text": [
      "['accenture', 'microsoft word', 'microsoft', 'microsoft excel', 'microsoft power']\n"
     ]
    }
   ],
   "source": [
    "print(bert_preds) #without any removal"
   ]
  },
  {
   "cell_type": "code",
   "execution_count": 13,
   "metadata": {
    "id": "xAE8lZCxZE2m"
   },
   "outputs": [],
   "source": [
    "eng_data = pd.read_csv(\"/home/slintel/bert_folder/dataset/Eng_pydictionary_2.csv\")\n",
    "eng_data=eng_data.drop(columns=\"Unnamed: 0\")\n",
    "eng_data[\"English_word\"]=eng_data[\"English_word\"].apply(clean_text)\n",
    "eng_dict = {}\n",
    "for j in eng_data[\"English_word\"]:\n",
    "    if j not in eng_dict:\n",
    "        eng_dict[j] = 1\n",
    "    else:\n",
    "        eng_dict[j] += 1\n",
    "eng_list=[]\n",
    "for i in eng_dict:\n",
    "    eng_list.append(i)"
   ]
  },
  {
   "cell_type": "code",
   "execution_count": 14,
   "metadata": {
    "colab": {
     "base_uri": "https://localhost:8080/"
    },
    "id": "S6W3biyyY4mS",
    "outputId": "1ce225ab-8dc9-4815-86f3-70ac3711c6c5"
   },
   "outputs": [
    {
     "name": "stdout",
     "output_type": "stream",
     "text": [
      "Eng_BERT_PREDS: []\n"
     ]
    }
   ],
   "source": [
    "# (all entries which are in eng dictionary)\n",
    "eng_bert_tags=[]\n",
    "removed=0\n",
    "kept=0\n",
    "\n",
    "eng_bert_tags=[]\n",
    "tags= bert_preds\n",
    "for j in tags:\n",
    "    if j in eng_list:\n",
    "        kept+=1\n",
    "        eng_bert_tags.append(j)\n",
    "    else:\n",
    "        removed+=1\n",
    "\n",
    "print(\"Eng_BERT_PREDS:\",eng_bert_tags)"
   ]
  },
  {
   "cell_type": "code",
   "execution_count": null,
   "metadata": {
    "id": "xxtcr7SKZt8p"
   },
   "outputs": [],
   "source": []
  }
 ],
 "metadata": {
  "accelerator": "GPU",
  "colab": {
   "collapsed_sections": [],
   "name": "BERT -Get predictions + Keep ENG only.ipynb",
   "provenance": []
  },
  "kernelspec": {
   "display_name": "Python 3",
   "language": "python",
   "name": "python3"
  },
  "language_info": {
   "codemirror_mode": {
    "name": "ipython",
    "version": 3
   },
   "file_extension": ".py",
   "mimetype": "text/x-python",
   "name": "python",
   "nbconvert_exporter": "python",
   "pygments_lexer": "ipython3",
   "version": "3.6.9"
  },
  "widgets": {
   "application/vnd.jupyter.widget-state+json": {
    "00890db8c28d4bc4ad9173e50f30351b": {
     "model_module": "@jupyter-widgets/controls",
     "model_name": "HBoxModel",
     "state": {
      "_dom_classes": [],
      "_model_module": "@jupyter-widgets/controls",
      "_model_module_version": "1.5.0",
      "_model_name": "HBoxModel",
      "_view_count": null,
      "_view_module": "@jupyter-widgets/controls",
      "_view_module_version": "1.5.0",
      "_view_name": "HBoxView",
      "box_style": "",
      "children": [
       "IPY_MODEL_8bfe3dd59643439e9d6190b42d6fde3e",
       "IPY_MODEL_1e039ca9fda349c48e6bc25efb9b2321"
      ],
      "layout": "IPY_MODEL_6ced19bfdbca4ba085aae592ce260aa1"
     }
    },
    "05160713f9cf408599e8e6bbf0116185": {
     "model_module": "@jupyter-widgets/base",
     "model_name": "LayoutModel",
     "state": {
      "_model_module": "@jupyter-widgets/base",
      "_model_module_version": "1.2.0",
      "_model_name": "LayoutModel",
      "_view_count": null,
      "_view_module": "@jupyter-widgets/base",
      "_view_module_version": "1.2.0",
      "_view_name": "LayoutView",
      "align_content": null,
      "align_items": null,
      "align_self": null,
      "border": null,
      "bottom": null,
      "display": null,
      "flex": null,
      "flex_flow": null,
      "grid_area": null,
      "grid_auto_columns": null,
      "grid_auto_flow": null,
      "grid_auto_rows": null,
      "grid_column": null,
      "grid_gap": null,
      "grid_row": null,
      "grid_template_areas": null,
      "grid_template_columns": null,
      "grid_template_rows": null,
      "height": null,
      "justify_content": null,
      "justify_items": null,
      "left": null,
      "margin": null,
      "max_height": null,
      "max_width": null,
      "min_height": null,
      "min_width": null,
      "object_fit": null,
      "object_position": null,
      "order": null,
      "overflow": null,
      "overflow_x": null,
      "overflow_y": null,
      "padding": null,
      "right": null,
      "top": null,
      "visibility": null,
      "width": null
     }
    },
    "07a0ae943cc24f1dad3ae0bf648c1477": {
     "model_module": "@jupyter-widgets/base",
     "model_name": "LayoutModel",
     "state": {
      "_model_module": "@jupyter-widgets/base",
      "_model_module_version": "1.2.0",
      "_model_name": "LayoutModel",
      "_view_count": null,
      "_view_module": "@jupyter-widgets/base",
      "_view_module_version": "1.2.0",
      "_view_name": "LayoutView",
      "align_content": null,
      "align_items": null,
      "align_self": null,
      "border": null,
      "bottom": null,
      "display": null,
      "flex": null,
      "flex_flow": null,
      "grid_area": null,
      "grid_auto_columns": null,
      "grid_auto_flow": null,
      "grid_auto_rows": null,
      "grid_column": null,
      "grid_gap": null,
      "grid_row": null,
      "grid_template_areas": null,
      "grid_template_columns": null,
      "grid_template_rows": null,
      "height": null,
      "justify_content": null,
      "justify_items": null,
      "left": null,
      "margin": null,
      "max_height": null,
      "max_width": null,
      "min_height": null,
      "min_width": null,
      "object_fit": null,
      "object_position": null,
      "order": null,
      "overflow": null,
      "overflow_x": null,
      "overflow_y": null,
      "padding": null,
      "right": null,
      "top": null,
      "visibility": null,
      "width": null
     }
    },
    "0ea6a340c42e435b8bce794ce0eab9da": {
     "model_module": "@jupyter-widgets/controls",
     "model_name": "HBoxModel",
     "state": {
      "_dom_classes": [],
      "_model_module": "@jupyter-widgets/controls",
      "_model_module_version": "1.5.0",
      "_model_name": "HBoxModel",
      "_view_count": null,
      "_view_module": "@jupyter-widgets/controls",
      "_view_module_version": "1.5.0",
      "_view_name": "HBoxView",
      "box_style": "",
      "children": [
       "IPY_MODEL_8f61edb7190645e4bd727ea611aafcd0",
       "IPY_MODEL_ce5131e282df4877bae5fd458c1cd868"
      ],
      "layout": "IPY_MODEL_c0355198ffc44527a614c54e90a0959e"
     }
    },
    "156b6a7b6c534b1c9e64eb05655dff57": {
     "model_module": "@jupyter-widgets/controls",
     "model_name": "DescriptionStyleModel",
     "state": {
      "_model_module": "@jupyter-widgets/controls",
      "_model_module_version": "1.5.0",
      "_model_name": "DescriptionStyleModel",
      "_view_count": null,
      "_view_module": "@jupyter-widgets/base",
      "_view_module_version": "1.2.0",
      "_view_name": "StyleView",
      "description_width": ""
     }
    },
    "1e039ca9fda349c48e6bc25efb9b2321": {
     "model_module": "@jupyter-widgets/controls",
     "model_name": "HTMLModel",
     "state": {
      "_dom_classes": [],
      "_model_module": "@jupyter-widgets/controls",
      "_model_module_version": "1.5.0",
      "_model_name": "HTMLModel",
      "_view_count": null,
      "_view_module": "@jupyter-widgets/controls",
      "_view_module_version": "1.5.0",
      "_view_name": "HTMLView",
      "description": "",
      "description_tooltip": null,
      "layout": "IPY_MODEL_9160c8120f654e84bdfb23d22dbb5398",
      "placeholder": "​",
      "style": "IPY_MODEL_156b6a7b6c534b1c9e64eb05655dff57",
      "value": " 1/1 [00:00&lt;00:00,  5.73it/s]"
     }
    },
    "21f420f35ad142c89fbb99ced8e14375": {
     "model_module": "@jupyter-widgets/controls",
     "model_name": "DescriptionStyleModel",
     "state": {
      "_model_module": "@jupyter-widgets/controls",
      "_model_module_version": "1.5.0",
      "_model_name": "DescriptionStyleModel",
      "_view_count": null,
      "_view_module": "@jupyter-widgets/base",
      "_view_module_version": "1.2.0",
      "_view_name": "StyleView",
      "description_width": ""
     }
    },
    "26b3b7bc11224bf28a63bc82fa7abb47": {
     "model_module": "@jupyter-widgets/base",
     "model_name": "LayoutModel",
     "state": {
      "_model_module": "@jupyter-widgets/base",
      "_model_module_version": "1.2.0",
      "_model_name": "LayoutModel",
      "_view_count": null,
      "_view_module": "@jupyter-widgets/base",
      "_view_module_version": "1.2.0",
      "_view_name": "LayoutView",
      "align_content": null,
      "align_items": null,
      "align_self": null,
      "border": null,
      "bottom": null,
      "display": null,
      "flex": null,
      "flex_flow": null,
      "grid_area": null,
      "grid_auto_columns": null,
      "grid_auto_flow": null,
      "grid_auto_rows": null,
      "grid_column": null,
      "grid_gap": null,
      "grid_row": null,
      "grid_template_areas": null,
      "grid_template_columns": null,
      "grid_template_rows": null,
      "height": null,
      "justify_content": null,
      "justify_items": null,
      "left": null,
      "margin": null,
      "max_height": null,
      "max_width": null,
      "min_height": null,
      "min_width": null,
      "object_fit": null,
      "object_position": null,
      "order": null,
      "overflow": null,
      "overflow_x": null,
      "overflow_y": null,
      "padding": null,
      "right": null,
      "top": null,
      "visibility": null,
      "width": null
     }
    },
    "2c0f33291db84297ac9f704e321ef154": {
     "model_module": "@jupyter-widgets/controls",
     "model_name": "ProgressStyleModel",
     "state": {
      "_model_module": "@jupyter-widgets/controls",
      "_model_module_version": "1.5.0",
      "_model_name": "ProgressStyleModel",
      "_view_count": null,
      "_view_module": "@jupyter-widgets/base",
      "_view_module_version": "1.2.0",
      "_view_name": "StyleView",
      "bar_color": null,
      "description_width": "initial"
     }
    },
    "404eec96a02e48ae9d70fc6710043638": {
     "model_module": "@jupyter-widgets/controls",
     "model_name": "HBoxModel",
     "state": {
      "_dom_classes": [],
      "_model_module": "@jupyter-widgets/controls",
      "_model_module_version": "1.5.0",
      "_model_name": "HBoxModel",
      "_view_count": null,
      "_view_module": "@jupyter-widgets/controls",
      "_view_module_version": "1.5.0",
      "_view_name": "HBoxView",
      "box_style": "",
      "children": [
       "IPY_MODEL_cb79bc28bbe64e2ca583d294b686084a",
       "IPY_MODEL_d53fbdc5a88b4eb4b70ace888a97090b"
      ],
      "layout": "IPY_MODEL_fbdd62b56d6c43c28e7b81b4ce2e2870"
     }
    },
    "458fc97a32f34f95b100bf4ae0ac37e8": {
     "model_module": "@jupyter-widgets/controls",
     "model_name": "ProgressStyleModel",
     "state": {
      "_model_module": "@jupyter-widgets/controls",
      "_model_module_version": "1.5.0",
      "_model_name": "ProgressStyleModel",
      "_view_count": null,
      "_view_module": "@jupyter-widgets/base",
      "_view_module_version": "1.2.0",
      "_view_name": "StyleView",
      "bar_color": null,
      "description_width": "initial"
     }
    },
    "45f7bad4230643398453ee47044360da": {
     "model_module": "@jupyter-widgets/controls",
     "model_name": "FloatProgressModel",
     "state": {
      "_dom_classes": [],
      "_model_module": "@jupyter-widgets/controls",
      "_model_module_version": "1.5.0",
      "_model_name": "FloatProgressModel",
      "_view_count": null,
      "_view_module": "@jupyter-widgets/controls",
      "_view_module_version": "1.5.0",
      "_view_name": "ProgressView",
      "bar_style": "success",
      "description": "100%",
      "description_tooltip": null,
      "layout": "IPY_MODEL_b96fcb9f9b564c088c98b1362c250673",
      "max": 1,
      "min": 0,
      "orientation": "horizontal",
      "style": "IPY_MODEL_458fc97a32f34f95b100bf4ae0ac37e8",
      "value": 1
     }
    },
    "4b3fb5477ffd4939b918a03d237d280d": {
     "model_module": "@jupyter-widgets/base",
     "model_name": "LayoutModel",
     "state": {
      "_model_module": "@jupyter-widgets/base",
      "_model_module_version": "1.2.0",
      "_model_name": "LayoutModel",
      "_view_count": null,
      "_view_module": "@jupyter-widgets/base",
      "_view_module_version": "1.2.0",
      "_view_name": "LayoutView",
      "align_content": null,
      "align_items": null,
      "align_self": null,
      "border": null,
      "bottom": null,
      "display": null,
      "flex": null,
      "flex_flow": null,
      "grid_area": null,
      "grid_auto_columns": null,
      "grid_auto_flow": null,
      "grid_auto_rows": null,
      "grid_column": null,
      "grid_gap": null,
      "grid_row": null,
      "grid_template_areas": null,
      "grid_template_columns": null,
      "grid_template_rows": null,
      "height": null,
      "justify_content": null,
      "justify_items": null,
      "left": null,
      "margin": null,
      "max_height": null,
      "max_width": null,
      "min_height": null,
      "min_width": null,
      "object_fit": null,
      "object_position": null,
      "order": null,
      "overflow": null,
      "overflow_x": null,
      "overflow_y": null,
      "padding": null,
      "right": null,
      "top": null,
      "visibility": null,
      "width": null
     }
    },
    "52f0d7f096504bf4bbc11b8da5cc379d": {
     "model_module": "@jupyter-widgets/base",
     "model_name": "LayoutModel",
     "state": {
      "_model_module": "@jupyter-widgets/base",
      "_model_module_version": "1.2.0",
      "_model_name": "LayoutModel",
      "_view_count": null,
      "_view_module": "@jupyter-widgets/base",
      "_view_module_version": "1.2.0",
      "_view_name": "LayoutView",
      "align_content": null,
      "align_items": null,
      "align_self": null,
      "border": null,
      "bottom": null,
      "display": null,
      "flex": null,
      "flex_flow": null,
      "grid_area": null,
      "grid_auto_columns": null,
      "grid_auto_flow": null,
      "grid_auto_rows": null,
      "grid_column": null,
      "grid_gap": null,
      "grid_row": null,
      "grid_template_areas": null,
      "grid_template_columns": null,
      "grid_template_rows": null,
      "height": null,
      "justify_content": null,
      "justify_items": null,
      "left": null,
      "margin": null,
      "max_height": null,
      "max_width": null,
      "min_height": null,
      "min_width": null,
      "object_fit": null,
      "object_position": null,
      "order": null,
      "overflow": null,
      "overflow_x": null,
      "overflow_y": null,
      "padding": null,
      "right": null,
      "top": null,
      "visibility": null,
      "width": null
     }
    },
    "5dd38f37c4f6476599c9c6f1f5961fed": {
     "model_module": "@jupyter-widgets/controls",
     "model_name": "HBoxModel",
     "state": {
      "_dom_classes": [],
      "_model_module": "@jupyter-widgets/controls",
      "_model_module_version": "1.5.0",
      "_model_name": "HBoxModel",
      "_view_count": null,
      "_view_module": "@jupyter-widgets/controls",
      "_view_module_version": "1.5.0",
      "_view_name": "HBoxView",
      "box_style": "",
      "children": [
       "IPY_MODEL_45f7bad4230643398453ee47044360da",
       "IPY_MODEL_a570da32cb4a4857a7a674d3c73b3e9d"
      ],
      "layout": "IPY_MODEL_cb1eb63280404460a1db2a1b6823be57"
     }
    },
    "609978ee57ab4a3da78e69ca09eed856": {
     "model_module": "@jupyter-widgets/base",
     "model_name": "LayoutModel",
     "state": {
      "_model_module": "@jupyter-widgets/base",
      "_model_module_version": "1.2.0",
      "_model_name": "LayoutModel",
      "_view_count": null,
      "_view_module": "@jupyter-widgets/base",
      "_view_module_version": "1.2.0",
      "_view_name": "LayoutView",
      "align_content": null,
      "align_items": null,
      "align_self": null,
      "border": null,
      "bottom": null,
      "display": null,
      "flex": null,
      "flex_flow": null,
      "grid_area": null,
      "grid_auto_columns": null,
      "grid_auto_flow": null,
      "grid_auto_rows": null,
      "grid_column": null,
      "grid_gap": null,
      "grid_row": null,
      "grid_template_areas": null,
      "grid_template_columns": null,
      "grid_template_rows": null,
      "height": null,
      "justify_content": null,
      "justify_items": null,
      "left": null,
      "margin": null,
      "max_height": null,
      "max_width": null,
      "min_height": null,
      "min_width": null,
      "object_fit": null,
      "object_position": null,
      "order": null,
      "overflow": null,
      "overflow_x": null,
      "overflow_y": null,
      "padding": null,
      "right": null,
      "top": null,
      "visibility": null,
      "width": null
     }
    },
    "6ced19bfdbca4ba085aae592ce260aa1": {
     "model_module": "@jupyter-widgets/base",
     "model_name": "LayoutModel",
     "state": {
      "_model_module": "@jupyter-widgets/base",
      "_model_module_version": "1.2.0",
      "_model_name": "LayoutModel",
      "_view_count": null,
      "_view_module": "@jupyter-widgets/base",
      "_view_module_version": "1.2.0",
      "_view_name": "LayoutView",
      "align_content": null,
      "align_items": null,
      "align_self": null,
      "border": null,
      "bottom": null,
      "display": null,
      "flex": null,
      "flex_flow": null,
      "grid_area": null,
      "grid_auto_columns": null,
      "grid_auto_flow": null,
      "grid_auto_rows": null,
      "grid_column": null,
      "grid_gap": null,
      "grid_row": null,
      "grid_template_areas": null,
      "grid_template_columns": null,
      "grid_template_rows": null,
      "height": null,
      "justify_content": null,
      "justify_items": null,
      "left": null,
      "margin": null,
      "max_height": null,
      "max_width": null,
      "min_height": null,
      "min_width": null,
      "object_fit": null,
      "object_position": null,
      "order": null,
      "overflow": null,
      "overflow_x": null,
      "overflow_y": null,
      "padding": null,
      "right": null,
      "top": null,
      "visibility": null,
      "width": null
     }
    },
    "743151bee74e4e1d807d3ba2ab570028": {
     "model_module": "@jupyter-widgets/base",
     "model_name": "LayoutModel",
     "state": {
      "_model_module": "@jupyter-widgets/base",
      "_model_module_version": "1.2.0",
      "_model_name": "LayoutModel",
      "_view_count": null,
      "_view_module": "@jupyter-widgets/base",
      "_view_module_version": "1.2.0",
      "_view_name": "LayoutView",
      "align_content": null,
      "align_items": null,
      "align_self": null,
      "border": null,
      "bottom": null,
      "display": null,
      "flex": null,
      "flex_flow": null,
      "grid_area": null,
      "grid_auto_columns": null,
      "grid_auto_flow": null,
      "grid_auto_rows": null,
      "grid_column": null,
      "grid_gap": null,
      "grid_row": null,
      "grid_template_areas": null,
      "grid_template_columns": null,
      "grid_template_rows": null,
      "height": null,
      "justify_content": null,
      "justify_items": null,
      "left": null,
      "margin": null,
      "max_height": null,
      "max_width": null,
      "min_height": null,
      "min_width": null,
      "object_fit": null,
      "object_position": null,
      "order": null,
      "overflow": null,
      "overflow_x": null,
      "overflow_y": null,
      "padding": null,
      "right": null,
      "top": null,
      "visibility": null,
      "width": null
     }
    },
    "7742a2ae77414706abbdbe10db9cfc7b": {
     "model_module": "@jupyter-widgets/controls",
     "model_name": "ProgressStyleModel",
     "state": {
      "_model_module": "@jupyter-widgets/controls",
      "_model_module_version": "1.5.0",
      "_model_name": "ProgressStyleModel",
      "_view_count": null,
      "_view_module": "@jupyter-widgets/base",
      "_view_module_version": "1.2.0",
      "_view_name": "StyleView",
      "bar_color": null,
      "description_width": "initial"
     }
    },
    "8bfe3dd59643439e9d6190b42d6fde3e": {
     "model_module": "@jupyter-widgets/controls",
     "model_name": "FloatProgressModel",
     "state": {
      "_dom_classes": [],
      "_model_module": "@jupyter-widgets/controls",
      "_model_module_version": "1.5.0",
      "_model_name": "FloatProgressModel",
      "_view_count": null,
      "_view_module": "@jupyter-widgets/controls",
      "_view_module_version": "1.5.0",
      "_view_name": "ProgressView",
      "bar_style": "success",
      "description": "100%",
      "description_tooltip": null,
      "layout": "IPY_MODEL_c2b20efb9f274edca3e3a7ca87c6d1c7",
      "max": 1,
      "min": 0,
      "orientation": "horizontal",
      "style": "IPY_MODEL_7742a2ae77414706abbdbe10db9cfc7b",
      "value": 1
     }
    },
    "8e4a2ebc722e4d9785310783275e84dc": {
     "model_module": "@jupyter-widgets/controls",
     "model_name": "DescriptionStyleModel",
     "state": {
      "_model_module": "@jupyter-widgets/controls",
      "_model_module_version": "1.5.0",
      "_model_name": "DescriptionStyleModel",
      "_view_count": null,
      "_view_module": "@jupyter-widgets/base",
      "_view_module_version": "1.2.0",
      "_view_name": "StyleView",
      "description_width": ""
     }
    },
    "8f61edb7190645e4bd727ea611aafcd0": {
     "model_module": "@jupyter-widgets/controls",
     "model_name": "FloatProgressModel",
     "state": {
      "_dom_classes": [],
      "_model_module": "@jupyter-widgets/controls",
      "_model_module_version": "1.5.0",
      "_model_name": "FloatProgressModel",
      "_view_count": null,
      "_view_module": "@jupyter-widgets/controls",
      "_view_module_version": "1.5.0",
      "_view_name": "ProgressView",
      "bar_style": "success",
      "description": "Running Prediction: 100%",
      "description_tooltip": null,
      "layout": "IPY_MODEL_ef5044fff71246e58aa9c71593694b81",
      "max": 1,
      "min": 0,
      "orientation": "horizontal",
      "style": "IPY_MODEL_ffd3232f059b403498d8bb8283df5d05",
      "value": 1
     }
    },
    "907337d4b1994147ac93a08cb4eb1d92": {
     "model_module": "@jupyter-widgets/base",
     "model_name": "LayoutModel",
     "state": {
      "_model_module": "@jupyter-widgets/base",
      "_model_module_version": "1.2.0",
      "_model_name": "LayoutModel",
      "_view_count": null,
      "_view_module": "@jupyter-widgets/base",
      "_view_module_version": "1.2.0",
      "_view_name": "LayoutView",
      "align_content": null,
      "align_items": null,
      "align_self": null,
      "border": null,
      "bottom": null,
      "display": null,
      "flex": null,
      "flex_flow": null,
      "grid_area": null,
      "grid_auto_columns": null,
      "grid_auto_flow": null,
      "grid_auto_rows": null,
      "grid_column": null,
      "grid_gap": null,
      "grid_row": null,
      "grid_template_areas": null,
      "grid_template_columns": null,
      "grid_template_rows": null,
      "height": null,
      "justify_content": null,
      "justify_items": null,
      "left": null,
      "margin": null,
      "max_height": null,
      "max_width": null,
      "min_height": null,
      "min_width": null,
      "object_fit": null,
      "object_position": null,
      "order": null,
      "overflow": null,
      "overflow_x": null,
      "overflow_y": null,
      "padding": null,
      "right": null,
      "top": null,
      "visibility": null,
      "width": null
     }
    },
    "9160c8120f654e84bdfb23d22dbb5398": {
     "model_module": "@jupyter-widgets/base",
     "model_name": "LayoutModel",
     "state": {
      "_model_module": "@jupyter-widgets/base",
      "_model_module_version": "1.2.0",
      "_model_name": "LayoutModel",
      "_view_count": null,
      "_view_module": "@jupyter-widgets/base",
      "_view_module_version": "1.2.0",
      "_view_name": "LayoutView",
      "align_content": null,
      "align_items": null,
      "align_self": null,
      "border": null,
      "bottom": null,
      "display": null,
      "flex": null,
      "flex_flow": null,
      "grid_area": null,
      "grid_auto_columns": null,
      "grid_auto_flow": null,
      "grid_auto_rows": null,
      "grid_column": null,
      "grid_gap": null,
      "grid_row": null,
      "grid_template_areas": null,
      "grid_template_columns": null,
      "grid_template_rows": null,
      "height": null,
      "justify_content": null,
      "justify_items": null,
      "left": null,
      "margin": null,
      "max_height": null,
      "max_width": null,
      "min_height": null,
      "min_width": null,
      "object_fit": null,
      "object_position": null,
      "order": null,
      "overflow": null,
      "overflow_x": null,
      "overflow_y": null,
      "padding": null,
      "right": null,
      "top": null,
      "visibility": null,
      "width": null
     }
    },
    "a570da32cb4a4857a7a674d3c73b3e9d": {
     "model_module": "@jupyter-widgets/controls",
     "model_name": "HTMLModel",
     "state": {
      "_dom_classes": [],
      "_model_module": "@jupyter-widgets/controls",
      "_model_module_version": "1.5.0",
      "_model_name": "HTMLModel",
      "_view_count": null,
      "_view_module": "@jupyter-widgets/controls",
      "_view_module_version": "1.5.0",
      "_view_name": "HTMLView",
      "description": "",
      "description_tooltip": null,
      "layout": "IPY_MODEL_e03cff39421945f3ae859dc720aaaca0",
      "placeholder": "​",
      "style": "IPY_MODEL_a7f4c2c8ed15434abaac1478a1b46875",
      "value": " 1/1 [01:13&lt;00:00, 73.92s/it]"
     }
    },
    "a7f4c2c8ed15434abaac1478a1b46875": {
     "model_module": "@jupyter-widgets/controls",
     "model_name": "DescriptionStyleModel",
     "state": {
      "_model_module": "@jupyter-widgets/controls",
      "_model_module_version": "1.5.0",
      "_model_name": "DescriptionStyleModel",
      "_view_count": null,
      "_view_module": "@jupyter-widgets/base",
      "_view_module_version": "1.2.0",
      "_view_name": "StyleView",
      "description_width": ""
     }
    },
    "a868412a03e84038b43f3fff10145c0a": {
     "model_module": "@jupyter-widgets/controls",
     "model_name": "FloatProgressModel",
     "state": {
      "_dom_classes": [],
      "_model_module": "@jupyter-widgets/controls",
      "_model_module_version": "1.5.0",
      "_model_name": "FloatProgressModel",
      "_view_count": null,
      "_view_module": "@jupyter-widgets/controls",
      "_view_module_version": "1.5.0",
      "_view_name": "ProgressView",
      "bar_style": "success",
      "description": "Running Prediction: 100%",
      "description_tooltip": null,
      "layout": "IPY_MODEL_4b3fb5477ffd4939b918a03d237d280d",
      "max": 1,
      "min": 0,
      "orientation": "horizontal",
      "style": "IPY_MODEL_ad37b42eec2f41d6ac6c0987e6a27a80",
      "value": 1
     }
    },
    "ad37b42eec2f41d6ac6c0987e6a27a80": {
     "model_module": "@jupyter-widgets/controls",
     "model_name": "ProgressStyleModel",
     "state": {
      "_model_module": "@jupyter-widgets/controls",
      "_model_module_version": "1.5.0",
      "_model_name": "ProgressStyleModel",
      "_view_count": null,
      "_view_module": "@jupyter-widgets/base",
      "_view_module_version": "1.2.0",
      "_view_name": "StyleView",
      "bar_color": null,
      "description_width": "initial"
     }
    },
    "b530ca0796424dd1829be3b941ed3a33": {
     "model_module": "@jupyter-widgets/controls",
     "model_name": "HTMLModel",
     "state": {
      "_dom_classes": [],
      "_model_module": "@jupyter-widgets/controls",
      "_model_module_version": "1.5.0",
      "_model_name": "HTMLModel",
      "_view_count": null,
      "_view_module": "@jupyter-widgets/controls",
      "_view_module_version": "1.5.0",
      "_view_name": "HTMLView",
      "description": "",
      "description_tooltip": null,
      "layout": "IPY_MODEL_609978ee57ab4a3da78e69ca09eed856",
      "placeholder": "​",
      "style": "IPY_MODEL_8e4a2ebc722e4d9785310783275e84dc",
      "value": " 1/1 [00:00&lt;00:00, 15.42it/s]"
     }
    },
    "b81c0ec2edba4cd89f1a3c342bec2c7b": {
     "model_module": "@jupyter-widgets/controls",
     "model_name": "HTMLModel",
     "state": {
      "_dom_classes": [],
      "_model_module": "@jupyter-widgets/controls",
      "_model_module_version": "1.5.0",
      "_model_name": "HTMLModel",
      "_view_count": null,
      "_view_module": "@jupyter-widgets/controls",
      "_view_module_version": "1.5.0",
      "_view_name": "HTMLView",
      "description": "",
      "description_tooltip": null,
      "layout": "IPY_MODEL_05160713f9cf408599e8e6bbf0116185",
      "placeholder": "​",
      "style": "IPY_MODEL_21f420f35ad142c89fbb99ced8e14375",
      "value": " 1/1 [00:02&lt;00:00,  2.51s/it]"
     }
    },
    "b96fcb9f9b564c088c98b1362c250673": {
     "model_module": "@jupyter-widgets/base",
     "model_name": "LayoutModel",
     "state": {
      "_model_module": "@jupyter-widgets/base",
      "_model_module_version": "1.2.0",
      "_model_name": "LayoutModel",
      "_view_count": null,
      "_view_module": "@jupyter-widgets/base",
      "_view_module_version": "1.2.0",
      "_view_name": "LayoutView",
      "align_content": null,
      "align_items": null,
      "align_self": null,
      "border": null,
      "bottom": null,
      "display": null,
      "flex": null,
      "flex_flow": null,
      "grid_area": null,
      "grid_auto_columns": null,
      "grid_auto_flow": null,
      "grid_auto_rows": null,
      "grid_column": null,
      "grid_gap": null,
      "grid_row": null,
      "grid_template_areas": null,
      "grid_template_columns": null,
      "grid_template_rows": null,
      "height": null,
      "justify_content": null,
      "justify_items": null,
      "left": null,
      "margin": null,
      "max_height": null,
      "max_width": null,
      "min_height": null,
      "min_width": null,
      "object_fit": null,
      "object_position": null,
      "order": null,
      "overflow": null,
      "overflow_x": null,
      "overflow_y": null,
      "padding": null,
      "right": null,
      "top": null,
      "visibility": null,
      "width": null
     }
    },
    "be6ffa220faf4e38a0152c2f6613fd3a": {
     "model_module": "@jupyter-widgets/controls",
     "model_name": "DescriptionStyleModel",
     "state": {
      "_model_module": "@jupyter-widgets/controls",
      "_model_module_version": "1.5.0",
      "_model_name": "DescriptionStyleModel",
      "_view_count": null,
      "_view_module": "@jupyter-widgets/base",
      "_view_module_version": "1.2.0",
      "_view_name": "StyleView",
      "description_width": ""
     }
    },
    "c0355198ffc44527a614c54e90a0959e": {
     "model_module": "@jupyter-widgets/base",
     "model_name": "LayoutModel",
     "state": {
      "_model_module": "@jupyter-widgets/base",
      "_model_module_version": "1.2.0",
      "_model_name": "LayoutModel",
      "_view_count": null,
      "_view_module": "@jupyter-widgets/base",
      "_view_module_version": "1.2.0",
      "_view_name": "LayoutView",
      "align_content": null,
      "align_items": null,
      "align_self": null,
      "border": null,
      "bottom": null,
      "display": null,
      "flex": null,
      "flex_flow": null,
      "grid_area": null,
      "grid_auto_columns": null,
      "grid_auto_flow": null,
      "grid_auto_rows": null,
      "grid_column": null,
      "grid_gap": null,
      "grid_row": null,
      "grid_template_areas": null,
      "grid_template_columns": null,
      "grid_template_rows": null,
      "height": null,
      "justify_content": null,
      "justify_items": null,
      "left": null,
      "margin": null,
      "max_height": null,
      "max_width": null,
      "min_height": null,
      "min_width": null,
      "object_fit": null,
      "object_position": null,
      "order": null,
      "overflow": null,
      "overflow_x": null,
      "overflow_y": null,
      "padding": null,
      "right": null,
      "top": null,
      "visibility": null,
      "width": null
     }
    },
    "c2b20efb9f274edca3e3a7ca87c6d1c7": {
     "model_module": "@jupyter-widgets/base",
     "model_name": "LayoutModel",
     "state": {
      "_model_module": "@jupyter-widgets/base",
      "_model_module_version": "1.2.0",
      "_model_name": "LayoutModel",
      "_view_count": null,
      "_view_module": "@jupyter-widgets/base",
      "_view_module_version": "1.2.0",
      "_view_name": "LayoutView",
      "align_content": null,
      "align_items": null,
      "align_self": null,
      "border": null,
      "bottom": null,
      "display": null,
      "flex": null,
      "flex_flow": null,
      "grid_area": null,
      "grid_auto_columns": null,
      "grid_auto_flow": null,
      "grid_auto_rows": null,
      "grid_column": null,
      "grid_gap": null,
      "grid_row": null,
      "grid_template_areas": null,
      "grid_template_columns": null,
      "grid_template_rows": null,
      "height": null,
      "justify_content": null,
      "justify_items": null,
      "left": null,
      "margin": null,
      "max_height": null,
      "max_width": null,
      "min_height": null,
      "min_width": null,
      "object_fit": null,
      "object_position": null,
      "order": null,
      "overflow": null,
      "overflow_x": null,
      "overflow_y": null,
      "padding": null,
      "right": null,
      "top": null,
      "visibility": null,
      "width": null
     }
    },
    "c620d270b5334853a048d0cbafc7cdb8": {
     "model_module": "@jupyter-widgets/controls",
     "model_name": "HBoxModel",
     "state": {
      "_dom_classes": [],
      "_model_module": "@jupyter-widgets/controls",
      "_model_module_version": "1.5.0",
      "_model_name": "HBoxModel",
      "_view_count": null,
      "_view_module": "@jupyter-widgets/controls",
      "_view_module_version": "1.5.0",
      "_view_name": "HBoxView",
      "box_style": "",
      "children": [
       "IPY_MODEL_a868412a03e84038b43f3fff10145c0a",
       "IPY_MODEL_b530ca0796424dd1829be3b941ed3a33"
      ],
      "layout": "IPY_MODEL_fb8c0910c822438d80d2f9ab5c2b6bdd"
     }
    },
    "c632d9211dea4d6f9b3627105ef33d3b": {
     "model_module": "@jupyter-widgets/controls",
     "model_name": "FloatProgressModel",
     "state": {
      "_dom_classes": [],
      "_model_module": "@jupyter-widgets/controls",
      "_model_module_version": "1.5.0",
      "_model_name": "FloatProgressModel",
      "_view_count": null,
      "_view_module": "@jupyter-widgets/controls",
      "_view_module_version": "1.5.0",
      "_view_name": "ProgressView",
      "bar_style": "success",
      "description": "100%",
      "description_tooltip": null,
      "layout": "IPY_MODEL_907337d4b1994147ac93a08cb4eb1d92",
      "max": 1,
      "min": 0,
      "orientation": "horizontal",
      "style": "IPY_MODEL_2c0f33291db84297ac9f704e321ef154",
      "value": 1
     }
    },
    "c9eb0b805f0f4f88873c0876c678b420": {
     "model_module": "@jupyter-widgets/controls",
     "model_name": "HBoxModel",
     "state": {
      "_dom_classes": [],
      "_model_module": "@jupyter-widgets/controls",
      "_model_module_version": "1.5.0",
      "_model_name": "HBoxModel",
      "_view_count": null,
      "_view_module": "@jupyter-widgets/controls",
      "_view_module_version": "1.5.0",
      "_view_name": "HBoxView",
      "box_style": "",
      "children": [
       "IPY_MODEL_c632d9211dea4d6f9b3627105ef33d3b",
       "IPY_MODEL_b81c0ec2edba4cd89f1a3c342bec2c7b"
      ],
      "layout": "IPY_MODEL_52f0d7f096504bf4bbc11b8da5cc379d"
     }
    },
    "cb1eb63280404460a1db2a1b6823be57": {
     "model_module": "@jupyter-widgets/base",
     "model_name": "LayoutModel",
     "state": {
      "_model_module": "@jupyter-widgets/base",
      "_model_module_version": "1.2.0",
      "_model_name": "LayoutModel",
      "_view_count": null,
      "_view_module": "@jupyter-widgets/base",
      "_view_module_version": "1.2.0",
      "_view_name": "LayoutView",
      "align_content": null,
      "align_items": null,
      "align_self": null,
      "border": null,
      "bottom": null,
      "display": null,
      "flex": null,
      "flex_flow": null,
      "grid_area": null,
      "grid_auto_columns": null,
      "grid_auto_flow": null,
      "grid_auto_rows": null,
      "grid_column": null,
      "grid_gap": null,
      "grid_row": null,
      "grid_template_areas": null,
      "grid_template_columns": null,
      "grid_template_rows": null,
      "height": null,
      "justify_content": null,
      "justify_items": null,
      "left": null,
      "margin": null,
      "max_height": null,
      "max_width": null,
      "min_height": null,
      "min_width": null,
      "object_fit": null,
      "object_position": null,
      "order": null,
      "overflow": null,
      "overflow_x": null,
      "overflow_y": null,
      "padding": null,
      "right": null,
      "top": null,
      "visibility": null,
      "width": null
     }
    },
    "cb79bc28bbe64e2ca583d294b686084a": {
     "model_module": "@jupyter-widgets/controls",
     "model_name": "FloatProgressModel",
     "state": {
      "_dom_classes": [],
      "_model_module": "@jupyter-widgets/controls",
      "_model_module_version": "1.5.0",
      "_model_name": "FloatProgressModel",
      "_view_count": null,
      "_view_module": "@jupyter-widgets/controls",
      "_view_module_version": "1.5.0",
      "_view_name": "ProgressView",
      "bar_style": "success",
      "description": "Running Prediction: 100%",
      "description_tooltip": null,
      "layout": "IPY_MODEL_743151bee74e4e1d807d3ba2ab570028",
      "max": 1,
      "min": 0,
      "orientation": "horizontal",
      "style": "IPY_MODEL_d5c6c9076b2d4cbcb133bb705578d286",
      "value": 1
     }
    },
    "ce5131e282df4877bae5fd458c1cd868": {
     "model_module": "@jupyter-widgets/controls",
     "model_name": "HTMLModel",
     "state": {
      "_dom_classes": [],
      "_model_module": "@jupyter-widgets/controls",
      "_model_module_version": "1.5.0",
      "_model_name": "HTMLModel",
      "_view_count": null,
      "_view_module": "@jupyter-widgets/controls",
      "_view_module_version": "1.5.0",
      "_view_name": "HTMLView",
      "description": "",
      "description_tooltip": null,
      "layout": "IPY_MODEL_07a0ae943cc24f1dad3ae0bf648c1477",
      "placeholder": "​",
      "style": "IPY_MODEL_f20e7e614c5c4e5583451a3ac4572f93",
      "value": " 1/1 [00:00&lt;00:00, 15.62it/s]"
     }
    },
    "d53fbdc5a88b4eb4b70ace888a97090b": {
     "model_module": "@jupyter-widgets/controls",
     "model_name": "HTMLModel",
     "state": {
      "_dom_classes": [],
      "_model_module": "@jupyter-widgets/controls",
      "_model_module_version": "1.5.0",
      "_model_name": "HTMLModel",
      "_view_count": null,
      "_view_module": "@jupyter-widgets/controls",
      "_view_module_version": "1.5.0",
      "_view_name": "HTMLView",
      "description": "",
      "description_tooltip": null,
      "layout": "IPY_MODEL_26b3b7bc11224bf28a63bc82fa7abb47",
      "placeholder": "​",
      "style": "IPY_MODEL_be6ffa220faf4e38a0152c2f6613fd3a",
      "value": " 1/1 [00:02&lt;00:00,  2.39s/it]"
     }
    },
    "d5c6c9076b2d4cbcb133bb705578d286": {
     "model_module": "@jupyter-widgets/controls",
     "model_name": "ProgressStyleModel",
     "state": {
      "_model_module": "@jupyter-widgets/controls",
      "_model_module_version": "1.5.0",
      "_model_name": "ProgressStyleModel",
      "_view_count": null,
      "_view_module": "@jupyter-widgets/base",
      "_view_module_version": "1.2.0",
      "_view_name": "StyleView",
      "bar_color": null,
      "description_width": "initial"
     }
    },
    "e03cff39421945f3ae859dc720aaaca0": {
     "model_module": "@jupyter-widgets/base",
     "model_name": "LayoutModel",
     "state": {
      "_model_module": "@jupyter-widgets/base",
      "_model_module_version": "1.2.0",
      "_model_name": "LayoutModel",
      "_view_count": null,
      "_view_module": "@jupyter-widgets/base",
      "_view_module_version": "1.2.0",
      "_view_name": "LayoutView",
      "align_content": null,
      "align_items": null,
      "align_self": null,
      "border": null,
      "bottom": null,
      "display": null,
      "flex": null,
      "flex_flow": null,
      "grid_area": null,
      "grid_auto_columns": null,
      "grid_auto_flow": null,
      "grid_auto_rows": null,
      "grid_column": null,
      "grid_gap": null,
      "grid_row": null,
      "grid_template_areas": null,
      "grid_template_columns": null,
      "grid_template_rows": null,
      "height": null,
      "justify_content": null,
      "justify_items": null,
      "left": null,
      "margin": null,
      "max_height": null,
      "max_width": null,
      "min_height": null,
      "min_width": null,
      "object_fit": null,
      "object_position": null,
      "order": null,
      "overflow": null,
      "overflow_x": null,
      "overflow_y": null,
      "padding": null,
      "right": null,
      "top": null,
      "visibility": null,
      "width": null
     }
    },
    "ef5044fff71246e58aa9c71593694b81": {
     "model_module": "@jupyter-widgets/base",
     "model_name": "LayoutModel",
     "state": {
      "_model_module": "@jupyter-widgets/base",
      "_model_module_version": "1.2.0",
      "_model_name": "LayoutModel",
      "_view_count": null,
      "_view_module": "@jupyter-widgets/base",
      "_view_module_version": "1.2.0",
      "_view_name": "LayoutView",
      "align_content": null,
      "align_items": null,
      "align_self": null,
      "border": null,
      "bottom": null,
      "display": null,
      "flex": null,
      "flex_flow": null,
      "grid_area": null,
      "grid_auto_columns": null,
      "grid_auto_flow": null,
      "grid_auto_rows": null,
      "grid_column": null,
      "grid_gap": null,
      "grid_row": null,
      "grid_template_areas": null,
      "grid_template_columns": null,
      "grid_template_rows": null,
      "height": null,
      "justify_content": null,
      "justify_items": null,
      "left": null,
      "margin": null,
      "max_height": null,
      "max_width": null,
      "min_height": null,
      "min_width": null,
      "object_fit": null,
      "object_position": null,
      "order": null,
      "overflow": null,
      "overflow_x": null,
      "overflow_y": null,
      "padding": null,
      "right": null,
      "top": null,
      "visibility": null,
      "width": null
     }
    },
    "f20e7e614c5c4e5583451a3ac4572f93": {
     "model_module": "@jupyter-widgets/controls",
     "model_name": "DescriptionStyleModel",
     "state": {
      "_model_module": "@jupyter-widgets/controls",
      "_model_module_version": "1.5.0",
      "_model_name": "DescriptionStyleModel",
      "_view_count": null,
      "_view_module": "@jupyter-widgets/base",
      "_view_module_version": "1.2.0",
      "_view_name": "StyleView",
      "description_width": ""
     }
    },
    "fb8c0910c822438d80d2f9ab5c2b6bdd": {
     "model_module": "@jupyter-widgets/base",
     "model_name": "LayoutModel",
     "state": {
      "_model_module": "@jupyter-widgets/base",
      "_model_module_version": "1.2.0",
      "_model_name": "LayoutModel",
      "_view_count": null,
      "_view_module": "@jupyter-widgets/base",
      "_view_module_version": "1.2.0",
      "_view_name": "LayoutView",
      "align_content": null,
      "align_items": null,
      "align_self": null,
      "border": null,
      "bottom": null,
      "display": null,
      "flex": null,
      "flex_flow": null,
      "grid_area": null,
      "grid_auto_columns": null,
      "grid_auto_flow": null,
      "grid_auto_rows": null,
      "grid_column": null,
      "grid_gap": null,
      "grid_row": null,
      "grid_template_areas": null,
      "grid_template_columns": null,
      "grid_template_rows": null,
      "height": null,
      "justify_content": null,
      "justify_items": null,
      "left": null,
      "margin": null,
      "max_height": null,
      "max_width": null,
      "min_height": null,
      "min_width": null,
      "object_fit": null,
      "object_position": null,
      "order": null,
      "overflow": null,
      "overflow_x": null,
      "overflow_y": null,
      "padding": null,
      "right": null,
      "top": null,
      "visibility": null,
      "width": null
     }
    },
    "fbdd62b56d6c43c28e7b81b4ce2e2870": {
     "model_module": "@jupyter-widgets/base",
     "model_name": "LayoutModel",
     "state": {
      "_model_module": "@jupyter-widgets/base",
      "_model_module_version": "1.2.0",
      "_model_name": "LayoutModel",
      "_view_count": null,
      "_view_module": "@jupyter-widgets/base",
      "_view_module_version": "1.2.0",
      "_view_name": "LayoutView",
      "align_content": null,
      "align_items": null,
      "align_self": null,
      "border": null,
      "bottom": null,
      "display": null,
      "flex": null,
      "flex_flow": null,
      "grid_area": null,
      "grid_auto_columns": null,
      "grid_auto_flow": null,
      "grid_auto_rows": null,
      "grid_column": null,
      "grid_gap": null,
      "grid_row": null,
      "grid_template_areas": null,
      "grid_template_columns": null,
      "grid_template_rows": null,
      "height": null,
      "justify_content": null,
      "justify_items": null,
      "left": null,
      "margin": null,
      "max_height": null,
      "max_width": null,
      "min_height": null,
      "min_width": null,
      "object_fit": null,
      "object_position": null,
      "order": null,
      "overflow": null,
      "overflow_x": null,
      "overflow_y": null,
      "padding": null,
      "right": null,
      "top": null,
      "visibility": null,
      "width": null
     }
    },
    "ffd3232f059b403498d8bb8283df5d05": {
     "model_module": "@jupyter-widgets/controls",
     "model_name": "ProgressStyleModel",
     "state": {
      "_model_module": "@jupyter-widgets/controls",
      "_model_module_version": "1.5.0",
      "_model_name": "ProgressStyleModel",
      "_view_count": null,
      "_view_module": "@jupyter-widgets/base",
      "_view_module_version": "1.2.0",
      "_view_name": "StyleView",
      "bar_color": null,
      "description_width": "initial"
     }
    }
   }
  }
 },
 "nbformat": 4,
 "nbformat_minor": 1
}
