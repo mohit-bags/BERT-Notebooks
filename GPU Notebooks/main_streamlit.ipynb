{
 "cells": [
  {
   "cell_type": "code",
   "execution_count": 1,
   "id": "9530217b",
   "metadata": {},
   "outputs": [],
   "source": [
    "import pickle\n",
    "import streamlit as st\n",
    "import torch"
   ]
  },
  {
   "cell_type": "markdown",
   "id": "72dd45fc",
   "metadata": {},
   "source": [
    "# BERT prediction import and use"
   ]
  },
  {
   "cell_type": "code",
   "execution_count": 2,
   "id": "baf5d2a3",
   "metadata": {},
   "outputs": [],
   "source": [
    "# loading the trained model\n",
    "# model = torch.load('/home/slintel/bert_folder/pkl_model/model_2000_manually_ROW_WISE')"
   ]
  },
  {
   "cell_type": "code",
   "execution_count": 3,
   "id": "ea5040fc",
   "metadata": {},
   "outputs": [],
   "source": [
    "from bert_prediction import bert_pred as bt"
   ]
  },
  {
   "cell_type": "code",
   "execution_count": 4,
   "id": "8e9df8ea",
   "metadata": {},
   "outputs": [
    {
     "name": "stdout",
     "output_type": "stream",
     "text": [
      "['full stack developer 9+ years of experience leading small (5-10) development teams in large-scale projects. proficient in java & javascript; backend frameworks such as spring, struts, hibernate; frontend frameworks angular js, protractor, jasmine. db mainly oracle but also mysql, sqlserver; wide variety of bussiness domains working for companies like cars.com, credit suisse, qualcomm, hewlett-packard, inter-american development bank, bank of america & monsanto. experience in agile methodologies kanban & scrum; test driven development. always looking for new challenges and learn new technologies., architect at globant - credit suisse, tech lead at globant - cars.com, scjp 6 certified programmer, tech lead at softtek']\n"
     ]
    }
   ],
   "source": [
    "inp = input()"
   ]
  },
  {
   "cell_type": "code",
   "execution_count": 5,
   "id": "f3a570a9",
   "metadata": {},
   "outputs": [
    {
     "data": {
      "text/plain": [
       "\"['full stack developer 9+ years of experience leading small (5-10) development teams in large-scale projects. proficient in java & javascript; backend frameworks such as spring, struts, hibernate; frontend frameworks angular js, protractor, jasmine. db mainly oracle but also mysql, sqlserver; wide variety of bussiness domains working for companies like cars.com, credit suisse, qualcomm, hewlett-packard, inter-american development bank, bank of america & monsanto. experience in agile methodologies kanban & scrum; test driven development. always looking for new challenges and learn new technologies., architect at globant - credit suisse, tech lead at globant - cars.com, scjp 6 certified programmer, tech lead at softtek']\""
      ]
     },
     "execution_count": 5,
     "metadata": {},
     "output_type": "execute_result"
    }
   ],
   "source": [
    "inp"
   ]
  },
  {
   "cell_type": "code",
   "execution_count": 6,
   "id": "b6b66f8c",
   "metadata": {},
   "outputs": [
    {
     "name": "stderr",
     "output_type": "stream",
     "text": [
      "[nltk_data] Downloading package punkt to /home/slintel/nltk_data...\n",
      "[nltk_data]   Package punkt is already up-to-date!\n",
      "2021-06-22 14:10:38.785 INFO    simpletransformers.ner.ner_model:  Converting to features started.\n"
     ]
    },
    {
     "data": {
      "application/vnd.jupyter.widget-view+json": {
       "model_id": "aa002e64af204696adc32efa1f0945f0",
       "version_major": 2,
       "version_minor": 0
      },
      "text/plain": [
       "HBox(children=(FloatProgress(value=0.0, max=1.0), HTML(value='')))"
      ]
     },
     "metadata": {},
     "output_type": "display_data"
    },
    {
     "name": "stdout",
     "output_type": "stream",
     "text": [
      "\n"
     ]
    },
    {
     "data": {
      "application/vnd.jupyter.widget-view+json": {
       "model_id": "91689687c4994d148e913e14577718b8",
       "version_major": 2,
       "version_minor": 0
      },
      "text/plain": [
       "HBox(children=(FloatProgress(value=0.0, description='Running Prediction', max=1.0, style=ProgressStyle(descrip…"
      ]
     },
     "metadata": {},
     "output_type": "display_data"
    },
    {
     "name": "stderr",
     "output_type": "stream",
     "text": [
      "2021-06-22 14:10:39.095 INFO    simpletransformers.ner.ner_model:  Converting to features started.\n"
     ]
    },
    {
     "name": "stdout",
     "output_type": "stream",
     "text": [
      "\n"
     ]
    },
    {
     "data": {
      "application/vnd.jupyter.widget-view+json": {
       "model_id": "688b1e2096e24843a9e07d4776b6134e",
       "version_major": 2,
       "version_minor": 0
      },
      "text/plain": [
       "HBox(children=(FloatProgress(value=0.0, max=1.0), HTML(value='')))"
      ]
     },
     "metadata": {},
     "output_type": "display_data"
    },
    {
     "name": "stdout",
     "output_type": "stream",
     "text": [
      "\n"
     ]
    },
    {
     "data": {
      "application/vnd.jupyter.widget-view+json": {
       "model_id": "8ec55ccc1ee74c57b4edbce59465caea",
       "version_major": 2,
       "version_minor": 0
      },
      "text/plain": [
       "HBox(children=(FloatProgress(value=0.0, description='Running Prediction', max=1.0, style=ProgressStyle(descrip…"
      ]
     },
     "metadata": {},
     "output_type": "display_data"
    },
    {
     "name": "stdout",
     "output_type": "stream",
     "text": [
      "\n"
     ]
    }
   ],
   "source": [
    "preds = bt(inp)"
   ]
  },
  {
   "cell_type": "code",
   "execution_count": 7,
   "id": "0ed45fb6",
   "metadata": {},
   "outputs": [],
   "source": [
    "bert_op=preds.get_eng_pred()"
   ]
  },
  {
   "cell_type": "code",
   "execution_count": 8,
   "id": "4c8b3d52",
   "metadata": {},
   "outputs": [
    {
     "data": {
      "text/plain": [
       "['java', 'jasmine', 'spring', 'angular']"
      ]
     },
     "execution_count": 8,
     "metadata": {},
     "output_type": "execute_result"
    }
   ],
   "source": [
    "bert_op"
   ]
  },
  {
   "cell_type": "markdown",
   "id": "9a81af97",
   "metadata": {},
   "source": [
    "# BERT pred is running - Checked"
   ]
  },
  {
   "cell_type": "markdown",
   "id": "d5a9e9d8",
   "metadata": {},
   "source": [
    "# ----------------------------------------------------------------------------------------------------------------------------------------------------------------------------------------"
   ]
  },
  {
   "cell_type": "markdown",
   "id": "b5da364e",
   "metadata": {},
   "source": [
    "# String Match import and use"
   ]
  },
  {
   "cell_type": "code",
   "execution_count": 9,
   "id": "e6d38285",
   "metadata": {},
   "outputs": [],
   "source": [
    "from string_match_pred import BERT_prediction_single_summary as sm"
   ]
  },
  {
   "cell_type": "code",
   "execution_count": 11,
   "id": "ad85a84e",
   "metadata": {},
   "outputs": [],
   "source": [
    "# sm(['full stack developer 9+ years of experience leading small (5-10) development teams in large-scale projects. proficient in java & javascript; backend frameworks such as spring, struts, hibernate; frontend frameworks angular js, protractor, jasmine. db mainly oracle but also mysql, sqlserver; wide variety of bussiness domains working for companies like cars.com, credit suisse, qualcomm, hewlett-packard, inter-american development bank, bank of america & monsanto. experience in agile methodologies kanban & scrum; test driven development. always looking for new challenges and learn new technologies., architect at globant - credit suisse, tech lead at globant - cars.com, scjp 6 certified programmer, tech lead at softtek'])\n",
    "sm = sm(inp)"
   ]
  },
  {
   "cell_type": "code",
   "execution_count": 12,
   "id": "6d67fb36",
   "metadata": {},
   "outputs": [],
   "source": [
    "tech = sm.read_file(\"../dataset/Tech_pydictionary_2.csv\")"
   ]
  },
  {
   "cell_type": "code",
   "execution_count": 13,
   "id": "38d242e7",
   "metadata": {},
   "outputs": [
    {
     "name": "stdout",
     "output_type": "stream",
     "text": [
      "\n",
      "\n",
      "*** Yes, We have a Match !! ***\n",
      "\n",
      " ['javascript', 'mysql']\n"
     ]
    }
   ],
   "source": [
    "\n",
    "remove_list = sm.high_freq_eng_words(\"../dataset/Remove.csv\")\n",
    "\n",
    "string_match_op = sm.string_match()"
   ]
  },
  {
   "cell_type": "code",
   "execution_count": 14,
   "id": "852de446",
   "metadata": {},
   "outputs": [
    {
     "data": {
      "text/plain": [
       "['javascript', 'mysql']"
      ]
     },
     "execution_count": 14,
     "metadata": {},
     "output_type": "execute_result"
    }
   ],
   "source": [
    "string_match_op"
   ]
  },
  {
   "cell_type": "code",
   "execution_count": 15,
   "id": "3ee249e1",
   "metadata": {},
   "outputs": [
    {
     "data": {
      "text/plain": [
       "['mysql', 'java', 'javascript', 'jasmine', 'spring', 'angular']"
      ]
     },
     "execution_count": 15,
     "metadata": {},
     "output_type": "execute_result"
    }
   ],
   "source": [
    "result = list(set(string_match_op + bert_op))\n",
    "# keeping unique entries only\n",
    "result"
   ]
  },
  {
   "cell_type": "markdown",
   "id": "d4395906",
   "metadata": {},
   "source": [
    "------------------------------------------------------------------------------------------------------------------------------------------------------------------------------------------------------------------------------------"
   ]
  },
  {
   "cell_type": "markdown",
   "id": "ebeee038",
   "metadata": {},
   "source": [
    "# String Match is running - Checked"
   ]
  },
  {
   "cell_type": "code",
   "execution_count": null,
   "id": "a32ee61e",
   "metadata": {},
   "outputs": [],
   "source": [
    "%%writefile app.py\n",
    " \n",
    "@st.cache()\n",
    "  \n",
    "\n",
    "# this is the main function in which we define our webpage  \n",
    "def main():\n",
    "    \n",
    "    st.title(\"Technology/Company Extractionn from Linkedin Summary\")\n",
    "    # front end elements of the web page \n",
    "#     html_temp = \"\"\" \n",
    "#     <div style =\"background-color:yellow;padding:13px\"> \n",
    "#     <h1 style =\"color:black;text-align:center;\">Streamlit Loan Prediction ML App</h1> \n",
    "#     </div> \n",
    "#     \"\"\"\n",
    "      \n",
    "#     # display the front end aspect\n",
    "#     st.markdown(html_temp, unsafe_allow_html = True) \n",
    "      \n",
    "#     # following lines create boxes in which user can enter data required to make prediction \n",
    "#     Gender = st.selectbox('Enter Summary',(\"Male\",\"Female\"))\n",
    "#     result =\"\"\n",
    "      \n",
    "#     # when 'Predict' is clicked, make the prediction and store it \n",
    "#     if st.button(\"Extract Tags\"): \n",
    "#         result = string_match_op + bert_op\n",
    "#         st.success('Your Extracted Tags are {}'.format(result))\n",
    "     \n",
    "if __name__=='__main__': \n",
    "    main()"
   ]
  },
  {
   "cell_type": "code",
   "execution_count": null,
   "id": "d38a6365",
   "metadata": {},
   "outputs": [],
   "source": []
  }
 ],
 "metadata": {
  "kernelspec": {
   "display_name": "Python 3",
   "language": "python",
   "name": "python3"
  },
  "language_info": {
   "codemirror_mode": {
    "name": "ipython",
    "version": 3
   },
   "file_extension": ".py",
   "mimetype": "text/x-python",
   "name": "python",
   "nbconvert_exporter": "python",
   "pygments_lexer": "ipython3",
   "version": "3.6.9"
  }
 },
 "nbformat": 4,
 "nbformat_minor": 5
}
