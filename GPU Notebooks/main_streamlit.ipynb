{
 "cells": [
  {
   "cell_type": "code",
   "execution_count": 1,
   "id": "9530217b",
   "metadata": {},
   "outputs": [],
   "source": [
    "import pickle\n",
    "import streamlit as st\n",
    "import torch"
   ]
  },
  {
   "cell_type": "code",
   "execution_count": 2,
   "id": "3e2e50d9",
   "metadata": {},
   "outputs": [],
   "source": [
    "# model = torch.load('/home/slintel/bert_folder/pkl_model/model_2000')"
   ]
  },
  {
   "cell_type": "code",
   "execution_count": 3,
   "id": "61c97109",
   "metadata": {},
   "outputs": [],
   "source": [
    "# from simpletransformers.ner import NERModel,NERArgs\n"
   ]
  },
  {
   "cell_type": "code",
   "execution_count": 4,
   "id": "253e1f50",
   "metadata": {},
   "outputs": [],
   "source": [
    "# model_path = '/home/slintel/bert_folder/bert_notebook/outputs/'"
   ]
  },
  {
   "cell_type": "code",
   "execution_count": 5,
   "id": "5e0f7fb2",
   "metadata": {},
   "outputs": [],
   "source": [
    "# args = NERArgs()\n",
    "# # args.num_train_epochs =2\n",
    "# # args.learning_rate = 1e-4\n",
    "# # args.overwrite_output_dir =True\n",
    "# # args.train_batch_size = 32\n",
    "# # args.eval_batch_size = 32\n",
    "# args.use_multiprocessed_decoding = False\n",
    "# model = NERModel('bert', model_path, args = args, use_cuda = False)"
   ]
  },
  {
   "cell_type": "code",
   "execution_count": null,
   "id": "d808a6e8",
   "metadata": {},
   "outputs": [],
   "source": []
  },
  {
   "cell_type": "code",
   "execution_count": null,
   "id": "ec119b4f",
   "metadata": {},
   "outputs": [],
   "source": []
  },
  {
   "cell_type": "markdown",
   "id": "72dd45fc",
   "metadata": {},
   "source": [
    "# BERT prediction import and use"
   ]
  },
  {
   "cell_type": "code",
   "execution_count": 6,
   "id": "baf5d2a3",
   "metadata": {},
   "outputs": [],
   "source": [
    "# loading the trained model\n",
    "# model = torch.load('/home/slintel/bert_folder/pkl_model/model_2000_manually_ROW_WISE')"
   ]
  },
  {
   "cell_type": "code",
   "execution_count": 7,
   "id": "ea5040fc",
   "metadata": {},
   "outputs": [],
   "source": [
    "# from bert_inference_shubham import bert_pred as bt\n",
    "from bert_inference_shubham_copy import bert_pred as bt"
   ]
  },
  {
   "cell_type": "code",
   "execution_count": 8,
   "id": "85d036c1",
   "metadata": {},
   "outputs": [],
   "source": [
    "# ['full stack developer 9+ years of experience leading small (5-10) development teams in large-scale projects. proficient in java & javascript; backend frameworks such as spring, struts, hibernate; frontend frameworks angular js, protractor, jasmine. db mainly oracle but also mysql, sqlserver; wide variety of bussiness domains working for companies like cars.com, credit suisse, qualcomm, hewlett-packard, inter-american development bank, bank of america & monsanto. experience in agile methodologies kanban & scrum; test driven development. always looking for new challenges and learn new technologies., architect at globant - credit suisse, tech lead at globant - cars.com, scjp 6 certified programmer, tech lead at softtek']"
   ]
  },
  {
   "cell_type": "code",
   "execution_count": 9,
   "id": "8e9df8ea",
   "metadata": {},
   "outputs": [
    {
     "name": "stdout",
     "output_type": "stream",
     "text": [
      "['full stack developer 9+ years of experience leading small (5-10) development teams in large-scale projects. proficient in java & javascript; backend frameworks such as spring, struts, hibernate; frontend frameworks angular js, protractor, jasmine. db mainly oracle but also mysql, sqlserver; wide variety of bussiness domains working for companies like cars.com, credit suisse, qualcomm, hewlett-packard, inter-american development bank, bank of america & monsanto. experience in agile methodologies kanban & scrum; test driven development. always looking for new challenges and learn new technologies., architect at globant - credit suisse, tech lead at globant - cars.com, scjp 6 certified programmer, tech lead at softtek']\n"
     ]
    }
   ],
   "source": [
    "inp = input()"
   ]
  },
  {
   "cell_type": "code",
   "execution_count": 10,
   "id": "5ee4b30d",
   "metadata": {},
   "outputs": [
    {
     "name": "stderr",
     "output_type": "stream",
     "text": [
      "[nltk_data] Downloading package punkt to /home/slintel/nltk_data...\n",
      "[nltk_data]   Package punkt is already up-to-date!\n"
     ]
    }
   ],
   "source": [
    "bert_obj = bt()"
   ]
  },
  {
   "cell_type": "code",
   "execution_count": 11,
   "id": "b6b66f8c",
   "metadata": {},
   "outputs": [
    {
     "name": "stderr",
     "output_type": "stream",
     "text": [
      "2021-06-28 13:11:26.084 INFO    simpletransformers.ner.ner_model:  Converting to features started.\n"
     ]
    },
    {
     "name": "stdout",
     "output_type": "stream",
     "text": [
      "\n",
      "\n",
      "****** Clean Text Run - Check 2 ******\n",
      "\n",
      "\n"
     ]
    },
    {
     "data": {
      "application/vnd.jupyter.widget-view+json": {
       "model_id": "52a8748808a443388692f0a0c671be39",
       "version_major": 2,
       "version_minor": 0
      },
      "text/plain": [
       "HBox(children=(FloatProgress(value=0.0, max=1.0), HTML(value='')))"
      ]
     },
     "metadata": {},
     "output_type": "display_data"
    },
    {
     "name": "stdout",
     "output_type": "stream",
     "text": [
      "\n"
     ]
    },
    {
     "data": {
      "application/vnd.jupyter.widget-view+json": {
       "model_id": "47ed12a919d745ab9faa1839bd9cba1b",
       "version_major": 2,
       "version_minor": 0
      },
      "text/plain": [
       "HBox(children=(FloatProgress(value=0.0, description='Running Prediction', max=1.0, style=ProgressStyle(descrip…"
      ]
     },
     "metadata": {},
     "output_type": "display_data"
    },
    {
     "name": "stdout",
     "output_type": "stream",
     "text": [
      "\n"
     ]
    },
    {
     "name": "stderr",
     "output_type": "stream",
     "text": [
      "2021-06-28 13:11:26.402 INFO    simpletransformers.ner.ner_model:  Converting to features started.\n"
     ]
    },
    {
     "data": {
      "application/vnd.jupyter.widget-view+json": {
       "model_id": "35e1f9b47cce49118b09a705823278aa",
       "version_major": 2,
       "version_minor": 0
      },
      "text/plain": [
       "HBox(children=(FloatProgress(value=0.0, max=1.0), HTML(value='')))"
      ]
     },
     "metadata": {},
     "output_type": "display_data"
    },
    {
     "name": "stdout",
     "output_type": "stream",
     "text": [
      "\n"
     ]
    },
    {
     "data": {
      "application/vnd.jupyter.widget-view+json": {
       "model_id": "884595f729bf4742ad17c5374a412d1e",
       "version_major": 2,
       "version_minor": 0
      },
      "text/plain": [
       "HBox(children=(FloatProgress(value=0.0, description='Running Prediction', max=1.0, style=ProgressStyle(descrip…"
      ]
     },
     "metadata": {},
     "output_type": "display_data"
    },
    {
     "name": "stdout",
     "output_type": "stream",
     "text": [
      "\n"
     ]
    }
   ],
   "source": [
    "bert_op = bert_obj.predict(inp)"
   ]
  },
  {
   "cell_type": "code",
   "execution_count": 12,
   "id": "4c8b3d52",
   "metadata": {},
   "outputs": [
    {
     "data": {
      "text/plain": [
       "['spring', 'angular', 'java', 'jasmine']"
      ]
     },
     "execution_count": 12,
     "metadata": {},
     "output_type": "execute_result"
    }
   ],
   "source": [
    "bert_op"
   ]
  },
  {
   "cell_type": "markdown",
   "id": "9a81af97",
   "metadata": {},
   "source": [
    "# BERT pred is running - Checked"
   ]
  },
  {
   "cell_type": "markdown",
   "id": "d5a9e9d8",
   "metadata": {},
   "source": [
    "# ----------------------------------------------------------------------------------------------------------------------------------------------------------------------------------------"
   ]
  },
  {
   "cell_type": "markdown",
   "id": "b5da364e",
   "metadata": {},
   "source": [
    "# String Match import and use"
   ]
  },
  {
   "cell_type": "code",
   "execution_count": null,
   "id": "e6d38285",
   "metadata": {},
   "outputs": [],
   "source": [
    "from string_match_pred import BERT_prediction_single_summary as sm"
   ]
  },
  {
   "cell_type": "code",
   "execution_count": null,
   "id": "ad85a84e",
   "metadata": {},
   "outputs": [],
   "source": [
    "# sm(['full stack developer 9+ years of experience leading small (5-10) development teams in large-scale projects. proficient in java & javascript; backend frameworks such as spring, struts, hibernate; frontend frameworks angular js, protractor, jasmine. db mainly oracle but also mysql, sqlserver; wide variety of bussiness domains working for companies like cars.com, credit suisse, qualcomm, hewlett-packard, inter-american development bank, bank of america & monsanto. experience in agile methodologies kanban & scrum; test driven development. always looking for new challenges and learn new technologies., architect at globant - credit suisse, tech lead at globant - cars.com, scjp 6 certified programmer, tech lead at softtek'])\n",
    "sm = sm(inp)"
   ]
  },
  {
   "cell_type": "code",
   "execution_count": null,
   "id": "6d67fb36",
   "metadata": {},
   "outputs": [],
   "source": [
    "tech = sm.read_file(\"../dataset/Combined_30k_technologies.csv\")"
   ]
  },
  {
   "cell_type": "code",
   "execution_count": null,
   "id": "38d242e7",
   "metadata": {},
   "outputs": [],
   "source": [
    "\n",
    "remove_list = sm.high_freq_eng_words(\"../dataset/Remove.csv\")\n",
    "\n",
    "string_match_op = sm.string_match()"
   ]
  },
  {
   "cell_type": "code",
   "execution_count": null,
   "id": "533489e9",
   "metadata": {},
   "outputs": [],
   "source": [
    "# ['angular', 'asmi', 'create', 'd custom', 'ejs', 'eploy',\n",
    "# 'esign', 'format', 'inform', 'informa', 'ion', 'jas', 'jasmine', 'karma',\n",
    "# 'kuber', 'kubernetes', 'manage', 'mat',\n",
    "# 'mentat', 'mocha', 'node', 'nodejs', 'omp', 'ress', 'service', 'smi', 'soci', 'testin']"
   ]
  },
  {
   "cell_type": "code",
   "execution_count": null,
   "id": "8190888c",
   "metadata": {},
   "outputs": [],
   "source": [
    "# ['nodejs', 'jasmine', 'mocha', 'karma', 'kubernetes', 'html']"
   ]
  },
  {
   "cell_type": "code",
   "execution_count": null,
   "id": "852de446",
   "metadata": {},
   "outputs": [],
   "source": [
    "string_match_op"
   ]
  },
  {
   "cell_type": "code",
   "execution_count": null,
   "id": "3ee249e1",
   "metadata": {},
   "outputs": [],
   "source": [
    "result = list(set(string_match_op + bert_op))\n",
    "# keeping unique entries only\n",
    "result"
   ]
  },
  {
   "cell_type": "markdown",
   "id": "ebeee038",
   "metadata": {},
   "source": [
    "# String Match is running - Checked"
   ]
  }
 ],
 "metadata": {
  "kernelspec": {
   "display_name": "Python 3",
   "language": "python",
   "name": "python3"
  },
  "language_info": {
   "codemirror_mode": {
    "name": "ipython",
    "version": 3
   },
   "file_extension": ".py",
   "mimetype": "text/x-python",
   "name": "python",
   "nbconvert_exporter": "python",
   "pygments_lexer": "ipython3",
   "version": "3.6.9"
  }
 },
 "nbformat": 4,
 "nbformat_minor": 5
}
