{
 "cells": [
  {
   "cell_type": "code",
   "execution_count": 1,
   "id": "f8ce91c8",
   "metadata": {},
   "outputs": [],
   "source": [
    "import pandas as pd\n",
    "import numpy as np\n",
    "import matplotlib.pyplot as plt"
   ]
  },
  {
   "cell_type": "code",
   "execution_count": 2,
   "id": "52e0e344",
   "metadata": {},
   "outputs": [],
   "source": [
    "import fasttext\n",
    "import fasttext.util"
   ]
  },
  {
   "cell_type": "code",
   "execution_count": 3,
   "id": "dea90be8",
   "metadata": {},
   "outputs": [
    {
     "name": "stderr",
     "output_type": "stream",
     "text": [
      "Warning : `load_model` does not return WordVectorModel or SupervisedModel any more, but a `FastText` object which is very similar.\n"
     ]
    }
   ],
   "source": [
    "ft = fasttext.load_model('cc.en.300.bin')"
   ]
  },
  {
   "cell_type": "code",
   "execution_count": 4,
   "id": "3feb8e3a",
   "metadata": {},
   "outputs": [
    {
     "data": {
      "text/plain": [
       "300"
      ]
     },
     "execution_count": 4,
     "metadata": {},
     "output_type": "execute_result"
    }
   ],
   "source": [
    "ft.get_dimension()"
   ]
  },
  {
   "cell_type": "code",
   "execution_count": 5,
   "id": "037e552a",
   "metadata": {},
   "outputs": [],
   "source": [
    "# fasttext.util.reduce_model(ft, 100)"
   ]
  },
  {
   "cell_type": "code",
   "execution_count": 6,
   "id": "47beada1",
   "metadata": {},
   "outputs": [],
   "source": [
    "# ft.get_dimension()"
   ]
  },
  {
   "cell_type": "code",
   "execution_count": 7,
   "id": "0711394d",
   "metadata": {},
   "outputs": [],
   "source": [
    "# from gensim.models.fasttext import FastText\n",
    "# ft_model = FastText.load_fasttext_format('cc.en.300.bin', encoding='utf8')\n",
    "# print(ft_model.wv['artificial'])"
   ]
  },
  {
   "cell_type": "code",
   "execution_count": 8,
   "id": "55789c53",
   "metadata": {},
   "outputs": [],
   "source": [
    "df = pd.read_excel(\"100K_designations.xlsx\")"
   ]
  },
  {
   "cell_type": "code",
   "execution_count": 9,
   "id": "0ab518e4",
   "metadata": {},
   "outputs": [
    {
     "data": {
      "text/html": [
       "<div>\n",
       "<style scoped>\n",
       "    .dataframe tbody tr th:only-of-type {\n",
       "        vertical-align: middle;\n",
       "    }\n",
       "\n",
       "    .dataframe tbody tr th {\n",
       "        vertical-align: top;\n",
       "    }\n",
       "\n",
       "    .dataframe thead th {\n",
       "        text-align: right;\n",
       "    }\n",
       "</style>\n",
       "<table border=\"1\" class=\"dataframe\">\n",
       "  <thead>\n",
       "    <tr style=\"text-align: right;\">\n",
       "      <th></th>\n",
       "      <th>designation</th>\n",
       "      <th>company_function</th>\n",
       "      <th>lead_division</th>\n",
       "      <th>decision_making_power</th>\n",
       "      <th>designation_count</th>\n",
       "      <th>high</th>\n",
       "      <th>medium</th>\n",
       "      <th>low</th>\n",
       "    </tr>\n",
       "  </thead>\n",
       "  <tbody>\n",
       "    <tr>\n",
       "      <th>0</th>\n",
       "      <td>owner</td>\n",
       "      <td>Ceo/founder/co-founder</td>\n",
       "      <td>General</td>\n",
       "      <td>High</td>\n",
       "      <td>7208411</td>\n",
       "      <td>7208411</td>\n",
       "      <td>0</td>\n",
       "      <td>0</td>\n",
       "    </tr>\n",
       "    <tr>\n",
       "      <th>1</th>\n",
       "      <td>manager</td>\n",
       "      <td>General Management</td>\n",
       "      <td>All</td>\n",
       "      <td>Medium</td>\n",
       "      <td>3346803</td>\n",
       "      <td>0</td>\n",
       "      <td>3346803</td>\n",
       "      <td>0</td>\n",
       "    </tr>\n",
       "    <tr>\n",
       "      <th>2</th>\n",
       "      <td>director</td>\n",
       "      <td>General Management</td>\n",
       "      <td>All</td>\n",
       "      <td>Medium</td>\n",
       "      <td>2750830</td>\n",
       "      <td>0</td>\n",
       "      <td>2750830</td>\n",
       "      <td>0</td>\n",
       "    </tr>\n",
       "    <tr>\n",
       "      <th>3</th>\n",
       "      <td>chief executive officer</td>\n",
       "      <td>Ceo/founder/co-founder</td>\n",
       "      <td>General</td>\n",
       "      <td>High</td>\n",
       "      <td>2194731</td>\n",
       "      <td>2194731</td>\n",
       "      <td>0</td>\n",
       "      <td>0</td>\n",
       "    </tr>\n",
       "    <tr>\n",
       "      <th>4</th>\n",
       "      <td>project manager</td>\n",
       "      <td>Technology</td>\n",
       "      <td>Project Management/business Analysis</td>\n",
       "      <td>Medium</td>\n",
       "      <td>1722573</td>\n",
       "      <td>0</td>\n",
       "      <td>1722573</td>\n",
       "      <td>0</td>\n",
       "    </tr>\n",
       "  </tbody>\n",
       "</table>\n",
       "</div>"
      ],
      "text/plain": [
       "               designation        company_function  \\\n",
       "0                    owner  Ceo/founder/co-founder   \n",
       "1                  manager      General Management   \n",
       "2                 director      General Management   \n",
       "3  chief executive officer  Ceo/founder/co-founder   \n",
       "4          project manager              Technology   \n",
       "\n",
       "                          lead_division decision_making_power  \\\n",
       "0                               General                  High   \n",
       "1                                   All                Medium   \n",
       "2                                   All                Medium   \n",
       "3                               General                  High   \n",
       "4  Project Management/business Analysis                Medium   \n",
       "\n",
       "   designation_count     high   medium  low  \n",
       "0            7208411  7208411        0    0  \n",
       "1            3346803        0  3346803    0  \n",
       "2            2750830        0  2750830    0  \n",
       "3            2194731  2194731        0    0  \n",
       "4            1722573        0  1722573    0  "
      ]
     },
     "execution_count": 9,
     "metadata": {},
     "output_type": "execute_result"
    }
   ],
   "source": [
    "df.head()"
   ]
  },
  {
   "cell_type": "code",
   "execution_count": 10,
   "id": "165f13c7",
   "metadata": {},
   "outputs": [],
   "source": [
    "df_designation =df[[\"designation\"]]"
   ]
  },
  {
   "cell_type": "code",
   "execution_count": 11,
   "id": "33d55ca5",
   "metadata": {},
   "outputs": [
    {
     "data": {
      "text/html": [
       "<div>\n",
       "<style scoped>\n",
       "    .dataframe tbody tr th:only-of-type {\n",
       "        vertical-align: middle;\n",
       "    }\n",
       "\n",
       "    .dataframe tbody tr th {\n",
       "        vertical-align: top;\n",
       "    }\n",
       "\n",
       "    .dataframe thead th {\n",
       "        text-align: right;\n",
       "    }\n",
       "</style>\n",
       "<table border=\"1\" class=\"dataframe\">\n",
       "  <thead>\n",
       "    <tr style=\"text-align: right;\">\n",
       "      <th></th>\n",
       "      <th>designation</th>\n",
       "    </tr>\n",
       "  </thead>\n",
       "  <tbody>\n",
       "    <tr>\n",
       "      <th>0</th>\n",
       "      <td>owner</td>\n",
       "    </tr>\n",
       "    <tr>\n",
       "      <th>1</th>\n",
       "      <td>manager</td>\n",
       "    </tr>\n",
       "    <tr>\n",
       "      <th>2</th>\n",
       "      <td>director</td>\n",
       "    </tr>\n",
       "    <tr>\n",
       "      <th>3</th>\n",
       "      <td>chief executive officer</td>\n",
       "    </tr>\n",
       "    <tr>\n",
       "      <th>4</th>\n",
       "      <td>project manager</td>\n",
       "    </tr>\n",
       "  </tbody>\n",
       "</table>\n",
       "</div>"
      ],
      "text/plain": [
       "               designation\n",
       "0                    owner\n",
       "1                  manager\n",
       "2                 director\n",
       "3  chief executive officer\n",
       "4          project manager"
      ]
     },
     "execution_count": 11,
     "metadata": {},
     "output_type": "execute_result"
    }
   ],
   "source": [
    "df_designation.head()"
   ]
  },
  {
   "cell_type": "code",
   "execution_count": 12,
   "id": "63a05ece",
   "metadata": {},
   "outputs": [
    {
     "data": {
      "text/plain": [
       "100000"
      ]
     },
     "execution_count": 12,
     "metadata": {},
     "output_type": "execute_result"
    }
   ],
   "source": [
    "len(df_designation)"
   ]
  },
  {
   "cell_type": "code",
   "execution_count": 13,
   "id": "b2c5eb42",
   "metadata": {},
   "outputs": [],
   "source": [
    "def get_embeddings(word, ft):\n",
    "    word = str(word)\n",
    "    f = ft.get_word_vector(word)\n",
    "\n",
    "    return f"
   ]
  },
  {
   "cell_type": "code",
   "execution_count": 14,
   "id": "b298f950",
   "metadata": {},
   "outputs": [
    {
     "name": "stderr",
     "output_type": "stream",
     "text": [
      "/var/folders/cb/5xtlk4kd1z9dj9xn83x7_2lc0000gn/T/ipykernel_13466/3111581121.py:1: SettingWithCopyWarning: \n",
      "A value is trying to be set on a copy of a slice from a DataFrame.\n",
      "Try using .loc[row_indexer,col_indexer] = value instead\n",
      "\n",
      "See the caveats in the documentation: https://pandas.pydata.org/pandas-docs/stable/user_guide/indexing.html#returning-a-view-versus-a-copy\n",
      "  df_designation['designation_embeddings'] = df_designation.apply(lambda x: get_embeddings(x[\"designation\"], ft), axis = 1)\n"
     ]
    }
   ],
   "source": [
    "df_designation['designation_embeddings'] = df_designation.apply(lambda x: get_embeddings(x[\"designation\"], ft), axis = 1)"
   ]
  },
  {
   "cell_type": "code",
   "execution_count": 15,
   "id": "8201b721",
   "metadata": {},
   "outputs": [
    {
     "data": {
      "text/html": [
       "<div>\n",
       "<style scoped>\n",
       "    .dataframe tbody tr th:only-of-type {\n",
       "        vertical-align: middle;\n",
       "    }\n",
       "\n",
       "    .dataframe tbody tr th {\n",
       "        vertical-align: top;\n",
       "    }\n",
       "\n",
       "    .dataframe thead th {\n",
       "        text-align: right;\n",
       "    }\n",
       "</style>\n",
       "<table border=\"1\" class=\"dataframe\">\n",
       "  <thead>\n",
       "    <tr style=\"text-align: right;\">\n",
       "      <th></th>\n",
       "      <th>designation</th>\n",
       "      <th>designation_embeddings</th>\n",
       "    </tr>\n",
       "  </thead>\n",
       "  <tbody>\n",
       "    <tr>\n",
       "      <th>0</th>\n",
       "      <td>owner</td>\n",
       "      <td>[0.10359939, 0.012919815, -0.020326696, 0.0210...</td>\n",
       "    </tr>\n",
       "    <tr>\n",
       "      <th>1</th>\n",
       "      <td>manager</td>\n",
       "      <td>[0.04978625, 0.0021494515, 0.058040738, 0.0006...</td>\n",
       "    </tr>\n",
       "    <tr>\n",
       "      <th>2</th>\n",
       "      <td>director</td>\n",
       "      <td>[0.053093087, 0.0028660002, 0.03210948, -0.020...</td>\n",
       "    </tr>\n",
       "    <tr>\n",
       "      <th>3</th>\n",
       "      <td>chief executive officer</td>\n",
       "      <td>[0.010643294, -0.002743718, 0.0069506224, 0.05...</td>\n",
       "    </tr>\n",
       "    <tr>\n",
       "      <th>4</th>\n",
       "      <td>project manager</td>\n",
       "      <td>[-0.018011387, 0.013982448, 0.02371762, 0.0219...</td>\n",
       "    </tr>\n",
       "    <tr>\n",
       "      <th>...</th>\n",
       "      <td>...</td>\n",
       "      <td>...</td>\n",
       "    </tr>\n",
       "    <tr>\n",
       "      <th>99995</th>\n",
       "      <td>aufnahmeleiter</td>\n",
       "      <td>[0.06202216, -0.0016560154, 0.006459615, 0.039...</td>\n",
       "    </tr>\n",
       "    <tr>\n",
       "      <th>99996</th>\n",
       "      <td>project manager and system engineer</td>\n",
       "      <td>[-7.5632764e-05, -0.0002490571, 0.0048896256, ...</td>\n",
       "    </tr>\n",
       "    <tr>\n",
       "      <th>99997</th>\n",
       "      <td>surveillante de nuit</td>\n",
       "      <td>[-0.005686213, 0.003077648, 0.013325958, 0.035...</td>\n",
       "    </tr>\n",
       "    <tr>\n",
       "      <th>99998</th>\n",
       "      <td>in-home expert</td>\n",
       "      <td>[0.011924218, 0.025919154, -0.024609467, 0.074...</td>\n",
       "    </tr>\n",
       "    <tr>\n",
       "      <th>99999</th>\n",
       "      <td>student reporter</td>\n",
       "      <td>[-0.018944662, 0.02312592, 0.0016175045, 0.045...</td>\n",
       "    </tr>\n",
       "  </tbody>\n",
       "</table>\n",
       "<p>100000 rows × 2 columns</p>\n",
       "</div>"
      ],
      "text/plain": [
       "                               designation  \\\n",
       "0                                    owner   \n",
       "1                                  manager   \n",
       "2                                 director   \n",
       "3                  chief executive officer   \n",
       "4                          project manager   \n",
       "...                                    ...   \n",
       "99995                       aufnahmeleiter   \n",
       "99996  project manager and system engineer   \n",
       "99997                 surveillante de nuit   \n",
       "99998                       in-home expert   \n",
       "99999                     student reporter   \n",
       "\n",
       "                                  designation_embeddings  \n",
       "0      [0.10359939, 0.012919815, -0.020326696, 0.0210...  \n",
       "1      [0.04978625, 0.0021494515, 0.058040738, 0.0006...  \n",
       "2      [0.053093087, 0.0028660002, 0.03210948, -0.020...  \n",
       "3      [0.010643294, -0.002743718, 0.0069506224, 0.05...  \n",
       "4      [-0.018011387, 0.013982448, 0.02371762, 0.0219...  \n",
       "...                                                  ...  \n",
       "99995  [0.06202216, -0.0016560154, 0.006459615, 0.039...  \n",
       "99996  [-7.5632764e-05, -0.0002490571, 0.0048896256, ...  \n",
       "99997  [-0.005686213, 0.003077648, 0.013325958, 0.035...  \n",
       "99998  [0.011924218, 0.025919154, -0.024609467, 0.074...  \n",
       "99999  [-0.018944662, 0.02312592, 0.0016175045, 0.045...  \n",
       "\n",
       "[100000 rows x 2 columns]"
      ]
     },
     "execution_count": 15,
     "metadata": {},
     "output_type": "execute_result"
    }
   ],
   "source": [
    "df_designation"
   ]
  },
  {
   "cell_type": "code",
   "execution_count": 16,
   "id": "e04bce83",
   "metadata": {},
   "outputs": [
    {
     "data": {
      "text/plain": [
       "Index(['designation', 'designation_embeddings'], dtype='object')"
      ]
     },
     "execution_count": 16,
     "metadata": {},
     "output_type": "execute_result"
    }
   ],
   "source": [
    "df_designation.columns"
   ]
  },
  {
   "cell_type": "code",
   "execution_count": 17,
   "id": "1a5df99d",
   "metadata": {},
   "outputs": [],
   "source": [
    "# df_ip.to_csv(\"embedding_v1.csv\", index = False)"
   ]
  },
  {
   "cell_type": "code",
   "execution_count": 18,
   "id": "469e5ed8",
   "metadata": {},
   "outputs": [],
   "source": [
    "# !pip3 freeze > requirements.txt"
   ]
  },
  {
   "cell_type": "code",
   "execution_count": 19,
   "id": "e05d156f",
   "metadata": {},
   "outputs": [],
   "source": [
    "feat_cols = ['feature'+str(i) for i in range(len(df_designation[\"designation_embeddings\"][0]))]"
   ]
  },
  {
   "cell_type": "code",
   "execution_count": 20,
   "id": "4a7e5391",
   "metadata": {},
   "outputs": [
    {
     "name": "stderr",
     "output_type": "stream",
     "text": [
      "/Users/shubhamsunwalka/clustering_venv/lib/python3.9/site-packages/pandas/core/frame.py:3636: SettingWithCopyWarning: \n",
      "A value is trying to be set on a copy of a slice from a DataFrame.\n",
      "Try using .loc[row_indexer,col_indexer] = value instead\n",
      "\n",
      "See the caveats in the documentation: https://pandas.pydata.org/pandas-docs/stable/user_guide/indexing.html#returning-a-view-versus-a-copy\n",
      "  self[k1] = value[k2]\n",
      "/Users/shubhamsunwalka/clustering_venv/lib/python3.9/site-packages/pandas/core/frame.py:3636: PerformanceWarning: DataFrame is highly fragmented.  This is usually the result of calling `frame.insert` many times, which has poor performance.  Consider using pd.concat instead.  To get a de-fragmented frame, use `newframe = frame.copy()`\n",
      "  self[k1] = value[k2]\n"
     ]
    }
   ],
   "source": [
    "df_designation[feat_cols] = pd.DataFrame(df_designation.designation_embeddings.tolist(), index= df_designation.index)"
   ]
  },
  {
   "cell_type": "code",
   "execution_count": 25,
   "id": "8c09a757",
   "metadata": {},
   "outputs": [],
   "source": [
    "from sklearn.decomposition import PCA\n",
    "# pca_breast = PCA(n_components=2)\n",
    "# principalComponents_breast = pca_breast.fit_transform(x)"
   ]
  },
  {
   "cell_type": "code",
   "execution_count": 26,
   "id": "7014cc61",
   "metadata": {},
   "outputs": [],
   "source": [
    "pca_breast = PCA(n_components=2)\n"
   ]
  },
  {
   "cell_type": "code",
   "execution_count": null,
   "id": "7312dc3a",
   "metadata": {},
   "outputs": [],
   "source": [
    "# from sklearn.preprocessing import StandardScaler\n",
    "# x = df_ip.loc[:, feat_cols].values\n",
    "# x = StandardScaler().fit_transform(x) # normalizing the features"
   ]
  },
  {
   "cell_type": "code",
   "execution_count": 21,
   "id": "90ebdce3",
   "metadata": {},
   "outputs": [],
   "source": [
    "x = df_designation[feat_cols]"
   ]
  },
  {
   "cell_type": "code",
   "execution_count": 22,
   "id": "6dd6a9ed",
   "metadata": {},
   "outputs": [
    {
     "data": {
      "text/plain": [
       "(feature0     -0.002487\n",
       " feature1     -0.004182\n",
       " feature2     -0.006666\n",
       " feature3      0.029712\n",
       " feature4     -0.008790\n",
       "                 ...   \n",
       " feature295   -0.001084\n",
       " feature296    0.001480\n",
       " feature297    0.030965\n",
       " feature298    0.009969\n",
       " feature299   -0.003307\n",
       " Length: 300, dtype: float32,\n",
       " feature0      0.034115\n",
       " feature1      0.038865\n",
       " feature2      0.038647\n",
       " feature3      0.033332\n",
       " feature4      0.036240\n",
       "                 ...   \n",
       " feature295    0.036314\n",
       " feature296    0.035807\n",
       " feature297    0.064849\n",
       " feature298    0.034913\n",
       " feature299    0.033482\n",
       " Length: 300, dtype: float32)"
      ]
     },
     "execution_count": 22,
     "metadata": {},
     "output_type": "execute_result"
    }
   ],
   "source": [
    "np.mean(x),np.std(x)\n"
   ]
  },
  {
   "cell_type": "code",
   "execution_count": null,
   "id": "c6ef4936",
   "metadata": {},
   "outputs": [],
   "source": [
    "# df3 = pd.DataFrame(df_ip['designation_embeddings'].to_list(), columns=feat_cols)"
   ]
  },
  {
   "cell_type": "code",
   "execution_count": 27,
   "id": "3eba53d7",
   "metadata": {},
   "outputs": [],
   "source": [
    "principalComponents_breast = pca_breast.fit_transform(x)"
   ]
  },
  {
   "cell_type": "code",
   "execution_count": 28,
   "id": "9122348f",
   "metadata": {},
   "outputs": [],
   "source": [
    "principal_breast_Df = pd.DataFrame(data = principalComponents_breast\n",
    "             , columns = ['principal component 1', 'principal component 2'])"
   ]
  },
  {
   "cell_type": "code",
   "execution_count": 29,
   "id": "db164939",
   "metadata": {},
   "outputs": [
    {
     "data": {
      "text/html": [
       "<div>\n",
       "<style scoped>\n",
       "    .dataframe tbody tr th:only-of-type {\n",
       "        vertical-align: middle;\n",
       "    }\n",
       "\n",
       "    .dataframe tbody tr th {\n",
       "        vertical-align: top;\n",
       "    }\n",
       "\n",
       "    .dataframe thead th {\n",
       "        text-align: right;\n",
       "    }\n",
       "</style>\n",
       "<table border=\"1\" class=\"dataframe\">\n",
       "  <thead>\n",
       "    <tr style=\"text-align: right;\">\n",
       "      <th></th>\n",
       "      <th>principal component 1</th>\n",
       "      <th>principal component 2</th>\n",
       "    </tr>\n",
       "  </thead>\n",
       "  <tbody>\n",
       "    <tr>\n",
       "      <th>0</th>\n",
       "      <td>0.017465</td>\n",
       "      <td>-0.105501</td>\n",
       "    </tr>\n",
       "    <tr>\n",
       "      <th>1</th>\n",
       "      <td>0.031086</td>\n",
       "      <td>-0.167336</td>\n",
       "    </tr>\n",
       "    <tr>\n",
       "      <th>2</th>\n",
       "      <td>0.009101</td>\n",
       "      <td>-0.113412</td>\n",
       "    </tr>\n",
       "    <tr>\n",
       "      <th>3</th>\n",
       "      <td>-0.059765</td>\n",
       "      <td>0.033029</td>\n",
       "    </tr>\n",
       "    <tr>\n",
       "      <th>4</th>\n",
       "      <td>-0.103331</td>\n",
       "      <td>0.003071</td>\n",
       "    </tr>\n",
       "    <tr>\n",
       "      <th>...</th>\n",
       "      <td>...</td>\n",
       "      <td>...</td>\n",
       "    </tr>\n",
       "    <tr>\n",
       "      <th>99995</th>\n",
       "      <td>-0.047785</td>\n",
       "      <td>0.027731</td>\n",
       "    </tr>\n",
       "    <tr>\n",
       "      <th>99996</th>\n",
       "      <td>-0.047866</td>\n",
       "      <td>-0.001484</td>\n",
       "    </tr>\n",
       "    <tr>\n",
       "      <th>99997</th>\n",
       "      <td>-0.062095</td>\n",
       "      <td>0.025881</td>\n",
       "    </tr>\n",
       "    <tr>\n",
       "      <th>99998</th>\n",
       "      <td>-0.062088</td>\n",
       "      <td>-0.010567</td>\n",
       "    </tr>\n",
       "    <tr>\n",
       "      <th>99999</th>\n",
       "      <td>-0.109253</td>\n",
       "      <td>0.023864</td>\n",
       "    </tr>\n",
       "  </tbody>\n",
       "</table>\n",
       "<p>100000 rows × 2 columns</p>\n",
       "</div>"
      ],
      "text/plain": [
       "       principal component 1  principal component 2\n",
       "0                   0.017465              -0.105501\n",
       "1                   0.031086              -0.167336\n",
       "2                   0.009101              -0.113412\n",
       "3                  -0.059765               0.033029\n",
       "4                  -0.103331               0.003071\n",
       "...                      ...                    ...\n",
       "99995              -0.047785               0.027731\n",
       "99996              -0.047866              -0.001484\n",
       "99997              -0.062095               0.025881\n",
       "99998              -0.062088              -0.010567\n",
       "99999              -0.109253               0.023864\n",
       "\n",
       "[100000 rows x 2 columns]"
      ]
     },
     "execution_count": 29,
     "metadata": {},
     "output_type": "execute_result"
    }
   ],
   "source": [
    "principal_breast_Df"
   ]
  },
  {
   "cell_type": "code",
   "execution_count": 30,
   "id": "a8b7eae4",
   "metadata": {},
   "outputs": [],
   "source": [
    "df_pca = pd.concat([df_designation,principal_breast_Df], axis = 1)"
   ]
  },
  {
   "cell_type": "code",
   "execution_count": 31,
   "id": "27b9c49b",
   "metadata": {},
   "outputs": [
    {
     "data": {
      "text/html": [
       "<div>\n",
       "<style scoped>\n",
       "    .dataframe tbody tr th:only-of-type {\n",
       "        vertical-align: middle;\n",
       "    }\n",
       "\n",
       "    .dataframe tbody tr th {\n",
       "        vertical-align: top;\n",
       "    }\n",
       "\n",
       "    .dataframe thead th {\n",
       "        text-align: right;\n",
       "    }\n",
       "</style>\n",
       "<table border=\"1\" class=\"dataframe\">\n",
       "  <thead>\n",
       "    <tr style=\"text-align: right;\">\n",
       "      <th></th>\n",
       "      <th>designation</th>\n",
       "      <th>designation_embeddings</th>\n",
       "      <th>feature0</th>\n",
       "      <th>feature1</th>\n",
       "      <th>feature2</th>\n",
       "      <th>feature3</th>\n",
       "      <th>feature4</th>\n",
       "      <th>feature5</th>\n",
       "      <th>feature6</th>\n",
       "      <th>feature7</th>\n",
       "      <th>...</th>\n",
       "      <th>feature292</th>\n",
       "      <th>feature293</th>\n",
       "      <th>feature294</th>\n",
       "      <th>feature295</th>\n",
       "      <th>feature296</th>\n",
       "      <th>feature297</th>\n",
       "      <th>feature298</th>\n",
       "      <th>feature299</th>\n",
       "      <th>principal component 1</th>\n",
       "      <th>principal component 2</th>\n",
       "    </tr>\n",
       "  </thead>\n",
       "  <tbody>\n",
       "    <tr>\n",
       "      <th>0</th>\n",
       "      <td>owner</td>\n",
       "      <td>[0.10359939, 0.012919815, -0.020326696, 0.0210...</td>\n",
       "      <td>0.103599</td>\n",
       "      <td>0.012920</td>\n",
       "      <td>-0.020327</td>\n",
       "      <td>0.021071</td>\n",
       "      <td>0.025017</td>\n",
       "      <td>0.139867</td>\n",
       "      <td>0.045241</td>\n",
       "      <td>-0.035406</td>\n",
       "      <td>...</td>\n",
       "      <td>0.002596</td>\n",
       "      <td>0.110680</td>\n",
       "      <td>-0.040352</td>\n",
       "      <td>-0.141885</td>\n",
       "      <td>-0.041152</td>\n",
       "      <td>0.118572</td>\n",
       "      <td>-0.071148</td>\n",
       "      <td>0.088690</td>\n",
       "      <td>0.017465</td>\n",
       "      <td>-0.105501</td>\n",
       "    </tr>\n",
       "    <tr>\n",
       "      <th>1</th>\n",
       "      <td>manager</td>\n",
       "      <td>[0.04978625, 0.0021494515, 0.058040738, 0.0006...</td>\n",
       "      <td>0.049786</td>\n",
       "      <td>0.002149</td>\n",
       "      <td>0.058041</td>\n",
       "      <td>0.000667</td>\n",
       "      <td>0.012303</td>\n",
       "      <td>0.092651</td>\n",
       "      <td>0.050417</td>\n",
       "      <td>-0.037550</td>\n",
       "      <td>...</td>\n",
       "      <td>0.008532</td>\n",
       "      <td>0.075187</td>\n",
       "      <td>0.003187</td>\n",
       "      <td>-0.026954</td>\n",
       "      <td>-0.031066</td>\n",
       "      <td>0.075162</td>\n",
       "      <td>0.018271</td>\n",
       "      <td>-0.002762</td>\n",
       "      <td>0.031086</td>\n",
       "      <td>-0.167336</td>\n",
       "    </tr>\n",
       "    <tr>\n",
       "      <th>2</th>\n",
       "      <td>director</td>\n",
       "      <td>[0.053093087, 0.0028660002, 0.03210948, -0.020...</td>\n",
       "      <td>0.053093</td>\n",
       "      <td>0.002866</td>\n",
       "      <td>0.032109</td>\n",
       "      <td>-0.020286</td>\n",
       "      <td>-0.004184</td>\n",
       "      <td>0.046506</td>\n",
       "      <td>0.070234</td>\n",
       "      <td>0.001902</td>\n",
       "      <td>...</td>\n",
       "      <td>0.031772</td>\n",
       "      <td>0.054791</td>\n",
       "      <td>-0.043619</td>\n",
       "      <td>0.006205</td>\n",
       "      <td>-0.005137</td>\n",
       "      <td>0.058903</td>\n",
       "      <td>0.047262</td>\n",
       "      <td>0.026753</td>\n",
       "      <td>0.009101</td>\n",
       "      <td>-0.113412</td>\n",
       "    </tr>\n",
       "    <tr>\n",
       "      <th>3</th>\n",
       "      <td>chief executive officer</td>\n",
       "      <td>[0.010643294, -0.002743718, 0.0069506224, 0.05...</td>\n",
       "      <td>0.010643</td>\n",
       "      <td>-0.002744</td>\n",
       "      <td>0.006951</td>\n",
       "      <td>0.059800</td>\n",
       "      <td>-0.008688</td>\n",
       "      <td>-0.022891</td>\n",
       "      <td>-0.005212</td>\n",
       "      <td>0.003306</td>\n",
       "      <td>...</td>\n",
       "      <td>-0.034283</td>\n",
       "      <td>-0.014590</td>\n",
       "      <td>0.012142</td>\n",
       "      <td>0.004158</td>\n",
       "      <td>-0.002489</td>\n",
       "      <td>0.041687</td>\n",
       "      <td>-0.000204</td>\n",
       "      <td>-0.031033</td>\n",
       "      <td>-0.059765</td>\n",
       "      <td>0.033029</td>\n",
       "    </tr>\n",
       "    <tr>\n",
       "      <th>4</th>\n",
       "      <td>project manager</td>\n",
       "      <td>[-0.018011387, 0.013982448, 0.02371762, 0.0219...</td>\n",
       "      <td>-0.018011</td>\n",
       "      <td>0.013982</td>\n",
       "      <td>0.023718</td>\n",
       "      <td>0.021989</td>\n",
       "      <td>-0.003461</td>\n",
       "      <td>-0.007524</td>\n",
       "      <td>-0.023537</td>\n",
       "      <td>0.006761</td>\n",
       "      <td>...</td>\n",
       "      <td>-0.001556</td>\n",
       "      <td>-0.016821</td>\n",
       "      <td>0.011915</td>\n",
       "      <td>-0.005689</td>\n",
       "      <td>-0.009691</td>\n",
       "      <td>0.017902</td>\n",
       "      <td>0.013783</td>\n",
       "      <td>-0.003045</td>\n",
       "      <td>-0.103331</td>\n",
       "      <td>0.003071</td>\n",
       "    </tr>\n",
       "  </tbody>\n",
       "</table>\n",
       "<p>5 rows × 304 columns</p>\n",
       "</div>"
      ],
      "text/plain": [
       "               designation                             designation_embeddings  \\\n",
       "0                    owner  [0.10359939, 0.012919815, -0.020326696, 0.0210...   \n",
       "1                  manager  [0.04978625, 0.0021494515, 0.058040738, 0.0006...   \n",
       "2                 director  [0.053093087, 0.0028660002, 0.03210948, -0.020...   \n",
       "3  chief executive officer  [0.010643294, -0.002743718, 0.0069506224, 0.05...   \n",
       "4          project manager  [-0.018011387, 0.013982448, 0.02371762, 0.0219...   \n",
       "\n",
       "   feature0  feature1  feature2  feature3  feature4  feature5  feature6  \\\n",
       "0  0.103599  0.012920 -0.020327  0.021071  0.025017  0.139867  0.045241   \n",
       "1  0.049786  0.002149  0.058041  0.000667  0.012303  0.092651  0.050417   \n",
       "2  0.053093  0.002866  0.032109 -0.020286 -0.004184  0.046506  0.070234   \n",
       "3  0.010643 -0.002744  0.006951  0.059800 -0.008688 -0.022891 -0.005212   \n",
       "4 -0.018011  0.013982  0.023718  0.021989 -0.003461 -0.007524 -0.023537   \n",
       "\n",
       "   feature7  ...  feature292  feature293  feature294  feature295  feature296  \\\n",
       "0 -0.035406  ...    0.002596    0.110680   -0.040352   -0.141885   -0.041152   \n",
       "1 -0.037550  ...    0.008532    0.075187    0.003187   -0.026954   -0.031066   \n",
       "2  0.001902  ...    0.031772    0.054791   -0.043619    0.006205   -0.005137   \n",
       "3  0.003306  ...   -0.034283   -0.014590    0.012142    0.004158   -0.002489   \n",
       "4  0.006761  ...   -0.001556   -0.016821    0.011915   -0.005689   -0.009691   \n",
       "\n",
       "   feature297  feature298  feature299  principal component 1  \\\n",
       "0    0.118572   -0.071148    0.088690               0.017465   \n",
       "1    0.075162    0.018271   -0.002762               0.031086   \n",
       "2    0.058903    0.047262    0.026753               0.009101   \n",
       "3    0.041687   -0.000204   -0.031033              -0.059765   \n",
       "4    0.017902    0.013783   -0.003045              -0.103331   \n",
       "\n",
       "   principal component 2  \n",
       "0              -0.105501  \n",
       "1              -0.167336  \n",
       "2              -0.113412  \n",
       "3               0.033029  \n",
       "4               0.003071  \n",
       "\n",
       "[5 rows x 304 columns]"
      ]
     },
     "execution_count": 31,
     "metadata": {},
     "output_type": "execute_result"
    }
   ],
   "source": [
    "df_pca.head()"
   ]
  },
  {
   "cell_type": "code",
   "execution_count": 32,
   "id": "3c8608d1",
   "metadata": {},
   "outputs": [],
   "source": [
    "df_pca_ip = df_pca[[\"principal component 1\",\"principal component 2\"]]"
   ]
  },
  {
   "cell_type": "code",
   "execution_count": null,
   "id": "14871932",
   "metadata": {},
   "outputs": [],
   "source": [
    "# clustering find"
   ]
  },
  {
   "cell_type": "code",
   "execution_count": 34,
   "id": "144a0b6e",
   "metadata": {},
   "outputs": [
    {
     "name": "stdout",
     "output_type": "stream",
     "text": [
      "1\n",
      "2\n",
      "3\n",
      "4\n",
      "5\n",
      "6\n",
      "7\n",
      "8\n",
      "9\n",
      "10\n"
     ]
    },
    {
     "data": {
      "image/png": "[encoded data removed]",
      "text/plain": [
       "<Figure size 432x288 with 1 Axes>"
      ]
     },
     "metadata": {
      "needs_background": "light"
     },
     "output_type": "display_data"
    }
   ],
   "source": [
    "\n",
    "from sklearn.cluster import KMeans\n",
    "wcss = []\n",
    "for i in range(1,11):\n",
    "    print(i)\n",
    "    kmeans = KMeans(n_clusters=i,init='k-means++',max_iter=600,n_init=10,random_state=0)\n",
    "    kmeans.fit(df_pca_ip)\n",
    "    wcss.append(kmeans.inertia_)\n",
    "plt.plot(range(1,11),wcss)\n",
    "plt.title('The Elbow Method')\n",
    "plt.xlabel('Number of clusters')\n",
    "plt.ylabel('WCSS')\n",
    "plt.savefig('elbow.png')\n",
    "plt.show()"
   ]
  },
  {
   "cell_type": "code",
   "execution_count": 35,
   "id": "381b3760",
   "metadata": {},
   "outputs": [
    {
     "name": "stderr",
     "output_type": "stream",
     "text": [
      "/var/folders/cb/5xtlk4kd1z9dj9xn83x7_2lc0000gn/T/ipykernel_13466/2256177774.py:5: SettingWithCopyWarning: \n",
      "A value is trying to be set on a copy of a slice from a DataFrame.\n",
      "Try using .loc[row_indexer,col_indexer] = value instead\n",
      "\n",
      "See the caveats in the documentation: https://pandas.pydata.org/pandas-docs/stable/user_guide/indexing.html#returning-a-view-versus-a-copy\n",
      "  df_pca_ip['cluster']=prediction_val\n"
     ]
    }
   ],
   "source": [
    "# Let n_cluster be 6 and 8\n",
    "kmeans = KMeans(n_clusters = 4, init = 'k-means++', random_state = 42)\n",
    "prediction_val = kmeans.fit_predict(df_pca_ip.values)\n",
    "#dropping the predicted value into the column name cluster\n",
    "df_pca_ip['cluster']=prediction_val"
   ]
  },
  {
   "cell_type": "code",
   "execution_count": 36,
   "id": "d7201e1d",
   "metadata": {},
   "outputs": [
    {
     "data": {
      "text/html": [
       "<div>\n",
       "<style scoped>\n",
       "    .dataframe tbody tr th:only-of-type {\n",
       "        vertical-align: middle;\n",
       "    }\n",
       "\n",
       "    .dataframe tbody tr th {\n",
       "        vertical-align: top;\n",
       "    }\n",
       "\n",
       "    .dataframe thead th {\n",
       "        text-align: right;\n",
       "    }\n",
       "</style>\n",
       "<table border=\"1\" class=\"dataframe\">\n",
       "  <thead>\n",
       "    <tr style=\"text-align: right;\">\n",
       "      <th></th>\n",
       "      <th>principal component 1</th>\n",
       "      <th>principal component 2</th>\n",
       "      <th>cluster</th>\n",
       "    </tr>\n",
       "  </thead>\n",
       "  <tbody>\n",
       "    <tr>\n",
       "      <th>0</th>\n",
       "      <td>0.017465</td>\n",
       "      <td>-0.105501</td>\n",
       "      <td>2</td>\n",
       "    </tr>\n",
       "    <tr>\n",
       "      <th>1</th>\n",
       "      <td>0.031086</td>\n",
       "      <td>-0.167336</td>\n",
       "      <td>2</td>\n",
       "    </tr>\n",
       "    <tr>\n",
       "      <th>2</th>\n",
       "      <td>0.009101</td>\n",
       "      <td>-0.113412</td>\n",
       "      <td>2</td>\n",
       "    </tr>\n",
       "    <tr>\n",
       "      <th>3</th>\n",
       "      <td>-0.059765</td>\n",
       "      <td>0.033029</td>\n",
       "      <td>2</td>\n",
       "    </tr>\n",
       "    <tr>\n",
       "      <th>4</th>\n",
       "      <td>-0.103331</td>\n",
       "      <td>0.003071</td>\n",
       "      <td>2</td>\n",
       "    </tr>\n",
       "    <tr>\n",
       "      <th>...</th>\n",
       "      <td>...</td>\n",
       "      <td>...</td>\n",
       "      <td>...</td>\n",
       "    </tr>\n",
       "    <tr>\n",
       "      <th>99995</th>\n",
       "      <td>-0.047785</td>\n",
       "      <td>0.027731</td>\n",
       "      <td>2</td>\n",
       "    </tr>\n",
       "    <tr>\n",
       "      <th>99996</th>\n",
       "      <td>-0.047866</td>\n",
       "      <td>-0.001484</td>\n",
       "      <td>2</td>\n",
       "    </tr>\n",
       "    <tr>\n",
       "      <th>99997</th>\n",
       "      <td>-0.062095</td>\n",
       "      <td>0.025881</td>\n",
       "      <td>2</td>\n",
       "    </tr>\n",
       "    <tr>\n",
       "      <th>99998</th>\n",
       "      <td>-0.062088</td>\n",
       "      <td>-0.010567</td>\n",
       "      <td>2</td>\n",
       "    </tr>\n",
       "    <tr>\n",
       "      <th>99999</th>\n",
       "      <td>-0.109253</td>\n",
       "      <td>0.023864</td>\n",
       "      <td>2</td>\n",
       "    </tr>\n",
       "  </tbody>\n",
       "</table>\n",
       "<p>100000 rows × 3 columns</p>\n",
       "</div>"
      ],
      "text/plain": [
       "       principal component 1  principal component 2  cluster\n",
       "0                   0.017465              -0.105501        2\n",
       "1                   0.031086              -0.167336        2\n",
       "2                   0.009101              -0.113412        2\n",
       "3                  -0.059765               0.033029        2\n",
       "4                  -0.103331               0.003071        2\n",
       "...                      ...                    ...      ...\n",
       "99995              -0.047785               0.027731        2\n",
       "99996              -0.047866              -0.001484        2\n",
       "99997              -0.062095               0.025881        2\n",
       "99998              -0.062088              -0.010567        2\n",
       "99999              -0.109253               0.023864        2\n",
       "\n",
       "[100000 rows x 3 columns]"
      ]
     },
     "execution_count": 36,
     "metadata": {},
     "output_type": "execute_result"
    }
   ],
   "source": [
    "df_pca_ip"
   ]
  },
  {
   "cell_type": "code",
   "execution_count": 38,
   "id": "f745f99b",
   "metadata": {},
   "outputs": [
    {
     "name": "stdout",
     "output_type": "stream",
     "text": [
      "[[ 0.57172424 -0.05665265]\n",
      " [ 1.3881272  -0.34681913]\n",
      " [-0.0460304   0.00264122]\n",
      " [ 2.6354167   0.7049449 ]]\n"
     ]
    }
   ],
   "source": [
    "cent = kmeans.cluster_centers_\n",
    "print(cent)"
   ]
  },
  {
   "cell_type": "code",
   "execution_count": 39,
   "id": "8c19d267",
   "metadata": {},
   "outputs": [],
   "source": [
    "#clust_labels = prediction_val\n",
    "kmeans = pd.DataFrame(prediction_val)\n",
    "df_pca_ip.insert((df_pca_ip.shape[1]),'kmeans',kmeans)"
   ]
  },
  {
   "cell_type": "code",
   "execution_count": 40,
   "id": "7683ecde",
   "metadata": {},
   "outputs": [
    {
     "data": {
      "text/html": [
       "<div>\n",
       "<style scoped>\n",
       "    .dataframe tbody tr th:only-of-type {\n",
       "        vertical-align: middle;\n",
       "    }\n",
       "\n",
       "    .dataframe tbody tr th {\n",
       "        vertical-align: top;\n",
       "    }\n",
       "\n",
       "    .dataframe thead th {\n",
       "        text-align: right;\n",
       "    }\n",
       "</style>\n",
       "<table border=\"1\" class=\"dataframe\">\n",
       "  <thead>\n",
       "    <tr style=\"text-align: right;\">\n",
       "      <th></th>\n",
       "      <th>principal component 1</th>\n",
       "      <th>principal component 2</th>\n",
       "      <th>cluster</th>\n",
       "      <th>kmeans</th>\n",
       "    </tr>\n",
       "  </thead>\n",
       "  <tbody>\n",
       "    <tr>\n",
       "      <th>0</th>\n",
       "      <td>0.017465</td>\n",
       "      <td>-0.105501</td>\n",
       "      <td>2</td>\n",
       "      <td>2</td>\n",
       "    </tr>\n",
       "    <tr>\n",
       "      <th>1</th>\n",
       "      <td>0.031086</td>\n",
       "      <td>-0.167336</td>\n",
       "      <td>2</td>\n",
       "      <td>2</td>\n",
       "    </tr>\n",
       "    <tr>\n",
       "      <th>2</th>\n",
       "      <td>0.009101</td>\n",
       "      <td>-0.113412</td>\n",
       "      <td>2</td>\n",
       "      <td>2</td>\n",
       "    </tr>\n",
       "    <tr>\n",
       "      <th>3</th>\n",
       "      <td>-0.059765</td>\n",
       "      <td>0.033029</td>\n",
       "      <td>2</td>\n",
       "      <td>2</td>\n",
       "    </tr>\n",
       "    <tr>\n",
       "      <th>4</th>\n",
       "      <td>-0.103331</td>\n",
       "      <td>0.003071</td>\n",
       "      <td>2</td>\n",
       "      <td>2</td>\n",
       "    </tr>\n",
       "    <tr>\n",
       "      <th>...</th>\n",
       "      <td>...</td>\n",
       "      <td>...</td>\n",
       "      <td>...</td>\n",
       "      <td>...</td>\n",
       "    </tr>\n",
       "    <tr>\n",
       "      <th>99995</th>\n",
       "      <td>-0.047785</td>\n",
       "      <td>0.027731</td>\n",
       "      <td>2</td>\n",
       "      <td>2</td>\n",
       "    </tr>\n",
       "    <tr>\n",
       "      <th>99996</th>\n",
       "      <td>-0.047866</td>\n",
       "      <td>-0.001484</td>\n",
       "      <td>2</td>\n",
       "      <td>2</td>\n",
       "    </tr>\n",
       "    <tr>\n",
       "      <th>99997</th>\n",
       "      <td>-0.062095</td>\n",
       "      <td>0.025881</td>\n",
       "      <td>2</td>\n",
       "      <td>2</td>\n",
       "    </tr>\n",
       "    <tr>\n",
       "      <th>99998</th>\n",
       "      <td>-0.062088</td>\n",
       "      <td>-0.010567</td>\n",
       "      <td>2</td>\n",
       "      <td>2</td>\n",
       "    </tr>\n",
       "    <tr>\n",
       "      <th>99999</th>\n",
       "      <td>-0.109253</td>\n",
       "      <td>0.023864</td>\n",
       "      <td>2</td>\n",
       "      <td>2</td>\n",
       "    </tr>\n",
       "  </tbody>\n",
       "</table>\n",
       "<p>100000 rows × 4 columns</p>\n",
       "</div>"
      ],
      "text/plain": [
       "       principal component 1  principal component 2  cluster  kmeans\n",
       "0                   0.017465              -0.105501        2       2\n",
       "1                   0.031086              -0.167336        2       2\n",
       "2                   0.009101              -0.113412        2       2\n",
       "3                  -0.059765               0.033029        2       2\n",
       "4                  -0.103331               0.003071        2       2\n",
       "...                      ...                    ...      ...     ...\n",
       "99995              -0.047785               0.027731        2       2\n",
       "99996              -0.047866              -0.001484        2       2\n",
       "99997              -0.062095               0.025881        2       2\n",
       "99998              -0.062088              -0.010567        2       2\n",
       "99999              -0.109253               0.023864        2       2\n",
       "\n",
       "[100000 rows x 4 columns]"
      ]
     },
     "execution_count": 40,
     "metadata": {},
     "output_type": "execute_result"
    }
   ],
   "source": [
    "df_pca_ip"
   ]
  },
  {
   "cell_type": "code",
   "execution_count": 41,
   "id": "cb8979b3",
   "metadata": {},
   "outputs": [
    {
     "data": {
      "text/plain": [
       "<matplotlib.colorbar.Colorbar at 0x12cc1ebb0>"
      ]
     },
     "execution_count": 41,
     "metadata": {},
     "output_type": "execute_result"
    },
    {
     "data": {
      "image/png": "[encoded data removed]",
      "text/plain": [
       "<Figure size 1440x720 with 2 Axes>"
      ]
     },
     "metadata": {
      "needs_background": "light"
     },
     "output_type": "display_data"
    }
   ],
   "source": [
    "#Plot the clusters obtained using k means\n",
    "fig = plt.figure(figsize=(20,10))\n",
    "ax = fig.add_subplot(111)\n",
    "scatter = ax.scatter(df_pca_ip['principal component 1'],df_pca_ip['principal component 2'],\n",
    "                     c=kmeans[0],s=50)\n",
    "ax.set_title('K-Means Clustering')\n",
    "ax.set_xlabel('PCA1 Position')\n",
    "ax.set_ylabel('PCA2 Position')\n",
    "plt.colorbar(scatter)"
   ]
  },
  {
   "cell_type": "code",
   "execution_count": 45,
   "id": "2975802d",
   "metadata": {},
   "outputs": [],
   "source": [
    "final_df=pd.DataFrame({'designation':df['designation'].values,\n",
    "                       'cluster':df_pca_ip[\"cluster\"]})"
   ]
  },
  {
   "cell_type": "code",
   "execution_count": 46,
   "id": "69d47cb5",
   "metadata": {},
   "outputs": [
    {
     "data": {
      "text/html": [
       "<div>\n",
       "<style scoped>\n",
       "    .dataframe tbody tr th:only-of-type {\n",
       "        vertical-align: middle;\n",
       "    }\n",
       "\n",
       "    .dataframe tbody tr th {\n",
       "        vertical-align: top;\n",
       "    }\n",
       "\n",
       "    .dataframe thead th {\n",
       "        text-align: right;\n",
       "    }\n",
       "</style>\n",
       "<table border=\"1\" class=\"dataframe\">\n",
       "  <thead>\n",
       "    <tr style=\"text-align: right;\">\n",
       "      <th></th>\n",
       "      <th>designation</th>\n",
       "      <th>cluster</th>\n",
       "    </tr>\n",
       "  </thead>\n",
       "  <tbody>\n",
       "    <tr>\n",
       "      <th>0</th>\n",
       "      <td>owner</td>\n",
       "      <td>2</td>\n",
       "    </tr>\n",
       "    <tr>\n",
       "      <th>1</th>\n",
       "      <td>manager</td>\n",
       "      <td>2</td>\n",
       "    </tr>\n",
       "    <tr>\n",
       "      <th>2</th>\n",
       "      <td>director</td>\n",
       "      <td>2</td>\n",
       "    </tr>\n",
       "    <tr>\n",
       "      <th>3</th>\n",
       "      <td>chief executive officer</td>\n",
       "      <td>2</td>\n",
       "    </tr>\n",
       "    <tr>\n",
       "      <th>4</th>\n",
       "      <td>project manager</td>\n",
       "      <td>2</td>\n",
       "    </tr>\n",
       "  </tbody>\n",
       "</table>\n",
       "</div>"
      ],
      "text/plain": [
       "               designation  cluster\n",
       "0                    owner        2\n",
       "1                  manager        2\n",
       "2                 director        2\n",
       "3  chief executive officer        2\n",
       "4          project manager        2"
      ]
     },
     "execution_count": 46,
     "metadata": {},
     "output_type": "execute_result"
    }
   ],
   "source": [
    "final_df.head()"
   ]
  },
  {
   "cell_type": "code",
   "execution_count": null,
   "id": "ade383ac",
   "metadata": {},
   "outputs": [],
   "source": []
  }
 ],
 "metadata": {
  "kernelspec": {
   "display_name": "Python 3 (ipykernel)",
   "language": "python",
   "name": "python3"
  },
  "language_info": {
   "codemirror_mode": {
    "name": "ipython",
    "version": 3
   },
   "file_extension": ".py",
   "mimetype": "text/x-python",
   "name": "python",
   "nbconvert_exporter": "python",
   "pygments_lexer": "ipython3",
   "version": "3.9.5"
  }
 },
 "nbformat": 4,
 "nbformat_minor": 5
}
