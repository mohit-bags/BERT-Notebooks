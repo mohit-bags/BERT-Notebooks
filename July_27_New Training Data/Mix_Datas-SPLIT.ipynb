{
 "cells": [
  {
   "cell_type": "code",
   "execution_count": 1,
   "id": "6e4b3ad1",
   "metadata": {},
   "outputs": [],
   "source": [
    "import numpy as np\n",
    "import pandas as pd\n",
    "from sklearn.model_selection import train_test_split"
   ]
  },
  {
   "cell_type": "code",
   "execution_count": 2,
   "id": "0b0afade",
   "metadata": {},
   "outputs": [
    {
     "name": "stdout",
     "output_type": "stream",
     "text": [
      "1824 == 1459 + 365\n"
     ]
    }
   ],
   "source": [
    "jd = pd.read_excel('Jobs.xlsx')\n",
    "ID='ID'\n",
    "text='text'\n",
    "tag='Manually Tagged'\n",
    "\n",
    "jd_refined = jd[[ID,text,tag]]\n",
    "\n",
    "\n",
    "jd_refined_train, jd_refined_val = train_test_split(jd_refined, test_size =0.2)\n",
    "print(len(jd_refined),'==',len(jd_refined_train),'+',len(jd_refined_val))"
   ]
  },
  {
   "cell_type": "code",
   "execution_count": 3,
   "id": "9c2bc97b",
   "metadata": {},
   "outputs": [
    {
     "name": "stdout",
     "output_type": "stream",
     "text": [
      "2893 == 2314 + 579\n"
     ]
    }
   ],
   "source": [
    "summary = pd.read_excel('Summary.xlsx')\n",
    "\n",
    "summary.columns\n",
    "# summary=summary.loc[:2499]\n",
    "\n",
    "ID='ID'\n",
    "text='text'\n",
    "tag='Manually Tagged'\n",
    "\n",
    "summary_refined = summary[[ID,text,tag]]\n",
    "summary_refined.columns=['ID','text','Manually Tagged']\n",
    "\n",
    "summary_refined_train, summary_refined_val = train_test_split(summary_refined, test_size =0.2)\n",
    "print(len(summary_refined),'==',len(summary_refined_train),'+',len(summary_refined_val))"
   ]
  },
  {
   "cell_type": "code",
   "execution_count": 4,
   "id": "fddaf8e5",
   "metadata": {},
   "outputs": [
    {
     "name": "stdout",
     "output_type": "stream",
     "text": [
      "1851 == 1480 + 371\n"
     ]
    }
   ],
   "source": [
    "exp = pd.read_excel('Experience.xlsx')\n",
    "\n",
    "exp.columns\n",
    "# exp=exp.loc[:2499]\n",
    "\n",
    "ID='ID'\n",
    "text='text'\n",
    "tag='Manually Tagged'\n",
    "\n",
    "exp_refined = exp[[ID,text,tag]]\n",
    "exp_refined.columns=['ID','text','Manually Tagged']\n",
    "\n",
    "exp_refined_train, exp_refined_val = train_test_split(exp_refined, test_size =0.2)\n",
    "print(len(exp_refined),'==',len(exp_refined_train),'+',len(exp_refined_val))"
   ]
  },
  {
   "cell_type": "code",
   "execution_count": 5,
   "id": "52a5e982",
   "metadata": {},
   "outputs": [],
   "source": [
    "train_data = pd.concat([exp_refined_train,summary_refined_train,jd_refined_train])\n",
    "val_data = pd.concat([exp_refined_val,summary_refined_val,jd_refined_val])"
   ]
  },
  {
   "cell_type": "code",
   "execution_count": 6,
   "id": "bb1ecda1",
   "metadata": {},
   "outputs": [
    {
     "name": "stdout",
     "output_type": "stream",
     "text": [
      "0.7997868453105969\n"
     ]
    }
   ],
   "source": [
    "print(len(train_data)/(len(train_data)+len(val_data)))"
   ]
  },
  {
   "cell_type": "code",
   "execution_count": 7,
   "id": "8cb31457",
   "metadata": {},
   "outputs": [
    {
     "data": {
      "text/plain": [
       "(5253, 1315)"
      ]
     },
     "execution_count": 7,
     "metadata": {},
     "output_type": "execute_result"
    }
   ],
   "source": [
    "len(train_data),len(val_data)"
   ]
  },
  {
   "cell_type": "code",
   "execution_count": 8,
   "id": "d83b3fc1",
   "metadata": {},
   "outputs": [
    {
     "data": {
      "text/plain": [
       "(5248, 1313)"
      ]
     },
     "execution_count": 8,
     "metadata": {},
     "output_type": "execute_result"
    }
   ],
   "source": [
    "len(train_data.dropna()),len(val_data.dropna())"
   ]
  },
  {
   "cell_type": "code",
   "execution_count": 9,
   "id": "1c3dd898",
   "metadata": {},
   "outputs": [],
   "source": [
    "train_data=train_data.dropna()\n",
    "val_data=val_data.dropna()\n",
    "train_data.reset_index(inplace=True,drop=True)\n",
    "val_data.reset_index(inplace=True,drop=True)"
   ]
  },
  {
   "cell_type": "code",
   "execution_count": 10,
   "id": "b6eed23b",
   "metadata": {},
   "outputs": [
    {
     "data": {
      "text/html": [
       "<div>\n",
       "<style scoped>\n",
       "    .dataframe tbody tr th:only-of-type {\n",
       "        vertical-align: middle;\n",
       "    }\n",
       "\n",
       "    .dataframe tbody tr th {\n",
       "        vertical-align: top;\n",
       "    }\n",
       "\n",
       "    .dataframe thead th {\n",
       "        text-align: right;\n",
       "    }\n",
       "</style>\n",
       "<table border=\"1\" class=\"dataframe\">\n",
       "  <thead>\n",
       "    <tr style=\"text-align: right;\">\n",
       "      <th></th>\n",
       "      <th>ID</th>\n",
       "      <th>text</th>\n",
       "      <th>Manually Tagged</th>\n",
       "    </tr>\n",
       "  </thead>\n",
       "  <tbody>\n",
       "    <tr>\n",
       "      <th>0</th>\n",
       "      <td>e6BCr4HKuaVKMHPG-quc4A_0000</td>\n",
       "      <td>[\"as part of ixia solutions group we have crea...</td>\n",
       "      <td>['ixia']</td>\n",
       "    </tr>\n",
       "    <tr>\n",
       "      <th>1</th>\n",
       "      <td>syJJQvc1-bMAaoBys9Do5A_0000</td>\n",
       "      <td>['worked as a asst. sales manager with indiama...</td>\n",
       "      <td>['julius']</td>\n",
       "    </tr>\n",
       "    <tr>\n",
       "      <th>2</th>\n",
       "      <td>hwJrXcf6j4jLug6447Vqgw_0000</td>\n",
       "      <td>[\"executed integrated healthcare communication...</td>\n",
       "      <td>['kythera', ' curated']</td>\n",
       "    </tr>\n",
       "    <tr>\n",
       "      <th>3</th>\n",
       "      <td>DqHwovLSSVIEBqqCauyh3w_0000</td>\n",
       "      <td>[\"we understand that our customers want an eas...</td>\n",
       "      <td>['our people']</td>\n",
       "    </tr>\n",
       "    <tr>\n",
       "      <th>4</th>\n",
       "      <td>uG69cDFE6LidsloG3aKoCQ_0000</td>\n",
       "      <td>['digital client services liaison at accenture']</td>\n",
       "      <td>['accenture']</td>\n",
       "    </tr>\n",
       "    <tr>\n",
       "      <th>...</th>\n",
       "      <td>...</td>\n",
       "      <td>...</td>\n",
       "      <td>...</td>\n",
       "    </tr>\n",
       "    <tr>\n",
       "      <th>1308</th>\n",
       "      <td>87c2aff3-7dfd-465b-96c1-f5e682d6ca20</td>\n",
       "      <td>['ep wealth advisors admin , llc (\"epwa\") is a...</td>\n",
       "      <td>['microsoft office']</td>\n",
       "    </tr>\n",
       "    <tr>\n",
       "      <th>1309</th>\n",
       "      <td>42ed88b1-a646-4dc1-962f-c0b61fe10a31</td>\n",
       "      <td>[\"name provider purpose expiry type name provi...</td>\n",
       "      <td>['google doubleclick']</td>\n",
       "    </tr>\n",
       "    <tr>\n",
       "      <th>1310</th>\n",
       "      <td>9fe82f10-b9ed-4299-af4f-51b0df3da636</td>\n",
       "      <td>['**class 1 tipper drivers**\\n\\nnorthampton\\n\\...</td>\n",
       "      <td>['onsite']</td>\n",
       "    </tr>\n",
       "    <tr>\n",
       "      <th>1311</th>\n",
       "      <td>5734b520-8edc-420b-911d-eda20f67b08c</td>\n",
       "      <td>[\"**solutions engineer**\\n\\nmelbourne **this r...</td>\n",
       "      <td>[' salesforce sales cloud', ' salesforce marke...</td>\n",
       "    </tr>\n",
       "    <tr>\n",
       "      <th>1312</th>\n",
       "      <td>83d29d88-9cb7-4d93-9cca-5f7e0a27905b</td>\n",
       "      <td>['**staff software engineer in test - konnect ...</td>\n",
       "      <td>['kubernetes', ' lifecycle']</td>\n",
       "    </tr>\n",
       "  </tbody>\n",
       "</table>\n",
       "<p>1313 rows × 3 columns</p>\n",
       "</div>"
      ],
      "text/plain": [
       "                                        ID  \\\n",
       "0              e6BCr4HKuaVKMHPG-quc4A_0000   \n",
       "1              syJJQvc1-bMAaoBys9Do5A_0000   \n",
       "2              hwJrXcf6j4jLug6447Vqgw_0000   \n",
       "3              DqHwovLSSVIEBqqCauyh3w_0000   \n",
       "4              uG69cDFE6LidsloG3aKoCQ_0000   \n",
       "...                                    ...   \n",
       "1308  87c2aff3-7dfd-465b-96c1-f5e682d6ca20   \n",
       "1309  42ed88b1-a646-4dc1-962f-c0b61fe10a31   \n",
       "1310  9fe82f10-b9ed-4299-af4f-51b0df3da636   \n",
       "1311  5734b520-8edc-420b-911d-eda20f67b08c   \n",
       "1312  83d29d88-9cb7-4d93-9cca-5f7e0a27905b   \n",
       "\n",
       "                                                   text  \\\n",
       "0     [\"as part of ixia solutions group we have crea...   \n",
       "1     ['worked as a asst. sales manager with indiama...   \n",
       "2     [\"executed integrated healthcare communication...   \n",
       "3     [\"we understand that our customers want an eas...   \n",
       "4      ['digital client services liaison at accenture']   \n",
       "...                                                 ...   \n",
       "1308  ['ep wealth advisors admin , llc (\"epwa\") is a...   \n",
       "1309  [\"name provider purpose expiry type name provi...   \n",
       "1310  ['**class 1 tipper drivers**\\n\\nnorthampton\\n\\...   \n",
       "1311  [\"**solutions engineer**\\n\\nmelbourne **this r...   \n",
       "1312  ['**staff software engineer in test - konnect ...   \n",
       "\n",
       "                                        Manually Tagged  \n",
       "0                                              ['ixia']  \n",
       "1                                            ['julius']  \n",
       "2                               ['kythera', ' curated']  \n",
       "3                                        ['our people']  \n",
       "4                                         ['accenture']  \n",
       "...                                                 ...  \n",
       "1308                               ['microsoft office']  \n",
       "1309                             ['google doubleclick']  \n",
       "1310                                         ['onsite']  \n",
       "1311  [' salesforce sales cloud', ' salesforce marke...  \n",
       "1312                       ['kubernetes', ' lifecycle']  \n",
       "\n",
       "[1313 rows x 3 columns]"
      ]
     },
     "execution_count": 10,
     "metadata": {},
     "output_type": "execute_result"
    }
   ],
   "source": [
    "val_data"
   ]
  },
  {
   "cell_type": "code",
   "execution_count": 11,
   "id": "50f00aa7",
   "metadata": {},
   "outputs": [],
   "source": [
    "def rem_Space_manual(data,tag):\n",
    "    data[tag]=data[tag].astype(str)\n",
    "    data[tag]=data[tag].apply(eval)\n",
    "    lst=[]\n",
    "    for i in data[tag]:\n",
    "        one_sen=[]\n",
    "        for j in i:\n",
    "            one_sen.append(j.strip())\n",
    "        lst.append(one_sen)\n",
    "    data[tag]=lst\n",
    "    return data"
   ]
  },
  {
   "cell_type": "code",
   "execution_count": 12,
   "id": "de7d5ba7",
   "metadata": {},
   "outputs": [],
   "source": [
    "train_data=rem_Space_manual(train_data,tag)\n",
    "val_data=rem_Space_manual(val_data,tag)"
   ]
  },
  {
   "cell_type": "code",
   "execution_count": 13,
   "id": "660247fa",
   "metadata": {},
   "outputs": [
    {
     "data": {
      "text/html": [
       "<div>\n",
       "<style scoped>\n",
       "    .dataframe tbody tr th:only-of-type {\n",
       "        vertical-align: middle;\n",
       "    }\n",
       "\n",
       "    .dataframe tbody tr th {\n",
       "        vertical-align: top;\n",
       "    }\n",
       "\n",
       "    .dataframe thead th {\n",
       "        text-align: right;\n",
       "    }\n",
       "</style>\n",
       "<table border=\"1\" class=\"dataframe\">\n",
       "  <thead>\n",
       "    <tr style=\"text-align: right;\">\n",
       "      <th></th>\n",
       "      <th>ID</th>\n",
       "      <th>text</th>\n",
       "      <th>Manually Tagged</th>\n",
       "    </tr>\n",
       "  </thead>\n",
       "  <tbody>\n",
       "    <tr>\n",
       "      <th>0</th>\n",
       "      <td>e6BCr4HKuaVKMHPG-quc4A_0000</td>\n",
       "      <td>[\"as part of ixia solutions group we have crea...</td>\n",
       "      <td>[ixia]</td>\n",
       "    </tr>\n",
       "    <tr>\n",
       "      <th>1</th>\n",
       "      <td>syJJQvc1-bMAaoBys9Do5A_0000</td>\n",
       "      <td>['worked as a asst. sales manager with indiama...</td>\n",
       "      <td>[julius]</td>\n",
       "    </tr>\n",
       "    <tr>\n",
       "      <th>2</th>\n",
       "      <td>hwJrXcf6j4jLug6447Vqgw_0000</td>\n",
       "      <td>[\"executed integrated healthcare communication...</td>\n",
       "      <td>[kythera, curated]</td>\n",
       "    </tr>\n",
       "    <tr>\n",
       "      <th>3</th>\n",
       "      <td>DqHwovLSSVIEBqqCauyh3w_0000</td>\n",
       "      <td>[\"we understand that our customers want an eas...</td>\n",
       "      <td>[our people]</td>\n",
       "    </tr>\n",
       "    <tr>\n",
       "      <th>4</th>\n",
       "      <td>uG69cDFE6LidsloG3aKoCQ_0000</td>\n",
       "      <td>['digital client services liaison at accenture']</td>\n",
       "      <td>[accenture]</td>\n",
       "    </tr>\n",
       "    <tr>\n",
       "      <th>...</th>\n",
       "      <td>...</td>\n",
       "      <td>...</td>\n",
       "      <td>...</td>\n",
       "    </tr>\n",
       "    <tr>\n",
       "      <th>1308</th>\n",
       "      <td>87c2aff3-7dfd-465b-96c1-f5e682d6ca20</td>\n",
       "      <td>['ep wealth advisors admin , llc (\"epwa\") is a...</td>\n",
       "      <td>[microsoft office]</td>\n",
       "    </tr>\n",
       "    <tr>\n",
       "      <th>1309</th>\n",
       "      <td>42ed88b1-a646-4dc1-962f-c0b61fe10a31</td>\n",
       "      <td>[\"name provider purpose expiry type name provi...</td>\n",
       "      <td>[google doubleclick]</td>\n",
       "    </tr>\n",
       "    <tr>\n",
       "      <th>1310</th>\n",
       "      <td>9fe82f10-b9ed-4299-af4f-51b0df3da636</td>\n",
       "      <td>['**class 1 tipper drivers**\\n\\nnorthampton\\n\\...</td>\n",
       "      <td>[onsite]</td>\n",
       "    </tr>\n",
       "    <tr>\n",
       "      <th>1311</th>\n",
       "      <td>5734b520-8edc-420b-911d-eda20f67b08c</td>\n",
       "      <td>[\"**solutions engineer**\\n\\nmelbourne **this r...</td>\n",
       "      <td>[salesforce sales cloud, salesforce marketing ...</td>\n",
       "    </tr>\n",
       "    <tr>\n",
       "      <th>1312</th>\n",
       "      <td>83d29d88-9cb7-4d93-9cca-5f7e0a27905b</td>\n",
       "      <td>['**staff software engineer in test - konnect ...</td>\n",
       "      <td>[kubernetes, lifecycle]</td>\n",
       "    </tr>\n",
       "  </tbody>\n",
       "</table>\n",
       "<p>1313 rows × 3 columns</p>\n",
       "</div>"
      ],
      "text/plain": [
       "                                        ID  \\\n",
       "0              e6BCr4HKuaVKMHPG-quc4A_0000   \n",
       "1              syJJQvc1-bMAaoBys9Do5A_0000   \n",
       "2              hwJrXcf6j4jLug6447Vqgw_0000   \n",
       "3              DqHwovLSSVIEBqqCauyh3w_0000   \n",
       "4              uG69cDFE6LidsloG3aKoCQ_0000   \n",
       "...                                    ...   \n",
       "1308  87c2aff3-7dfd-465b-96c1-f5e682d6ca20   \n",
       "1309  42ed88b1-a646-4dc1-962f-c0b61fe10a31   \n",
       "1310  9fe82f10-b9ed-4299-af4f-51b0df3da636   \n",
       "1311  5734b520-8edc-420b-911d-eda20f67b08c   \n",
       "1312  83d29d88-9cb7-4d93-9cca-5f7e0a27905b   \n",
       "\n",
       "                                                   text  \\\n",
       "0     [\"as part of ixia solutions group we have crea...   \n",
       "1     ['worked as a asst. sales manager with indiama...   \n",
       "2     [\"executed integrated healthcare communication...   \n",
       "3     [\"we understand that our customers want an eas...   \n",
       "4      ['digital client services liaison at accenture']   \n",
       "...                                                 ...   \n",
       "1308  ['ep wealth advisors admin , llc (\"epwa\") is a...   \n",
       "1309  [\"name provider purpose expiry type name provi...   \n",
       "1310  ['**class 1 tipper drivers**\\n\\nnorthampton\\n\\...   \n",
       "1311  [\"**solutions engineer**\\n\\nmelbourne **this r...   \n",
       "1312  ['**staff software engineer in test - konnect ...   \n",
       "\n",
       "                                        Manually Tagged  \n",
       "0                                                [ixia]  \n",
       "1                                              [julius]  \n",
       "2                                    [kythera, curated]  \n",
       "3                                          [our people]  \n",
       "4                                           [accenture]  \n",
       "...                                                 ...  \n",
       "1308                                 [microsoft office]  \n",
       "1309                               [google doubleclick]  \n",
       "1310                                           [onsite]  \n",
       "1311  [salesforce sales cloud, salesforce marketing ...  \n",
       "1312                            [kubernetes, lifecycle]  \n",
       "\n",
       "[1313 rows x 3 columns]"
      ]
     },
     "execution_count": 13,
     "metadata": {},
     "output_type": "execute_result"
    }
   ],
   "source": [
    "val_data"
   ]
  },
  {
   "cell_type": "code",
   "execution_count": 14,
   "id": "79b929a9",
   "metadata": {},
   "outputs": [],
   "source": [
    "train_data.to_csv('All_mixed_train.csv',index=False)\n",
    "val_data.to_csv('All_mixed_val.csv',index=False)"
   ]
  },
  {
   "cell_type": "code",
   "execution_count": 15,
   "id": "6e895e68",
   "metadata": {},
   "outputs": [
    {
     "name": "stdout",
     "output_type": "stream",
     "text": [
      "\n",
      "__init__ : INPUT- Mandatory - Data loading, and column definitions\n",
      "\n",
      "clean_text : changes can be made as per your requirement\n",
      "             INPUT- text\n",
      "             RETURNS- cleaned text \n",
      "\n",
      "give_tags: INPUT- List of Tags\n",
      "           RETURNS- Two lists (single word Tag, Multi-word Tag)\n",
      "\n",
      "find_all : To Get all occurences(index) of a string\n",
      "\n",
      "convert : Spliting mutli-words by space and returning them as a list\n",
      "\n",
      "BIO_conversion : INPUT- sentence \n",
      "                 RETURNS- dataframe(with words of a sentence in column) with its TAG\n",
      "                 LOGIC - First get Single and Multi-words tags,\n",
      "                         Search for all occurences of the Multi-words tags \n",
      "                         and storing those indexes to Tag Multi-words when encountered handled those indexes\n",
      "                         seperately, cause only they will be tagged as 'I'\n",
      "runner: INPUT- None\n",
      "        USE - 1. Cleans the sentence(Calls clean_text function)\n",
      "              2. Converts manual tags into iterable list format\n",
      "              3. Calls BIO_conversion for each sentence in the data\n",
      "        RETURNS: DataFrame with BIO Tagging\n",
      "    \n",
      "O        1369691\n",
      "B-ORG      20522\n",
      "I-ORG       4906\n",
      "Name: Tag, dtype: int64\n"
     ]
    }
   ],
   "source": [
    "from CLASS_BIO_Format_Tagging import BIO_Tagger\n",
    "\n",
    "print(BIO_Tagger.__doc__) #DOCSTRING\n",
    "\n",
    "path=\"All_mixed_train.csv\" #DATA PATH\n",
    "manual_tag_col = 'Manually Tagged' #ENTER MANUAL TAGS COLUMN NAME\n",
    "text_col = 'text'  #ENTER PREDICTION COLUMN NAME\n",
    "obj = BIO_Tagger(path,manual_tag_col,text_col) #object is created\n",
    "bio_tagged_data=obj.runner() \n",
    "\n",
    "print(bio_tagged_data['Tag'].value_counts())"
   ]
  },
  {
   "cell_type": "code",
   "execution_count": 16,
   "id": "289e1348",
   "metadata": {},
   "outputs": [],
   "source": [
    "bio_tagged_data.to_csv('Final_bio_tagged_data.csv')"
   ]
  }
 ],
 "metadata": {
  "kernelspec": {
   "display_name": "Python 3",
   "language": "python",
   "name": "python3"
  },
  "language_info": {
   "codemirror_mode": {
    "name": "ipython",
    "version": 3
   },
   "file_extension": ".py",
   "mimetype": "text/x-python",
   "name": "python",
   "nbconvert_exporter": "python",
   "pygments_lexer": "ipython3",
   "version": "3.8.10"
  }
 },
 "nbformat": 4,
 "nbformat_minor": 5
}
