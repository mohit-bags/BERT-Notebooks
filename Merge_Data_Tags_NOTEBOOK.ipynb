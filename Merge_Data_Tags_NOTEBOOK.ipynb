{
 "cells": [
  {
   "cell_type": "code",
   "execution_count": 28,
   "metadata": {},
   "outputs": [],
   "source": [
    "import pandas as pd\n",
    "import numpy as np\n",
    "\n",
    "# data1=pd.read_excel(\"Jobs Tagged.xlsx\",sheet_name = \"Jobs Tagged 2nd July\")\n",
    "# data2=pd.read_excel(\"Jobs Tagged.xlsx\",sheet_name = \"Sep Eng Tech 2nd July\")\n",
    "data2=pd.read_csv(\"Exp - New Data _ 7th July.csv\")"
   ]
  },
  {
   "cell_type": "code",
   "execution_count": 29,
   "metadata": {},
   "outputs": [],
   "source": [
    "# data1 = data1[['job_id','summaries_matching','Manually Tagged']]\n",
    "\n",
    "# data1.head()"
   ]
  },
  {
   "cell_type": "code",
   "execution_count": 30,
   "metadata": {},
   "outputs": [
    {
     "data": {
      "text/plain": [
       "Index(['id', 'Manully Tagged Eng', 'Manully Tagged Tech', 'experience_summary',\n",
       "       'summaries_matching', 'Tech_from_string_match', 'Eng_from_string_match',\n",
       "       'exact_matched_patt_eng', 'exact_matched_patt_tech', 'Len'],\n",
       "      dtype='object')"
      ]
     },
     "execution_count": 30,
     "metadata": {},
     "output_type": "execute_result"
    }
   ],
   "source": [
    "data2.columns"
   ]
  },
  {
   "cell_type": "code",
   "execution_count": 31,
   "metadata": {},
   "outputs": [],
   "source": [
    "man_eng=\"Manully Tagged Eng\"\n",
    "man_tech=\"Manully Tagged Tech\"\n",
    "summary=\"summaries_matching\"\n",
    "ID=\"id\""
   ]
  },
  {
   "cell_type": "code",
   "execution_count": 32,
   "metadata": {},
   "outputs": [],
   "source": [
    "data2 = data2[[ID,summary,man_eng,man_tech]]"
   ]
  },
  {
   "cell_type": "code",
   "execution_count": 33,
   "metadata": {},
   "outputs": [
    {
     "name": "stdout",
     "output_type": "stream",
     "text": [
      "136 721 =  857\n",
      "857\n"
     ]
    }
   ],
   "source": [
    "data2[man_eng] = data2[man_eng].apply(eval)\n",
    "data2[man_tech] = data2[man_tech].apply(eval)\n",
    "\n",
    "def combine(lis1, lis2):\n",
    "    return list(set(lis1+lis2))\n",
    "data2['Manually Tagged']=data2.apply(\n",
    "    lambda x: combine(x[man_eng], x[man_tech]), \n",
    "    axis = 1)\n",
    "print(data2[man_eng].str.len().sum(), data2[man_tech].str.len().sum(), \"= \",data2[man_eng].str.len().sum()+ data2[man_tech].str.len().sum())\n",
    "data2=data2[[ID,summary,'Manually Tagged']]\n",
    "print(data2['Manually Tagged'].str.len().sum())"
   ]
  },
  {
   "cell_type": "code",
   "execution_count": 34,
   "metadata": {},
   "outputs": [],
   "source": [
    "# data=pd.concat([data1,data2])"
   ]
  },
  {
   "cell_type": "code",
   "execution_count": 36,
   "metadata": {},
   "outputs": [],
   "source": [
    "data2.to_csv(\"Exp_NewData_Combined_7_Jul.csv\",index=False)"
   ]
  },
  {
   "cell_type": "code",
   "execution_count": null,
   "metadata": {},
   "outputs": [],
   "source": []
  }
 ],
 "metadata": {
  "kernelspec": {
   "display_name": "Python 3",
   "language": "python",
   "name": "python3"
  },
  "language_info": {
   "codemirror_mode": {
    "name": "ipython",
    "version": 3
   },
   "file_extension": ".py",
   "mimetype": "text/x-python",
   "name": "python",
   "nbconvert_exporter": "python",
   "pygments_lexer": "ipython3",
   "version": "3.8.5"
  }
 },
 "nbformat": 4,
 "nbformat_minor": 2
}
