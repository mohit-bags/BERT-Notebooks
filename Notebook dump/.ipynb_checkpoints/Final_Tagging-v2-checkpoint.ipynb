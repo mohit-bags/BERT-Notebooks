{
 "cells": [
  {
   "cell_type": "code",
   "execution_count": 47,
   "metadata": {},
   "outputs": [],
   "source": [
    "import numpy as np\n",
    "import pandas as pd\n",
    "import nltk\n",
    "import re\n",
    "from bs4 import BeautifulSoup"
   ]
  },
  {
   "cell_type": "code",
   "execution_count": 48,
   "metadata": {},
   "outputs": [],
   "source": [
    "# nltk.download(\"punkt\") #if required then download\n",
    "REPLACE_BY_SPACE_RE = re.compile('[/(){}\\[\\]\\|@,;]')\n",
    "BAD_SYMBOLS_RE = re.compile('[^0-9a-z #+_]')\n",
    "\n",
    "'''MODIFY IF REQUIRED'''\n",
    "def clean_text(text):\n",
    "    \"\"\"\n",
    "        text: a string\n",
    "        \n",
    "        return: modified initial string\n",
    "    \"\"\"\n",
    "    \n",
    "    text = BeautifulSoup(text, \"lxml\").text # HTML decoding\n",
    "    text = text.lower() # lowercase text\n",
    "    text = REPLACE_BY_SPACE_RE.sub(' ', text) # replace REPLACE_BY_SPACE_RE symbols by space in text\n",
    "    text = BAD_SYMBOLS_RE.sub('', text) # delete symbols which are in BAD_SYMBOLS_RE from text\n",
    "    return text\n"
   ]
  },
  {
   "cell_type": "code",
   "execution_count": 49,
   "metadata": {},
   "outputs": [],
   "source": [
    "'''DO NOT MODIFY THESE FUNCTIONS '''\n",
    "def find_all(a_str, sub):\n",
    "    start = 0\n",
    "    while True:\n",
    "        start = a_str.find(sub, start)\n",
    "        if start == -1: return\n",
    "        yield start\n",
    "        start += len(sub) # use start += 1 to find overlapping matches\n",
    "\n",
    "def convert(lst):\n",
    "    return ' '.join(lst).split()\n",
    "\n",
    "def BIO_conversion(sentence): \n",
    "    ind_dict = {}\n",
    "    for i in tech_multi_words:\n",
    "        if i in sentence:\n",
    "#             ind_dict[sentence.index(i)]=i #word as val, key as index\n",
    "            all_occ = list(find_all(sentence,i)) # [0, 5, 10, 15]\n",
    "            for ind in all_occ:\n",
    "                ind_dict[ind]=i\n",
    "            \n",
    "    temp_word=\"\"\n",
    "    final_word_sen=[]\n",
    "    final_tag_sen = []\n",
    "    start=-1\n",
    "    end=-1\n",
    "    for i in range(0, len(sentence)):\n",
    "        if(i in range(start,end)):\n",
    "            continue\n",
    "        if sentence[i].isspace()==True and len(temp_word)>0:\n",
    "            final_word_sen.append(temp_word)\n",
    "            if temp_word in tech_list:\n",
    "                final_tag_sen.append(\"B\")\n",
    "            else:\n",
    "                final_tag_sen.append(\"O\")\n",
    "            temp_word=\"\"\n",
    "        else: #not space\n",
    "            try: #do we have multiword at this index\n",
    "                temp_word=ind_dict[i]\n",
    "#                 print(\"****\")\n",
    "                start=i+1\n",
    "                end=i+len(temp_word) #here tag these multiwords and update new i\n",
    "                listofwords = convert([temp_word])\n",
    "                f=True\n",
    "                for word in listofwords:\n",
    "                    final_word_sen.append(word)\n",
    "                    if f:\n",
    "                        final_tag_sen.append(\"B\")\n",
    "                        f=False\n",
    "                    else:\n",
    "                        final_tag_sen.append(\"I\")\n",
    "                temp_word=\"\"\n",
    "            except:\n",
    "                if(sentence[i]!=' '):\n",
    "                    temp_word+=sentence[i]\n",
    "                \n",
    "#     final_tag_sen.append(None) #adding blank\n",
    "#     final_word_sen.append(None)#adding blank\n",
    "#     print(len(sentence.split())-len(final_word_sen))\n",
    "    return pd.DataFrame(list(zip(final_word_sen, final_tag_sen)),columns =['Word', 'Tag'])"
   ]
  },
  {
   "cell_type": "code",
   "execution_count": 50,
   "metadata": {},
   "outputs": [
    {
     "data": {
      "text/html": [
       "<div>\n",
       "<style scoped>\n",
       "    .dataframe tbody tr th:only-of-type {\n",
       "        vertical-align: middle;\n",
       "    }\n",
       "\n",
       "    .dataframe tbody tr th {\n",
       "        vertical-align: top;\n",
       "    }\n",
       "\n",
       "    .dataframe thead th {\n",
       "        text-align: right;\n",
       "    }\n",
       "</style>\n",
       "<table border=\"1\" class=\"dataframe\">\n",
       "  <thead>\n",
       "    <tr style=\"text-align: right;\">\n",
       "      <th></th>\n",
       "      <th>exact_matched_patt_contextual</th>\n",
       "      <th>summaries</th>\n",
       "    </tr>\n",
       "  </thead>\n",
       "  <tbody>\n",
       "    <tr>\n",
       "      <th>0</th>\n",
       "      <td>NaN</td>\n",
       "      <td>senior director of clinical services housing a...</td>\n",
       "    </tr>\n",
       "    <tr>\n",
       "      <th>1</th>\n",
       "      <td>NaN</td>\n",
       "      <td>i believe that passions are meant to be shared...</td>\n",
       "    </tr>\n",
       "    <tr>\n",
       "      <th>2</th>\n",
       "      <td>NaN</td>\n",
       "      <td>bill bryant is founder and chairman of bryant ...</td>\n",
       "    </tr>\n",
       "    <tr>\n",
       "      <th>3</th>\n",
       "      <td>NaN</td>\n",
       "      <td>undertaking a trilingual masters degree in eur...</td>\n",
       "    </tr>\n",
       "    <tr>\n",
       "      <th>4</th>\n",
       "      <td>NaN</td>\n",
       "      <td>career objective a role within marketing and n...</td>\n",
       "    </tr>\n",
       "  </tbody>\n",
       "</table>\n",
       "</div>"
      ],
      "text/plain": [
       "  exact_matched_patt_contextual  \\\n",
       "0                           NaN   \n",
       "1                           NaN   \n",
       "2                           NaN   \n",
       "3                           NaN   \n",
       "4                           NaN   \n",
       "\n",
       "                                           summaries  \n",
       "0  senior director of clinical services housing a...  \n",
       "1  i believe that passions are meant to be shared...  \n",
       "2  bill bryant is founder and chairman of bryant ...  \n",
       "3  undertaking a trilingual masters degree in eur...  \n",
       "4  career objective a role within marketing and n...  "
      ]
     },
     "execution_count": 50,
     "metadata": {},
     "output_type": "execute_result"
    }
   ],
   "source": [
    "data=pd.read_csv(\"../Datas/tech_sort1k.csv\") #DATA PATH\n",
    "\n",
    "manual_tag_col = 'exact_matched_patt_contextual'\n",
    "text_col = 'summaries'\n",
    "\n",
    "data=data[[manual_tag_col,text_col]]\n",
    "data.head()"
   ]
  },
  {
   "cell_type": "code",
   "execution_count": 51,
   "metadata": {},
   "outputs": [],
   "source": [
    "# REPLACING NULL VALUES with empty list - []\n",
    "data[manual_tag_col] = [ [] if x is np.NaN else x for x in data[manual_tag_col] ]"
   ]
  },
  {
   "cell_type": "code",
   "execution_count": 52,
   "metadata": {},
   "outputs": [
    {
     "data": {
      "text/html": [
       "<div>\n",
       "<style scoped>\n",
       "    .dataframe tbody tr th:only-of-type {\n",
       "        vertical-align: middle;\n",
       "    }\n",
       "\n",
       "    .dataframe tbody tr th {\n",
       "        vertical-align: top;\n",
       "    }\n",
       "\n",
       "    .dataframe thead th {\n",
       "        text-align: right;\n",
       "    }\n",
       "</style>\n",
       "<table border=\"1\" class=\"dataframe\">\n",
       "  <thead>\n",
       "    <tr style=\"text-align: right;\">\n",
       "      <th></th>\n",
       "      <th>exact_matched_patt_contextual</th>\n",
       "      <th>summaries</th>\n",
       "    </tr>\n",
       "  </thead>\n",
       "  <tbody>\n",
       "    <tr>\n",
       "      <th>0</th>\n",
       "      <td>[]</td>\n",
       "      <td>senior director of clinical services housing a...</td>\n",
       "    </tr>\n",
       "    <tr>\n",
       "      <th>1</th>\n",
       "      <td>[]</td>\n",
       "      <td>i believe that passions are meant to be shared...</td>\n",
       "    </tr>\n",
       "    <tr>\n",
       "      <th>2</th>\n",
       "      <td>[]</td>\n",
       "      <td>bill bryant is founder and chairman of bryant ...</td>\n",
       "    </tr>\n",
       "    <tr>\n",
       "      <th>3</th>\n",
       "      <td>[]</td>\n",
       "      <td>undertaking a trilingual masters degree in eur...</td>\n",
       "    </tr>\n",
       "    <tr>\n",
       "      <th>4</th>\n",
       "      <td>[]</td>\n",
       "      <td>career objective a role within marketing and n...</td>\n",
       "    </tr>\n",
       "    <tr>\n",
       "      <th>5</th>\n",
       "      <td>[]</td>\n",
       "      <td>an it professional with over 14+ years of exte...</td>\n",
       "    </tr>\n",
       "    <tr>\n",
       "      <th>6</th>\n",
       "      <td>['republic']</td>\n",
       "      <td>i am a 19 year old entrepreneur and manager of...</td>\n",
       "    </tr>\n",
       "    <tr>\n",
       "      <th>7</th>\n",
       "      <td>['dell']</td>\n",
       "      <td>i am a self motivated professional with 13+ ye...</td>\n",
       "    </tr>\n",
       "    <tr>\n",
       "      <th>8</th>\n",
       "      <td>['wordpress', 'joomla', 'drupal']</td>\n",
       "      <td>as owner and director of projects at metro inf...</td>\n",
       "    </tr>\n",
       "    <tr>\n",
       "      <th>9</th>\n",
       "      <td>['unity']</td>\n",
       "      <td>15+ years within the recruiting industry combi...</td>\n",
       "    </tr>\n",
       "  </tbody>\n",
       "</table>\n",
       "</div>"
      ],
      "text/plain": [
       "       exact_matched_patt_contextual  \\\n",
       "0                                 []   \n",
       "1                                 []   \n",
       "2                                 []   \n",
       "3                                 []   \n",
       "4                                 []   \n",
       "5                                 []   \n",
       "6                       ['republic']   \n",
       "7                           ['dell']   \n",
       "8  ['wordpress', 'joomla', 'drupal']   \n",
       "9                          ['unity']   \n",
       "\n",
       "                                           summaries  \n",
       "0  senior director of clinical services housing a...  \n",
       "1  i believe that passions are meant to be shared...  \n",
       "2  bill bryant is founder and chairman of bryant ...  \n",
       "3  undertaking a trilingual masters degree in eur...  \n",
       "4  career objective a role within marketing and n...  \n",
       "5  an it professional with over 14+ years of exte...  \n",
       "6  i am a 19 year old entrepreneur and manager of...  \n",
       "7  i am a self motivated professional with 13+ ye...  \n",
       "8  as owner and director of projects at metro inf...  \n",
       "9  15+ years within the recruiting industry combi...  "
      ]
     },
     "execution_count": 52,
     "metadata": {},
     "output_type": "execute_result"
    }
   ],
   "source": [
    "data.head(10)"
   ]
  },
  {
   "cell_type": "code",
   "execution_count": 53,
   "metadata": {},
   "outputs": [
    {
     "name": "stdout",
     "output_type": "stream",
     "text": [
      "list 0 is <class 'list'>\n",
      "list 1 is <class 'list'>\n",
      "list 2 is <class 'list'>\n",
      "list 3 is <class 'list'>\n",
      "list 4 is <class 'list'>\n",
      "list 5 is <class 'list'>\n",
      "list 6 is <class 'str'>\n",
      "list 7 is <class 'str'>\n",
      "list 8 is <class 'str'>\n",
      "list 9 is <class 'str'>\n",
      "list 10 is <class 'list'>\n"
     ]
    }
   ],
   "source": [
    "#checking column type\n",
    "for i, l in enumerate(data[manual_tag_col]):\n",
    "    print(\"list\",i,\"is\",type(l))\n",
    "    if(i==10):\n",
    "        break"
   ]
  },
  {
   "cell_type": "code",
   "execution_count": 54,
   "metadata": {},
   "outputs": [
    {
     "name": "stdout",
     "output_type": "stream",
     "text": [
      "list 0 is <class 'str'>\n",
      "list 1 is <class 'str'>\n",
      "list 2 is <class 'str'>\n",
      "list 3 is <class 'str'>\n",
      "list 4 is <class 'str'>\n",
      "list 5 is <class 'str'>\n",
      "list 6 is <class 'str'>\n",
      "list 7 is <class 'str'>\n",
      "list 8 is <class 'str'>\n",
      "list 9 is <class 'str'>\n",
      "list 10 is <class 'str'>\n"
     ]
    }
   ],
   "source": [
    "data[manual_tag_col]=data[manual_tag_col].astype(str)\n",
    "#checking column type\n",
    "for i, l in enumerate(data[manual_tag_col]):\n",
    "    print(\"list\",i,\"is\",type(l))\n",
    "    if(i==10):\n",
    "        break"
   ]
  },
  {
   "cell_type": "code",
   "execution_count": 55,
   "metadata": {},
   "outputs": [
    {
     "name": "stdout",
     "output_type": "stream",
     "text": [
      "list 0 is <class 'list'>\n",
      "list 1 is <class 'list'>\n",
      "list 2 is <class 'list'>\n",
      "list 3 is <class 'list'>\n",
      "list 4 is <class 'list'>\n",
      "list 5 is <class 'list'>\n",
      "list 6 is <class 'list'>\n",
      "list 7 is <class 'list'>\n",
      "list 8 is <class 'list'>\n",
      "list 9 is <class 'list'>\n",
      "list 10 is <class 'list'>\n"
     ]
    }
   ],
   "source": [
    "data[manual_tag_col] = data[manual_tag_col].apply(eval) #to convert string to list of strings\n",
    "#checking column type\n",
    "for i, l in enumerate(data[manual_tag_col]):\n",
    "    print(\"list\",i,\"is\",type(l))\n",
    "    if(i==10):\n",
    "        break"
   ]
  },
  {
   "cell_type": "code",
   "execution_count": 56,
   "metadata": {},
   "outputs": [],
   "source": [
    "tech_dict = {}\n",
    "for i in data[manual_tag_col]:\n",
    "    for j in i:\n",
    "        if j not in tech_dict:\n",
    "            tech_dict[j] = 1\n",
    "        else:\n",
    "            tech_dict[j] += 1\n",
    "            \n",
    "tech_list=[]\n",
    "tech_multi_words=[]\n",
    "for i in tech_dict:\n",
    "    if ((' ' in i) == True):\n",
    "        tech_multi_words.append(i)\n",
    "    else:\n",
    "        tech_list.append(i)"
   ]
  },
  {
   "cell_type": "code",
   "execution_count": 57,
   "metadata": {},
   "outputs": [],
   "source": [
    "tech_multi_words.append('microsoft power point')\n",
    "tech_multi_words.append('sap pm')\n",
    "tech_multi_words.append('sap erp')"
   ]
  },
  {
   "cell_type": "code",
   "execution_count": 58,
   "metadata": {},
   "outputs": [
    {
     "data": {
      "text/plain": [
       "(77, 76)"
      ]
     },
     "execution_count": 58,
     "metadata": {},
     "output_type": "execute_result"
    }
   ],
   "source": [
    "len(tech_multi_words), len(set(tech_multi_words))"
   ]
  },
  {
   "cell_type": "code",
   "execution_count": 59,
   "metadata": {},
   "outputs": [
    {
     "name": "stdout",
     "output_type": "stream",
     "text": [
      "True\n",
      "True\n",
      "False\n",
      "False\n",
      "False\n",
      "False\n",
      "False\n"
     ]
    }
   ],
   "source": [
    "print('pwc' in tech_list), \n",
    "print('ey' in tech_list), \n",
    "print('amazon' in tech_list),\n",
    "print('flipkart' in tech_list),\n",
    "print('microsoft' in tech_list),\n",
    "print('sap' in tech_list),\n",
    "print('ibm' in tech_list)"
   ]
  },
  {
   "cell_type": "code",
   "execution_count": 60,
   "metadata": {},
   "outputs": [],
   "source": [
    "tech_list.append(\"amazon\")\n",
    "tech_list.append(\"flipkart\")\n",
    "tech_list.append(\"microsoft\")\n",
    "tech_list.append(\"sap\")\n",
    "tech_list.append(\"ibm\")"
   ]
  },
  {
   "cell_type": "code",
   "execution_count": 61,
   "metadata": {},
   "outputs": [
    {
     "data": {
      "text/plain": [
       "(319, 319)"
      ]
     },
     "execution_count": 61,
     "metadata": {},
     "output_type": "execute_result"
    }
   ],
   "source": [
    "len(tech_list) , len(set(tech_list))"
   ]
  },
  {
   "cell_type": "code",
   "execution_count": 62,
   "metadata": {},
   "outputs": [],
   "source": [
    "data[\"summaries\"]=data[\"summaries\"].apply(clean_text)\n",
    "data.summaries = data.summaries.replace('\\s+', ' ', regex=True)"
   ]
  },
  {
   "cell_type": "code",
   "execution_count": 64,
   "metadata": {},
   "outputs": [],
   "source": [
    "#FINAL CODE to \n",
    "final_data=pd.DataFrame()\n",
    "\n",
    "for i in range(0,len(data)):\n",
    "    temp = BIO_conversion(data[\"summaries\"][i])\n",
    "    length = len(temp)\n",
    "    wordd=\"Sentence :\"+str(i+1) #sentence no.\n",
    "    a=[wordd]*length\n",
    "    temp.insert(0,\"Sentence #\",a)\n",
    "    final_data = final_data.append(temp, ignore_index=True) #appending sentences in the required format"
   ]
  },
  {
   "cell_type": "code",
   "execution_count": 67,
   "metadata": {},
   "outputs": [
    {
     "name": "stderr",
     "output_type": "stream",
     "text": [
      "/home/slintel/my_env/lib/python3.8/site-packages/seaborn/_decorators.py:36: FutureWarning: Pass the following variable as a keyword arg: x. From version 0.12, the only valid positional argument will be `data`, and passing other arguments without an explicit keyword will result in an error or misinterpretation.\n",
      "  warnings.warn(\n"
     ]
    },
    {
     "data": {
      "text/plain": [
       "<AxesSubplot:xlabel='Tag', ylabel='count'>"
      ]
     },
     "execution_count": 67,
     "metadata": {},
     "output_type": "execute_result"
    },
    {
     "data": {
      "image/png": "[encoded data removed]",
      "text/plain": [
       "<Figure size 432x288 with 1 Axes>"
      ]
     },
     "metadata": {
      "needs_background": "light"
     },
     "output_type": "display_data"
    }
   ],
   "source": [
    "import seaborn as sns\n",
    "sns.countplot(final_data['Tag'])"
   ]
  },
  {
   "cell_type": "code",
   "execution_count": 68,
   "metadata": {},
   "outputs": [
    {
     "data": {
      "text/plain": [
       "O    320775\n",
       "B      2303\n",
       "I       312\n",
       "Name: Tag, dtype: int64"
      ]
     },
     "execution_count": 68,
     "metadata": {},
     "output_type": "execute_result"
    }
   ],
   "source": [
    "final_data['Tag'].value_counts()"
   ]
  },
  {
   "cell_type": "code",
   "execution_count": 70,
   "metadata": {},
   "outputs": [],
   "source": [
    "#Replacing B with B-ORG since BERT by deafult has that Tags, similar for Inside Tag(I)\n",
    "df=final_data\n",
    "df.loc[(df['Tag'] == 'B'), 'Tag'] = 'B-ORG'\n",
    "df.loc[(df['Tag'] == 'I'), 'Tag'] = 'I-ORG'\n",
    "df.to_csv(\"BIO_taggingdata_ALL.csv\",index=False)"
   ]
  },
  {
   "cell_type": "code",
   "execution_count": 32,
   "metadata": {},
   "outputs": [],
   "source": [
    "data=pd.read_csv(\"tech_sort1k.csv\")\n",
    "data=data.drop(columns=[\"Note\"])\n",
    "data.head(10)\n",
    "data['manually tagged']=data['exact_matched_patt_contextual']\n",
    "\n",
    "data=data.drop(columns=\"exact_matched_patt_contextual\")\n",
    "data['manually tagged'] = [ [] if x is np.NaN else x for x in data['manually tagged'] ]\n",
    "\n",
    "\n",
    "data.rename(columns={'summaries':'summary'}, inplace=True)\n",
    "# data.head()"
   ]
  },
  {
   "cell_type": "code",
   "execution_count": 33,
   "metadata": {},
   "outputs": [],
   "source": [
    "\n",
    "\n",
    "# newdf2 = data.append(data2, how=\"outer\",on=['id','summary','manually tagged'])\n",
    "newdf2 = pd.concat([data,data2])\n",
    "newdf2=newdf2.drop_duplicates(subset='id', keep=\"last\")\n",
    "newdf2 = newdf2.reset_index(drop=True)\n",
    "\n",
    "# for i, l in enumerate(newdf2[\"manually tagged\"]):\n",
    "#  print(\"list\",i,\"is\",type(l))"
   ]
  },
  {
   "cell_type": "code",
   "execution_count": 34,
   "metadata": {},
   "outputs": [],
   "source": [
    "newdf2['manually tagged'] = [ [] if x is np.NaN else x for x in newdf2['manually tagged'] ]\n",
    "newdf2['manually tagged']=newdf2['manually tagged'].astype(str)\n",
    "\n",
    "newdf2['manually tagged'] = newdf2['manually tagged'].apply(eval)"
   ]
  },
  {
   "cell_type": "code",
   "execution_count": 35,
   "metadata": {},
   "outputs": [],
   "source": [
    "tech_dict = {}\n",
    "for i in newdf2['manually tagged']:\n",
    "    for j in i:\n",
    "        if j not in tech_dict:\n",
    "            tech_dict[j] = 1\n",
    "        else:\n",
    "            tech_dict[j] += 1\n",
    "\n",
    "tech_list=[]\n",
    "tech_multi_words=[]\n",
    "for i in tech_dict:\n",
    "    if ((' ' in i) == True):\n",
    "        tech_multi_words.append(i)\n",
    "    else:\n",
    "        tech_list.append(i)"
   ]
  },
  {
   "cell_type": "code",
   "execution_count": 36,
   "metadata": {},
   "outputs": [],
   "source": [
    "newdf2[\"summary\"]=newdf2[\"summary\"].apply(clean_text)"
   ]
  },
  {
   "cell_type": "code",
   "execution_count": 37,
   "metadata": {},
   "outputs": [],
   "source": [
    "# final_data=pd.DataFrame()\n",
    "\n",
    "# for i in range(0,len(data)):\n",
    "#     temp = in_techwords(newdf2[\"summary\"][i])\n",
    "#     length = len(temp)\n",
    "#     wordd=\"Sentence :\"+str(i+1) #sentence no.\n",
    "#     a=[wordd]*(length-1)\n",
    "#     a.append(None)\n",
    "#     temp.insert(0,\"Sentence #\",a)\n",
    "#     final_data = final_data.append(temp, ignore_index=True) #appending sentences in the required format"
   ]
  },
  {
   "cell_type": "code",
   "execution_count": 38,
   "metadata": {},
   "outputs": [
    {
     "data": {
      "text/plain": [
       "O        320775\n",
       "B-ORG      2303\n",
       "I-ORG       312\n",
       "Name: Tag, dtype: int64"
      ]
     },
     "execution_count": 38,
     "metadata": {},
     "output_type": "execute_result"
    }
   ],
   "source": [
    "final_data[\"Tag\"].value_counts()"
   ]
  },
  {
   "cell_type": "code",
   "execution_count": 39,
   "metadata": {},
   "outputs": [],
   "source": [
    "data_without_filter = final_data"
   ]
  },
  {
   "cell_type": "code",
   "execution_count": 40,
   "metadata": {},
   "outputs": [],
   "source": [
    "final_data2=pd.DataFrame()\n",
    "\n",
    "for i in range(0,len(data)):\n",
    "    temp = BIO_conversion(newdf2[\"summary\"][i])\n",
    "    length = len(temp)\n",
    "    wordd=\"Sentence :\"+str(i+1) #sentence no.\n",
    "    a=[wordd]*(length-1)\n",
    "    a.append(None)\n",
    "    temp.insert(0,\"Sentence #\",a)\n",
    "#     if flag==True:\n",
    "    final_data2 = final_data2.append(temp, ignore_index=True) #appending sentences in the required format"
   ]
  },
  {
   "cell_type": "code",
   "execution_count": 41,
   "metadata": {},
   "outputs": [
    {
     "data": {
      "text/plain": [
       "O    370577\n",
       "B      4471\n",
       "I       327\n",
       "Name: Tag, dtype: int64"
      ]
     },
     "execution_count": 41,
     "metadata": {},
     "output_type": "execute_result"
    }
   ],
   "source": [
    "final_data2[\"Tag\"].value_counts()"
   ]
  },
  {
   "cell_type": "code",
   "execution_count": 42,
   "metadata": {},
   "outputs": [],
   "source": [
    "final_data2.to_csv(\"Manually_tagged_BIO.csv\")"
   ]
  },
  {
   "cell_type": "code",
   "execution_count": null,
   "metadata": {},
   "outputs": [],
   "source": []
  }
 ],
 "metadata": {
  "kernelspec": {
   "display_name": "Python 3",
   "language": "python",
   "name": "python3"
  },
  "language_info": {
   "codemirror_mode": {
    "name": "ipython",
    "version": 3
   },
   "file_extension": ".py",
   "mimetype": "text/x-python",
   "name": "python",
   "nbconvert_exporter": "python",
   "pygments_lexer": "ipython3",
   "version": "3.8.10"
  }
 },
 "nbformat": 4,
 "nbformat_minor": 2
}
