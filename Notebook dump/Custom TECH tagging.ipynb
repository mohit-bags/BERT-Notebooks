{
 "cells": [
  {
   "cell_type": "code",
   "execution_count": 1,
   "metadata": {},
   "outputs": [],
   "source": [
    "import numpy as np\n",
    "import pandas as pd"
   ]
  },
  {
   "cell_type": "code",
   "execution_count": 2,
   "metadata": {},
   "outputs": [],
   "source": [
    "data=pd.read_csv(\"tech_sort1k.csv\")"
   ]
  },
  {
   "cell_type": "code",
   "execution_count": 3,
   "metadata": {},
   "outputs": [
    {
     "data": {
      "text/html": [
       "<div>\n",
       "<style scoped>\n",
       "    .dataframe tbody tr th:only-of-type {\n",
       "        vertical-align: middle;\n",
       "    }\n",
       "\n",
       "    .dataframe tbody tr th {\n",
       "        vertical-align: top;\n",
       "    }\n",
       "\n",
       "    .dataframe thead th {\n",
       "        text-align: right;\n",
       "    }\n",
       "</style>\n",
       "<table border=\"1\" class=\"dataframe\">\n",
       "  <thead>\n",
       "    <tr style=\"text-align: right;\">\n",
       "      <th></th>\n",
       "      <th>id</th>\n",
       "      <th>exact_matched_patt_contextual</th>\n",
       "      <th>summaries</th>\n",
       "      <th>Note</th>\n",
       "    </tr>\n",
       "  </thead>\n",
       "  <tbody>\n",
       "    <tr>\n",
       "      <th>0</th>\n",
       "      <td>zsDSYc5UzpyXekOABZBfnQ_0000</td>\n",
       "      <td>NaN</td>\n",
       "      <td>senior director of clinical services housing a...</td>\n",
       "      <td>NaN</td>\n",
       "    </tr>\n",
       "    <tr>\n",
       "      <th>1</th>\n",
       "      <td>zs1YNrrCeorFkGLEXSSp-A_0000</td>\n",
       "      <td>NaN</td>\n",
       "      <td>i believe that passions are meant to be shared...</td>\n",
       "      <td>NaN</td>\n",
       "    </tr>\n",
       "    <tr>\n",
       "      <th>2</th>\n",
       "      <td>zowirq8ZhxhchApaRMhNSA_0000</td>\n",
       "      <td>NaN</td>\n",
       "      <td>bill bryant is founder and chairman of bryant ...</td>\n",
       "      <td>NaN</td>\n",
       "    </tr>\n",
       "    <tr>\n",
       "      <th>3</th>\n",
       "      <td>zoQVkPCfXB9n3AaPGHHwzg_0000</td>\n",
       "      <td>NaN</td>\n",
       "      <td>undertaking a trilingual masters degree in eur...</td>\n",
       "      <td>NaN</td>\n",
       "    </tr>\n",
       "    <tr>\n",
       "      <th>4</th>\n",
       "      <td>zmIr2glBZ3Ef8CSS0jw1og_0000</td>\n",
       "      <td>NaN</td>\n",
       "      <td>career objective a role within marketing and n...</td>\n",
       "      <td>NaN</td>\n",
       "    </tr>\n",
       "  </tbody>\n",
       "</table>\n",
       "</div>"
      ],
      "text/plain": [
       "                            id exact_matched_patt_contextual  \\\n",
       "0  zsDSYc5UzpyXekOABZBfnQ_0000                           NaN   \n",
       "1  zs1YNrrCeorFkGLEXSSp-A_0000                           NaN   \n",
       "2  zowirq8ZhxhchApaRMhNSA_0000                           NaN   \n",
       "3  zoQVkPCfXB9n3AaPGHHwzg_0000                           NaN   \n",
       "4  zmIr2glBZ3Ef8CSS0jw1og_0000                           NaN   \n",
       "\n",
       "                                           summaries Note  \n",
       "0  senior director of clinical services housing a...  NaN  \n",
       "1  i believe that passions are meant to be shared...  NaN  \n",
       "2  bill bryant is founder and chairman of bryant ...  NaN  \n",
       "3  undertaking a trilingual masters degree in eur...  NaN  \n",
       "4  career objective a role within marketing and n...  NaN  "
      ]
     },
     "execution_count": 3,
     "metadata": {},
     "output_type": "execute_result"
    }
   ],
   "source": [
    "data.head()"
   ]
  },
  {
   "cell_type": "code",
   "execution_count": null,
   "metadata": {},
   "outputs": [],
   "source": [
    "tech = pd.read_csv(\"/Users/mohitbagaria/Downloads/spacy_string_match/Tech_pydictionary_2.csv\")"
   ]
  },
  {
   "cell_type": "code",
   "execution_count": null,
   "metadata": {},
   "outputs": [],
   "source": [
    "tech.head()"
   ]
  },
  {
   "cell_type": "code",
   "execution_count": null,
   "metadata": {},
   "outputs": [],
   "source": [
    "tech=tech.drop(columns=\"Unnamed: 0\")\n",
    "tech.head()"
   ]
  },
  {
   "cell_type": "code",
   "execution_count": null,
   "metadata": {},
   "outputs": [],
   "source": []
  },
  {
   "cell_type": "code",
   "execution_count": null,
   "metadata": {},
   "outputs": [],
   "source": [
    "import nltk\n",
    "import re\n",
    "from nltk.corpus import stopwords\n",
    "from bs4 import BeautifulSoup\n",
    "\n",
    "nltk.download(\"stopwords\")\n",
    "nltk.download(\"punkt\")\n",
    "\n",
    "\n",
    "REPLACE_BY_SPACE_RE = re.compile('[/(){}\\[\\]\\|@,;]')\n",
    "BAD_SYMBOLS_RE = re.compile('[^0-9a-z #+_]')\n",
    "STOPWORDS = set(stopwords.words('english'))\n",
    "\n",
    "def clean_text(text):\n",
    "    \"\"\"\n",
    "        text: a string\n",
    "        \n",
    "        return: modified initial string\n",
    "    \"\"\"\n",
    "    text = BeautifulSoup(text, \"lxml\").text # HTML decoding\n",
    "    text = text.lower() # lowercase text\n",
    "    text = REPLACE_BY_SPACE_RE.sub(' ', text) # replace REPLACE_BY_SPACE_RE symbols by space in text\n",
    "    text = BAD_SYMBOLS_RE.sub('', text) # delete symbols which are in BAD_SYMBOLS_RE from text\n",
    "#     text = ' '.join(word for word in text.split() if word not in STOPWORDS) # delete stopwors from text\n",
    "    return text\n",
    "    \n",
    "# df['keyword'] = df['keyword'].apply(clean_text)\n",
    "\n",
    "# df['keyword'].apply(lambda x: len(x.split(' '))).sum()"
   ]
  },
  {
   "cell_type": "code",
   "execution_count": null,
   "metadata": {},
   "outputs": [],
   "source": [
    "data[\"cleaned_summaries\"]=data[\"summaries\"].apply(clean_text)"
   ]
  },
  {
   "cell_type": "code",
   "execution_count": null,
   "metadata": {},
   "outputs": [],
   "source": [
    "eng = pd.read_csv(\"/Users/mohitbagaria/Downloads/spacy_string_match/Eng_pydictionary_2.csv\")"
   ]
  },
  {
   "cell_type": "code",
   "execution_count": null,
   "metadata": {},
   "outputs": [],
   "source": [
    "eng.head()"
   ]
  },
  {
   "cell_type": "code",
   "execution_count": null,
   "metadata": {},
   "outputs": [],
   "source": [
    "tech['cleaned_Tech_word'] = tech['Tech_word'].apply(clean_text)\n",
    "eng['cleaned_eng_word'] = eng['English_word'].apply(clean_text)"
   ]
  },
  {
   "cell_type": "code",
   "execution_count": null,
   "metadata": {},
   "outputs": [],
   "source": [
    "all_tech_words = list(tech['cleaned_Tech_word'].str.lower())\n",
    "# all_tech_words.append(list(eng['cleaned_eng_word'].str.lower()))\n",
    "all_strings = list(data[\"summaries\"].str.lower())"
   ]
  },
  {
   "cell_type": "code",
   "execution_count": null,
   "metadata": {},
   "outputs": [],
   "source": [
    "# list(eng['cleaned_eng_word'].str.lower())"
   ]
  },
  {
   "cell_type": "code",
   "execution_count": null,
   "metadata": {},
   "outputs": [],
   "source": [
    "len(set(all_tech_words))"
   ]
  },
  {
   "cell_type": "code",
   "execution_count": null,
   "metadata": {},
   "outputs": [],
   "source": [
    "\n",
    "# Python3 program to Convert single\n",
    "# indexed list into multiple indexed list\n",
    "\n",
    "def convert(lst):\n",
    "\treturn ' '.join(lst).split()\n",
    "\t\n",
    "\n",
    "# Driver code\n",
    "lst = ['Hello Geeks for geeks','My name is mogit']\n",
    "print( convert(lst))\n"
   ]
  },
  {
   "cell_type": "code",
   "execution_count": null,
   "metadata": {},
   "outputs": [],
   "source": [
    "sen = data[\"cleaned_summaries\"][0]"
   ]
  },
  {
   "cell_type": "code",
   "execution_count": null,
   "metadata": {},
   "outputs": [],
   "source": [
    "sen_split = convert([sen])"
   ]
  },
  {
   "cell_type": "code",
   "execution_count": null,
   "metadata": {},
   "outputs": [],
   "source": [
    "for i in data[\"cleaned_summaries\"]:#i is the sentence\n",
    "    \n",
    "    tag_sen=[]\n",
    "    all_words=convert([i])\n",
    "    for word in all_words:\n",
    "        "
   ]
  },
  {
   "cell_type": "code",
   "execution_count": null,
   "metadata": {},
   "outputs": [],
   "source": [
    "all_tech_words = list(tech['cleaned_Tech_word'].str.lower())\n",
    "all_strings = list(data[\"cleaned_summaries\"].str.lower())"
   ]
  },
  {
   "cell_type": "code",
   "execution_count": null,
   "metadata": {},
   "outputs": [],
   "source": [
    "total_words_indexed=0;\n",
    "i=1\n",
    "tech_keys=[]\n",
    "for item in all_strings:\n",
    "    print(\"***\",\"TEST No,\",i,\"***\")\n",
    "    i=i+1\n",
    "    tech_row=[]\n",
    "    for k in all_tech_words:\n",
    "        if k in item and len(k)>2:\n",
    "            total_words_indexed+=1\n",
    "            tech_row.append(k)\n",
    "    tech_keys.append(tech_row)"
   ]
  },
  {
   "cell_type": "code",
   "execution_count": null,
   "metadata": {},
   "outputs": [],
   "source": [
    "print(\"Total no. of tech matches:\",total_words_indexed)"
   ]
  },
  {
   "cell_type": "code",
   "execution_count": null,
   "metadata": {},
   "outputs": [],
   "source": [
    "data['keywords']=tech_keys"
   ]
  },
  {
   "cell_type": "code",
   "execution_count": null,
   "metadata": {},
   "outputs": [],
   "source": [
    "data.head()"
   ]
  },
  {
   "cell_type": "code",
   "execution_count": null,
   "metadata": {},
   "outputs": [],
   "source": [
    "import re\n",
    "def reg_match(txt, keyw):\n",
    "    sep='|'\n",
    "    temp = sep.join(['\\\\b' + i+'\\\\b' for i in keyw])\n",
    "    matches = re.findall(temp,txt)\n",
    "    return matches"
   ]
  },
  {
   "cell_type": "code",
   "execution_count": null,
   "metadata": {},
   "outputs": [],
   "source": [
    "data['string_matched'] = data.apply(lambda x: reg_match(x[\"cleaned_summaries\"], x[\"keywords\"]), axis = 1)"
   ]
  },
  {
   "cell_type": "code",
   "execution_count": null,
   "metadata": {},
   "outputs": [],
   "source": [
    "data.head(15)"
   ]
  },
  {
   "cell_type": "code",
   "execution_count": null,
   "metadata": {},
   "outputs": [],
   "source": [
    "data.string_matched.str.len().sum()"
   ]
  },
  {
   "cell_type": "code",
   "execution_count": null,
   "metadata": {},
   "outputs": [],
   "source": [
    "import re\n",
    "ccc=0\n",
    "def temp_match(txt, keyw):\n",
    "    count = 0\n",
    "    lst= []\n",
    "    if(len(keyw)>0):\n",
    "#     temp = sep.join(['\\\\b' + i+'\\\\b' for i in keyw])\n",
    "#     matches = re.findall(temp,txt)\n",
    "        for i in keyw:\n",
    "#             print(txt.index(i), \" \")\n",
    "            count=count+1\n",
    "            lst.append(i)\n",
    "    return len(set(lst))"
   ]
  },
  {
   "cell_type": "code",
   "execution_count": null,
   "metadata": {},
   "outputs": [],
   "source": [
    "data['count'] = data.apply(lambda x: \n",
    "                                    temp_match(x[\"cleaned_summaries\"], x[\"string_matched\"]),\n",
    "                                    axis = 1)"
   ]
  },
  {
   "cell_type": "code",
   "execution_count": null,
   "metadata": {},
   "outputs": [],
   "source": [
    "data.loc[data['count']!=0]"
   ]
  },
  {
   "cell_type": "code",
   "execution_count": null,
   "metadata": {},
   "outputs": [],
   "source": [
    "data['count'].sum()"
   ]
  },
  {
   "cell_type": "code",
   "execution_count": null,
   "metadata": {},
   "outputs": [],
   "source": [
    "data['summaries'][12].index(\"juniper\")"
   ]
  },
  {
   "cell_type": "code",
   "execution_count": null,
   "metadata": {},
   "outputs": [],
   "source": [
    "\n",
    "data['keywords'][12]"
   ]
  },
  {
   "cell_type": "code",
   "execution_count": null,
   "metadata": {},
   "outputs": [],
   "source": [
    "all_tech_words"
   ]
  },
  {
   "cell_type": "code",
   "execution_count": null,
   "metadata": {},
   "outputs": [],
   "source": []
  }
 ],
 "metadata": {
  "kernelspec": {
   "display_name": "Python 3",
   "language": "python",
   "name": "python3"
  },
  "language_info": {
   "codemirror_mode": {
    "name": "ipython",
    "version": 3
   },
   "file_extension": ".py",
   "mimetype": "text/x-python",
   "name": "python",
   "nbconvert_exporter": "python",
   "pygments_lexer": "ipython3",
   "version": "3.8.10"
  }
 },
 "nbformat": 4,
 "nbformat_minor": 2
}
