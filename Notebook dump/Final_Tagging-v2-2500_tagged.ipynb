{
 "cells": [
  {
   "cell_type": "code",
   "execution_count": 30,
   "metadata": {},
   "outputs": [],
   "source": [
    "import numpy as np\n",
    "import pandas as pd"
   ]
  },
  {
   "cell_type": "code",
   "execution_count": 31,
   "metadata": {},
   "outputs": [],
   "source": [
    "data=pd.read_excel(\"Manually_Tagged_Sheet.xlsx\",sheet_name=\"Valid Entries_updated_15_06_202\")\n",
    "# data.head()\n",
    "data=data.drop(columns=[\"exact_matched_patt\",\"spacy_format_v1\",\"spacy_format_v1\",\"summaries_matching\"])\n",
    "data.columns=[\"id\",\"summaries\",\"exact_matched_patt_contextual\",\"Tech_from_string_match\"]"
   ]
  },
  {
   "cell_type": "code",
   "execution_count": 32,
   "metadata": {},
   "outputs": [],
   "source": [
    "data=data.loc[:2500]\n",
    "# data=data.sort_values(by=['id'])\n",
    "# data=data.reset_index(drop=True)\n",
    "# len(data)"
   ]
  },
  {
   "cell_type": "code",
   "execution_count": 33,
   "metadata": {},
   "outputs": [],
   "source": [
    "train = data.loc[:2000]\n",
    "test = data.loc[2001:]"
   ]
  },
  {
   "cell_type": "code",
   "execution_count": 34,
   "metadata": {},
   "outputs": [
    {
     "data": {
      "text/plain": [
       "(2001, 500)"
      ]
     },
     "execution_count": 34,
     "metadata": {},
     "output_type": "execute_result"
    }
   ],
   "source": [
    "len(train),len(test)"
   ]
  },
  {
   "cell_type": "code",
   "execution_count": 35,
   "metadata": {},
   "outputs": [],
   "source": [
    "train.to_csv(\"Manual_TAGGED_2001_TRAIN.csv\")\n",
    "test.to_csv(\"Manual_TAGGED_500_TEST.csv\")"
   ]
  },
  {
   "cell_type": "code",
   "execution_count": 36,
   "metadata": {},
   "outputs": [],
   "source": [
    "data=train"
   ]
  },
  {
   "cell_type": "code",
   "execution_count": 37,
   "metadata": {},
   "outputs": [],
   "source": [
    "#replacing null vals with empty list\n",
    "data['exact_matched_patt_contextual'] = [ [] if x is np.NaN else x for x in data['exact_matched_patt_contextual'] ]\n"
   ]
  },
  {
   "cell_type": "code",
   "execution_count": 38,
   "metadata": {},
   "outputs": [
    {
     "name": "stderr",
     "output_type": "stream",
     "text": [
      "[nltk_data] Downloading package punkt to\n",
      "[nltk_data]     /Users/mohitbagaria/nltk_data...\n",
      "[nltk_data]   Package punkt is already up-to-date!\n"
     ]
    }
   ],
   "source": [
    "import nltk\n",
    "import re\n",
    "from bs4 import BeautifulSoup\n",
    "\n",
    "nltk.download(\"punkt\")\n",
    "\n",
    "REPLACE_BY_SPACE_RE = re.compile('[/(){}\\[\\]\\|@,;]')\n",
    "BAD_SYMBOLS_RE = re.compile('[^0-9a-z #+_]')\n",
    "\n",
    "def clean_text(text):\n",
    "    \"\"\"\n",
    "        text: a string\n",
    "        \n",
    "        return: modified initial string\n",
    "    \"\"\"\n",
    "    text = BeautifulSoup(text, \"lxml\").text # HTML decoding\n",
    "    text = text.lower() # lowercase text\n",
    "    text = REPLACE_BY_SPACE_RE.sub(' ', text) # replace REPLACE_BY_SPACE_RE symbols by space in text\n",
    "    text = BAD_SYMBOLS_RE.sub('', text) # delete symbols which are in BAD_SYMBOLS_RE from text\n",
    "    return text\n"
   ]
  },
  {
   "cell_type": "code",
   "execution_count": 39,
   "metadata": {},
   "outputs": [],
   "source": [
    "# for i, l in enumerate(data[\"exact_matched_patt_contextual\"]):\n",
    "#  print(\"list\",i,\"is\",type(l))"
   ]
  },
  {
   "cell_type": "code",
   "execution_count": 40,
   "metadata": {},
   "outputs": [],
   "source": [
    "data['exact_matched_patt_contextual']=data['exact_matched_patt_contextual'].astype(str)"
   ]
  },
  {
   "cell_type": "code",
   "execution_count": 41,
   "metadata": {},
   "outputs": [],
   "source": [
    "# for i, l in enumerate(data[\"exact_matched_patt_contextual\"]):\n",
    "#  print(\"list\",i,\"is\",type(l))"
   ]
  },
  {
   "cell_type": "code",
   "execution_count": 42,
   "metadata": {},
   "outputs": [],
   "source": [
    "# data.head(15)"
   ]
  },
  {
   "cell_type": "code",
   "execution_count": 43,
   "metadata": {},
   "outputs": [],
   "source": [
    "def clean_alt_list(list_):\n",
    "#     list_ = list_.replace(', ', \"','\")\n",
    "#     list_ = list_.replace('[', \"['\")\n",
    "#     list_ = list_.replace(']', \"']\")\n",
    "    \n",
    "    if(list_[0]!='['):\n",
    "        list_='['+list_\n",
    "    if(list_[len(list_)-1]!=']'):\n",
    "        list_+=']'\n",
    "    return list_\n"
   ]
  },
  {
   "cell_type": "code",
   "execution_count": null,
   "metadata": {},
   "outputs": [],
   "source": []
  },
  {
   "cell_type": "code",
   "execution_count": 44,
   "metadata": {},
   "outputs": [],
   "source": [
    "data[\"exact_matched_patt_contextual\"] = data[\"exact_matched_patt_contextual\"].apply(clean_alt_list)"
   ]
  },
  {
   "cell_type": "code",
   "execution_count": 45,
   "metadata": {},
   "outputs": [],
   "source": [
    "data[\"exact_matched_patt_contextual\"] = data[\"exact_matched_patt_contextual\"].apply(eval)"
   ]
  },
  {
   "cell_type": "code",
   "execution_count": 50,
   "metadata": {},
   "outputs": [],
   "source": [
    "tech_dict = {}\n",
    "for i in data['exact_matched_patt_contextual']:\n",
    "    for j in i:\n",
    "        if j not in tech_dict:\n",
    "            tech_dict[j] = 1\n",
    "        else:\n",
    "            tech_dict[j] += 1\n",
    "\n",
    "# tech_dict\n",
    "\n",
    "tech_list=[]\n",
    "tech_multi_words=[]\n",
    "for i in tech_dict:\n",
    "    if ((' ' in i) == True):\n",
    "        tech_multi_words.append(i)\n",
    "    else:\n",
    "        tech_list.append(i)"
   ]
  },
  {
   "cell_type": "code",
   "execution_count": 51,
   "metadata": {},
   "outputs": [],
   "source": [
    "tech_multi_words.append('microsoft power point')\n",
    "tech_multi_words.append('sap pm')\n",
    "# tech_multi_words.append('sap erp')"
   ]
  },
  {
   "cell_type": "code",
   "execution_count": 52,
   "metadata": {},
   "outputs": [
    {
     "data": {
      "text/plain": [
       "(308, 308)"
      ]
     },
     "execution_count": 52,
     "metadata": {},
     "output_type": "execute_result"
    }
   ],
   "source": [
    "len(tech_multi_words), len(set(tech_multi_words))"
   ]
  },
  {
   "cell_type": "code",
   "execution_count": 53,
   "metadata": {},
   "outputs": [
    {
     "name": "stdout",
     "output_type": "stream",
     "text": [
      "True\n",
      "True\n",
      "False\n",
      "False\n",
      "False\n",
      "False\n",
      "False\n"
     ]
    }
   ],
   "source": [
    "print('pwc' in tech_list), \n",
    "print('ey' in tech_list), \n",
    "print('amazon' in tech_list),\n",
    "print('flipkart' in tech_list),\n",
    "print('microsoft' in tech_list),\n",
    "print('sap' in tech_list),\n",
    "print('ibm' in tech_list)"
   ]
  },
  {
   "cell_type": "code",
   "execution_count": 54,
   "metadata": {},
   "outputs": [],
   "source": [
    "tech_list.append(\"amazon\")\n",
    "tech_list.append(\"flipkart\")\n",
    "tech_list.append(\"microsoft\")\n",
    "tech_list.append(\"sap\")\n",
    "tech_list.append(\"ibm\")"
   ]
  },
  {
   "cell_type": "code",
   "execution_count": 22,
   "metadata": {},
   "outputs": [],
   "source": [
    "# tech_multi_words[:5]"
   ]
  },
  {
   "cell_type": "code",
   "execution_count": 23,
   "metadata": {},
   "outputs": [],
   "source": [
    "# tech_list[:5]"
   ]
  },
  {
   "cell_type": "code",
   "execution_count": 55,
   "metadata": {},
   "outputs": [
    {
     "data": {
      "text/plain": [
       "(1078, 1078)"
      ]
     },
     "execution_count": 55,
     "metadata": {},
     "output_type": "execute_result"
    }
   ],
   "source": [
    "len(tech_list) , len(set(tech_list))"
   ]
  },
  {
   "cell_type": "code",
   "execution_count": 56,
   "metadata": {},
   "outputs": [],
   "source": [
    "data[\"summaries\"]=data[\"summaries\"].apply(clean_text)\n",
    "data.summaries = data.summaries.replace('\\s+', ' ', regex=True)"
   ]
  },
  {
   "cell_type": "code",
   "execution_count": 57,
   "metadata": {},
   "outputs": [],
   "source": [
    "def find_all(a_str, sub):\n",
    "    start = 0\n",
    "    while True:\n",
    "        start = a_str.find(sub, start)\n",
    "        if start == -1: return\n",
    "        yield start\n",
    "        start += len(sub) # use start += 1 to find overlapping matches"
   ]
  },
  {
   "cell_type": "code",
   "execution_count": 58,
   "metadata": {},
   "outputs": [],
   "source": [
    "def convert(lst):\n",
    "    return ' '.join(lst).split()\n",
    "\n",
    "\n",
    "def BIO_conversion(sentence):\n",
    "    \n",
    "    ind_dict = {}\n",
    "    for i in tech_multi_words:\n",
    "        if i in sentence:\n",
    "#             ind_dict[sentence.index(i)]=i #word as val, key as index\n",
    "            all_occ = list(find_all(sentence,i)) # [0, 5, 10, 15]\n",
    "            for ind in all_occ:\n",
    "                ind_dict[ind]=i\n",
    "\n",
    "            \n",
    "    temp_word=\"\"\n",
    "    final_word_sen=[]\n",
    "    final_tag_sen = []\n",
    "    start=-1\n",
    "    end=-1\n",
    "    for i in range(0, len(sentence)):\n",
    "        if(i in range(start,end)):\n",
    "#             print(\"break hua\")\n",
    "            continue\n",
    "#         print(i)\n",
    "        if sentence[i].isspace()==True and len(temp_word)>0:\n",
    "            final_word_sen.append(temp_word)\n",
    "            if temp_word in tech_list:\n",
    "#                 print(temp_word)\n",
    "                final_tag_sen.append(\"B\")\n",
    "            else:\n",
    "                final_tag_sen.append(\"O\")\n",
    "            temp_word=\"\"\n",
    "        else: #not space\n",
    "            try: #do we have multiword at this index\n",
    "                temp_word=ind_dict[i]\n",
    "#                 print(\"****\")\n",
    "                start=i+1\n",
    "                end=i+len(temp_word) #here tag these multiwords and update new i\n",
    "#                 print(i)\n",
    "#                 print(\"****\")\n",
    "#                 print(temp_word)\n",
    "                listofwords = convert([temp_word])\n",
    "                f=True\n",
    "                for word in listofwords:\n",
    "                    final_word_sen.append(word)\n",
    "                    if f:\n",
    "                        final_tag_sen.append(\"B\")\n",
    "                        f=False\n",
    "                    else:\n",
    "                        final_tag_sen.append(\"I\")\n",
    "                temp_word=\"\"\n",
    "            except:\n",
    "                if(sentence[i]!=' '):\n",
    "                    temp_word+=sentence[i]\n",
    "                \n",
    "#     final_tag_sen.append(None) #adding blank\n",
    "#     final_word_sen.append(None)#adding blank\n",
    "#     print(len(sentence.split())-len(final_word_sen))\n",
    "    return pd.DataFrame(list(zip(final_word_sen, final_tag_sen)),columns =['Word', 'Tag'])"
   ]
  },
  {
   "cell_type": "code",
   "execution_count": 59,
   "metadata": {},
   "outputs": [],
   "source": [
    "# BIO_conversion(data[\"summaries\"][18])"
   ]
  },
  {
   "cell_type": "code",
   "execution_count": 60,
   "metadata": {},
   "outputs": [],
   "source": [
    "final_data=pd.DataFrame()\n",
    "\n",
    "for i in range(0,len(data)):\n",
    "      \n",
    "    temp = BIO_conversion(data[\"summaries\"][i])\n",
    "    length = len(temp)\n",
    "    wordd=\"Sentence :\"+str(i+1) #sentence no.\n",
    "    a=[wordd]*length\n",
    "    temp.insert(0,\"Sentence #\",a)\n",
    "    final_data = final_data.append(temp, ignore_index=True) #appending sentences in the required format"
   ]
  },
  {
   "cell_type": "code",
   "execution_count": 62,
   "metadata": {},
   "outputs": [
    {
     "name": "stderr",
     "output_type": "stream",
     "text": [
      "/Users/mohitbagaria/anaconda3/lib/python3.7/site-packages/seaborn/_decorators.py:43: FutureWarning: Pass the following variable as a keyword arg: x. From version 0.12, the only valid positional argument will be `data`, and passing other arguments without an explicit keyword will result in an error or misinterpretation.\n",
      "  FutureWarning\n"
     ]
    },
    {
     "data": {
      "text/plain": [
       "<matplotlib.axes._subplots.AxesSubplot at 0x7f856f9d7be0>"
      ]
     },
     "execution_count": 62,
     "metadata": {},
     "output_type": "execute_result"
    },
    {
     "data": {
      "image/png": "[encoded data removed]",
      "text/plain": [
       "<Figure size 432x288 with 1 Axes>"
      ]
     },
     "metadata": {
      "needs_background": "light"
     },
     "output_type": "display_data"
    }
   ],
   "source": [
    "import seaborn as sns\n",
    "sns.countplot(final_data['Tag'])"
   ]
  },
  {
   "cell_type": "code",
   "execution_count": 63,
   "metadata": {},
   "outputs": [
    {
     "data": {
      "text/plain": [
       "O    351606\n",
       "B     19351\n",
       "I      3256\n",
       "Name: Tag, dtype: int64"
      ]
     },
     "execution_count": 63,
     "metadata": {},
     "output_type": "execute_result"
    }
   ],
   "source": [
    "final_data['Tag'].value_counts()"
   ]
  },
  {
   "cell_type": "code",
   "execution_count": 64,
   "metadata": {},
   "outputs": [],
   "source": [
    "df=final_data\n",
    "df.loc[(df['Tag'] == 'B'), 'Tag'] = 'B-ORG'\n",
    "df.loc[(df['Tag'] == 'I'), 'Tag'] = 'I-ORG'\n",
    "df.to_csv(\"2000_BIO_taggingdata_ALL.csv\",index=False)"
   ]
  },
  {
   "cell_type": "code",
   "execution_count": null,
   "metadata": {},
   "outputs": [],
   "source": [
    "data[\"summaries\"][12]"
   ]
  },
  {
   "cell_type": "code",
   "execution_count": null,
   "metadata": {},
   "outputs": [],
   "source": [
    "# df=final_data2\n",
    "# df.loc[(df['Tag'] == 'B'), 'Tag'] = 'B-ORG'\n",
    "# df.loc[(df['Tag'] == 'I'), 'Tag'] = 'I-ORG'\n",
    "# df.to_csv(\"BIO_taggingdata_B_MUST.csv\",index=False)"
   ]
  },
  {
   "cell_type": "code",
   "execution_count": null,
   "metadata": {},
   "outputs": [],
   "source": []
  },
  {
   "cell_type": "code",
   "execution_count": null,
   "metadata": {},
   "outputs": [],
   "source": []
  }
 ],
 "metadata": {
  "kernelspec": {
   "display_name": "Python 3",
   "language": "python",
   "name": "python3"
  },
  "language_info": {
   "codemirror_mode": {
    "name": "ipython",
    "version": 3
   },
   "file_extension": ".py",
   "mimetype": "text/x-python",
   "name": "python",
   "nbconvert_exporter": "python",
   "pygments_lexer": "ipython3",
   "version": "3.8.10"
  }
 },
 "nbformat": 4,
 "nbformat_minor": 2
}
