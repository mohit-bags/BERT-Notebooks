{
 "cells": [
  {
   "cell_type": "code",
   "execution_count": 1,
   "metadata": {},
   "outputs": [],
   "source": [
    "import pandas as pd\n",
    "import numpy as np"
   ]
  },
  {
   "cell_type": "code",
   "execution_count": 2,
   "metadata": {},
   "outputs": [],
   "source": [
    "# data=pd.read_csv(\"BERT_Pred_189_FULL.csv\")\n",
    "data=pd.read_csv(\"Manually_500_pred_BERT_ROW_WISE.csv\")\n",
    "data=data.iloc[:,2:]\n"
   ]
  },
  {
   "cell_type": "code",
   "execution_count": 3,
   "metadata": {},
   "outputs": [
    {
     "data": {
      "text/html": [
       "<div>\n",
       "<style scoped>\n",
       "    .dataframe tbody tr th:only-of-type {\n",
       "        vertical-align: middle;\n",
       "    }\n",
       "\n",
       "    .dataframe tbody tr th {\n",
       "        vertical-align: top;\n",
       "    }\n",
       "\n",
       "    .dataframe thead th {\n",
       "        text-align: right;\n",
       "    }\n",
       "</style>\n",
       "<table border=\"1\" class=\"dataframe\">\n",
       "  <thead>\n",
       "    <tr style=\"text-align: right;\">\n",
       "      <th></th>\n",
       "      <th>id</th>\n",
       "      <th>summaries</th>\n",
       "      <th>exact_matched_patt_contextual</th>\n",
       "      <th>Tech_from_string_match</th>\n",
       "      <th>BERT_Tags</th>\n",
       "    </tr>\n",
       "  </thead>\n",
       "  <tbody>\n",
       "    <tr>\n",
       "      <th>0</th>\n",
       "      <td>d3sBpLsn19JAgs2I3eoQLw_0000</td>\n",
       "      <td>a multiskilled economist and project manager w...</td>\n",
       "      <td>['qlikview']</td>\n",
       "      <td>NaN</td>\n",
       "      <td>['qlikview', 'ultiple']</td>\n",
       "    </tr>\n",
       "    <tr>\n",
       "      <th>1</th>\n",
       "      <td>d2xmOwryxUIws0gqCBzNMw_0000</td>\n",
       "      <td>a multiskilled economist and project manager ...</td>\n",
       "      <td>['qlikview']</td>\n",
       "      <td>['able', 'and co', 'board', 'cat', 'cci', 'cin...</td>\n",
       "      <td>['qlikview']</td>\n",
       "    </tr>\n",
       "    <tr>\n",
       "      <th>2</th>\n",
       "      <td>bfP0BXlhcOgqCouGfIIbHw_0000</td>\n",
       "      <td>ive been involved in software development usi...</td>\n",
       "      <td>['openedge']</td>\n",
       "      <td>['able', 'ace', 'ada', 'adapt', 'apt', 'flo', ...</td>\n",
       "      <td>['openedge']</td>\n",
       "    </tr>\n",
       "    <tr>\n",
       "      <th>3</th>\n",
       "      <td>bdTTj0aGQRypq5vd-I1o-A_0000</td>\n",
       "      <td>information technology professional extensive...</td>\n",
       "      <td>['netsuite']</td>\n",
       "      <td>['acl', 'ada', 'blis', 'cat', 'cien', 'ento', ...</td>\n",
       "      <td>['netsuite', 'microstrategy']</td>\n",
       "    </tr>\n",
       "    <tr>\n",
       "      <th>4</th>\n",
       "      <td>6pXOo5YPZzwFBbuhuBzjOQ_0000</td>\n",
       "      <td>experienced sales executive with a demonstrat...</td>\n",
       "      <td>['getswift']</td>\n",
       "      <td>['ark', 'dot', 'driven', 'ets', 'getswift', 'g...</td>\n",
       "      <td>['grubhubcom', 'dotmenu', 'getswift']</td>\n",
       "    </tr>\n",
       "  </tbody>\n",
       "</table>\n",
       "</div>"
      ],
      "text/plain": [
       "                            id  \\\n",
       "0  d3sBpLsn19JAgs2I3eoQLw_0000   \n",
       "1  d2xmOwryxUIws0gqCBzNMw_0000   \n",
       "2  bfP0BXlhcOgqCouGfIIbHw_0000   \n",
       "3  bdTTj0aGQRypq5vd-I1o-A_0000   \n",
       "4  6pXOo5YPZzwFBbuhuBzjOQ_0000   \n",
       "\n",
       "                                           summaries  \\\n",
       "0  a multiskilled economist and project manager w...   \n",
       "1   a multiskilled economist and project manager ...   \n",
       "2   ive been involved in software development usi...   \n",
       "3   information technology professional extensive...   \n",
       "4   experienced sales executive with a demonstrat...   \n",
       "\n",
       "  exact_matched_patt_contextual  \\\n",
       "0                  ['qlikview']   \n",
       "1                  ['qlikview']   \n",
       "2                  ['openedge']   \n",
       "3                  ['netsuite']   \n",
       "4                  ['getswift']   \n",
       "\n",
       "                              Tech_from_string_match  \\\n",
       "0                                                NaN   \n",
       "1  ['able', 'and co', 'board', 'cat', 'cci', 'cin...   \n",
       "2  ['able', 'ace', 'ada', 'adapt', 'apt', 'flo', ...   \n",
       "3  ['acl', 'ada', 'blis', 'cat', 'cien', 'ento', ...   \n",
       "4  ['ark', 'dot', 'driven', 'ets', 'getswift', 'g...   \n",
       "\n",
       "                               BERT_Tags  \n",
       "0                ['qlikview', 'ultiple']  \n",
       "1                           ['qlikview']  \n",
       "2                           ['openedge']  \n",
       "3          ['netsuite', 'microstrategy']  \n",
       "4  ['grubhubcom', 'dotmenu', 'getswift']  "
      ]
     },
     "execution_count": 3,
     "metadata": {},
     "output_type": "execute_result"
    }
   ],
   "source": [
    "data.head()"
   ]
  },
  {
   "cell_type": "code",
   "execution_count": 4,
   "metadata": {},
   "outputs": [],
   "source": [
    "def remove_space(string_list):\n",
    "    k = [i.replace(' ', '') for i in string_list]\n",
    "    return k"
   ]
  },
  {
   "cell_type": "code",
   "execution_count": 5,
   "metadata": {},
   "outputs": [],
   "source": [
    "data[\"BERT_Tags\"] = data[\"BERT_Tags\"].apply(eval)\n",
    "# data[\"BERT_Tags\"] = data[\"BERT_Tags\"].apply(remove_space)"
   ]
  },
  {
   "cell_type": "code",
   "execution_count": 6,
   "metadata": {},
   "outputs": [
    {
     "data": {
      "text/html": [
       "<div>\n",
       "<style scoped>\n",
       "    .dataframe tbody tr th:only-of-type {\n",
       "        vertical-align: middle;\n",
       "    }\n",
       "\n",
       "    .dataframe tbody tr th {\n",
       "        vertical-align: top;\n",
       "    }\n",
       "\n",
       "    .dataframe thead th {\n",
       "        text-align: right;\n",
       "    }\n",
       "</style>\n",
       "<table border=\"1\" class=\"dataframe\">\n",
       "  <thead>\n",
       "    <tr style=\"text-align: right;\">\n",
       "      <th></th>\n",
       "      <th>id</th>\n",
       "      <th>summaries</th>\n",
       "      <th>exact_matched_patt_contextual</th>\n",
       "      <th>Tech_from_string_match</th>\n",
       "      <th>BERT_Tags</th>\n",
       "    </tr>\n",
       "  </thead>\n",
       "  <tbody>\n",
       "    <tr>\n",
       "      <th>0</th>\n",
       "      <td>d3sBpLsn19JAgs2I3eoQLw_0000</td>\n",
       "      <td>a multiskilled economist and project manager w...</td>\n",
       "      <td>['qlikview']</td>\n",
       "      <td>NaN</td>\n",
       "      <td>[qlikview, ultiple]</td>\n",
       "    </tr>\n",
       "    <tr>\n",
       "      <th>1</th>\n",
       "      <td>d2xmOwryxUIws0gqCBzNMw_0000</td>\n",
       "      <td>a multiskilled economist and project manager ...</td>\n",
       "      <td>['qlikview']</td>\n",
       "      <td>['able', 'and co', 'board', 'cat', 'cci', 'cin...</td>\n",
       "      <td>[qlikview]</td>\n",
       "    </tr>\n",
       "    <tr>\n",
       "      <th>2</th>\n",
       "      <td>bfP0BXlhcOgqCouGfIIbHw_0000</td>\n",
       "      <td>ive been involved in software development usi...</td>\n",
       "      <td>['openedge']</td>\n",
       "      <td>['able', 'ace', 'ada', 'adapt', 'apt', 'flo', ...</td>\n",
       "      <td>[openedge]</td>\n",
       "    </tr>\n",
       "    <tr>\n",
       "      <th>3</th>\n",
       "      <td>bdTTj0aGQRypq5vd-I1o-A_0000</td>\n",
       "      <td>information technology professional extensive...</td>\n",
       "      <td>['netsuite']</td>\n",
       "      <td>['acl', 'ada', 'blis', 'cat', 'cien', 'ento', ...</td>\n",
       "      <td>[netsuite, microstrategy]</td>\n",
       "    </tr>\n",
       "    <tr>\n",
       "      <th>4</th>\n",
       "      <td>6pXOo5YPZzwFBbuhuBzjOQ_0000</td>\n",
       "      <td>experienced sales executive with a demonstrat...</td>\n",
       "      <td>['getswift']</td>\n",
       "      <td>['ark', 'dot', 'driven', 'ets', 'getswift', 'g...</td>\n",
       "      <td>[grubhubcom, dotmenu, getswift]</td>\n",
       "    </tr>\n",
       "  </tbody>\n",
       "</table>\n",
       "</div>"
      ],
      "text/plain": [
       "                            id  \\\n",
       "0  d3sBpLsn19JAgs2I3eoQLw_0000   \n",
       "1  d2xmOwryxUIws0gqCBzNMw_0000   \n",
       "2  bfP0BXlhcOgqCouGfIIbHw_0000   \n",
       "3  bdTTj0aGQRypq5vd-I1o-A_0000   \n",
       "4  6pXOo5YPZzwFBbuhuBzjOQ_0000   \n",
       "\n",
       "                                           summaries  \\\n",
       "0  a multiskilled economist and project manager w...   \n",
       "1   a multiskilled economist and project manager ...   \n",
       "2   ive been involved in software development usi...   \n",
       "3   information technology professional extensive...   \n",
       "4   experienced sales executive with a demonstrat...   \n",
       "\n",
       "  exact_matched_patt_contextual  \\\n",
       "0                  ['qlikview']   \n",
       "1                  ['qlikview']   \n",
       "2                  ['openedge']   \n",
       "3                  ['netsuite']   \n",
       "4                  ['getswift']   \n",
       "\n",
       "                              Tech_from_string_match  \\\n",
       "0                                                NaN   \n",
       "1  ['able', 'and co', 'board', 'cat', 'cci', 'cin...   \n",
       "2  ['able', 'ace', 'ada', 'adapt', 'apt', 'flo', ...   \n",
       "3  ['acl', 'ada', 'blis', 'cat', 'cien', 'ento', ...   \n",
       "4  ['ark', 'dot', 'driven', 'ets', 'getswift', 'g...   \n",
       "\n",
       "                         BERT_Tags  \n",
       "0              [qlikview, ultiple]  \n",
       "1                       [qlikview]  \n",
       "2                       [openedge]  \n",
       "3        [netsuite, microstrategy]  \n",
       "4  [grubhubcom, dotmenu, getswift]  "
      ]
     },
     "execution_count": 6,
     "metadata": {},
     "output_type": "execute_result"
    }
   ],
   "source": [
    "data.head()"
   ]
  },
  {
   "cell_type": "code",
   "execution_count": 7,
   "metadata": {},
   "outputs": [],
   "source": [
    "# for i, l in enumerate(tech_data[\"Tech_word\"]):\n",
    "#  print(\"list\",i,\"is\",type(l))"
   ]
  },
  {
   "cell_type": "code",
   "execution_count": 8,
   "metadata": {},
   "outputs": [
    {
     "name": "stderr",
     "output_type": "stream",
     "text": [
      "[nltk_data] Downloading package punkt to\n",
      "[nltk_data]     /Users/mohitbagaria/nltk_data...\n",
      "[nltk_data]   Package punkt is already up-to-date!\n"
     ]
    }
   ],
   "source": [
    "import nltk\n",
    "import re\n",
    "from bs4 import BeautifulSoup\n",
    "\n",
    "nltk.download(\"punkt\")\n",
    "\n",
    "REPLACE_BY_SPACE_RE = re.compile('[/(){}\\[\\]\\|@,;]')\n",
    "BAD_SYMBOLS_RE = re.compile('[^0-9a-z #+_]')\n",
    "\n",
    "def clean_text(text):\n",
    "    \"\"\"\n",
    "        text: a string\n",
    "        \n",
    "        return: modified initial string\n",
    "    \"\"\"\n",
    "    text = BeautifulSoup(text, \"lxml\").text # HTML decoding\n",
    "    text = text.lower() # lowercase text\n",
    "    text = REPLACE_BY_SPACE_RE.sub(' ', text) # replace REPLACE_BY_SPACE_RE symbols by space in text\n",
    "    text = BAD_SYMBOLS_RE.sub('', text) # delete symbols which are in BAD_SYMBOLS_RE from text\n",
    "    return text"
   ]
  },
  {
   "cell_type": "code",
   "execution_count": 9,
   "metadata": {},
   "outputs": [
    {
     "data": {
      "text/html": [
       "<div>\n",
       "<style scoped>\n",
       "    .dataframe tbody tr th:only-of-type {\n",
       "        vertical-align: middle;\n",
       "    }\n",
       "\n",
       "    .dataframe tbody tr th {\n",
       "        vertical-align: top;\n",
       "    }\n",
       "\n",
       "    .dataframe thead th {\n",
       "        text-align: right;\n",
       "    }\n",
       "</style>\n",
       "<table border=\"1\" class=\"dataframe\">\n",
       "  <thead>\n",
       "    <tr style=\"text-align: right;\">\n",
       "      <th></th>\n",
       "      <th>Unnamed: 0</th>\n",
       "      <th>English_word</th>\n",
       "    </tr>\n",
       "  </thead>\n",
       "  <tbody>\n",
       "    <tr>\n",
       "      <th>0</th>\n",
       "      <td>0</td>\n",
       "      <td>Lattice</td>\n",
       "    </tr>\n",
       "    <tr>\n",
       "      <th>1</th>\n",
       "      <td>16</td>\n",
       "      <td>EMERGE Background Checks</td>\n",
       "    </tr>\n",
       "    <tr>\n",
       "      <th>2</th>\n",
       "      <td>35</td>\n",
       "      <td>Tenfold</td>\n",
       "    </tr>\n",
       "    <tr>\n",
       "      <th>3</th>\n",
       "      <td>39</td>\n",
       "      <td>Friday Feedback</td>\n",
       "    </tr>\n",
       "    <tr>\n",
       "      <th>4</th>\n",
       "      <td>45</td>\n",
       "      <td>Data Dwell</td>\n",
       "    </tr>\n",
       "  </tbody>\n",
       "</table>\n",
       "</div>"
      ],
      "text/plain": [
       "   Unnamed: 0              English_word\n",
       "0           0                   Lattice\n",
       "1          16  EMERGE Background Checks\n",
       "2          35                   Tenfold\n",
       "3          39           Friday Feedback\n",
       "4          45                Data Dwell"
      ]
     },
     "execution_count": 9,
     "metadata": {},
     "output_type": "execute_result"
    }
   ],
   "source": [
    "tech_data = pd.read_csv(\"Tech_pydictionary_2.csv\")\n",
    "tech_data[\"Tech_word\"]=tech_data[\"Tech_word\"].apply(clean_text)\n",
    "\n",
    "eng_data = pd.read_csv(\"Eng_pydictionary_2.csv\")\n",
    "eng_data.head()"
   ]
  },
  {
   "cell_type": "code",
   "execution_count": 10,
   "metadata": {},
   "outputs": [],
   "source": [
    "eng_data=eng_data.drop(columns=\"Unnamed: 0\")\n",
    "eng_data[\"English_word\"]=eng_data[\"English_word\"].apply(clean_text)"
   ]
  },
  {
   "cell_type": "code",
   "execution_count": 11,
   "metadata": {},
   "outputs": [],
   "source": [
    "# tech_data[\"Tech_word\"]"
   ]
  },
  {
   "cell_type": "code",
   "execution_count": 12,
   "metadata": {},
   "outputs": [
    {
     "data": {
      "text/html": [
       "<div>\n",
       "<style scoped>\n",
       "    .dataframe tbody tr th:only-of-type {\n",
       "        vertical-align: middle;\n",
       "    }\n",
       "\n",
       "    .dataframe tbody tr th {\n",
       "        vertical-align: top;\n",
       "    }\n",
       "\n",
       "    .dataframe thead th {\n",
       "        text-align: right;\n",
       "    }\n",
       "</style>\n",
       "<table border=\"1\" class=\"dataframe\">\n",
       "  <thead>\n",
       "    <tr style=\"text-align: right;\">\n",
       "      <th></th>\n",
       "      <th>English_word</th>\n",
       "    </tr>\n",
       "  </thead>\n",
       "  <tbody>\n",
       "    <tr>\n",
       "      <th>0</th>\n",
       "      <td>lattice</td>\n",
       "    </tr>\n",
       "    <tr>\n",
       "      <th>1</th>\n",
       "      <td>emerge background checks</td>\n",
       "    </tr>\n",
       "    <tr>\n",
       "      <th>2</th>\n",
       "      <td>tenfold</td>\n",
       "    </tr>\n",
       "    <tr>\n",
       "      <th>3</th>\n",
       "      <td>friday feedback</td>\n",
       "    </tr>\n",
       "    <tr>\n",
       "      <th>4</th>\n",
       "      <td>data dwell</td>\n",
       "    </tr>\n",
       "  </tbody>\n",
       "</table>\n",
       "</div>"
      ],
      "text/plain": [
       "               English_word\n",
       "0                   lattice\n",
       "1  emerge background checks\n",
       "2                   tenfold\n",
       "3           friday feedback\n",
       "4                data dwell"
      ]
     },
     "execution_count": 12,
     "metadata": {},
     "output_type": "execute_result"
    }
   ],
   "source": [
    "eng_data.head()"
   ]
  },
  {
   "cell_type": "code",
   "execution_count": 13,
   "metadata": {},
   "outputs": [
    {
     "data": {
      "text/plain": [
       "(5291, 1)"
      ]
     },
     "execution_count": 13,
     "metadata": {},
     "output_type": "execute_result"
    }
   ],
   "source": [
    "eng_data.shape"
   ]
  },
  {
   "cell_type": "code",
   "execution_count": 14,
   "metadata": {},
   "outputs": [],
   "source": [
    "def to_list(inp):\n",
    "    return \"['\"+inp+\"']\""
   ]
  },
  {
   "cell_type": "code",
   "execution_count": 15,
   "metadata": {},
   "outputs": [],
   "source": [
    "tech_dict = {}\n",
    "for j in tech_data[\"Tech_word\"]:\n",
    "    if j not in tech_dict:\n",
    "        tech_dict[j] = 1\n",
    "    else:\n",
    "        tech_dict[j] += 1\n",
    "\n",
    "eng_dict = {}\n",
    "for j in eng_data[\"English_word\"]:\n",
    "    if j not in eng_dict:\n",
    "        eng_dict[j] = 1\n",
    "    else:\n",
    "        eng_dict[j] += 1\n",
    "        \n",
    "tech_list=[]\n",
    "all_list=[]\n",
    "eng_list=[]\n",
    "for i in tech_dict:\n",
    "    tech_list.append(i)\n",
    "    all_list.append(i)\n",
    "for i in eng_dict:\n",
    "    all_list.append(i)\n",
    "    eng_list.append(i)"
   ]
  },
  {
   "cell_type": "code",
   "execution_count": 16,
   "metadata": {},
   "outputs": [
    {
     "data": {
      "text/plain": [
       "1"
      ]
     },
     "execution_count": 16,
     "metadata": {},
     "output_type": "execute_result"
    }
   ],
   "source": [
    "tech_dict['informatica']"
   ]
  },
  {
   "cell_type": "code",
   "execution_count": 17,
   "metadata": {},
   "outputs": [
    {
     "data": {
      "text/plain": [
       "(23962, 29242)"
      ]
     },
     "execution_count": 17,
     "metadata": {},
     "output_type": "execute_result"
    }
   ],
   "source": [
    "len(tech_list),len(all_list)"
   ]
  },
  {
   "cell_type": "code",
   "execution_count": 18,
   "metadata": {},
   "outputs": [
    {
     "data": {
      "text/plain": [
       "23962"
      ]
     },
     "execution_count": 18,
     "metadata": {},
     "output_type": "execute_result"
    }
   ],
   "source": [
    "len(list(set(tech_list)))"
   ]
  },
  {
   "cell_type": "code",
   "execution_count": 19,
   "metadata": {},
   "outputs": [],
   "source": [
    "# tech_data[\"Tech_word\"]\n",
    "\n",
    "# tech_list"
   ]
  },
  {
   "cell_type": "code",
   "execution_count": 20,
   "metadata": {},
   "outputs": [
    {
     "data": {
      "text/html": [
       "<div>\n",
       "<style scoped>\n",
       "    .dataframe tbody tr th:only-of-type {\n",
       "        vertical-align: middle;\n",
       "    }\n",
       "\n",
       "    .dataframe tbody tr th {\n",
       "        vertical-align: top;\n",
       "    }\n",
       "\n",
       "    .dataframe thead th {\n",
       "        text-align: right;\n",
       "    }\n",
       "</style>\n",
       "<table border=\"1\" class=\"dataframe\">\n",
       "  <thead>\n",
       "    <tr style=\"text-align: right;\">\n",
       "      <th></th>\n",
       "      <th>id</th>\n",
       "      <th>summaries</th>\n",
       "      <th>exact_matched_patt_contextual</th>\n",
       "      <th>Tech_from_string_match</th>\n",
       "      <th>BERT_Tags</th>\n",
       "    </tr>\n",
       "  </thead>\n",
       "  <tbody>\n",
       "    <tr>\n",
       "      <th>0</th>\n",
       "      <td>d3sBpLsn19JAgs2I3eoQLw_0000</td>\n",
       "      <td>a multiskilled economist and project manager w...</td>\n",
       "      <td>['qlikview']</td>\n",
       "      <td>NaN</td>\n",
       "      <td>[qlikview, ultiple]</td>\n",
       "    </tr>\n",
       "    <tr>\n",
       "      <th>1</th>\n",
       "      <td>d2xmOwryxUIws0gqCBzNMw_0000</td>\n",
       "      <td>a multiskilled economist and project manager ...</td>\n",
       "      <td>['qlikview']</td>\n",
       "      <td>['able', 'and co', 'board', 'cat', 'cci', 'cin...</td>\n",
       "      <td>[qlikview]</td>\n",
       "    </tr>\n",
       "    <tr>\n",
       "      <th>2</th>\n",
       "      <td>bfP0BXlhcOgqCouGfIIbHw_0000</td>\n",
       "      <td>ive been involved in software development usi...</td>\n",
       "      <td>['openedge']</td>\n",
       "      <td>['able', 'ace', 'ada', 'adapt', 'apt', 'flo', ...</td>\n",
       "      <td>[openedge]</td>\n",
       "    </tr>\n",
       "    <tr>\n",
       "      <th>3</th>\n",
       "      <td>bdTTj0aGQRypq5vd-I1o-A_0000</td>\n",
       "      <td>information technology professional extensive...</td>\n",
       "      <td>['netsuite']</td>\n",
       "      <td>['acl', 'ada', 'blis', 'cat', 'cien', 'ento', ...</td>\n",
       "      <td>[netsuite, microstrategy]</td>\n",
       "    </tr>\n",
       "    <tr>\n",
       "      <th>4</th>\n",
       "      <td>6pXOo5YPZzwFBbuhuBzjOQ_0000</td>\n",
       "      <td>experienced sales executive with a demonstrat...</td>\n",
       "      <td>['getswift']</td>\n",
       "      <td>['ark', 'dot', 'driven', 'ets', 'getswift', 'g...</td>\n",
       "      <td>[grubhubcom, dotmenu, getswift]</td>\n",
       "    </tr>\n",
       "  </tbody>\n",
       "</table>\n",
       "</div>"
      ],
      "text/plain": [
       "                            id  \\\n",
       "0  d3sBpLsn19JAgs2I3eoQLw_0000   \n",
       "1  d2xmOwryxUIws0gqCBzNMw_0000   \n",
       "2  bfP0BXlhcOgqCouGfIIbHw_0000   \n",
       "3  bdTTj0aGQRypq5vd-I1o-A_0000   \n",
       "4  6pXOo5YPZzwFBbuhuBzjOQ_0000   \n",
       "\n",
       "                                           summaries  \\\n",
       "0  a multiskilled economist and project manager w...   \n",
       "1   a multiskilled economist and project manager ...   \n",
       "2   ive been involved in software development usi...   \n",
       "3   information technology professional extensive...   \n",
       "4   experienced sales executive with a demonstrat...   \n",
       "\n",
       "  exact_matched_patt_contextual  \\\n",
       "0                  ['qlikview']   \n",
       "1                  ['qlikview']   \n",
       "2                  ['openedge']   \n",
       "3                  ['netsuite']   \n",
       "4                  ['getswift']   \n",
       "\n",
       "                              Tech_from_string_match  \\\n",
       "0                                                NaN   \n",
       "1  ['able', 'and co', 'board', 'cat', 'cci', 'cin...   \n",
       "2  ['able', 'ace', 'ada', 'adapt', 'apt', 'flo', ...   \n",
       "3  ['acl', 'ada', 'blis', 'cat', 'cien', 'ento', ...   \n",
       "4  ['ark', 'dot', 'driven', 'ets', 'getswift', 'g...   \n",
       "\n",
       "                         BERT_Tags  \n",
       "0              [qlikview, ultiple]  \n",
       "1                       [qlikview]  \n",
       "2                       [openedge]  \n",
       "3        [netsuite, microstrategy]  \n",
       "4  [grubhubcom, dotmenu, getswift]  "
      ]
     },
     "execution_count": 20,
     "metadata": {},
     "output_type": "execute_result"
    }
   ],
   "source": [
    "data.head()"
   ]
  },
  {
   "cell_type": "code",
   "execution_count": 21,
   "metadata": {},
   "outputs": [],
   "source": [
    "# (all entries which are not in tech+eng dictionary)\n",
    "eng_bert_tags=[]\n",
    "removed=0\n",
    "kept=0\n",
    "for i in range(0,len(data)):\n",
    "    eng_bert_1sen=[]\n",
    "    tags = data['BERT_Tags'][i]\n",
    "    \n",
    "    for j in tags:\n",
    "#         print(j)\n",
    "        if j not in all_list:\n",
    "            removed+=1\n",
    "#             print(j)\n",
    "        else:\n",
    "            kept+=1\n",
    "            eng_bert_1sen.append(j)\n",
    "    eng_bert_tags.append(eng_bert_1sen)\n",
    "data['BERT_Tags']=eng_bert_tags"
   ]
  },
  {
   "cell_type": "code",
   "execution_count": 22,
   "metadata": {},
   "outputs": [
    {
     "data": {
      "text/plain": [
       "(243, 299)"
      ]
     },
     "execution_count": 22,
     "metadata": {},
     "output_type": "execute_result"
    }
   ],
   "source": [
    "removed, kept"
   ]
  },
  {
   "cell_type": "code",
   "execution_count": 23,
   "metadata": {},
   "outputs": [
    {
     "data": {
      "text/html": [
       "<div>\n",
       "<style scoped>\n",
       "    .dataframe tbody tr th:only-of-type {\n",
       "        vertical-align: middle;\n",
       "    }\n",
       "\n",
       "    .dataframe tbody tr th {\n",
       "        vertical-align: top;\n",
       "    }\n",
       "\n",
       "    .dataframe thead th {\n",
       "        text-align: right;\n",
       "    }\n",
       "</style>\n",
       "<table border=\"1\" class=\"dataframe\">\n",
       "  <thead>\n",
       "    <tr style=\"text-align: right;\">\n",
       "      <th></th>\n",
       "      <th>id</th>\n",
       "      <th>summaries</th>\n",
       "      <th>exact_matched_patt_contextual</th>\n",
       "      <th>Tech_from_string_match</th>\n",
       "      <th>BERT_Tags</th>\n",
       "    </tr>\n",
       "  </thead>\n",
       "  <tbody>\n",
       "    <tr>\n",
       "      <th>0</th>\n",
       "      <td>d3sBpLsn19JAgs2I3eoQLw_0000</td>\n",
       "      <td>a multiskilled economist and project manager w...</td>\n",
       "      <td>['qlikview']</td>\n",
       "      <td>NaN</td>\n",
       "      <td>[qlikview]</td>\n",
       "    </tr>\n",
       "    <tr>\n",
       "      <th>1</th>\n",
       "      <td>d2xmOwryxUIws0gqCBzNMw_0000</td>\n",
       "      <td>a multiskilled economist and project manager ...</td>\n",
       "      <td>['qlikview']</td>\n",
       "      <td>['able', 'and co', 'board', 'cat', 'cci', 'cin...</td>\n",
       "      <td>[qlikview]</td>\n",
       "    </tr>\n",
       "    <tr>\n",
       "      <th>2</th>\n",
       "      <td>bfP0BXlhcOgqCouGfIIbHw_0000</td>\n",
       "      <td>ive been involved in software development usi...</td>\n",
       "      <td>['openedge']</td>\n",
       "      <td>['able', 'ace', 'ada', 'adapt', 'apt', 'flo', ...</td>\n",
       "      <td>[openedge]</td>\n",
       "    </tr>\n",
       "    <tr>\n",
       "      <th>3</th>\n",
       "      <td>bdTTj0aGQRypq5vd-I1o-A_0000</td>\n",
       "      <td>information technology professional extensive...</td>\n",
       "      <td>['netsuite']</td>\n",
       "      <td>['acl', 'ada', 'blis', 'cat', 'cien', 'ento', ...</td>\n",
       "      <td>[netsuite, microstrategy]</td>\n",
       "    </tr>\n",
       "    <tr>\n",
       "      <th>4</th>\n",
       "      <td>6pXOo5YPZzwFBbuhuBzjOQ_0000</td>\n",
       "      <td>experienced sales executive with a demonstrat...</td>\n",
       "      <td>['getswift']</td>\n",
       "      <td>['ark', 'dot', 'driven', 'ets', 'getswift', 'g...</td>\n",
       "      <td>[getswift]</td>\n",
       "    </tr>\n",
       "  </tbody>\n",
       "</table>\n",
       "</div>"
      ],
      "text/plain": [
       "                            id  \\\n",
       "0  d3sBpLsn19JAgs2I3eoQLw_0000   \n",
       "1  d2xmOwryxUIws0gqCBzNMw_0000   \n",
       "2  bfP0BXlhcOgqCouGfIIbHw_0000   \n",
       "3  bdTTj0aGQRypq5vd-I1o-A_0000   \n",
       "4  6pXOo5YPZzwFBbuhuBzjOQ_0000   \n",
       "\n",
       "                                           summaries  \\\n",
       "0  a multiskilled economist and project manager w...   \n",
       "1   a multiskilled economist and project manager ...   \n",
       "2   ive been involved in software development usi...   \n",
       "3   information technology professional extensive...   \n",
       "4   experienced sales executive with a demonstrat...   \n",
       "\n",
       "  exact_matched_patt_contextual  \\\n",
       "0                  ['qlikview']   \n",
       "1                  ['qlikview']   \n",
       "2                  ['openedge']   \n",
       "3                  ['netsuite']   \n",
       "4                  ['getswift']   \n",
       "\n",
       "                              Tech_from_string_match  \\\n",
       "0                                                NaN   \n",
       "1  ['able', 'and co', 'board', 'cat', 'cci', 'cin...   \n",
       "2  ['able', 'ace', 'ada', 'adapt', 'apt', 'flo', ...   \n",
       "3  ['acl', 'ada', 'blis', 'cat', 'cien', 'ento', ...   \n",
       "4  ['ark', 'dot', 'driven', 'ets', 'getswift', 'g...   \n",
       "\n",
       "                   BERT_Tags  \n",
       "0                 [qlikview]  \n",
       "1                 [qlikview]  \n",
       "2                 [openedge]  \n",
       "3  [netsuite, microstrategy]  \n",
       "4                 [getswift]  "
      ]
     },
     "execution_count": 23,
     "metadata": {},
     "output_type": "execute_result"
    }
   ],
   "source": [
    "data.head()"
   ]
  },
  {
   "cell_type": "code",
   "execution_count": 24,
   "metadata": {},
   "outputs": [],
   "source": [
    "# data.to_csv(\"BERT_Pred_189_FULL_with_eng.csv\",index=False)\n",
    "data.to_csv(\"BERT_Pred_500_without_MASTER_ENG+TECH_ROW_WISE.csv\",index=False)"
   ]
  },
  {
   "cell_type": "code",
   "execution_count": null,
   "metadata": {},
   "outputs": [],
   "source": []
  }
 ],
 "metadata": {
  "kernelspec": {
   "display_name": "Python 3.7.3 64-bit ('base': conda)",
   "language": "python",
   "name": "python37364bitbaseconda5fa6ef65aabe435e83eb42db00346061"
  },
  "language_info": {
   "codemirror_mode": {
    "name": "ipython",
    "version": 3
   },
   "file_extension": ".py",
   "mimetype": "text/x-python",
   "name": "python",
   "nbconvert_exporter": "python",
   "pygments_lexer": "ipython3",
   "version": "3.7.3"
  }
 },
 "nbformat": 4,
 "nbformat_minor": 2
}
