{
 "cells": [
  {
   "cell_type": "code",
   "execution_count": 6,
   "metadata": {},
   "outputs": [],
   "source": [
    "import pandas as pd\n",
    "import numpy as np"
   ]
  },
  {
   "cell_type": "code",
   "execution_count": 9,
   "metadata": {},
   "outputs": [],
   "source": [
    "# data=pd.read_csv(\"BERT_Pred_189_FULL.csv\")\n",
    "# data=pd.read_csv(\"Manually_500_pred_BERT_ROW_WISE.csv\")\n",
    "data=pd.read_csv(\"Bert_Preds_EXP_Summary.csv\")\n",
    "# data=data.iloc[:,2:]\n",
    "data=data[['id','summaries','manually Tagged','BERT_Tags']]"
   ]
  },
  {
   "cell_type": "code",
   "execution_count": 10,
   "metadata": {},
   "outputs": [
    {
     "data": {
      "text/html": [
       "<div>\n",
       "<style scoped>\n",
       "    .dataframe tbody tr th:only-of-type {\n",
       "        vertical-align: middle;\n",
       "    }\n",
       "\n",
       "    .dataframe tbody tr th {\n",
       "        vertical-align: top;\n",
       "    }\n",
       "\n",
       "    .dataframe thead th {\n",
       "        text-align: right;\n",
       "    }\n",
       "</style>\n",
       "<table border=\"1\" class=\"dataframe\">\n",
       "  <thead>\n",
       "    <tr style=\"text-align: right;\">\n",
       "      <th></th>\n",
       "      <th>id</th>\n",
       "      <th>summaries</th>\n",
       "      <th>manually Tagged</th>\n",
       "      <th>BERT_Tags</th>\n",
       "    </tr>\n",
       "  </thead>\n",
       "  <tbody>\n",
       "    <tr>\n",
       "      <th>0</th>\n",
       "      <td>-4W7H0UFJneCeHmDK-b9LA_0000</td>\n",
       "      <td>im a seasoned software consultant and manager...</td>\n",
       "      <td>['gmail']</td>\n",
       "      <td>[]</td>\n",
       "    </tr>\n",
       "    <tr>\n",
       "      <th>1</th>\n",
       "      <td>-5KQNWRmZUAxcmAKsBVFCw_0000</td>\n",
       "      <td>committed and clientfocused technical lead wi...</td>\n",
       "      <td>['oracle pl/sql', 'vb.net', 'hp quality center...</td>\n",
       "      <td>[' server', ' 10g', ' xp', 'tidal', ' 7']</td>\n",
       "    </tr>\n",
       "    <tr>\n",
       "      <th>2</th>\n",
       "      <td>-9vRkMCaww4q9MTuMhg16A_0000</td>\n",
       "      <td>professional web site design and development ...</td>\n",
       "      <td>['html', 'php', 'javascript']</td>\n",
       "      <td>['html', 'php', 'javascript', 'winkel']</td>\n",
       "    </tr>\n",
       "    <tr>\n",
       "      <th>3</th>\n",
       "      <td>-nZOV-0MncypcjMiVI38pQ_0000</td>\n",
       "      <td>experienced it software and infrastructure pr...</td>\n",
       "      <td>['versionone', 'ios', 'sharepoint', 'windows 1...</td>\n",
       "      <td>['dell', 'sharepoint', 'versionone', 'ios', 'x...</td>\n",
       "    </tr>\n",
       "    <tr>\n",
       "      <th>4</th>\n",
       "      <td>0-6kc4T3YjlcPQYOK7Wt4g_0000</td>\n",
       "      <td>now hiring actively sourcing nfoh manager agm...</td>\n",
       "      <td>['gmail']</td>\n",
       "      <td>[]</td>\n",
       "    </tr>\n",
       "  </tbody>\n",
       "</table>\n",
       "</div>"
      ],
      "text/plain": [
       "                            id  \\\n",
       "0  -4W7H0UFJneCeHmDK-b9LA_0000   \n",
       "1  -5KQNWRmZUAxcmAKsBVFCw_0000   \n",
       "2  -9vRkMCaww4q9MTuMhg16A_0000   \n",
       "3  -nZOV-0MncypcjMiVI38pQ_0000   \n",
       "4  0-6kc4T3YjlcPQYOK7Wt4g_0000   \n",
       "\n",
       "                                           summaries  \\\n",
       "0   im a seasoned software consultant and manager...   \n",
       "1   committed and clientfocused technical lead wi...   \n",
       "2   professional web site design and development ...   \n",
       "3   experienced it software and infrastructure pr...   \n",
       "4   now hiring actively sourcing nfoh manager agm...   \n",
       "\n",
       "                                     manually Tagged  \\\n",
       "0                                          ['gmail']   \n",
       "1  ['oracle pl/sql', 'vb.net', 'hp quality center...   \n",
       "2                      ['html', 'php', 'javascript']   \n",
       "3  ['versionone', 'ios', 'sharepoint', 'windows 1...   \n",
       "4                                          ['gmail']   \n",
       "\n",
       "                                           BERT_Tags  \n",
       "0                                                 []  \n",
       "1          [' server', ' 10g', ' xp', 'tidal', ' 7']  \n",
       "2            ['html', 'php', 'javascript', 'winkel']  \n",
       "3  ['dell', 'sharepoint', 'versionone', 'ios', 'x...  \n",
       "4                                                 []  "
      ]
     },
     "execution_count": 10,
     "metadata": {},
     "output_type": "execute_result"
    }
   ],
   "source": [
    "data.head()"
   ]
  },
  {
   "cell_type": "code",
   "execution_count": 11,
   "metadata": {},
   "outputs": [],
   "source": [
    "def remove_space(string_list):\n",
    "    k = [i.replace(' ', '') for i in string_list]\n",
    "    return k"
   ]
  },
  {
   "cell_type": "code",
   "execution_count": 12,
   "metadata": {},
   "outputs": [],
   "source": [
    "data[\"BERT_Tags\"] = data[\"BERT_Tags\"].apply(eval)\n",
    "# data[\"BERT_Tags\"] = data[\"BERT_Tags\"].apply(remove_space)"
   ]
  },
  {
   "cell_type": "code",
   "execution_count": 13,
   "metadata": {},
   "outputs": [
    {
     "data": {
      "text/html": [
       "<div>\n",
       "<style scoped>\n",
       "    .dataframe tbody tr th:only-of-type {\n",
       "        vertical-align: middle;\n",
       "    }\n",
       "\n",
       "    .dataframe tbody tr th {\n",
       "        vertical-align: top;\n",
       "    }\n",
       "\n",
       "    .dataframe thead th {\n",
       "        text-align: right;\n",
       "    }\n",
       "</style>\n",
       "<table border=\"1\" class=\"dataframe\">\n",
       "  <thead>\n",
       "    <tr style=\"text-align: right;\">\n",
       "      <th></th>\n",
       "      <th>id</th>\n",
       "      <th>summaries</th>\n",
       "      <th>manually Tagged</th>\n",
       "      <th>BERT_Tags</th>\n",
       "    </tr>\n",
       "  </thead>\n",
       "  <tbody>\n",
       "    <tr>\n",
       "      <th>0</th>\n",
       "      <td>-4W7H0UFJneCeHmDK-b9LA_0000</td>\n",
       "      <td>im a seasoned software consultant and manager...</td>\n",
       "      <td>['gmail']</td>\n",
       "      <td>[]</td>\n",
       "    </tr>\n",
       "    <tr>\n",
       "      <th>1</th>\n",
       "      <td>-5KQNWRmZUAxcmAKsBVFCw_0000</td>\n",
       "      <td>committed and clientfocused technical lead wi...</td>\n",
       "      <td>['oracle pl/sql', 'vb.net', 'hp quality center...</td>\n",
       "      <td>[ server,  10g,  xp, tidal,  7]</td>\n",
       "    </tr>\n",
       "    <tr>\n",
       "      <th>2</th>\n",
       "      <td>-9vRkMCaww4q9MTuMhg16A_0000</td>\n",
       "      <td>professional web site design and development ...</td>\n",
       "      <td>['html', 'php', 'javascript']</td>\n",
       "      <td>[html, php, javascript, winkel]</td>\n",
       "    </tr>\n",
       "    <tr>\n",
       "      <th>3</th>\n",
       "      <td>-nZOV-0MncypcjMiVI38pQ_0000</td>\n",
       "      <td>experienced it software and infrastructure pr...</td>\n",
       "      <td>['versionone', 'ios', 'sharepoint', 'windows 1...</td>\n",
       "      <td>[dell, sharepoint, versionone, ios, xenmobile]</td>\n",
       "    </tr>\n",
       "    <tr>\n",
       "      <th>4</th>\n",
       "      <td>0-6kc4T3YjlcPQYOK7Wt4g_0000</td>\n",
       "      <td>now hiring actively sourcing nfoh manager agm...</td>\n",
       "      <td>['gmail']</td>\n",
       "      <td>[]</td>\n",
       "    </tr>\n",
       "  </tbody>\n",
       "</table>\n",
       "</div>"
      ],
      "text/plain": [
       "                            id  \\\n",
       "0  -4W7H0UFJneCeHmDK-b9LA_0000   \n",
       "1  -5KQNWRmZUAxcmAKsBVFCw_0000   \n",
       "2  -9vRkMCaww4q9MTuMhg16A_0000   \n",
       "3  -nZOV-0MncypcjMiVI38pQ_0000   \n",
       "4  0-6kc4T3YjlcPQYOK7Wt4g_0000   \n",
       "\n",
       "                                           summaries  \\\n",
       "0   im a seasoned software consultant and manager...   \n",
       "1   committed and clientfocused technical lead wi...   \n",
       "2   professional web site design and development ...   \n",
       "3   experienced it software and infrastructure pr...   \n",
       "4   now hiring actively sourcing nfoh manager agm...   \n",
       "\n",
       "                                     manually Tagged  \\\n",
       "0                                          ['gmail']   \n",
       "1  ['oracle pl/sql', 'vb.net', 'hp quality center...   \n",
       "2                      ['html', 'php', 'javascript']   \n",
       "3  ['versionone', 'ios', 'sharepoint', 'windows 1...   \n",
       "4                                          ['gmail']   \n",
       "\n",
       "                                        BERT_Tags  \n",
       "0                                              []  \n",
       "1                 [ server,  10g,  xp, tidal,  7]  \n",
       "2                 [html, php, javascript, winkel]  \n",
       "3  [dell, sharepoint, versionone, ios, xenmobile]  \n",
       "4                                              []  "
      ]
     },
     "execution_count": 13,
     "metadata": {},
     "output_type": "execute_result"
    }
   ],
   "source": [
    "data.head()"
   ]
  },
  {
   "cell_type": "code",
   "execution_count": 14,
   "metadata": {},
   "outputs": [],
   "source": [
    "# for i, l in enumerate(tech_data[\"Tech_word\"]):\n",
    "#  print(\"list\",i,\"is\",type(l))\n"
   ]
  },
  {
   "cell_type": "code",
   "execution_count": null,
   "metadata": {},
   "outputs": [],
   "source": []
  },
  {
   "cell_type": "code",
   "execution_count": 15,
   "metadata": {},
   "outputs": [
    {
     "name": "stderr",
     "output_type": "stream",
     "text": [
      "[nltk_data] Downloading package punkt to\n",
      "[nltk_data]     /Users/mohitbagaria/nltk_data...\n",
      "[nltk_data]   Package punkt is already up-to-date!\n"
     ]
    }
   ],
   "source": [
    "import nltk\n",
    "import re\n",
    "from bs4 import BeautifulSoup\n",
    "\n",
    "nltk.download(\"punkt\")\n",
    "\n",
    "REPLACE_BY_SPACE_RE = re.compile('[/(){}\\[\\]\\|@,;]')\n",
    "BAD_SYMBOLS_RE = re.compile('[^0-9a-z #+_]')\n",
    "\n",
    "def clean_text(text):\n",
    "    \"\"\"\n",
    "        text: a string\n",
    "        \n",
    "        return: modified initial string\n",
    "    \"\"\"\n",
    "    text = BeautifulSoup(text, \"lxml\").text # HTML decoding\n",
    "    text = text.lower() # lowercase text\n",
    "    text = REPLACE_BY_SPACE_RE.sub(' ', text) # replace REPLACE_BY_SPACE_RE symbols by space in text\n",
    "    text = BAD_SYMBOLS_RE.sub('', text) # delete symbols which are in BAD_SYMBOLS_RE from text\n",
    "    return text\n",
    "\n",
    "\n"
   ]
  },
  {
   "cell_type": "code",
   "execution_count": 16,
   "metadata": {},
   "outputs": [
    {
     "data": {
      "text/html": [
       "<div>\n",
       "<style scoped>\n",
       "    .dataframe tbody tr th:only-of-type {\n",
       "        vertical-align: middle;\n",
       "    }\n",
       "\n",
       "    .dataframe tbody tr th {\n",
       "        vertical-align: top;\n",
       "    }\n",
       "\n",
       "    .dataframe thead th {\n",
       "        text-align: right;\n",
       "    }\n",
       "</style>\n",
       "<table border=\"1\" class=\"dataframe\">\n",
       "  <thead>\n",
       "    <tr style=\"text-align: right;\">\n",
       "      <th></th>\n",
       "      <th>Unnamed: 0</th>\n",
       "      <th>English_word</th>\n",
       "    </tr>\n",
       "  </thead>\n",
       "  <tbody>\n",
       "    <tr>\n",
       "      <th>0</th>\n",
       "      <td>0</td>\n",
       "      <td>Lattice</td>\n",
       "    </tr>\n",
       "    <tr>\n",
       "      <th>1</th>\n",
       "      <td>16</td>\n",
       "      <td>EMERGE Background Checks</td>\n",
       "    </tr>\n",
       "    <tr>\n",
       "      <th>2</th>\n",
       "      <td>35</td>\n",
       "      <td>Tenfold</td>\n",
       "    </tr>\n",
       "    <tr>\n",
       "      <th>3</th>\n",
       "      <td>39</td>\n",
       "      <td>Friday Feedback</td>\n",
       "    </tr>\n",
       "    <tr>\n",
       "      <th>4</th>\n",
       "      <td>45</td>\n",
       "      <td>Data Dwell</td>\n",
       "    </tr>\n",
       "  </tbody>\n",
       "</table>\n",
       "</div>"
      ],
      "text/plain": [
       "   Unnamed: 0              English_word\n",
       "0           0                   Lattice\n",
       "1          16  EMERGE Background Checks\n",
       "2          35                   Tenfold\n",
       "3          39           Friday Feedback\n",
       "4          45                Data Dwell"
      ]
     },
     "execution_count": 16,
     "metadata": {},
     "output_type": "execute_result"
    }
   ],
   "source": [
    "tech_data = pd.read_csv(\"Tech_pydictionary_2.csv\")\n",
    "tech_data[\"Tech_word\"]=tech_data[\"Tech_word\"].apply(clean_text)\n",
    "\n",
    "eng_data = pd.read_csv(\"Eng_pydictionary_2.csv\")\n",
    "eng_data.head()"
   ]
  },
  {
   "cell_type": "code",
   "execution_count": 17,
   "metadata": {},
   "outputs": [],
   "source": [
    "eng_data=eng_data.drop(columns=\"Unnamed: 0\")\n",
    "eng_data[\"English_word\"]=eng_data[\"English_word\"].apply(clean_text)"
   ]
  },
  {
   "cell_type": "code",
   "execution_count": 18,
   "metadata": {},
   "outputs": [],
   "source": [
    "# tech_data[\"Tech_word\"]"
   ]
  },
  {
   "cell_type": "code",
   "execution_count": 19,
   "metadata": {},
   "outputs": [
    {
     "data": {
      "text/html": [
       "<div>\n",
       "<style scoped>\n",
       "    .dataframe tbody tr th:only-of-type {\n",
       "        vertical-align: middle;\n",
       "    }\n",
       "\n",
       "    .dataframe tbody tr th {\n",
       "        vertical-align: top;\n",
       "    }\n",
       "\n",
       "    .dataframe thead th {\n",
       "        text-align: right;\n",
       "    }\n",
       "</style>\n",
       "<table border=\"1\" class=\"dataframe\">\n",
       "  <thead>\n",
       "    <tr style=\"text-align: right;\">\n",
       "      <th></th>\n",
       "      <th>English_word</th>\n",
       "    </tr>\n",
       "  </thead>\n",
       "  <tbody>\n",
       "    <tr>\n",
       "      <th>0</th>\n",
       "      <td>lattice</td>\n",
       "    </tr>\n",
       "    <tr>\n",
       "      <th>1</th>\n",
       "      <td>emerge background checks</td>\n",
       "    </tr>\n",
       "    <tr>\n",
       "      <th>2</th>\n",
       "      <td>tenfold</td>\n",
       "    </tr>\n",
       "    <tr>\n",
       "      <th>3</th>\n",
       "      <td>friday feedback</td>\n",
       "    </tr>\n",
       "    <tr>\n",
       "      <th>4</th>\n",
       "      <td>data dwell</td>\n",
       "    </tr>\n",
       "  </tbody>\n",
       "</table>\n",
       "</div>"
      ],
      "text/plain": [
       "               English_word\n",
       "0                   lattice\n",
       "1  emerge background checks\n",
       "2                   tenfold\n",
       "3           friday feedback\n",
       "4                data dwell"
      ]
     },
     "execution_count": 19,
     "metadata": {},
     "output_type": "execute_result"
    }
   ],
   "source": [
    "eng_data.head()"
   ]
  },
  {
   "cell_type": "code",
   "execution_count": 20,
   "metadata": {},
   "outputs": [
    {
     "data": {
      "text/plain": [
       "(5291, 1)"
      ]
     },
     "execution_count": 20,
     "metadata": {},
     "output_type": "execute_result"
    }
   ],
   "source": [
    "eng_data.shape"
   ]
  },
  {
   "cell_type": "code",
   "execution_count": 21,
   "metadata": {},
   "outputs": [],
   "source": [
    "def to_list(inp):\n",
    "    return \"['\"+inp+\"']\""
   ]
  },
  {
   "cell_type": "code",
   "execution_count": 22,
   "metadata": {},
   "outputs": [],
   "source": [
    "# # tech_data[\"Tech_word\"]=tech_data[\"Tech_word\"].astype(str)\n",
    "# # tech_data[\"Tech_word\"] = tech_data[\"Tech_word\"].apply(to_list)\n",
    "\n",
    "# # tech_data[\"Tech_word\"]=tech_data[\"Tech_word\"].apply(eval)\n",
    "\n",
    "# tech_dict = {}\n",
    "\n",
    "# for j in tech_data[\"Tech_word\"]:\n",
    "#     if j not in tech_dict:\n",
    "#         tech_dict[j] = 1\n",
    "#     else:\n",
    "#         tech_dict[j] += 1\n",
    "        \n",
    "# for j in eng_data[\"English_word\"]:\n",
    "#     if j not in tech_dict:\n",
    "#         tech_dict[j] = 1\n",
    "#     else:\n",
    "#         tech_dict[j] += 1\n",
    "\n",
    "# all_dict={}\n",
    "# for j in tech_data[\"Tech_word\"]:\n",
    "#     if j not in tech_dict:\n",
    "#         all_dict[j] = 1\n",
    "#     else:\n",
    "#         all_dict[j] += 1\n",
    "        \n",
    "# for j in eng_data[\"English_word\"]:\n",
    "#     if j not in tech_dict:\n",
    "#         tech_dict[j] = 1\n",
    "#     else:\n",
    "#         tech_dict[j] += 1\n",
    "# tech_list=[]\n",
    "# tech_multi_words=[]\n",
    "# for i in tech_dict:\n",
    "# #     if ((' ' in i) == True):\n",
    "# #         tech_multi_words.append(i)\n",
    "# #     else:\n",
    "#         tech_list.append(i)"
   ]
  },
  {
   "cell_type": "code",
   "execution_count": 23,
   "metadata": {},
   "outputs": [],
   "source": [
    "tech_dict = {}\n",
    "for j in tech_data[\"Tech_word\"]:\n",
    "    if j not in tech_dict:\n",
    "        tech_dict[j] = 1\n",
    "    else:\n",
    "        tech_dict[j] += 1\n",
    "\n",
    "eng_dict = {}\n",
    "for j in eng_data[\"English_word\"]:\n",
    "    if j not in eng_dict:\n",
    "        eng_dict[j] = 1\n",
    "    else:\n",
    "        eng_dict[j] += 1\n",
    "        \n",
    "tech_list=[]\n",
    "all_list=[]\n",
    "eng_list=[]\n",
    "for i in tech_dict:\n",
    "    tech_list.append(i)\n",
    "    all_list.append(i)\n",
    "for i in eng_dict:\n",
    "    all_list.append(i)\n",
    "    eng_list.append(i)"
   ]
  },
  {
   "cell_type": "code",
   "execution_count": 24,
   "metadata": {},
   "outputs": [
    {
     "data": {
      "text/plain": [
       "1"
      ]
     },
     "execution_count": 24,
     "metadata": {},
     "output_type": "execute_result"
    }
   ],
   "source": [
    "tech_dict['informatica']"
   ]
  },
  {
   "cell_type": "code",
   "execution_count": 25,
   "metadata": {},
   "outputs": [
    {
     "data": {
      "text/plain": [
       "(23962, 29242)"
      ]
     },
     "execution_count": 25,
     "metadata": {},
     "output_type": "execute_result"
    }
   ],
   "source": [
    "len(tech_list),len(all_list)"
   ]
  },
  {
   "cell_type": "code",
   "execution_count": 26,
   "metadata": {},
   "outputs": [
    {
     "data": {
      "text/plain": [
       "23962"
      ]
     },
     "execution_count": 26,
     "metadata": {},
     "output_type": "execute_result"
    }
   ],
   "source": [
    "len(list(set(tech_list)))"
   ]
  },
  {
   "cell_type": "code",
   "execution_count": 27,
   "metadata": {},
   "outputs": [],
   "source": [
    "# tech_data[\"Tech_word\"]\n",
    "\n",
    "# tech_list"
   ]
  },
  {
   "cell_type": "code",
   "execution_count": 28,
   "metadata": {},
   "outputs": [
    {
     "data": {
      "text/html": [
       "<div>\n",
       "<style scoped>\n",
       "    .dataframe tbody tr th:only-of-type {\n",
       "        vertical-align: middle;\n",
       "    }\n",
       "\n",
       "    .dataframe tbody tr th {\n",
       "        vertical-align: top;\n",
       "    }\n",
       "\n",
       "    .dataframe thead th {\n",
       "        text-align: right;\n",
       "    }\n",
       "</style>\n",
       "<table border=\"1\" class=\"dataframe\">\n",
       "  <thead>\n",
       "    <tr style=\"text-align: right;\">\n",
       "      <th></th>\n",
       "      <th>id</th>\n",
       "      <th>summaries</th>\n",
       "      <th>manually Tagged</th>\n",
       "      <th>BERT_Tags</th>\n",
       "    </tr>\n",
       "  </thead>\n",
       "  <tbody>\n",
       "    <tr>\n",
       "      <th>0</th>\n",
       "      <td>-4W7H0UFJneCeHmDK-b9LA_0000</td>\n",
       "      <td>im a seasoned software consultant and manager...</td>\n",
       "      <td>['gmail']</td>\n",
       "      <td>[]</td>\n",
       "    </tr>\n",
       "    <tr>\n",
       "      <th>1</th>\n",
       "      <td>-5KQNWRmZUAxcmAKsBVFCw_0000</td>\n",
       "      <td>committed and clientfocused technical lead wi...</td>\n",
       "      <td>['oracle pl/sql', 'vb.net', 'hp quality center...</td>\n",
       "      <td>[ server,  10g,  xp, tidal,  7]</td>\n",
       "    </tr>\n",
       "    <tr>\n",
       "      <th>2</th>\n",
       "      <td>-9vRkMCaww4q9MTuMhg16A_0000</td>\n",
       "      <td>professional web site design and development ...</td>\n",
       "      <td>['html', 'php', 'javascript']</td>\n",
       "      <td>[html, php, javascript, winkel]</td>\n",
       "    </tr>\n",
       "    <tr>\n",
       "      <th>3</th>\n",
       "      <td>-nZOV-0MncypcjMiVI38pQ_0000</td>\n",
       "      <td>experienced it software and infrastructure pr...</td>\n",
       "      <td>['versionone', 'ios', 'sharepoint', 'windows 1...</td>\n",
       "      <td>[dell, sharepoint, versionone, ios, xenmobile]</td>\n",
       "    </tr>\n",
       "    <tr>\n",
       "      <th>4</th>\n",
       "      <td>0-6kc4T3YjlcPQYOK7Wt4g_0000</td>\n",
       "      <td>now hiring actively sourcing nfoh manager agm...</td>\n",
       "      <td>['gmail']</td>\n",
       "      <td>[]</td>\n",
       "    </tr>\n",
       "  </tbody>\n",
       "</table>\n",
       "</div>"
      ],
      "text/plain": [
       "                            id  \\\n",
       "0  -4W7H0UFJneCeHmDK-b9LA_0000   \n",
       "1  -5KQNWRmZUAxcmAKsBVFCw_0000   \n",
       "2  -9vRkMCaww4q9MTuMhg16A_0000   \n",
       "3  -nZOV-0MncypcjMiVI38pQ_0000   \n",
       "4  0-6kc4T3YjlcPQYOK7Wt4g_0000   \n",
       "\n",
       "                                           summaries  \\\n",
       "0   im a seasoned software consultant and manager...   \n",
       "1   committed and clientfocused technical lead wi...   \n",
       "2   professional web site design and development ...   \n",
       "3   experienced it software and infrastructure pr...   \n",
       "4   now hiring actively sourcing nfoh manager agm...   \n",
       "\n",
       "                                     manually Tagged  \\\n",
       "0                                          ['gmail']   \n",
       "1  ['oracle pl/sql', 'vb.net', 'hp quality center...   \n",
       "2                      ['html', 'php', 'javascript']   \n",
       "3  ['versionone', 'ios', 'sharepoint', 'windows 1...   \n",
       "4                                          ['gmail']   \n",
       "\n",
       "                                        BERT_Tags  \n",
       "0                                              []  \n",
       "1                 [ server,  10g,  xp, tidal,  7]  \n",
       "2                 [html, php, javascript, winkel]  \n",
       "3  [dell, sharepoint, versionone, ios, xenmobile]  \n",
       "4                                              []  "
      ]
     },
     "execution_count": 28,
     "metadata": {},
     "output_type": "execute_result"
    }
   ],
   "source": [
    "data.head()"
   ]
  },
  {
   "cell_type": "code",
   "execution_count": 29,
   "metadata": {},
   "outputs": [],
   "source": [
    "# (all entries which are not in tech+eng dictionary)\n",
    "eng_bert_tags=[]\n",
    "removed=0\n",
    "kept=0\n",
    "for i in range(0,len(data)):\n",
    "    eng_bert_1sen=[]\n",
    "    tags = data['BERT_Tags'][i]\n",
    "    \n",
    "    for j in tags:\n",
    "#         print(j)\n",
    "        if j not in all_list:\n",
    "            removed+=1\n",
    "#             print(j)\n",
    "        else:\n",
    "            kept+=1\n",
    "            eng_bert_1sen.append(j)\n",
    "    eng_bert_tags.append(eng_bert_1sen)\n",
    "data['BERT_Tags']=eng_bert_tags"
   ]
  },
  {
   "cell_type": "code",
   "execution_count": 30,
   "metadata": {},
   "outputs": [
    {
     "data": {
      "text/plain": [
       "(503, 646)"
      ]
     },
     "execution_count": 30,
     "metadata": {},
     "output_type": "execute_result"
    }
   ],
   "source": [
    "removed, kept"
   ]
  },
  {
   "cell_type": "code",
   "execution_count": 31,
   "metadata": {},
   "outputs": [
    {
     "data": {
      "text/html": [
       "<div>\n",
       "<style scoped>\n",
       "    .dataframe tbody tr th:only-of-type {\n",
       "        vertical-align: middle;\n",
       "    }\n",
       "\n",
       "    .dataframe tbody tr th {\n",
       "        vertical-align: top;\n",
       "    }\n",
       "\n",
       "    .dataframe thead th {\n",
       "        text-align: right;\n",
       "    }\n",
       "</style>\n",
       "<table border=\"1\" class=\"dataframe\">\n",
       "  <thead>\n",
       "    <tr style=\"text-align: right;\">\n",
       "      <th></th>\n",
       "      <th>id</th>\n",
       "      <th>summaries</th>\n",
       "      <th>manually Tagged</th>\n",
       "      <th>BERT_Tags</th>\n",
       "    </tr>\n",
       "  </thead>\n",
       "  <tbody>\n",
       "    <tr>\n",
       "      <th>0</th>\n",
       "      <td>-4W7H0UFJneCeHmDK-b9LA_0000</td>\n",
       "      <td>im a seasoned software consultant and manager...</td>\n",
       "      <td>['gmail']</td>\n",
       "      <td>[]</td>\n",
       "    </tr>\n",
       "    <tr>\n",
       "      <th>1</th>\n",
       "      <td>-5KQNWRmZUAxcmAKsBVFCw_0000</td>\n",
       "      <td>committed and clientfocused technical lead wi...</td>\n",
       "      <td>['oracle pl/sql', 'vb.net', 'hp quality center...</td>\n",
       "      <td>[tidal]</td>\n",
       "    </tr>\n",
       "    <tr>\n",
       "      <th>2</th>\n",
       "      <td>-9vRkMCaww4q9MTuMhg16A_0000</td>\n",
       "      <td>professional web site design and development ...</td>\n",
       "      <td>['html', 'php', 'javascript']</td>\n",
       "      <td>[html, php, javascript]</td>\n",
       "    </tr>\n",
       "    <tr>\n",
       "      <th>3</th>\n",
       "      <td>-nZOV-0MncypcjMiVI38pQ_0000</td>\n",
       "      <td>experienced it software and infrastructure pr...</td>\n",
       "      <td>['versionone', 'ios', 'sharepoint', 'windows 1...</td>\n",
       "      <td>[dell, sharepoint, versionone, ios]</td>\n",
       "    </tr>\n",
       "    <tr>\n",
       "      <th>4</th>\n",
       "      <td>0-6kc4T3YjlcPQYOK7Wt4g_0000</td>\n",
       "      <td>now hiring actively sourcing nfoh manager agm...</td>\n",
       "      <td>['gmail']</td>\n",
       "      <td>[]</td>\n",
       "    </tr>\n",
       "  </tbody>\n",
       "</table>\n",
       "</div>"
      ],
      "text/plain": [
       "                            id  \\\n",
       "0  -4W7H0UFJneCeHmDK-b9LA_0000   \n",
       "1  -5KQNWRmZUAxcmAKsBVFCw_0000   \n",
       "2  -9vRkMCaww4q9MTuMhg16A_0000   \n",
       "3  -nZOV-0MncypcjMiVI38pQ_0000   \n",
       "4  0-6kc4T3YjlcPQYOK7Wt4g_0000   \n",
       "\n",
       "                                           summaries  \\\n",
       "0   im a seasoned software consultant and manager...   \n",
       "1   committed and clientfocused technical lead wi...   \n",
       "2   professional web site design and development ...   \n",
       "3   experienced it software and infrastructure pr...   \n",
       "4   now hiring actively sourcing nfoh manager agm...   \n",
       "\n",
       "                                     manually Tagged  \\\n",
       "0                                          ['gmail']   \n",
       "1  ['oracle pl/sql', 'vb.net', 'hp quality center...   \n",
       "2                      ['html', 'php', 'javascript']   \n",
       "3  ['versionone', 'ios', 'sharepoint', 'windows 1...   \n",
       "4                                          ['gmail']   \n",
       "\n",
       "                             BERT_Tags  \n",
       "0                                   []  \n",
       "1                              [tidal]  \n",
       "2              [html, php, javascript]  \n",
       "3  [dell, sharepoint, versionone, ios]  \n",
       "4                                   []  "
      ]
     },
     "execution_count": 31,
     "metadata": {},
     "output_type": "execute_result"
    }
   ],
   "source": [
    "data.head()"
   ]
  },
  {
   "cell_type": "code",
   "execution_count": 32,
   "metadata": {},
   "outputs": [],
   "source": [
    "#Removing tech entries\n",
    "eng_bert_tags=[]\n",
    "removed=0\n",
    "kept=0\n",
    "for i in range(0,len(data)):\n",
    "    eng_bert_1sen=[]\n",
    "    tags= data['BERT_Tags'][i]\n",
    "    for j in tags:\n",
    "#         print(j)\n",
    "        if j in tech_list:\n",
    "            removed+=1\n",
    "#             print(j)\n",
    "        else:\n",
    "            kept+=1\n",
    "            eng_bert_1sen.append(j)\n",
    "    eng_bert_tags.append(eng_bert_1sen)\n",
    "data['BERT_Tags']=eng_bert_tags"
   ]
  },
  {
   "cell_type": "code",
   "execution_count": 33,
   "metadata": {},
   "outputs": [
    {
     "data": {
      "text/plain": [
       "(382, 264)"
      ]
     },
     "execution_count": 33,
     "metadata": {},
     "output_type": "execute_result"
    }
   ],
   "source": [
    "removed, kept"
   ]
  },
  {
   "cell_type": "code",
   "execution_count": 34,
   "metadata": {},
   "outputs": [
    {
     "data": {
      "text/html": [
       "<div>\n",
       "<style scoped>\n",
       "    .dataframe tbody tr th:only-of-type {\n",
       "        vertical-align: middle;\n",
       "    }\n",
       "\n",
       "    .dataframe tbody tr th {\n",
       "        vertical-align: top;\n",
       "    }\n",
       "\n",
       "    .dataframe thead th {\n",
       "        text-align: right;\n",
       "    }\n",
       "</style>\n",
       "<table border=\"1\" class=\"dataframe\">\n",
       "  <thead>\n",
       "    <tr style=\"text-align: right;\">\n",
       "      <th></th>\n",
       "      <th>id</th>\n",
       "      <th>summaries</th>\n",
       "      <th>manually Tagged</th>\n",
       "      <th>BERT_Tags</th>\n",
       "    </tr>\n",
       "  </thead>\n",
       "  <tbody>\n",
       "    <tr>\n",
       "      <th>0</th>\n",
       "      <td>-4W7H0UFJneCeHmDK-b9LA_0000</td>\n",
       "      <td>im a seasoned software consultant and manager...</td>\n",
       "      <td>['gmail']</td>\n",
       "      <td>[]</td>\n",
       "    </tr>\n",
       "    <tr>\n",
       "      <th>1</th>\n",
       "      <td>-5KQNWRmZUAxcmAKsBVFCw_0000</td>\n",
       "      <td>committed and clientfocused technical lead wi...</td>\n",
       "      <td>['oracle pl/sql', 'vb.net', 'hp quality center...</td>\n",
       "      <td>[tidal]</td>\n",
       "    </tr>\n",
       "    <tr>\n",
       "      <th>2</th>\n",
       "      <td>-9vRkMCaww4q9MTuMhg16A_0000</td>\n",
       "      <td>professional web site design and development ...</td>\n",
       "      <td>['html', 'php', 'javascript']</td>\n",
       "      <td>[html]</td>\n",
       "    </tr>\n",
       "    <tr>\n",
       "      <th>3</th>\n",
       "      <td>-nZOV-0MncypcjMiVI38pQ_0000</td>\n",
       "      <td>experienced it software and infrastructure pr...</td>\n",
       "      <td>['versionone', 'ios', 'sharepoint', 'windows 1...</td>\n",
       "      <td>[dell]</td>\n",
       "    </tr>\n",
       "    <tr>\n",
       "      <th>4</th>\n",
       "      <td>0-6kc4T3YjlcPQYOK7Wt4g_0000</td>\n",
       "      <td>now hiring actively sourcing nfoh manager agm...</td>\n",
       "      <td>['gmail']</td>\n",
       "      <td>[]</td>\n",
       "    </tr>\n",
       "  </tbody>\n",
       "</table>\n",
       "</div>"
      ],
      "text/plain": [
       "                            id  \\\n",
       "0  -4W7H0UFJneCeHmDK-b9LA_0000   \n",
       "1  -5KQNWRmZUAxcmAKsBVFCw_0000   \n",
       "2  -9vRkMCaww4q9MTuMhg16A_0000   \n",
       "3  -nZOV-0MncypcjMiVI38pQ_0000   \n",
       "4  0-6kc4T3YjlcPQYOK7Wt4g_0000   \n",
       "\n",
       "                                           summaries  \\\n",
       "0   im a seasoned software consultant and manager...   \n",
       "1   committed and clientfocused technical lead wi...   \n",
       "2   professional web site design and development ...   \n",
       "3   experienced it software and infrastructure pr...   \n",
       "4   now hiring actively sourcing nfoh manager agm...   \n",
       "\n",
       "                                     manually Tagged BERT_Tags  \n",
       "0                                          ['gmail']        []  \n",
       "1  ['oracle pl/sql', 'vb.net', 'hp quality center...   [tidal]  \n",
       "2                      ['html', 'php', 'javascript']    [html]  \n",
       "3  ['versionone', 'ios', 'sharepoint', 'windows 1...    [dell]  \n",
       "4                                          ['gmail']        []  "
      ]
     },
     "execution_count": 34,
     "metadata": {},
     "output_type": "execute_result"
    }
   ],
   "source": [
    "data.head()"
   ]
  },
  {
   "cell_type": "code",
   "execution_count": 28,
   "metadata": {},
   "outputs": [],
   "source": [
    "# # (all entries which are in eng dictionary)\n",
    "# eng_bert_tags=[]\n",
    "# removed=0\n",
    "# kept=0\n",
    "# for i in range(0,len(data)):\n",
    "#     eng_bert_1sen=[]\n",
    "#     tags= data['BERT_Tags'][i]\n",
    "#     for j in tags:\n",
    "# #         print(j)\n",
    "#         if j in eng_list:\n",
    "#             kept+=1\n",
    "#             eng_bert_1sen.append(j)\n",
    "#         else:\n",
    "#             removed+=1\n",
    "            \n",
    "#     eng_bert_tags.append(eng_bert_1sen)\n",
    "# data['BERT_Tags']=eng_bert_tags"
   ]
  },
  {
   "cell_type": "code",
   "execution_count": 35,
   "metadata": {
    "scrolled": false
   },
   "outputs": [],
   "source": [
    "# data.to_csv(\"BERT_Pred_189_FULL_with_eng.csv\",index=False)\n",
    "data.to_csv(\"Bert_Preds_EXP_Summary_ENG_only.csv\",index=False)"
   ]
  },
  {
   "cell_type": "code",
   "execution_count": null,
   "metadata": {},
   "outputs": [],
   "source": []
  }
 ],
 "metadata": {
  "kernelspec": {
   "display_name": "Python 3.7.3 64-bit ('base': conda)",
   "language": "python",
   "name": "python37364bitbaseconda5fa6ef65aabe435e83eb42db00346061"
  },
  "language_info": {
   "codemirror_mode": {
    "name": "ipython",
    "version": 3
   },
   "file_extension": ".py",
   "mimetype": "text/x-python",
   "name": "python",
   "nbconvert_exporter": "python",
   "pygments_lexer": "ipython3",
   "version": "3.7.3"
  }
 },
 "nbformat": 4,
 "nbformat_minor": 2
}
