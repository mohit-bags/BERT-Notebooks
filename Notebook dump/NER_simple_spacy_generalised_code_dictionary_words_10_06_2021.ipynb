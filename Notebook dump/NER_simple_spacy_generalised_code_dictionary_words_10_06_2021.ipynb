{
 "cells": [
  {
   "cell_type": "markdown",
   "metadata": {
    "id": "m4JryurFGjvG"
   },
   "source": [
    "- Importing the libraries here..."
   ]
  },
  {
   "cell_type": "code",
   "execution_count": 32,
   "metadata": {
    "id": "gVtvbWqdhLWl"
   },
   "outputs": [],
   "source": [
    "import nltk\n",
    "import pandas as pd\n",
    "import spacy\n",
    "# import en_core_web_lg\n",
    "# nlp = en_core_web_lg.load()\n",
    "import re\n",
    "import truecase\n",
    "import numpy as np\n",
    "import ast\n",
    "import json"
   ]
  },
  {
   "cell_type": "code",
   "execution_count": 33,
   "metadata": {},
   "outputs": [],
   "source": [
    "# Load trained model\n",
    "nlp = spacy.load(\"training_spacy/output/model-last\") #load the best model"
   ]
  },
  {
   "cell_type": "code",
   "execution_count": 34,
   "metadata": {
    "id": "TC-CfTSbBUGf"
   },
   "outputs": [],
   "source": [
    "tech = pd.read_csv(\"Eng_pydictionary_2.csv\")\n",
    "summary = pd.read_csv(\"training_spacy/spacy_test_data_189.csv\")\n",
    "output = pd.read_csv(\"Dataset/output - output.csv\")"
   ]
  },
  {
   "cell_type": "code",
   "execution_count": 35,
   "metadata": {},
   "outputs": [
    {
     "data": {
      "text/html": [
       "<div>\n",
       "<style scoped>\n",
       "    .dataframe tbody tr th:only-of-type {\n",
       "        vertical-align: middle;\n",
       "    }\n",
       "\n",
       "    .dataframe tbody tr th {\n",
       "        vertical-align: top;\n",
       "    }\n",
       "\n",
       "    .dataframe thead th {\n",
       "        text-align: right;\n",
       "    }\n",
       "</style>\n",
       "<table border=\"1\" class=\"dataframe\">\n",
       "  <thead>\n",
       "    <tr style=\"text-align: right;\">\n",
       "      <th></th>\n",
       "      <th>ID</th>\n",
       "      <th>summaries</th>\n",
       "      <th>exact_matched_patt_contextual</th>\n",
       "      <th>summaries_matching</th>\n",
       "      <th>Tech_from_string_match</th>\n",
       "      <th>spacy_format_v1</th>\n",
       "      <th>exact_matched_patt</th>\n",
       "      <th>matched_NER_final</th>\n",
       "      <th>spacy_format_manual_tag</th>\n",
       "    </tr>\n",
       "  </thead>\n",
       "  <tbody>\n",
       "    <tr>\n",
       "      <th>0</th>\n",
       "      <td>8ndhZBQs0dZ0ye0knHLmaQ_0000</td>\n",
       "      <td>['i will accept all requests to connect. i hav...</td>\n",
       "      <td>['vertica', 'vb.net', 'informatica', 'java', '...</td>\n",
       "      <td>['i will accept all requests to connect. i hav...</td>\n",
       "      <td>['accept', 'ace', 'acl', 'air', 'alis', 'amp',...</td>\n",
       "      <td>[[915, 926, 'ORG'], [937, 941, 'ORG'], [928, 9...</td>\n",
       "      <td>['accept', 'connect', 'vertica', 'vb.net', 'in...</td>\n",
       "      <td>[]</td>\n",
       "      <td>('i will accept all requests to connect. i hav...</td>\n",
       "    </tr>\n",
       "    <tr>\n",
       "      <th>1</th>\n",
       "      <td>8nS3Y5jolvkqg3DM5GCi7A_0000</td>\n",
       "      <td>[\"is your company leveraging technology to inc...</td>\n",
       "      <td>['ios']</td>\n",
       "      <td>[\"is your company leveraging technology to inc...</td>\n",
       "      <td>['ace', 'acl', 'ava', 'chai', 'cien', 'ease', ...</td>\n",
       "      <td>[[1467, 1470, 'ORG']]</td>\n",
       "      <td>['integrate', 'ios']</td>\n",
       "      <td>[]</td>\n",
       "      <td>(\"is your company leveraging technology to inc...</td>\n",
       "    </tr>\n",
       "    <tr>\n",
       "      <th>2</th>\n",
       "      <td>8hxEcLBmf6FkYIwb0N3qCA_0000</td>\n",
       "      <td>['architect and developer specialising in the ...</td>\n",
       "      <td>['microsoft dynamics', 'microsoft.net', 'andro...</td>\n",
       "      <td>['architect and developer specialising in the ...</td>\n",
       "      <td>['alis', 'ami', 'android', 'built', 'cat', 'd ...</td>\n",
       "      <td>[[639, 646, 'ORG'], [89, 107, 'ORG'], [125, 13...</td>\n",
       "      <td>['built', 'microsoft dynamics', 'microsoft.net...</td>\n",
       "      <td>[]</td>\n",
       "      <td>('architect and developer specialising in the ...</td>\n",
       "    </tr>\n",
       "    <tr>\n",
       "      <th>3</th>\n",
       "      <td>8go4mNkO9BMUs-OOQkoKzQ_0000</td>\n",
       "      <td>['result oriented and self motivated digital m...</td>\n",
       "      <td>['sokrati']</td>\n",
       "      <td>['result oriented and self motivated digital m...</td>\n",
       "      <td>['ace', 'ark', 'digital marketer', 'ets', 'gro...</td>\n",
       "      <td>[[2685, 2692, 'ORG']]</td>\n",
       "      <td>['digital marketer', 'sokrati']</td>\n",
       "      <td>[]</td>\n",
       "      <td>('result oriented and self motivated digital m...</td>\n",
       "    </tr>\n",
       "    <tr>\n",
       "      <th>4</th>\n",
       "      <td>8XFOXd4YT0LhvmPQcMhHoA_0000</td>\n",
       "      <td>['organizational &amp; cooperate culture change is...</td>\n",
       "      <td>['microsoft excel', 'microsoft word', 'beacon']</td>\n",
       "      <td>['organizational &amp; cooperate culture change is...</td>\n",
       "      <td>['accountable', 'air', 'ami', 'ark', 'beacon',...</td>\n",
       "      <td>[[627, 633, 'ORG'], [184, 199, 'ORG'], [201, 2...</td>\n",
       "      <td>['microsoft excel', 'microsoft word', 'sigma',...</td>\n",
       "      <td>[]</td>\n",
       "      <td>('organizational &amp; cooperate culture change is...</td>\n",
       "    </tr>\n",
       "  </tbody>\n",
       "</table>\n",
       "</div>"
      ],
      "text/plain": [
       "                            ID  \\\n",
       "0  8ndhZBQs0dZ0ye0knHLmaQ_0000   \n",
       "1  8nS3Y5jolvkqg3DM5GCi7A_0000   \n",
       "2  8hxEcLBmf6FkYIwb0N3qCA_0000   \n",
       "3  8go4mNkO9BMUs-OOQkoKzQ_0000   \n",
       "4  8XFOXd4YT0LhvmPQcMhHoA_0000   \n",
       "\n",
       "                                           summaries  \\\n",
       "0  ['i will accept all requests to connect. i hav...   \n",
       "1  [\"is your company leveraging technology to inc...   \n",
       "2  ['architect and developer specialising in the ...   \n",
       "3  ['result oriented and self motivated digital m...   \n",
       "4  ['organizational & cooperate culture change is...   \n",
       "\n",
       "                       exact_matched_patt_contextual  \\\n",
       "0  ['vertica', 'vb.net', 'informatica', 'java', '...   \n",
       "1                                            ['ios']   \n",
       "2  ['microsoft dynamics', 'microsoft.net', 'andro...   \n",
       "3                                        ['sokrati']   \n",
       "4    ['microsoft excel', 'microsoft word', 'beacon']   \n",
       "\n",
       "                                  summaries_matching  \\\n",
       "0  ['i will accept all requests to connect. i hav...   \n",
       "1  [\"is your company leveraging technology to inc...   \n",
       "2  ['architect and developer specialising in the ...   \n",
       "3  ['result oriented and self motivated digital m...   \n",
       "4  ['organizational & cooperate culture change is...   \n",
       "\n",
       "                              Tech_from_string_match  \\\n",
       "0  ['accept', 'ace', 'acl', 'air', 'alis', 'amp',...   \n",
       "1  ['ace', 'acl', 'ava', 'chai', 'cien', 'ease', ...   \n",
       "2  ['alis', 'ami', 'android', 'built', 'cat', 'd ...   \n",
       "3  ['ace', 'ark', 'digital marketer', 'ets', 'gro...   \n",
       "4  ['accountable', 'air', 'ami', 'ark', 'beacon',...   \n",
       "\n",
       "                                     spacy_format_v1  \\\n",
       "0  [[915, 926, 'ORG'], [937, 941, 'ORG'], [928, 9...   \n",
       "1                              [[1467, 1470, 'ORG']]   \n",
       "2  [[639, 646, 'ORG'], [89, 107, 'ORG'], [125, 13...   \n",
       "3                              [[2685, 2692, 'ORG']]   \n",
       "4  [[627, 633, 'ORG'], [184, 199, 'ORG'], [201, 2...   \n",
       "\n",
       "                                  exact_matched_patt matched_NER_final  \\\n",
       "0  ['accept', 'connect', 'vertica', 'vb.net', 'in...                []   \n",
       "1                               ['integrate', 'ios']                []   \n",
       "2  ['built', 'microsoft dynamics', 'microsoft.net...                []   \n",
       "3                    ['digital marketer', 'sokrati']                []   \n",
       "4  ['microsoft excel', 'microsoft word', 'sigma',...                []   \n",
       "\n",
       "                             spacy_format_manual_tag  \n",
       "0  ('i will accept all requests to connect. i hav...  \n",
       "1  (\"is your company leveraging technology to inc...  \n",
       "2  ('architect and developer specialising in the ...  \n",
       "3  ('result oriented and self motivated digital m...  \n",
       "4  ('organizational & cooperate culture change is...  "
      ]
     },
     "execution_count": 35,
     "metadata": {},
     "output_type": "execute_result"
    }
   ],
   "source": [
    "summary.head()"
   ]
  },
  {
   "cell_type": "code",
   "execution_count": 36,
   "metadata": {},
   "outputs": [],
   "source": [
    "# summary = summary.loc[:1]"
   ]
  },
  {
   "cell_type": "code",
   "execution_count": 37,
   "metadata": {},
   "outputs": [
    {
     "data": {
      "text/plain": [
       "5291"
      ]
     },
     "execution_count": 37,
     "metadata": {},
     "output_type": "execute_result"
    }
   ],
   "source": [
    "len(tech)"
   ]
  },
  {
   "cell_type": "code",
   "execution_count": 38,
   "metadata": {},
   "outputs": [],
   "source": [
    "summary = summary.sort_values(by=['ID'], ascending=False)\n",
    "summary.reset_index(inplace = True, drop = True)"
   ]
  },
  {
   "cell_type": "code",
   "execution_count": 39,
   "metadata": {},
   "outputs": [],
   "source": [
    "summary.drop(columns = [\"summaries_matching\", \"Tech_from_string_match\", \"spacy_format_v1\", \"exact_matched_patt\", \"matched_NER_final\", \"spacy_format_manual_tag\"], axis =1, inplace = True)"
   ]
  },
  {
   "cell_type": "code",
   "execution_count": 40,
   "metadata": {},
   "outputs": [],
   "source": [
    "summary.rename(columns={\"ID\":\"id\"}, inplace = True)"
   ]
  },
  {
   "cell_type": "code",
   "execution_count": 41,
   "metadata": {},
   "outputs": [
    {
     "data": {
      "text/html": [
       "<div>\n",
       "<style scoped>\n",
       "    .dataframe tbody tr th:only-of-type {\n",
       "        vertical-align: middle;\n",
       "    }\n",
       "\n",
       "    .dataframe tbody tr th {\n",
       "        vertical-align: top;\n",
       "    }\n",
       "\n",
       "    .dataframe thead th {\n",
       "        text-align: right;\n",
       "    }\n",
       "</style>\n",
       "<table border=\"1\" class=\"dataframe\">\n",
       "  <thead>\n",
       "    <tr style=\"text-align: right;\">\n",
       "      <th></th>\n",
       "      <th>id</th>\n",
       "      <th>summaries</th>\n",
       "      <th>exact_matched_patt_contextual</th>\n",
       "    </tr>\n",
       "  </thead>\n",
       "  <tbody>\n",
       "    <tr>\n",
       "      <th>0</th>\n",
       "      <td>8ndhZBQs0dZ0ye0knHLmaQ_0000</td>\n",
       "      <td>['i will accept all requests to connect. i hav...</td>\n",
       "      <td>['vertica', 'vb.net', 'informatica', 'java', '...</td>\n",
       "    </tr>\n",
       "    <tr>\n",
       "      <th>1</th>\n",
       "      <td>8nS3Y5jolvkqg3DM5GCi7A_0000</td>\n",
       "      <td>[\"is your company leveraging technology to inc...</td>\n",
       "      <td>['ios']</td>\n",
       "    </tr>\n",
       "    <tr>\n",
       "      <th>2</th>\n",
       "      <td>8hxEcLBmf6FkYIwb0N3qCA_0000</td>\n",
       "      <td>['architect and developer specialising in the ...</td>\n",
       "      <td>['microsoft dynamics', 'microsoft.net', 'andro...</td>\n",
       "    </tr>\n",
       "    <tr>\n",
       "      <th>3</th>\n",
       "      <td>8go4mNkO9BMUs-OOQkoKzQ_0000</td>\n",
       "      <td>['result oriented and self motivated digital m...</td>\n",
       "      <td>['sokrati']</td>\n",
       "    </tr>\n",
       "    <tr>\n",
       "      <th>4</th>\n",
       "      <td>8XFOXd4YT0LhvmPQcMhHoA_0000</td>\n",
       "      <td>['organizational &amp; cooperate culture change is...</td>\n",
       "      <td>['microsoft excel', 'microsoft word', 'beacon']</td>\n",
       "    </tr>\n",
       "  </tbody>\n",
       "</table>\n",
       "</div>"
      ],
      "text/plain": [
       "                            id  \\\n",
       "0  8ndhZBQs0dZ0ye0knHLmaQ_0000   \n",
       "1  8nS3Y5jolvkqg3DM5GCi7A_0000   \n",
       "2  8hxEcLBmf6FkYIwb0N3qCA_0000   \n",
       "3  8go4mNkO9BMUs-OOQkoKzQ_0000   \n",
       "4  8XFOXd4YT0LhvmPQcMhHoA_0000   \n",
       "\n",
       "                                           summaries  \\\n",
       "0  ['i will accept all requests to connect. i hav...   \n",
       "1  [\"is your company leveraging technology to inc...   \n",
       "2  ['architect and developer specialising in the ...   \n",
       "3  ['result oriented and self motivated digital m...   \n",
       "4  ['organizational & cooperate culture change is...   \n",
       "\n",
       "                       exact_matched_patt_contextual  \n",
       "0  ['vertica', 'vb.net', 'informatica', 'java', '...  \n",
       "1                                            ['ios']  \n",
       "2  ['microsoft dynamics', 'microsoft.net', 'andro...  \n",
       "3                                        ['sokrati']  \n",
       "4    ['microsoft excel', 'microsoft word', 'beacon']  "
      ]
     },
     "execution_count": 41,
     "metadata": {},
     "output_type": "execute_result"
    }
   ],
   "source": [
    "summary.head()"
   ]
  },
  {
   "cell_type": "code",
   "execution_count": 42,
   "metadata": {
    "colab": {
     "base_uri": "https://localhost:8080/",
     "height": 204
    },
    "id": "aJnjHaeGDx3b",
    "outputId": "ac652d41-4a74-4e09-cf53-8153b6223e48"
   },
   "outputs": [
    {
     "data": {
      "text/html": [
       "<div>\n",
       "<style scoped>\n",
       "    .dataframe tbody tr th:only-of-type {\n",
       "        vertical-align: middle;\n",
       "    }\n",
       "\n",
       "    .dataframe tbody tr th {\n",
       "        vertical-align: top;\n",
       "    }\n",
       "\n",
       "    .dataframe thead th {\n",
       "        text-align: right;\n",
       "    }\n",
       "</style>\n",
       "<table border=\"1\" class=\"dataframe\">\n",
       "  <thead>\n",
       "    <tr style=\"text-align: right;\">\n",
       "      <th></th>\n",
       "      <th>Unnamed: 0</th>\n",
       "      <th>English_word</th>\n",
       "    </tr>\n",
       "  </thead>\n",
       "  <tbody>\n",
       "    <tr>\n",
       "      <th>0</th>\n",
       "      <td>0</td>\n",
       "      <td>Lattice</td>\n",
       "    </tr>\n",
       "    <tr>\n",
       "      <th>1</th>\n",
       "      <td>16</td>\n",
       "      <td>EMERGE Background Checks</td>\n",
       "    </tr>\n",
       "    <tr>\n",
       "      <th>2</th>\n",
       "      <td>35</td>\n",
       "      <td>Tenfold</td>\n",
       "    </tr>\n",
       "    <tr>\n",
       "      <th>3</th>\n",
       "      <td>39</td>\n",
       "      <td>Friday Feedback</td>\n",
       "    </tr>\n",
       "    <tr>\n",
       "      <th>4</th>\n",
       "      <td>45</td>\n",
       "      <td>Data Dwell</td>\n",
       "    </tr>\n",
       "  </tbody>\n",
       "</table>\n",
       "</div>"
      ],
      "text/plain": [
       "   Unnamed: 0              English_word\n",
       "0           0                   Lattice\n",
       "1          16  EMERGE Background Checks\n",
       "2          35                   Tenfold\n",
       "3          39           Friday Feedback\n",
       "4          45                Data Dwell"
      ]
     },
     "execution_count": 42,
     "metadata": {},
     "output_type": "execute_result"
    }
   ],
   "source": [
    "tech.head()"
   ]
  },
  {
   "cell_type": "code",
   "execution_count": 43,
   "metadata": {
    "id": "s4Q891iED0gr"
   },
   "outputs": [],
   "source": [
    "\n",
    "tech.columns = [\"index\", \"title\"]\n",
    "tech.drop(columns = [\"index\"], axis = 1, inplace=True)"
   ]
  },
  {
   "cell_type": "code",
   "execution_count": 44,
   "metadata": {},
   "outputs": [],
   "source": [
    "tech.reset_index(inplace = True, drop = True)"
   ]
  },
  {
   "cell_type": "code",
   "execution_count": 45,
   "metadata": {},
   "outputs": [
    {
     "data": {
      "text/plain": [
       "\"['i will accept all requests to connect. i have an open philosophy. molly@synchrony-solutions.com. synchrony solutions, inc. is an executive search firm which specializes in placing professionals in statistical analysis, information technology, business intelligence, big data, sas, etl, predictive analytics and modeling, data mining, clinical trials. verticals include pharmaceutical, biotechnology, healthcare, financial/credit, market research, and fast-growing/emerging companies. specialties: -biostatisticians -statisticians -sas programmers -statistical programmers -oracle clinical programmers -clinical data managers/coordinators -clinical research associates -clinical study managers -director clinical operations -medical writers -regulatory affairs specialists -senior management -project management -analysis -programming and development -production support -vertica -.net, c#.net, vb.net, -sql server -informatica -java and j2ee -business objects -big data, business development manager/recruiter ... sphr:vp talent acquisition & hris: driver of global strategy to amplify talent attraction and deliver empowering..., original slogan: need a nerd? people got insulted. now: serious sourcing! no laughing, just staffing. i like puns & stupid jokes. connect on linkedin too., molly@synchrony-solutions.com, president & ceo, synchrony solutions, inc. (lion open networker at synchrony solutions, inc., executive recruiter specializing in data and analytics, president & ceo (lion linkedin open networker), data and analytics recruiter, president and ceo, synchrony solutions, inc., social media coordinator at western users of sas software (wuss), application development and maintenance, investment banking - middle office, sales ops, marketing & corpdev']\""
      ]
     },
     "execution_count": 45,
     "metadata": {},
     "output_type": "execute_result"
    }
   ],
   "source": [
    "summary[\"summaries\"][0]"
   ]
  },
  {
   "cell_type": "code",
   "execution_count": 46,
   "metadata": {
    "colab": {
     "base_uri": "https://localhost:8080/"
    },
    "id": "x4DWIUgbxc8P",
    "outputId": "d931dc3d-0a20-467c-8fea-961525ad81d4"
   },
   "outputs": [],
   "source": [
    "# for i in range(0, len(summary)):\n",
    "#     if summary[\"summaries\"][i] is not np.nan:\n",
    "#         demo = summary[\"summaries\"][i]\n",
    "#         res = demo.strip('][')\n",
    "#         resl = []\n",
    "#         resl.append(res)\n",
    "#         summary[\"summaries\"][i] = resl\n",
    "        \n",
    "#     else:\n",
    "#         summary[\"summaries\"][i] = '[]'\n",
    "#         demo = summary[\"summaries\"][i]\n",
    "#         res = demo.strip('][')\n",
    "#         resl = []\n",
    "#         resl.append(res)\n",
    "#         summary[\"summaries\"][i] = resl\n",
    "\n",
    "# converts the string of list of string\n",
    "def summary_text_preprocess(df, summary_col_name):\n",
    "    \n",
    "    for i in range(0, len(df)):\n",
    "        \n",
    "        if df[summary_col_name][i] is not np.nan:\n",
    "            demo = df[summary_col_name][i]\n",
    "            res = demo.strip('][')\n",
    "            resl = []\n",
    "            resl.append(res)\n",
    "            df[summary_col_name][i] = resl\n",
    "\n",
    "        else:\n",
    "            df[summary_col_name][i] = '[]'\n",
    "            demo = df[summary_col_name][i]\n",
    "            res = demo.strip('][')\n",
    "            resl = []\n",
    "            resl.append(res)\n",
    "            df[summary_col_name][i] = resl\n",
    "\n",
    "    return df"
   ]
  },
  {
   "cell_type": "code",
   "execution_count": 47,
   "metadata": {},
   "outputs": [],
   "source": [
    "# summary = summary_text_preprocess(summary, \"summaries\")"
   ]
  },
  {
   "cell_type": "code",
   "execution_count": 48,
   "metadata": {},
   "outputs": [],
   "source": [
    "summary['exact_matched_patt_contextual'] = [ '[]' if x is np.NaN else x for x in summary['exact_matched_patt_contextual'] ]"
   ]
  },
  {
   "cell_type": "code",
   "execution_count": 49,
   "metadata": {},
   "outputs": [],
   "source": [
    "# Converting dumped data into proper format i.e string into list\n",
    "\n",
    "# Pass the matched technology column that we got\n",
    "def convert_data_format(df,column_name):\n",
    "    \n",
    "    for i in range(0, len(df)):\n",
    "        print(i)\n",
    "        \n",
    "        if df[column_name][i][0] == '[':\n",
    "            res = ast.literal_eval(df[column_name][i])\n",
    "            df[column_name][i] = res\n",
    "            \n",
    "        else:\n",
    "            x = []\n",
    "            x.insert(0, df[column_name][i])\n",
    "            df[column_name][i] = x\n",
    "            \n",
    "    return df"
   ]
  },
  {
   "cell_type": "code",
   "execution_count": 50,
   "metadata": {},
   "outputs": [
    {
     "name": "stdout",
     "output_type": "stream",
     "text": [
      "0\n",
      "1\n",
      "2\n",
      "3\n",
      "4\n",
      "5\n",
      "6\n",
      "7\n",
      "8\n",
      "9\n",
      "10\n",
      "11\n",
      "12\n",
      "13\n",
      "14\n",
      "15\n",
      "16\n",
      "17\n",
      "18\n",
      "19\n",
      "20\n",
      "21\n",
      "22\n",
      "23\n",
      "24\n",
      "25\n",
      "26\n",
      "27\n",
      "28\n",
      "29\n",
      "30\n",
      "31\n",
      "32\n",
      "33\n",
      "34\n",
      "35\n",
      "36\n",
      "37\n",
      "38\n",
      "39\n",
      "40\n",
      "41\n",
      "42\n",
      "43\n",
      "44\n",
      "45\n",
      "46\n",
      "47\n",
      "48\n",
      "49\n",
      "50\n",
      "51\n",
      "52\n",
      "53\n",
      "54\n",
      "55\n",
      "56\n",
      "57\n",
      "58\n",
      "59\n",
      "60\n",
      "61\n",
      "62\n",
      "63\n",
      "64\n",
      "65\n",
      "66\n",
      "67\n",
      "68\n",
      "69\n",
      "70\n",
      "71\n",
      "72\n",
      "73\n",
      "74\n",
      "75\n",
      "76\n",
      "77\n",
      "78\n",
      "79\n",
      "80\n",
      "81\n",
      "82\n",
      "83\n",
      "84\n",
      "85\n",
      "86\n",
      "87\n",
      "88\n",
      "89\n",
      "90\n",
      "91\n",
      "92\n",
      "93\n",
      "94\n",
      "95\n",
      "96\n",
      "97\n",
      "98\n",
      "99\n",
      "100\n",
      "101\n",
      "102\n",
      "103\n",
      "104\n",
      "105\n",
      "106\n",
      "107\n",
      "108\n",
      "109\n",
      "110\n",
      "111\n",
      "112\n",
      "113\n",
      "114\n",
      "115\n",
      "116\n",
      "117\n",
      "118\n",
      "119\n",
      "120\n",
      "121\n",
      "122\n",
      "123\n",
      "124\n",
      "125\n",
      "126\n",
      "127\n",
      "128\n",
      "129\n",
      "130\n",
      "131\n",
      "132\n",
      "133\n",
      "134\n",
      "135\n",
      "136\n",
      "137\n",
      "138\n",
      "139\n",
      "140\n",
      "141\n",
      "142\n",
      "143\n",
      "144\n",
      "145\n",
      "146\n",
      "147\n",
      "148\n",
      "149\n",
      "150\n",
      "151\n",
      "152\n",
      "153\n",
      "154\n",
      "155\n",
      "156\n",
      "157\n",
      "158\n",
      "159\n",
      "160\n",
      "161\n",
      "162\n",
      "163\n",
      "164\n",
      "165\n",
      "166\n",
      "167\n",
      "168\n",
      "169\n",
      "170\n",
      "171\n",
      "172\n",
      "173\n",
      "174\n",
      "175\n",
      "176\n",
      "177\n",
      "178\n",
      "179\n",
      "180\n",
      "181\n",
      "182\n",
      "183\n",
      "184\n",
      "185\n",
      "186\n",
      "187\n",
      "188\n"
     ]
    }
   ],
   "source": [
    "summary = convert_data_format(summary, \"exact_matched_patt_contextual\")"
   ]
  },
  {
   "cell_type": "code",
   "execution_count": 51,
   "metadata": {},
   "outputs": [
    {
     "data": {
      "text/plain": [
       "['vertica', 'vb.net', 'informatica', 'java', 'j2ee']"
      ]
     },
     "execution_count": 51,
     "metadata": {},
     "output_type": "execute_result"
    }
   ],
   "source": [
    "summary[\"exact_matched_patt_contextual\"][0]"
   ]
  },
  {
   "cell_type": "code",
   "execution_count": 52,
   "metadata": {},
   "outputs": [
    {
     "name": "stdout",
     "output_type": "stream",
     "text": [
      "0\n",
      "1\n",
      "2\n",
      "3\n",
      "4\n",
      "5\n",
      "6\n",
      "7\n",
      "8\n",
      "9\n",
      "10\n",
      "11\n",
      "12\n",
      "13\n",
      "14\n",
      "15\n",
      "16\n",
      "17\n",
      "18\n",
      "19\n",
      "20\n",
      "21\n",
      "22\n",
      "23\n",
      "24\n",
      "25\n",
      "26\n",
      "27\n",
      "28\n",
      "29\n",
      "30\n",
      "31\n",
      "32\n",
      "33\n",
      "34\n",
      "35\n",
      "36\n",
      "37\n",
      "38\n",
      "39\n",
      "40\n",
      "41\n",
      "42\n",
      "43\n",
      "44\n",
      "45\n",
      "46\n",
      "47\n",
      "48\n",
      "49\n",
      "50\n",
      "51\n",
      "52\n",
      "53\n",
      "54\n",
      "55\n",
      "56\n",
      "57\n",
      "58\n",
      "59\n",
      "60\n",
      "61\n",
      "62\n",
      "63\n",
      "64\n",
      "65\n",
      "66\n",
      "67\n",
      "68\n",
      "69\n",
      "70\n",
      "71\n",
      "72\n",
      "73\n",
      "74\n",
      "75\n",
      "76\n",
      "77\n",
      "78\n",
      "79\n",
      "80\n",
      "81\n",
      "82\n",
      "83\n",
      "84\n",
      "85\n",
      "86\n",
      "87\n",
      "88\n",
      "89\n",
      "90\n",
      "91\n",
      "92\n",
      "93\n",
      "94\n",
      "95\n",
      "96\n",
      "97\n",
      "98\n",
      "99\n",
      "100\n",
      "101\n",
      "102\n",
      "103\n",
      "104\n",
      "105\n",
      "106\n",
      "107\n",
      "108\n",
      "109\n",
      "110\n",
      "111\n",
      "112\n",
      "113\n",
      "114\n",
      "115\n",
      "116\n",
      "117\n",
      "118\n",
      "119\n",
      "120\n",
      "121\n",
      "122\n",
      "123\n",
      "124\n",
      "125\n",
      "126\n",
      "127\n",
      "128\n",
      "129\n",
      "130\n",
      "131\n",
      "132\n",
      "133\n",
      "134\n",
      "135\n",
      "136\n",
      "137\n",
      "138\n",
      "139\n",
      "140\n",
      "141\n",
      "142\n",
      "143\n",
      "144\n",
      "145\n",
      "146\n",
      "147\n",
      "148\n",
      "149\n",
      "150\n",
      "151\n",
      "152\n",
      "153\n",
      "154\n",
      "155\n",
      "156\n",
      "157\n",
      "158\n",
      "159\n",
      "160\n",
      "161\n",
      "162\n",
      "163\n",
      "164\n",
      "165\n",
      "166\n",
      "167\n",
      "168\n",
      "169\n",
      "170\n",
      "171\n",
      "172\n",
      "173\n",
      "174\n",
      "175\n",
      "176\n",
      "177\n",
      "178\n",
      "179\n",
      "180\n",
      "181\n",
      "182\n",
      "183\n",
      "184\n",
      "185\n",
      "186\n",
      "187\n",
      "188\n"
     ]
    }
   ],
   "source": [
    "summary = convert_data_format(summary, \"summaries\")"
   ]
  },
  {
   "cell_type": "code",
   "execution_count": 53,
   "metadata": {},
   "outputs": [
    {
     "data": {
      "text/plain": [
       "['i will accept all requests to connect. i have an open philosophy. molly@synchrony-solutions.com. synchrony solutions, inc. is an executive search firm which specializes in placing professionals in statistical analysis, information technology, business intelligence, big data, sas, etl, predictive analytics and modeling, data mining, clinical trials. verticals include pharmaceutical, biotechnology, healthcare, financial/credit, market research, and fast-growing/emerging companies. specialties: -biostatisticians -statisticians -sas programmers -statistical programmers -oracle clinical programmers -clinical data managers/coordinators -clinical research associates -clinical study managers -director clinical operations -medical writers -regulatory affairs specialists -senior management -project management -analysis -programming and development -production support -vertica -.net, c#.net, vb.net, -sql server -informatica -java and j2ee -business objects -big data, business development manager/recruiter ... sphr:vp talent acquisition & hris: driver of global strategy to amplify talent attraction and deliver empowering..., original slogan: need a nerd? people got insulted. now: serious sourcing! no laughing, just staffing. i like puns & stupid jokes. connect on linkedin too., molly@synchrony-solutions.com, president & ceo, synchrony solutions, inc. (lion open networker at synchrony solutions, inc., executive recruiter specializing in data and analytics, president & ceo (lion linkedin open networker), data and analytics recruiter, president and ceo, synchrony solutions, inc., social media coordinator at western users of sas software (wuss), application development and maintenance, investment banking - middle office, sales ops, marketing & corpdev']"
      ]
     },
     "execution_count": 53,
     "metadata": {},
     "output_type": "execute_result"
    }
   ],
   "source": [
    "summary[\"summaries\"][0]"
   ]
  },
  {
   "cell_type": "markdown",
   "metadata": {
    "id": "pVbE6kVBBUGi"
   },
   "source": [
    "# Truecasing"
   ]
  },
  {
   "cell_type": "code",
   "execution_count": 54,
   "metadata": {
    "id": "GEncg0IiBUGi"
   },
   "outputs": [],
   "source": [
    "for ind in summary.index:\n",
    "    summary[\"summaries\"][ind][0] = truecase.get_true_case(summary[\"summaries\"][ind][0])"
   ]
  },
  {
   "cell_type": "code",
   "execution_count": 55,
   "metadata": {
    "id": "fUDVeAFZBUGj"
   },
   "outputs": [],
   "source": [
    "\n",
    "def dictionary_with_title_description(df):\n",
    "    company_names_description = {}\n",
    "    \n",
    "    for i in range(0, len(df)):\n",
    "        \n",
    "        doc = nlp(df.loc[i, \"summaries\"][0])\n",
    "        \n",
    "        for X in doc.ents:\n",
    "            if (X.label_ == 'ORG'):\n",
    "                \n",
    "                company_names_description.setdefault(df.loc[i, \"id\"], [])\n",
    "                company_names_description[df.loc[i, \"id\"]].append(X.text)\n",
    "                \n",
    "    print(\"Company names extracted from Summaries : \\n\",company_names_description)\n",
    "\n",
    "    return company_names_description"
   ]
  },
  {
   "cell_type": "code",
   "execution_count": 56,
   "metadata": {
    "colab": {
     "base_uri": "https://localhost:8080/"
    },
    "id": "fmQS4ClKI5eK",
    "outputId": "6bbd2a1a-3c4f-4fd6-a5db-f70938ef34c7"
   },
   "outputs": [
    {
     "name": "stdout",
     "output_type": "stream",
     "text": [
      "Company names extracted from Summaries : \n",
      " {}\n"
     ]
    }
   ],
   "source": [
    "# function call\n",
    "company_names_description = dictionary_with_title_description(summary)"
   ]
  },
  {
   "cell_type": "code",
   "execution_count": 57,
   "metadata": {
    "id": "bleHFBQyBUGm"
   },
   "outputs": [],
   "source": [
    "# taking unique and removing duplicate names\n",
    "for key_3, value_3 in company_names_description.items():\n",
    "    company_names_description[key_3] = list(set(company_names_description[key_3]))"
   ]
  },
  {
   "cell_type": "code",
   "execution_count": 58,
   "metadata": {
    "id": "szs8TmtkBUGn"
   },
   "outputs": [],
   "source": [
    "def new_swapped_dict(df, company_names_description):\n",
    "\n",
    "    \n",
    "    final_dictionary = {}\n",
    "    \n",
    "    for key_2, val_2 in company_names_description.items():\n",
    "        \n",
    "        for m in range(0 , len(tech)):\n",
    "            for o in range(0, len(val_2)):\n",
    "                b = tech.loc[m, \"title\"]\n",
    "                b=b.lower()\n",
    "                company_names_description[key_2][o] = company_names_description[key_2][o].lower()\n",
    "                \n",
    "                if company_names_description[key_2][o] == b:\n",
    "                    final_dictionary.setdefault(key_2,[])\n",
    "                    final_dictionary[key_2].append(b)\n",
    "                \n",
    "    return final_dictionary"
   ]
  },
  {
   "cell_type": "code",
   "execution_count": 59,
   "metadata": {
    "id": "9dDkJIOo3qzA"
   },
   "outputs": [],
   "source": [
    "# function call\n",
    "final_dictionary = new_swapped_dict(summary, company_names_description)"
   ]
  },
  {
   "cell_type": "code",
   "execution_count": 60,
   "metadata": {
    "colab": {
     "base_uri": "https://localhost:8080/"
    },
    "id": "UKfSJqusBUGo",
    "outputId": "01f48f42-6e62-456f-aadb-3e2472f88d16"
   },
   "outputs": [
    {
     "data": {
      "text/plain": [
       "{}"
      ]
     },
     "execution_count": 60,
     "metadata": {},
     "output_type": "execute_result"
    }
   ],
   "source": [
    "final_dictionary"
   ]
  },
  {
   "cell_type": "code",
   "execution_count": null,
   "metadata": {},
   "outputs": [],
   "source": [
    "tech[\"id\"] = tech.index\n",
    "tech.head()"
   ]
  },
  {
   "cell_type": "code",
   "execution_count": null,
   "metadata": {
    "id": "ykWbBVlwv_t3"
   },
   "outputs": [],
   "source": [
    "try:\n",
    "  \n",
    "  for k, v in final_dictionary.items():\n",
    "    # x = summary[\"summaries\"].loc(summary[\"id\"] == k)\n",
    "    # print(x)\n",
    "    new_row = {'id':k,'Technology_Names': final_dictionary[k]}\n",
    "    output = output.append(new_row, ignore_index=True)\n",
    "\n",
    "except Exception as e :\n",
    "    print(\"\\n\\n\", e)"
   ]
  },
  {
   "cell_type": "code",
   "execution_count": null,
   "metadata": {
    "id": "5w5_7SkABUGp"
   },
   "outputs": [],
   "source": [
    "## Extracting summary to Output sheet\n",
    "for ind in output.index:\n",
    "    for i in summary.index:\n",
    "        \n",
    "        if output[\"id\"][ind]==summary[\"id\"][i]:\n",
    "            output[\"summaries\"][ind] = summary[\"summaries\"][i]"
   ]
  },
  {
   "cell_type": "code",
   "execution_count": null,
   "metadata": {
    "id": "ZlpdGw42BUGp"
   },
   "outputs": [],
   "source": [
    "output.to_csv(\"NER_train_lg_moreTAGS_simple_spacy.csv\", index = False)"
   ]
  },
  {
   "cell_type": "code",
   "execution_count": null,
   "metadata": {
    "colab": {
     "base_uri": "https://localhost:8080/",
     "height": 204
    },
    "id": "vB11q3CVBUGp",
    "outputId": "e30f5164-e27d-4b50-e300-40d745b3523f"
   },
   "outputs": [],
   "source": [
    "df_summary = pd.read_csv(\"NER_train_lg_moreTAGS_simple_spacy.csv\")\n",
    "df_summary.head()"
   ]
  },
  {
   "cell_type": "code",
   "execution_count": null,
   "metadata": {
    "id": "cokGvmufBUGq"
   },
   "outputs": [],
   "source": [
    "# Lowercasing the summary is important for exact match finding\n",
    "for ind in output.index:\n",
    "    output[\"summaries\"][ind][0] = output[\"summaries\"][ind][0].lower()"
   ]
  },
  {
   "cell_type": "code",
   "execution_count": null,
   "metadata": {
    "colab": {
     "base_uri": "https://localhost:8080/",
     "height": 204
    },
    "id": "DOaYlBdPBUGq",
    "outputId": "e1f7d404-982c-4fef-a206-59fa8b7dd7b3"
   },
   "outputs": [],
   "source": [
    "output.head()"
   ]
  },
  {
   "cell_type": "code",
   "execution_count": null,
   "metadata": {
    "colab": {
     "base_uri": "https://localhost:8080/",
     "height": 204
    },
    "id": "rx7RDANXBUGq",
    "outputId": "f0f37d32-fe34-4866-84ce-376aac672afb"
   },
   "outputs": [],
   "source": [
    "df_summary.head()"
   ]
  },
  {
   "cell_type": "code",
   "execution_count": null,
   "metadata": {
    "id": "zDY9Z71MBUGq"
   },
   "outputs": [],
   "source": [
    "# Applying Regex to filter out Invalid Words\n",
    "\n",
    "def get_exact_match(txt, tech):\n",
    "    try:\n",
    "        patt = '|'.join(['\\\\b'+elem+'\\\\b' for elem in tech])\n",
    "        matched_patt = re.findall(patt,txt[0])\n",
    "    except Exception as e:\n",
    "        print(e)\n",
    "        matched_patt = []\n",
    "    return matched_patt"
   ]
  },
  {
   "cell_type": "code",
   "execution_count": null,
   "metadata": {
    "id": "Io-o9mryBUGq"
   },
   "outputs": [],
   "source": [
    "output['matched_NER_by_borders'] = output.apply(lambda x: get_exact_match(x[\"summaries\"], x[\"Technology_Names\"]), axis = 1)"
   ]
  },
  {
   "cell_type": "code",
   "execution_count": null,
   "metadata": {
    "colab": {
     "base_uri": "https://localhost:8080/",
     "height": 272
    },
    "id": "q4mHGdgOBUGq",
    "outputId": "77a458f9-b3b4-4560-da3c-d1e9e623ad72"
   },
   "outputs": [],
   "source": [
    "output.head()"
   ]
  },
  {
   "cell_type": "code",
   "execution_count": null,
   "metadata": {
    "id": "Hw_NuHUNBUGr"
   },
   "outputs": [],
   "source": [
    "# Applying Regex to filter out Invalid Words\n",
    "\n",
    "def get_exact_match_2(txt, tech):\n",
    "    try:\n",
    "        patt = '|'.join(['\\\\s'+elem+'\\\\s' for elem in tech])\n",
    "        matched_patt = re.findall(patt,txt[0])\n",
    "    except Exception as e:\n",
    "        print(e)\n",
    "        matched_patt = []\n",
    "    return matched_patt"
   ]
  },
  {
   "cell_type": "code",
   "execution_count": null,
   "metadata": {
    "id": "6e90FPtvBUGr"
   },
   "outputs": [],
   "source": [
    "output['matched_NER_final'] = output.apply(lambda x: get_exact_match_2(x[\"summaries\"], x[\"matched_NER_by_borders\"]), axis = 1)"
   ]
  },
  {
   "cell_type": "code",
   "execution_count": null,
   "metadata": {
    "id": "e1jAi6qcBUGr"
   },
   "outputs": [],
   "source": [
    "# output.to_csv(\"Train_Data/Accuracy_Data/Dataset_to_run_on_all/Output/NER_tagged_data_ner_spacy_own_vocab_100_regex_final.csv\", index = False)"
   ]
  },
  {
   "cell_type": "code",
   "execution_count": null,
   "metadata": {
    "id": "P6dY9X-sBUGr"
   },
   "outputs": [],
   "source": [
    "# strip by whitespace\n",
    "for i in range(0,len(output)):\n",
    "    for j in range(0, len(output['matched_NER_final'][i])):\n",
    "        output['matched_NER_final'][i][j] = output['matched_NER_final'][i][j].strip()\n",
    "#     print(output['matched_NER_final'][i])\n",
    "    "
   ]
  },
  {
   "cell_type": "code",
   "execution_count": null,
   "metadata": {
    "id": "8PB0OaIIBUGr"
   },
   "outputs": [],
   "source": [
    "df_company_names_description = pd.DataFrame(list(company_names_description.items()))\n",
    "df_company_names_description.columns = [\"id\",\"NER_Extracted_Tags\"]"
   ]
  },
  {
   "cell_type": "code",
   "execution_count": null,
   "metadata": {
    "id": "w06bqnPvBUGs"
   },
   "outputs": [],
   "source": [
    "# df_company_names_description[\"summaries\"] = np.nan"
   ]
  },
  {
   "cell_type": "code",
   "execution_count": null,
   "metadata": {
    "id": "I09CFTEQBUGs"
   },
   "outputs": [],
   "source": [
    "# # Extracting summary to Output sheet\n",
    "# for ind in df_company_names_description.index:\n",
    "#     for i in df_summary.index:\n",
    "        \n",
    "#         if df_company_names_description[\"id\"][ind]==df_summary[\"id\"][i]:\n",
    "#             df_company_names_description[\"summaries\"][ind] = df_summary[\"summaries\"][i]"
   ]
  },
  {
   "cell_type": "code",
   "execution_count": null,
   "metadata": {
    "colab": {
     "base_uri": "https://localhost:8080/",
     "height": 204
    },
    "id": "sTqRT2vbBUGs",
    "outputId": "e129038d-c29c-414a-9fec-6398f29b6174"
   },
   "outputs": [],
   "source": [
    "df_company_names_description.head()\n",
    "# this represents company names extracted in Round 1 from spacy NER"
   ]
  },
  {
   "cell_type": "code",
   "execution_count": null,
   "metadata": {},
   "outputs": [],
   "source": [
    "output.head()\n",
    "# output is final dictionary basically"
   ]
  },
  {
   "cell_type": "code",
   "execution_count": null,
   "metadata": {},
   "outputs": [],
   "source": [
    "len(df_company_names_description)"
   ]
  },
  {
   "cell_type": "code",
   "execution_count": null,
   "metadata": {},
   "outputs": [],
   "source": [
    "len(output)"
   ]
  },
  {
   "cell_type": "code",
   "execution_count": null,
   "metadata": {
    "id": "GeTlbU9hBUGs"
   },
   "outputs": [],
   "source": [
    "# df_company_names_description = df_company_names_description.sort_values(by=['id'], ascending=False)"
   ]
  },
  {
   "cell_type": "code",
   "execution_count": null,
   "metadata": {
    "id": "0p6gLM3KBUGs"
   },
   "outputs": [],
   "source": [
    "# df_company_names_description.to_csv(\"Dataset/Output/NER-output/NER_Extracted_Entities__lg_truecase_moreTAGS.csv\", index = False)"
   ]
  },
  {
   "cell_type": "code",
   "execution_count": null,
   "metadata": {},
   "outputs": [],
   "source": [
    "# list entries are there so merge will not happend, converting into tuple\n",
    "# df_company_names_description.b = df_company_names_description.b.apply(tuple)"
   ]
  },
  {
   "cell_type": "code",
   "execution_count": null,
   "metadata": {},
   "outputs": [],
   "source": [
    "output = output.merge(df_company_names_description, 'left')"
   ]
  },
  {
   "cell_type": "code",
   "execution_count": null,
   "metadata": {},
   "outputs": [],
   "source": [
    "# output = pd.merge(output, df_company_names_description,on = [\"id\"], how = 'left')"
   ]
  },
  {
   "cell_type": "code",
   "execution_count": null,
   "metadata": {},
   "outputs": [],
   "source": [
    "len(output)"
   ]
  },
  {
   "cell_type": "code",
   "execution_count": null,
   "metadata": {},
   "outputs": [],
   "source": [
    "orig_df = summary.loc[:,[\"id\", \"summaries\", \"exact_matched_patt_contextual\"]]"
   ]
  },
  {
   "cell_type": "code",
   "execution_count": null,
   "metadata": {},
   "outputs": [],
   "source": [
    "df_final = orig_df.merge(output, 'left', on = [\"id\"])"
   ]
  },
  {
   "cell_type": "code",
   "execution_count": null,
   "metadata": {
    "id": "4dPf2aQABUGs"
   },
   "outputs": [],
   "source": [
    "# orig_df = summary.loc[:,[\"id\", \"summaries\", \"exact_matched_patt_contextual\"]]\n",
    "# df_final = orig_df.merge(output, 'left', on = [\"id\"])\n",
    "df_final.drop(columns = \"summaries_y\", axis  = 1, inplace = True)"
   ]
  },
  {
   "cell_type": "code",
   "execution_count": null,
   "metadata": {
    "colab": {
     "base_uri": "https://localhost:8080/",
     "height": 530
    },
    "id": "sGJ4F77lBUGt",
    "outputId": "54bcb2f9-287a-4feb-b24f-702d9aadfbab"
   },
   "outputs": [],
   "source": [
    "df_final.head()"
   ]
  },
  {
   "cell_type": "code",
   "execution_count": null,
   "metadata": {
    "id": "dVhaaIOcBUGt"
   },
   "outputs": [],
   "source": [
    "# # TrueCase summary copy from saved df_summary to df_final summary column for matching id's\n",
    "# for i in df_final.index:\n",
    "#     df_final[\"summaries_x\"][i] =df_summary[\"summaries\"].loc[df_summary[\"id\"]==df_final[\"id\"][i]]"
   ]
  },
  {
   "cell_type": "code",
   "execution_count": null,
   "metadata": {
    "id": "N0PBo6K3BUGt"
   },
   "outputs": [],
   "source": [
    "for i in df_final.index:\n",
    "    \n",
    "    for j in df_summary.index:\n",
    "        if df_final[\"id\"][i]==df_summary[\"id\"][j]:\n",
    "            df_final[\"summaries_x\"][i] = df_summary[\"summaries\"][j]"
   ]
  },
  {
   "cell_type": "code",
   "execution_count": null,
   "metadata": {
    "colab": {
     "base_uri": "https://localhost:8080/",
     "height": 530
    },
    "id": "k26mWcM7BUGt",
    "outputId": "319c16ad-daf4-4119-a7b0-cc3c195e10a6"
   },
   "outputs": [],
   "source": [
    "df_final.head()"
   ]
  },
  {
   "cell_type": "code",
   "execution_count": null,
   "metadata": {
    "id": "K96yiygLBUGt"
   },
   "outputs": [],
   "source": []
  },
  {
   "cell_type": "code",
   "execution_count": null,
   "metadata": {
    "colab": {
     "base_uri": "https://localhost:8080/"
    },
    "id": "k_j08VjPBUGu",
    "outputId": "02d3c8c7-dbc7-48a9-807d-48f9a0223e66"
   },
   "outputs": [],
   "source": [
    "len(df_final)"
   ]
  },
  {
   "cell_type": "code",
   "execution_count": null,
   "metadata": {
    "colab": {
     "base_uri": "https://localhost:8080/"
    },
    "id": "OQuffzH4BUGu",
    "outputId": "728d42a8-bdc2-4d7e-ea2d-fb73a87fd144"
   },
   "outputs": [],
   "source": [
    "df_final[\"id\"].nunique()"
   ]
  },
  {
   "cell_type": "code",
   "execution_count": null,
   "metadata": {
    "id": "uY2642Z5BUGv"
   },
   "outputs": [],
   "source": [
    "df_final.rename(columns = {\"summaries_x\":\"summaries\"}, inplace = True)"
   ]
  },
  {
   "cell_type": "code",
   "execution_count": null,
   "metadata": {
    "colab": {
     "base_uri": "https://localhost:8080/",
     "height": 598
    },
    "id": "rgTFbSe_BUGv",
    "outputId": "41e39ed2-d8cd-4ffb-ce7c-efdbb5ef0f39"
   },
   "outputs": [],
   "source": [
    "df_final.head()"
   ]
  },
  {
   "cell_type": "code",
   "execution_count": null,
   "metadata": {
    "id": "FzO5AHqCBUGv"
   },
   "outputs": [],
   "source": [
    "final_df = df_final.sort_values(by=['id'], ascending=False)"
   ]
  },
  {
   "cell_type": "code",
   "execution_count": null,
   "metadata": {
    "colab": {
     "base_uri": "https://localhost:8080/",
     "height": 598
    },
    "id": "o32X6VAbBUGv",
    "outputId": "552c080f-ded0-4ab0-a3c4-7ce41bbfc141"
   },
   "outputs": [],
   "source": [
    "final_df.head()"
   ]
  },
  {
   "cell_type": "code",
   "execution_count": null,
   "metadata": {
    "id": "5LHHtnGRBUGv"
   },
   "outputs": [],
   "source": [
    "final_df[\"matched_NER_by_borders\"] = final_df[\"matched_NER_by_borders\"].fillna(0)"
   ]
  },
  {
   "cell_type": "code",
   "execution_count": null,
   "metadata": {
    "id": "WHsKaizcBUGw"
   },
   "outputs": [],
   "source": [
    "# demo\n",
    "for i in range(0, len(final_df)):\n",
    "        if final_df[\"matched_NER_by_borders\"][i] != 0:\n",
    "            mylist = final_df[\"matched_NER_by_borders\"][i]\n",
    "            \n",
    "            mylist = list(dict.fromkeys(mylist))\n",
    "            final_df[\"matched_NER_by_borders\"][i] = mylist\n",
    "            "
   ]
  },
  {
   "cell_type": "code",
   "execution_count": null,
   "metadata": {
    "colab": {
     "base_uri": "https://localhost:8080/",
     "height": 598
    },
    "id": "YF_n2YX6BUGw",
    "outputId": "ef151c74-0e14-4329-f54e-7e48cda3778a"
   },
   "outputs": [],
   "source": [
    "final_df.head()"
   ]
  },
  {
   "cell_type": "code",
   "execution_count": null,
   "metadata": {
    "id": "ZIydqgqt4sCu"
   },
   "outputs": [],
   "source": [
    "final_df.to_csv(\"NER_tagged_1000_simple_spacy.csv\", index = False)"
   ]
  },
  {
   "cell_type": "markdown",
   "metadata": {},
   "source": [
    "# Until Now, it is simple spacy Run."
   ]
  },
  {
   "cell_type": "code",
   "execution_count": null,
   "metadata": {
    "colab": {
     "base_uri": "https://localhost:8080/",
     "height": 598
    },
    "id": "XFobXf6WFkS1",
    "outputId": "b6837a37-8046-40b3-b4f9-b1d685b7ac55"
   },
   "outputs": [],
   "source": [
    "final_df.head(-1)"
   ]
  },
  {
   "cell_type": "markdown",
   "metadata": {},
   "source": [
    "# @Mohit, please update the string match prediction file here for kmp_df, it will combines these two now..."
   ]
  },
  {
   "cell_type": "code",
   "execution_count": null,
   "metadata": {
    "id": "GSijirchGVnL"
   },
   "outputs": [],
   "source": [
    "# kmp_df = pd.read_csv(\"1000_tagged_simanchala/output_colab/KMP_string_Match_newer_1000_colab.csv\")\n",
    "kmp_df = pd.read_csv(\"1000_tagged_simanchala/output_local/KMP_string_Match_newer_1000_v2.csv\")"
   ]
  },
  {
   "cell_type": "code",
   "execution_count": null,
   "metadata": {},
   "outputs": [],
   "source": [
    "final_df = final_df.sort_values(by=['id'], ascending=False)\n",
    "final_df.reset_index(inplace = True, drop = True)"
   ]
  },
  {
   "cell_type": "code",
   "execution_count": null,
   "metadata": {},
   "outputs": [],
   "source": [
    "kmp_df = kmp_df.sort_values(by=['id'], ascending=False)\n",
    "kmp_df.reset_index(inplace = True, drop = True)"
   ]
  },
  {
   "cell_type": "code",
   "execution_count": null,
   "metadata": {
    "colab": {
     "base_uri": "https://localhost:8080/",
     "height": 179
    },
    "id": "TiqUV6S3GVqY",
    "outputId": "897535fa-b51c-4f23-8bd3-961a3d0725b7"
   },
   "outputs": [],
   "source": [
    "kmp_df.head(2)"
   ]
  },
  {
   "cell_type": "code",
   "execution_count": null,
   "metadata": {
    "colab": {
     "base_uri": "https://localhost:8080/"
    },
    "id": "Oy_j4iq7GVtS",
    "outputId": "99497708-4664-45d8-cd1a-8bde78947d61"
   },
   "outputs": [],
   "source": [
    "type(kmp_df[\"exact_matched_patt\"][1])"
   ]
  },
  {
   "cell_type": "code",
   "execution_count": null,
   "metadata": {
    "id": "JOWCugSvGVwE"
   },
   "outputs": [],
   "source": [
    "# Converting dumped data into proper format i.e string into list\n",
    "\n",
    "# Pass the matched technology column that we got\n",
    "def convert_data_format(df,column_name):\n",
    "    \n",
    "    for i in range(0, len(df)):\n",
    "        \n",
    "        if df[column_name][i][0] == '[':\n",
    "            res = ast.literal_eval(df[column_name][i])\n",
    "            df[column_name][i] = res\n",
    "            \n",
    "        else:\n",
    "            x = []\n",
    "            x.insert(0, df[column_name][i])\n",
    "            df[column_name][i] = x\n",
    "            \n",
    "    return df"
   ]
  },
  {
   "cell_type": "code",
   "execution_count": null,
   "metadata": {
    "colab": {
     "base_uri": "https://localhost:8080/"
    },
    "id": "IchDXAisGVzt",
    "outputId": "c4d119fd-2e95-4806-86e5-bc0f0ca94bcc"
   },
   "outputs": [],
   "source": [
    "kmp_df = convert_data_format(kmp_df, \"exact_matched_patt\")"
   ]
  },
  {
   "cell_type": "code",
   "execution_count": null,
   "metadata": {
    "colab": {
     "base_uri": "https://localhost:8080/"
    },
    "id": "sA1Z_Qu2GV3g",
    "outputId": "7fe44b5f-149d-4110-98b2-8823c8e3a0cf"
   },
   "outputs": [],
   "source": [
    "type(kmp_df[\"exact_matched_patt\"][0])"
   ]
  },
  {
   "cell_type": "code",
   "execution_count": null,
   "metadata": {
    "colab": {
     "base_uri": "https://localhost:8080/"
    },
    "id": "5d_coWQKGV-M",
    "outputId": "05f4d862-48f8-4b66-cd22-e83c2b8d35fd"
   },
   "outputs": [],
   "source": [
    "kmp_df[\"exact_matched_patt\"][1]"
   ]
  },
  {
   "cell_type": "code",
   "execution_count": null,
   "metadata": {
    "colab": {
     "base_uri": "https://localhost:8080/"
    },
    "id": "22_0jtHzGWBc",
    "outputId": "f7a9969f-0813-42df-b50f-58c8f7a012c4"
   },
   "outputs": [],
   "source": [
    "kmp_df[\"exact_matched_patt\"][0]"
   ]
  },
  {
   "cell_type": "code",
   "execution_count": null,
   "metadata": {
    "colab": {
     "base_uri": "https://localhost:8080/"
    },
    "id": "-Cob74mrGWFQ",
    "outputId": "88cb50b5-dbbb-475e-b8d0-699f13392052"
   },
   "outputs": [],
   "source": [
    "for i in range(0, len(kmp_df)):\n",
    "    if len(kmp_df[\"exact_matched_patt\"][i])==0:\n",
    "        kmp_df[\"exact_matched_patt\"][i] = [\"0\"]\n",
    "        "
   ]
  },
  {
   "cell_type": "code",
   "execution_count": null,
   "metadata": {
    "id": "DmEt0T_HLQu6"
   },
   "outputs": [],
   "source": [
    "for i in range(0, len(final_df)):\n",
    "    if (final_df[\"matched_NER_by_borders\"][i])==0:\n",
    "        final_df[\"matched_NER_by_borders\"][i] = [\"0\"]\n",
    "        "
   ]
  },
  {
   "cell_type": "code",
   "execution_count": null,
   "metadata": {
    "colab": {
     "base_uri": "https://localhost:8080/"
    },
    "id": "SnVyr5jxKR62",
    "outputId": "3e09bce7-dc80-460d-a2f2-e0cd28b05f38"
   },
   "outputs": [],
   "source": [
    "type(final_df[\"matched_NER_by_borders\"][0])"
   ]
  },
  {
   "cell_type": "code",
   "execution_count": null,
   "metadata": {
    "colab": {
     "base_uri": "https://localhost:8080/"
    },
    "id": "LfVi4BftGWKS",
    "outputId": "3e223d76-3e43-46f3-bd23-22016b658bd8"
   },
   "outputs": [],
   "source": [
    "for i in range(0,len(kmp_df)):\n",
    "    print(i)\n",
    "    if (kmp_df[\"id\"][i]==final_df[\"id\"][i]):\n",
    "      \n",
    "            final_df[\"matched_NER_by_borders\"][i] = kmp_df[\"exact_matched_patt\"][i]+final_df[\"matched_NER_by_borders\"][i]            \n",
    "            final_df[\"matched_NER_by_borders\"][i] = list(set(final_df[\"matched_NER_by_borders\"][i]))\n",
    "        \n",
    "#         final_df[\"matched_NER_by_borders\"][i] = (final_df[\"matched_NER_by_borders\"][i]+df_string_match[\"exact_matched_patt\"][i])\n",
    "#         final_df[\"matched_NER_by_borders\"][i] = list(set(final_df[\"matched_NER_by_borders\"][i]))"
   ]
  },
  {
   "cell_type": "code",
   "execution_count": null,
   "metadata": {},
   "outputs": [],
   "source": []
  },
  {
   "cell_type": "code",
   "execution_count": null,
   "metadata": {
    "colab": {
     "base_uri": "https://localhost:8080/",
     "height": 830
    },
    "id": "5X9aA-26GWN2",
    "outputId": "ab7a6e94-5ea0-4031-9074-654613cecd6f"
   },
   "outputs": [],
   "source": [
    "final_df[final_df[\"id\"]==\"zaByWGsar5hVdBWLEYykcg_0000\"]"
   ]
  },
  {
   "cell_type": "code",
   "execution_count": null,
   "metadata": {
    "id": "05SNEL8oMnTo"
   },
   "outputs": [],
   "source": [
    "# h = final_df[\"matched_NER_by_borders\"][3].remove(0)"
   ]
  },
  {
   "cell_type": "code",
   "execution_count": null,
   "metadata": {
    "colab": {
     "base_uri": "https://localhost:8080/"
    },
    "id": "SXy_rXzHOO9q",
    "outputId": "e31a3791-fa0e-46d8-ea11-74c90f2b71f4"
   },
   "outputs": [],
   "source": [
    "final_df[\"matched_NER_by_borders\"][0][0]"
   ]
  },
  {
   "cell_type": "code",
   "execution_count": null,
   "metadata": {
    "id": "k4h20SnRGWR0"
   },
   "outputs": [],
   "source": [
    "for i in range(0, len(final_df)):\n",
    "    l = final_df[\"matched_NER_by_borders\"][i]\n",
    "    final_df[\"matched_NER_by_borders\"][i] = [0 if element == '0' else element for element in l]"
   ]
  },
  {
   "cell_type": "code",
   "execution_count": null,
   "metadata": {
    "id": "2ssL3Y-nPpM0"
   },
   "outputs": [],
   "source": [
    "# for i in range(0, len(final_df)):\n",
    "#   l = final_df[\"matched_NER_by_borders\"][i]\n",
    "#   g = l[:]\n",
    "#   l.remove(0)"
   ]
  },
  {
   "cell_type": "code",
   "execution_count": null,
   "metadata": {
    "id": "mc8KGgO3Qn3S"
   },
   "outputs": [],
   "source": [
    "for i in range(0, len(final_df)):\n",
    "  words = final_df[\"matched_NER_by_borders\"][i]\n",
    "  stopwords = [0]\n",
    "  for word in list(words):\n",
    "    if word in stopwords:\n",
    "      words.remove(word)"
   ]
  },
  {
   "cell_type": "code",
   "execution_count": null,
   "metadata": {
    "colab": {
     "base_uri": "https://localhost:8080/",
     "height": 830
    },
    "id": "VdqY8u-fGWVg",
    "outputId": "041953d1-b32d-4f1b-c2be-98a8f8ac32e4"
   },
   "outputs": [],
   "source": [
    "final_df"
   ]
  },
  {
   "cell_type": "code",
   "execution_count": null,
   "metadata": {},
   "outputs": [],
   "source": [
    "final_df[final_df[\"id\"]==\"zaByWGsar5hVdBWLEYykcg_0000\"]"
   ]
  },
  {
   "cell_type": "markdown",
   "metadata": {},
   "source": [
    "# remove.csv, I have given to you already.."
   ]
  },
  {
   "cell_type": "code",
   "execution_count": null,
   "metadata": {},
   "outputs": [],
   "source": [
    "r = pd.read_csv(\"Remove.csv\")"
   ]
  },
  {
   "cell_type": "code",
   "execution_count": null,
   "metadata": {},
   "outputs": [],
   "source": [
    "for i in range(0,len(r)):\n",
    "    r[\"Remove\"][i] = r[\"Remove\"][i].lower()"
   ]
  },
  {
   "cell_type": "code",
   "execution_count": null,
   "metadata": {},
   "outputs": [],
   "source": [
    "remove_list = r[\"Remove\"].tolist()\n"
   ]
  },
  {
   "cell_type": "code",
   "execution_count": null,
   "metadata": {},
   "outputs": [],
   "source": [
    "remove_list.append(\"ve\")\n"
   ]
  },
  {
   "cell_type": "code",
   "execution_count": null,
   "metadata": {},
   "outputs": [],
   "source": [
    "for i in range(0, len(final_df)):\n",
    "    print(i)\n",
    "    for word in list(final_df[\"matched_NER_by_borders\"][i]):\n",
    "        if word in remove_list:\n",
    "            final_df[\"matched_NER_by_borders\"][i].remove(word)"
   ]
  },
  {
   "cell_type": "code",
   "execution_count": null,
   "metadata": {
    "id": "MMw32KGiGWYT"
   },
   "outputs": [],
   "source": [
    "final_df.to_csv(\"1000_tagged_simanchala/output_colab/final_df_string_ner_v4_1000_combined.csv\", index = False)"
   ]
  },
  {
   "cell_type": "markdown",
   "metadata": {},
   "source": [
    "# END, Combined sheet is prepared"
   ]
  }
 ],
 "metadata": {
  "colab": {
   "collapsed_sections": [],
   "name": "(Changed_code)NER_Match-v9_casing-more_ner_tags_simple_spacy.ipynb",
   "provenance": [],
   "toc_visible": true
  },
  "kernelspec": {
   "display_name": "Python 3",
   "language": "python",
   "name": "python3"
  },
  "language_info": {
   "codemirror_mode": {
    "name": "ipython",
    "version": 3
   },
   "file_extension": ".py",
   "mimetype": "text/x-python",
   "name": "python",
   "nbconvert_exporter": "python",
   "pygments_lexer": "ipython3",
   "version": "3.9.2"
  }
 },
 "nbformat": 4,
 "nbformat_minor": 1
}
