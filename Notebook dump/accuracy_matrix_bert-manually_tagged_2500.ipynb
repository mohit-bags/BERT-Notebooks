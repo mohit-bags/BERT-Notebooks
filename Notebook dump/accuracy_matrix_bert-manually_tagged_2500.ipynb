{
 "cells": [
  {
   "cell_type": "code",
   "execution_count": 1,
   "metadata": {
    "id": "QUKJvStgL4b2"
   },
   "outputs": [],
   "source": [
    "# Importing the libraries here\n",
    "\n",
    "import pandas as pd\n",
    "import numpy as np\n",
    "import ast\n",
    "import json\n",
    "from operator import add \n",
    "from operator import truediv\n",
    "import re\n",
    "# import swifter\n",
    "from tqdm import tqdm"
   ]
  },
  {
   "cell_type": "code",
   "execution_count": 2,
   "metadata": {},
   "outputs": [],
   "source": [
    "#data with TECH removed or non master removed and tech removed\n",
    "# summary = pd.read_csv(\"BERT_Pred_189_FULL_with_eng.csv\")\n",
    "# summary = pd.read_csv(\"BERT_Pred_189_FULL_without_MASTER.csv\")\n",
    "summary = pd.read_csv(\"BERT_Pred_500_without_MASTER_ROW_WISE.csv\")\n",
    "# summary = pd.read_csv(\"BERT_Pred_500_without_MASTER_ENG+TECH_ROW_WISE.csv\")\n",
    "\n",
    "\n",
    "# summary[\"BERT_tags\"]=summary[\"BERT_tags_wo_MASTER\"]\n",
    "# summary[\"BERT_ENG_tag\"]=summary[\"BERT_tags_wo_MASTER\"]"
   ]
  },
  {
   "cell_type": "code",
   "execution_count": 3,
   "metadata": {},
   "outputs": [
    {
     "data": {
      "text/html": [
       "<div>\n",
       "<style scoped>\n",
       "    .dataframe tbody tr th:only-of-type {\n",
       "        vertical-align: middle;\n",
       "    }\n",
       "\n",
       "    .dataframe tbody tr th {\n",
       "        vertical-align: top;\n",
       "    }\n",
       "\n",
       "    .dataframe thead th {\n",
       "        text-align: right;\n",
       "    }\n",
       "</style>\n",
       "<table border=\"1\" class=\"dataframe\">\n",
       "  <thead>\n",
       "    <tr style=\"text-align: right;\">\n",
       "      <th></th>\n",
       "      <th>id</th>\n",
       "      <th>summaries</th>\n",
       "      <th>exact_matched_patt_contextual</th>\n",
       "      <th>Tech_from_string_match</th>\n",
       "      <th>BERT_Tags</th>\n",
       "    </tr>\n",
       "  </thead>\n",
       "  <tbody>\n",
       "    <tr>\n",
       "      <th>0</th>\n",
       "      <td>d3sBpLsn19JAgs2I3eoQLw_0000</td>\n",
       "      <td>a multiskilled economist and project manager w...</td>\n",
       "      <td>['qlikview']</td>\n",
       "      <td>NaN</td>\n",
       "      <td>[]</td>\n",
       "    </tr>\n",
       "    <tr>\n",
       "      <th>1</th>\n",
       "      <td>d2xmOwryxUIws0gqCBzNMw_0000</td>\n",
       "      <td>a multiskilled economist and project manager ...</td>\n",
       "      <td>['qlikview']</td>\n",
       "      <td>['able', 'and co', 'board', 'cat', 'cci', 'cin...</td>\n",
       "      <td>[]</td>\n",
       "    </tr>\n",
       "    <tr>\n",
       "      <th>2</th>\n",
       "      <td>bfP0BXlhcOgqCouGfIIbHw_0000</td>\n",
       "      <td>ive been involved in software development usi...</td>\n",
       "      <td>['openedge']</td>\n",
       "      <td>['able', 'ace', 'ada', 'adapt', 'apt', 'flo', ...</td>\n",
       "      <td>[]</td>\n",
       "    </tr>\n",
       "    <tr>\n",
       "      <th>3</th>\n",
       "      <td>bdTTj0aGQRypq5vd-I1o-A_0000</td>\n",
       "      <td>information technology professional extensive...</td>\n",
       "      <td>['netsuite']</td>\n",
       "      <td>['acl', 'ada', 'blis', 'cat', 'cien', 'ento', ...</td>\n",
       "      <td>[]</td>\n",
       "    </tr>\n",
       "    <tr>\n",
       "      <th>4</th>\n",
       "      <td>6pXOo5YPZzwFBbuhuBzjOQ_0000</td>\n",
       "      <td>experienced sales executive with a demonstrat...</td>\n",
       "      <td>['getswift']</td>\n",
       "      <td>['ark', 'dot', 'driven', 'ets', 'getswift', 'g...</td>\n",
       "      <td>[]</td>\n",
       "    </tr>\n",
       "  </tbody>\n",
       "</table>\n",
       "</div>"
      ],
      "text/plain": [
       "                            id  \\\n",
       "0  d3sBpLsn19JAgs2I3eoQLw_0000   \n",
       "1  d2xmOwryxUIws0gqCBzNMw_0000   \n",
       "2  bfP0BXlhcOgqCouGfIIbHw_0000   \n",
       "3  bdTTj0aGQRypq5vd-I1o-A_0000   \n",
       "4  6pXOo5YPZzwFBbuhuBzjOQ_0000   \n",
       "\n",
       "                                           summaries  \\\n",
       "0  a multiskilled economist and project manager w...   \n",
       "1   a multiskilled economist and project manager ...   \n",
       "2   ive been involved in software development usi...   \n",
       "3   information technology professional extensive...   \n",
       "4   experienced sales executive with a demonstrat...   \n",
       "\n",
       "  exact_matched_patt_contextual  \\\n",
       "0                  ['qlikview']   \n",
       "1                  ['qlikview']   \n",
       "2                  ['openedge']   \n",
       "3                  ['netsuite']   \n",
       "4                  ['getswift']   \n",
       "\n",
       "                              Tech_from_string_match BERT_Tags  \n",
       "0                                                NaN        []  \n",
       "1  ['able', 'and co', 'board', 'cat', 'cci', 'cin...        []  \n",
       "2  ['able', 'ace', 'ada', 'adapt', 'apt', 'flo', ...        []  \n",
       "3  ['acl', 'ada', 'blis', 'cat', 'cien', 'ento', ...        []  \n",
       "4  ['ark', 'dot', 'driven', 'ets', 'getswift', 'g...        []  "
      ]
     },
     "execution_count": 3,
     "metadata": {},
     "output_type": "execute_result"
    }
   ],
   "source": [
    "summary.head()"
   ]
  },
  {
   "cell_type": "code",
   "execution_count": 4,
   "metadata": {},
   "outputs": [],
   "source": [
    "dataa = summary[['id','summaries','exact_matched_patt_contextual','BERT_Tags']]\n",
    "\n",
    "# dataa = summary[['ID','summaries','exact_matched_patt_contextual','string_matched']]"
   ]
  },
  {
   "cell_type": "code",
   "execution_count": 5,
   "metadata": {},
   "outputs": [],
   "source": [
    "summary=dataa"
   ]
  },
  {
   "cell_type": "code",
   "execution_count": 6,
   "metadata": {
    "id": "urN31hx3L4b6"
   },
   "outputs": [],
   "source": [
    "summary = summary.sort_values(by=['id'], ascending=False)\n",
    "summary.reset_index(inplace = True, drop = True)"
   ]
  },
  {
   "cell_type": "code",
   "execution_count": 7,
   "metadata": {},
   "outputs": [],
   "source": [
    "col_name_op = \"BERT_Tags\"\n",
    "# col_name_op = \"string_matched\""
   ]
  },
  {
   "cell_type": "code",
   "execution_count": 8,
   "metadata": {},
   "outputs": [],
   "source": [
    "# Pass the matched technology column that we got\n",
    "def convert_data_format(df,column_name):\n",
    "    \n",
    "    for i in range(0, len(df)):\n",
    "        \n",
    "        if df[column_name][i][0] == '[':\n",
    "            res = ast.literal_eval(df[column_name][i])\n",
    "            df[column_name][i] = res\n",
    "            \n",
    "        else:\n",
    "            x = []\n",
    "            x.insert(0, df[column_name][i])\n",
    "            df[column_name][i] = x\n",
    "            \n",
    "    return df\n",
    "\n",
    "df_cm = summary"
   ]
  },
  {
   "cell_type": "code",
   "execution_count": 9,
   "metadata": {
    "id": "HmN4Ivz3L4b8"
   },
   "outputs": [],
   "source": [
    "df_cm = convert_data_format(df_cm, col_name_op)"
   ]
  },
  {
   "cell_type": "code",
   "execution_count": 10,
   "metadata": {},
   "outputs": [],
   "source": [
    "df_cm = convert_data_format(df_cm, \"exact_matched_patt_contextual\")"
   ]
  },
  {
   "cell_type": "code",
   "execution_count": 11,
   "metadata": {},
   "outputs": [
    {
     "data": {
      "text/plain": [
       "['azure']"
      ]
     },
     "execution_count": 11,
     "metadata": {},
     "output_type": "execute_result"
    }
   ],
   "source": [
    "df_cm[col_name_op][12]"
   ]
  },
  {
   "cell_type": "code",
   "execution_count": 12,
   "metadata": {},
   "outputs": [
    {
     "data": {
      "text/plain": [
       "['azure']"
      ]
     },
     "execution_count": 12,
     "metadata": {},
     "output_type": "execute_result"
    }
   ],
   "source": [
    "df_cm[\"exact_matched_patt_contextual\"][12]"
   ]
  },
  {
   "cell_type": "code",
   "execution_count": 13,
   "metadata": {},
   "outputs": [
    {
     "data": {
      "text/plain": [
       "236"
      ]
     },
     "execution_count": 13,
     "metadata": {},
     "output_type": "execute_result"
    }
   ],
   "source": [
    "count_context_technologies = []\n",
    "\n",
    "for i in range(0, len(df_cm)):\n",
    "    count_context_technologies.extend(df_cm[\"exact_matched_patt_contextual\"][i])\n",
    "d = list(set(count_context_technologies))\n",
    "len(d)"
   ]
  },
  {
   "cell_type": "markdown",
   "metadata": {
    "id": "nB5FwA4kL4b9"
   },
   "source": [
    "# Converting into dataformat to compare two strings"
   ]
  },
  {
   "cell_type": "code",
   "execution_count": 14,
   "metadata": {
    "id": "royjvg14L4b9"
   },
   "outputs": [],
   "source": [
    "# TP: present in both sheet i==j\n",
    "# TN: not in both (insignificant)\n",
    "# FP: in extracted sheet but not in manual tagging     i!=j\n",
    "# FN: in manual tagging and is not in extracted tagging j"
   ]
  },
  {
   "cell_type": "code",
   "execution_count": 15,
   "metadata": {
    "id": "PK5FRNxTL4b_"
   },
   "outputs": [],
   "source": [
    "tp = []\n",
    "tn = []\n",
    "fp = []\n",
    "fn = []"
   ]
  },
  {
   "cell_type": "code",
   "execution_count": 16,
   "metadata": {
    "id": "W-XM1LmCL4b_"
   },
   "outputs": [
    {
     "data": {
      "text/html": [
       "<div>\n",
       "<style scoped>\n",
       "    .dataframe tbody tr th:only-of-type {\n",
       "        vertical-align: middle;\n",
       "    }\n",
       "\n",
       "    .dataframe tbody tr th {\n",
       "        vertical-align: top;\n",
       "    }\n",
       "\n",
       "    .dataframe thead th {\n",
       "        text-align: right;\n",
       "    }\n",
       "</style>\n",
       "<table border=\"1\" class=\"dataframe\">\n",
       "  <thead>\n",
       "    <tr style=\"text-align: right;\">\n",
       "      <th></th>\n",
       "      <th>id</th>\n",
       "      <th>summaries</th>\n",
       "      <th>exact_matched_patt_contextual</th>\n",
       "      <th>BERT_Tags</th>\n",
       "    </tr>\n",
       "  </thead>\n",
       "  <tbody>\n",
       "    <tr>\n",
       "      <th>0</th>\n",
       "      <td>zun1u5pEP6XGEgB8NnH5Cw_0000</td>\n",
       "      <td>after teaching at hogeschool rotterdam i foun...</td>\n",
       "      <td>[adobe]</td>\n",
       "      <td>[]</td>\n",
       "    </tr>\n",
       "    <tr>\n",
       "      <th>1</th>\n",
       "      <td>zoxTMxOfZsWUN1PQnYNdWA_0000</td>\n",
       "      <td>i work and play at the intersection of busine...</td>\n",
       "      <td>[gmail]</td>\n",
       "      <td>[]</td>\n",
       "    </tr>\n",
       "    <tr>\n",
       "      <th>2</th>\n",
       "      <td>zhYBF2y27LTSykBxobls2Q_0000</td>\n",
       "      <td>i am a clientfacing interior designer project ...</td>\n",
       "      <td>[crd]</td>\n",
       "      <td>[]</td>\n",
       "    </tr>\n",
       "    <tr>\n",
       "      <th>3</th>\n",
       "      <td>zYOI4JmmTDiT023cU9g7XA_0000</td>\n",
       "      <td>having spent 8 months in 2011 working with dan...</td>\n",
       "      <td>[rsm]</td>\n",
       "      <td>[]</td>\n",
       "    </tr>\n",
       "    <tr>\n",
       "      <th>4</th>\n",
       "      <td>zLkOjHFJxHyyLnDgBCBYgg_0000</td>\n",
       "      <td>years of helping clients both as a consultant...</td>\n",
       "      <td>[azure]</td>\n",
       "      <td>[azure]</td>\n",
       "    </tr>\n",
       "  </tbody>\n",
       "</table>\n",
       "</div>"
      ],
      "text/plain": [
       "                            id  \\\n",
       "0  zun1u5pEP6XGEgB8NnH5Cw_0000   \n",
       "1  zoxTMxOfZsWUN1PQnYNdWA_0000   \n",
       "2  zhYBF2y27LTSykBxobls2Q_0000   \n",
       "3  zYOI4JmmTDiT023cU9g7XA_0000   \n",
       "4  zLkOjHFJxHyyLnDgBCBYgg_0000   \n",
       "\n",
       "                                           summaries  \\\n",
       "0   after teaching at hogeschool rotterdam i foun...   \n",
       "1   i work and play at the intersection of busine...   \n",
       "2  i am a clientfacing interior designer project ...   \n",
       "3  having spent 8 months in 2011 working with dan...   \n",
       "4   years of helping clients both as a consultant...   \n",
       "\n",
       "  exact_matched_patt_contextual BERT_Tags  \n",
       "0                       [adobe]        []  \n",
       "1                       [gmail]        []  \n",
       "2                         [crd]        []  \n",
       "3                         [rsm]        []  \n",
       "4                       [azure]   [azure]  "
      ]
     },
     "execution_count": 16,
     "metadata": {},
     "output_type": "execute_result"
    }
   ],
   "source": [
    "TP = TN = FP = FN = 0\n",
    "\n",
    "# TP + FP calculation\n",
    "# op_string = exact_matched_patt\n",
    "# , manual_tagged_string = Actual/Actual(NER)\n",
    "\n",
    "df_cm.head()"
   ]
  },
  {
   "cell_type": "code",
   "execution_count": 17,
   "metadata": {
    "id": "nJisBsXOL4b_"
   },
   "outputs": [],
   "source": [
    "df_cm[\"exact_matched_patt_contextual\"] = df_cm[\"exact_matched_patt_contextual\"].fillna('[]')\n",
    "\n",
    "# reading \n",
    "tech = pd.read_csv(\"/Users/mohitbagaria/Downloads/spacy_string_match/Eng_pydictionary_2.csv\")\n",
    "# tech = pd.read_csv(\"Tech_pydictionary_2.csv\")\n",
    "\n",
    "tech.columns = [\"index\", \"title\"]\n",
    "tech.drop(columns = [\"index\"], axis =1 , inplace = True)\n",
    "tech.reset_index(inplace = True, drop = True)"
   ]
  },
  {
   "cell_type": "code",
   "execution_count": 18,
   "metadata": {},
   "outputs": [
    {
     "data": {
      "text/html": [
       "<div>\n",
       "<style scoped>\n",
       "    .dataframe tbody tr th:only-of-type {\n",
       "        vertical-align: middle;\n",
       "    }\n",
       "\n",
       "    .dataframe tbody tr th {\n",
       "        vertical-align: top;\n",
       "    }\n",
       "\n",
       "    .dataframe thead th {\n",
       "        text-align: right;\n",
       "    }\n",
       "</style>\n",
       "<table border=\"1\" class=\"dataframe\">\n",
       "  <thead>\n",
       "    <tr style=\"text-align: right;\">\n",
       "      <th></th>\n",
       "      <th>title</th>\n",
       "    </tr>\n",
       "  </thead>\n",
       "  <tbody>\n",
       "    <tr>\n",
       "      <th>0</th>\n",
       "      <td>Lattice</td>\n",
       "    </tr>\n",
       "    <tr>\n",
       "      <th>1</th>\n",
       "      <td>EMERGE Background Checks</td>\n",
       "    </tr>\n",
       "    <tr>\n",
       "      <th>2</th>\n",
       "      <td>Tenfold</td>\n",
       "    </tr>\n",
       "    <tr>\n",
       "      <th>3</th>\n",
       "      <td>Friday Feedback</td>\n",
       "    </tr>\n",
       "    <tr>\n",
       "      <th>4</th>\n",
       "      <td>Data Dwell</td>\n",
       "    </tr>\n",
       "  </tbody>\n",
       "</table>\n",
       "</div>"
      ],
      "text/plain": [
       "                      title\n",
       "0                   Lattice\n",
       "1  EMERGE Background Checks\n",
       "2                   Tenfold\n",
       "3           Friday Feedback\n",
       "4                Data Dwell"
      ]
     },
     "execution_count": 18,
     "metadata": {},
     "output_type": "execute_result"
    }
   ],
   "source": [
    "tech.head()"
   ]
  },
  {
   "cell_type": "code",
   "execution_count": 19,
   "metadata": {},
   "outputs": [
    {
     "data": {
      "text/plain": [
       "5289"
      ]
     },
     "execution_count": 19,
     "metadata": {},
     "output_type": "execute_result"
    }
   ],
   "source": [
    "tech_list = tech[\"title\"].tolist()\n",
    "tech_list = list(set(tech_list))\n",
    "len(tech_list)"
   ]
  },
  {
   "cell_type": "code",
   "execution_count": 20,
   "metadata": {},
   "outputs": [],
   "source": [
    "for i in range(0, len(tech_list)):\n",
    "    tech_list[i] = tech_list[i].lower()"
   ]
  },
  {
   "cell_type": "code",
   "execution_count": 21,
   "metadata": {},
   "outputs": [],
   "source": [
    "# tech_list"
   ]
  },
  {
   "cell_type": "code",
   "execution_count": 22,
   "metadata": {},
   "outputs": [],
   "source": [
    "# df_cm['Eng_Label']=df_cm[\"exact_matched_patt_contextual\"].copy()"
   ]
  },
  {
   "cell_type": "code",
   "execution_count": 23,
   "metadata": {},
   "outputs": [],
   "source": [
    "tech_tag_list = []\n",
    "\n",
    "def get_tech_tagged_data(manually_tagged, tech_list):\n",
    "    keep=[]\n",
    "    for word in manually_tagged:\n",
    "        if word in tech_list:\n",
    "            keep.append(word)\n",
    "    return keep"
   ]
  },
  {
   "cell_type": "code",
   "execution_count": 24,
   "metadata": {},
   "outputs": [],
   "source": [
    "# get_tech_tagged_data(df_cm[\"exact_matched_patt_contextual\"][1],tech_list)"
   ]
  },
  {
   "cell_type": "code",
   "execution_count": 25,
   "metadata": {},
   "outputs": [
    {
     "data": {
      "text/html": [
       "<div>\n",
       "<style scoped>\n",
       "    .dataframe tbody tr th:only-of-type {\n",
       "        vertical-align: middle;\n",
       "    }\n",
       "\n",
       "    .dataframe tbody tr th {\n",
       "        vertical-align: top;\n",
       "    }\n",
       "\n",
       "    .dataframe thead th {\n",
       "        text-align: right;\n",
       "    }\n",
       "</style>\n",
       "<table border=\"1\" class=\"dataframe\">\n",
       "  <thead>\n",
       "    <tr style=\"text-align: right;\">\n",
       "      <th></th>\n",
       "      <th>id</th>\n",
       "      <th>summaries</th>\n",
       "      <th>exact_matched_patt_contextual</th>\n",
       "      <th>BERT_Tags</th>\n",
       "    </tr>\n",
       "  </thead>\n",
       "  <tbody>\n",
       "    <tr>\n",
       "      <th>0</th>\n",
       "      <td>zun1u5pEP6XGEgB8NnH5Cw_0000</td>\n",
       "      <td>after teaching at hogeschool rotterdam i foun...</td>\n",
       "      <td>[adobe]</td>\n",
       "      <td>[]</td>\n",
       "    </tr>\n",
       "    <tr>\n",
       "      <th>1</th>\n",
       "      <td>zoxTMxOfZsWUN1PQnYNdWA_0000</td>\n",
       "      <td>i work and play at the intersection of busine...</td>\n",
       "      <td>[gmail]</td>\n",
       "      <td>[]</td>\n",
       "    </tr>\n",
       "    <tr>\n",
       "      <th>2</th>\n",
       "      <td>zhYBF2y27LTSykBxobls2Q_0000</td>\n",
       "      <td>i am a clientfacing interior designer project ...</td>\n",
       "      <td>[crd]</td>\n",
       "      <td>[]</td>\n",
       "    </tr>\n",
       "    <tr>\n",
       "      <th>3</th>\n",
       "      <td>zYOI4JmmTDiT023cU9g7XA_0000</td>\n",
       "      <td>having spent 8 months in 2011 working with dan...</td>\n",
       "      <td>[rsm]</td>\n",
       "      <td>[]</td>\n",
       "    </tr>\n",
       "    <tr>\n",
       "      <th>4</th>\n",
       "      <td>zLkOjHFJxHyyLnDgBCBYgg_0000</td>\n",
       "      <td>years of helping clients both as a consultant...</td>\n",
       "      <td>[azure]</td>\n",
       "      <td>[azure]</td>\n",
       "    </tr>\n",
       "    <tr>\n",
       "      <th>5</th>\n",
       "      <td>zFG4JjhB6Rd6U7RzNXFBFA_0000</td>\n",
       "      <td>we are experts in lateral hiring for small mi...</td>\n",
       "      <td>[cascade]</td>\n",
       "      <td>[]</td>\n",
       "    </tr>\n",
       "    <tr>\n",
       "      <th>6</th>\n",
       "      <td>yspXP4StzHCTTRBVpKP2PA_0000</td>\n",
       "      <td>clover patch australia provide highly competi...</td>\n",
       "      <td>[clover]</td>\n",
       "      <td>[clover]</td>\n",
       "    </tr>\n",
       "    <tr>\n",
       "      <th>7</th>\n",
       "      <td>yez8nRSNcKDmp0Ho6PtK-A_0000</td>\n",
       "      <td>visionary bizdev leader with passion for crea...</td>\n",
       "      <td>[perl]</td>\n",
       "      <td>[]</td>\n",
       "    </tr>\n",
       "    <tr>\n",
       "      <th>8</th>\n",
       "      <td>yPTGFhq7MTXI4RuVTZiggQ_0000</td>\n",
       "      <td>an experienced driven collaborative informati...</td>\n",
       "      <td>[dell]</td>\n",
       "      <td>[dell]</td>\n",
       "    </tr>\n",
       "    <tr>\n",
       "      <th>9</th>\n",
       "      <td>yK5vFh3gxPOn1qbNXn-Wwg_0000</td>\n",
       "      <td>an accomplished it senior management professi...</td>\n",
       "      <td>[lob]</td>\n",
       "      <td>[]</td>\n",
       "    </tr>\n",
       "  </tbody>\n",
       "</table>\n",
       "</div>"
      ],
      "text/plain": [
       "                            id  \\\n",
       "0  zun1u5pEP6XGEgB8NnH5Cw_0000   \n",
       "1  zoxTMxOfZsWUN1PQnYNdWA_0000   \n",
       "2  zhYBF2y27LTSykBxobls2Q_0000   \n",
       "3  zYOI4JmmTDiT023cU9g7XA_0000   \n",
       "4  zLkOjHFJxHyyLnDgBCBYgg_0000   \n",
       "5  zFG4JjhB6Rd6U7RzNXFBFA_0000   \n",
       "6  yspXP4StzHCTTRBVpKP2PA_0000   \n",
       "7  yez8nRSNcKDmp0Ho6PtK-A_0000   \n",
       "8  yPTGFhq7MTXI4RuVTZiggQ_0000   \n",
       "9  yK5vFh3gxPOn1qbNXn-Wwg_0000   \n",
       "\n",
       "                                           summaries  \\\n",
       "0   after teaching at hogeschool rotterdam i foun...   \n",
       "1   i work and play at the intersection of busine...   \n",
       "2  i am a clientfacing interior designer project ...   \n",
       "3  having spent 8 months in 2011 working with dan...   \n",
       "4   years of helping clients both as a consultant...   \n",
       "5   we are experts in lateral hiring for small mi...   \n",
       "6   clover patch australia provide highly competi...   \n",
       "7   visionary bizdev leader with passion for crea...   \n",
       "8   an experienced driven collaborative informati...   \n",
       "9   an accomplished it senior management professi...   \n",
       "\n",
       "  exact_matched_patt_contextual BERT_Tags  \n",
       "0                       [adobe]        []  \n",
       "1                       [gmail]        []  \n",
       "2                         [crd]        []  \n",
       "3                         [rsm]        []  \n",
       "4                       [azure]   [azure]  \n",
       "5                     [cascade]        []  \n",
       "6                      [clover]  [clover]  \n",
       "7                        [perl]        []  \n",
       "8                        [dell]    [dell]  \n",
       "9                         [lob]        []  "
      ]
     },
     "execution_count": 25,
     "metadata": {},
     "output_type": "execute_result"
    }
   ],
   "source": [
    "df_cm.head(10)"
   ]
  },
  {
   "cell_type": "code",
   "execution_count": 27,
   "metadata": {},
   "outputs": [],
   "source": [
    "# df_cm['Tech_Label'] = df_cm.apply(lambda x: get_tech_tagged_data(x[\"MANUAL_TAG\"], tech_list), axis = 1)\n",
    "df_cm['Eng_Label'] = df_cm.apply(lambda x: get_tech_tagged_data(x[\"exact_matched_patt_contextual\"], tech_list), axis = 1)"
   ]
  },
  {
   "cell_type": "code",
   "execution_count": 28,
   "metadata": {},
   "outputs": [
    {
     "data": {
      "text/html": [
       "<div>\n",
       "<style scoped>\n",
       "    .dataframe tbody tr th:only-of-type {\n",
       "        vertical-align: middle;\n",
       "    }\n",
       "\n",
       "    .dataframe tbody tr th {\n",
       "        vertical-align: top;\n",
       "    }\n",
       "\n",
       "    .dataframe thead th {\n",
       "        text-align: right;\n",
       "    }\n",
       "</style>\n",
       "<table border=\"1\" class=\"dataframe\">\n",
       "  <thead>\n",
       "    <tr style=\"text-align: right;\">\n",
       "      <th></th>\n",
       "      <th>id</th>\n",
       "      <th>summaries</th>\n",
       "      <th>exact_matched_patt_contextual</th>\n",
       "      <th>BERT_Tags</th>\n",
       "      <th>Eng_Label</th>\n",
       "    </tr>\n",
       "  </thead>\n",
       "  <tbody>\n",
       "    <tr>\n",
       "      <th>0</th>\n",
       "      <td>zun1u5pEP6XGEgB8NnH5Cw_0000</td>\n",
       "      <td>after teaching at hogeschool rotterdam i foun...</td>\n",
       "      <td>[adobe]</td>\n",
       "      <td>[]</td>\n",
       "      <td>[adobe]</td>\n",
       "    </tr>\n",
       "    <tr>\n",
       "      <th>1</th>\n",
       "      <td>zoxTMxOfZsWUN1PQnYNdWA_0000</td>\n",
       "      <td>i work and play at the intersection of busine...</td>\n",
       "      <td>[gmail]</td>\n",
       "      <td>[]</td>\n",
       "      <td>[]</td>\n",
       "    </tr>\n",
       "    <tr>\n",
       "      <th>2</th>\n",
       "      <td>zhYBF2y27LTSykBxobls2Q_0000</td>\n",
       "      <td>i am a clientfacing interior designer project ...</td>\n",
       "      <td>[crd]</td>\n",
       "      <td>[]</td>\n",
       "      <td>[]</td>\n",
       "    </tr>\n",
       "    <tr>\n",
       "      <th>3</th>\n",
       "      <td>zYOI4JmmTDiT023cU9g7XA_0000</td>\n",
       "      <td>having spent 8 months in 2011 working with dan...</td>\n",
       "      <td>[rsm]</td>\n",
       "      <td>[]</td>\n",
       "      <td>[]</td>\n",
       "    </tr>\n",
       "    <tr>\n",
       "      <th>4</th>\n",
       "      <td>zLkOjHFJxHyyLnDgBCBYgg_0000</td>\n",
       "      <td>years of helping clients both as a consultant...</td>\n",
       "      <td>[azure]</td>\n",
       "      <td>[azure]</td>\n",
       "      <td>[azure]</td>\n",
       "    </tr>\n",
       "    <tr>\n",
       "      <th>5</th>\n",
       "      <td>zFG4JjhB6Rd6U7RzNXFBFA_0000</td>\n",
       "      <td>we are experts in lateral hiring for small mi...</td>\n",
       "      <td>[cascade]</td>\n",
       "      <td>[]</td>\n",
       "      <td>[cascade]</td>\n",
       "    </tr>\n",
       "    <tr>\n",
       "      <th>6</th>\n",
       "      <td>yspXP4StzHCTTRBVpKP2PA_0000</td>\n",
       "      <td>clover patch australia provide highly competi...</td>\n",
       "      <td>[clover]</td>\n",
       "      <td>[clover]</td>\n",
       "      <td>[clover]</td>\n",
       "    </tr>\n",
       "    <tr>\n",
       "      <th>7</th>\n",
       "      <td>yez8nRSNcKDmp0Ho6PtK-A_0000</td>\n",
       "      <td>visionary bizdev leader with passion for crea...</td>\n",
       "      <td>[perl]</td>\n",
       "      <td>[]</td>\n",
       "      <td>[]</td>\n",
       "    </tr>\n",
       "    <tr>\n",
       "      <th>8</th>\n",
       "      <td>yPTGFhq7MTXI4RuVTZiggQ_0000</td>\n",
       "      <td>an experienced driven collaborative informati...</td>\n",
       "      <td>[dell]</td>\n",
       "      <td>[dell]</td>\n",
       "      <td>[dell]</td>\n",
       "    </tr>\n",
       "    <tr>\n",
       "      <th>9</th>\n",
       "      <td>yK5vFh3gxPOn1qbNXn-Wwg_0000</td>\n",
       "      <td>an accomplished it senior management professi...</td>\n",
       "      <td>[lob]</td>\n",
       "      <td>[]</td>\n",
       "      <td>[lob]</td>\n",
       "    </tr>\n",
       "  </tbody>\n",
       "</table>\n",
       "</div>"
      ],
      "text/plain": [
       "                            id  \\\n",
       "0  zun1u5pEP6XGEgB8NnH5Cw_0000   \n",
       "1  zoxTMxOfZsWUN1PQnYNdWA_0000   \n",
       "2  zhYBF2y27LTSykBxobls2Q_0000   \n",
       "3  zYOI4JmmTDiT023cU9g7XA_0000   \n",
       "4  zLkOjHFJxHyyLnDgBCBYgg_0000   \n",
       "5  zFG4JjhB6Rd6U7RzNXFBFA_0000   \n",
       "6  yspXP4StzHCTTRBVpKP2PA_0000   \n",
       "7  yez8nRSNcKDmp0Ho6PtK-A_0000   \n",
       "8  yPTGFhq7MTXI4RuVTZiggQ_0000   \n",
       "9  yK5vFh3gxPOn1qbNXn-Wwg_0000   \n",
       "\n",
       "                                           summaries  \\\n",
       "0   after teaching at hogeschool rotterdam i foun...   \n",
       "1   i work and play at the intersection of busine...   \n",
       "2  i am a clientfacing interior designer project ...   \n",
       "3  having spent 8 months in 2011 working with dan...   \n",
       "4   years of helping clients both as a consultant...   \n",
       "5   we are experts in lateral hiring for small mi...   \n",
       "6   clover patch australia provide highly competi...   \n",
       "7   visionary bizdev leader with passion for crea...   \n",
       "8   an experienced driven collaborative informati...   \n",
       "9   an accomplished it senior management professi...   \n",
       "\n",
       "  exact_matched_patt_contextual BERT_Tags  Eng_Label  \n",
       "0                       [adobe]        []    [adobe]  \n",
       "1                       [gmail]        []         []  \n",
       "2                         [crd]        []         []  \n",
       "3                         [rsm]        []         []  \n",
       "4                       [azure]   [azure]    [azure]  \n",
       "5                     [cascade]        []  [cascade]  \n",
       "6                      [clover]  [clover]   [clover]  \n",
       "7                        [perl]        []         []  \n",
       "8                        [dell]    [dell]     [dell]  \n",
       "9                         [lob]        []      [lob]  "
      ]
     },
     "execution_count": 28,
     "metadata": {},
     "output_type": "execute_result"
    }
   ],
   "source": [
    "df_cm.head(10)"
   ]
  },
  {
   "cell_type": "code",
   "execution_count": null,
   "metadata": {},
   "outputs": [],
   "source": [
    "# df_cm.to_csv(\"technology_dataset_with_taggging.csv\", index= False)\n",
    "# df_cm.to_csv(\"non_technology_dataset_with_taggging.csv\", index= False)"
   ]
  },
  {
   "cell_type": "code",
   "execution_count": null,
   "metadata": {},
   "outputs": [],
   "source": []
  },
  {
   "cell_type": "code",
   "execution_count": 29,
   "metadata": {},
   "outputs": [],
   "source": [
    "list_tech_dataset = []"
   ]
  },
  {
   "cell_type": "code",
   "execution_count": 30,
   "metadata": {},
   "outputs": [],
   "source": [
    "# fill with \n",
    "for i in range(0, len(df_cm)):\n",
    "    list_tech_dataset.extend(df_cm[\"Eng_Label\"][i])"
   ]
  },
  {
   "cell_type": "code",
   "execution_count": 31,
   "metadata": {},
   "outputs": [
    {
     "data": {
      "text/plain": [
       "223"
      ]
     },
     "execution_count": 31,
     "metadata": {},
     "output_type": "execute_result"
    }
   ],
   "source": [
    "len(list_tech_dataset)"
   ]
  },
  {
   "cell_type": "code",
   "execution_count": 32,
   "metadata": {},
   "outputs": [
    {
     "data": {
      "text/plain": [
       "101"
      ]
     },
     "execution_count": 32,
     "metadata": {},
     "output_type": "execute_result"
    }
   ],
   "source": [
    "set_tech = set(list_tech_dataset)\n",
    "len(set_tech)"
   ]
  },
  {
   "cell_type": "code",
   "execution_count": 33,
   "metadata": {},
   "outputs": [],
   "source": [
    "for i in range(0, len(df_cm)):\n",
    "    l = df_cm[col_name_op][i]\n",
    "    df_cm[col_name_op][i] = [0 if element == '0' else element for element in l]"
   ]
  },
  {
   "cell_type": "code",
   "execution_count": 34,
   "metadata": {},
   "outputs": [],
   "source": [
    "for i in range(0, len(df_cm)):\n",
    "  words = df_cm[col_name_op][i]\n",
    "  stopwords = [0]\n",
    "  for word in list(words):\n",
    "    if word in stopwords:\n",
    "      words.remove(word)"
   ]
  },
  {
   "cell_type": "code",
   "execution_count": 35,
   "metadata": {},
   "outputs": [],
   "source": [
    "def Diff(li1, li2): #FP entries\n",
    "    return list(set(li2)-set(li1))"
   ]
  },
  {
   "cell_type": "code",
   "execution_count": 36,
   "metadata": {},
   "outputs": [],
   "source": [
    "def Same(lis1,lis2): #TP entries\n",
    "    return list(set(lis1).intersection(lis2))"
   ]
  },
  {
   "cell_type": "code",
   "execution_count": 37,
   "metadata": {},
   "outputs": [],
   "source": [
    "def Common(lis1,lis2):\n",
    "    return list(set(lis1)-(set(lis2)))"
   ]
  },
  {
   "cell_type": "code",
   "execution_count": 38,
   "metadata": {},
   "outputs": [],
   "source": [
    "# list of technologies which are not in extracted list but are in tagged list i.e. FN entries\n",
    "df_cm['FP_entries_eng'] = df_cm.apply(lambda x: Diff(x[\"Eng_Label\"], x[col_name_op]), axis = 1)"
   ]
  },
  {
   "cell_type": "code",
   "execution_count": 39,
   "metadata": {},
   "outputs": [],
   "source": [
    "# list of technologies which are in extracted list and are in tagged list i.e. TP entries\n",
    "df_cm['TP_entries_eng'] = df_cm.apply(lambda x: Same(x[\"Eng_Label\"], x[col_name_op]), axis = 1)"
   ]
  },
  {
   "cell_type": "code",
   "execution_count": 40,
   "metadata": {},
   "outputs": [],
   "source": [
    "# list of technologies which are NOT extracted list and are in tagged list i.e. FN entries\n",
    "df_cm['FN_entries_eng'] = df_cm.apply(lambda x: Common(x[\"Eng_Label\"], x[col_name_op]), axis = 1)"
   ]
  },
  {
   "cell_type": "code",
   "execution_count": 41,
   "metadata": {},
   "outputs": [
    {
     "data": {
      "text/html": [
       "<div>\n",
       "<style scoped>\n",
       "    .dataframe tbody tr th:only-of-type {\n",
       "        vertical-align: middle;\n",
       "    }\n",
       "\n",
       "    .dataframe tbody tr th {\n",
       "        vertical-align: top;\n",
       "    }\n",
       "\n",
       "    .dataframe thead th {\n",
       "        text-align: right;\n",
       "    }\n",
       "</style>\n",
       "<table border=\"1\" class=\"dataframe\">\n",
       "  <thead>\n",
       "    <tr style=\"text-align: right;\">\n",
       "      <th></th>\n",
       "      <th>id</th>\n",
       "      <th>summaries</th>\n",
       "      <th>exact_matched_patt_contextual</th>\n",
       "      <th>BERT_Tags</th>\n",
       "      <th>Eng_Label</th>\n",
       "      <th>FP_entries_eng</th>\n",
       "      <th>TP_entries_eng</th>\n",
       "      <th>FN_entries_eng</th>\n",
       "    </tr>\n",
       "  </thead>\n",
       "  <tbody>\n",
       "    <tr>\n",
       "      <th>0</th>\n",
       "      <td>zun1u5pEP6XGEgB8NnH5Cw_0000</td>\n",
       "      <td>after teaching at hogeschool rotterdam i foun...</td>\n",
       "      <td>[adobe]</td>\n",
       "      <td>[]</td>\n",
       "      <td>[adobe]</td>\n",
       "      <td>[]</td>\n",
       "      <td>[]</td>\n",
       "      <td>[adobe]</td>\n",
       "    </tr>\n",
       "    <tr>\n",
       "      <th>1</th>\n",
       "      <td>zoxTMxOfZsWUN1PQnYNdWA_0000</td>\n",
       "      <td>i work and play at the intersection of busine...</td>\n",
       "      <td>[gmail]</td>\n",
       "      <td>[]</td>\n",
       "      <td>[]</td>\n",
       "      <td>[]</td>\n",
       "      <td>[]</td>\n",
       "      <td>[]</td>\n",
       "    </tr>\n",
       "    <tr>\n",
       "      <th>2</th>\n",
       "      <td>zhYBF2y27LTSykBxobls2Q_0000</td>\n",
       "      <td>i am a clientfacing interior designer project ...</td>\n",
       "      <td>[crd]</td>\n",
       "      <td>[]</td>\n",
       "      <td>[]</td>\n",
       "      <td>[]</td>\n",
       "      <td>[]</td>\n",
       "      <td>[]</td>\n",
       "    </tr>\n",
       "    <tr>\n",
       "      <th>3</th>\n",
       "      <td>zYOI4JmmTDiT023cU9g7XA_0000</td>\n",
       "      <td>having spent 8 months in 2011 working with dan...</td>\n",
       "      <td>[rsm]</td>\n",
       "      <td>[]</td>\n",
       "      <td>[]</td>\n",
       "      <td>[]</td>\n",
       "      <td>[]</td>\n",
       "      <td>[]</td>\n",
       "    </tr>\n",
       "    <tr>\n",
       "      <th>4</th>\n",
       "      <td>zLkOjHFJxHyyLnDgBCBYgg_0000</td>\n",
       "      <td>years of helping clients both as a consultant...</td>\n",
       "      <td>[azure]</td>\n",
       "      <td>[azure]</td>\n",
       "      <td>[azure]</td>\n",
       "      <td>[]</td>\n",
       "      <td>[azure]</td>\n",
       "      <td>[]</td>\n",
       "    </tr>\n",
       "    <tr>\n",
       "      <th>5</th>\n",
       "      <td>zFG4JjhB6Rd6U7RzNXFBFA_0000</td>\n",
       "      <td>we are experts in lateral hiring for small mi...</td>\n",
       "      <td>[cascade]</td>\n",
       "      <td>[]</td>\n",
       "      <td>[cascade]</td>\n",
       "      <td>[]</td>\n",
       "      <td>[]</td>\n",
       "      <td>[cascade]</td>\n",
       "    </tr>\n",
       "    <tr>\n",
       "      <th>6</th>\n",
       "      <td>yspXP4StzHCTTRBVpKP2PA_0000</td>\n",
       "      <td>clover patch australia provide highly competi...</td>\n",
       "      <td>[clover]</td>\n",
       "      <td>[clover]</td>\n",
       "      <td>[clover]</td>\n",
       "      <td>[]</td>\n",
       "      <td>[clover]</td>\n",
       "      <td>[]</td>\n",
       "    </tr>\n",
       "    <tr>\n",
       "      <th>7</th>\n",
       "      <td>yez8nRSNcKDmp0Ho6PtK-A_0000</td>\n",
       "      <td>visionary bizdev leader with passion for crea...</td>\n",
       "      <td>[perl]</td>\n",
       "      <td>[]</td>\n",
       "      <td>[]</td>\n",
       "      <td>[]</td>\n",
       "      <td>[]</td>\n",
       "      <td>[]</td>\n",
       "    </tr>\n",
       "    <tr>\n",
       "      <th>8</th>\n",
       "      <td>yPTGFhq7MTXI4RuVTZiggQ_0000</td>\n",
       "      <td>an experienced driven collaborative informati...</td>\n",
       "      <td>[dell]</td>\n",
       "      <td>[dell]</td>\n",
       "      <td>[dell]</td>\n",
       "      <td>[]</td>\n",
       "      <td>[dell]</td>\n",
       "      <td>[]</td>\n",
       "    </tr>\n",
       "    <tr>\n",
       "      <th>9</th>\n",
       "      <td>yK5vFh3gxPOn1qbNXn-Wwg_0000</td>\n",
       "      <td>an accomplished it senior management professi...</td>\n",
       "      <td>[lob]</td>\n",
       "      <td>[]</td>\n",
       "      <td>[lob]</td>\n",
       "      <td>[]</td>\n",
       "      <td>[]</td>\n",
       "      <td>[lob]</td>\n",
       "    </tr>\n",
       "    <tr>\n",
       "      <th>10</th>\n",
       "      <td>yE4o0ac4Cnt7Ds5Stqdpww_0000</td>\n",
       "      <td>solutiondriven event and technology professio...</td>\n",
       "      <td>[spotme]</td>\n",
       "      <td>[]</td>\n",
       "      <td>[]</td>\n",
       "      <td>[]</td>\n",
       "      <td>[]</td>\n",
       "      <td>[]</td>\n",
       "    </tr>\n",
       "    <tr>\n",
       "      <th>11</th>\n",
       "      <td>yAeHU59lpgfYP-Bw2m4QCA_0000</td>\n",
       "      <td>rolesresponsibilities n technical decision ma...</td>\n",
       "      <td>[intel]</td>\n",
       "      <td>[]</td>\n",
       "      <td>[]</td>\n",
       "      <td>[]</td>\n",
       "      <td>[]</td>\n",
       "      <td>[]</td>\n",
       "    </tr>\n",
       "    <tr>\n",
       "      <th>12</th>\n",
       "      <td>y5bQeae6k50CMDDSRBE-sA_0000</td>\n",
       "      <td>it leader technologist with 19 years of broad...</td>\n",
       "      <td>[azure]</td>\n",
       "      <td>[azure]</td>\n",
       "      <td>[azure]</td>\n",
       "      <td>[]</td>\n",
       "      <td>[azure]</td>\n",
       "      <td>[]</td>\n",
       "    </tr>\n",
       "    <tr>\n",
       "      <th>13</th>\n",
       "      <td>y1QxVM1ekRcOX9VN70mm3A_0000</td>\n",
       "      <td>i am currently a thirdyear environmental engi...</td>\n",
       "      <td>[matlab]</td>\n",
       "      <td>[]</td>\n",
       "      <td>[]</td>\n",
       "      <td>[]</td>\n",
       "      <td>[]</td>\n",
       "      <td>[]</td>\n",
       "    </tr>\n",
       "    <tr>\n",
       "      <th>14</th>\n",
       "      <td>xqRMW2s18Ph9ZsbQZSeYVA_0000</td>\n",
       "      <td>im a resultsdriven enterprise marketing profe...</td>\n",
       "      <td>[dell]</td>\n",
       "      <td>[dell]</td>\n",
       "      <td>[dell]</td>\n",
       "      <td>[]</td>\n",
       "      <td>[dell]</td>\n",
       "      <td>[]</td>\n",
       "    </tr>\n",
       "  </tbody>\n",
       "</table>\n",
       "</div>"
      ],
      "text/plain": [
       "                             id  \\\n",
       "0   zun1u5pEP6XGEgB8NnH5Cw_0000   \n",
       "1   zoxTMxOfZsWUN1PQnYNdWA_0000   \n",
       "2   zhYBF2y27LTSykBxobls2Q_0000   \n",
       "3   zYOI4JmmTDiT023cU9g7XA_0000   \n",
       "4   zLkOjHFJxHyyLnDgBCBYgg_0000   \n",
       "5   zFG4JjhB6Rd6U7RzNXFBFA_0000   \n",
       "6   yspXP4StzHCTTRBVpKP2PA_0000   \n",
       "7   yez8nRSNcKDmp0Ho6PtK-A_0000   \n",
       "8   yPTGFhq7MTXI4RuVTZiggQ_0000   \n",
       "9   yK5vFh3gxPOn1qbNXn-Wwg_0000   \n",
       "10  yE4o0ac4Cnt7Ds5Stqdpww_0000   \n",
       "11  yAeHU59lpgfYP-Bw2m4QCA_0000   \n",
       "12  y5bQeae6k50CMDDSRBE-sA_0000   \n",
       "13  y1QxVM1ekRcOX9VN70mm3A_0000   \n",
       "14  xqRMW2s18Ph9ZsbQZSeYVA_0000   \n",
       "\n",
       "                                            summaries  \\\n",
       "0    after teaching at hogeschool rotterdam i foun...   \n",
       "1    i work and play at the intersection of busine...   \n",
       "2   i am a clientfacing interior designer project ...   \n",
       "3   having spent 8 months in 2011 working with dan...   \n",
       "4    years of helping clients both as a consultant...   \n",
       "5    we are experts in lateral hiring for small mi...   \n",
       "6    clover patch australia provide highly competi...   \n",
       "7    visionary bizdev leader with passion for crea...   \n",
       "8    an experienced driven collaborative informati...   \n",
       "9    an accomplished it senior management professi...   \n",
       "10   solutiondriven event and technology professio...   \n",
       "11   rolesresponsibilities n technical decision ma...   \n",
       "12   it leader technologist with 19 years of broad...   \n",
       "13   i am currently a thirdyear environmental engi...   \n",
       "14   im a resultsdriven enterprise marketing profe...   \n",
       "\n",
       "   exact_matched_patt_contextual BERT_Tags  Eng_Label FP_entries_eng  \\\n",
       "0                        [adobe]        []    [adobe]             []   \n",
       "1                        [gmail]        []         []             []   \n",
       "2                          [crd]        []         []             []   \n",
       "3                          [rsm]        []         []             []   \n",
       "4                        [azure]   [azure]    [azure]             []   \n",
       "5                      [cascade]        []  [cascade]             []   \n",
       "6                       [clover]  [clover]   [clover]             []   \n",
       "7                         [perl]        []         []             []   \n",
       "8                         [dell]    [dell]     [dell]             []   \n",
       "9                          [lob]        []      [lob]             []   \n",
       "10                      [spotme]        []         []             []   \n",
       "11                       [intel]        []         []             []   \n",
       "12                       [azure]   [azure]    [azure]             []   \n",
       "13                      [matlab]        []         []             []   \n",
       "14                        [dell]    [dell]     [dell]             []   \n",
       "\n",
       "   TP_entries_eng FN_entries_eng  \n",
       "0              []        [adobe]  \n",
       "1              []             []  \n",
       "2              []             []  \n",
       "3              []             []  \n",
       "4         [azure]             []  \n",
       "5              []      [cascade]  \n",
       "6        [clover]             []  \n",
       "7              []             []  \n",
       "8          [dell]             []  \n",
       "9              []          [lob]  \n",
       "10             []             []  \n",
       "11             []             []  \n",
       "12        [azure]             []  \n",
       "13             []             []  \n",
       "14         [dell]             []  "
      ]
     },
     "execution_count": 41,
     "metadata": {},
     "output_type": "execute_result"
    }
   ],
   "source": [
    "df_cm.head(15)"
   ]
  },
  {
   "cell_type": "code",
   "execution_count": 42,
   "metadata": {},
   "outputs": [],
   "source": [
    "# df_cm.to_csv(\"bert_eng_accuracy_M1_with_entries.csv\", index = False)"
   ]
  },
  {
   "cell_type": "code",
   "execution_count": 43,
   "metadata": {
    "id": "iktQD7-SL4cA"
   },
   "outputs": [],
   "source": [
    "def get_TP(df,manual_tagged_string,op_string):\n",
    "    \n",
    "    for ind in df.index:\n",
    "        TP = FP = 0\n",
    "        \n",
    "        for i in range(0, len(df[op_string][ind])):\n",
    "            \n",
    "            if df[op_string][ind][i] in df[manual_tagged_string][ind]:\n",
    "                TP = TP + 1\n",
    "                \n",
    "            else:\n",
    "                pass\n",
    "                \n",
    "        tp.append(TP)\n",
    "\n",
    "    return tp"
   ]
  },
  {
   "cell_type": "code",
   "execution_count": 44,
   "metadata": {},
   "outputs": [],
   "source": [
    "fp_entry =[]\n",
    "# fn_entry = []"
   ]
  },
  {
   "cell_type": "code",
   "execution_count": 45,
   "metadata": {
    "id": "5zJ2Qy8pL4cA"
   },
   "outputs": [],
   "source": [
    "# import numpy as np\n",
    "# list_1 = [\"a\", \"b\", \"c\", \"d\", \"e\"]\n",
    "# list_2 = [\"a\", \"f\", \"c\", \"m\"] \n",
    "# # yields the elements in `list_2` that are NOT in `list_1`\n",
    "# main_list = np.setdiff1d(list_2,list_1)\n",
    "# yields the elements in `list_2` that are NOT in `list_1`\n",
    "\n",
    "\n",
    "\n",
    "def get_FP(df,manual_tagged_string, op_string):\n",
    "    \n",
    "    for ind in df.index:\n",
    "        main_list = np.setdiff1d(df[op_string][ind],df[manual_tagged_string][ind])\n",
    "        fp.append(len(main_list))\n",
    "        fp_entry.append(main_list)\n",
    "        \n",
    "        \n",
    "    return fp, fp_entry"
   ]
  },
  {
   "cell_type": "code",
   "execution_count": 46,
   "metadata": {
    "id": "BMn9F9K2L4cA"
   },
   "outputs": [],
   "source": [
    "# ORIGINAL\n",
    "# def get_FN(df,manual_tagged_string, op_string):\n",
    "    \n",
    "#     for ind in df.index:\n",
    "        \n",
    "#         main_list = np.setdiff1d(df[manual_tagged_string][ind], df[op_string][ind])\n",
    "#         fn.append(len(main_list))\n",
    "        \n",
    "#     return fn"
   ]
  },
  {
   "cell_type": "code",
   "execution_count": 47,
   "metadata": {},
   "outputs": [],
   "source": [
    "def get_FN(df,manual_tagged_string, op_string):\n",
    "    \n",
    "    for ind in df.index:\n",
    "        \n",
    "        main_list = np.setdiff1d(df[manual_tagged_string][ind], df[op_string][ind])\n",
    "        if df[manual_tagged_string][ind]=='[]':\n",
    "            fn.append(0)\n",
    "        else:\n",
    "            fn.append(len(main_list))\n",
    "        \n",
    "    return fn"
   ]
  },
  {
   "cell_type": "code",
   "execution_count": 48,
   "metadata": {},
   "outputs": [],
   "source": [
    "# entry like Empty|list of technology output\n"
   ]
  },
  {
   "cell_type": "code",
   "execution_count": 49,
   "metadata": {},
   "outputs": [],
   "source": [
    "# def get_FN(df,manual_tagged_string, op_string):\n",
    "    \n",
    "#     for ind in df.index:\n",
    "        \n",
    "#         main_list = np.setdiff1d(df[manual_tagged_string][ind], df[op_string][ind])\n",
    "#         if (manual_tagged_string[ind] == \"[]\"or manual_tagged_string[ind] == \"\"):\n",
    "#             fn.append(0)\n",
    "#         else:\n",
    "#             fn.append(len(main_list))\n",
    "        \n",
    "#     return fn"
   ]
  },
  {
   "cell_type": "code",
   "execution_count": 50,
   "metadata": {
    "id": "jq8qjL0lL4cA"
   },
   "outputs": [],
   "source": [
    "# function call\n",
    "tp = get_TP(df_cm, \"Eng_Label\", col_name_op)\n",
    "fp, fp_entry_names = get_FP(df_cm, \"Eng_Label\", col_name_op)\n",
    "fn = get_FN(df_cm, \"Eng_Label\", col_name_op)\n",
    "\n",
    "# tp = get_TP(df_cm, \"Tech_Label\", col_name_op)\n",
    "# fp, fp_entry_names = get_FP(df_cm, \"Tech_Label\", col_name_op)\n",
    "# fn = get_FN(df_cm, \"Tech_Label\", col_name_op)\n",
    "\n",
    "\n",
    "# tp = get_TP(df_cm, \"Technology\", col_name_op)\n",
    "# fp = get_FP(df_cm, \"Technology\", col_name_op)\n",
    "# fn = get_FN(df_cm, \"Technology\", col_name_op)"
   ]
  },
  {
   "cell_type": "code",
   "execution_count": 51,
   "metadata": {},
   "outputs": [],
   "source": [
    "# tp"
   ]
  },
  {
   "cell_type": "code",
   "execution_count": 52,
   "metadata": {
    "colab": {
     "base_uri": "https://localhost:8080/"
    },
    "id": "pK2mL9yOL4cB",
    "outputId": "020334f1-19f7-4300-d4e6-12a3476dcf1f"
   },
   "outputs": [
    {
     "name": "stdout",
     "output_type": "stream",
     "text": [
      "500 500 500\n"
     ]
    }
   ],
   "source": [
    "print(len(tp), len(fp), len(fn))"
   ]
  },
  {
   "cell_type": "code",
   "execution_count": 53,
   "metadata": {},
   "outputs": [
    {
     "data": {
      "text/plain": [
       "500"
      ]
     },
     "execution_count": 53,
     "metadata": {},
     "output_type": "execute_result"
    }
   ],
   "source": [
    "len(fp_entry_names)"
   ]
  },
  {
   "cell_type": "code",
   "execution_count": 54,
   "metadata": {},
   "outputs": [
    {
     "data": {
      "text/plain": [
       "list"
      ]
     },
     "execution_count": 54,
     "metadata": {},
     "output_type": "execute_result"
    }
   ],
   "source": [
    "type(fp_entry_names)"
   ]
  },
  {
   "cell_type": "code",
   "execution_count": 55,
   "metadata": {},
   "outputs": [],
   "source": [
    "dict_fp = {}"
   ]
  },
  {
   "cell_type": "code",
   "execution_count": 56,
   "metadata": {},
   "outputs": [],
   "source": [
    "for i in range(0, len(fp_entry_names)):\n",
    "    fp_entry_names[i] = fp_entry_names[i].tolist()\n",
    "    dict_fp[i] = fp_entry_names[i]"
   ]
  },
  {
   "cell_type": "code",
   "execution_count": 57,
   "metadata": {},
   "outputs": [],
   "source": [
    "# dict_fp"
   ]
  },
  {
   "cell_type": "code",
   "execution_count": 58,
   "metadata": {},
   "outputs": [],
   "source": [
    "# for i in range(0, len(fn_entry_names)):\n",
    "# #     fn_entry_names[i] = fn_entry_names[i].tolist()\n",
    "#     dict_fn[i] = fn_entry_names[i]"
   ]
  },
  {
   "cell_type": "code",
   "execution_count": 59,
   "metadata": {},
   "outputs": [],
   "source": [
    "# dict_fn"
   ]
  },
  {
   "cell_type": "code",
   "execution_count": 60,
   "metadata": {},
   "outputs": [],
   "source": [
    "# len(dict_fp)"
   ]
  },
  {
   "cell_type": "code",
   "execution_count": 61,
   "metadata": {},
   "outputs": [],
   "source": [
    "# df_fp = pd.DataFrame(dict_fp.items(), columns=['index', 'FP_entries_string'])\n",
    "# df_fn = pd.DataFrame(dict_fp.items(), columns=['index', 'FN_entries_combined'])"
   ]
  },
  {
   "cell_type": "code",
   "execution_count": 62,
   "metadata": {},
   "outputs": [],
   "source": [
    "# len(df_fp)"
   ]
  },
  {
   "cell_type": "code",
   "execution_count": 63,
   "metadata": {},
   "outputs": [],
   "source": [
    "# df_fp_fn = pd.concat([df_fp, df_cm], axis = 1)"
   ]
  },
  {
   "cell_type": "code",
   "execution_count": 64,
   "metadata": {},
   "outputs": [],
   "source": [
    "# df_fp_fn.head()"
   ]
  },
  {
   "cell_type": "code",
   "execution_count": 65,
   "metadata": {},
   "outputs": [],
   "source": [
    "# df_fp_fn.to_csv(\"FP_combined.csv\", index = False)"
   ]
  },
  {
   "cell_type": "code",
   "execution_count": 66,
   "metadata": {
    "colab": {
     "base_uri": "https://localhost:8080/",
     "height": 419
    },
    "id": "mJJ4g_rxL4cB",
    "outputId": "77b2e10f-c14c-40de-c8fb-0727ba08fca5"
   },
   "outputs": [
    {
     "data": {
      "text/html": [
       "<div>\n",
       "<style scoped>\n",
       "    .dataframe tbody tr th:only-of-type {\n",
       "        vertical-align: middle;\n",
       "    }\n",
       "\n",
       "    .dataframe tbody tr th {\n",
       "        vertical-align: top;\n",
       "    }\n",
       "\n",
       "    .dataframe thead th {\n",
       "        text-align: right;\n",
       "    }\n",
       "</style>\n",
       "<table border=\"1\" class=\"dataframe\">\n",
       "  <thead>\n",
       "    <tr style=\"text-align: right;\">\n",
       "      <th></th>\n",
       "      <th>TP</th>\n",
       "      <th>FP</th>\n",
       "      <th>FN</th>\n",
       "    </tr>\n",
       "  </thead>\n",
       "  <tbody>\n",
       "    <tr>\n",
       "      <th>0</th>\n",
       "      <td>0</td>\n",
       "      <td>0</td>\n",
       "      <td>1</td>\n",
       "    </tr>\n",
       "    <tr>\n",
       "      <th>1</th>\n",
       "      <td>0</td>\n",
       "      <td>0</td>\n",
       "      <td>0</td>\n",
       "    </tr>\n",
       "    <tr>\n",
       "      <th>2</th>\n",
       "      <td>0</td>\n",
       "      <td>0</td>\n",
       "      <td>0</td>\n",
       "    </tr>\n",
       "    <tr>\n",
       "      <th>3</th>\n",
       "      <td>0</td>\n",
       "      <td>0</td>\n",
       "      <td>0</td>\n",
       "    </tr>\n",
       "    <tr>\n",
       "      <th>4</th>\n",
       "      <td>1</td>\n",
       "      <td>0</td>\n",
       "      <td>0</td>\n",
       "    </tr>\n",
       "    <tr>\n",
       "      <th>5</th>\n",
       "      <td>0</td>\n",
       "      <td>0</td>\n",
       "      <td>1</td>\n",
       "    </tr>\n",
       "    <tr>\n",
       "      <th>6</th>\n",
       "      <td>1</td>\n",
       "      <td>0</td>\n",
       "      <td>0</td>\n",
       "    </tr>\n",
       "    <tr>\n",
       "      <th>7</th>\n",
       "      <td>0</td>\n",
       "      <td>0</td>\n",
       "      <td>0</td>\n",
       "    </tr>\n",
       "    <tr>\n",
       "      <th>8</th>\n",
       "      <td>1</td>\n",
       "      <td>0</td>\n",
       "      <td>0</td>\n",
       "    </tr>\n",
       "    <tr>\n",
       "      <th>9</th>\n",
       "      <td>0</td>\n",
       "      <td>0</td>\n",
       "      <td>1</td>\n",
       "    </tr>\n",
       "    <tr>\n",
       "      <th>10</th>\n",
       "      <td>0</td>\n",
       "      <td>0</td>\n",
       "      <td>0</td>\n",
       "    </tr>\n",
       "    <tr>\n",
       "      <th>11</th>\n",
       "      <td>0</td>\n",
       "      <td>0</td>\n",
       "      <td>0</td>\n",
       "    </tr>\n",
       "    <tr>\n",
       "      <th>12</th>\n",
       "      <td>1</td>\n",
       "      <td>0</td>\n",
       "      <td>0</td>\n",
       "    </tr>\n",
       "    <tr>\n",
       "      <th>13</th>\n",
       "      <td>0</td>\n",
       "      <td>0</td>\n",
       "      <td>0</td>\n",
       "    </tr>\n",
       "    <tr>\n",
       "      <th>14</th>\n",
       "      <td>1</td>\n",
       "      <td>0</td>\n",
       "      <td>0</td>\n",
       "    </tr>\n",
       "    <tr>\n",
       "      <th>15</th>\n",
       "      <td>0</td>\n",
       "      <td>0</td>\n",
       "      <td>0</td>\n",
       "    </tr>\n",
       "    <tr>\n",
       "      <th>16</th>\n",
       "      <td>0</td>\n",
       "      <td>0</td>\n",
       "      <td>1</td>\n",
       "    </tr>\n",
       "    <tr>\n",
       "      <th>17</th>\n",
       "      <td>0</td>\n",
       "      <td>0</td>\n",
       "      <td>0</td>\n",
       "    </tr>\n",
       "    <tr>\n",
       "      <th>18</th>\n",
       "      <td>1</td>\n",
       "      <td>0</td>\n",
       "      <td>0</td>\n",
       "    </tr>\n",
       "    <tr>\n",
       "      <th>19</th>\n",
       "      <td>0</td>\n",
       "      <td>0</td>\n",
       "      <td>1</td>\n",
       "    </tr>\n",
       "    <tr>\n",
       "      <th>20</th>\n",
       "      <td>1</td>\n",
       "      <td>0</td>\n",
       "      <td>0</td>\n",
       "    </tr>\n",
       "    <tr>\n",
       "      <th>21</th>\n",
       "      <td>1</td>\n",
       "      <td>0</td>\n",
       "      <td>0</td>\n",
       "    </tr>\n",
       "    <tr>\n",
       "      <th>22</th>\n",
       "      <td>1</td>\n",
       "      <td>0</td>\n",
       "      <td>0</td>\n",
       "    </tr>\n",
       "    <tr>\n",
       "      <th>23</th>\n",
       "      <td>0</td>\n",
       "      <td>0</td>\n",
       "      <td>0</td>\n",
       "    </tr>\n",
       "    <tr>\n",
       "      <th>24</th>\n",
       "      <td>0</td>\n",
       "      <td>0</td>\n",
       "      <td>0</td>\n",
       "    </tr>\n",
       "    <tr>\n",
       "      <th>25</th>\n",
       "      <td>0</td>\n",
       "      <td>0</td>\n",
       "      <td>0</td>\n",
       "    </tr>\n",
       "    <tr>\n",
       "      <th>26</th>\n",
       "      <td>0</td>\n",
       "      <td>0</td>\n",
       "      <td>0</td>\n",
       "    </tr>\n",
       "    <tr>\n",
       "      <th>27</th>\n",
       "      <td>0</td>\n",
       "      <td>0</td>\n",
       "      <td>0</td>\n",
       "    </tr>\n",
       "    <tr>\n",
       "      <th>28</th>\n",
       "      <td>0</td>\n",
       "      <td>0</td>\n",
       "      <td>0</td>\n",
       "    </tr>\n",
       "    <tr>\n",
       "      <th>29</th>\n",
       "      <td>1</td>\n",
       "      <td>0</td>\n",
       "      <td>0</td>\n",
       "    </tr>\n",
       "    <tr>\n",
       "      <th>...</th>\n",
       "      <td>...</td>\n",
       "      <td>...</td>\n",
       "      <td>...</td>\n",
       "    </tr>\n",
       "    <tr>\n",
       "      <th>469</th>\n",
       "      <td>0</td>\n",
       "      <td>0</td>\n",
       "      <td>0</td>\n",
       "    </tr>\n",
       "    <tr>\n",
       "      <th>470</th>\n",
       "      <td>0</td>\n",
       "      <td>0</td>\n",
       "      <td>0</td>\n",
       "    </tr>\n",
       "    <tr>\n",
       "      <th>471</th>\n",
       "      <td>0</td>\n",
       "      <td>0</td>\n",
       "      <td>0</td>\n",
       "    </tr>\n",
       "    <tr>\n",
       "      <th>472</th>\n",
       "      <td>0</td>\n",
       "      <td>0</td>\n",
       "      <td>1</td>\n",
       "    </tr>\n",
       "    <tr>\n",
       "      <th>473</th>\n",
       "      <td>0</td>\n",
       "      <td>0</td>\n",
       "      <td>0</td>\n",
       "    </tr>\n",
       "    <tr>\n",
       "      <th>474</th>\n",
       "      <td>0</td>\n",
       "      <td>0</td>\n",
       "      <td>0</td>\n",
       "    </tr>\n",
       "    <tr>\n",
       "      <th>475</th>\n",
       "      <td>0</td>\n",
       "      <td>0</td>\n",
       "      <td>1</td>\n",
       "    </tr>\n",
       "    <tr>\n",
       "      <th>476</th>\n",
       "      <td>0</td>\n",
       "      <td>0</td>\n",
       "      <td>0</td>\n",
       "    </tr>\n",
       "    <tr>\n",
       "      <th>477</th>\n",
       "      <td>1</td>\n",
       "      <td>0</td>\n",
       "      <td>0</td>\n",
       "    </tr>\n",
       "    <tr>\n",
       "      <th>478</th>\n",
       "      <td>0</td>\n",
       "      <td>0</td>\n",
       "      <td>0</td>\n",
       "    </tr>\n",
       "    <tr>\n",
       "      <th>479</th>\n",
       "      <td>1</td>\n",
       "      <td>0</td>\n",
       "      <td>0</td>\n",
       "    </tr>\n",
       "    <tr>\n",
       "      <th>480</th>\n",
       "      <td>1</td>\n",
       "      <td>0</td>\n",
       "      <td>0</td>\n",
       "    </tr>\n",
       "    <tr>\n",
       "      <th>481</th>\n",
       "      <td>0</td>\n",
       "      <td>0</td>\n",
       "      <td>0</td>\n",
       "    </tr>\n",
       "    <tr>\n",
       "      <th>482</th>\n",
       "      <td>1</td>\n",
       "      <td>0</td>\n",
       "      <td>0</td>\n",
       "    </tr>\n",
       "    <tr>\n",
       "      <th>483</th>\n",
       "      <td>0</td>\n",
       "      <td>0</td>\n",
       "      <td>0</td>\n",
       "    </tr>\n",
       "    <tr>\n",
       "      <th>484</th>\n",
       "      <td>0</td>\n",
       "      <td>0</td>\n",
       "      <td>0</td>\n",
       "    </tr>\n",
       "    <tr>\n",
       "      <th>485</th>\n",
       "      <td>0</td>\n",
       "      <td>0</td>\n",
       "      <td>0</td>\n",
       "    </tr>\n",
       "    <tr>\n",
       "      <th>486</th>\n",
       "      <td>0</td>\n",
       "      <td>1</td>\n",
       "      <td>0</td>\n",
       "    </tr>\n",
       "    <tr>\n",
       "      <th>487</th>\n",
       "      <td>0</td>\n",
       "      <td>0</td>\n",
       "      <td>0</td>\n",
       "    </tr>\n",
       "    <tr>\n",
       "      <th>488</th>\n",
       "      <td>0</td>\n",
       "      <td>0</td>\n",
       "      <td>1</td>\n",
       "    </tr>\n",
       "    <tr>\n",
       "      <th>489</th>\n",
       "      <td>0</td>\n",
       "      <td>0</td>\n",
       "      <td>0</td>\n",
       "    </tr>\n",
       "    <tr>\n",
       "      <th>490</th>\n",
       "      <td>0</td>\n",
       "      <td>0</td>\n",
       "      <td>0</td>\n",
       "    </tr>\n",
       "    <tr>\n",
       "      <th>491</th>\n",
       "      <td>1</td>\n",
       "      <td>1</td>\n",
       "      <td>0</td>\n",
       "    </tr>\n",
       "    <tr>\n",
       "      <th>492</th>\n",
       "      <td>0</td>\n",
       "      <td>0</td>\n",
       "      <td>0</td>\n",
       "    </tr>\n",
       "    <tr>\n",
       "      <th>493</th>\n",
       "      <td>0</td>\n",
       "      <td>0</td>\n",
       "      <td>0</td>\n",
       "    </tr>\n",
       "    <tr>\n",
       "      <th>494</th>\n",
       "      <td>1</td>\n",
       "      <td>0</td>\n",
       "      <td>0</td>\n",
       "    </tr>\n",
       "    <tr>\n",
       "      <th>495</th>\n",
       "      <td>0</td>\n",
       "      <td>0</td>\n",
       "      <td>0</td>\n",
       "    </tr>\n",
       "    <tr>\n",
       "      <th>496</th>\n",
       "      <td>0</td>\n",
       "      <td>0</td>\n",
       "      <td>0</td>\n",
       "    </tr>\n",
       "    <tr>\n",
       "      <th>497</th>\n",
       "      <td>0</td>\n",
       "      <td>0</td>\n",
       "      <td>0</td>\n",
       "    </tr>\n",
       "    <tr>\n",
       "      <th>498</th>\n",
       "      <td>0</td>\n",
       "      <td>0</td>\n",
       "      <td>0</td>\n",
       "    </tr>\n",
       "  </tbody>\n",
       "</table>\n",
       "<p>499 rows × 3 columns</p>\n",
       "</div>"
      ],
      "text/plain": [
       "     TP  FP  FN\n",
       "0     0   0   1\n",
       "1     0   0   0\n",
       "2     0   0   0\n",
       "3     0   0   0\n",
       "4     1   0   0\n",
       "5     0   0   1\n",
       "6     1   0   0\n",
       "7     0   0   0\n",
       "8     1   0   0\n",
       "9     0   0   1\n",
       "10    0   0   0\n",
       "11    0   0   0\n",
       "12    1   0   0\n",
       "13    0   0   0\n",
       "14    1   0   0\n",
       "15    0   0   0\n",
       "16    0   0   1\n",
       "17    0   0   0\n",
       "18    1   0   0\n",
       "19    0   0   1\n",
       "20    1   0   0\n",
       "21    1   0   0\n",
       "22    1   0   0\n",
       "23    0   0   0\n",
       "24    0   0   0\n",
       "25    0   0   0\n",
       "26    0   0   0\n",
       "27    0   0   0\n",
       "28    0   0   0\n",
       "29    1   0   0\n",
       "..   ..  ..  ..\n",
       "469   0   0   0\n",
       "470   0   0   0\n",
       "471   0   0   0\n",
       "472   0   0   1\n",
       "473   0   0   0\n",
       "474   0   0   0\n",
       "475   0   0   1\n",
       "476   0   0   0\n",
       "477   1   0   0\n",
       "478   0   0   0\n",
       "479   1   0   0\n",
       "480   1   0   0\n",
       "481   0   0   0\n",
       "482   1   0   0\n",
       "483   0   0   0\n",
       "484   0   0   0\n",
       "485   0   0   0\n",
       "486   0   1   0\n",
       "487   0   0   0\n",
       "488   0   0   1\n",
       "489   0   0   0\n",
       "490   0   0   0\n",
       "491   1   1   0\n",
       "492   0   0   0\n",
       "493   0   0   0\n",
       "494   1   0   0\n",
       "495   0   0   0\n",
       "496   0   0   0\n",
       "497   0   0   0\n",
       "498   0   0   0\n",
       "\n",
       "[499 rows x 3 columns]"
      ]
     },
     "execution_count": 66,
     "metadata": {},
     "output_type": "execute_result"
    }
   ],
   "source": [
    "# creating a dataframe\n",
    "df_matrix = pd.DataFrame(list(zip(tp, fp, fn)), \n",
    "               columns =['TP', 'FP', \"FN\"])\n",
    "df_matrix.head(-1)"
   ]
  },
  {
   "cell_type": "code",
   "execution_count": 67,
   "metadata": {
    "id": "v2EqX-TlL4cB"
   },
   "outputs": [],
   "source": [
    "def get_precision(tp,fp):\n",
    "    \n",
    "    if tp+fp ==0:\n",
    "        precision = 0\n",
    "    else:\n",
    "        precision = tp/(tp+fp)\n",
    "    \n",
    "    return precision"
   ]
  },
  {
   "cell_type": "code",
   "execution_count": 68,
   "metadata": {
    "id": "QZySAZqbL4cB"
   },
   "outputs": [],
   "source": [
    "def get_recall(tp,fn):\n",
    "    \n",
    "    if tp+fn ==0:\n",
    "        recall = 0\n",
    "    else:\n",
    "        recall = tp/(tp+fn)\n",
    "    \n",
    "    return recall"
   ]
  },
  {
   "cell_type": "code",
   "execution_count": 69,
   "metadata": {
    "id": "GvUg2Wf-L4cC"
   },
   "outputs": [],
   "source": [
    "def get_f_score(precision, recall):\n",
    "    if precision+recall == 0:\n",
    "        f_score = 0\n",
    "    else:\n",
    "        f_score = 2*(precision*recall)/(precision+recall)\n",
    "        \n",
    "    return f_score"
   ]
  },
  {
   "cell_type": "code",
   "execution_count": 70,
   "metadata": {
    "id": "lZ75jArPL4cC"
   },
   "outputs": [],
   "source": [
    "df_matrix['Precision'] = df_matrix.apply(lambda x: get_precision(x[\"TP\"], x[\"FP\"]), axis = 1)"
   ]
  },
  {
   "cell_type": "code",
   "execution_count": 71,
   "metadata": {
    "id": "gI_MseILL4cC"
   },
   "outputs": [],
   "source": [
    "df_matrix[\"Recall\"] = df_matrix.apply(lambda x: get_recall(x[\"TP\"], x[\"FN\"]), axis = 1)"
   ]
  },
  {
   "cell_type": "code",
   "execution_count": 72,
   "metadata": {
    "id": "TvnAn8oNL4cC"
   },
   "outputs": [],
   "source": [
    "df_matrix[\"f_score\"] = df_matrix.apply(lambda x: get_f_score(x[\"Precision\"], x[\"Recall\"]), axis = 1)"
   ]
  },
  {
   "cell_type": "code",
   "execution_count": 73,
   "metadata": {
    "colab": {
     "base_uri": "https://localhost:8080/",
     "height": 204
    },
    "id": "3woo4j7CL4cC",
    "outputId": "a23454ec-d9b1-4620-e995-ddc312348831"
   },
   "outputs": [
    {
     "data": {
      "text/html": [
       "<div>\n",
       "<style scoped>\n",
       "    .dataframe tbody tr th:only-of-type {\n",
       "        vertical-align: middle;\n",
       "    }\n",
       "\n",
       "    .dataframe tbody tr th {\n",
       "        vertical-align: top;\n",
       "    }\n",
       "\n",
       "    .dataframe thead th {\n",
       "        text-align: right;\n",
       "    }\n",
       "</style>\n",
       "<table border=\"1\" class=\"dataframe\">\n",
       "  <thead>\n",
       "    <tr style=\"text-align: right;\">\n",
       "      <th></th>\n",
       "      <th>TP</th>\n",
       "      <th>FP</th>\n",
       "      <th>FN</th>\n",
       "      <th>Precision</th>\n",
       "      <th>Recall</th>\n",
       "      <th>f_score</th>\n",
       "    </tr>\n",
       "  </thead>\n",
       "  <tbody>\n",
       "    <tr>\n",
       "      <th>0</th>\n",
       "      <td>0</td>\n",
       "      <td>0</td>\n",
       "      <td>1</td>\n",
       "      <td>0.0</td>\n",
       "      <td>0.0</td>\n",
       "      <td>0.0</td>\n",
       "    </tr>\n",
       "    <tr>\n",
       "      <th>1</th>\n",
       "      <td>0</td>\n",
       "      <td>0</td>\n",
       "      <td>0</td>\n",
       "      <td>0.0</td>\n",
       "      <td>0.0</td>\n",
       "      <td>0.0</td>\n",
       "    </tr>\n",
       "    <tr>\n",
       "      <th>2</th>\n",
       "      <td>0</td>\n",
       "      <td>0</td>\n",
       "      <td>0</td>\n",
       "      <td>0.0</td>\n",
       "      <td>0.0</td>\n",
       "      <td>0.0</td>\n",
       "    </tr>\n",
       "    <tr>\n",
       "      <th>3</th>\n",
       "      <td>0</td>\n",
       "      <td>0</td>\n",
       "      <td>0</td>\n",
       "      <td>0.0</td>\n",
       "      <td>0.0</td>\n",
       "      <td>0.0</td>\n",
       "    </tr>\n",
       "    <tr>\n",
       "      <th>4</th>\n",
       "      <td>1</td>\n",
       "      <td>0</td>\n",
       "      <td>0</td>\n",
       "      <td>1.0</td>\n",
       "      <td>1.0</td>\n",
       "      <td>1.0</td>\n",
       "    </tr>\n",
       "  </tbody>\n",
       "</table>\n",
       "</div>"
      ],
      "text/plain": [
       "   TP  FP  FN  Precision  Recall  f_score\n",
       "0   0   0   1        0.0     0.0      0.0\n",
       "1   0   0   0        0.0     0.0      0.0\n",
       "2   0   0   0        0.0     0.0      0.0\n",
       "3   0   0   0        0.0     0.0      0.0\n",
       "4   1   0   0        1.0     1.0      1.0"
      ]
     },
     "execution_count": 73,
     "metadata": {},
     "output_type": "execute_result"
    }
   ],
   "source": [
    "df_matrix.head()"
   ]
  },
  {
   "cell_type": "code",
   "execution_count": null,
   "metadata": {
    "id": "wdpYNTxBL4cD"
   },
   "outputs": [],
   "source": [
    "# df_matrix.to_csv(\"Train_Data/Accuracy_Data/Dataset_to_run_on_all/Output/Accuracy_Sheet_ner_en_large_flair_100_tagged.csv\", index = False)\n",
    "# df_matrix.to_csv(\"Train_Data/Accuracy_Data/Dataset_to_run_on_all/Output/Accuracy_Sheet_spacy_adding_more_tags.csv\", index = False)\n",
    "# df_matrix.to_csv(\"Train_Data/Accuracy_Data/Dataset_to_run_on_all/Output/Accuracy_Sheet_String_Match_non_context.csv\", index = False)\n",
    "# df_matrix.to_csv(\"189_BERT_tags_SPACY_TEST_DATA_M1_12_Jun_21.csv\", index = False)\n",
    "\n",
    "# df_matrix.to_csv(\"Train_Data/Accuracy_Data/Dataset_to_run_on_all/Output/Accuracy_Sheet_lg__moreTAGS_tagged_100_more_ENTS.csv\", index = False)\n",
    "# df_matrix.to_csv(\"Train_Data/Accuracy_Data/Dataset_to_run_on_all/Output/Accuracy_Sheet_lg_100_simple_spacy.csv\", index = False)\n"
   ]
  },
  {
   "cell_type": "code",
   "execution_count": 74,
   "metadata": {},
   "outputs": [],
   "source": [
    "final_data = df_cm.join(df_matrix)\n",
    "final_data.to_csv(\"ACC-500_BERT_pred_on_ENG_ROW_WISE.csv\")\n",
    "# final_data.to_csv(\"1190_spacy_pred_tech_match.csv\")"
   ]
  },
  {
   "cell_type": "code",
   "execution_count": null,
   "metadata": {},
   "outputs": [],
   "source": []
  }
 ],
 "metadata": {
  "colab": {
   "name": "(Version3)matrix_code_string_match_generalised_v2.ipynb",
   "provenance": [],
   "toc_visible": true
  },
  "kernelspec": {
   "display_name": "Python 3",
   "language": "python",
   "name": "python3"
  },
  "language_info": {
   "codemirror_mode": {
    "name": "ipython",
    "version": 3
   },
   "file_extension": ".py",
   "mimetype": "text/x-python",
   "name": "python",
   "nbconvert_exporter": "python",
   "pygments_lexer": "ipython3",
   "version": "3.7.3"
  }
 },
 "nbformat": 4,
 "nbformat_minor": 1
}
