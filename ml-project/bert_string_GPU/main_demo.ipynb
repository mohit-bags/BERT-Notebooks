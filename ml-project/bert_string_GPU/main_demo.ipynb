{
 "cells": [
  {
   "cell_type": "markdown",
   "id": "58f29b98",
   "metadata": {},
   "source": [
    "# DEMO !!"
   ]
  },
  {
   "cell_type": "markdown",
   "id": "25906960",
   "metadata": {},
   "source": [
    "Hey Folks !!\n",
    "\n",
    "This a Demo for Technology/Company Extraction from Linkedin Profile Summary (People Summary Data). This can be thought of as an NER task but we have done some preprocessing work also, to make the extractions more refined.\n",
    "\n",
    "#### 1. What Data We have ?\n",
    "\n",
    ">    - Technology Master Sheet (29348 names)\n",
    "    \n",
    ">    - Linkedin Summary Data Sheet\n",
    "    \n",
    "#### 2. Preprocessing ?\n",
    "\n",
    "    - We made 2 Dictionaries on word meanings\n",
    "    \n",
    ">        - English Words Dictionary : This can be a general english word, keyword or company name common\n",
    "         with English Word like python.\n",
    "        \n",
    ">        - Tech Dictionary : Refined Entries which are not in English Dictionary for sure, so have\n",
    "         high chance of being a technology.\n",
    "        \n",
    "        \n",
    "#### 3. Types Of Algorithm Used ?\n",
    "\n",
    ">    - String Match (run on Tech Dictionary)\n",
    "    \n",
    ">    - NER using BERT model (run on English Words, which are confusing to catch)\n",
    "       \n",
    "\n",
    "<b> Remark: </b> - BERT is fine tuned on 2000 samples of tagged data\n",
    "    \n",
    "    \n",
    "\n",
    "<b>This completes a basic level understanding of the demo. Let's Get Started Now !!</b>"
   ]
  },
  {
   "cell_type": "code",
   "execution_count": 1,
   "id": "1e318d84",
   "metadata": {},
   "outputs": [],
   "source": [
    "# importing libraries and anstractions\n",
    "from string_match_pred import BERT_prediction_single_summary as sg\n",
    "import pickle\n",
    "import torch\n",
    "from bert_inference_shubham_copy import bert_pred as bt"
   ]
  },
  {
   "cell_type": "code",
   "execution_count": 2,
   "id": "b6c30bf7",
   "metadata": {},
   "outputs": [],
   "source": [
    "# string match abstraction call\n",
    "def get_string_match_prediction(inp):\n",
    "    \n",
    "    sm = sg(inp)\n",
    "    tech = sm.read_file(\"../dataset/Tech_pydictionary_2.csv\")\n",
    "    remove_list = sm.high_freq_eng_words(\"../dataset/Remove.csv\")\n",
    "    string_match_op = sm.string_match()\n",
    "    \n",
    "    return string_match_op\n",
    "# bert call\n",
    "def get_bert_prediction():\n",
    "    bert_obj = bt()\n",
    "    return bert_obj"
   ]
  },
  {
   "cell_type": "code",
   "execution_count": 3,
   "id": "d2108c95",
   "metadata": {},
   "outputs": [
    {
     "name": "stderr",
     "output_type": "stream",
     "text": [
      "[nltk_data] Downloading package punkt to /home/slintel/nltk_data...\n",
      "[nltk_data]   Package punkt is already up-to-date!\n"
     ]
    }
   ],
   "source": [
    "# Load BERT Model\n",
    "bert_obj = get_bert_prediction()"
   ]
  },
  {
   "cell_type": "markdown",
   "id": "d7a9e4ea",
   "metadata": {},
   "source": [
    "# User can take over now "
   ]
  },
  {
   "cell_type": "markdown",
   "id": "d5a9e9d8",
   "metadata": {},
   "source": [
    "# ----------------------------------------------------------------------------------------------------------------------------------------------------------------------------------------"
   ]
  },
  {
   "cell_type": "code",
   "execution_count": 13,
   "id": "a186d682",
   "metadata": {},
   "outputs": [
    {
     "name": "stdout",
     "output_type": "stream",
     "text": [
      "** Enter your Text here *** \n",
      "\n",
      "['seasoned backend developer. entrepreneur. open source contributor. scalable, highly-available web development: python (django), ruby (rails, sinatra), node.js, go, react js/native, angular, java. web backend scalability and performance tuning: new relic, ruby-prof, cprofile. queue-based solutions: kue, resque/sidekiq, celery, jms, rabbitmq. mobile: swift, objective-c, restkit/afnetworking, coredata, corelocation, gcd, sentestingkit, android studio, play service, retrofit. deep learning: convolutional neural network. test-driven-development: rspec, cucumber, python unittest, junit, jasmine. continuous integration/delivery: travis, jenkins, capistrano, vagrant, git, subversion, rake, maven, ant, buildout, make/gnu make. cloud/container: aws, azure, docker, docker-compose, dcos, kubernetes. devops: mesos, chef, puppet, mcollective, pxe, ipmi, nagios, zabbix. scripting: bash, python, ruby, perl. open source projects that enjoy 200+ stars on github and 100+k downloads on sourceforge., seasoned backend developer and entrepreneur.\\n\\nspecialties: \\nscalable, highly-available web development: java, ruby (rails, sinatra), python (django), node.js.\\nqueue-based solutions: resque/sidekiq, celery, jms, rabbitmq.\\nweb backend performance tuning.\\nios: coredata, corelocation, gcd, restkit/afnetworking, sentestingkit, swift.\\ntest-driven-development: rspec, cucumber, python unittest, junit.\\ncontinuous integration/delivery: jenkins, chef, capistrano, vagrant, git, subversion, rake, maven, ant, buildout, make/gnu make.\\ninfrastructure-as-a-service: openstack nova, aws ec2.\\nplatform-as-a-service: cloudfoundry, heroku, rightscale, enstratus, scalr, juju.\\ncloud storage: hadoop hdfs, aws s3, openstack swift, mongodb.\\nagile methodologies: scrum, fdd (feature-driven-development).\\ndevops: chef, puppet, mcollective, pxe, ipmi, nagios, zabbix.\\nscripting: bash, python, ruby, perl., programmer. entrepreneur at banian labs, pdh - networking/network engineering, pdh - network planner/provisioning, vp engineering at rhumbix']\n"
     ]
    }
   ],
   "source": [
    "print(\"** Enter your Text here *** \\n\")\n",
    "message = input()"
   ]
  },
  {
   "cell_type": "code",
   "execution_count": 14,
   "id": "91929700",
   "metadata": {},
   "outputs": [
    {
     "name": "stdout",
     "output_type": "stream",
     "text": [
      "\n",
      "\n",
      "** Press 1 for getting String Match o/p ***\n",
      "\n",
      " \n",
      "\n",
      "** Press 2 for getting BERT Tags o/p ***\n",
      "\n",
      " \n",
      "\n",
      "** Press 3 for getting Combined Tags o/p ***\n",
      "\n",
      "\n",
      "* You Have Entered *\n",
      "3\n"
     ]
    }
   ],
   "source": [
    "# USER CHOICE\n",
    "print(\"\\n\\n** Press 1 for getting String Match o/p ***\\n\\n\",\"\\n\\n** Press 2 for getting BERT Tags o/p ***\\n\\n\", \"\\n\\n** Press 3 for getting Combined Tags o/p ***\\n\\n\")\n",
    "print(\"* You Have Entered *\")\n",
    "option = input()"
   ]
  },
  {
   "cell_type": "markdown",
   "id": "f72cf068",
   "metadata": {},
   "source": [
    "# NER"
   ]
  },
  {
   "cell_type": "code",
   "execution_count": 15,
   "id": "ce3d17e1",
   "metadata": {},
   "outputs": [
    {
     "name": "stderr",
     "output_type": "stream",
     "text": [
      "2021-07-05 06:17:19.678 INFO    simpletransformers.ner.ner_model:  Converting to features started.\n"
     ]
    },
    {
     "data": {
      "application/vnd.jupyter.widget-view+json": {
       "model_id": "5bc805dc2b6f40d0a6f69654e69875ce",
       "version_major": 2,
       "version_minor": 0
      },
      "text/plain": [
       "HBox(children=(FloatProgress(value=0.0, max=1.0), HTML(value='')))"
      ]
     },
     "metadata": {},
     "output_type": "display_data"
    },
    {
     "name": "stdout",
     "output_type": "stream",
     "text": [
      "\n"
     ]
    },
    {
     "data": {
      "application/vnd.jupyter.widget-view+json": {
       "model_id": "7d1798ef60664c7fac7bd82deb3bdd04",
       "version_major": 2,
       "version_minor": 0
      },
      "text/plain": [
       "HBox(children=(FloatProgress(value=0.0, description='Running Prediction', max=1.0, style=ProgressStyle(descrip…"
      ]
     },
     "metadata": {},
     "output_type": "display_data"
    },
    {
     "name": "stderr",
     "output_type": "stream",
     "text": [
      "2021-07-05 06:17:19.987 INFO    simpletransformers.ner.ner_model:  Converting to features started.\n"
     ]
    },
    {
     "name": "stdout",
     "output_type": "stream",
     "text": [
      "\n"
     ]
    },
    {
     "data": {
      "application/vnd.jupyter.widget-view+json": {
       "model_id": "1ff8bddc299d4ed7b13872459b8758a4",
       "version_major": 2,
       "version_minor": 0
      },
      "text/plain": [
       "HBox(children=(FloatProgress(value=0.0, max=1.0), HTML(value='')))"
      ]
     },
     "metadata": {},
     "output_type": "display_data"
    },
    {
     "name": "stdout",
     "output_type": "stream",
     "text": [
      "\n"
     ]
    },
    {
     "data": {
      "application/vnd.jupyter.widget-view+json": {
       "model_id": "47ae37fe651a4b2cb33e9ab66e847640",
       "version_major": 2,
       "version_minor": 0
      },
      "text/plain": [
       "HBox(children=(FloatProgress(value=0.0, description='Running Prediction', max=1.0, style=ProgressStyle(descrip…"
      ]
     },
     "metadata": {},
     "output_type": "display_data"
    },
    {
     "name": "stdout",
     "output_type": "stream",
     "text": [
      "\n"
     ]
    },
    {
     "name": "stderr",
     "output_type": "stream",
     "text": [
      "2021-07-05 06:17:20.312 INFO    simpletransformers.ner.ner_model:  Converting to features started.\n"
     ]
    },
    {
     "data": {
      "application/vnd.jupyter.widget-view+json": {
       "model_id": "f9183065e95948f38eb620788b38729f",
       "version_major": 2,
       "version_minor": 0
      },
      "text/plain": [
       "HBox(children=(FloatProgress(value=0.0, max=1.0), HTML(value='')))"
      ]
     },
     "metadata": {},
     "output_type": "display_data"
    },
    {
     "name": "stdout",
     "output_type": "stream",
     "text": [
      "\n"
     ]
    },
    {
     "data": {
      "application/vnd.jupyter.widget-view+json": {
       "model_id": "b0f5ae2d837143eaa9fea375a7abea75",
       "version_major": 2,
       "version_minor": 0
      },
      "text/plain": [
       "HBox(children=(FloatProgress(value=0.0, description='Running Prediction', max=1.0, style=ProgressStyle(descrip…"
      ]
     },
     "metadata": {},
     "output_type": "display_data"
    },
    {
     "name": "stdout",
     "output_type": "stream",
     "text": [
      "\n"
     ]
    },
    {
     "name": "stderr",
     "output_type": "stream",
     "text": [
      "2021-07-05 06:17:20.628 INFO    simpletransformers.ner.ner_model:  Converting to features started.\n"
     ]
    },
    {
     "data": {
      "application/vnd.jupyter.widget-view+json": {
       "model_id": "b26d9cf03632455898dd44b416fd9fa0",
       "version_major": 2,
       "version_minor": 0
      },
      "text/plain": [
       "HBox(children=(FloatProgress(value=0.0, max=1.0), HTML(value='')))"
      ]
     },
     "metadata": {},
     "output_type": "display_data"
    },
    {
     "name": "stdout",
     "output_type": "stream",
     "text": [
      "\n"
     ]
    },
    {
     "data": {
      "application/vnd.jupyter.widget-view+json": {
       "model_id": "32540e9efd8540a4bf63e67698b41e84",
       "version_major": 2,
       "version_minor": 0
      },
      "text/plain": [
       "HBox(children=(FloatProgress(value=0.0, description='Running Prediction', max=1.0, style=ProgressStyle(descrip…"
      ]
     },
     "metadata": {},
     "output_type": "display_data"
    },
    {
     "name": "stdout",
     "output_type": "stream",
     "text": [
      "\n",
      "\n",
      " Combined Extraction is/are : ['django', 'kue', 'resque', 'rabbitmq', 'objective-c', 'afnetworking', 'junit', 'jenkins', 'capistrano', 'buildout', 'kubernetes', 'nagios', 'zabbix', 'perl', 'github', 'ios', 'openstack', 'heroku', 'rightscale', 'scalr', 'mongodb', 'docker', 'python', 'angular', 'azure', 'react', 'java', 'cucumber', 'android', 'vagrant', 'swift']\n"
     ]
    }
   ],
   "source": [
    "\n",
    "# Named Entity Extraction (NER)\n",
    "\n",
    "if option == '1':\n",
    "    # 1. Only String Match Prediction\n",
    "    entity_result = get_string_match_prediction(message)\n",
    "    print(\"\\n String Match Extraction is/are :\",entity_result)\n",
    "if option == '2':\n",
    "    # 2. Only BERT TAGS\n",
    "    entity_result1 = bert_obj.predict(message)\n",
    "    print(\"\\n BERT Extraction is/are :\",entity_result1)\n",
    "if option == '3':\n",
    "    # 3. Get Combined Prediction\n",
    "    result_string = get_string_match_prediction(message)\n",
    "    result_bert = bert_obj.predict(message)\n",
    "    entity_result2 = result_string + result_bert\n",
    "    print(\"\\n Combined Extraction is/are :\",entity_result2)"
   ]
  },
  {
   "cell_type": "markdown",
   "id": "42bd4a09",
   "metadata": {},
   "source": [
    "# THANKS !!"
   ]
  },
  {
   "cell_type": "code",
   "execution_count": null,
   "id": "9530217b",
   "metadata": {},
   "outputs": [],
   "source": [
    "# import pickle\n",
    "# import streamlit as st\n",
    "# import torch"
   ]
  },
  {
   "cell_type": "code",
   "execution_count": null,
   "id": "ea5040fc",
   "metadata": {},
   "outputs": [],
   "source": [
    "# # BERT prediction import and use\n",
    "# # from bert_inference_shubham import bert_pred as bt\n",
    "# from bert_inference_shubham_copy import bert_pred as bt"
   ]
  },
  {
   "cell_type": "code",
   "execution_count": null,
   "id": "85d036c1",
   "metadata": {},
   "outputs": [],
   "source": [
    "# ['full stack developer 9+ years of experience leading small (5-10) development teams in large-scale projects. proficient in java & javascript; backend frameworks such as spring, struts, hibernate; frontend frameworks angular js, protractor, jasmine. db mainly oracle but also mysql, sqlserver; wide variety of bussiness domains working for companies like cars.com, credit suisse, qualcomm, hewlett-packard, inter-american development bank, bank of america & monsanto. experience in agile methodologies kanban & scrum; test driven development. always looking for new challenges and learn new technologies., architect at globant - credit suisse, tech lead at globant - cars.com, scjp 6 certified programmer, tech lead at softtek']"
   ]
  },
  {
   "cell_type": "code",
   "execution_count": null,
   "id": "8e9df8ea",
   "metadata": {},
   "outputs": [],
   "source": [
    "# inp = input()"
   ]
  },
  {
   "cell_type": "code",
   "execution_count": null,
   "id": "5ee4b30d",
   "metadata": {},
   "outputs": [],
   "source": [
    "# bert_obj = bt()\n",
    "# bert_op = bert_obj.predict(inp)"
   ]
  },
  {
   "cell_type": "code",
   "execution_count": null,
   "id": "4c8b3d52",
   "metadata": {},
   "outputs": [],
   "source": [
    "# bert_op"
   ]
  },
  {
   "cell_type": "code",
   "execution_count": null,
   "id": "2c744969",
   "metadata": {},
   "outputs": [],
   "source": [
    "# BERT pred is running - Checked"
   ]
  },
  {
   "cell_type": "code",
   "execution_count": null,
   "id": "e6d38285",
   "metadata": {},
   "outputs": [],
   "source": [
    "# # String Match import and use\n",
    "# from string_match_pred import BERT_prediction_single_summary as sm"
   ]
  },
  {
   "cell_type": "code",
   "execution_count": null,
   "id": "ad85a84e",
   "metadata": {},
   "outputs": [],
   "source": [
    "# # sm(['full stack developer 9+ years of experience leading small (5-10) development teams in large-scale projects. proficient in java & javascript; backend frameworks such as spring, struts, hibernate; frontend frameworks angular js, protractor, jasmine. db mainly oracle but also mysql, sqlserver; wide variety of bussiness domains working for companies like cars.com, credit suisse, qualcomm, hewlett-packard, inter-american development bank, bank of america & monsanto. experience in agile methodologies kanban & scrum; test driven development. always looking for new challenges and learn new technologies., architect at globant - credit suisse, tech lead at globant - cars.com, scjp 6 certified programmer, tech lead at softtek'])\n",
    "# sm = sm(inp)"
   ]
  },
  {
   "cell_type": "code",
   "execution_count": null,
   "id": "6d67fb36",
   "metadata": {},
   "outputs": [],
   "source": [
    "# tech = sm.read_file(\"../dataset/Combined_30k_technologies.csv\")"
   ]
  },
  {
   "cell_type": "code",
   "execution_count": null,
   "id": "38d242e7",
   "metadata": {},
   "outputs": [],
   "source": [
    "\n",
    "# remove_list = sm.high_freq_eng_words(\"../dataset/Remove.csv\")\n",
    "\n",
    "# string_match_op = sm.string_match()"
   ]
  },
  {
   "cell_type": "code",
   "execution_count": null,
   "id": "533489e9",
   "metadata": {},
   "outputs": [],
   "source": [
    "# ['angular', 'asmi', 'create', 'd custom', 'ejs', 'eploy',\n",
    "# 'esign', 'format', 'inform', 'informa', 'ion', 'jas', 'jasmine', 'karma',\n",
    "# 'kuber', 'kubernetes', 'manage', 'mat',\n",
    "# 'mentat', 'mocha', 'node', 'nodejs', 'omp', 'ress', 'service', 'smi', 'soci', 'testin']"
   ]
  },
  {
   "cell_type": "code",
   "execution_count": null,
   "id": "8190888c",
   "metadata": {},
   "outputs": [],
   "source": [
    "# ['nodejs', 'jasmine', 'mocha', 'karma', 'kubernetes', 'html']"
   ]
  },
  {
   "cell_type": "code",
   "execution_count": null,
   "id": "852de446",
   "metadata": {},
   "outputs": [],
   "source": [
    "# string_match_op"
   ]
  },
  {
   "cell_type": "code",
   "execution_count": null,
   "id": "3ee249e1",
   "metadata": {},
   "outputs": [],
   "source": [
    "# result = list(set(string_match_op + bert_op))\n",
    "# # keeping unique entries only\n",
    "# result\n",
    "# String Match is running - Checked"
   ]
  },
  {
   "cell_type": "code",
   "execution_count": null,
   "id": "9b31eb4e",
   "metadata": {},
   "outputs": [],
   "source": []
  }
 ],
 "metadata": {
  "kernelspec": {
   "display_name": "Python 3",
   "language": "python",
   "name": "python3"
  },
  "language_info": {
   "codemirror_mode": {
    "name": "ipython",
    "version": 3
   },
   "file_extension": ".py",
   "mimetype": "text/x-python",
   "name": "python",
   "nbconvert_exporter": "python",
   "pygments_lexer": "ipython3",
   "version": "3.6.9"
  }
 },
 "nbformat": 4,
 "nbformat_minor": 5
}
