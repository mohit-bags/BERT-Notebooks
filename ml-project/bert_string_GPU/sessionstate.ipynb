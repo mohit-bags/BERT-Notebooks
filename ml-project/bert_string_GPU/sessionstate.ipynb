{
 "cells": [
  {
   "cell_type": "code",
   "execution_count": 1,
   "id": "a1205b89",
   "metadata": {},
   "outputs": [],
   "source": [
    "import streamlit.report_thread as ReportThread\n",
    "from streamlit.server.server import Server\n"
   ]
  },
  {
   "cell_type": "code",
   "execution_count": 2,
   "id": "38e5973c",
   "metadata": {},
   "outputs": [],
   "source": [
    "\n",
    "class SessionState():\n",
    "    \"\"\"SessionState: Add per-session state to Streamlit.\"\"\"\n",
    "    def __init__(self, **kwargs):\n",
    "        \"\"\"A new SessionState object.\n",
    "        Parameters\n",
    "        ----------\n",
    "        **kwargs : any\n",
    "            Default values for the session state.\n",
    "        Example\n",
    "        -------\n",
    "        >>> session_state = SessionState(user_name='', favorite_color='black')\n",
    "        >>> session_state.user_name = 'Mary'\n",
    "        ''\n",
    "        >>> session_state.favorite_color\n",
    "        'black'\n",
    "        \"\"\"\n",
    "        for key, val in kwargs.items():\n",
    "            setattr(self, key, val)\n",
    "\n",
    "\n",
    "def get(**kwargs):\n",
    "    \"\"\"Gets a SessionState object for the current session.\n",
    "    Creates a new object if necessary.\n",
    "    Parameters\n",
    "    ----------\n",
    "    **kwargs : any\n",
    "        Default values you want to add to the session state, if we're creating a\n",
    "        new one.\n",
    "    Example\n",
    "    -------\n",
    "    >>> session_state = get(user_name='', favorite_color='black')\n",
    "    >>> session_state.user_name\n",
    "    ''\n",
    "    >>> session_state.user_name = 'Mary'\n",
    "    >>> session_state.favorite_color\n",
    "    'black'\n",
    "    Since you set user_name above, next time your script runs this will be the\n",
    "    result:\n",
    "    >>> session_state = get(user_name='', favorite_color='black')\n",
    "    >>> session_state.user_name\n",
    "    'Mary'\n",
    "    \"\"\"\n",
    "    # Hack to get the session object from Streamlit.\n",
    "\n",
    "    session_id = ReportThread.get_report_ctx().session_id\n",
    "    session_info = Server.get_current()._get_session_info(session_id)\n",
    "\n",
    "    if session_info is None:\n",
    "        raise RuntimeError('Could not get Streamlit session object.')\n",
    "\n",
    "    this_session = session_info.session\n",
    "\n",
    "    # Got the session object! Now let's attach some state into it.\n",
    "\n",
    "    if not hasattr(this_session, '_custom_session_state'):\n",
    "        this_session._custom_session_state = SessionState(**kwargs)\n",
    "\n",
    "    return this_session._custom_session_state"
   ]
  },
  {
   "cell_type": "code",
   "execution_count": 4,
   "id": "d6fa8522",
   "metadata": {},
   "outputs": [],
   "source": [
    "# HOW TO USE\n",
    "# >>> import SessionState\n",
    "# >>>\n",
    "# >>> session_state = SessionState.get(user_name='', favorite_color='black')\n",
    "# >>> session_state.user_name\n",
    "# ''\n",
    "# >>> session_state.user_name = 'Mary'\n",
    "# >>> session_state.favorite_color\n",
    "# 'black'\n",
    "# Since you set user_name above, next time your script runs this will be the\n",
    "# result:\n",
    "# >>> session_state = get(user_name='', favorite_color='black')\n",
    "# >>> session_state.user_name\n",
    "# 'Mary'\n",
    "# \"\"\""
   ]
  },
  {
   "cell_type": "code",
   "execution_count": null,
   "id": "d4532b82",
   "metadata": {},
   "outputs": [],
   "source": []
  }
 ],
 "metadata": {
  "kernelspec": {
   "display_name": "Python 3",
   "language": "python",
   "name": "python3"
  },
  "language_info": {
   "codemirror_mode": {
    "name": "ipython",
    "version": 3
   },
   "file_extension": ".py",
   "mimetype": "text/x-python",
   "name": "python",
   "nbconvert_exporter": "python",
   "pygments_lexer": "ipython3",
   "version": "3.6.9"
  }
 },
 "nbformat": 4,
 "nbformat_minor": 5
}
