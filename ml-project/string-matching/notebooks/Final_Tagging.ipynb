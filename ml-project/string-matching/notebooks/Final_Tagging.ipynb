{
 "cells": [
  {
   "cell_type": "code",
   "execution_count": 1,
   "metadata": {},
   "outputs": [],
   "source": [
    "import numpy as np\n",
    "import pandas as pd"
   ]
  },
  {
   "cell_type": "code",
   "execution_count": 19,
   "metadata": {},
   "outputs": [
    {
     "data": {
      "text/html": [
       "<div>\n",
       "<style scoped>\n",
       "    .dataframe tbody tr th:only-of-type {\n",
       "        vertical-align: middle;\n",
       "    }\n",
       "\n",
       "    .dataframe tbody tr th {\n",
       "        vertical-align: top;\n",
       "    }\n",
       "\n",
       "    .dataframe thead th {\n",
       "        text-align: right;\n",
       "    }\n",
       "</style>\n",
       "<table border=\"1\" class=\"dataframe\">\n",
       "  <thead>\n",
       "    <tr style=\"text-align: right;\">\n",
       "      <th></th>\n",
       "      <th>id</th>\n",
       "      <th>exact_matched_patt_contextual</th>\n",
       "      <th>summaries</th>\n",
       "      <th>Note</th>\n",
       "    </tr>\n",
       "  </thead>\n",
       "  <tbody>\n",
       "    <tr>\n",
       "      <th>0</th>\n",
       "      <td>zsDSYc5UzpyXekOABZBfnQ_0000</td>\n",
       "      <td>NaN</td>\n",
       "      <td>senior director of clinical services housing a...</td>\n",
       "      <td>NaN</td>\n",
       "    </tr>\n",
       "    <tr>\n",
       "      <th>1</th>\n",
       "      <td>zs1YNrrCeorFkGLEXSSp-A_0000</td>\n",
       "      <td>NaN</td>\n",
       "      <td>i believe that passions are meant to be shared...</td>\n",
       "      <td>NaN</td>\n",
       "    </tr>\n",
       "    <tr>\n",
       "      <th>2</th>\n",
       "      <td>zowirq8ZhxhchApaRMhNSA_0000</td>\n",
       "      <td>NaN</td>\n",
       "      <td>bill bryant is founder and chairman of bryant ...</td>\n",
       "      <td>NaN</td>\n",
       "    </tr>\n",
       "    <tr>\n",
       "      <th>3</th>\n",
       "      <td>zoQVkPCfXB9n3AaPGHHwzg_0000</td>\n",
       "      <td>NaN</td>\n",
       "      <td>undertaking a trilingual masters degree in eur...</td>\n",
       "      <td>NaN</td>\n",
       "    </tr>\n",
       "    <tr>\n",
       "      <th>4</th>\n",
       "      <td>zmIr2glBZ3Ef8CSS0jw1og_0000</td>\n",
       "      <td>NaN</td>\n",
       "      <td>career objective a role within marketing and n...</td>\n",
       "      <td>NaN</td>\n",
       "    </tr>\n",
       "    <tr>\n",
       "      <th>5</th>\n",
       "      <td>zlqc-BC1ZHf1EqoAGZ3sag_0000</td>\n",
       "      <td>NaN</td>\n",
       "      <td>an it professional with over 14+ years of exte...</td>\n",
       "      <td>NaN</td>\n",
       "    </tr>\n",
       "    <tr>\n",
       "      <th>6</th>\n",
       "      <td>zlBvzxx47BewWlO67-zK3Q_0000</td>\n",
       "      <td>['republic']</td>\n",
       "      <td>i am a 19 year old entrepreneur and manager of...</td>\n",
       "      <td>NaN</td>\n",
       "    </tr>\n",
       "    <tr>\n",
       "      <th>7</th>\n",
       "      <td>zekuTL0ONYTX2XawUBa-9A_0000</td>\n",
       "      <td>['dell']</td>\n",
       "      <td>i am a self motivated professional with 13+ ye...</td>\n",
       "      <td>NaN</td>\n",
       "    </tr>\n",
       "    <tr>\n",
       "      <th>8</th>\n",
       "      <td>zaByWGsar5hVdBWLEYykcg_0000</td>\n",
       "      <td>['wordpress', 'joomla', 'drupal']</td>\n",
       "      <td>as owner and director of projects at metro inf...</td>\n",
       "      <td>NaN</td>\n",
       "    </tr>\n",
       "    <tr>\n",
       "      <th>9</th>\n",
       "      <td>zPnnWGWHb2gSYnd98GKaag_0000</td>\n",
       "      <td>['unity']</td>\n",
       "      <td>15+ years within the recruiting industry combi...</td>\n",
       "      <td>NaN</td>\n",
       "    </tr>\n",
       "    <tr>\n",
       "      <th>10</th>\n",
       "      <td>zD5mmVohG-Ts4D2pdhZ9hg_0000</td>\n",
       "      <td>NaN</td>\n",
       "      <td>i am actively looking for university/campus or...</td>\n",
       "      <td>NaN</td>\n",
       "    </tr>\n",
       "    <tr>\n",
       "      <th>11</th>\n",
       "      <td>z78yDBFPYVMWHbWiqBpLwQ_0000</td>\n",
       "      <td>NaN</td>\n",
       "      <td>physician leader, writer and life-long learner...</td>\n",
       "      <td>NaN</td>\n",
       "    </tr>\n",
       "    <tr>\n",
       "      <th>12</th>\n",
       "      <td>z5LcE0BcZevf5WmwL8nunQ_0000</td>\n",
       "      <td>['microsoft office', 'juniper', 'workday', 'py...</td>\n",
       "      <td>bachelor of science (b.s) degree in \" telecomm...</td>\n",
       "      <td>NaN</td>\n",
       "    </tr>\n",
       "    <tr>\n",
       "      <th>13</th>\n",
       "      <td>z288V6JX6prFckah8qxepA_0000</td>\n",
       "      <td>['sap erp', 'xero']</td>\n",
       "      <td>a high performing individual, demonstrating dr...</td>\n",
       "      <td>NaN</td>\n",
       "    </tr>\n",
       "    <tr>\n",
       "      <th>14</th>\n",
       "      <td>z0rBpYyvaPpzHAMgFueyZg_0000</td>\n",
       "      <td>NaN</td>\n",
       "      <td>experienced and technologically-savvy communic...</td>\n",
       "      <td>NaN</td>\n",
       "    </tr>\n",
       "  </tbody>\n",
       "</table>\n",
       "</div>"
      ],
      "text/plain": [
       "                             id  \\\n",
       "0   zsDSYc5UzpyXekOABZBfnQ_0000   \n",
       "1   zs1YNrrCeorFkGLEXSSp-A_0000   \n",
       "2   zowirq8ZhxhchApaRMhNSA_0000   \n",
       "3   zoQVkPCfXB9n3AaPGHHwzg_0000   \n",
       "4   zmIr2glBZ3Ef8CSS0jw1og_0000   \n",
       "5   zlqc-BC1ZHf1EqoAGZ3sag_0000   \n",
       "6   zlBvzxx47BewWlO67-zK3Q_0000   \n",
       "7   zekuTL0ONYTX2XawUBa-9A_0000   \n",
       "8   zaByWGsar5hVdBWLEYykcg_0000   \n",
       "9   zPnnWGWHb2gSYnd98GKaag_0000   \n",
       "10  zD5mmVohG-Ts4D2pdhZ9hg_0000   \n",
       "11  z78yDBFPYVMWHbWiqBpLwQ_0000   \n",
       "12  z5LcE0BcZevf5WmwL8nunQ_0000   \n",
       "13  z288V6JX6prFckah8qxepA_0000   \n",
       "14  z0rBpYyvaPpzHAMgFueyZg_0000   \n",
       "\n",
       "                        exact_matched_patt_contextual  \\\n",
       "0                                                 NaN   \n",
       "1                                                 NaN   \n",
       "2                                                 NaN   \n",
       "3                                                 NaN   \n",
       "4                                                 NaN   \n",
       "5                                                 NaN   \n",
       "6                                        ['republic']   \n",
       "7                                            ['dell']   \n",
       "8                   ['wordpress', 'joomla', 'drupal']   \n",
       "9                                           ['unity']   \n",
       "10                                                NaN   \n",
       "11                                                NaN   \n",
       "12  ['microsoft office', 'juniper', 'workday', 'py...   \n",
       "13                                ['sap erp', 'xero']   \n",
       "14                                                NaN   \n",
       "\n",
       "                                            summaries Note  \n",
       "0   senior director of clinical services housing a...  NaN  \n",
       "1   i believe that passions are meant to be shared...  NaN  \n",
       "2   bill bryant is founder and chairman of bryant ...  NaN  \n",
       "3   undertaking a trilingual masters degree in eur...  NaN  \n",
       "4   career objective a role within marketing and n...  NaN  \n",
       "5   an it professional with over 14+ years of exte...  NaN  \n",
       "6   i am a 19 year old entrepreneur and manager of...  NaN  \n",
       "7   i am a self motivated professional with 13+ ye...  NaN  \n",
       "8   as owner and director of projects at metro inf...  NaN  \n",
       "9   15+ years within the recruiting industry combi...  NaN  \n",
       "10  i am actively looking for university/campus or...  NaN  \n",
       "11  physician leader, writer and life-long learner...  NaN  \n",
       "12  bachelor of science (b.s) degree in \" telecomm...  NaN  \n",
       "13  a high performing individual, demonstrating dr...  NaN  \n",
       "14  experienced and technologically-savvy communic...  NaN  "
      ]
     },
     "execution_count": 19,
     "metadata": {},
     "output_type": "execute_result"
    }
   ],
   "source": [
    "data=pd.read_csv(\"tech_sort1k.csv\")\n",
    "data.head(15)"
   ]
  },
  {
   "cell_type": "code",
   "execution_count": 3,
   "metadata": {},
   "outputs": [],
   "source": [
    "data=data.drop(columns=[\"id\",\"Note\"])"
   ]
  },
  {
   "cell_type": "code",
   "execution_count": 4,
   "metadata": {},
   "outputs": [],
   "source": [
    "#replacing null vals with empty list\n",
    "data['exact_matched_patt_contextual'] = [ [] if x is np.NaN else x for x in data['exact_matched_patt_contextual'] ]\n"
   ]
  },
  {
   "cell_type": "code",
   "execution_count": 5,
   "metadata": {},
   "outputs": [
    {
     "name": "stderr",
     "output_type": "stream",
     "text": [
      "[nltk_data] Downloading package punkt to\n",
      "[nltk_data]     /Users/mohitbagaria/nltk_data...\n",
      "[nltk_data]   Package punkt is already up-to-date!\n"
     ]
    }
   ],
   "source": [
    "import nltk\n",
    "import re\n",
    "from bs4 import BeautifulSoup\n",
    "\n",
    "nltk.download(\"punkt\")\n",
    "\n",
    "REPLACE_BY_SPACE_RE = re.compile('[/(){}\\[\\]\\|@,;]')\n",
    "BAD_SYMBOLS_RE = re.compile('[^0-9a-z #+_]')\n",
    "\n",
    "def clean_text(text):\n",
    "    \"\"\"\n",
    "        text: a string\n",
    "        \n",
    "        return: modified initial string\n",
    "    \"\"\"\n",
    "    text = BeautifulSoup(text, \"lxml\").text # HTML decoding\n",
    "    text = text.lower() # lowercase text\n",
    "    text = REPLACE_BY_SPACE_RE.sub(' ', text) # replace REPLACE_BY_SPACE_RE symbols by space in text\n",
    "    text = BAD_SYMBOLS_RE.sub('', text) # delete symbols which are in BAD_SYMBOLS_RE from text\n",
    "    return text\n"
   ]
  },
  {
   "cell_type": "code",
   "execution_count": 6,
   "metadata": {},
   "outputs": [],
   "source": [
    "data['exact_matched_patt_contextual']=data['exact_matched_patt_contextual'].astype(str)"
   ]
  },
  {
   "cell_type": "code",
   "execution_count": 7,
   "metadata": {},
   "outputs": [],
   "source": [
    "#converting lists to strings with proper cleaning\n",
    "data[\"to_match\"]=data[\"exact_matched_patt_contextual\"].apply(clean_text)"
   ]
  },
  {
   "cell_type": "code",
   "execution_count": 8,
   "metadata": {},
   "outputs": [
    {
     "data": {
      "text/html": [
       "<div>\n",
       "<style scoped>\n",
       "    .dataframe tbody tr th:only-of-type {\n",
       "        vertical-align: middle;\n",
       "    }\n",
       "\n",
       "    .dataframe tbody tr th {\n",
       "        vertical-align: top;\n",
       "    }\n",
       "\n",
       "    .dataframe thead th {\n",
       "        text-align: right;\n",
       "    }\n",
       "</style>\n",
       "<table border=\"1\" class=\"dataframe\">\n",
       "  <thead>\n",
       "    <tr style=\"text-align: right;\">\n",
       "      <th></th>\n",
       "      <th>exact_matched_patt_contextual</th>\n",
       "      <th>summaries</th>\n",
       "      <th>to_match</th>\n",
       "    </tr>\n",
       "  </thead>\n",
       "  <tbody>\n",
       "    <tr>\n",
       "      <th>0</th>\n",
       "      <td>[]</td>\n",
       "      <td>senior director of clinical services housing a...</td>\n",
       "      <td></td>\n",
       "    </tr>\n",
       "    <tr>\n",
       "      <th>1</th>\n",
       "      <td>[]</td>\n",
       "      <td>i believe that passions are meant to be shared...</td>\n",
       "      <td></td>\n",
       "    </tr>\n",
       "    <tr>\n",
       "      <th>2</th>\n",
       "      <td>[]</td>\n",
       "      <td>bill bryant is founder and chairman of bryant ...</td>\n",
       "      <td></td>\n",
       "    </tr>\n",
       "    <tr>\n",
       "      <th>3</th>\n",
       "      <td>[]</td>\n",
       "      <td>undertaking a trilingual masters degree in eur...</td>\n",
       "      <td></td>\n",
       "    </tr>\n",
       "    <tr>\n",
       "      <th>4</th>\n",
       "      <td>[]</td>\n",
       "      <td>career objective a role within marketing and n...</td>\n",
       "      <td></td>\n",
       "    </tr>\n",
       "    <tr>\n",
       "      <th>5</th>\n",
       "      <td>[]</td>\n",
       "      <td>an it professional with over 14+ years of exte...</td>\n",
       "      <td></td>\n",
       "    </tr>\n",
       "    <tr>\n",
       "      <th>6</th>\n",
       "      <td>['republic']</td>\n",
       "      <td>i am a 19 year old entrepreneur and manager of...</td>\n",
       "      <td>republic</td>\n",
       "    </tr>\n",
       "    <tr>\n",
       "      <th>7</th>\n",
       "      <td>['dell']</td>\n",
       "      <td>i am a self motivated professional with 13+ ye...</td>\n",
       "      <td>dell</td>\n",
       "    </tr>\n",
       "    <tr>\n",
       "      <th>8</th>\n",
       "      <td>['wordpress', 'joomla', 'drupal']</td>\n",
       "      <td>as owner and director of projects at metro inf...</td>\n",
       "      <td>wordpress  joomla  drupal</td>\n",
       "    </tr>\n",
       "    <tr>\n",
       "      <th>9</th>\n",
       "      <td>['unity']</td>\n",
       "      <td>15+ years within the recruiting industry combi...</td>\n",
       "      <td>unity</td>\n",
       "    </tr>\n",
       "  </tbody>\n",
       "</table>\n",
       "</div>"
      ],
      "text/plain": [
       "       exact_matched_patt_contextual  \\\n",
       "0                                 []   \n",
       "1                                 []   \n",
       "2                                 []   \n",
       "3                                 []   \n",
       "4                                 []   \n",
       "5                                 []   \n",
       "6                       ['republic']   \n",
       "7                           ['dell']   \n",
       "8  ['wordpress', 'joomla', 'drupal']   \n",
       "9                          ['unity']   \n",
       "\n",
       "                                           summaries  \\\n",
       "0  senior director of clinical services housing a...   \n",
       "1  i believe that passions are meant to be shared...   \n",
       "2  bill bryant is founder and chairman of bryant ...   \n",
       "3  undertaking a trilingual masters degree in eur...   \n",
       "4  career objective a role within marketing and n...   \n",
       "5  an it professional with over 14+ years of exte...   \n",
       "6  i am a 19 year old entrepreneur and manager of...   \n",
       "7  i am a self motivated professional with 13+ ye...   \n",
       "8  as owner and director of projects at metro inf...   \n",
       "9  15+ years within the recruiting industry combi...   \n",
       "\n",
       "                      to_match  \n",
       "0                               \n",
       "1                               \n",
       "2                               \n",
       "3                               \n",
       "4                               \n",
       "5                               \n",
       "6                    republic   \n",
       "7                        dell   \n",
       "8   wordpress  joomla  drupal   \n",
       "9                       unity   "
      ]
     },
     "execution_count": 8,
     "metadata": {},
     "output_type": "execute_result"
    }
   ],
   "source": [
    "data.head(10)"
   ]
  },
  {
   "cell_type": "code",
   "execution_count": 9,
   "metadata": {},
   "outputs": [],
   "source": [
    "data[\"summaries\"]=data[\"summaries\"].apply(clean_text)"
   ]
  },
  {
   "cell_type": "code",
   "execution_count": 10,
   "metadata": {},
   "outputs": [],
   "source": [
    "def convert(lst):\n",
    "\treturn ' '.join(lst).split()"
   ]
  },
  {
   "cell_type": "code",
   "execution_count": 13,
   "metadata": {},
   "outputs": [],
   "source": [
    "def givedata(tech_words,sentence):\n",
    "    broken_list = convert([sentence])\n",
    "    prev_tag=\"O\" # inital tag will be \"O\" or \"B\" or \"I\"\n",
    "    tech_words=convert([tech_words])\n",
    "    tag_col=[]\n",
    "    for word in broken_list:\n",
    "        curr_tag=\"O\" \n",
    "        if word in tech_words:\n",
    "            if (prev_tag=='B' or prev_tag=='I'): #if word found in dictionary\n",
    "                curr_tag='I' #if prev_tag was already a tech word\n",
    "            else:\n",
    "                curr_tag='B' #if prev_tag was \"O\" (Not a tech word)\n",
    "        prev_tag=curr_tag\n",
    "        tag_col.append(curr_tag) #adding tag\n",
    "    return pd.DataFrame(list(zip(broken_list, tag_col)),columns =['Word', 'Tag'])"
   ]
  },
  {
   "cell_type": "code",
   "execution_count": 14,
   "metadata": {},
   "outputs": [],
   "source": [
    "final_data=pd.DataFrame()\n",
    "\n",
    "for i in range(0,len(data)):\n",
    "#     print(i)\n",
    "    temp = givedata(data.iloc[i,2],data[\"summaries\"][i])\n",
    "    length = len(temp)\n",
    "    wordd=\"Sentence :\"+str(i+1) #sentence no.\n",
    "    a=[wordd]*length\n",
    "    temp.insert(0,\"Sentence #\",a)\n",
    "    final_data = final_data.append(temp, ignore_index=True) #appending sentences in the required format\n",
    "               "
   ]
  },
  {
   "cell_type": "code",
   "execution_count": 17,
   "metadata": {},
   "outputs": [
    {
     "name": "stderr",
     "output_type": "stream",
     "text": [
      "/Users/mohitbagaria/anaconda3/lib/python3.7/site-packages/seaborn/_decorators.py:43: FutureWarning: Pass the following variable as a keyword arg: x. From version 0.12, the only valid positional argument will be `data`, and passing other arguments without an explicit keyword will result in an error or misinterpretation.\n",
      "  FutureWarning\n"
     ]
    },
    {
     "data": {
      "text/plain": [
       "<matplotlib.axes._subplots.AxesSubplot at 0x7f8e751c7c50>"
      ]
     },
     "execution_count": 17,
     "metadata": {},
     "output_type": "execute_result"
    },
    {
     "data": {
      "image/png": "[encoded data removed]",
      "text/plain": [
       "<Figure size 432x288 with 1 Axes>"
      ]
     },
     "metadata": {
      "needs_background": "light"
     },
     "output_type": "display_data"
    }
   ],
   "source": [
    "import seaborn as sns\n",
    "\n",
    "sns.countplot(final_data['Tag'])"
   ]
  },
  {
   "cell_type": "code",
   "execution_count": 18,
   "metadata": {},
   "outputs": [
    {
     "data": {
      "text/plain": [
       "O    322061\n",
       "B      1730\n",
       "I       571\n",
       "Name: Tag, dtype: int64"
      ]
     },
     "execution_count": 18,
     "metadata": {},
     "output_type": "execute_result"
    }
   ],
   "source": [
    "final_data['Tag'].value_counts()"
   ]
  },
  {
   "cell_type": "code",
   "execution_count": 20,
   "metadata": {},
   "outputs": [],
   "source": [
    "# final_data.loc[final_data['Tag']=='I']\n",
    "# final_data.loc[final_data['Tag'].isin(['I','B'])]"
   ]
  },
  {
   "cell_type": "code",
   "execution_count": 21,
   "metadata": {},
   "outputs": [
    {
     "data": {
      "text/plain": [
       "'All tagged data, without any filter'"
      ]
     },
     "execution_count": 21,
     "metadata": {},
     "output_type": "execute_result"
    }
   ],
   "source": [
    "\"\"\"All tagged data, without any filter\"\"\"\n",
    "# final_data.to_csv('TECH_bio_tagging.csv',index=False) "
   ]
  },
  {
   "cell_type": "code",
   "execution_count": 22,
   "metadata": {},
   "outputs": [
    {
     "data": {
      "text/html": [
       "<div>\n",
       "<style scoped>\n",
       "    .dataframe tbody tr th:only-of-type {\n",
       "        vertical-align: middle;\n",
       "    }\n",
       "\n",
       "    .dataframe tbody tr th {\n",
       "        vertical-align: top;\n",
       "    }\n",
       "\n",
       "    .dataframe thead th {\n",
       "        text-align: right;\n",
       "    }\n",
       "</style>\n",
       "<table border=\"1\" class=\"dataframe\">\n",
       "  <thead>\n",
       "    <tr style=\"text-align: right;\">\n",
       "      <th></th>\n",
       "      <th>Sentence #</th>\n",
       "      <th>Word</th>\n",
       "      <th>Tag</th>\n",
       "    </tr>\n",
       "  </thead>\n",
       "  <tbody>\n",
       "    <tr>\n",
       "      <th>0</th>\n",
       "      <td>Sentence :1</td>\n",
       "      <td>senior</td>\n",
       "      <td>O</td>\n",
       "    </tr>\n",
       "    <tr>\n",
       "      <th>1</th>\n",
       "      <td>Sentence :1</td>\n",
       "      <td>director</td>\n",
       "      <td>O</td>\n",
       "    </tr>\n",
       "    <tr>\n",
       "      <th>2</th>\n",
       "      <td>Sentence :1</td>\n",
       "      <td>of</td>\n",
       "      <td>O</td>\n",
       "    </tr>\n",
       "    <tr>\n",
       "      <th>3</th>\n",
       "      <td>Sentence :1</td>\n",
       "      <td>clinical</td>\n",
       "      <td>O</td>\n",
       "    </tr>\n",
       "    <tr>\n",
       "      <th>4</th>\n",
       "      <td>Sentence :1</td>\n",
       "      <td>services</td>\n",
       "      <td>O</td>\n",
       "    </tr>\n",
       "  </tbody>\n",
       "</table>\n",
       "</div>"
      ],
      "text/plain": [
       "    Sentence #      Word Tag\n",
       "0  Sentence :1    senior   O\n",
       "1  Sentence :1  director   O\n",
       "2  Sentence :1        of   O\n",
       "3  Sentence :1  clinical   O\n",
       "4  Sentence :1  services   O"
      ]
     },
     "execution_count": 22,
     "metadata": {},
     "output_type": "execute_result"
    }
   ],
   "source": [
    "final_data.head()"
   ]
  },
  {
   "cell_type": "code",
   "execution_count": null,
   "metadata": {},
   "outputs": [],
   "source": []
  }
 ],
 "metadata": {
  "kernelspec": {
   "display_name": "Python 3.7.3 64-bit ('base': conda)",
   "language": "python",
   "name": "python37364bitbaseconda5fa6ef65aabe435e83eb42db00346061"
  },
  "language_info": {
   "codemirror_mode": {
    "name": "ipython",
    "version": 3
   },
   "file_extension": ".py",
   "mimetype": "text/x-python",
   "name": "python",
   "nbconvert_exporter": "python",
   "pygments_lexer": "ipython3",
   "version": "3.7.3"
  }
 },
 "nbformat": 4,
 "nbformat_minor": 2
}
