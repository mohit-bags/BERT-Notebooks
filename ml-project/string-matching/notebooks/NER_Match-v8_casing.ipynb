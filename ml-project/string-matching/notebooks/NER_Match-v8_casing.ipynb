{
 "cells": [
  {
   "cell_type": "markdown",
   "metadata": {
    "id": "m4JryurFGjvG"
   },
   "source": [
    "- Importing the libraries here..."
   ]
  },
  {
   "cell_type": "code",
   "execution_count": 1,
   "metadata": {
    "id": "gVtvbWqdhLWl"
   },
   "outputs": [],
   "source": [
    "import nltk\n",
    "# nltk.download()\n",
    "import pandas as pd\n",
    "import spacy\n",
    "# from spacy import displacy\n",
    "# from collections import Counter\n",
    "import en_core_web_lg\n",
    "nlp = en_core_web_lg.load()\n",
    "import re\n",
    "import truecase"
   ]
  },
  {
   "cell_type": "code",
   "execution_count": 2,
   "metadata": {},
   "outputs": [],
   "source": [
    "%%capture\n",
    "from tqdm import tqdm_notebook as tqdm\n",
    "tqdm().pandas()"
   ]
  },
  {
   "cell_type": "code",
   "execution_count": 3,
   "metadata": {
    "id": "SP_4iqdkeFl6"
   },
   "outputs": [],
   "source": [
    "import pandas as pd\n",
    "import numpy as np\n",
    "import ast\n",
    "import json\n",
    "from operator import add \n",
    "from operator import truediv"
   ]
  },
  {
   "cell_type": "code",
   "execution_count": 4,
   "metadata": {
    "colab": {
     "base_uri": "https://localhost:8080/"
    },
    "id": "0KBtEHCTl7_s",
    "outputId": "d629fb88-b9a7-49a3-fed0-969a0cbcc05d"
   },
   "outputs": [],
   "source": [
    "# !pip3 install fuzzywuzzy\n",
    "# !pip3 install python-Levenshtein"
   ]
  },
  {
   "cell_type": "code",
   "execution_count": 5,
   "metadata": {
    "id": "eihDB1YzeeEL"
   },
   "outputs": [
    {
     "name": "stderr",
     "output_type": "stream",
     "text": [
      "/Users/shubhamsunwalka/Desktop/tech_match/lib/python3.9/site-packages/fuzzywuzzy/fuzz.py:11: UserWarning: Using slow pure-python SequenceMatcher. Install python-Levenshtein to remove this warning\n",
      "  warnings.warn('Using slow pure-python SequenceMatcher. Install python-Levenshtein to remove this warning')\n"
     ]
    }
   ],
   "source": [
    "from fuzzywuzzy import fuzz"
   ]
  },
  {
   "cell_type": "code",
   "execution_count": 6,
   "metadata": {
    "id": "ZJdkNkhDVDmx"
   },
   "outputs": [],
   "source": [
    "# !python -m spacy download en_core_web_lg"
   ]
  },
  {
   "cell_type": "code",
   "execution_count": 7,
   "metadata": {
    "id": "kxPafpYZ17kn"
   },
   "outputs": [],
   "source": [
    "  # tech = pd.read_csv(\"/content/Technology Summary Matching Project - technologies.csv\")\n",
    "  # summary = pd.read_csv(\"/content/c22b731c-cff3-4c60-b880-9f42f2fe45cb.csv\")\n",
    "  # output = pd.read_csv(\"/content/output - output.csv\")\n"
   ]
  },
  {
   "cell_type": "code",
   "execution_count": 8,
   "metadata": {},
   "outputs": [],
   "source": [
    "tech = pd.read_csv(\"Dataset/Technology Summary Matching Project - technologies.csv\")\n",
    "# summary = pd.read_csv(\"a4f32761-65b8-45e8-99ed-fb8ad4a63f8d.csv\")\n",
    "summary = pd.read_csv(\"train_data_original_untagged.csv\")\n",
    "# summary = pd.read_csv(\"Train_Data/String_Match_non_duplicates - String_Match_non_duplicates.csv\")\n",
    "output = pd.read_csv(\"Dataset/output - output.csv\")"
   ]
  },
  {
   "cell_type": "code",
   "execution_count": 9,
   "metadata": {},
   "outputs": [],
   "source": [
    "# summary_2 = pd.read_csv(\"a4f32761-65b8-45e8-99ed-fb8ad4a63f8d.csv\")"
   ]
  },
  {
   "cell_type": "code",
   "execution_count": 10,
   "metadata": {
    "id": "x4DWIUgbxc8P"
   },
   "outputs": [
    {
     "name": "stdout",
     "output_type": "stream",
     "text": [
      "0\n",
      "1\n",
      "2\n",
      "3\n",
      "4\n",
      "5\n",
      "6\n",
      "7\n",
      "8\n",
      "9\n",
      "10\n",
      "11\n",
      "12\n",
      "13\n",
      "14\n",
      "15\n",
      "16\n",
      "17\n",
      "18\n",
      "19\n",
      "20\n",
      "21\n",
      "22\n",
      "23\n",
      "24\n",
      "25\n",
      "26\n",
      "27\n",
      "28\n",
      "29\n",
      "30\n",
      "31\n",
      "32\n",
      "33\n",
      "34\n",
      "35\n",
      "36\n",
      "37\n",
      "38\n",
      "39\n",
      "40\n",
      "41\n",
      "42\n",
      "43\n",
      "44\n",
      "45\n",
      "46\n",
      "47\n",
      "48\n",
      "49\n",
      "50\n",
      "51\n",
      "52\n",
      "53\n",
      "54\n",
      "55\n",
      "56\n",
      "57\n",
      "58\n",
      "59\n",
      "60\n",
      "61\n",
      "62\n",
      "63\n",
      "64\n",
      "65\n",
      "66\n",
      "67\n",
      "68\n",
      "69\n",
      "70\n",
      "71\n",
      "72\n",
      "73\n",
      "74\n",
      "75\n",
      "76\n",
      "77\n",
      "78\n",
      "79\n",
      "80\n",
      "81\n",
      "82\n",
      "83\n",
      "84\n",
      "85\n",
      "86\n",
      "87\n",
      "88\n",
      "89\n",
      "90\n",
      "91\n",
      "92\n",
      "93\n",
      "94\n",
      "95\n",
      "96\n",
      "97\n",
      "98\n",
      "99\n"
     ]
    },
    {
     "name": "stderr",
     "output_type": "stream",
     "text": [
      "<ipython-input-10-8226c71e595e>:8: SettingWithCopyWarning: \n",
      "A value is trying to be set on a copy of a slice from a DataFrame\n",
      "\n",
      "See the caveats in the documentation: https://pandas.pydata.org/pandas-docs/stable/user_guide/indexing.html#returning-a-view-versus-a-copy\n",
      "  summary[\"summaries\"][i] = resl\n"
     ]
    }
   ],
   "source": [
    "for i in range(0, len(summary)):\n",
    "    print(i)\n",
    "    if summary[\"summaries\"][i] is not np.nan:\n",
    "        demo = summary[\"summaries\"][i]\n",
    "        res = demo.strip('][')\n",
    "        resl = []\n",
    "        resl.append(res)\n",
    "        summary[\"summaries\"][i] = resl\n",
    "        \n",
    "    else:\n",
    "        summary[\"summaries\"][i] = '[]'\n",
    "        demo = summary[\"summaries\"][i]\n",
    "        res = demo.strip('][')\n",
    "        resl = []\n",
    "        resl.append(res)\n",
    "        summary[\"summaries\"][i] = resl"
   ]
  },
  {
   "cell_type": "code",
   "execution_count": 11,
   "metadata": {},
   "outputs": [
    {
     "data": {
      "text/plain": [
       "100"
      ]
     },
     "execution_count": 11,
     "metadata": {},
     "output_type": "execute_result"
    }
   ],
   "source": [
    "len(summary)"
   ]
  },
  {
   "cell_type": "code",
   "execution_count": 12,
   "metadata": {},
   "outputs": [],
   "source": [
    "# # Count no of lowercase and uppercase in the whole data\n",
    "\n",
    "# # Python3 program to count upper and \n",
    "# # lower case characters without using \n",
    "# # inbuilt functions \n",
    "# def count_upperlower(df):\n",
    "#     upper = 0\n",
    "#     lower = 0\n",
    "#     lower_list = []\n",
    "#     upper_list = []\n",
    "    \n",
    "#     for ind in df.index:\n",
    "#         print(ind)\n",
    "        \n",
    "#         if df[\"summaries\"][ind][0].islower():\n",
    "#             lower_list.append(ind)\n",
    "#             lower+=1\n",
    "            \n",
    "#         elif df[\"summaries\"][ind][0].isupper():\n",
    "#             upper_list.append(ind)\n",
    "            \n",
    "#             upper+=1\n",
    "#     return lower, upper, lower_list, upper_list"
   ]
  },
  {
   "cell_type": "code",
   "execution_count": 13,
   "metadata": {},
   "outputs": [],
   "source": [
    "# lower_count, upper_count, lower_list, upper_list = count_upperlower(summary)"
   ]
  },
  {
   "cell_type": "code",
   "execution_count": null,
   "metadata": {},
   "outputs": [],
   "source": []
  },
  {
   "cell_type": "code",
   "execution_count": 14,
   "metadata": {},
   "outputs": [],
   "source": [
    "# summary_2.loc[summary_2['id'] == \"JCq2jVWf36ekzz96DLME9g_0000\"]"
   ]
  },
  {
   "cell_type": "code",
   "execution_count": 15,
   "metadata": {},
   "outputs": [],
   "source": [
    "# my_list = list(range(100))\n",
    "# my_list\n",
    "# # for x in tqdm(my_list):\n",
    "# #     pass "
   ]
  },
  {
   "cell_type": "code",
   "execution_count": 16,
   "metadata": {},
   "outputs": [],
   "source": [
    "# summary = summary.sort_values(by=\"summaries\",ascending = False, key = lambda x: x.str.len())\n",
    "# summary.reset_index(inplace = True, drop = True)\n",
    "# summary = summary.iloc[0:1001] "
   ]
  },
  {
   "cell_type": "code",
   "execution_count": 17,
   "metadata": {},
   "outputs": [
    {
     "data": {
      "text/html": [
       "<div>\n",
       "<style scoped>\n",
       "    .dataframe tbody tr th:only-of-type {\n",
       "        vertical-align: middle;\n",
       "    }\n",
       "\n",
       "    .dataframe tbody tr th {\n",
       "        vertical-align: top;\n",
       "    }\n",
       "\n",
       "    .dataframe thead th {\n",
       "        text-align: right;\n",
       "    }\n",
       "</style>\n",
       "<table border=\"1\" class=\"dataframe\">\n",
       "  <thead>\n",
       "    <tr style=\"text-align: right;\">\n",
       "      <th></th>\n",
       "      <th>id</th>\n",
       "      <th>birth_date</th>\n",
       "      <th>birth_date_fuzzy</th>\n",
       "      <th>certifications</th>\n",
       "      <th>education</th>\n",
       "      <th>emails</th>\n",
       "      <th>experience</th>\n",
       "      <th>industries</th>\n",
       "      <th>inferred_salary</th>\n",
       "      <th>inferred_years_experience</th>\n",
       "      <th>interests</th>\n",
       "      <th>locations</th>\n",
       "      <th>names</th>\n",
       "      <th>phone_numbers</th>\n",
       "      <th>primary</th>\n",
       "      <th>profiles</th>\n",
       "      <th>skills</th>\n",
       "      <th>summaries</th>\n",
       "      <th>version_status</th>\n",
       "    </tr>\n",
       "  </thead>\n",
       "  <tbody>\n",
       "    <tr>\n",
       "      <th>0</th>\n",
       "      <td>OZO7g2R5RUt6cSSaRvriTw_0000</td>\n",
       "      <td>NaN</td>\n",
       "      <td>NaN</td>\n",
       "      <td>[]</td>\n",
       "      <td>[{\"end_date\":\"1997\",\"majors\":[\"environmental s...</td>\n",
       "      <td>[{\"address\":\"ben@trinityeurope.com\",\"sha256\":\"...</td>\n",
       "      <td>[{\"end_date\":\"2006-08\",\"last_updated\":\"null\",\"...</td>\n",
       "      <td>[{\"is_primary\":true,\"name\":\"information techno...</td>\n",
       "      <td>85,000-100,000</td>\n",
       "      <td>23.0</td>\n",
       "      <td>[]</td>\n",
       "      <td>[{\"continent\":\"europe\",\"country\":\"united kingd...</td>\n",
       "      <td>[{\"is_primary\":true,\"name\":\"ben dunlop\",\"last_...</td>\n",
       "      <td>[]</td>\n",
       "      <td>{work_emails=[], personal_emails=[], function=...</td>\n",
       "      <td>[{\"aliases\":[],\"is_primary\":true,\"ids\":[\"16068...</td>\n",
       "      <td>[{\"name\":\"firewalls\"}, {\"name\":\".net\"}, {\"name...</td>\n",
       "      <td>[passionate hands-on company owner and recruit...</td>\n",
       "      <td>{\"contains\":[],\"previous_version\":\"9\",\"current...</td>\n",
       "    </tr>\n",
       "    <tr>\n",
       "      <th>1</th>\n",
       "      <td>sQDmPUvJBPi0Sqv0lSESbQ_0000</td>\n",
       "      <td>NaN</td>\n",
       "      <td>NaN</td>\n",
       "      <td>[{\"end_date\":\"null\",\"organization\":\"td bank\",\"...</td>\n",
       "      <td>[{\"end_date\":\"1994-12-31\",\"majors\":[],\"school\"...</td>\n",
       "      <td>[]</td>\n",
       "      <td>[{\"end_date\":\"2017-10\",\"last_updated\":\"null\",\"...</td>\n",
       "      <td>[{\"is_primary\":true,\"name\":\"real estate\"}]</td>\n",
       "      <td>85,000-100,000</td>\n",
       "      <td>18.0</td>\n",
       "      <td>[]</td>\n",
       "      <td>[{\"continent\":\"north america\",\"country\":\"unite...</td>\n",
       "      <td>[{\"is_primary\":true,\"name\":\"roy muro\",\"last_na...</td>\n",
       "      <td>[]</td>\n",
       "      <td>{work_emails=[], personal_emails=[], function=...</td>\n",
       "      <td>[{\"aliases\":[],\"is_primary\":true,\"ids\":[\"25695...</td>\n",
       "      <td>[{\"name\":\"leadership\"}, {\"name\":\"asset based l...</td>\n",
       "      <td>[tiaa bank provides a diverse range of financi...</td>\n",
       "      <td>{\"contains\":[],\"previous_version\":\"9\",\"current...</td>\n",
       "    </tr>\n",
       "    <tr>\n",
       "      <th>2</th>\n",
       "      <td>fnCCUnbQkZEB0WAyzp-syQ_0000</td>\n",
       "      <td>NaN</td>\n",
       "      <td>NaN</td>\n",
       "      <td>[{\"end_date\":\"null\",\"organization\":\"sollers\",\"...</td>\n",
       "      <td>[{\"end_date\":\"2011\",\"majors\":[],\"school\":{\"web...</td>\n",
       "      <td>[{\"address\":\"evali639@gmail.com\",\"sha256\":\"e7b...</td>\n",
       "      <td>[{\"end_date\":\"2017-02\",\"last_updated\":\"null\",\"...</td>\n",
       "      <td>[{\"is_primary\":false,\"name\":\"research\"}, {\"is_...</td>\n",
       "      <td>100,000-150,000</td>\n",
       "      <td>4.0</td>\n",
       "      <td>[]</td>\n",
       "      <td>[{\"continent\":\"north america\",\"country\":\"unite...</td>\n",
       "      <td>[{\"is_primary\":true,\"name\":\"eva li\",\"last_name...</td>\n",
       "      <td>[]</td>\n",
       "      <td>{work_emails=[], personal_emails=[\"evali639@gm...</td>\n",
       "      <td>[{\"aliases\":[],\"is_primary\":false,\"ids\":[\"1711...</td>\n",
       "      <td>[{\"name\":\"leadership\"}, {\"name\":\"risk based mo...</td>\n",
       "      <td>[high performing clinical project management p...</td>\n",
       "      <td>{\"contains\":[],\"previous_version\":\"9\",\"current...</td>\n",
       "    </tr>\n",
       "    <tr>\n",
       "      <th>3</th>\n",
       "      <td>b4KHSrsYZcamh6oXJWld0g_0000</td>\n",
       "      <td>NaN</td>\n",
       "      <td>NaN</td>\n",
       "      <td>[]</td>\n",
       "      <td>[{\"end_date\":\"null\",\"majors\":[],\"school\":{\"web...</td>\n",
       "      <td>[]</td>\n",
       "      <td>[{\"end_date\":\"null\",\"last_updated\":\"2020-03-01...</td>\n",
       "      <td>[{\"is_primary\":true,\"name\":\"banking\"}, {\"is_pr...</td>\n",
       "      <td>25,000-35,000</td>\n",
       "      <td>29.0</td>\n",
       "      <td>[{\"name\":\"social services\"}, {\"name\":\"economic...</td>\n",
       "      <td>[{\"continent\":\"south america\",\"country\":\"argen...</td>\n",
       "      <td>[{\"is_primary\":true,\"name\":\"marybel gisela lóp...</td>\n",
       "      <td>[]</td>\n",
       "      <td>{work_emails=[], personal_emails=[], function=...</td>\n",
       "      <td>[{\"aliases\":[],\"is_primary\":true,\"ids\":[\"23023...</td>\n",
       "      <td>[{\"name\":\"project leader\"}, {\"name\":\"sourcetre...</td>\n",
       "      <td>[professional over 23 years of experience in t...</td>\n",
       "      <td>{\"contains\":[],\"previous_version\":\"9\",\"current...</td>\n",
       "    </tr>\n",
       "    <tr>\n",
       "      <th>4</th>\n",
       "      <td>4gvW8kGrGpjCRatQY7D2UA_0000</td>\n",
       "      <td>NaN</td>\n",
       "      <td>NaN</td>\n",
       "      <td>[]</td>\n",
       "      <td>[]</td>\n",
       "      <td>[{\"address\":\"heath.manering@verizonwireless.co...</td>\n",
       "      <td>[{\"end_date\":\"null\",\"last_updated\":\"2020-03-01...</td>\n",
       "      <td>[{\"is_primary\":true,\"name\":\"telecommunications\"}]</td>\n",
       "      <td>100,000-150,000</td>\n",
       "      <td>7.0</td>\n",
       "      <td>[]</td>\n",
       "      <td>[{\"continent\":\"north america\",\"country\":\"unite...</td>\n",
       "      <td>[{\"is_primary\":true,\"name\":\"heath manering\",\"l...</td>\n",
       "      <td>[]</td>\n",
       "      <td>{work_emails=[], personal_emails=[], function=...</td>\n",
       "      <td>[{\"aliases\":[],\"is_primary\":true,\"ids\":[\"33932...</td>\n",
       "      <td>[{\"name\":\"leadership\"}, {\"name\":\"customer expe...</td>\n",
       "      <td>[as the general manager of small/medium busine...</td>\n",
       "      <td>{\"contains\":[],\"previous_version\":\"9\",\"current...</td>\n",
       "    </tr>\n",
       "  </tbody>\n",
       "</table>\n",
       "</div>"
      ],
      "text/plain": [
       "                            id  birth_date  birth_date_fuzzy  \\\n",
       "0  OZO7g2R5RUt6cSSaRvriTw_0000         NaN               NaN   \n",
       "1  sQDmPUvJBPi0Sqv0lSESbQ_0000         NaN               NaN   \n",
       "2  fnCCUnbQkZEB0WAyzp-syQ_0000         NaN               NaN   \n",
       "3  b4KHSrsYZcamh6oXJWld0g_0000         NaN               NaN   \n",
       "4  4gvW8kGrGpjCRatQY7D2UA_0000         NaN               NaN   \n",
       "\n",
       "                                      certifications  \\\n",
       "0                                                 []   \n",
       "1  [{\"end_date\":\"null\",\"organization\":\"td bank\",\"...   \n",
       "2  [{\"end_date\":\"null\",\"organization\":\"sollers\",\"...   \n",
       "3                                                 []   \n",
       "4                                                 []   \n",
       "\n",
       "                                           education  \\\n",
       "0  [{\"end_date\":\"1997\",\"majors\":[\"environmental s...   \n",
       "1  [{\"end_date\":\"1994-12-31\",\"majors\":[],\"school\"...   \n",
       "2  [{\"end_date\":\"2011\",\"majors\":[],\"school\":{\"web...   \n",
       "3  [{\"end_date\":\"null\",\"majors\":[],\"school\":{\"web...   \n",
       "4                                                 []   \n",
       "\n",
       "                                              emails  \\\n",
       "0  [{\"address\":\"ben@trinityeurope.com\",\"sha256\":\"...   \n",
       "1                                                 []   \n",
       "2  [{\"address\":\"evali639@gmail.com\",\"sha256\":\"e7b...   \n",
       "3                                                 []   \n",
       "4  [{\"address\":\"heath.manering@verizonwireless.co...   \n",
       "\n",
       "                                          experience  \\\n",
       "0  [{\"end_date\":\"2006-08\",\"last_updated\":\"null\",\"...   \n",
       "1  [{\"end_date\":\"2017-10\",\"last_updated\":\"null\",\"...   \n",
       "2  [{\"end_date\":\"2017-02\",\"last_updated\":\"null\",\"...   \n",
       "3  [{\"end_date\":\"null\",\"last_updated\":\"2020-03-01...   \n",
       "4  [{\"end_date\":\"null\",\"last_updated\":\"2020-03-01...   \n",
       "\n",
       "                                          industries  inferred_salary  \\\n",
       "0  [{\"is_primary\":true,\"name\":\"information techno...   85,000-100,000   \n",
       "1         [{\"is_primary\":true,\"name\":\"real estate\"}]   85,000-100,000   \n",
       "2  [{\"is_primary\":false,\"name\":\"research\"}, {\"is_...  100,000-150,000   \n",
       "3  [{\"is_primary\":true,\"name\":\"banking\"}, {\"is_pr...    25,000-35,000   \n",
       "4  [{\"is_primary\":true,\"name\":\"telecommunications\"}]  100,000-150,000   \n",
       "\n",
       "   inferred_years_experience  \\\n",
       "0                       23.0   \n",
       "1                       18.0   \n",
       "2                        4.0   \n",
       "3                       29.0   \n",
       "4                        7.0   \n",
       "\n",
       "                                           interests  \\\n",
       "0                                                 []   \n",
       "1                                                 []   \n",
       "2                                                 []   \n",
       "3  [{\"name\":\"social services\"}, {\"name\":\"economic...   \n",
       "4                                                 []   \n",
       "\n",
       "                                           locations  \\\n",
       "0  [{\"continent\":\"europe\",\"country\":\"united kingd...   \n",
       "1  [{\"continent\":\"north america\",\"country\":\"unite...   \n",
       "2  [{\"continent\":\"north america\",\"country\":\"unite...   \n",
       "3  [{\"continent\":\"south america\",\"country\":\"argen...   \n",
       "4  [{\"continent\":\"north america\",\"country\":\"unite...   \n",
       "\n",
       "                                               names phone_numbers  \\\n",
       "0  [{\"is_primary\":true,\"name\":\"ben dunlop\",\"last_...            []   \n",
       "1  [{\"is_primary\":true,\"name\":\"roy muro\",\"last_na...            []   \n",
       "2  [{\"is_primary\":true,\"name\":\"eva li\",\"last_name...            []   \n",
       "3  [{\"is_primary\":true,\"name\":\"marybel gisela lóp...            []   \n",
       "4  [{\"is_primary\":true,\"name\":\"heath manering\",\"l...            []   \n",
       "\n",
       "                                             primary  \\\n",
       "0  {work_emails=[], personal_emails=[], function=...   \n",
       "1  {work_emails=[], personal_emails=[], function=...   \n",
       "2  {work_emails=[], personal_emails=[\"evali639@gm...   \n",
       "3  {work_emails=[], personal_emails=[], function=...   \n",
       "4  {work_emails=[], personal_emails=[], function=...   \n",
       "\n",
       "                                            profiles  \\\n",
       "0  [{\"aliases\":[],\"is_primary\":true,\"ids\":[\"16068...   \n",
       "1  [{\"aliases\":[],\"is_primary\":true,\"ids\":[\"25695...   \n",
       "2  [{\"aliases\":[],\"is_primary\":false,\"ids\":[\"1711...   \n",
       "3  [{\"aliases\":[],\"is_primary\":true,\"ids\":[\"23023...   \n",
       "4  [{\"aliases\":[],\"is_primary\":true,\"ids\":[\"33932...   \n",
       "\n",
       "                                              skills  \\\n",
       "0  [{\"name\":\"firewalls\"}, {\"name\":\".net\"}, {\"name...   \n",
       "1  [{\"name\":\"leadership\"}, {\"name\":\"asset based l...   \n",
       "2  [{\"name\":\"leadership\"}, {\"name\":\"risk based mo...   \n",
       "3  [{\"name\":\"project leader\"}, {\"name\":\"sourcetre...   \n",
       "4  [{\"name\":\"leadership\"}, {\"name\":\"customer expe...   \n",
       "\n",
       "                                           summaries  \\\n",
       "0  [passionate hands-on company owner and recruit...   \n",
       "1  [tiaa bank provides a diverse range of financi...   \n",
       "2  [high performing clinical project management p...   \n",
       "3  [professional over 23 years of experience in t...   \n",
       "4  [as the general manager of small/medium busine...   \n",
       "\n",
       "                                      version_status  \n",
       "0  {\"contains\":[],\"previous_version\":\"9\",\"current...  \n",
       "1  {\"contains\":[],\"previous_version\":\"9\",\"current...  \n",
       "2  {\"contains\":[],\"previous_version\":\"9\",\"current...  \n",
       "3  {\"contains\":[],\"previous_version\":\"9\",\"current...  \n",
       "4  {\"contains\":[],\"previous_version\":\"9\",\"current...  "
      ]
     },
     "execution_count": 17,
     "metadata": {},
     "output_type": "execute_result"
    }
   ],
   "source": [
    "summary.head()"
   ]
  },
  {
   "cell_type": "code",
   "execution_count": 18,
   "metadata": {},
   "outputs": [],
   "source": [
    "# summary = summary.drop([\"Technology\", \"exact_matched_patt\"], axis = 1)"
   ]
  },
  {
   "cell_type": "code",
   "execution_count": 19,
   "metadata": {
    "id": "x9J-FKau3Jhi"
   },
   "outputs": [],
   "source": [
    "# def  reading_file():\n",
    "  \n",
    "#   tech = pd.read_csv(\"/content/Technology Summary Matching Project - technologies.csv\")\n",
    "#   summary = pd.read_csv(\"/content/c22b731c-cff3-4c60-b880-9f42f2fe45cb.csv\")\n",
    "#   output = pd.read_csv(\"/content/output - output.csv\")\n",
    "\n",
    "#   print(\"Technology sheet\", tech.head())\n",
    "#   print(\"\\n\\n Technology sheet data types\\n\", tech.dtypes)\n",
    "\n",
    "#   print(\"summary sheet\", summary.head())\n",
    "#   print(\"\\n\\n summary sheet data types\\n\", summary.dtypes)\n",
    "\n",
    "#   print(\"output sheet\", output.head())\n",
    "#   print(\"\\n\\n output sheet data types\\n\", output.dtypes)\n",
    "\n",
    "#   return tech, summary, output"
   ]
  },
  {
   "cell_type": "code",
   "execution_count": 20,
   "metadata": {
    "id": "WhQVN_q0lrj0"
   },
   "outputs": [],
   "source": [
    "\n",
    "# def dictionary_with_title_description(df):\n",
    "#   \" This function will return dictionaries containing blog id, company names from title, and company name from description\"\n",
    "  \n",
    "#   company_names_description = {} # initialising empty dictionary for company names extracted from description\n",
    " \n",
    "#   for i in range(0, len(df)):\n",
    "#     doc = nlp(df.loc[i, \"summaries\"])\n",
    "    \n",
    "#     for X in doc.ents:\n",
    "      \n",
    "#       if X.label_ == 'ORG':\n",
    "\n",
    "#         company_names_description.setdefault(df.loc[i, \"id\"], [])\n",
    "#         company_names_description[df.loc[i, \"id\"]].append(X.text)\n",
    "#         # company_names_description{'blog_id' : list of companies found from ORG tag using spacy }\n",
    "        \n",
    "#   print(\"Company names extracted from Summaries : \\n\",company_names_description)\n",
    "\n",
    "\n",
    "#   return company_names_description"
   ]
  },
  {
   "cell_type": "code",
   "execution_count": 21,
   "metadata": {},
   "outputs": [],
   "source": [
    "# # h = nlp(\"Larry Page founded Google\")\n",
    "# # h = nlp(\"Google\")\n",
    "# # h = nlp(\"MySQL\")\n",
    "# # h = nlp(\"Larry Page founded MySQL\")\n",
    "# # h = nlp(\"a highly experienced talent specialist and talent manager with 12 years industry experience and a wealth of knowledge, gained through employment within agency and internal recruitment as both a recruitment consultant and manager across new zealand, uk and australia, with relevant qualifications. specialist in best practice talent acquisition management through leading from the front and ensuring innovative sourcing strategies and recruitment processes are upheld. highly experienced in the end to end recruitment cycle with involvement in both high volume and senior management recruitment. well practised in change management and strategic thinking to improve efficiencies. clear communicator with stakeholders at all levels. specialties: management, talent acquisition, sourcing and selecting, best practise recruitment, people management and change management., a highly experienced talent specialist and talent manager with 11 years industry experience and a wealth of knowledge, gained through employment within agency and internal recruitment as both a recruitment consultant and manager across new zealand, uk and australia, with relevant qualifications. specialist in best practice talent acquisition management through leading from the front and ensuring innovative sourcing strategies and recruitment processes are upheld. highly experienced in the end to end recruitment cycle with involvement in both high volume and senior management recruitment. well practised in change management and strategic thinking to improve efficiencies. clear communicator with stakeholders at all levels. specialties: management, talent acquisition, sourcing and selecting, best practise recruitment, people management and change management., a highly experienced recruiter and recruitment manager with 10 years industry experience and a wealth of knowledge, gained through employment within agency and internal recruitment as both a recruitment consultant and manager across new zealand, uk and australia, with relevant qualifications. specialist in best practice talent acquisition management through leading from the front and ensuring innovative sourcing strategies and recruitment processes are upheld. highly experienced in the end to end recruitment cycle with involvement in both high volume and senior management recruitment. well practised in change management and strategic thinking to improve efficiencies. clear communicator with stakeholders at all levels. specialties: management, talent acquisition, sourcing and selecting, best practise recruitment, people management and change management., a highly experienced recruiter with 9 years industry experience and a wealth of knowledge, gained through employment within agency and internal recruitment as both a recruitment consultant and manager across new zealand, uk and australia, with relevant qualifications. specialist in best practice talent acquisition for both clients and internal staff involving innovative sourcing strategies and recruitment processes. highly experienced in the end to end recruitment cycle with involvement in both high volume and senior management recruitment. well practised in change management and strategic thinking to improve efficiencies. clear communicator with stakeholders at all levels.specialties: management, talent acquisition, sourcing and selecting, best practise recruitment, people management, change management and education., hr practitioner with experience in the media and education industries. a true partner and trusted adviser to the business with a pragmatic and strategic approach. experienced in transformation, change management and people management., hr specialist at news corp australia, internal recruiter at news corp\")\n",
    "# # h = nlp(\"engineering team leader and manager with strong attention to detail, constant self-improvement and ability to rapidly switch from high level managerial concerns to focused details. process-oriented and continuously improving. strong background in change management, lean principles, strategic thinking, structured problem solving and data-backed decision making. i have led engineering teams through the design, assembly and installation of high speed precision manufacturing equipment of portion pack assembly lines in addition to consumer product development in both consumable and durable goods. specialties: project management, team leadership, functional management, lean six sigma green belt, data analysis, verification/validation, test engineering, measurement systems development and qualification, manufacturing engineering, rapid prototype development, cad design, dfm/dfa, fmea, dvp&r, metal and wood fabrication, logistics planning, rigging, electro-mechanical integration, excellent oral and written communication skills., engineering thought leader with demonstrated success building lean processes, assembling capable talent and developing quality products. strong background in design and test engineering with a keen attention to detail and continuous self-improvement. i have led engineering teams through the design, assembly and installation of high speed precision manufacturing equipment of portion pack assembly lines in addition to product development in both consumable and durable consumer goods. specialties: project management, team leadership, functional management, lean six sigma green belt, data analysis, verification/validation, test engineering, measurement systems development and qualification, manufacturing engineering, rapid prototype development, cad design, dfx, fmea, dvp&r, metal and wood fabrication, logistics planning, rigging, electro-mechanical integration, excellent oral and written communication skills., mechanical engineering team leader and manager with strong attention to detail, constant self-improvement and ability to rapidly switch from high level managerial concerns to focused details. excellent mechanical aptitude and constant desire to learn. currently working in a functional management role. i also participate in manufacturing equipment deployment strategy and drive continuous improvement initiatives.my project management experience includes leading engineering teams through the design, assembly and installation of high speed precision manufacturing equipment of portion pack assembly lines.specialties: project management, team leadership, functional management, six sigma green belt, data analysis, manufacturing engineering, rapid prototype development, cad design, metal and wood fabrication, logistics planning, rigging, electro-mechanical integration, excellent oral and written communication., engineering manager, equipment design engineering at keurig green mountain, inc. location: greater boston area; industry: mechanical or industrial engineering .... senior engineering manager at keurig green mountain, inc., engineering manager, equipment design engineering at keurig green mountain, inc at keurig green mountain, inc., engineering senior manager, reliability and test engineering at keurig green mountain, inc., engineering senior manager, reliability and test engineering at keurig dr. pepper, application development and maintenance, group leader at keurig green mountain\")\n",
    "# # h = nlp(\"- 4.5+ years experience in vlsi physical design - m.tech graduate (microelectronics and vlsi design) from vnit nagpur, 2014 - worked on tsmc (16nm,7nm) and gf (14nm,7nm) technology nodes. - proficient with synopsys (icc, icc2, pt), cadence (innovus) and mentor graphics (calibre) tools. - skilled in tcl, perl, shell, sed and awk scripting. - specialized in physical design implementation (rtl to gdsii), timing closure and sign-off, physical verification. - experienced in p&r, eco flow, design flow automation, full-chip (timing and physical verification) sign-off. - worked on soc - gpu and cpu cores., - 3.5+ years experience in vlsi physical design - m.tech graduate (microelectronics and vlsi design) from vnit nagpur, 2014 - worked on tsmc (16nm,7nm) and gf (14nm,7nm) technology nodes. - proficient with synopsys (icc, icc2, pt), cadence (innovus) and mentor graphics (calibre) tools. - skilled in tcl, perl, shell, sed and awk scripting. - specialized in physical design implementation (rtl to gdsii), timing closure and sign-off, physical verification. - experienced in p&r, eco flow, design flow automation, full-chip (timing and physical verification) sign-off. - worked on soc - gpu and cpu cores., - 2+ years experience in vlsi physical design - m.tech graduate (microelectronics and vlsi design) from vnit nagpur, 2014 - worked on tsmc (16nm,7nm) and gf (14nm,7nm) technology nodes. - proficient with synopsys (icc, icc2, pt), cadence (encounter), apache (redhawk) and mentor graphics (calibre) tools. - skilled in shell, perl and tcl scripting. - specialized in physical design implementation (rtl to gdsii), timing closure and sign-off, physical verification. - experienced in p&r, eco flow, design flow setup and automation, full-chip (timing and physical verification) sign-off., - m.tech graduate (microelectronics and vlsi design) from vnit nagpur, 2014 - 1+ year experience in vlsi/asic digital ic design- excellent knowledge of fundamentals and challenges in deep sub-micron technology.- worked on 180nm, 45nm and 16nm (finfet) technology nodes.- proficient with synopsys (icc, star-rc, pt), cadence (encounter) and mentor graphics (calibre) tools.- skilled in perl/tcl and shell scripting- specialized in physical design implementation (rtl to gdsii), timing closure and signoff, physical verification and layout design, - 1.5+ years experience in vlsi physical design - m.tech graduate (microelectronics and vlsi design) from vnit nagpur, 2014 - worked on 16nm (tsmc finfet plus) technology nodes. - proficient with synopsys (icc, icc2, pt), cadence (encounter), apache (redhawk) and mentor graphics (calibre) tools. - skilled in shell, perl and tcl/tk scripting. - specialized in physical design implementation (rtl to gdsii), timing closure and signoff, physical verification, power analysis and layout design., smartplay technologies (i) pvt. ltd. education. visvesvaraya national institute of technology, nagpur. recommendations ... physical design - indian pd group..., physical design engineer @ aricent (hw prod dev at aricent, associate engineer at smartplay technologies (i) pvt. ltd, physical design engineer - 2 @ aricent (hw prod dev), associate engineer (physical design) @ aricent, senior engineer - physical design @ qualcomm, application development and maintenance, investment banking - back office, sr. engineer - pd @ qualcomm, retail banking - back office\")\n",
    "# # h = nlp(\"summary of skills skilled recruitment professional with around 8+ years of extensive experience in technical recruitment, corporate recruitment, recruitment management and training recruiters , account management and client interactions . ability to conduct phone and face to face technical interviews for software engineers with technical skills in j2ee (architects and developers), .net, business objects, database developers, administrators, qa and testing specialists, project managers, business analysts and various other software professionals extensive experience in sourcing professionals specializing in (java/j2ee, .net technologies , portal developers, messaging and integration experts, .net, sharepoint, biztalk & testing experts, business analysts, eai other skill sets and infrastructure skills  specialties: corporate recruitment , negotiation skills , talent management, , hiring top it talent for specifically for enterprise application integration skills , team handling and client interactions, summary of skills skilled recruitment professional with around 9+ years of extensive experience in technical recruitment, corporate recruitment, recruitment management and training recruiters , account management and client interactions . ability to conduct phone and face to face technical interviews for software engineers with technical skills in j2ee (architects and developers), .net, business objects, database developers, administrators, qa and testing specialists, project managers, business analysts and various other software professionals extensive experience in sourcing professionals specializing in (java/j2ee, .net technologies , portal developers, messaging and integration experts, .net, sharepoint, biztalk & testing experts, business analysts, eai other skill sets and infrastructure skills specialties: corporate recruitment , negotiation skills , talent management, , hiring top it talent for specifically for enterprise application integration skills , team handling and client interactions, summary of skills skilled recruitment professional with 10 + years of extensive experience in technical recruitment, corporate recruitment, recruitment management and training recruiters , account management and client interactions . ability to conduct phone and face to face technical interviews for software engineers with technical skills in j2ee (architects and developers), .net, business objects, database developers, administrators, qa and testing specialists, project managers, business analysts and various other software professionals extensive experience in sourcing professionals specializing in (java/j2ee, .net technologies , portal developers, messaging and integration experts, .net, sharepoint, biztalk & testing experts, business analysts, eai other skill sets and infrastructure skills specialties: corporate recruitment , negotiation skills , talent management, , hiring top it talent for specifically for enterprise application integration skills , team handling and client interactions, account manager (recruitment & client interactions ) - vdart technologies, account manager ( recruitment )vdart technologies at vdart inc, delivery account lead at vdart inc\")\n",
    "\n",
    "# h = nlp(\"i love using new technologies and media channels to innovate the way people, governments and groups communicate. by encouraging a combination of analytical strategy and user-focused design, we can create digital products that do more than simply targets ads or 'connect brand influencers'. by creating useful, approachable and empathetic digital tools, we can drive net-positive change without sacrificing lucrative market opportunities. though a student of political science and sociology, my professional experience is in product management and and coordinating multi-stage technical projects for large clients, primarily in the higher ed, publishing, technology and cpg sectors. i'm also a self-taught developer, with experience in PHP and Node.js. i've designed apis, done end-to-end qa testing, written 400 page requirements docs, coded webhook receivers, debugged Bootstrap in ie6, pitched investors, closed clients and designed interfaces. all while pushing commits from 15 countries., i love using new technologies and media channels to innovate the way people, governments and groups communicate. by creating useful, approachable and empathetic digital tools, we can drive net-positive change without sacrificing lucrative market opportunities. though a student of political science and sociology, my professional experience is in product management and and coordinating multi-stage technical projects for large clients, primarily in the higher ed, publishing, travel and exploration sectors. i'm also a self-taught developer, with experience in php and node.js. i've designed apis, done end-to-end qa testing, written 400 page requirements docs, coded webhook receivers, debugged bootstrap in ie6, pitched investors, closed clients and designed interfaces. all while pushing commits from 15 countries., product leader with technical background and experience in growth-stage technology companies as both founder and early hire. enterprise vendor/consultant experience at each stage of the process, touching sales, strategy, implementation and account management. my background is in product management and and coordinating multi-stage technical projects in verticals like travel, exploration, publishing and higher ed. self-taught developer, with experience in php and unique large-scale WordPress scenarios. i've designed apis, done end-to-end qa testing, written 400-page requirements docs, coded webhook receivers, sold six-figure projects, debugged bootstrap in ie6, pitched investors, managed product teams, closed clients and designed interfaces while pushing commits from 15 countries., i live in brooklyn and help people build awesome digital products. i am one of the co-founders of a022 digital, a small group that offers web development, design and product development services. we have our own ongoing product called alumni spaces, aimed at helping local and national alumni groups be more awesome., tech co-founder @alumnispaces. now a brooklyner, sometimes a developer, occasionally a traveler and too rarely a sailor., co-founder at alumni spaces, co-founder at lat long\")"
   ]
  },
  {
   "cell_type": "code",
   "execution_count": 22,
   "metadata": {},
   "outputs": [],
   "source": [
    "# [(ent.text, ent.label_) for ent in h.ents]"
   ]
  },
  {
   "cell_type": "code",
   "execution_count": 23,
   "metadata": {},
   "outputs": [],
   "source": [
    "# doc = nlp(\"former student of prague college, having graduated in 2016 with a degree in international business management (ba hons). currently working as as a product support analyst for amazon with a primary focus on salesforce. upon completion of my a levels, i spent the year (following an in-depth assessment) working as a volunteer for a charity (the jesuit missions) at a school in india. after that they then asked me to help run a summer camp in kyrgyzstan. to help fund these experiences ( i was a volunteer so had to pay for everything) i worked at vodafone uk as an in-store sales advisor. i am passionate about sports, and see the importance of team skills in my future work environment. charity work, human resources, business development and marketing are all areas of interest to me. i am always keen to meet new people and experience new situations and challenges. also to stretch myself to develop new skills and learning opportunities., student at prague college studying ba hons (international business management), currently in my final year graduating 2016, and seeking graduate scheme roles with international companies. upon completion of my a levels, i spent the year (following an in-depth assessment) working as a volunteer for a charity (the jesuit missions) at a school in india. after that they then asked me to help run a summer camp in kyrgyzstan. to help fund these experiences ( i was a volunteer so had to pay for everything) i worked at vodafone uk as an in-store sales advisor. i am passionate about sports, and see the importance of team skills in my future work environment. charity work, business development, human resources and marketing are all areas of interest to me. i am always keen to meet new people and experience new situations and challenges. also to stretch myself to develop new skills and learning opportunities., former student of prague college, having graduated in 2016 with a degree in international business management (ba hons) upon completion of my a levels, i spent the year (following an in-depth assessment) working as a volunteer for a charity (the jesuit missions) at a school in india. after that they then asked me to help run a summer camp in kyrgyzstan. to help fund these experiences ( i was a volunteer so had to pay for everything) i worked at vodafone uk as an in-store sales advisor. i am passionate about sports, and see the importance of team skills in my future work environment. charity work, business development, human resources and marketing are all areas of interest to me. i am always keen to meet new people and experience new situations and challenges. also to stretch myself to develop new skills and learning opportunities., hr specialist currently working as as a product support analyst for amazon with a primary focus on salesforce and peoplesoft. focusing on uat coordination and technical support across the different platforms. i am passionate about sports, and see the importance of team skills in my future work environment. charity work, human resources and project management are all areas of interest to me. i am always keen to meet new people and experience new situations and challenges. also to stretch myself to develop new skills and learning opportunities., student at prague college studying a ba in international business management. i decided to take a year out after finishing my a levels in which i travelled to india and kyrgyzstan where i volunteered as a teacher. in between traveling i worked at vodafone uk as an in store sales advisor., ba (hons) international business management student at prague international college, recruitment consultant at nonstop education, market researcher at nonstop education, product support analyst at amazon\")\n",
    "# tokens = [token.text for token in doc]\n",
    "# print(\"\\n TOKENS \\n\", tokens)\n",
    "# for i in range(0, len(tokens)):\n",
    "#     doc_org = nlp(tokens[i])\n",
    "    \n",
    "#     for X in doc_org.ents:\n",
    "#         if X.label_ ==\"ORG\":\n",
    "#             print(\"\\n ORG tags after tokenizing\\n\", X.text)"
   ]
  },
  {
   "cell_type": "code",
   "execution_count": 24,
   "metadata": {},
   "outputs": [],
   "source": [
    "# from nltk.tag import StanfordNERTagger"
   ]
  },
  {
   "cell_type": "code",
   "execution_count": 25,
   "metadata": {},
   "outputs": [
    {
     "name": "stdout",
     "output_type": "stream",
     "text": [
      "\n",
      " TrueCase Annotated \n",
      " Passionate hands-on company owner and recruiter within all aspects of the it/ information security& data privacy arena including Governance, risk& compliance, identity& access management, industrial Cyber security, Ics, Pcn, Scada, network security( Firewalls, intrusion penetration services, intrusion detection services), pen testing, Encryption/ Cryptography, vulnerability management, End-Point security, data loss prevention, embedded security/ industrial control, security operations centres, Siem, Gdpr, Dpa, Dp policy& strategy, Cipp/ E, Cipm, Cipt, Iseb, I am interested in making contact with clients who may need assistance with finding specialist information security consultants, it& network security engineers, and data privacy professionals. I am also keen to make contact with information security consultants, it& network security engineers, and data privacy professionals. Specialities: technical Resourcing, head hunting, project Outsourcing, team building, technical testing, Pre-Screening interviewing, short-term projects/ consultancy., passionate hands-on company owner and recruiter within all aspects of the it security& data privacy arena including Dpo'S, Eu Gdpr, Dpa, Dp policy& strategy, Cipp/ E, Cipm, Cipt, Iseb, identity& access management, network security( Firewalls, intrusion penetration services, intrusion detection services), pen testing, Encryption/ Cryptography, vulnerability management, End-Point security, data loss prevention, embedded security/ industrial control, security operations centres, Siem, compliance& Governance I am interested in making contact with clients who may need an agency to assist with finding specialist data privacy professionals, it security engineers, and security consultants who feel they would like to speak with a quality recruiter with regards to joining some of the Industries most desirable security related projects. Specialities: technical Resourcing, head hunting, project Outsourcing, team building, technical testing, Pre-Screening interviewing, short-term projects/ consultancy., passionate hands-on company owner and recruiter within all aspects of the it security arena including identity& access management, network security( Firewalls, intrusion penetration services, intrusion detection services), pen testing, Encryption/ Cryptography, vulnerability management, End-Point security, data loss prevention, embedded security/ industrial control, security operations centres, Siem, compliance& Governance I am interested in making contact with clients who may need an agency to assist with finding specialist it security engineers, and security consultants who feel they would like to speak with a quality recruiter with regards to joining some of the Industries most desirable security related projects. Specialities: technical Resourcing, head hunting, project Outsourcing, team building, technical testing, Pre-Screening interviewing, short-term projects/ consultancy., passionate hands-on recruiter within all aspects of the Cyber security arena including identity& access management, network security( Firewalls, intrusion penetration services, intrusion detection services), pen testing, Encryption/ Cryptography, vulnerability management, End-Point security, data loss prevention, embedded security/ industrial control, security operations centres, Siem, compliance& Governance I am interested in making contact with clients who may need an agency to assist with finding specialist Cyber security engineers, and Cyber security consultants who feel they would like to speak with a quality recruiter with regards to joining some of the Industries most desirable security related projects. Specialities: technical Resourcing, head hunting, project Outsourcing, team building, technical testing, Pre-Screening interviewing, short-term projects/ consultancy., passionate hands-on company owner and recruiter within the Digital security/ Iot security/ Ics Cyber security space including Governance, risk& compliance, Pcn, Scada, ot security, Gicsp, Cissp, Cism, Comptia security+, Ceh, Sans, network security( Firewalls, intrusion penetration services, intrusion detection services), pen testing, Encryption/ Cryptography, vulnerability management, End-Point security, data loss prevention, embedded security/ industrial control, Osisoft pi, security operations centres, Siem, Gdpr, Dpa, Dp policy& strategy, Cipp/ E, Cipm, Cipt, identity& access management. Specialities: technical Resourcing, head hunting, project Outsourcing, team building, technical testing, Pre-Screening interviewing, short-term projects/ consultancy., TDS Cybersecurity consulting and assessment services help you understand the current Cybersecurity risk exposure across your entire organization. coverage can include a complete 360 view of your people, process and technology across both Governance and technical controls. We tailor to your needs. premium but affordable Cybersecurity consultancy, recruitment and managed security services enable you to focus upon your core business, whilst we deliver round-the-clock protection and security services., location: London, United Kingdom; industry: information technology and services ... at Trinity connected our senior sales team have over 50 years of combined experience in the I. T. and telecommunications ... front end lead at Iris worldwide. United ... Infosec/ Cyber security recruitment consultant& account manager ..., investment banking- front office, owner- Trinity Digital security, investment banking- back office, retail banking- back office\n",
      "\n",
      " TrueCase Annotated \n",
      " Tiaa Bank provides a diverse range of financial products and services directly to clients nationwide through multiple business channels. with an emphasis on value, innovation and service, Everbank offers a broad selection of banking, lending and investing products to consumers and businesses. I'm committed to client satisfaction, and it drives me to work diligently on every loan. But my dedication is only part of the story. with more than 17 years of mortgage experience and a thorough knowledge of mortgage lending throughout Florida, I can help you find a loan that meets your financial needs and get you to closing on time. whether you're referring a client or you're a homebuyer, I'm confident you'll appreciate what Tiaa Bank and I can do for you. We offer a wide range of loans and a variety of terms. and we're well prepared to handle everything from complex financial situations to larger loan sizes. I'll always be available to answer your questions throughout the mortgage process from beginning to end., Everbank provides a diverse range of financial products and services directly to clients nationwide through multiple business channels. with an emphasis on value, innovation and service, Everbank offers a broad selection of banking, lending and investing products to consumers and businesses. I'm committed to client satisfaction, and it drives me to work diligently on every loan. But my dedication is only part of the story. with more than 15 years of mortgage experience and a thorough knowledge of mortgage lending throughout Florida, I can help you find a loan that meets your financial needs and get you to closing on time. whether you're referring a client or you're a homebuyer, I'm confident you'll appreciate what Everbank and I can do for you. We offer a wide range of loans and a variety of terms. and we're well prepared to handle everything from complex financial situations to larger loan sizes. I'll always be available to answer your questions throughout the mortgage process from beginning to end., with more nearly 2 decades of lending experience our team can help you find a loan that meets your financial needs and get you to Te closing table on time. whether you're referring a client or you're a homebuyer, I'm confident you'll appreciate what our team and I can do for you. We offer a wide range of loans and a variety of terms. and we're well prepared to handle everything from complex financial situations to larger loan sizes. I'll always be available to answer your questions throughout the mortgage process from beginning to end. Prmi Nmls 3094. Nmls 646915. 2030 S. Douglas RD. STE 109 Coral Gables, fl 33134. Prmi is an equal housing lender. Florida office of financial regulation Mld 646. Https://Www.Primaryresidentialmortgage.Com/Resources/Consumer-Voice, my 15 years of experience in all financial markets gives me a unique macro perspective in today's lending environment. Each situation is treated as unique and all options of future planning are considered. primary residential allows me the opportunity to offer my clients every type of lending available in today's market. from conventional to jumbo, from FHA to Va. first time Home-Buyer specialist as well. At primary residential mortgage, Inc. We are a correspondent lender, which means we have control over the loan process- we underwrite, process, and fund our own loans. This allows us to deliver a much quicker turnaround time resulting in a much better customer service experience for the client., my 15 years of experience in all financial markets gives me a well rounded perspective in today's lending environment. Each situation is treated as unique and all options of future planning are considered. primary residential allows me the opportunity to offer my clients every type of lending available in today's market. from conventional to jumbo, from FHA to Va. first time Home-Buyer specialist as well. At primary residential mortgage, Inc. We are a correspondent lender, which means we have control over the loan process- we underwrite, process, and fund our own loans. This allows us to deliver a much quicker turnaround time resulting in a much better customer service experience for the client., with more than 17 years of mortgage experience and a thorough knowledge of mortgage lending throughout Florida, I can help you find a loan that meets your financial needs and get you to closing on time. whether you're referring a client or you're a homebuyer, I'm confident you'll appreciate what our team and I can do for you. We offer a wide range of loans and a variety of terms. and we're well prepared to handle everything from complex financial situations to larger loan sizes. I'll always be available to answer your questions throughout the mortgage process from beginning to end., over 14 years in banking industry having successfully held leadership roles in retail banking, small business lending, and wealth management.\" producing manager\" with proven track record of successfully leading top performing teams while Excelling as an individual contributor., branch sales manager/ residential lending at Everbank/ Nmls# 646915, mortgage loan officer at American Bancshares mortgage, mortgage loan officer at primary residential mortgage, branch manager at primary residential mortgage, vice president/ branch manager at Bankunited\n",
      "\n",
      " TrueCase Annotated \n",
      " High performing clinical project management professional experienced with global phase II and III clinical trials within CNS indications. demonstrated expertise in managing clinical trial execution, including initiating and planning( project plan development, scheduling, risk management), monitoring( quality, tracking/ reporting, change control), and closing, from region to site level. possesses strong Analytical and technical abilities. skilled in process/ Workflow optimization and management. extensive knowledge in areas of drug development, Ich-Gcp E6, 21- CFR, Edc systems. strategically and efficiently handles multiple competing priorities involving Cross-Functional departments. Progressive thinker who is highly organized, resourceful, and adaptable. areas of strength: Troubleshooting and analysis; Workflow optimization; client/ staff training; task delegation and management; strategic planning; project/ change/ data management please feel free to contact me at any time via Linkedin or Email: Evali639@Gmail.Com., clinical program manager experienced with global phase II and III clinical trials within CNS indications. demonstrated expertise in managing clinical programs, including initiating and planning( project plan development, scheduling, risk analysis/ management), monitoring( quality, tracking/ reporting, change control), and closing, from region to site level. possesses strong Analytical and technical abilities. demonstrated success in process/ Workflow optimization and management. extensive knowledge in areas of drug development, Ich-Gcp E6, 21- CFR, Edc systems. strategically and efficiently handles multiple competing priorities involving Cross-Functional departments. Progressive thinker who is highly organized, resourceful, and adaptable. areas of strength: Troubleshooting and analysis; Workflow optimization; client/ staff training; task delegation and management; strategic planning; project/ change/ data management feel free to contact me at any time via Linkedin or Email: Evali639@Gmail.Com., I'm a graduate from Rutgers University with a Bachelor'S in cell biology and Neuroscience and a certified advanced clinical research professional. I'm actively pursuing Research-Based opportunities in a Fast-Paced environment. eager to utilize my extensive knowledge in areas such as Ich-Gcp, drug development, Neurobiology, and cellular biology, I look forward to contributing to and helping to progress the clinical research field. I'm a highly organized, resourceful, and adaptable individual who works well in teams and is experienced with working under minimal supervision. as a strategic thinker, I continually seek opportunities to develop and implement new and efficient Workflows. given the opportunity, my diverse skills would make me a valued member of a clinical research team. please feel free to contact me at any time via Linkedin or Email: Evali639@Gmail.Com., experienced clinical research MGMT professional- global phase II and III trials- CNS indications. graduate of Rutgers University- specialized in cell biology and Neuroscience. certified in advanced clinical research. extensive knowledge in areas such as drug development, Icg-Gcp E6, Neurobiology, and cellular biology. demonstrated expertise in managing phases of project MGMT, planning( project plans, scheduling/ forecasting, risk MGMT, budgeting) and monitoring( tracking/ reporting, quality, billing). adaptable and works well under pressure with competing priorities involving Cross-Functional departments and independent projects. strategic thinker who is highly organized, resourceful, and adaptable. please feel free to contact me at any time via Linkedin or Email: Evali639@Gmail.Com., I'm a recent graduate from Rutgers University with a Bachelor'S in cell biology and Neuroscience and a minor in psychology. coming from an extremely innovative and collaborative academic background, I'm actively pursuing Research-Based opportunities in a Fast-Paced environment. I'm a Self-Motivated, resourceful, and focused individual who works very well in teams as well as individually. with the ability to quickly learn concepts and techniques, I enjoy opportunities to develop and implement new and efficient Workflows. In my spare time, I enjoy reading and learning about new technologies, specifically artificial intelligence, as well as central nervous system diseases and Neuroplasticity. please feel free to contact me at any time via E-mail at: Evali639@Gmail.Com, I am an undergraduate student at Rutgers University with a projected graduation date of January 2016 for a bachelors in cell biology and Neuroscience, and a minor in psychology. I am seeking Internship and research opportunities in a Fast-Paced work environment that will utilize and refine my knowledge of Neurophysiology, cellular and molecular biology, and research techniques. contact: El390@Scarletmail.Rutgers.Edu, education. Rutgers, the state University of new Jersey-New Brunswick ... eva Li. technology consulting analyst at Accenture. United States ..., global clinical research operations( CNS)| project and site management, Cfd/ thermal engineer at Honda R& D America, clinical project coordinator( CNS), investment banking- back office, retail banking- back office\n",
      "\n",
      " TrueCase Annotated \n",
      " Professional over 23 years of experience in the field of data processing in the banking area and other industries. recently I received training to work under Methodologies agile( Scrum), Html 5, Java, CSS 3 for projects of Bbva corporate Website. experience in the analysis, design, implementation, maintenance and support of systems using COBOL, Cics, Db2, Tso, Jcl, Changeman, Control-M and IBM mainframe platform. experience in the development and maintenance of financial systems products as Altamira( marketing Module, assets& risk Module), Altair( assets& risk Module and architecture Altair Module). project leader. analysis of projects for development and preparation of technical designs, perform unit testing and functional testing of developed components. project monitoring. deploying new applications, programs and processes. maintenance and modification of programs and processes. I have developed good communication, Self-Organization skills and ability to work in groups with minimal supervision. good experience in managing project., professional over 25 years of experience in the field of data processing in the banking area and other industries. recently I received training to work under Methodologies agile( Scrum), Html 5, Java, CSS 3 for projects of Bbva corporate Website. experience in the analysis, design, implementation, maintenance and support of systems using COBOL, Cics, Db2, Tso, Jcl, Changeman, Control-M and IBM mainframe platform. experience in the development and maintenance of financial systems products as Altamira( marketing Module, assets& risk Module), Altair( assets& risk Module and architecture Altair Module). project leader. analysis of projects for development and preparation of technical designs, perform unit testing and functional testing of developed components. project monitoring. deploying new applications, programs and processes. maintenance and modification of programs and processes. I have developed good communication, Self-Organization skills and ability to work in groups with minimal supervision. good experience in managing project., professional over 24 years of experience in the field of data processing in the banking area and other industries. recently I received training to work under Methodologies agile( Scrum), Html 5, Java, CSS 3 for projects of Bbva corporate Website. experience in the analysis, design, implementation, maintenance and support of systems using COBOL, Cics, Db2, Tso, Jcl, Changeman, Control-M and IBM mainframe platform. experience in the development and maintenance of financial systems products as Altamira( marketing Module, assets& risk Module), Altair( assets& risk Module and architecture Altair Module). project leader. analysis of projects for development and preparation of technical designs, perform unit testing and functional testing of developed components. project monitoring. deploying new applications, programs and processes. maintenance and modification of programs and processes. I have developed good communication, Self-Organization skills and ability to work in groups with minimal supervision. good experience in managing project., professional over 18 years of experience in the field of data processing in the banking area and other industries. experience in the analysis, design, implementation, maintenance and support of systems using COBOL, Cics, Db2, Tso, Jcl, Changeman, Control-M and IBM mainframe platform. experience in the development and maintenance of financial systems products as Altamira( marketing Module, assets& risk Module), Altair( assets& risk Module and architecture Altair Module). project leader. analysis of projects for development and preparation of technical designs, perform unit testing and functional testing of developed components. project monitoring. deploying new applications, programs and processes. maintenance and modification of programs and processes. I have developed good communication, Self-Organization skills and ability to work in groups to work with minimal supervision. good experience in managing projects, professional over 22 years of experience in the field of data processing in the banking area and other industries. experience in the analysis, design, implementation, maintenance and support of systems using COBOL, Cics, Db2, Tso, Jcl, Changeman, Control-M and IBM mainframe platform. experience in the development and maintenance of financial systems products as Altamira( marketing Module, assets& risk Module), Altair( assets& risk Module and architecture Altair Module). project leader. analysis of projects for development and preparation of technical designs, perform unit testing and functional testing of developed components. project monitoring. deploying new applications, programs and processes. maintenance and modification of programs and processes. I have developed good communication, Self-Organization skills and ability to work in groups to work with minimal supervision. good experience in managing projects, management and development specialist/ Bbva provincial, design and development specialist/ Bbva provincial, consultant- management and development specialist, accion point S. A.\n",
      "\n",
      " TrueCase Annotated \n",
      " As the general manager of small/ medium businesses I help support 9 retail locations in 3 districts, within the North central market: Wyoming, Nebraska and Colorado. My team and I help in driving growth, store Developement and guest experience within the small/ medium business space. I'm an innovative professional. energetic leader. I believe in the team development and morale in culture. I am driven by my family and approach everything with simplified execution and message discipline. I strive for excellence in experience and gain meaningful relationships through trust and loyalty. I Beleive in the simplicity of innovation by focusing on the end goal, delivering best in class results by Leveraging specific business priorities that increase the bottom line. When I work with my team, they feel inspired and empowered through the simplification of business execution and the trust of the team culture, which creates high morale and a better experience to all that we do business with. All opinions are my own., as the general manager of small/ medium businesses I help support 15 retail locations in 3 districts, within the North central market: Wyoming, Nebraska and Colorado. My team and I help in driving growth, store Developement and guest experience within the small/ medium business space. I'm an innovative professional. energetic leader. I believe in the team development and morale in culture. I am driven by my family and approach everything with simplified execution and message discipline. I strive for excellence in experience and gain meaningful relationships through trust and loyalty. I Beleive in the simplicity of innovation by focusing on the end goal, delivering best in class results by Leveraging specific business priorities that increase the bottom line. When I work with my team, they feel inspired and empowered through the simplification of business execution and the trust of the team culture, which creates high morale and a better experience to all that we do business with., as the general manager of small/ medium businesses I help support 8 districts, within the mountain market: Idaho, Utah, Wyoming and Colorado retail sales locations and help in driving growth, store Developement within the small/ medium business space and guest experience. I'm an innovative professional. energetic leader. I believe in the team development and morale in culture. I am driven by my family and approach everything with simplified execution and message discipline. I strive for excellence in experience and gain meaningful relationships through trust and loyalty. I Beleive in the simplicity of innovation by focusing on the end goal, delivering best in class results by Leveraging specific business priorities that increase the bottom line. When I work with my team, they feel inspired and empowered through the simplification of business execution and the trust of the team culture, which creates high morale and a better experience to all that we do business with., as the general manager of small/ medium businesses I help support 29 retail locations in 5 districts, within the mountain market: Wyoming and Colorado. My team and I help in driving growth, store Developement and guest experience within the small/ medium business space. I'm an innovative professional. energetic leader. I believe in the team development and morale in culture. I am driven by my family and approach everything with simplified execution and message discipline. I strive for excellence in experience and gain meaningful relationships through trust and loyalty. I Beleive in the simplicity of innovation by focusing on the end goal, delivering best in class results by Leveraging specific business priorities that increase the bottom line. When I work with my team, they feel inspired and empowered through the simplification of business execution and the trust of the team culture, which creates high morale and a better experience to all that we do business with., innovative professional. energetic leader. I believe in the team development and morale in culture. I am driven by my family and approach everything with simplified execution and message discipline. I strive for excellence in experience and gain meaningful relationships through trust and loyalty. I Beleive in the simplicity of innovation by focusing on the end goal, by delivering best in class results through Leveraging specific business priorities that Yeild the best results and increase the bottom line. When I work with my team, they feel inspired and empowered through the simplification of business execution and the trust of the team culture, which creates high morale and a better experience to all that we do business with., Norther Colorado, Wyoming and Western Nebraska small/ medium business manager. helping businesses reach their goals., mountain market small/ medium business general Manager.Helping businesses reach their goals at Verizon Wireless, floating general manager at Verizon Wireless\n"
     ]
    },
    {
     "name": "stdout",
     "output_type": "stream",
     "text": [
      "\n",
      " TrueCase Annotated \n",
      " My professional and academic passions includes Aligning it to business issues, so that organizations can achieve sustained competitive advantages. While it and business alignment can be elusive, I believe that strategic engagement might aid in mobilizing the core Competencies of the internal resources of the firm, and bolstering its economic value add in exchanges with the external marketplace. My Co-Authored published paper dealing with alignment is here: Http://Aisel.Aisnet.Org/Cgi/Viewcontent.Cgi?Article=1029&Context=Confirm2015 the paper is informed by my MBA thesis, and investigates the use of cloud computing as the it to enable competitive differentiation for small service businesses in Canada. I was invited to, and presented the paper at the International conference on information resources management( Conf-Irm), in May, 2015, in Ottawa, Canada. more information here: Http://Www.Conf-Irm.Org/Joomla/Index.Php/Conferences/Upcoming-Conferences/61-Conference-2015 further research in this area is envisioned., my professional passions includes Aligning it to business issues, so that organizations can achieve sustained competitive advantages. While it and business alignment can be elusive, I believe that strategic engagement might aid in mobilizing the core Competencies of the internal resources of the firm, and bolstering its economic value add in exchanges with the external marketplace. My Co-Authored published paper dealing with alignment is here: Http://Aisel.Aisnet.Org/Cgi/Viewcontent.Cgi?Article=1029&Context=Confirm2015 the paper is informed by my MBA thesis, and investigates the use of cloud computing as the it to enable competitive differentiation for small service businesses in Canada. I was invited to, and presented the paper at the International conference on information resources management( Conf-Irm), in May, 2015, in Ottawa, Canada. more information here: Http://Www.Conf-Irm.Org/Joomla/Index.Php/Conferences/Upcoming-Conferences/61-Conference-2015 further research in this area is envisioned., I'm passionate about improving organizations' competitive advantages with the use of it. I like to consider clients' generic competitive strategies- such as broad differentiated or broad low cost; focused differentiated or focused low cost; or best cost- and align it technologies to those strategies to help them drive sustained competitive advantages in their chosen market. My Co-Authored published paper dealing with alignment is here: Http://Aisel.Aisnet.Org/Cgi/Viewcontent.Cgi?Article=1029&Context=Confirm2015 the paper is informed by my MBA thesis, and investigates the use of cloud computing as the it to enable competitive differentiation for small service businesses in Canada. I was invited to, and presented the paper at the International conference on information resources management( Conf-Irm), in May, 2015, in Ottawa, Canada. more information here: Http://Www.Conf-Irm.Org/Joomla/Index.Php/Conferences/Upcoming-Conferences/61-Conference-2015 further research in this area is envisioned., I'm passionate about artificial intelligence, data science and machine learning, and, I'm continually engaging in advancing my knowledge in these disciplines. to help organizations achieve sustained competitive advantages is my vision, and I strive to do so by Aligning business and technology strategies to solve critical business needs. My Co-Authored published paper dealing with alignment is here: Http://Aisel.Aisnet.Org/Cgi/Viewcontent.Cgi?Article=1029&Context=Confirm2015 the paper is informed by my MBA thesis, and investigates the use of cloud computing as the it to enable competitive differentiation for small service businesses in Canada. I was invited to, and presented the paper at the International conference on information resources management( Conf-Irm), in May, 2015, in Ottawa, Canada. more information here: Http://Www.Conf-Irm.Org/Joomla/Index.Php/Conferences/Upcoming-Conferences/61-Conference-2015, my professional passion includes Aligning it to business issues so that organizations can enjoy sustained competitive advantages. I'm a life-long Learner- and based on my MBA thesis- my Soon-To-Be published Co-Authored paper on the use of cloud computing as the it to enable competitive differentiation for small service businesses in Canada will be available soon, here: Http://Tinyurl.Com/Pvg6D24 I was invited to, and presented my paper at the International conference on information resources management( Conf-Irm), in May, 2015, in Ottawa, Canada. more information here: Http://Www.Conf-Irm.Org/Joomla/Index.Php/Conferences/Upcoming-Conferences/61-Conference-2015, systems engineer& cloud researcher ... on information resources management( Conf-Irm), in May, 2015, in Ottawa, Canada . ... Junior Achievers of central Ontario( Jaco) ... Canadian software sales leader at Cisco systems Canada Co., systems engineer at Cisco\n",
      "\n",
      " TrueCase Annotated \n",
      " I am a highly motivated civil engineer with over eight years of experience in the construction industry. Throughout my career I have been involved in many aspects of civil works and construction, with a main focus on excavation, reinforced concrete, piling, Steelworks, temporary and enabling works, lifting and logistics. I strive to continuously develop and throughout my career I have successfully completed the appointed person for lifting operations( Leea) course and certificate IV in project management( Aipm). having worked in Australia, United Kingdom, Hong Kong and currently the UAE I have had experience in Multi-Cultural and diverse project teams and environments. I have worked in leadership roles where I continually push myself and my team to meet deadlines, deliver quality results within budget and operate safely. working in project teams for both the client and contractor has provided me with a unique insight into both perspectives of a project. I am a Multi-Skilled and adaptable individual capable of delivering in a number of roles within a project team., I am a highly motivated civil engineer with over ten years of experience in construction industry. Throughout my career I have been involved in many aspects of civil infrastructure works, building construction and Fit-Out. having worked in Australia, United Kingdom, Hong Kong and currently the UAE I have had experience in Multi-Cultural and diverse project teams and environments. I have worked in leadership roles where I continually push myself and my team to meet deadlines, deliver quality results within budget and operate safely. working in project teams for both the client and contractor has provided me with a unique insight into both perspectives of a project. I strive to continuously develop and throughout my career I have successfully completed the appointed person for lifting operations( Leea accredited) course and certificate IV in project management( Aipm accredited). I am a Multi-Skilled and adaptable individual capable of delivering in a number of roles within a project team., I am a highly motivated civil engineer with over nine years of experience in the construction industry. Throughout my career I have been involved in many aspects of civil works, construction and Fit-Out. I strive to continuously develop and throughout my career I have successfully completed the appointed person for lifting operations( Leea accredited) course and certificate IV in project management( Aipm accredited). having worked in Australia, United Kingdom, Hong Kong and currently the UAE I have had experience in Multi-Cultural and diverse project teams and environments. I have worked in leadership roles where I continually push myself and my team to meet deadlines, deliver quality results within budget and to operate safely. working in project teams for both the client and contractor has provided me with a unique insight into both perspectives of a project. I am a Multi-Skilled and adaptable individual capable of delivering in a number of roles within a project team., I am a highly motivated civil engineer with over eight years of experience in the construction industry. having worked in Australia, United Kingdom, Hong Kong and currently the UAE I have had experience in Multi-Cultural and diverse project teams and environments. I continually push myself and my team to meet deadlines, deliver within budget and to operate safely. working in project teams for both the client and contractor has provided me with a unique insight into both perspectives of a project. I am a Multi-Skilled and adaptable individual capable of delivering in a number of roles in a project team., I am a highly motivated civil engineer with over seven years of experience in the construction industry. having worked in Australia, United Kingdom and Hong Kong I have had experience in Multi-Cultural and diverse project teams and environments. I continually push myself and my team to meet deadlines, deliver within budget and to operate safely. working in project teams for both the client and contractor has provided me with a unique insight into both perspectives of a project. I am a Multi-Skilled and adaptable individual capable of delivering in a number of roles in a project team., a highly motivated individual with 6+ years experience in the construction industry in Australia, UK and Hong Kong. I continually push myself and my team to deliver within budget, on time and safely. having worked in project teams for both the client and contractor it has provided a unique insight into both perspectives of a project. I am a Multi-Skilled and adaptable individual capable of delivering in a number of roles within a construction team., site manager at Brookfield Multiplex, section engineer at Laing O'Rourke, site manager at Multiplex\n",
      "\n",
      " TrueCase Annotated \n",
      " Over 17 years of technical and managerial experience in a wide variety of plays and settings, including new product development in engineered coated fabrics, rubber compounding/ formulations, rubber mixing, and rubber extrusion for the tire industry, Additionally the engineering of Ultra high purity gas delivery systems for the semiconductor industry, pressure regulation and control device design/ implementation for the Analytical& specialty gas industry as well as management of a national technical sales support team. I am a leader with strong& proven Stage-Gate product research, development and industrialization background. A hands-on problem Solver and manager of resources who possesses a comprehensive technical knowledge of numerous products, materials and chemicals in addition to the methods required to produce them. I have a solid technical foundation with key areas of expertise being rubber formulation techniques, compressed gas handling systems, performance coating technologies, mass Spectrometry, trace impurity analysis, and chemical/ material Compatibilities., over 18 years of technical and managerial experience in a wide variety of plays and settings, including new product development in engineered coated fabrics, rubber compounding/ formulations, rubber mixing, and rubber extrusion for the tire industry, Additionally the engineering of Ultra high purity gas delivery systems for the semiconductor industry, pressure regulation and control device design/ implementation for the Analytical& specialty gas industry as well as management of a national technical sales support team. I am a leader with strong& proven Stage-Gate product research, development and industrialization background. A hands-on problem Solver and manager of resources who possesses a comprehensive technical knowledge of numerous products, materials and chemicals in addition to the methods required to produce them. I have a solid technical foundation with key areas of expertise being rubber formulation techniques, compressed gas handling systems, performance coating technologies, mass Spectrometry, trace impurity analysis, and chemical/ material Compatibilities., over 19 years of technical and managerial experience in a wide variety of plays and settings, including new product development in engineered coated fabrics, rubber compounding/ formulations, rubber mixing, and rubber extrusion for the tire industry, Additionally the engineering of Ultra high purity gas delivery systems for the semiconductor industry, pressure regulation and control device design/ implementation for the Analytical& specialty gas industry as well as management of a national technical sales support team. I am a leader with strong& proven Stage-Gate product research, development and industrialization background. A hands-on problem Solver and manager of resources who possesses a comprehensive technical knowledge of numerous products, materials and chemicals in addition to the methods required to produce them. I have a solid technical foundation with key areas of expertise being rubber formulation techniques, compressed gas handling systems, performance coating technologies, mass Spectrometry, trace impurity analysis, and chemical/ material Compatibilities., over 15 years of technical and managerial experience in a wide variety of plays and settings, including rubber compounding/ formulations for the tire industry, engineering of Ultra high purity gas delivery systems for the semiconductor industry, pressure regulation and control device design/ implementation for the Analytical& specialty gas industry as well as management of a national technical sales support team. I am a leader with strong& proven Stage-Gate product research, development and industrialization background. A hands-on problem Solver and manager of resources who possesses a comprehensive technical knowledge of numerous products, materials and chemicals in addition to the methods required to produce them. I have a solid technical foundation with key areas of expertise being rubber formulation techniques, compressed gas handling systems, performance coating technologies, mass Spectrometry, trace impurity analysis, and chemical/ material Compatibilities., ... at Scott specialty gases; customer applications engineer at air products and chemicals ... operations manager at Gulf process gases; Brittany Tholstrup, product development engineer at Trelleborg engineered coated fabrics: harnessing innovation to accelerate performance, new product development engineer| chemical physicist, material industrialization engineer at Michelin\n",
      "\n",
      " TrueCase Annotated \n",
      " 5.9 years of total it experience with wide range of skills. 1. proficient experience in building front end development using Angularjs 1 and Reactjs. 2. expertise in Appcelerator titanium, Phonegap and react native for cross mobile application development 3. Javascript. Angularjs 1, Jquery, Html, Xml, CSS, Reactjs 4. experience with Xcode, Android studio 5. experience in using Svn, git, Tfs 6. experience in agile methodology. functions and responsibilities:- design and develop Iphone/ Ipad Apps, and all Android compatible Apps.- perform testing, Debugging for the Apps developed by the team.- create custom codes for various applications.- maintaining and updating applications.- comfortable in all phases of the software engineering life cycle including requirement analysis, technical architecture, design& development.- flexible to adapt new skills and environments.- excellent presentation, written and verbal communication skills., 5.7 years of total it experience with wide range of skills. 1. proficient experience in building front end development using Angularjs 1 and Reactjs. 2. expertise in Appcelerator titanium, Phonegap and react native for cross mobile application development 3. Javascript. Angularjs 1, Jquery, Html, Xml, CSS, Reactjs 4. experience with Xcode, Android studio 5. experience in using Svn, git, Tfs 6. experience in agile methodology. functions and responsibilities:- design and develop Iphone/ Ipad Apps, and all Android compatible Apps.- perform testing, Debugging for the Apps developed by the team.- create custom codes for various applications.- maintaining and updating applications.- comfortable in all phases of the software engineering life cycle including requirement analysis, technical architecture, design& development.- flexible to adapt new skills and environments.- excellent presentation, written and verbal communication skills., 5+ years of total it experience with wide range of skills. 1. expertise in Appcelerator titanium, Phonegap and react native for cross mobile application development. 2. experience in building front end development using angular and Reactjs. 3. Javascript. Angularjs, Jquery, Html, Xml, CSS, Reactjs 4. experience with Xcode, Android studio 5. experience in using Svn, git, Tfs functions and responsibilities:- design and develop Iphone/ Ipad Apps, and all Android compatible Apps.- perform testing, Debugging for the Apps developed by the team.- create custom codes for various applications.- maintaining and updating applications.- comfortable in all phases of the software engineering life cycle including requirement analysis, technical architecture, design& development.- flexible to adapt new skills and environments.- excellent presentation, written and verbal communication skills., 3.5+ years of total it experience with wide range of skills. 1. expertise in Appcelerator titanium for cross mobile application development. 2. Javascript. Angularjs, Jquery, Html, Xml, CSS 3. experience with Xcode, eclipse 4. basic knowledge of core Java and C# functions and responsibilities:- design and develop Iphone/ Ipad Apps, and all Android compatible Apps.- perform testing, Debugging for the Apps developed by the team.- create custom codes for various applications.- maintaining and updating applications.- comfortable in all phases of the software engineering life cycle including requirement analysis, technical architecture, design& development.- flexible to adapt new skills and environments.- excellent presentation, written and verbal communication skills., 2.5+ years of total it experience with wide range of skills. 1. expertise in Appcelerator titanium for cross mobile application development. 2. Html, Xml, CSS, Java script. 3. experience with Xcode 5, Xcode 6, eclipse. 4. basic knowledge of core Java and C# functions and responsibilities:- design and develop Iphone/ Ipad Apps, and all Android compatible Apps.- perform testing, Debugging for the Apps developed by the team.- create custom codes for various applications.- maintaining and updating applications.- comfortable in all phases of the software engineering life cycle including requirement analysis, technical architecture, design& development.- flexible to adapt new skills and environments.- excellent presentation, written and verbal communication skills., senior software engineer( hybrid mobile application developer) at HCL technologies, senior software engineer at HCL technologies, SR. software engineer at Mobiloitte, technology lead at Infosys limited, actively looking for job change\n",
      "\n",
      " TrueCase Annotated \n",
      " I am a social entrepreneur focused on Impacting Healthcare costs and quality by continuing care from clinical settings to the community through a Curated, responsive and effective Ecosystem of Community-Based and Digital therapeutic partners. Solera acts like a Match.Com service to connect people to a Curated network of high performing community organizations and Digital solution providers paid for outcomes through medical claims. Our model solves for scale and Personalization and supports consumer choice, leading to increased patient satisfaction, sustained engagement, outcomes and cost savings. Solera'S technology platform performs risk assessment and behavioral- based matching, supports a diverse Ecosystem of Curated network partners, and manages pay for performance claims payment administration and reporting as a Clearinghouse for our community and Digital network partners addressing chronic health conditions and social determinants of health. Www.Soleranetwork.Com, I am a social entrepreneur focused on Impacting Healthcare costs and quality by continuing care from the clinic to the community through a Curated, responsive and effective Ecosystem of Community-Based and Digital therapeutic partners. Solera acts like a Match.Com service to connect people to a Curated network of high performing community organizations and Digital solution providers paid through medical claims. Our model solves for scale and Personalization and supports consumer choice, leading to increased patient satisfaction, sustained engagement, outcomes and cost savings. Solera'S technology platform performs risk assessment and behavioral- based matching, supports a diverse Ecosystem of Curated network partners, and manages pay for performance claims payment administration and reporting as a Clearinghouse for our community and Digital network partners addressing chronic health conditions and social determinants of health. Www.Soleranetwork.Com, I am a Healthcare entrepreneur focused on improving quality and lowering costs through community- integrated Healthcare. Solera has a Pre-Integrated network of high performing community organizations and Digital Therapeutics platforms delivering the diabetes prevention program paid through medical claims. Our model solves for scale and Personalization and supports consumer choice, leading to increased member satisfaction, sustained engagement, outcomes and cost savings. Solera'S technology platform connects a nationwide network of chronic disease prevention and management providers with technology that manages referrals, claims submission and adjudication, and data reporting, simplifying enrollment and supporting increased consumer engagement and choice at a fraction of the cost of traditional medical care. Www.Soleranetwork.Com, I am a social entrepreneur focused on Impacting Healthcare costs and quality through a Lower-Cost, high access network of Non-Medical prevention, emotional wellbeing, and Health-Related support services. Solera acts like a Match.Com service to connect people to a Curated network of high performing community organizations and Digital solution providers paid through medical claims. Our model solves for scale and Personalization and supports consumer choice, leading to increased patient satisfaction, sustained engagement, outcomes and cost savings. Solera'S technology platform manages patient referrals and matching, quality monitoring, payment administration and reporting, driving consumer engagement and Industry-Leading outcomes at a fraction of the cost of traditional medical care. Www.Soleranetwork.Com, Brenda is the founder& Ceo of Solera health. Solera health is a Technology-Enabled services company that provides access to low cost community organizations and Digital solutions through referrals from Healthcare providers and health plans. Solera'S platform connects a nationwide network of community organizations and Digital Therapeutics platforms for chronic disease prevention and management with technology that manages referrals, claims submission and adjudication, and data reporting, simplifying enrollment and supporting increased consumer engagement and choice. Www.Soleranetwork.Com, I am a social entrepreneur passionate about meeting the needs of vulnerable populations through sustainable business models., president at Viridian health management, founder& Ceo at Solera health network, investment banking- back office, founder and Ceo Solera health, retail banking- back office\n",
      "\n",
      " TrueCase Annotated \n",
      " Having 10 years of experience in Digital, analog mixed and rf board designing- knowledge of product designing from scratch to end- expertise in Iot product design including rf platform like ble, Zigbee, Wi-Fi, thread, Lte, Cat-M, Lora etc ..- high-speed board designing with different processor platform- knowledge in rf designing and testing- experience in Digital and analog mixed signal design- experience in EMI/ Emc and IP base Certifications- experience in Iec 60601-1 and 2-27 Standard and testing- knowledge in different simulation software- experience in board bring up, testing and validation- experience in ISO 13485 and certified internal auditor- expertise in FCC, Ce and Ul product certification- expertise in product test automation design and design to production transfer activity goal: to become a successful project manager with good technical and soft skills specialties:- high speed board designing for multimedia and battery operated product design- CAD tools: mentor Graphics pads, Orcad 16.3, Dx designer, experienced engineer in electronics industry for product design in different domains like Iot, Iiot, medical, automotive, industrial, it industries and consumer electronics. experience: product design, project management, Presales skills: high speed Digital design, rf design, analog design, mixed signal design, power supply design, low power battery operated designs Wireless design: Wi-Fi, BT/ ble, Zigbee, Z-Wave, sub 1- Ghz, thread, 2G/ 3G/ Lte, Lora, Nb-Iot certification experience: FCC, Ce, IC, Ul, Iec 60601-1, Iec 60601-2- 27, FDA and 510K( experience with FDA agent), battery transportation process: ISO 9001:2015, ISO 13485 production handling: successfully deployed Npi( for 4- products) at Chinese EMS partner location in Shenzhen and Suzhou with ate Set-Ups. successfully executed 25K- Qty and 10K- Qty production. CAD tools: Orcad, Allegro, Altium designer, mentor Graphics pads, Dx designer, having more than 7+ years of experience in Digital, analog mixed and rf board designing- knowledge of product designing from scratch to end- high speed board designing with different processor platform- knowledge in rf designing and testing- experience in Digital and analog mixed signal design- experience in EMI/ Emc and IP base Certifications- experience in Iec 60601-1 and 2-27 Standard and testing- knowledge in different simulation software- experience in board bring up, testing and validation- experience in ISO 13485 and certified internal auditor goal: to become a successful project manager with good technical and soft skills specialties:- high speed board designing for multimedia and battery operated product design- CAD tools: mentor Graphics pads, Orcad 16.3, Dx designer, having 8 years of experience in Digital, analog mixed and rf board designing- knowledge of product designing from scratch to end- high speed board designing with different processor platform- knowledge in rf designing and testing- experience in Digital and analog mixed signal design- experience in EMI/ Emc and IP base Certifications- experience in Iec 60601-1 and 2-27 Standard and testing- knowledge in different simulation software- experience in board bring up, testing and validation- experience in ISO 13485 and certified internal auditor goal: to become a successful project manager with good technical and soft skills specialties:- high speed board designing for multimedia and battery operated product design- CAD tools: mentor Graphics pads, Orcad 16.3, Dx designer, having more than 6 years of experience in Digital, analog mixed and rf board designing- knowledge of product designing from scratch to end- high speed board designing with different platform- knowledge in rf designing and testing- experience in Digital and analog mixed signal design- experience in EMI/ Emc and IP base Certifications- knowledge in different simulation software- experience in board bring up, testing and Validationgoal: to become a successful project Manger with good technical and soft Skillsspecialties:- high speed board designing for multimedia and battery operated product design- CAD tools: mentor Graphics pads, Orcad 16.3, Dx designer, senior technical lead at Volansys Technologies pvt Ltd, Tech lead- hardware design at Azoi Inc, application development and maintenance, project lead at Volansys Technologies\n",
      "\n",
      " TrueCase Annotated \n",
      " Technology and business leader offering 20 years of experience launching new High-Availability mission critical enterprise and consumer products and services. proven ability of growing small teams into motivated, competent and productive engineering organizations as well as managing large enterprise organization with 150+ developers internationally. clear understanding of the competitive landscape and customers, able to build new products as well as bring the existing products to the next level through innovation and organic growth. demonstrated consistent track record of delivering Iterative critical releases under high-pressure, Fast-Paced, dynamic environments. solid knowledge of software architecture and development, combined with profound understanding of strategic markets and competitive landscape. hands-on experience in Architecting and developing web and mobile applications in big data process, deep learning, Internet security, Personalization, E-Commerce and device management areas., technology and business leader offering 20 years of experience launching new High-Availability mission critical products and services. proven ability of growing small teams into motivated, competent and productive engineering organizations as well as managing large enterprise organizations with 150+ developers internationally. clear understanding of the competitive landscape and customers, able to build new products as well as bring the existing products to the next level through innovation and organic growth. demonstrated consistent track record of delivering Iterative critical releases under high-pressure, Fast-Paced, dynamic environments. solid knowledge of software architecture and development, combined with profound understanding of strategic markets and competitive landscape. hands-on experience in Architecting and developing web and mobile applications. In depth expertise in cloud, big data, deep learning, Internet security, Personalization, and device management., innovative, Results-Driven technology leader offering 10+ years of software design, development expertise building cost-effective, High-Availability and high-performance In-Cloud services and commercial products. consistent track record of delivering multiple critical commercial releases in parallel on time under a high-pressure, Client-Driven environment. proven ability to build motivated, competent and productive engineering teams and establish an offshore development center. hands-on experience in developing Internet security, Personalization, Ecommerce, Emarketing, portal, community, device management J2Ee web applications and mobile applications. specialties: strategic planning~ customer/ partner relationship building agile development~ team building/ leadership~ staff management software as a services~ Scalable software design~ process improvements, an established advanced ANALYTICS leader with expertise in using data to drive business/ marketing decision making a proven track record in successful client engagements across a diverse set of industries that leads to repeated and/ or new business opportunities specialties: consulting, project management, team development, marketing ANALYTICS, marketing mix model, syndicated data, marketing spend optimization, price and promotion analysis, pricing strategies, statistical modeling and Multivariate data analysis techniques such as generalized linear modeling, cluster analysis, factor analysis, structure equation modeling, an established advanced ANALYTICS leader with expertise in using ANALYTICS to drive business/ marketing results a proven track record in successful client engagements across a diverse set of industries that leads to repeated and/ or new business opportunities specialties: ANALYTICS consulting, marketing ANALYTICS, marketing mix model, syndicated data, marketing spend optimization, price and promotion analysis, pricing strategies, statistical modeling and Multivariate data analysis techniques such as generalized linear modeling, cluster analysis, factor analysis, structure equation modeling, project management, technology& innovation executive| entrepreneur& Angel investor, director, custom ANALYTICS- marketing effectiveness at Nielsen, vp of technology and innovation at Nielsen, vice president at Nielsen\n",
      "\n",
      " TrueCase Annotated \n",
      " - development and execution of content strategy across cruise planner web platform driving Pre-Cruise revenue- assistance to the director of Onboard revenue& shore excursions in all shipboard operations across the fleet including Onboard sales& marketing strategies( 191M in 2018)- data collection, reporting and ANALYTICS for optimizing revenue performance of Onboard products( Padi, try dive and retail)- management of the Padi dive program Grev+ 31% vs 2018& try dive Grev+ 18% vs 2018( 575K in 2018)- management of Onboard Shorex retail Grev+ 18% vs 2018 and retail for private destinations( Cococay Grev+ 114% and Labadee Grev+ 19%) 2018 vs 2017( 620K in 2018),> premium product development worldwide: Azamazing evening events, insider access tours, nights& cool places tours and Ticketed events( I. E. Monaco Grand Prix)> celebrity cruises signature sailing events, celebrity exclusive tours and Ticketed events( I. E. British open)> analysis, administration& distribution the various events and program's information across all fields of business, internally and externally( through strategic initiatives& comparative analysis on products and pricing)> process of new products for all brands, ANALYTICS, reports& presentations> translation of Onboard brochures into French, Spanish, German, Portuguese& Italian,> premium product development worldwide: Azamazing evening events, cruise global connect local tours and Ticketed events( I. E. Monaco Grand Prix)> celebrity cruises signature sailing events, celebrity exclusive tours and Ticketed events( I. E. British open)> analysis, administration& distribution the various events and program's information across all fields of business, internally and externally( through strategic initiatives& comparative analysis on products and pricing)> process of new products for all brands, ANALYTICS, reports& presentations> translation of Onboard brochures into French, Spanish, German, Portuguese& Italian, professional with a vast experience of studies and work abroad. As International Ambassador, I'm responsible for language assistance, translation of Onboard collateral and documents, verbal translation of announcements, organizing welcome Onboard and departure talks, complain assistance and resolution, excellent customer service and support to hotel operations. supervisor and administrator of the International program of languages at sea translating, editing and managing the distribution Onboard of all printed material in French, Spanish, German, Portuguese and Italian for Royal Caribbean cruise lines.,> communications, marketing& sales professional with broad International work experience.> vast experience in global marketing promotions& sales.> experienced in translating, editing and coordinating the distribution of collateral in French, Spanish, German, Portuguese and Italian.> experienced interpreter and spokesperson on several Royal Caribbean ships.> experienced supervisor of the International program of languages at sea for Royal Caribbean.> shore excursion coordination& sales, promoting opportunities for areas driving Onboard revenue.,> communications, marketing& sales professional with broad International work experience.> vast experience in global marketing promotions& sales.> experienced in translating, editing and coordinating the distribution of collateral in French, Spanish, German, Portuguese and Italian.> experienced interpreter and spokesperson on several Royal Caribbean ships.> experienced supervisor of the International program of languages at sea for Royal Caribbean.> shore excursion coordination& sales, promoting opportunities for areas driving Onboard revenue.,- development and execution of content strategy across cruise planner web platform for all Pre-Cruise products and Onboard- development of Onboard initiatives and promotions- data collection and Kpis for revenue- development of strategic shipboard marketing and promotions- development of strategies to drive incremental revenue, international Ambassador at Royal Caribbean cruises, Ltd., SR Ae, Onboard revenue at Royal Caribbean International\n",
      "\n",
      " TrueCase Annotated \n",
      " I am a former Uber marketing manager, currently serving as elected deputy Mayor in charge of city marketing, culture and youth policies of the city of Genoa, Italy. My career and my whole life have been shaped by the belief in free-market and technology as the most efficient instruments to pursue peace, liberty, prosperity and Sustainability. my life goal is bringing ideas, inspiration and truth to a wider audience. for this reason I am also a columnist and I have worked on national TV Rai 2 and La7 as political and economics commentator. as a consultant, I have helped early and Mid-Stage startups to develop their audience and PR strategy: basically, making things, people, ideas and talents shine. I hold a MS in international business and global markets and a BA in political science and international relations. I have studied in Italy and in the us. My articles have been published on Il Giornale, Linkiesta, the fielder, L'Opinione with a focus on business, economics and foreign affairs. please feel free to contact me for any request., I am a former Uber marketing manager, currently working as independent advisor and investor. My career and my whole life have been shaped by the belief in free-market and technology, as the most efficient instruments to pursue peace, liberty, prosperity and Sustainability. my life goal is bringing ideas, inspiration and truth to a wider audience. for this reason I am also a columnist and I have worked on national TV Rai 2 and La7 as political and economics commentator. from a career perspective I am now helping early and Mid-Stage startups to develop their audience and PR strategy. I hold a MS in international business and global markets and a BA in political science and international relations. I write weekly for Il Giornale, Linkiesta, the fielder, L'Opinione with a focus on business, economics and foreign affairs. please feel free to contact me for any request., I am a former marketing and PR professional holding a MS in international business and economics and a BA in political science and international relations. My area of studies concerned the role of CSR and the private creation of public goods and positive Externalities. I have explored different industries and after experiences in Uber, Lseg and a few other firms, I am now working as independent advisor and investor with a focus on early and Mid-Stage startups. I have also a deep passion for public policy and political economy. This is why I co-founded and joined multiple associations and Ngos and I worked as political and economics commentator in TV shows virus( Rai 2) Announo( La7), La Gabbia( La7) and Tagada( La7). I write weekly for Il Giornale, Linkiesta, the fielder, L'Opinione with a focus on business, economics and foreign affairs., I am a PR- communication specialist holding a MS in international Businesss and a BA in international relations. I have explored different industries and after experiences in Lseg, Uber and other firms, I am now in charge of House& loft communications strategy. I have a deep passion for public policy and political economy. This is why I joined TV shows virus( Rai 2) and Announo( La7) as Freelance contributor. I also write for Il Giornale, Linkiesta, the fielder, L'Opinione., I am a strategy specialist holding a MS in international economics and a BA in political economy. I have explored different industries and firms and I am now in charge of a boutique firm's corporate strategy. I have a deep passion for public policy and political economy. This is why I joined TV shows virus( Rai 2) and Announo( La7) as Freelance contributor. I also write for Il Giornale, Linkiesta, the fielder, L'Opinione., pursuing liberty, innovation and cooperation through free market policies.- former deputy Mayor municipality of Genoa, independent advisor, marketing Angel and journalist- focus on startups, free market, technology, media contributor and independent consultant at L'Opinione, TV contributor at Rai- Radiotelevisione Italiana S. P. A., marketing Angel- startup advisor and journalist, make things, people, ideas and talents shine!, house& loft luxury living- Uber- La7- Rai 2\n"
     ]
    },
    {
     "name": "stdout",
     "output_type": "stream",
     "text": [
      "\n",
      " TrueCase Annotated \n",
      " Currently working as a manager in the advanced Analytics-Financial services team for Accenture applied intelligence specialized in machine and deep learning models and formulating business strategies for the client. had previously worked for' data ANALYTICS' team in the management consulting division of Kpmg.The team is involved in delivering end-to-end Analytical solutions across all industries and across functional areas like marketing, supply chain, human capital, financial services. had also worked in the business intelligence unit of Icici Bank June 2011- June 2014 with prime focus on delivering strategic projects in the areas of portfolio optimization, customer retention& increasing cross sell penetration. had led the end to end implementation of programs to improve Sourcing quality, optimal allocation of sales force resources. have exposure on industry credit information Database like Experian for setting up an E-Kyc process for portfolio review. specialties in post graduation: Econometrics, industrial organization, law& economics, financial markets, currently working as a manager in the advanced ANALYTICS team for Accenture applied intelligence specialized in machine and deep learning models and formulating business strategies for the client. had previously worked for' data ANALYTICS' team in the management consulting division of KPMG. The team is involved in delivering end-to-end Analytical solutions across all industries and across functional areas like marketing, supply chain, human capital, financial services. had also worked in the business intelligence unit of Icici Bank June 2011- June 2014 with prime focus on delivering strategic projects in the areas of portfolio optimization, customer retention& increasing cross sell penetration. had led the end to end implementation of programs to improve Sourcing quality, optimal allocation of sales force resources. have exposure on industry credit information Database like Experian for setting up an E-Kyc process for portfolio review. specialties in post graduation: Econometrics, industrial organization, law& economics, financial markets, currently working as an' ANALYTICS consultant' in the advanced Analytics-Financial services team for Accenture Digital. had previously worked for' data ANALYTICS' team in the management consulting division of Kpmg.The team is involved in delivering end-to-end Analytical solutions across all industries and across functional areas like marketing, supply chain, human capital, financial services. had also worked in the business intelligence unit of Icici Bank June 2011- June 2014 with prime focus on delivering strategic projects in the areas of portfolio optimization, customer retention& increasing cross sell penetration. had led the end to end implementation of programs to improve Sourcing quality, optimal allocation of sales force resources. have exposure on industry credit information Database like Experian for setting up an E-Kyc process for portfolio review. specialties in post graduation: Econometrics, industrial organization, law& economics, financial markets, working as a consultant in the' data ANALYTICS' team in the management consulting division of Kpmg.The team is involved in delivering end-to-end Analytical solutions across all industries and across functional areas like marketing, supply chain, human capital, financial services. had also worked in the business intelligence unit of Icici Bank June 2011- June 2014 with prime focus on delivering strategic projects in the areas of portfolio optimization, customer retention& increasing cross sell penetration. had led the end to end implementation of programs to improve Sourcing quality, optimal allocation of sales force resources. have exposure on industry credit information Database like Experian for setting up an E-Kyc process for portfolio review. specialties in post graduation: Econometrics, industrial organization, law& economics, financial markets, manager, Accenture applied intelligence, ANALYTICS consultant at Accenture\n",
      "\n",
      " TrueCase Annotated \n",
      " Passionate Visioner and Doer. expert in sustainable project development, plastic packaging manufacturing, polymer products marketing and procurement\" ... to grow professionally by securing a challenging leading position with a dynamic organization where my business knowledge, experience, and skills will contribute to the growth and success of the organization. fifteen years experience in the pet packaging industry across multiple business processes, from Alpha to Omega, from production to recycling, highlighted by continued career progression. Results-Driven, highly motivated manager with strong Analytical skills using Fact-Based, Process-Oriented approaches to achieve aggressive goals in support of organizational objectives and the development of best practices. specialties: well-developed technological, business and product understanding, manufacturing, marketing and distribution, strategic development including planning, forecasting and execution, contract administration and business analysis.\" can't say better about myself, expert in sustainable project development, plastic packaging manufacturing, polymer products marketing and procurement\" ... to grow professionally by securing a challenging leading position with a dynamic organization where my business knowledge, experience, and skills will contribute to the growth and success of the organization. fifteen years experience in the pet packaging industry across multiple business processes, from Alpha to Omega, from production to recycling, highlighted by continued career progression. Results-Driven, highly motivated manager with strong Analytical skills using Fact-Based, Process-Oriented approaches to achieve aggressive goals in support of organizational objectives and the development of best practices. specialties: well-developed technological, business and product understanding, manufacturing, marketing and distribution, strategic development including planning, forecasting and execution, contract administration and business analysis.\" can't say better about myself, expert in plastics recycling project development, plastic packaging manufacturing, supply chain and procurement\" ... to grow professionally by securing a challenging leading position with a dynamic organization where my business knowledge, experience, and skills will contribute to the growth and success of the organization. twelve years experience in the pet packaging industry across multiple business processes, from Alpha to Omega, from production to recycling, highlighted by continued career progression. Results-Driven, highly motivated manager with strong Analytical skills using Fact-Based, Process-Oriented approaches to achieve aggressive goals in support of organizational objectives and the development of best practices. specialties: well-developed technological, business and product understanding, manufacturing, marketing and distribution, strategic development including planning, forecasting and execution, contract administration and business analysis.\" can't say better about myself, view George Dadiani'S professional profile on Linkedin . ... expert/ top manager in plastics industry, over 15 years in sustainable project development. location: greater Los Angeles area; industry: packaging and containers ... in the establishment of Verdeco recycling production plant in Los Angeles, California., expert/ top manager- over 16 years launching sustainable projects and marketing advanced plastic products, expert/ top manager in plastics industry, over 13 years in sustainable project development at Repet Inc., expert/ top manager in plastics industry, over 12 years in consulting& sustainable procurement, expert/ top manager in plastics industry, over 15 years in sustainable project development, marketing& business development executive at Pacific sustainable industries, director, global supply chain at plastic Bank, application development and maintenance, food processing and production, operations and supply chain\n",
      "\n",
      " TrueCase Annotated \n",
      " Provides expertise in crafting effective solutions for communication and marketing goals by transforming ideas and information into Impactful Digital design assets and defining appropriate delivery channels. excels at Multi-Tasking and collaboration in high-pressure environments with demonstrated leadership for global matrix managed organizations, small business, and entrepreneurs. excellent communication skills, project leadership, Cross-Functional team coordination and Troubleshooting. professional experience includes: O communications specialist/ manager, content strategist, Webmaster at a fortune 500 global corporation O web design, graphic design, content creation, content research, User-Centered design O catering management and food/ hospitality industry, including business development, menu design and food preparation. O travel writer, editor& photographer O entrepreneur and small business owner O dual USA/ Eu citizenship creative project examples: Http://Www.Ifcreativeagency.Com/Portfolio client testimonials: Http://Www.Ifcreativeagency.Com/Testimonials/, communications design specialist: provide expertise in developing effective communications and marketing solutions by transforming goals and information into strategy for optimum audience engagement. implement strategy with content creation, Impactful Digital design asset development and using appropriate channels for distribution. excel at Multi-Tasking and collaboration in high-pressure environments with demonstrated leadership for global organizations, small businesses and entrepreneurs. excellent communication skills, project leadership, Cross-Functional team coordination and Troubleshooting. professional experience includes: O communications/ marketing specialist/ manager at a fortune 500 global corporation O Digital design, content creation, content research, Ui design, branding, data visualization reporting O corporate, entrepreneurial and small business experience creative project examples: Http://Www.Ifcreativeagency.Com/Portfolio client testimonials: Http://Www.Ifcreativeagency.Com/Testimonials/, provide expertise in developing effective communications and marketing solutions by transforming ideas and information into strategy for optimum audience engagement. implement strategy with content creation, Impactful Digital design asset development and using appropriate channels for distribution. excel at Multi-Tasking and collaboration in high-pressure environments with demonstrated leadership for global organizations, small businesses and entrepreneurs. excellent communication skills, project leadership, Cross-Functional team coordination and Troubleshooting. professional experience includes: O communications/ marketing specialist/ manager at a fortune 500 global corporation O Digital design, content creation, content research, Ui design, branding, data visualization reporting O corporate, entrepreneurial and small business experience creative project examples: Http://Www.Ifcreativeagency.Com/Portfolio client testimonials: Http://Www.Ifcreativeagency.Com/Testimonials/, creative, Tech savvy and native English speaking specialist offering a diverse range of experience to the International audience. 20+ years of professional experience including: O 10+ years: communications specialist& technology manager at a fortune 500 global corporation O 15+ years experience: web development, Website user interface design& testing, graphic design, content creation, content research O travel writer, editor& photographer O entrepreneur and small business owner O dual USA/ Eu citizenship, providing creative& strategic solutions for communications, marketing, web& visual design initiatives, marketing communications- project manager- Digital design- creating visually distinguishing content, providing creative& strategic solutions for communications& marketing initiatives, communications specialist, web consultant, project manager, communications specialist, consultant, project manager\n",
      "\n",
      " TrueCase Annotated \n",
      " Masters in software systems from reputed University; accredited Pre-Sales/ Post-Sales consultant with over 11 years of experience in enterprise SYSTEMS& storage, Virtualization, cloud computing and disaster recovery solutions driving over all Pre-Sales initiative in MENA region for disaster recovery solution; technical ownership and help drive sales opportunities to closure. key responsibilities: solution briefing to customers, proof of concept engagement, Architecting solutions around disaster recovery, demonstrating skills in delivering proposals to clients, providing solution strategy( Pre-Sales), responding to Rfis and Rfps and building right solution to customers, field level feedback to product management to build the roadmap area of expertise: enterprise SYSTEMS& storage, Database, converged& Hyper-Converged infra, Virtualization, cloud computing, business continuity, disaster recovery, automation, replication technologies, data centre migration., Masters in software systems from reputed University; accredited Pre-Sales/ Post-Sales consultant with over 12 years of experience in enterprise SYSTEMS& storage, Virtualization, cloud computing and disaster recovery solutions driving over all Pre-Sales initiative in MENA region for disaster recovery solution; technical ownership and help drive sales opportunities to closure. key responsibilities: solution briefing to customers, proof of concept engagement, Architecting solutions around disaster recovery, demonstrating skills in delivering proposals to clients, providing solution strategy( Pre-Sales), responding to Rfis and Rfps and building right solution to customers, field level feedback to product management to build the roadmap area of expertise: enterprise SYSTEMS& storage, Database, converged& Hyper-Converged infra, Virtualization, cloud computing, business continuity, disaster recovery, automation, replication technologies, data centre migration., Masters in software systems from reputed University; accredited Pre-Sales/ Post-Sales consultant with over 9 years of experience in enterprise SYSTEMS& storage domains, Virtualization technologies and disaster recovery solutions driving over all Pre-Sales initiative in me region for disaster recovery solution; technical ownership and help drive sales opportunities to closure. key responsibilities: solution briefing to customers, proof of concept engagement, Architecting solutions around disaster recovery, demonstrating skills in delivering proposals to clients, providing solution strategy( Pre-Sales), responding to Rfis and Rfps and building right solution to customers, field level feedback to product management to build the roadmap specialties: hp certified professional Emc Certfied San specialist Vmware certified professional brocade certified fabric professional Itil V3, Masters in software systems from reputed University; accredited Pre-Sales/ Post-Sales consultant with over 14 years of experience in enterprise SYSTEMS& storage, Virtualization, cloud computing and disaster recovery solutions area of expertise: enterprise SYSTEMS& storage, Database, converged& Hyper-Converged infra, Virtualization, cloud computing, business continuity, disaster recovery, automation, replication technologies, data centre migration., accredited Pre-Sales/ Post-Sales consultant with over 14 years of experience in enterprise SYSTEMS& storage, Virtualization, cloud computing and disaster recovery solutions area of expertise: enterprise SYSTEMS& storage, Database, converged& Hyper-Converged infra, Virtualization, cloud computing, business continuity, disaster recovery, automation, replication technologies, data centre migration., ... Sanovi Technologies. location: United Arab Emirates; industry: information technology and services ... manager, service Governance at Thomson Reuters ..., manager Presales at Sanovi technologies, investment banking- back office, retail banking- back office, Solutioning manager at IBM\n",
      "\n",
      " TrueCase Annotated \n",
      " I have been in the Wireless industry for the past 13 years providing a best in class customer experience. I am a current participant in the leadership development program; overseeing 4 locations in the Denver/ Colorado Springs area. I value myself on my ability to adapt to the constant changes that occur within a fast paced and growing business. My passion is found leading individuals for continued development and leadership growth. I take Metrics and new initiatives to the next level by understanding business changes and impact within the Everchanging Wireless industry and implementing change and innovation in my own business. leading my team by example is how I gain commitment and build a highly capable sales team that is driven to sales success. I am currently leading one of the highest volume locations in the Colorado/ Utah region., a leader in the Wireless industry for the past 15 years providing a best in class customer experience. My current role is a territory manager in the rocky mountain market and supporting the Tpr locations for the Un-Carrier, T-Mobile. I value myself on my ability to adapt to the constant changes that occur within a fast paced and growing business. My passion is found leading individuals for continued development and leadership growth. I take Metrics and new initiatives to the next level by understanding business changes and impact within the Everchanging Wireless industry and implementing change and innovation in my own business and teams. leading my team by example is how I gain commitment and build a highly capable sales team that is driven to sales success., I have been in the Wireless industry for the past 13 years providing best in class customer experiences. I value myself on my ability to adapt to the constant changes that occur within a fast growing business. My passion is found leading individuals with continued development and leadership growth. I take Metrics and new initiatives to the next level by understanding business changes and impact within the Everchanging Wireless industry. leading my team by example is how I gain commitment and build a highly capable sales team that is driven to sales success. I am currently leading one of the highest volume locations in the Denver Metro area., I have been in the Wireless industry for the past 11 years. I love to showcase my leadership skills and most importantly my ability to adapt to the constant changes that occur with any growing business. My passion is found developing individuals with continued leadership growth. I take Metrics and new initiatives to the next level by understanding business changes within the Everchanging Wireless industry. leading my team by example is how I gain commitment and build a highly capable sales team that is driven to sales success., I have been in the Wireless industry for the past 10 years. I love to showcase my leadership skills and most importantly my ability to adapt to the constant changes that occur with any growing business. My passion is found developing individuals with continued leadership growth. I take Metrics and new initiatives to the next level by understanding business changes within the Everchanging Wireless industry. leading my team by example is how I gain commitment and build a highly capable sales team that is driven to sales success., I have been in the Wireless industry for the past 12 years. I value myself on my ability to adapt to the constant changes that occur within a fast growing business. My passion is found developing individuals with continued leadership growth. I take Metrics and new initiatives to the next level by understanding business changes within the Everchanging Wireless industry. leading my team by example is how I gain commitment and build a highly capable sales team that is driven to sales success., high volume retail store manager at T-Mobile, Hv retail store manager at T-Mobile, retail store manager- high volume\n",
      "\n",
      " TrueCase Annotated \n",
      " An award winning Data-Driven B2B industrial marketing professional with more than 18 years of experience in strategic marketing, Digital marketing, demand generation, business development, marketing communications and promotions. possesses rich experience in developing and executing Multi-Channel and integrated marketing campaigns for Multi-Industry products. My goal is to help in creating marketing enabled sales team with customer insights and tools capable of meeting new age sales challenges. ranked among the top 100 Digital marketers of the country by Adobe Digi 100 and listed among top 100 innovative marketing technology professionals by world marketing Congress and Cmo Asia, I have special interest in new age marketing Technologies. I am passionate about marketing ANALYTICS and Blockchain technology in marketing. I wish to network with people who are interested in marketing Technologies like Blockchain for marketing, marketing ANALYTICS, web ANALYTICS and tools like R, Rstudio, python, excel ANALYTICS, and Saas., a pragmatic marketing professional with more than a decade long experience in marketing& promotions, business development, marketing strategy, advertising, budgeting, planning and team building. experience of handling international marketing for Multi-Industry products, Multi-Location, multi-product using Multi-Tools to achieve strategic marketing objectives. key strength lies in using New-Age media tools, networking, strategic marketing, training and team building capabilities. strong fundamentals in science and computers. A keen Learner who believes in continuous learning and training. ability to handle large team while motivating and Aligning them to the organizational Goals.Specialties: B2B marketing management, business development, marketing strategy, data analysis, Online marketing, strategic planning& team management., a data driven industrial marketing professional with more than a decade long experience in demand generation, lead generation, business development, marketing and promotions, advertising, budgeting, planning and team building. rich experience in developing and executing Multi-Channel integrated marketing campaigns using a combination of content marketing concepts and data driven international marketing for Multi-Industry industrial products. key strengths lie in understanding and New-Age marketing technologies, data driven marketing, lead generation, strategic marketing, training and team building. strong fundamentals in science and computers., a data driven marketing professional with more than a decade long experience in marketing and promotions, lead generation, business development, advertising, budgeting, planning and team building. experience of handling international marketing for Multi-Industry products to achieve strategic marketing objectives. key strength lies in using New-Age marketing technologies, data driven marketing, lead generation, strategic marketing, training and team building. strong fundamentals in science and computers. A keen Learner who believes in continuous learning., a data driven B2B industrial marketing professional with more than a 14 years of experience in strategic marketing, branding and communications, market research, demand generation, lead generation, business development, marketing and promotions, advertising, budgeting, planning and team building. rich experience in developing and executing Multi-Channel integrated marketing campaigns using a combination of content marketing and data driven international marketing concepts for Multi-Industry products., marketing strategist| B2B industrial marketer| top 100 Digital marketer| top 100 marketing Technologist| mentor|, B2B industrial marketing professional| marketing strategist| marketing head at Bry-Air( Asia) private limited, Hod- marketing and promotions| B2B industrial marketing professional| marketing strategist|\n",
      "\n",
      " TrueCase Annotated \n",
      " Corporate business professional with 18 years of Post-Graduate progressive experience out of which 12 years in mid and top management positions. has wide exposure in various areas of finance, MIS, hr,& Admin. good exposure to manufacturing, supply chain, sales,& distribution. I have my own management technique that depends on winning with people, leading rather than managing, and focusing on people development& empowerment. highly experienced in transformation, restructuring, organizational development, change management, Start-Ups,& liquidations. experience in dealing and working with private equities. expert in Erp Implementations within corporates including production modules and planning for maximum efficiency. specialties: entrepreneur, people manager, people oriented, team building& development, cash crisis management, organizational transformation, organizational development and restructuring, accounting and finance management, planning& budgeting, setting infra structure of policies, procedures,& controls., corporate finance professional with 15 years of post graduate progressive experience out of which 14 years in mid and top management positions. has wide exposure in various areas of accounting, controlling,& finance. I have my own management technique that depend on winning with people, leading rather than managing, and focusing on people development& empowerment. highly experienced in companies transformation in terms of restructuring, organizational development, delegation of authority, change management, promoting efficiency& minimizing waste, business development through horizontal and vertical expansion. experience in Start-Ups,& liquidations. specialties: entrepreneur, people manager, people oriented, team building& development, cash crisis management, organizational transformation, organizational development and restructuring, accounting and finance management, planning& budgeting, setting infra structure of policies, procedures,& controls., corporate finance professional with 15 years of Post-Graduate progressive experience out of which 10 years in mid and top management positions. has wide exposure in various areas of accounting, controlling, budgeting,& finance. depends on winning with people, leading rather than managing, and focusing on people development& empowerment. highly experienced in restructuring, organizational development, change management, Start-Ups,& liquidations. experience in dealing and working with private equities. expert in Erp Implementations within corporates including production modules and planning for maximum efficiency. specialties: entrepreneur, people manager, people oriented, team building& development, cash crisis management, organizational transformation, organizational development and restructuring, accounting and finance management, planning& budgeting, setting infra structure of policies, procedures,& controls., corporate finance professional with 13 years of post graduate progressive experience out of which 9 years in mid and top management positions. has wide exposure in various areas of accounting, controlling,& finance. I have my own management technique that depend on winning with people, leading rather than managing, and focusing on people development& empowerment. highly experienced in restructuring, organizational development, change management, Start-Ups,& liquidations. specialties: entrepreneur, people manager/ people oriented, team building& development, cash crisis management, organizational development and restructuring, accounting and finance management, planning& budgeting, setting infra structure of policies, procedures,& controls., Cfo/ business mentor/ business transformation professional, Cfo/ business mentor/ business transformation consultant, group Cfo at Ift International free trade corporation, finance manager at CB& I\n",
      "\n",
      " TrueCase Annotated \n",
      " Leslie Basedow is a proven leader recognized for exceptional Analytical skills and a strong drive for results. She has taken on critical sales effectiveness efforts to enhance the capabilities of customer facing teams. She has a strong track record delivering high quality, top& Bottom-Line results through building effective teams. She delivered$ 250Mm in savings at Kraft by Uncovering key levers to improve roi of pricing/ promotional spending. ability to influence without authority and make compelling arguments for change/ improvement. background includes: creation of sales training curriculums development of post and predictive analytic tools delivery of training content in large group settings demonstrated track record of delivering results and attaining sales goals previous success influencing without direct authority experience identifying talent and leading powerful teams, proven leader in the Cpg industry recognized for exceptional Analytical horsepower and a strong drive for results. has taken on critical sales effectiveness efforts to enhance the capabilities of Client-Facing teams to drive profitable growth. developed tools and training to improve sales teams business development skills. found$ 250Mm in savings by Uncovering key levers to improve roi of customer business plans. ability to influence without authority and make compelling arguments for change/ improvement. background includes: creation of sales training curriculums development of post and predictive analytic tools delivery of training content in small/ large group settings demonstrated track record of delivering results and attaining sales goals. previous success influencing without direct authority experience building, managing, growing and developing teams, proven leader recognized for exceptional Analytical horsepower and a strong drive for results. has taken on critical sales effectiveness efforts to enhance the capabilities of Client-Facing teams to drive profitable growth. developed tools and training to improve sales teams business development skills. found$ 250Mm in savings by Uncovering key levers to improve roi of customer business plans. ability to influence without authority and make compelling arguments for change/ improvement. background includes: creation of sales training curriculums development of post and predictive analytic tools delivery of training content in small/ large group settings demonstrated track record of delivering results and attaining sales goals previous success influencing without direct authority experience building, managing, growing and developing teams, Results-Oriented leader with demonstrated record of success in both strategy development and sales execution. recognized by colleagues for building High-Performing teams, leading dynamic organizational change, and developing high impact Go-To-Market strategies. strong business acumen with the ability to develop and execute sales and marketing strategies designed to increase revenues and profitability areas of expertise: business strategy, strategic planning, sales and sales effectiveness, growth and cost reduction evaluation, forecasting, project and program management, communications,, Results-Oriented leader with demonstrated record of success in both strategy development and execution. extensive experience across industries, with a recent focus on distribution. ability both to understand the big picture and to deliver results on the ground in a practical, hands-on way. recognized by colleagues for building High-Performing teams, leading dynamic organizational change, and communicating effectively with people at all levels of an organization. Analytical, collaborative, and a creative problem Solver., sales force effectiveness| sales training| sales leadership, director, large customer planning team at Grainger, SR director, planning& process excellence\n",
      "\n",
      " TrueCase Annotated \n",
      " Senior business Technologist and Togaf certified enterprise architect with 20 plus years of Progressive experience combined with innovative, collaborative and entrepreneurial skills. led development and implementation of Digital technology strategies- business intelligence, ANALYTICS, content, communication& collaboration, process automation and Interoperability- across the global enterprise highly regarded and awarded for creativity, execution, efficiency, portfolio optimization and cost reduction. extensive hands-on experience with technology selection and Rollout, strategic and operational planning, it finance, Governance, architecture, infrastructure, Outsourcing, vendor management and application development. led challenging Cross-Functional programs and projects, established processes and standards, Optimized portfolios. delivered enterprise and system architectures and applications., Technologist, architect, data scientist and serial inventor with 25 years of extensive experience combined with innovative, Analytical, relationship management, executive presentation and entrepreneurial skills. led development and implementation of various technology and ANALYTICS strategies, enterprise architecture blueprints and Roadmaps, and cost reduction programs highly regarded and awarded for creativity, execution, ANALYTICS, efficiency, portfolio optimization and cost reduction. extensive hands-on experience with technology selection and Rollout, strategic and operational planning, ANALYTICS and visualization, it finance, Governance, architecture, infrastructure, Outsourcing, vendor management and application development. Serial inventor- filed patents and continuously working to patent my next set of ideas; master inventor coaching others to shape their ideas to file, business technology leader, data scientist, information economist and enterprise architect with 25 years of Progressive experience combined with innovative, Analytical, relationship management, executive presentation and entrepreneurial skills. led development and implementation of various technology and ANALYTICS strategies, enterprise architecture blueprints and Roadmaps, and cost reduction programs highly regarded and awarded for creativity, execution, ANALYTICS, efficiency, portfolio optimization and cost reduction. extensive hands-on experience with technology selection and Rollout, strategic and operational planning, ANALYTICS and visualization, it finance, Governance, architecture, infrastructure, Outsourcing, vendor management and application development., core expertise: technology strategy, program management, business case, architecture, ANALYTICS, it portfolio management, vendor management, Corporate-Wide technology selection and Rollout, emerging technology management and patenting current focus: Blockchain, ai/ ANALYTICS, automation, connected health and Digital transformation complementary skills: known for innovation, leadership, execution, executive presence, Analytical, efficiency, automation, portfolio optimization and cost reduction, location: greater Philadelphia area; industry: financial services ... led development and implementation of various technology and ANALYTICS strategies, ... Outsourcing, vendor management and application development . ... senior technology& architecture advisor ... head of enterprise business architecture at Aetna ..., technology& architecture advisor; business Technologist; data scientist; information economist at Aetna, executive Technologist; thought leader; enterprise architect; data scientist; serial inventor, business Technologist; enterprise architect; data scientist; serial inventor, enterprise architecture advisor; business Technologist; Digital strategist, application development and maintenance, investment banking- back office, retail banking- back office\n",
      "\n",
      " TrueCase Annotated \n",
      " Accomplished marketing and supply chain professional. global program manager with a strong grasp of projection management, marketing ANALYTICS, product marketing, supply chain operations, process improvement, sales Enablement, go to market needs, and business management across industries and international markets. proven ability to develop actionable plans from data analysis. experience Aligning goals across multiple disciplines including operations, product development, marketing, Finance and R& D. specialties: data compilation and analysis; Microsoft office; process engineering; strategic operations management; web site production; client relations; marketing; accounts payable; billing systems; budgeting; payroll processing, accomplished global program manager and product marketing professional with a strong grasp of product management, roadmap rationalization, sales Enablement, go to market needs, and business management across international markets. experience Aligning goals across multiple disciplines including operations, product development, marketing, Finance and R& D. track record of driving initiatives that result in 20-40% gross margin improvement and positive customer impact. specialties: data compilation and analysis; Microsoft office; process engineering; strategic operations management; web site production; client relations; marketing; accounts payable; billing systems; budgeting; payroll processing, accomplished product marketing professional and global program manager with a strong grasp of marketing ANALYTICS, product management, sales Enablement, go to market needs, and business management across international markets. experience Aligning goals across multiple disciplines including operations, product development, marketing, Finance and R& D. track record of driving initiatives that result in 20-40% gross margin improvement and positive customer impact. specialties: data compilation and analysis; Microsoft office; process engineering; strategic operations management; web site production; client relations; marketing; accounts payable; billing systems; budgeting; payroll processing, accomplished global program manager and Cloud-Based product marketing professional with a strong grasp of Go-To-Market strategy, product marketing, product management, marketing ANALYTICS, project management, sales Enablement, supply chain operations, and business management across international markets. track record of driving marketing initiatives for Cloud-Based technology solutions through print and Digital campaigns that result in 10-20% market share growth. proven ability to develop actionable plans from data ANALYTICS and experience Aligning team objectives across multiple disciplines including supply chain, product development, marketing, Finance and R& D., accomplished global program manager and product marketing professional with a strong grasp of Go-To-Market strategy, product marketing, product management, marketing ANALYTICS, project management, sales Enablement, supply chain operations, and business management across international markets. track record of driving Solutions-Based marketing initiatives through print and Digital campaigns that result in 10-20% market share growth. proven ability to develop actionable plans from data ANALYTICS and experience Aligning team objectives across multiple disciplines including supply chain, product development, marketing, Finance and R& D., accomplished global program manager. experience Aligning goals across multiple disciplines including operations, product development, marketing and R& D. track record of driving initiatives that result in gross margin improvement and positive customer impact. proven ability developing, launching and managing programs., Lar product marketing manager at Hewlett-Packard, Latin America marketing manager, B2B\n"
     ]
    },
    {
     "name": "stdout",
     "output_type": "stream",
     "text": [
      "\n",
      " TrueCase Annotated \n",
      " Construction operations manager with over 15 years of experience in and related to the construction industry. experienced in multiple areas of the construction process, including project management, Job-Costing, budget creation and analysis, hr procedures, and Subcontractor management. experience working with specifications and deadlines associated with DOT, Dod, and other government run projects. natural disaster response and recovery project experience. demonstrated ability to work effectively and efficiently in a Fast-Paced environment. developed positive and ongoing relationships with customers. coordinated with customers and employees to ensure on time completion of projects. prepared project estimates for customers using forecasting, scheduling, and pricing Database tools. managed company sites and facilities to maintain a professional appearance, as well as, ensuring compliance with Osha, Msha, and environmental regulations. roles included profit center management for transportation business segment, project management, and operations management., construction manager with over 12 years of experience in the construction industry. experienced in multiple areas of the construction process, including project management, Job-Costing, budget creation and analysis, hr procedures, and Subcontractor management. experience working with specifications and deadlines associated with DOT, Dod, and other government run projects. natural disaster response and recovery project experience. demonstrated ability to work effectively and efficiently in a Fast-Paced environment. developed positive and ongoing relationships with customers. coordinated with customers and employees to ensure on time completion of projects. prepared project estimates for customers using forecasting, scheduling, and pricing Database tools. managed company sites and facilities to maintain a professional appearance for customers, as well as, compliance with Osha and environmental regulations. roles included profit center management for transportation business segment, project management, and operations management., construction manager with over 11 years of experience in the construction industry. experienced in multiple areas of the job. experience working with specifications and deadlines associated with DOT, Dod, and other government run projects. natural disaster response and recovery project experience. demonstrated ability to work effectively and efficiently in a Fast-Paced environment. developed positive and ongoing relationships with customers. reputation for excellence. coordinated with customers and employees to ensure on time completion of projects. prepared project estimates for customers using forecasting, scheduling, and pricing Database tools. managed company housing( 100+ bedroom units) for employees in Williston, nd and Watford city, nd. managed company sites to maintain a professional appearance for customers, as well as, compliance with Osha and environmental regulations. roles included profit center management for transportation business segment, project management, and operations management., accountant focused in cost segregation, 179D, energy efficiency programs, and fixed assets. construction operations manager with over 15 years of experience in and related to the construction industry. experienced in multiple areas of the construction process, including project management, Job-Costing, budget creation and analysis, hr procedures, and Subcontractor management. experience working with specifications and deadlines associated with DOT, Dod, and other government run projects. natural disaster response and recovery project experience., operations manager seeking opportunities in construction and other related industries., construction specialist at Eide Bailly Llp\n",
      "\n",
      " TrueCase Annotated \n",
      " I am a communications Renaissance-Man. for more than 17 years I have embraced every opportunity to roll up my sleeves and work in all facets of the communications industry. from media training and talking clients down off a ledge to strategic planning, crafting executive Messaging and event planning- I have done it all, and done it very well. at every workplace I have earned the reputation as a consummate professional that colleagues and clients can count on to thoroughly plan and execute successful public relations, public affairs and integrated communications programs. qualities I bring to work every day are enthusiasm, organization, and a strong work ethic, confidence and the vision necessary to identify and prepare for how the communication decisions made today might impact an organization in the future. The work that Excites me is when I can be a Connector, lead teams, and establish partnerships, mentor Junior team members, spearhead strategic planning, work with news media and help organizations effectively communicate about difficult issues.###, a communications generalist for more than 16 years who has earned the reputation as a consummate professional that colleagues and clients can count on to thoroughly plan and execute successful public relations, public affairs and integrated communications programs. qualities I bring to work every day are enthusiasm, organization, and a strong work ethic, confidence and the vision needed to see the big picture. The work that really Excites me now is when I can be a Connector, lead teams, and establish partnerships, mentor Junior team members, strategic planning and issues management., trusted, Results-Driven team leader who is comfortable in Fast-Paced, always changing work settings. My experience in government communications and public affairs is the foundation of my knowledge, but through my work with outstanding agencies and while operating my own consultancy, I led PR and marketing initiatives for a wide array of industries, including: transportation, music, hospitality, and energy, higher education, retail and land use planning. I've worked hard to diversify my experience so I can better serve my employer and clients., a highly skilled and talented media and public relations expert, with more than 13 years of demonstrated success in executing internal and external communications programs, accomplished through planning, designing and implementing strategies, initiatives, creative campaigns and PR events. In addition, established exceptional relationships with key media leaders., high-energy leader offering 14 years experience with developing and implementing effective communication strategies, leading the media and public relations initiatives for numerous, unprecedented, top priority initiatives for city and county governments, the private sector, foundations, and economic development organizations., communications strategist with 14 years experience leading Multi-Disciplinary teams to develop and execute Proactive media and public relations programs on behalf of city and county governments, Public-Private partnerships, the private sector, foundations, hospitality programs and economic development organizations., communications strategist with 15 years experience leading Multi-Disciplinary teams to develop and execute Proactive media and public relations programs on behalf of city and county governments, Public-Private partnerships, the private sector, foundations, hospitality programs and economic development organizations., communications director at mass transit now at mass transit now!, director of communications at Wayne County Michigan, senior communications& public affairs strategist, principal at Gallatin public affairs, is a battle tested PR professional\n",
      "\n",
      " TrueCase Annotated \n",
      " My motto: think big, get it done, and have a good time doing it. I worked many of the biggest news stories in journalism over a 25- year career as a reporter, local editor, senior editor and executive editor in three major Metro markets; earned multiple best of statewide and regional awards; earned one Pulitzer with the Denver post; Re-Branded myself as a communications and marketing guru; even turned around a local boys& girls club in a Ceo role. I trend forward and never look back. specialties: best practices in executive management; journalism and distribution of journalism on all platforms; business operations of media companies; the mobile Internet; media relations; public affairs; social media; marketing; native advertising; sponsored content corporate journalism; content creation; ad campaigns; brand development; web development; crisis management; speech writing; internal/ external writing and editing; community relations; organizational restructuring; strategic planning; event planning and management., my motto: think big, get it done, and have a good time doing it. I have several projects ongoing. They include overhauling, remodeling and repositioning Norte media, a daily newspaper and Digital operation in Ciudad Juarez; developing Sportstownelpaso.Com as a niche Digital play focused on local sports, competitive recreation, active living and nutrition; and development of media, public relations and marketing assistance for Paso del Norte health foundation; specialties: journalism and distribution of journalism on all platforms, business operations of media companies, the mobile Internet, media relations, public affairs, social media, native advertising, sponsored content, corporate journalism, content creation, ad campaigns, brand development, web development, crisis management, speech writing, internal/ external writing and editing, community relations, organizational restructuring, strategic planning, event planning and management., my motto: think big, get it done, and have a good time doing it. currently working on the launch of the valley magazine to serve the rural market of the San Luis Valley in south-central Colorado, and ongoing expansion of Zepol media. specialties: best practices in executive management; journalism and distribution of journalism on all platforms; business operations of media companies; the mobile Internet; media relations; public affairs; social media; native advertising; sponsored content corporate journalism; content creation; ad campaigns; brand development; web development; crisis management; speech writing; internal/ external writing and editing; community relations; organizational restructuring; strategic planning; event planning and management., my motto: think big, get it done, and have a good time doing it. currently working on the launch of a teen Tech Academy to serve the rural market of the San Luis Valley in south-central Colorado, and expansion of Zepol media. specialties: best practices in executive management; journalism and distribution of journalism on all platforms; business operations of media companies; the mobile Internet; media relations; public affairs; social media; native advertising; sponsored content corporate journalism; content creation; ad campaigns; brand development; web development; crisis management; speech writing; internal/ external writing and editing; community relations; organizational restructuring; strategic planning; event planning and management., I left my hometown of Alamosa, Co in 1984 to pursue my daily newspaper career. I've covered 4 super bowls, a world series, Ncaa final fours, Nba Playoffs, ..., director of public relations and marketing at Adams state university, president/ Ceo at boys and girls clubs of the San Luis Valley\n",
      "\n",
      " TrueCase Annotated \n",
      " High impact professional with 12+ years of experience across technology and financial services. global lead for enterprise core services portfolio at hp, responsible for growth and market share retention of core services, value proposition and competitive positioning. experience in leading high performing teams in developing business framework, Redesigning business models and implementing large transformation to create value through revenue expansion and cost reduction. strong track record of working with Cxo level audience at hp and GE, in implementing large transformation and change management programs. experience in managing ANALYTICS client teams in financial risk measurement, credit risk, statistical and financial Modelling., a structural engineer with seven years of professional experience in detailed engineering, project management and developmental work. This includes experience of diverse range of projects in residential, industrial and nuclear sectors dealing with reinforced concrete, steel and masonry materials by using various commercial software for example sap, Etabs, Staad, Nisa, Risa 3D, perform 3D, Plaxis 3D etc and design standards such as is, Aisc, ACI, Euro, Asce, IBC, and Ubc, etc. as a research associate in city University London, my research objective was to formulate an efficient Inelastic composite fiber Beam-Column element for earthquake loading., high impact professional with 12+ years of experience across technology and financial services. experience in leading high performing teams in developing business framework, Redesigning business models and implementing large transformation to create value through revenue expansion and cost reduction. strong track record of working with Cxo level audience at hp and GE, in implementing large transformation and change management programs. experience in managing ANALYTICS client teams in financial risk measurement, credit risk, statistical and financial Modelling., high impact professional with experience across technology and financial services. experience in leading high performing teams in developing business framework, Redesigning business models and implementing large transformation to create value through revenue expansion and cost reduction. strong track record of working with Cxo level audience at hp and GE, in implementing large transformation and change management programs. experience in managing ANALYTICS client teams in financial risk measurement, credit risk, statistical and financial Modelling., Dipankar Das. project manager at hp enterprise services ... Delhi board of technical education ... executing concurrent projects, monitoring projects and facilitate project updates to clients. 2 . ... 3. perusing lab test for new solutions, Simulating problem scenarios in the lab . ... SME& consultant at orange business services ..., location: Bengaluru area, India; industry: information technology and services ... strong track record of working with Cxo level audience at hp and GE, ... experience in managing ANALYTICS client teams in financial risk measurement, credit ... business analyst ... Dipankar Das. President, Vadodara Toastmasters club. India ..., experienced project manager with a demonstrated history of working in the information technology and services industry. skilled in business process, operations management, customer relationship management( Crm), it service management, and contact centers. strong program and project management professional., SR project manager at at& t communication services India pvt. Ltd., ANALYTICS consulting at Bridgei 2I ANALYTICS solutions, strategy and planning, Hewlett Packard enterprise, application development and maintenance, investment banking- back office, retail banking- back office\n",
      "\n",
      " TrueCase Annotated \n",
      " Former student of Prague college, having graduated in 2016 with a degree in international business management( BA Hons). currently working as as a product support analyst for Amazon with a primary focus on Salesforce. upon completion of my a levels, I spent the year( following an in-depth assessment) working as a volunteer for a charity( the Jesuit missions) at a school in India. After that they then asked me to help run a summer camp in Kyrgyzstan. to help fund these experiences( I was a volunteer so had to pay for everything) I worked at Vodafone UK as an In-Store sales advisor. I am passionate about sports, and see the importance of team skills in my future work environment. charity work, human resources, business development and marketing are all areas of interest to me. I am always keen to meet new people and experience new situations and challenges. also to stretch myself to develop new skills and learning opportunities., student at Prague college studying BA Hons( International business management), currently in my final year graduating 2016, and seeking graduate scheme roles with international companies. upon completion of my a levels, I spent the year( following an in-depth assessment) working as a volunteer for a charity( the Jesuit missions) at a school in India. After that they then asked me to help run a summer camp in Kyrgyzstan. to help fund these experiences( I was a volunteer so had to pay for everything) I worked at Vodafone UK as an In-Store sales advisor. I am passionate about sports, and see the importance of team skills in my future work environment. charity work, business development, human resources and marketing are all areas of interest to me. I am always keen to meet new people and experience new situations and challenges. also to stretch myself to develop new skills and learning opportunities., former student of Prague college, having graduated in 2016 with a degree in international business management( BA Hons) upon completion of my a levels, I spent the year( following an in-depth assessment) working as a volunteer for a charity( the Jesuit missions) at a school in India. After that they then asked me to help run a summer camp in Kyrgyzstan. to help fund these experiences( I was a volunteer so had to pay for everything) I worked at Vodafone UK as an In-Store sales advisor. I am passionate about sports, and see the importance of team skills in my future work environment. charity work, business development, human resources and marketing are all areas of interest to me. I am always keen to meet new people and experience new situations and challenges. also to stretch myself to develop new skills and learning opportunities., hr specialist currently working as as a product support analyst for Amazon with a primary focus on Salesforce and Peoplesoft. focusing on Uat coordination and technical support across the different platforms. I am passionate about sports, and see the importance of team skills in my future work environment. charity work, human resources and project management are all areas of interest to me. I am always keen to meet new people and experience new situations and challenges. also to stretch myself to develop new skills and learning opportunities., student at Prague college studying a BA in international business management. I decided to take a year out after finishing my a levels in which I travelled to India and Kyrgyzstan where I volunteered as a teacher. In between traveling I worked at Vodafone UK as an in store sales advisor., BA( Hons) International business management student at Prague International college, recruitment consultant at nonstop education, market researcher at nonstop education, product support analyst at Amazon\n",
      "\n",
      " TrueCase Annotated \n",
      " A highly experienced talent specialist and talent manager with 12 years industry experience and a wealth of knowledge, gained through employment within agency and internal recruitment as both a recruitment consultant and manager across New Zealand, UK and Australia, with relevant qualifications. specialist in best practice talent acquisition management through leading from the front and ensuring innovative Sourcing strategies and recruitment processes are upheld. highly experienced in the end to end recruitment cycle with involvement in both high volume and senior management recruitment. Well practised in change management and strategic thinking to improve efficiencies. clear communicator with Stakeholders at all levels. specialties: management, talent acquisition, Sourcing and selecting, best practise recruitment, people management and change management., a highly experienced talent specialist and talent manager with 11 years industry experience and a wealth of knowledge, gained through employment within agency and internal recruitment as both a recruitment consultant and manager across New Zealand, UK and Australia, with relevant qualifications. specialist in best practice talent acquisition management through leading from the front and ensuring innovative Sourcing strategies and recruitment processes are upheld. highly experienced in the end to end recruitment cycle with involvement in both high volume and senior management recruitment. Well practised in change management and strategic thinking to improve efficiencies. clear communicator with Stakeholders at all levels. specialties: management, talent acquisition, Sourcing and selecting, best practise recruitment, people management and change management., a highly experienced recruiter and recruitment manager with 10 years industry experience and a wealth of knowledge, gained through employment within agency and internal recruitment as both a recruitment consultant and manager across New Zealand, UK and Australia, with relevant qualifications. specialist in best practice talent acquisition management through leading from the front and ensuring innovative Sourcing strategies and recruitment processes are upheld. highly experienced in the end to end recruitment cycle with involvement in both high volume and senior management recruitment. Well practised in change management and strategic thinking to improve efficiencies. clear communicator with Stakeholders at all levels. specialties: management, talent acquisition, Sourcing and selecting, best practise recruitment, people management and change management., a highly experienced recruiter with 9 years industry experience and a wealth of knowledge, gained through employment within agency and internal recruitment as both a recruitment consultant and manager across New Zealand, UK and Australia, with relevant qualifications. specialist in best practice talent acquisition for both clients and internal staff involving innovative Sourcing strategies and recruitment processes. highly experienced in the end to end recruitment cycle with involvement in both high volume and senior management recruitment. Well practised in change management and strategic thinking to improve efficiencies. clear communicator with Stakeholders at all levels. specialties: management, talent acquisition, Sourcing and selecting, best practise recruitment, people management, change management and education., hr practitioner with experience in the media and education industries. a true partner and trusted adviser to the business with a pragmatic and strategic approach. experienced in transformation, change management and people management., hr specialist at news Corp Australia, internal recruiter at news Corp\n",
      "\n",
      " TrueCase Annotated \n",
      " A competent professional with more than 7 years of total experience including more then 6 years in key account manager, sales& marketing, business development, customer support operations, brand management, distribution management and team management in it industries. Presently designated as territory sales manager-( up) with best it world( India) pvt. Ltd., taking care of Iball baton- networking products in corporations and channel. handling primary sales of 8 distributors in given territory and also managing team of 5 sales person for secondary business for the distributor. Well versed in handling& achieving desired targets of organization and fulfilling customer requirements. strong interpersonal and communication skills along with a professional attitude and confidence to meet demands of the industry. proficiency at grasping new technical concepts quickly and utilizing the same in a productive manner., a competent professional with more than 8 years of total experience including more then 7 years in key account manager, sales& marketing, business development, customer support operations, brand management, distribution management and team management in it industries. Presently designated as assistant sales manager-( Up-E) with tally solutions pvt Ltd., taking care of tally business in Up-E for corporations and channel both. handling primary sales of distributors in given territory and also managing team of 3 sales person for secondary business for the distributor. Well versed in handling& achieving desired targets of organization and fulfilling customer requirements. strong interpersonal and communication skills along with a professional attitude and confidence to meet demands of the industry. proficiency at grasping new technical concepts quickly and utilizing the same in a productive manner., a competent professional with more than 9 years of total experience including more then 8 years in key account manager, sales& marketing, business development, customer support operations, brand management, distribution management and team management in it industries. Presently designated as assistant sales manager-( Up-E) with tally solutions pvt Ltd., taking care of tally business in Up-E for corporations and channel both. handling primary sales of distributors in given territory and also managing team of 3 sales person for secondary business for the distributor. Well versed in handling& achieving desired targets of organization and fulfilling customer requirements. strong interpersonal and communication skills along with a professional attitude and confidence to meet demands of the industry. proficiency at grasping new technical concepts quickly and utilizing the same in a productive manner., a competent professional with more than 11 years of total experience. 10 years in sales& business development and around 1.5 years in web technology. currently I am with tally solutions pvt. Ltd. and hold the position of assistant sales manager( Up-E) and looking after tally business on it Channel. responsible for primary sales from distributors in Upe and managing a team of 6 sales executives for secondary business. Well versed in handling& achieving desired targets of the organization and fulfilling customer requirements., best it world( India) pvt. Ltd.,; Odyssey Microtrends pvt Ltd., Lucknow( Odyssey ... a competent professional with more than 8 years of total experience ... maintain and update customer information so as to improve territory and customer coverage activity . ... Uttar Pradesh Rajarshi Tandon open University, Allahabad., Asst. Sales manager at tally solutions pvt Ltd, investment banking- front office\n",
      "\n",
      " TrueCase Annotated \n",
      " Leadership& development/ operations consultant specializing in building leaders, at any level, that will increase employee engagement, unify teams, enhance training initiatives and increase profitability. a highly regarded Speaker, training and operations leader, and business consultant with experiences in leadership training, sales, Multi-Unit operations, highly regulated environments as well as Train-The-Trainer development. adept at analyzing processes, developing effective training responses to operational deficiencies, maintaining regulatory compliance and sustaining effective daily operations. specialties: leadership skills training, employee engagement, building great teams, operational excellence, curriculum development, interdepartmental collaboration, staff development, regulatory compliance, project management, tactical training strategies, customer service, sales, learning management systems LMS, senior training/ operations director employee engagement~ building great teams~ enterprise training initiatives~ Multi-Unit operations experience~ train the Trainer development a highly regarded Speaker, training and operations leader, and business consultant with experiences in leadership training, highly regulated air traffic environments as well as Multi-Unit retail. adept at analyzing processes, developing effective training responses to operational deficiencies, maintaining regulatory compliance and sustaining effective daily operations. specialties: employee engagement, building great teams, operational excellence, curriculum development, interdepartmental collaboration, staff development, regulatory compliance, project management, tactical training strategies, customer service, leadership skills training, learning management system LMS, senior L& D/ operations director employee engagement~ building great teams~ enterprise training initiatives~ Multi-Unit operations experience~ train the Trainer development a highly regarded Speaker, training and operations leader, and business consultant with experiences in leadership training, highly regulated air traffic environments as well as Multi-Unit retail. adept at analyzing processes, developing effective training responses to operational deficiencies, maintaining regulatory compliance and sustaining effective daily operations. specialties: employee engagement, building great teams, operational excellence, curriculum development, interdepartmental collaboration, staff development, regulatory compliance, project management, tactical training strategies, customer service, leadership skills training, learning management system LMS, senior training/ operations director enterprise training initiatives~ Multi-Unit operations oversight~ train the Trainer development a highly regarded training and operations leader with experiences in leadership training, highly regulated air traffic environments as well as Multi-Unit retail. adept at analyzing processes, developing effective training responses to operational deficiencies, maintaining regulatory compliance and sustaining effective daily operations. specialties: operational excellence, curriculum development, interdepartmental collaboration, staff development, regulatory compliance, project management, inventory management, tactical training strategies, customer service, leadership skills training, learning management system LMS, influential leadership: increases productivity& profitability. professional Speaker| Trainer| coach| gladiator, Speaker, leadership Trainer/ coach, business consultant, employee engagement expert, Speaker| Trainer| business consultant| gladiator emeritus!, national director of training\n",
      "\n",
      " TrueCase Annotated \n",
      " At Javelin engineering, our manufacturing goal is to provide consistent and predictable products for aerospace industry, which satisfy customer expectations at competitive prices and change future of Aviation our services include: engineering services( custom Vb Scripting, macro automation with Catia, fixture design& Nc_Programming, composite tooling design) CNC milling& turning production assembly plastic injection mold manufacturing titanium Machining( aerospace component)--- our core area is aerospace, in aerospace we successfully programmed landing gear assembly components bracket of rocket, big structural aerospace part like Spar web, tail Stringer. skin Stringer upper wings aircraft seat bracket, support fitting, cargo and utility doors component, special purpose structural assembly components close tolerance detailed parts and assemblies we have a experience to work for Boeing, Spacex and Lockheedmartin, Northhrop, Md helicopter, Arnprior Aerosapce,- Catia V5, Nx 10.0, Mastercam, esprit, Topsolid consulting services- providing Offline Catia NC programming to worldwide SME- automation base Shop-Data generation from Catia, macro programming automation, Vba- 20% cycle time reduction- complex aerospace blueprint conversation- aerospace structural parts of programming with Catia V5 V6, 5 years of experience to work with Catia V5 and Nx in aerospace domain- post processor development with IMS, Vb base post- Vericut machine development,--- successfully programmed landing gear Assembly, bracket of rocket, big structural aerospace part like Spar web, tail Stringer. skin Stringer upper wings aircraft seat bracket, support fitting, we have a experience to work for Boeing, Spacex and Lockheedmartin, Northhrop, Md helicopter,- providing Offline Catia NC programming to worldwide SME- automation base Shop-Data generation from Catia, macro programming automation, Vba- complex aerospace blueprint conversation- aerospace structural parts of programming with Catia V5 V6, 4 years of experience to work with Catia V5 and Nx in aerospace domain- post processor development with IMS, Vb base post- Vericut machine development,--- successfully programmed landing gear Assembly, bracket of rocket, big structural aerospace part like Spar web, tail Stringer. skin Stringer upper wings aircraft seat bracket, support fitting, we have a experience to work for vendors of Boeing, Spacex and Lockheedmartin, Northhrop, Md helicopter, aerospace structural parts of programming with Catia V5 V612 axis Mill-Turn Programmingsuccessfully programmed landing gear Assembly, bracket of rocket, very big structural aerospace Parti have experience with Mazak 5 axis and 4 axis Hmc programming, Hass Vb1 Vf2 Vf4, Wfl Millturn, Fidia 5 axis Gantry, Zimmerman 5 axis, 5- axis- Cincinnati Gantry Millpost processor development, successfully developed Wfl Millturn, Mazak 5 axis milling and 4 axis Hmc post, Vericut 7.1( Optipath, new machine development,) programming language:-, Vbaautomotive designer, complex surface designer,, at Javelin engineering, our manufacturing goal is to provide consistent and predictable products, which satisfy customer expectations at competitive prices. Our services include: engineering services( fixture design& Nc_Programming) CNC milling production assembly plastic injection mold manufacturing plastic parts production, aerospace NC programming consulting services at NC programming consultant, Catia, Nx NC programming services, Catia& Nx contract NC programming, owner at Javelin technologies, owner of Javelin engineering, owner at Javelin engineering\n",
      "\n",
      " TrueCase Annotated \n",
      " Linking technology with proven best practices to build efficient, effective, Performance-Driven, Quality-Focused, financially sound, Customer-Centric solutions* confident and Progressive technology leader with extensive experience managing state-of-the-art information technology departments: infrastructure; business analysis; application development; service desk; business intelligence; Database/ data warehousing; asset management and enterprise content management.* talented team builder, who delivers User-Friendly technology solutions that surpass user expectations, achieves business objectives and meets financial goals.* vendor Sourcing/ vendor relations track record for building strong and strategic partnerships using perceptive negotiation skills that reduce costs, increase roi, improve support/ service and ensure technical innovation.* trusted advisor to senior executives., senior manager offering more than 20 years of information technology experience. oversee Cross-Functional teams of information technology professionals and core Competencies. Implementer of effective and efficient solutions providing process improvement, cost reduction and maximum use of resources. strong leader with a track record of coaching and motivating technically diverse teams to perform at their best in the delivery of quality products and services. proven ability to transform business needs into results and successfully plan and lead complex, large-scale projects to completion. team Player and articulate communicator on all levels including Peer-To-Peer and to senior management. creative problem Solver; dynamic team builder; an All-Around exceptional leader., Goal-Driven and seasoned professional with extensive experience in it project, program, systems architecture, and operations management, including large-scale enterprise software development and application implementation projects. additional qualifications include:* expertise in formulating and implementing project action plans and solutions to successfully meet goals and objectives, while completing projects within established budgets and schedules* Adeptness in motivating, guiding, and leading High-Caliber teams of professionals toward the fulfillment of common goals* articulate communication and interpersonal skills in building positive working relationships with professionals of all levels, armed with hands on information technology expertise and leadership from enterprise architecture, network engineering, information security and corporate it Governance. possess outstanding capabilities in developing and implementing project plans and strategies to achieve goals and objectives. successful Implementer of solutions providing excellent people management, process improvement, and efficient and effective use of technology. known for strong work ethic and ability to deliver tasks within time and budget constraints. team Player and articulate communicator., senior leader offering more than 20 years of information technology experience in both the credit Union and Healthcare industries. oversee Cross-Functional teams of information technology professionals and core Competencies. creative problem Solver; dynamic team builder; an All-Around exceptional performer., assistant vice president, applications/ business Suppport at Langley Federal credit Union, assistant vice president, applications/ business support at Langley Federal credit Union, AVP, I. T. applications& business support at Langley Federal credit Union, application development and maintenance, AVP, I. T. infrastructure& operations, investment banking- back office, retail banking- back office\n"
     ]
    },
    {
     "name": "stdout",
     "output_type": "stream",
     "text": [
      "\n",
      " TrueCase Annotated \n",
      " - BNI member.- highly motivated leader with a passion for life!- strong business ANALYTICS to analyze data, develop and adjust business plans to get in front of key decision makers and close deals.- demonstrated key account long-term relationship building and maintenance skills.- successful with long and short sales cycles.- effective Demo, presentation and closing skills teamed with superb communication skills.- Demo and sales of products: medical devices: automated external Defibrillators, monitoring devices, durables and Ppe.- Demo, sales and instruction of Healthcare provider training courses and Up-Sell of educational literature.- national sales Rep. Aed, Ppe and first aid equipment sales( Pre-Hospital-Emergency-Safety) device, durables and Disposables ...- call points: medical/ dental, commercial, retail, educational/ child care, public safety, fire, EMS, police, military/ government, municipalities, assisted living, industrial, construction and manufacturing.,- BNI- president 2017-2018- strong business ANALYTICS to analyze data, develop and adjust business plans to get in front of key decision makers and close deals.- demonstrated key account long-term relationship building and maintenance skills.- successful with long and short sales cycles.- effective Demo, presentation and closing skills. strong communication skills.- Demo and sales of products: medical devices: automated external Defibrillators, monitoring devices, durables, Disposables and Ppe.- Demo, sales and instruction of Healthcare provider training courses and Up-Sell of educational literature.- national sales Rep. Aed, Ppe and first aid equipment sales( Pre-Hospital-Emergency-Safety) device, durables and Disposables ...- call points: medical/ dental, commercial, retail, educational/ child care, public safety, fire, EMS, police, military/ government, municipalities, assisted living, industrial, construction and manufacturing., highly motivated leader with a passion for life!- strong business ANALYTICS to analyze data, develop and adjust business plans to get in front of key decision makers and close deals.- demonstrated key account long-term relationship building and maintenance skills.- successful with long and short sales cycles.- effective Demo, presentation and closing skills teamed with superb communication skills.- Demo and sales of products: medical devices: automated external Defibrillators, monitoring devices, durables and Ppe.- Demo, sales and instruction of Healthcare provider training courses and Up-Sell of educational literature.- national sales Rep. Aed, Ppe and first aid equipment sales( Pre-Hospital-Emergency-Safety) device, durables and Disposables ...- call points: medical/ dental, commercial, retail, educational/ child care, public safety, fire, EMS, police, military/ government and extended living., Indiana sales Rep. Aed, Ppe and first aid kit sales( Pre-Hospital-Emergency safety) device, durables and Disposables ... call points: commercial, medical, dental, educational, extended living and recreational Upsale of the appropriate training services and educational literature: American heart Association and Osha training courses. We provide ... most disposable and durable medical equipment. and office/ kitchen safety products: table paper, Diaper bags, Bibs, aprons, fire Extinguishers and more ..., Wbe certified- workplace safety/ emergency response medical equipment and training, national sales Executive-Ems division at public safety training& supply, LLC., vice President-Sales and training at public safety training& supply, LLC., medical and safety equipment and training\n",
      "\n",
      " TrueCase Annotated \n",
      " Driven and compassionate Healthcare professional with 10 years experience in fast paced departments in hospital and clinical settings, including primary care and medical specialty departments across Palo Alto medical foundation. extensive experience recruiting, developing, coaching, and managing clinical staff. experienced in planning and organizing activities consistent with organizational goals and missions. accountable and responsible with a strong focus on patients first. Problem-Solver with excellent time management skills. dedicated to patient safety, disease prevention, service recovery, improving patient outcomes, and high quality Healthcare. strong decision maker who understands the importance of compassion and patience. patient advocate with intense focus on patients first, positive patient interactions, and improved patient outcomes., driven and compassionate Healthcare professional with 8 years experience in fast paced departments in hospital and clinical settings, including primary care and medical specialty departments across Palo Alto medical foundation. extensive experience recruiting, developing, coaching, and managing clinical staff. experienced in planning and organizing activities consistent with organizational goals and missions. accountable and responsible with a strong focus on patients first. Problem-Solver with excellent time management skills. dedicated to patient safety, disease prevention, service recovery, improving patient outcomes, and high quality Healthcare. strong decision maker who understands the importance of compassion and patience. patient advocate with intense focus on patients first, positive patient interactions, and improved patient outcomes., driven and compassionate Healthcare professional with 9 years experience in fast paced departments in hospital and clinical settings, including primary care and medical specialty departments across Palo Alto medical foundation. extensive experience recruiting, developing, coaching, and managing clinical staff. experienced in planning and organizing activities consistent with organizational goals and missions. accountable and responsible with a strong focus on patients first. Problem-Solver with excellent time management skills. dedicated to patient safety, disease prevention, service recovery, improving patient outcomes, and high quality Healthcare. strong decision maker who understands the importance of compassion and patience. patient advocate with intense focus on patients first, positive patient interactions, and improved patient outcomes., driven and compassionate Healthcare professional with 12 years experience in fast paced departments in hospital and clinical settings, including primary care, medical specialty, and surgical specialty departments. extensive experience selecting, developing, coaching, and managing clinical staff. experienced in planning and organizing activities consistent with organizational goals and missions. accountable and responsible with a strong focus on patients first. Problem-Solver with excellent time management skills. dedicated to patient safety, disease prevention, service recovery, improving patient outcomes, and high quality Healthcare. strong decision maker who understands the importance of compassion and patience. patient advocate with intense focus on patients first, positive patient interactions, and improved patient outcomes., licensed vocational nurse, clinic management, employee management, clinical implementation specialist at crossover health, licensed vocational nurse, care center manager\n",
      "\n",
      " TrueCase Annotated \n",
      " I like digging deep into products, analyzing use cases and determining why we should design them a certain way. I thrive in hybrid positions, where I can be technical and influence products in leadership roles, while still participating in partner engagements and communication. I'm a volunteer for Anitab.Org, and am looking to actively be a part of increasing diversity and inclusion in workplaces. In addition to my technical skills, I enjoy utilizing intangible skills. This includes being in the role of translating very technical things to other( technical or Non-Technical) people. I enjoy doing presentations, writing up proposals, and leading the creation of specifications. In my spare time, I'm involved in music. I spent a lot of time in college in the recording studio and planning campus concerts, and have been involved working at local festivals in Illinois and volunteering at Sxsw in Austin., I like digging deep into products, analyzing use cases and determining why we should design them a certain way. I like hybrid positions, where I can be technical and influence products in leadership roles, while still participating in partner engagements and communication. I'm a volunteer for Anitab.Org, and am looking to actively be a part of increasing diversity and inclusion in workplaces. In addition to my technical skills, I enjoy utilizing intangible skills. This includes being in the role of translating very technical things to other( technical or Non-Technical) people. I enjoy doing presentations, writing up proposals, and leading the creation of specifications. In my spare time, I'm involved in music. I spent a lot of time in college in the recording studio and planning campus concerts, and have been involved working at local festivals in Illinois and volunteering at Sxsw in Austin., I am currently a solutions engineer at Intel, working in the Hpc( high performance computing) field. Since July 2016, I Ramped up into the Hpc world which I had no prior experience in, and am excited to continue learning more about this field. I am very interested in the general area of big data, places where I get to apply my love for problem solving and Algorithms to large scale solutions. In addition to my technical skills, I enjoy utilizing a lot of intangible skills. This includes doing presentations, training, writing up proposals and specifications, and any other way I can interact with people. I also enjoy the role of translating very technical things to Non-Technical people. and for fun in my spare time, I'm a huge Concert-Goer. I spent a lot of time in college in the recording studio and planning campus concerts., I am currently a solutions engineer at Intel, working in the Hpc( high performance computing) field. I am interested in places where I get to apply my love for problem solving and Algorithms to large scale solutions. In addition to my technical skills, I enjoy utilizing a lot of intangible skills. This includes being in the role of translating very technical things to other( technical or Non-Technical) people. I also enjoy doing presentations, Trainings, writing up proposals, and leading the creation of specifications. In my spare time, I'm involved in music. I spent a lot of time in college in the recording studio and planning campus concerts, and have been involved working at local festivals in Illinois and volunteering at Sxsw in Austin., technical consulting engineer at Intel corporation, Hpc solutions engineer at Intel corporation\n",
      "\n",
      " TrueCase Annotated \n",
      " Business/ functional analyst with a focus on continuous improvement. currently engaged with a great team working on transformation! I am proficient at creating and streamlining business processes and Workflows. I have experience in application development and requirements management. I am familiar with waterfall and agile Methodologies and have studied the Babok curriculums. My current work is senior BA/ Cdm implementation lead and data analyst. Prior work includes consumer claims analysis lead, related to systems operations and user experience; Aca marketplace Website implementation and maintenance; Medicaid/ chip application and enrollment systems; and previous extensive experience in manufacturing processes. I am interested in making professional connections in Bellefontaine, Oh and the surrounding area; and in connecting Online with a larger network. ideal positions include technical analysis and documentation, systems/ process/ data analysis, and business analysis., I am a business/ functional analyst with a focus on continuous improvement. I am proficient at creating and streamlining business processes and Workflows. I have experience in application development and requirements management. I am familiar with waterfall and agile Methodologies and have studied the Babok curriculums. My current work is consumer claims analysis lead, related to systems operations and user experience. Prior work includes Aca marketplace Website implementation and maintenance; Medicaid/ chip application and enrollment systems; and previous extensive experience in manufacturing processes. I am not currently seeking employment. I am interested in making professional connections in Bellefontaine, Oh and the surrounding area. ideal positions include technical analysis and documentation, systems/ process analysis, and business analysis., I am a business/ functional analyst with a focus on continuous improvement. I have experience in application development and requirements management. I am familiar with waterfall and agile Methodologies and have studied the Babok curriculums. My current work is related to Aca marketplace Website implementation and maintenance; with previous extensive experience in manufacturing processes. I am not currently seeking employment. I am interested in making professional connections in Bellefontaine, Oh and the surrounding area. ideal positions include technical analysis and documentation, systems/ process analysis, and business analysis., I am a business/ functional analyst with experience in application development and requirements management. I am familiar with waterfall and agile Methodologies and have studied the Babok curriculums. My current work is related to Aca marketplace Website implementation and maintenance; with previous extensive experience in manufacturing processes. I am seeking employment in Bellefontaine, Oh and the surrounding area. ideal positions include technical analysis and documentation, systems/ process analysis, and business analysis., experienced senior graphic designer with a demonstrated history of working in the printing industry for 20+ years. skilled in direct mail, brochures, catalogs, and print collateral. Associates of science focused in advertising/ graphic design from Endicott college., business analyst/ functional analyst at Xerox/ Xerox services, process engineer, business/ functional analyst at Conduent, senior BA/ Cdm implementation lead at Conduent, graphic designer at Xerox\n",
      "\n",
      " TrueCase Annotated \n",
      " Engineering team leader and manager with strong attention to detail, constant Self-Improvement and ability to rapidly switch from high level managerial concerns to focused details. Process-Oriented and continuously improving. strong background in change management, lean principles, strategic thinking, structured problem solving and Data-Backed decision making. I have led engineering teams through the design, assembly and installation of high speed precision manufacturing equipment of portion pack assembly lines in addition to consumer product development in both Consumable and durable goods. specialties: project management, team leadership, functional management, lean six Sigma green belt, data analysis, verification/ validation, test engineering, measurement systems development and qualification, manufacturing engineering, rapid prototype development, CAD design, DFM/ Dfa, Fmea, Dvp& R, metal and wood fabrication, logistics planning, rigging, Electro-Mechanical integration, excellent oral and written communication skills., engineering thought leader with demonstrated success building lean processes, assembling capable talent and developing quality products. strong background in design and test engineering with a keen attention to detail and continuous Self-Improvement. I have led engineering teams through the design, assembly and installation of high speed precision manufacturing equipment of portion pack assembly lines in addition to product development in both Consumable and durable consumer goods. specialties: project management, team leadership, functional management, lean six Sigma green belt, data analysis, verification/ validation, test engineering, measurement systems development and qualification, manufacturing engineering, rapid prototype development, CAD design, Dfx, Fmea, Dvp& R, metal and wood fabrication, logistics planning, rigging, Electro-Mechanical integration, excellent oral and written communication skills., mechanical engineering team leader and manager with strong attention to detail, constant Self-Improvement and ability to rapidly switch from high level managerial concerns to focused details. excellent mechanical aptitude and constant desire to learn. currently working in a functional management role. I also participate in manufacturing equipment deployment strategy and drive continuous improvement initiatives. My project management experience includes leading engineering teams through the design, assembly and installation of high speed precision manufacturing equipment of portion pack assembly lines. specialties: project management, team leadership, functional management, six Sigma green belt, data analysis, manufacturing engineering, rapid prototype development, CAD design, metal and wood fabrication, logistics planning, rigging, Electro-Mechanical integration, excellent oral and written communication., engineering manager, equipment design engineering at Keurig green mountain, Inc. location: greater Boston area; industry: mechanical or industrial engineering ... senior engineering manager at Keurig green mountain, Inc., engineering manager, equipment design engineering at Keurig green mountain, Inc at Keurig green mountain, Inc., engineering senior manager, Reliability and test engineering at Keurig green mountain, Inc., engineering senior manager, Reliability and test engineering at Keurig Dr. pepper, application development and maintenance, group leader at Keurig green mountain\n",
      "\n",
      " TrueCase Annotated \n",
      " As communications coordinator at the insurance Bureau of Canada, my primary focus is to manage and produce events big and small. IBC events are strategically planned, well organized, and exceptionally executed. This is in part due to my remarkable interpersonal skills, Go-Getter attitude and attention to detail. IBC participates over 400 events a year across Canada. events include, but are not limited to: speaking engagements, conferences and trade shows, consumer outreach tours, staff meetings, annual and ad-hoc Symposiums and more. My bubbly personality is prevalent at every event. In addition to event planning, I collaborate across various departments during corporate communications and fundraising campaigns. I also manage IBC promotional orders. beyond IBC, I am keen to join the Not-For-Profit and creative sectors, as well as try wedding planning. If you can only remember one thing about me, remember this: even though my name is Chenda Linda noun, it should be Chenda Linda verb! because I like to take action. meet me and you'll see why., Chenda is currently furthering her education at the University of Guelph-Humber in the media studies program. She also volunteers on a regular basis with the big brothers and big sisters of Peel in addition to holding a part-time retail role with Tjx Canada. her past experience includes communications and events at insurance Bureau of Canada, and administrative assistance with passport Canada and Canadian Cambodian Association on Ontario. Chen has remarkable interpersonal skills, a Go-Getter attitude and a keen attention to detail. Her bubbly personality is prevalent in all facets of life. in her future, Chen is keen to try both agency and Not-For-Profit, as well as wedding planning. If you can only remember one thing about Chen, remember this: her name is Chenda noun, but it should be Chenda verb! because she likes to take action. meet her and you'll see why., Chenda is currently furthering her education at the University of Guelph-Humber in the media studies program. her past experience includes communications and events at insurance Bureau of Canada, volunteering with big brothers and big sisters, and customer service with Tjx Canada. Chen has remarkable interpersonal skills, a Go-Getter attitude and a keen attention to detail. Her bubbly personality is prevalent in all facets of life. in her future, Chen is keen to try both agency and Not-For-Profit, as well as wedding planning. If you can only remember one thing about Chen, remember this: her name is Chenda noun, but it should be Chenda verb! because she likes to take action. meet her and you'll see why., Chenda is a public relations graduate and holds a degree in media studies. She is currently an account coordinator at paradigm, working closely with the experiential team. her past experience includes communications and events at insurance Bureau of Canada and marketing at Morguard. Chen is your Go-To girl, with remarkable interpersonal skills, a positive attitude and a keen attention to detail. Her bubbly personality is prevalent in all facets of life. If you can only remember one thing about Chen, remember this: her name is Chenda noun, but it should be Chenda verb because she likes action! meet her and you'll see., dynamic professional producing exceptional communications and events, dynamic professional producing exceptional events and communications, account coordinator at paradigm public relations\n",
      "\n",
      " TrueCase Annotated \n",
      " Mechanical engineer professional with over 10 years in design and development in mechanisms and mechanical engineer professional with over 10 years in design and development in mechanisms and power generation products. successful track record in executing Department objectives for numerous complex projects with fixed funding. strong leadership, collaborative, detailed oriented, and an effective communicator allowing management to extract project details to assess and contribute to the solution. proven history of planning, organizing, and completing tasks on time with an emphasis on attention to detail. accustomed to a Fast-Paced, challenging environment with a positive attitude to drive teams to success., senior principal mechanical engineer professional with over 10 years in design and development in mechanisms and power generation products. successful track record in executing Department objectives for numerous complex projects with fixed funding. strong leadership, collaborative, detailed oriented, and an effective communicator allowing management to extract project details to assess and contribute to the solution. proven history of planning, organizing, and completing tasks on time with an emphasis on attention to detail. accustomed to a Fast-Paced, challenging environment with a positive attitude to drive teams to success., principal mechanical engineer professional with over 10 years in design and development in mechanisms and power generation products. successful track record in executing Department objectives for numerous complex projects with fixed funding. strong leadership, collaborative, detailed oriented, and an effective communicator allowing management to extract project details to assess and contribute to the solution. proven history of planning, organizing, and completing tasks on time with an emphasis on attention to detail. accustomed to a Fast-Paced, challenging environment with a positive attitude to drive teams to success., mechanical engineer professional with over eight years in design and development for mechanical design related to mechanisms and power generation products. successful track record in executing Department objectives for numerous complex projects with fixed funding. strong leadership, collaborative, and efficient communicator allowing management to extract project details to implement solutions. proven history of planning, organizing, and completing tasks on time with an emphasis on attention to detail. accustomed to a Fast-Paced, challenging environment with a positive attitude., mechanical engineer professional with over 10 years in design and development for mechanical design related to mechanisms and power generation products. successful track record in executing Department objectives for numerous complex projects with fixed funding. strong leadership, collaborative, and efficient communicator allowing management to extract project details to implement solutions. proven history of planning, organizing, and completing tasks on time with an emphasis on attention to detail. accustomed to a Fast-Paced, challenging environment with a positive attitude., mechanical engineer| product development strategist| I forge business partnerships to accomplish project execution., principal engineer| product development strategist| I forge business partnerships to accomplish project execution., mechanical engineer III at Northrop GRUMMAN corporation\n",
      "\n",
      " TrueCase Annotated \n",
      " My background of experience, training, and professional career consists of: a professional business owner with a team of leadership developers helping cultivate success in every area of life. actor, singer, director, and writer of small productions public Speaker and publisher of life changing articles certified Trainer in detoxification, Candida, and Herbal nutrition sports conditioner, Trainer and coach as a whole body health and wellness consultant and personal leadership developer, I offer proven effective life changing resources, empowerment and support. Www.Picklifeinc.Com as a performing artist, I see the entertainment world a natural arena to expand both my talents, and leadership abilities. I am dedicated to making good bolder in film, fashion, music and Theater.Where I can make a difference. I am currently seeking to secure commercial modeling, voice over, spokesperson, public speaking, and mentoring/ personal coaching opportunities. Http://Www.Lilystalent.Com/Models/ Http://Resumes.Actorsaccess.Com/1136064-3222823 Http://Www.Actr.Me/Triciaharmon.Com, my background of experience, training, and professional career consists of: a professional business owner leadership developer actor, singer, director, and writer of small productions public Speaker and publisher of life changing articles certified Trainer in detoxification, Candida, and Herbal nutrition sports conditioner, Trainer and coach as a whole body health and wellness consultant and personal leadership developer, I offer proven effective life changing resources, empowerment and support. Www.Picklifeinc.Com as a performing artist, I see the entertainment world a natural arena to expand both my talents, and leadership abilities. I am dedicated to making good bolder in film, fashion, music and Theater.Where I can make a difference. I am currently seeking to secure commercial modeling, voice over, spokesperson, public speaking, and mentoring/ personal coaching opportunities. Http://Www.Lilystalent.Com/Models/ Http://Resumes.Actorsaccess.Com/1136064-3222823 Http://Www.Actr.Me/Triciaharmon.Com, Tricia@Triciaharmon.Com. Partnering with leaders passionate about total personal development and growth with Top-Ranked leaders in the world. Https://Triciaharmon.Com/Resources/ mom to 9, Grandma to 3 grand babies, Blogger, Speaker, mentor, actor, model, singer, director, writer and public Speaker, empowering leaders to navigate through the sabotaging and negative dialogue between our ears; make more money and keep more of that money. as a performing artist and leadership developer, I see the entertainment world a natural arena to expand both my talents, and leadership abilities. I am dedicated to making good bolder in film, fashion, music and theater where I can make a difference. I am currently booking commercial modeling, voice over, spokesperson, public speaking engagements. Http://Www.Lilystalent.Com/Models/ Http://Resumes.Actorsaccess.Com/1136064-3222823 Http://Www.Actr.Me/Triciaharmon.Com, Dec 24, 2014 ... matt Walker. Secretary at Ferris state university ... John Mcclary. senior structural engineer at Albert Kahn family of companies ..., producer, director, screen writer and actor at noble pearls media, cultivating assets when Blindsided by unexpected Adversities, transforming Adversities in life into assets for a legacy, professional business owner at life leadership, leadership developer and mentor\n",
      "\n",
      " TrueCase Annotated \n",
      " Twenty-five years in recruiting/ staffing as a recruiter(\" matchmaker\")& owner of management Recruiters of Detroit& Farmington hills, MI part of the global MRI network. We specialize in direct hire search for sales/ sales management, operations management, engineering, accounting management& executive administrative positions. We work in varied Industries including manufacturing& automotive being MRI\" of Detroit\". overall a caring 100% owed female business entrepreneur with considerable expertise in business operations& sales management. mission is to consult with& serve clients in the best way possible to a successful long term end. understanding both our clients& candidates helps us Orchestrate the most worthwhile interviews. part of previous business experience includes ownership of Herreshoff cat Ketch corporation of the great Lakes. a unique sailboat/ Yacht line with a carbon fiber free standing mast& Mizzen, beautiful all Teak, mahogany or Oak interiors& 1/2 Wishbone Teak BOOMS all built in Honduras., Tenured staffing recruiter,\" matchmaker\"& chief recruiting officer of management Recruiters of Detroit& Farmington hills, MI part of global MRI network. We specialize in direct hire search for sales/ sales management, operations management, engineering, accounting management& executive administrative positions. We work in varied arenas including service industries, manufacturing& automotive as MRI of Detroit. overall a caring 100% owed female business entrepreneur with considerable expertise in business operations& sales management. mission is to consult with& serve clients in the best way possible to a successful long term end. understanding both our clients& candidates helps us Orchestrate the most worthwhile interviews. part of previous business experience includes ownership of Herreshoff cat Ketch corporation of the great Lakes. a unique sailboat/ Yacht line with a carbon fiber free standing mast& Mizzen, beautiful all Teak, mahogany or Oak interiors& 1/2 Wishbone Teak BOOMS all built in Honduras., Tenured staffing recruiter,\" matchmaker\"& owner of management Recruiters of Detroit& Farmington hills, MI part of the global MRI network. We specialize in direct hire search for sales/ sales management, operations management, engineering, accounting management& executive administrative positions. We work in varied Industries including manufacturing& automotive being MRI\" of Detroit\". overall a caring 100% owed female business entrepreneur with considerable expertise in business operations& sales management. mission is to consult with& serve clients in the best way possible to a successful long term end. understanding both our clients& candidates helps us Orchestrate the most worthwhile interviews. part of previous business experience includes ownership of Herreshoff cat Ketch corporation of the great Lakes. a unique sailboat/ Yacht line with a carbon fiber free standing mast& Mizzen, beautiful all Teak, mahogany or Oak interiors& 1/2 Wishbone Teak BOOMS all built in Honduras., view Debra Lawson'S professional profile on Linkedin. Linkedin is the world's largest business ... location: greater Detroit area; industry: staffing and recruiting ..., motivated, passionate, results oriented recruiter& business owner Debra@Mridetroit.Com at management Recruiters of Detroit in Farmington hills, Cro Aka\" matchmaker\" Debra@Mridetroit.Com\n",
      "\n",
      " TrueCase Annotated \n",
      " Een Mooi Merk en Een Sterk team met Ruim 17 Jaar marketing& Communicatie-Ervaring Zit Ik NU op Plek Waarbij Twee Van Mijn Inspiratiebronnen Bij Elkaar Komen: Een Mooi, Sterk Merk en Een team Van Gedreven marketing professionals. Sinds Juli 2017 Ben Ik overall Verantwoordelijk Voor de marketing Binnen Pwc en Houd Ik me Samen met Een team Van marketing professionals Bezig met Merkpositionering, de Ontwikkeling Van Onze interne en Externe( Digitale) Communicatiekanalen en Contentcreatie. Wat Mij Betreft Een Gouden Combinatie Van Marketingdisciplines. Ik Geloof in Contentmarketing; Ik Ben Ervan Overtuigd Dat we in Onze business Een Merkvoorkeur( Kunnen) Ontwikkelen door Relevante content Te Bieden. In Het Juiste format, via de Juiste Kanalen, op Het Juiste moment. Wie Ik Ben: Verbinder, Pragmatisch, Betrokken, Loyaal, Actiegericht, Enthousiast, Creatief, realist. Wat Ik Kan: interne& Externe Communicatie, branding en corporate Campagnes, visual& verbal identity, coaching, Marketingcommunicatie, Online/ Digital marketing, B-To-B marketing, fact based marketing, marketing ANALYTICS., Een Mooi Merk en Een Sterk team met Ruim 16 Jaar marketing& Communicatie-Ervaring Zit Ik NU op Plek Waarbij Twee Van Mijn Inspiratiebronnen Bij Elkaar Komen: Een Mooi, Sterk Merk en Een team Van Gedreven marketing professionals. Sinds Juli 2017 Ben Ik overall Verantwoordelijk Voor de marketing Binnen Pwc en Houd Ik me Samen met Een team Van marketing professionals Bezig met Merkpositionering, de Ontwikkeling Van Onze interne en Externe( Digitale) Communicatiekanalen en Contentcreatie. Wat Mij Betreft Een Gouden Combinatie Van Marketingdisciplines. Ik Geloof in Contentmarketing; Ik Ben Ervan Overtuigd Dat we in Onze business Een Merkvoorkeur( Kunnen) Ontwikkelen door Relevante content Te Bieden. In Het Juiste format, via de Juiste Kanalen, op Het Juiste moment. Wie Ik Ben: Verbinder, Pragmatisch, Betrokken, Loyaal, Actiegericht, Enthousiast, Creatief, realist. Wat Ik Kan: interne& Externe Communicatie, branding en corporate Campagnes, visual& verbal identity, coaching, Marketingcommunicatie, Online/ Digital marketing, B-To-B marketing, fact based marketing, marketing ANALYTICS., Een Mooi Merk en Een Sterk team met Ruim 14 Jaar marketing& Communicatie-Ervaring Zit Ik NU op Plek Waarbij Twee Van Mijn Inspiratiebronnen Bij Elkaar Komen: Een Mooi, Sterk Merk en Een team Van Gedreven marketing professionals. Sinds 2013 Ben Ik Verantwoordelijk Voor corporate marketing Binnen Pwc en Houd Ik me Samen met Een team Van Ruim 20 professionals Bezig met Merkpositionering, de Ontwikkeling Van Onze interne en Externe( Digitale) Communicatiekanalen en Contentcreatie. Wat Mij Betreft Een Gouden Combinatie Van Marketingdisciplines. Ik Geloof in Contentmarketing; Ik Ben Ervan Overtuigd Dat we in Onze business Een Merkvoorkeur( Kunnen) Ontwikkelen door Relevante content Te Bieden. In Het Juiste format, via de Juiste Kanalen, op Het Juiste moment. Wie Ik Ben: Verbinder, Pragmatisch, Betrokken, Loyaal, Actiegericht, Enthousiast, Creatief, realist. Wat Ik Kan: interne& Externe Communicatie, branding en corporate Campagnes, visual& verbal identity, coaching, Marketingcommunicatie, Online marketing, B-To-B marketing., head of marketing: branding| communications| Digital marketing| content marketing| MARCOM, manager corporate marketing at Pwc Nederland, Hoofd marketing at Pwc Nederland\n",
      "\n",
      " TrueCase Annotated \n",
      " - 4.5+ years experience in Vlsi physical design- M.Tech graduate( Microelectronics and Vlsi design) from Vnit Nagpur, 2014- worked on Tsmc( 16Nm, 7Nm) and Gf( 14Nm, 7Nm) technology nodes.- proficient with Synopsys( ICC, ICC 2, PT), cadence( Innovus) and mentor Graphics( calibre) tools.- skilled in Tcl, Perl, Shell, sed and Awk Scripting.- specialized in physical design implementation( Rtl to Gdsii), timing closure and Sign-Off, physical verification.- experienced in P& R, ECO flow, design flow automation, Full-Chip( timing and physical verification) Sign-Off.- worked on Soc- GPU and Cpu cores.,- 3.5+ years experience in Vlsi physical design- M.Tech graduate( Microelectronics and Vlsi design) from Vnit Nagpur, 2014- worked on Tsmc( 16Nm, 7Nm) and Gf( 14Nm, 7Nm) technology nodes.- proficient with Synopsys( ICC, ICC 2, PT), cadence( Innovus) and mentor Graphics( calibre) tools.- skilled in Tcl, Perl, Shell, sed and Awk Scripting.- specialized in physical design implementation( Rtl to Gdsii), timing closure and Sign-Off, physical verification.- experienced in P& R, ECO flow, design flow automation, Full-Chip( timing and physical verification) Sign-Off.- worked on Soc- GPU and Cpu cores.,- 2+ years experience in Vlsi physical design- M.Tech graduate( Microelectronics and Vlsi design) from Vnit Nagpur, 2014- worked on Tsmc( 16Nm, 7Nm) and Gf( 14Nm, 7Nm) technology nodes.- proficient with Synopsys( ICC, ICC 2, PT), cadence( encounter), Apache( Redhawk) and mentor Graphics( calibre) tools.- skilled in Shell, Perl and Tcl Scripting.- specialized in physical design implementation( Rtl to Gdsii), timing closure and Sign-Off, physical verification.- experienced in P& R, ECO flow, design flow setup and automation, Full-Chip( timing and physical verification) Sign-Off.,- M.Tech graduate( Microelectronics and Vlsi design) from Vnit Nagpur, 2014- 1+ year experience in Vlsi/ Asic Digital IC design- excellent knowledge of fundamentals and challenges in deep Sub-Micron technology.- worked on 180Nm, 45Nm and 16Nm( Finfet) technology nodes.- proficient with Synopsys( ICC, Star-Rc, PT), cadence( encounter) and mentor Graphics( calibre) tools.- skilled in Perl/ Tcl and Shell Scripting- specialized in physical design implementation( Rtl to Gdsii), timing closure and Signoff, physical verification and layout design,- 1.5+ years experience in Vlsi physical design- M.Tech graduate( Microelectronics and Vlsi design) from Vnit Nagpur, 2014- worked on 16Nm( Tsmc Finfet plus) technology nodes.- proficient with Synopsys( ICC, ICC 2, PT), cadence( encounter), Apache( Redhawk) and mentor Graphics( calibre) tools.- skilled in Shell, Perl and Tcl/ TK Scripting.- specialized in physical design implementation( Rtl to Gdsii), timing closure and Signoff, physical verification, power analysis and layout design., Smartplay Technologies( I) pvt. Ltd. education. Visvesvaraya National Institute of technology, Nagpur. recommendations ... physical design- Indian PD group ..., physical design engineer@ Aricent( Hw prod Dev at Aricent, associate engineer at Smartplay Technologies( I) pvt. Ltd, physical design engineer- 2@ Aricent( Hw prod Dev), associate engineer( physical design)@ Aricent, senior engineer- physical design@ Qualcomm, application development and maintenance, investment banking- back office, SR. engineer- PD@ Qualcomm, retail banking- back office\n"
     ]
    },
    {
     "name": "stdout",
     "output_type": "stream",
     "text": [
      "\n",
      " TrueCase Annotated \n",
      " Features: Thor: Ragnarok Spiderman: homecoming Logan fantastic beasts and where to find them independence day resurgence Alice through the looking glass Chappie teenage Mutant Ninja turtles Pompeii the mortal instruments Percy Jackson sea of monsters total recall Byzantium great expectations John Carter of Mars Pirates of the Carribean: on Stanger tides Harry Potter and the half blood Prince bedtime stories Beverly Hills Chihuahua Golden compass generation kill specialties: Katana, Arnold, Gaffer, 3Delight, Houdini, Maya, Nuke, vex Scripting, Fantastical magic, fire, smoke, water, snow, bubbles, lava, dust, Deformations, destruction, procedural Fx, Zbrush, Photoshop, pf track, layout, Ndynamics, cloth simulation, fluids, animation, Modelling, Renderman, Mantra 3Dequalizer, Pftrack, camera and object tracking, lighting, Adobe everything, final cut pro, Encoding,, features: Logan fantastic beasts and where to find them independence day resurgence Alice through the looking glass Chappie teenage Mutant Ninja turtles Pompeii the mortal instruments Percy Jackson sea of monsters total recall Byzantium great expectations John Carter of Mars Pirates of the Carribean: on Stanger tides Harry Potter and the half blood Prince bedtime stories Beverly Hills Chihuahua Golden compass generation kill specialties: Katana, Arnold, Gaffer, 3Delight, Houdini, Maya, Nuke, vex Scripting, Fantastical magic, fire, smoke, water, snow, bubbles, lava, dust, Deformations, destruction, procedural Fx, Zbrush, Photoshop, pf track, layout, Ndynamics, cloth simulation, fluids, animation, Modelling, Renderman, Mantra 3Dequalizer, Pftrack, camera and object tracking, lighting, Adobe everything, final cut pro, Encoding,, features: fantastic beasts and where to find them independence day resurgence Alice through the looking glass Chappie teenage Mutant Ninja turtles Pompeii the mortal instruments Percy Jackson sea of monsters total recall Byzantium great expectations John Carter of Mars Pirates of the Carribean: on Stanger tides Harry Potter and the half blood Prince bedtime stories Beverly Hills Chihuahua Golden compass generation kill specialties: Katana, Arnold, Gaffer, 3Delight, Houdini, Maya, Nuke, vex Scripting, Fantastical magic, fire, smoke, water, snow, bubbles, lava, dust, Deformations, destruction, procedural Fx, Zbrush, Photoshop, pf track, layout, Ndynamics, cloth simulation, fluids, animation, Modelling, Renderman, Mantra 3Dequalizer, Pftrack, camera and object tracking, lighting, Adobe everything, final cut pro, Encoding,, features: Chappie teenage Mutant Ninja turtles Pompeii the mortal instruments Percy Jackson sea of monsters total recall Byzantium great expectations John Carter of Mars Pirates of the Carribean: on Stanger tides Harry Potter and the half blood Prince bedtime stories Beverly Hills Chihuahua Golden compass generation kill specialties: Houdini, Maya, Nuke, vex Scripting, fire, smoke, water, snow, bubbles, lava, dust, Deformations, destruction, procedural Fx, Zbrush, Photoshop, pf track, layout, Ndynamics, cloth simulation, fluids, animation, Modelling, Renderman, Mantra 3Dequalizer, Pftrack, camera and object tracking, lighting, Adobe everything, final cut pro, Encoding,, Fx lead/ senior Fx Td-Artist at image engine design Inc., Fx artist/ Td at Sony pictures Imageworks, SR. Fx Td at Sony pictures Imageworks, Fx Td at image engine design Inc.\n",
      "\n",
      " TrueCase Annotated \n",
      " I am a very dynamic, energetic, motivated and creative hr professional with proven ability to adapt quickly and effectively to challenging business and Intercultural environments. I am very passionate about working with and learning from people of diverse cultural and professional background. I have 10+ years of experience in the areas of hr and recruiting program management, vendor management, hr service delivery and operations, process improvement and hr project management. Throughout my 6+ years with T-Mobile, due to my knowledge of the organization and the customers/ Stakeholders, I was invited to work/ contribute with different programs including; assessments, selection, background check, diversity recruiting, military recruiting, campus recruiting, diversity and inclusion, social media and branding and hr development. currently managing relocation(~$ 12M budget), direct hire/ Perm placement agencies(~$ 1M budget), and background check programs(~$ 2M budget)., I have a successful record of building, improving, and automating operational processes and procedures, ability to drive program efficiency and high levels of customer satisfaction. I am currently managing relocation(~$ 15M budget), direct hire/ Perm placement agencies(~$ 1M budget), and background check programs(~$ 1M budget). Throughout my 6+ years with T-Mobile, due to my knowledge of the organization and the customers/ Stakeholders, I was invited to work/ contribute with different programs including; assessments, selection/ interviewing, background check, diversity recruiting, military recruiting, campus recruiting, diversity and inclusion, social media and branding and hr development, talent management. My expertise and interest of areas are hr service delivery and operations, program management, vendor management,, process improvement, talent development and management., I am a very dynamic, energetic, motivated and creative global mobility professional with proven ability to adapt quickly and effectively to challenging business and Intercultural environments. I am very eager to work with and learn from people of diverse cultural and professional background. I have an extensive Bacground in European and international businesses. My expertise lies in program design and project implementation, global mobility process development, vendor and supplier management, client relations management and account management, change management, conflict resolution, exception management, foreign languages and communications., SR. hr program Manager-Global mobility& relocation, agency hiring, ... in the areas of hr and recruiting program management, vendor management, ... managing and reporting process steps to project resources throughout the ... Yasemin has been our relocation program manager at T-Mobile for the last several months., SR. program manager/ human resources; global mobility& relocation at SR. hr program Manager-Global mobility& relocation, agency hiring, background checks at T-Mobile, SR. program manager/ human resources; hr programs: global mobility, relocation, background screening, agency recruiting, corporate membership chair at Pacific Northwest relocation Council, medical device- mechanical engineering, medical device- electrical engineering, medical device- engineering- other, investment banking- back office, sales ops, marketing& Corpdev, retail banking- back office\n",
      "\n",
      " TrueCase Annotated \n",
      " I'm studying at Lawrence University, my majors are economics and Russian. currently I am working at a non profit organization called Maya first as their chief financial officer, and their head of economic research, where I study economic trends in Belize and attempting to model the Cayo region in order to try to help the people in Belize by showing which programs have helped and which have not. simultaneously, I am also working on pricing with Maya first in order to maximize profit and find optimal pricing, as well as managing finances for the charity and finalizing grant proposals. any and all papers that I write for research will be available at my academia page free of charge, the link is in my contact Info or you can simply copy and paste the following link to view a paper that I Coauthored, and there will be more papers regarding economic and education research in the future. Https://Lawrence.Academia.Edu/Timothydahlstrom after I finish at Lawrence my plans include getting my Phd in applied Macroeconomics or economic theory and hopefully becoming a professor of economics., I've recently graduated from Lawrence University, my majors were and Russian. I am currently a research advisor with the Appleton group LLC hoping to obtain my series 65 and progress to an investment advisor. in the future I would like to go to graduate school for a Phd in Microeconomic theory. any and all papers that I write for research will be available at my academia page free of charge, the link is in my contact Info or you can simply copy and paste the following link to view a paper that I Coauthored, and there will be more papers regarding economic and education research in the future. Https://Lawrence.Academia.Edu/Timothydahlstrom, I'm a graduate from Lawrence University, my majors were economics and Russian. I am currently an international sales manager at Admitad in Moscow, Russia. I have Additionally obtained my series 65 uniform investment advisers license. any and all papers that I write for research will be available at my academia page free of charge, the link is in my contact Info or you can simply copy and paste the following link to view a paper that I Coauthored, and there will be more papers regarding economic and education research in the future. Https://Lawrence.Academia.Edu/Timothydahlstrom, CUM Laude graduate from Lawrence University class of 2016 with majors in economics and Russian. currently working as the head of business development at Getuniq in Moscow, Russia developing a quickly growing base of international partners for Getuniq. In addition, I currently manage several sales managers and account managers while traveling regularly to conference as to introduce Getuniq to an international audience. feel free to reach out or add me on Linkedin!, CUM Laude graduate from Lawrence University class of 2016 with majors in economics and Russian. currently working as an international sales manager helping to connect advertisers with the perfect publishers. I spend about half of my time in Moscow, Russia and half in Heilbronn, Germany. feel free to reach out or add me on Linkedin!, executive administrator and head of economic research at Maya first children's charity, executive administrator at Maya first children's charity, international sales manager at Admitad GmbH, research advisor at the Appleton group LLC, reporting analyst at parametric\n",
      "\n",
      " TrueCase Annotated \n",
      " Total it experience of 10+ years in network Technologies. network/ security administrator with experience in installation, configuration, administration and Troubleshooting on Lan/ wan/ Dmz and data centers. Security Technologies :-P Ci Dss, Cisco Mars, at& t( Seta), Sonicwall Gms, Nessus, Splunk, Digital Gaurdian, Meraki, GFI Languard, security manager plus, Nmap, DOT defender Applicure, Netstumbler, Adreporter. platforms:- Cisco Routers: 1800,2800, 2900 Cisco catalyst s/ W: 3750& 6509/13 hp switches: 2510, 2650& 2910Al Firewalls:- Cisco ASA/ IDS/ Ips/ Checkpoint/ Palo Alto/ Juniper/ Sonicwall/ Fortigate. Vpns: Ipsec Vpn& remote Vpn and Ssl Vpn. windows server: 2003/2008. Virtualization:- MS. Hyper-V and parallels monitoring tools: Ciscoworks, Whatsup gold, hp IMC, Solarwinds, Mrtg, Prtg, Oputlis, Syslog, manage engine and other management tools specialties:* designing and implementation of organization network infrastructure using Visio.* enterprise network& security designing.* enterprise wan deployment based on Vpn& Bgp.* network optimization.* Hsrp, Vrrp, Glbp, total it experience of 9 years in network Technologies. network/ security administrator with experience in installation, configuration, administration and Troubleshooting on Lan/ wan/ Dmz and data centers. Security Technologies :-P Ci Dss, Cisco Mars, at& t( Seta), Dell Sonicwall Gms, Nessus, GFI Languard, security manager plus, Nmap, DOT defender Applicure, Netstumbler, Adreporter. platforms:- Cisco Routers: 1800,2800, 2900 Cisco catalyst s/ W: 3750& 6509/13 hp switches: 2510, 2650& 2910Al Firewalls:- Cisco ASA/ IDS/ Ips/ Fwsm/ Checkpoint/ Juniper/ Dell Sonicwall/ Fortigate. Vpns: Ipsec Vpn& remote Vpn and Ssl Vpn. windows server: 2003/2008. Virtualization:- MS. Hyper-V and parallels monitoring tools: Ciscoworks, Whatsup gold, hp IMC, Solarwinds, Mrtg, Prtg, Oputlis, Syslog, manage engine and other management tools specialties:* designing and implementation of organization network infrastructure using Visio.* enterprise network& security designing.* enterprise wan deployment based on Vpn& Bgp.* network optimization.* Hsrp, Vrrp, Glbp, total it experience of 8+ years in network Technologies.Network/Security administrator with experience in installation, configuration, administration and Troubleshooting on Lan/ wan/ Dmz and data Centers.Platforms:- Cisco Routers: 1800,2800, 2900Cisco catalyst s/ W: 3750& 6509/13 hp switches: 2510, 2650& 2910Alfirewalls:- Cisco ASA/ IDS/ Ips/ Fwsm/ Checkpoint/ Juniper/ Dell Sonicwall/ Fortigate.Vpns: Ipsec Vpn& remote Vpn and Ssl Vpn.Windows server: 2003/2008. Virtualization:- MS. Hyper-V and Parallelsmonitoring tools: Ciscoworks, Whatsup gold, hp IMC, Solarwinds, Mrtg, Prtg, Oputlis, Syslog, manage engine and other management Toolssecurity Technologies :-P Ci Dss, Cisco Mars, at& t( Seta), Dell Sonicwall Gms, Nessus, GFI Languard, security manager plus, Nmap, DOT defender Applicure, Netstumbler, Adreporter.Specialties :*D Esigning and implementation of organization network infrastructure using Visio.* enterprise network& security designing.* enterprise wan deployment based on Vpn& Bgp.* network optimization.* Hsrp, Vrrp, Glbp, Cyber security analyst, information security& PCI compliance, Splunk, Soc, Siem, it manager/ network& security administrator at Ambassador hotel, it Infosec analysts/ network& security, specialist- Infosec analyst at Sitel\n",
      "\n",
      " TrueCase Annotated \n",
      " I've been working in corporate business for over 12 years working my way from door to door sales to director level. specialising in building partner relationships, indirect sales channels, direct sales, business management on all levels, marketing strategies and implementing business processes. My experience ranges from B2C to B2B but it is mainly dealing with large corporate clientele, SME businesses, large business associations and B2B businesses throughout Europe and North America. I am also a Motivational Speaker, entrepreneur and host of\" Tim talks\" a weekly show on Weds 10Pm- midnight on Www.Novaradio.Co.Uk. drawing from experiences of my journey from being homeless and battling addiction to how positive thinking, focus, patience, persistence and hustle allowed me to turn my life around and become successful in business. If you have wanted to talk please call me 07595944057 or Email me on Tim.Strange22@Outlook.Com, I've been working in the utility management sector for well over 10 years dealing with all aspects of both residential and commercial utilities. I specialise in partner relationships, utility management strategies and procurement for partners clients helping them understand their utilities and make decision making easier. managing the partner channel- our team work with large business associations and B2B businesses looking to add utility management as an additional service to help their clients manage their utility cost better. I work closely with our partners, working on developing the relationships and working on marketing strategies catered to their individual clients needs; Thus giving them an easier option to manage their utilities. If you have any questions on becoming a partner or want a utility management plan for your business please feel free to contact me on 0191 425 4720., I've been working in the energy sector for well over 10 years dealing with all aspects of both residential and business energy. I specialize in procurement and consumption reduction strategies for businesses both in the SME and corporate sector. working within the partner channel I've worked with large businesses and associations offering services and membership benefits to their clientele. This also includes training and developing the partnerships Aswell as marketing strategies to implement our service offering into their current customer services. If you had any questions on becoming a partner or want an energy procurement strategy catered for your businesses needs please contact me on 0191 425 4720., I've been working in the utility sector for over 10 years. specialising in building partner relationships, indirect sales channels and utility management- helping clients understand their utilities better. My experience is mainly in leading teams and working with corporate clientele, large business associations and B2B businesses throughout Europe and North America. working with our partners we add additional services to their portfolio helping their customers both understand and manage their business utilities. If you have any questions please contact me 07595944057 or via Email at Tim.Strange22@Outlook.Com, partner channel manager- creating partnerships to help their clients save time, effort and money, senior indirect business development manager at utility alliance, head of partnership managers\n",
      "\n",
      " TrueCase Annotated \n",
      " I am a technical solution professional and sales leader with extensive experience in improving customer experience and efficiency. as a senior technical instructor at Vlocity Enablement services, I provide successful delivery of Vlocity Ux administration, developer, CPQ, order management and partner Enablement essentials to global communications, public sector and insurance customers and partners. Vlocity is Salesforce'S largest App found on Appexchange. We are an industry-specific cloud and mobile software company. Vlocity delivers industry cloud Apps for communications, energy, insurance, Healthcare and government sectors. For Presales at Oracle, I held a proven track record by developing and maintaining strategic customer relationships. I had a positive customer impact.- Disa customer care and partner alliances sales Enablement 2017- top Pre-Sales consultant( multiple awards) 2015, 2014, 2013- sales consultant team of the year- North America, 2015- top application sales consultant of the Year-North America, 2014-# 1 sales consultant North America Federal sales award, 2014, with locations in 18 countries across the world, Vlocity is a fortune cloud 100 company leading industry cloud App adoption on Salesforce and driving Digital transformation for the world's leading brands. We enable companies to achieve faster business agility and time to value from the cloud across Digital and traditional channels. Our industry cloud Apps Embed industry-specific Functionality, best practices and business processes for the communications& media, insurance& financial services, health, energy& utilities and government industries. Our seven core values are important to the company and to the group of diverse, inclusive, engaged and amazing people who work here. please reach out if you'd like to learn more! Https://Vlocity.Com/Company/Values, I am a senior Presales engineer and sales leader with extensive experience in improving efficiencies. at the Oracle communications global business unit I am responsible for holding a proven track record for Oracle by developing and maintaining strategic customer relationships. I have a strong reputation for leadership. I achieve and exceed sales goals for products and Oracle communications solutions. I provide a favorable, solid customer experience by working with customers on their key goals. I enjoy working with smart, passionate, caring people while doing challenging work., I am a principal Presales engineer and sales leader with extensive experience in improving efficiencies. at the Oracle communications global business unit I am responsible for holding a proven track record for Oracle by developing and maintaining strategic customer relationships., 1 day ago ... SR. Sales consultant at Oracle communications ... at the Oracle communications global business unit I am responsible for holding a proven track record for Oracle by ... product manager at Oracle ... SR sales consultant at Oracle corporation ..., by solving the largest problems, Vlocity provides value to all companies looking for industry-specific cloud Crm. engage with your customers in dynamic, meaningful ways!, principal sales consultant, enterprise accounts at Oracle, principal sales consultant, enterprise Acounts at Oracle, SR. Sales consultant communications at Oracle, Enablement services at Vlocity\n",
      "\n",
      " TrueCase Annotated \n",
      " I am a Geoscientist with 32 years of industry experience, of which 21 were spent working with major E& P operators, including nine years in Spain and a year in Argentina. I am a solid team Player and mentor, I have worked on many geological basins from Peru to Australia, and I am especially strong on structural and Stratigraphic seismic interpretation. This includes onshore& offshore, 2d& 3D, local and regional, exploration, appraisal and development. I have often been able to persuade the seismic data to tell us a little more, which can reveal upside potential. My meeting room style and substance and presentation methods have proved effective in winning and keeping clients. tenacious and flexible, mobile and bilingual( English& Spanish), I am innovative and open to new ideas, and I have a good cultural awareness. I can also write a concise report when needed, or indeed improve one that is already written., I am a Geophysicist based in Kuwait, with 33 years of industry experience, of which 21 were spent working with major E& P operators, including ten years in Spain, a year in Argentina and a year in Kuwait. I am a solid team Player, mentor and reviewer, I have worked on many geological basins from Peru to Australia, and I am especially strong on structural and Stratigraphic seismic interpretation, with a keen eye for detail. This includes onshore& offshore, 2d& 3D, local and regional exploration, appraisal and development. tenacious and flexible, I am innovative and open to new ideas, and I have a good cultural awareness. My presentation style has proved effective and I can also write a concise report, or improve one that is already written., I am a Geophysicist based in Cambridge, UK, with 32 years of industry experience, of which 21 were spent working with major E& P operators, including ten years in Spain and a year in Argentina. I am a solid team Player, mentor and reviewer, I have worked on many geological basins from Peru to Australia, and I am especially strong on structural and Stratigraphic seismic interpretation, with a keen eye for detail. This includes onshore& offshore, 2d& 3D, local and regional exploration, appraisal and development. tenacious and flexible, I am innovative and open to new ideas, and I have a good cultural awareness. My presentation style has proved effective and I can also write a concise report, or improve one that is already written., I am a Geophysicist based in Kuwait, with 32 years of industry experience, of which 21 were spent working with major E& P operators, including ten years in Spain and a year in Argentina. I am a solid team Player, mentor and reviewer, I have worked on many geological basins from Peru to Australia, and I am especially strong on structural and Stratigraphic seismic interpretation, with a keen eye for detail. This includes onshore& offshore, 2d& 3D, local and regional exploration, appraisal and development. tenacious and flexible, I am innovative and open to new ideas, and I have a good cultural awareness. My presentation style has proved effective and I can also write a concise report, or improve one that is already written., principal Geoscientist at Baker Hughes reservoir development services, London, senior specialist Geophysicist at Kufpec, Geophysicist looking for opportunities, Geophysicist at Jb Geosciences\n",
      "\n",
      " TrueCase Annotated \n",
      " 15+ years within the recruiting industry combined with ten years in management contribute to a well-rounded recruiting professional dedicated to finding quality candidates for my client groups. My goal is to ensure that the perfect marriage is made between the candidate and the team and that a long term relationship is forged with the perfect match. I am the consummate recruiter, I live, eat and breathe my work and am always looking for new ways to better my skills. I am always learning and love to share what I have learned with my colleagues, or anyone willing to take the time to listen. I am happy to be a resource and look forward to meeting new people. I am here to network and am a member of lion and am open to invites. specialties: recruiter, Sourcing guru, mentor, innovative& creative. strong networking capabilities, cost effective Sourcing techniques and Methodologies. specializing in finding passive candidates within the it sector. National and international recruiting abilities., 13 years within the recruiting industry combined with ten years in management contribute to a well-rounded recruiting professional dedicated to finding quality candidates for my client groups. My goal is to ensure that the perfect marriage is made between the candidate and the team and that a long term relationship is forged with the perfect match. I am the consummate recruiter, I live, eat and breathe my work and am always looking for new ways to better my skills. I am always learning and love to share what I have learned with my colleagues, or anyone willing to take the time to listen. I am happy to be a resource and look forward to meeting new people. I am here to network and am a member of lion and am open to invites. specialties: recruiter, Sourcing guru, mentor, innovative& creative. strong networking capabilities, cost effective Sourcing techniques and Methodologies. specializing in finding passive candidates within the it sector. National and international recruiting abilities., 11 years within the recruiting industry combined with ten years in management contribute to a well-rounded recruiting professional dedicated to finding quality candidates for my client groups. My goal is to ensure that the perfect marriage is made between the candidate and the team and that a long term relationship is forged with the perfect match. I am the consummate recruiter, I live, eat and breathe my work and am always looking for new ways to better my skills. I am always learning and love to share what I have learned with my colleagues, or anyone willing to take the time to listen. I am happy to be a resource and look forward to meeting new people. I am here to network and am a member of lion and am open to invites. specialties: recruiter, Sourcing guru, mentor, innovative& creative. strong networking capabilities, cost effective Sourcing techniques and Methodologies. specializing in finding passive candidates within the it sector. National and international recruiting abilities., senior technology recruiter in Seattle. any and all statements made are my own., Unicorn Wrangler& purple squirrel collector at tune, purple squirrel Hunter at Hewlett Packard enterprise, Unicorn Wrangler& purple squirrel Stalker for snap!, senior technical recruiter at unity technologies, purple squirrel Hunter at Microsoft\n",
      "\n",
      " TrueCase Annotated \n",
      " I have experience marketing and developing business for various Tech companies across a wide range of Verticals. Currently, I work as a team leader, innovation strategist and senior sales developer at Demanddrive. My educational background is diverse as it covers different fields I am passionate about. at the University of Rhode Island, I graduated with degrees in sociology and general business. My sociology studies focused in criminal justice and in business I took interest in marketing. I believe that studying these diverse fields, in combination with my competitive drive, has allowed me to effectively develop a unique skill set especially in the critical thinking process. If you'd like to learn more about myself or my role at Demanddrive please reach out via Email( Atticus.Rentsch@Demanddrive.Com), I am a graduate of the University of Rhode Island where I studied sociology as well as general business. as a sociology major I focused on criminal justice and as a general business minor I focused on marketing. I believe that studying these diverse fields has allowed me to effectively develop skills in the critical thinking process as well as becoming an adept and effective communicator, especially as a strong writer and Speaker. working as an intern with different organizations and companies has helped me to better link my interests. I have a varied Skill-Set that includes the ability to work well with all people and effective communication skills. I believe these skills will make me a valuable asset to your company., I am a graduate of the University of Rhode Island where I studied sociology as well as business. I look forward to continuing and progressing my professional career. I believe that studying these diverse fields at the University of Rhode Island has allowed me to effectively develop skills in the critical thinking process as well as becoming an adept and strong writer. working as an intern with different organizations and companies has helped me to better link my interest in improving society an understanding the economy. I have a varied Skill-Set that includes the ability to work well with all people and effective communication skills. I believe these skills would make me a valuable asset to any position., I am a senior at the University of Rhode Island studying sociology as well as business. I look forward to starting my professional career. I believe that studying these diverse fields at the University of Rhode Island has allowed me to effectively develop skills in the critical thinking process as well as becoming an adept and strong writer. working as an intern with different organizations and companies has helped me to better link my interest in improving society an understanding the economy. I have a varied Skill-Set that includes the ability to work well with all people and effective communication skills. I believe these skills would make me a valuable asset to any position., sociology major with a focus in Criminology, business minor and aspiring business professional, senior sales and business development representative, team lead at Demanddrive, senior sales and business development representative| Demanddrive, marketing| Sdl campaign management& ANALYTICS, experienced in both marketing and sales\n",
      "\n",
      " TrueCase Annotated \n",
      " I run a health and wellness networking community on Twitter @Irishhealthhour. It is a thriving network where our topics are varied. each week at our Hashtag hour on a Saturday morning from 11- 12 we have a guest on to promote their work. I am also a health and wellness Blogger at Holisticmummy.Wordpress.Com where I write about all things health and wellness as well as doing product/ place reviews in the health and wellness area. I am also a self published author of a series of Bi-Lingual( English/ Irish) children's mythological Storybooks. Each book contains a universal story and shows through story how we always have choices. The first book Lorcan and the magic whistle deals with the issue of bullying/ isolation in the Schoolyard. I have an associated web site Www.Themythicfairy.Com, which is a portal of information for children on how to deal with their emotions. I am also an assertive and empowerment coach working with both adults and children. I am also a Reiki master and teacher and a master Eft practitioner. I do sessions in person and via Skype, I am a self published author of a series of Bi-Lingual( English/ Irish) children's mythological Storybooks. Each book contains a universal story and shows through story how we always have choices. The first book Lorcan and the magic whistle deals with the issue of bullying/ isolation in the Schoolyard. I have an associated web site Www.Themythicfairy.Com, which is a portal of information for children on how to deal with their emotions. I have also developed an emotional education package for adults/ teachers/ Carers. It comprises six modules with each Module containing tools for children to help them overcome difficult emotions; there is also learning from nature and a reflection via art Journaling for the children. I am also a soul care/ soul mentoring practitioner working with both adults and children. I am also a Reiki master and teacher and a master Eft practitioner and a quantum touch practitioner and Reiki Seichem therapist., Irishhealthhour is an interactive health and wellness networking community which is keeping up to date with social media trends and bringing our clients along with us. Www.Irishhealthhour.Com. We have a busy Hashtag hour every Sunday evening on Twitter from 8- 9 PM GMT when members of the community have a chance to showcase their business, with a week's promotion beforehand on several platforms. We have #Irishhealthhourchats and an international base for guest Blog posts. We help you connect with your tribe and be seen., building global communities to help people find their tribe. Www.Irishhealthhour.Com empowering women to find their authentic voice at Celticsoulessence.Com Irishhealthhour is a health and wellness networking community Www.Irishhealthhour.Com. There is a Hashtag hour every Sunday evening on Twitter from 8- 9 PM GMT when we discuss health& wellness topics. I work with empowering clients on line and in person at Celticsoulesssence.Com, founder Irishhealthhour* founder global emotional health summit* marketing* empowerment& assertive coach* author, Celtic soul essence .. a place to stop, revive and be refreshed!, global emotional health summit at global emotional health summit, wellness advocate at Doterra wellness advocate\n",
      "\n",
      " TrueCase Annotated \n",
      " 5 years of extensive experience in technical recruiting. responsible for ownership and management of the entire recruitment cycle for respective business clusters. involved in:- interaction with hiring managers on open demand/ skill Bifurcation across clusters- discussion on recruitment strategy- awareness and educating Stakeholders on end to end recruitment process- utilizing right set of channel mix for fulfilling the open positions- ensuring timely delivery of resumes and reporting of the recruitment MI- conducting hr round of discussions with Shortlisted candidates to evaluate them on salary Fitment and Organisational fit- releasing offers and post offer engagement- planning and managing end to end recruitment batch events and handling high volume recruitment- planning and managing campus recruitment events with Ivy League colleges, off campus events and engaging with universities from future hiring perspective- training and mentoring new joiners in the team and helping them come up the learning curve, 6 years of extensive experience in technical recruiting. responsible for ownership and management of the entire recruitment cycle for respective business clusters. involved in:- interaction with hiring managers on open demand/ skill Bifurcation across clusters- discussion on recruitment strategy- awareness and educating Stakeholders on end to end recruitment process- utilizing right set of channel mix for fulfilling the open positions- ensuring timely delivery of resumes and reporting of the recruitment MI- conducting hr round of discussions with Shortlisted candidates to evaluate them on salary Fitment and Organisational fit- releasing offers and post offer engagement- planning and managing end to end recruitment batch events and handling high volume recruitment- planning and managing campus recruitment events with Ivy League colleges, off campus events and engaging with universities from future hiring perspective- training and mentoring new joiners in the team and helping them come up the learning curve, talent acquisition professional with overall 6.3 years of experience in full life cycle technology recruitment responsible for ownership and management of the recruitment activity for multiple business clusters within BTCI involved in:- interaction with hiring managers on open demand/ skill Bifurcation across clusters- discussion on recruitment strategy- awareness and educating Stakeholders on end to end recruitment process- utilizing right set of channel mix for fulfilling the open positions- ensuring timely delivery of resumes and reporting of the recruitment MI- conducting hr round of discussions with Shortlisted candidates to evaluate them on salary Fitment and Organisational fit- releasing offers and post offer engagement- planning and managing end to end recruitment batch events and handling high volume recruitment- training and mentoring new joiners in the team and helping them come up the learning curve, working as hr consultant at Allscripts Healthcare it solutions, lead Resourcing partner @Barclays technology centre India, hr consultant at Barclays technology centre India, connecting talent with opportunity, investment banking- back office, retail banking- back office\n"
     ]
    },
    {
     "name": "stdout",
     "output_type": "stream",
     "text": [
      "\n",
      " TrueCase Annotated \n",
      " Design: in-house brand blank Itti blank|+ others designers collections production: apparel Time-Line future 2018 brand boost for clients: experiential Scale-Up the blank Itti blank brand current 2017 design+ production blank Itti blank available at Orleans+ winder and Detroit foundation hotel 2016 design+ production 2015 launched Mm-O-Dd metropolitan museum of design Detroit a non-profit 501C3 2014 presence I productions D. B. A. launched blank Itti blank+ factory 2012 Re-Located to Detroit( launched building brand strategy: gallery+ Michigan f. A. S. H. Fest LLC) 2002 presence II productions D. B. A. formed as experiential public relations platform 1989 presence II Inc.( parent company) established in retail( 25+ years) beginnings, fast facts what design+ production fashion: in-house brand blank Itti blank|+ others designers collections fashion productions: premiere Time-Line current 2017 design+ production 2016 design+ production 2015 launched Mm-O-Dd Metro museum of design Detroit a non-profit 501C3 2014 presence I productions D. B. A. launched blank Itti blank+ factory 2012 Re-Located to Detroit( launched building brand strategy: gallery+ Michigan f. A. S. H. Fest LLC) 2002 presence II productions D. B. A. formed as experiential public relations platform 1989 presence II Inc.( parent company) established in retail( 25+ years) beginnings, Timeline of accomplishments 2019 design+ technology: R& D phase designer: interiors, fashion previous: ghost design+ small run production for clients fashion and decor brands before 2015( Re-Located to downtown Detroit) launched(*) metropolitan museum of design Detroit( non-profit 501C3)(*) blank Itti blank( life-style brand: fashion+ decor)(*) presence I productions D. B. A., Piip gallery, Michigan f. A. S. H. Fest LLC(*) presence II productions D. B. A. formed as experiential public relations platform( 7+ years) presence II Inc.( parent company) established in wholesale+ retail( 25+ years), fast facts what design: interior+ fashion manufacture: in-house brand blank Itti blank|+ others designers collections Time-Line current 2016 designing+ manufacturing 2015 launched Mm-O-Dd Metro museum of design Detroit a non-profit 501C3 2014 presence I productions D. B. A. launched blank Itti blank+ factory 2012 Re-Located to Detroit( launched building brand strategy: gallery+ Michigan f. A. S. H. Fest LLC) 2002 presence II productions D. B. A. formed as experiential public relations platform 1989 presence II Inc.( parent company) established in retail( 25+ years) beginnings, public relations| factory presence II Inc. established 1989Is in 2012 re- located to Detroit family of company's expertise: presence II productions D. B. A. experiential public relations factory products and services for the garment industry. Cureiosites: fashion house and factory blank Itti blank: wholesale blank garments to the trade., Ceo presence II Inc. presence II productions DBA founder/ President Mm-O-Dd metropolitan museum of design Detroit, Ceo presence II Inc. presence II productions DBA founder/ president of Mm-O-Dd Metro museum of design Detroit, Ceo presence II Inc./ founder Mm-O-Dd Metro museum of design Detroit at Metro museum of design Detroit, Ceo at presence II productions and Cureiosities\n",
      "\n",
      " TrueCase Annotated \n",
      " I have recently read a number of books that reference the growth mindset which is a concept that Resonates with me. I've applied a growth mindset in my career and it drives me to find new things to learn and new challenges to overcome. Most recently I was part of a team that revitalized enterprise project management office to support the delivery of several enterprise projects. I combined my educational background CPA, ca and computer science with my past experiences with finance, information technology, risk management, and procurement to change how projects are evaluated and delivered. I've found my skills are best utilized in leadership roles where there is a need for multiple disciplines of knowledge in finance, analysis, project execution, risk management, information technology, and Governance., Steven is currently the director, business analysis at Coast capital savings credit Union. He is responsible for the implementation of enterprise projects and help the organization operate with greater efficiency. Prior to this role he was the director, Finance and was involved in financial Governance of major projects, financial reporting, and taxation. In other roles he has also led and supported a variety of initiatives such as implementation of Erp solutions, implementation of control Frameworks, internal audit, responding to regulatory changes( E. G. Sox/ 52-109, PCI), financial accounting, financial reporting, and more generally process improvement. He has experience in various industry sectors such as financial institutions, mining, retail, and public sector., Steven is currently the director, business analysis at Coast capital savings credit Union. He has the responsibility to implement strategic projects and help the organization operate with greater efficiency. Prior to this role he was the director, Finance and was involved in financial Governance of major projects, financial reporting, and taxation. He has also led and supported various initiatives such as implementation of Erp solutions, implementation of control Frameworks, internal audit, responding to regulatory changes( E. G. Sox/ 52-109, PCI), financial accounting, financial reporting, and more generally process improvement. He has experience in various industry sectors such as financial institutions, mining, retail, and public sector., I'm a person who thrives on new challenges and creating value for organizations. I have been driving organizational transformations that serve to enable better business results. I've found my skills are best utilized in leadership roles where there is a desire for transformation or simply changes to how things have always been done. I navigate interdepartmental challenges by speaking the language of various organizational disciplines including finance, risk, technology, sales, and project management offices., Finance functions are continually asked to evolve to meet the changing( and increasing) demands of their organization. I spent 10+ years driving Finance( and other departmental) transformations to meet these needs and enable better business results. There's no way around it, change is hard. with the right leader, it does get a little easier., Finance leader and strategist, Finance and project leader\n",
      "\n",
      " TrueCase Annotated \n",
      " I'm a current Online student for fashion merchandising and management. I started my own business 4 years ago, called Icandydesigns. a company where I sell my own Handcrafted jewelry and women's clothing. I've sold in a boutique in Atlanta, at events, I sell on my Website and have coordinate my own events for my company. I also work at Nordstrom rack, where I've recently become 2015 4TH quarter All-Star and I was selected by my store manager to go into the Fnl, future Nordstrom leaders, program starting April 2016- may 2016. My skills consist of over 5 years of retail, 3 Yrs cosmetic retail, event coordinating, web/ graphic design, visual styling/ merchandising, customer service, time management, fashion Blogging, Budging, branding, creative development and advanced social media/ marketing skills. My interest is becoming a visual stylist and/ or visual manager for Nordstrom, something I've always dreamed of. I have a great eye for fashion and I love showing off my creative skills., I'm a current Online student for fashion merchandising and management. I started my own business 5 years ago, called Icandydesigns. a company where I sell my own Handcrafted jewelry and women's clothing. I've sold in a boutique in Atlanta, at events, I sell on my Website and have coordinate my own events for my company. I also work as a Salesperson for Nordstrom( Nordstrom rack), where I've recently become 2015 4TH quarter All-Star and I was selected by my store manager to go into the Fnl, future Nordstrom leaders, program. My skills consist of over 6 years of retail, 3 Yrs cosmetic retail, event coordinating, web/ graphic design, visual styling/ merchandising, customer service, time management, fashion Blogging, Budging, branding, creative development and advanced social media/ marketing skills. My interest is becoming a visual merchandiser and/ or visual manager. I love being more hands on in retail when it comes to the presentation of a store visually., I'm a current Online student at Snhu for fashion merchandising and management. I started my own business 4 years ago, called Icandydesigns. a company where I sell my own Handcrafted jewelry and women's clothing. I've sold in a boutique in Atlanta, at events, I sell on my Website and have coordinate my own events for my company. My skills consist of over 5 years of retail, 3 Yrs cosmetic retail, event coordinating, web/ graphic design, visual styling/ merchandising, customer service, time management, fashion Blogging, Budging, branding, creative development and advanced social media/ marketing skills. My interest is becoming a visual stylist for a top fashion retail company. I have a great eye for fashion and I love showing off my creative skills., view Brittany a. Turner'S professional profile on Linkedin . ... a company where I sell my own Handcrafted jewelry and women's clothing. I've sold in a boutique in Atlanta, at events, I sell on my Website and have coordinate my own events for my ..., entrepreneur/ fashion marketing/ sales lead/ visual stylist, entrepreneur/ fashion marketing/ beauty/ sales professional, future Nordstrom leader( Fnl) program at Nordstrom, entrepreneur/ fashion marketing/ sales professional, founder/ designer of Icandydesigns\n",
      "\n",
      " TrueCase Annotated \n",
      " From the head: accomplished designer well versed in promoting business growth using strategic thinking and informed Graphics. thrives in collaborative environments and also successfully works independently to balance heavy workloads, vendor relationships and production schedules. loves Ideation to produce Forward-Thinking communications to strengthen a company's positioning while ensuring continuity of brand guidelines. unique background includes a fine art degree, architectural studies, Pro-Bono work with non-profit organizations, identifying trends in popular culture, yoga and motherhood. from the heart: I want to create poignant things, important things, moving things, beautiful and functional things. I want to document community challenges and help find solutions. I desire collaboration, Brainstorming and Actualizing ideas. I want to problem solve, draw, write, shoot. tell stories. I want to address brand positioning and emotional responses, connections and visions. I want to merge my love of business with my many creative talents and work with you! Www.Emmaspivack.Com, with over ten years of experience in the graphic design and marketing industry, I am passionate about creating original and effective solutions to connect a brand with a target audience. I place high value on customer service while ensuring visual and verbal communication is clear, consistent and approachable. I thrive in team environments and also successfully work independently to complete competitive research, produce consumer facing collateral, promotional material, print and Digital imagery, and execute Html Email campaigns. In addition, my unique background includes fine art and architectural studies, business ownership, and Pro-Bono work for non-profit organizations. I am organized, outgoing, a good listener and an avid Boggle Player., accomplished graphic designer well versed in interpreting strategic goals and creating effective solutions to connect with a target audience. thrives in team environments and also successfully works independently to balance heavy workloads, vendor relationships, and production schedules with attention to detail. advanced knowledge of design methodology including typography, color, printing techniques, layout and following brand standards. unique background, artistic talents, and a positive attitude enhance work environments and relationships in and out of the office. experienced in office management, identifying trends in popular culture, customer service, yoga, and motherhood., with over 15 years of experience in the design and marketing industry, I am passionate about creating original and effective solutions to connect a brand with a target audience. I place high value on customer service while ensuring Messaging is clear, consistent and approachable. In addition, my unique background includes fine art and architectural studies, business ownership, and Pro-Bono work for non-profit organizations. I am organized, outgoing, a good listener and an avid Boggle Player., graphic design and marketing coordination at Appomattox regional Governors, sales and marketing coordinator at modern gentleman, graphic designer at Emma Spivack design, art director at Eab\n",
      "\n",
      " TrueCase Annotated \n",
      " Summary of skills skilled recruitment professional with around 8+ years of extensive experience in technical recruitment, corporate recruitment, recruitment management and training Recruiters, account management and client interactions. ability to conduct phone and face to face technical interviews for software engineers with technical skills in J2Ee( architects and developers),. Net, business objects, Database developers, administrators, Qa and testing specialists, project managers, business analysts and various other software professionals extensive experience in Sourcing professionals specializing in( Java/ J2Ee,. Net technologies, portal developers, Messaging and integration experts,. Net, Sharepoint, Biztalk& testing experts, business analysts, Eai other skill sets and infrastructure skills specialties: corporate recruitment, negotiation skills, talent management,, hiring top it talent for specifically for enterprise application integration skills, team handling and client interactions, summary of skills skilled recruitment professional with around 9+ years of extensive experience in technical recruitment, corporate recruitment, recruitment management and training Recruiters, account management and client interactions. ability to conduct phone and face to face technical interviews for software engineers with technical skills in J2Ee( architects and developers),. Net, business objects, Database developers, administrators, Qa and testing specialists, project managers, business analysts and various other software professionals extensive experience in Sourcing professionals specializing in( Java/ J2Ee,. Net technologies, portal developers, Messaging and integration experts,. Net, Sharepoint, Biztalk& testing experts, business analysts, Eai other skill sets and infrastructure skills specialties: corporate recruitment, negotiation skills, talent management,, hiring top it talent for specifically for enterprise application integration skills, team handling and client interactions, summary of skills skilled recruitment professional with 10+ years of extensive experience in technical recruitment, corporate recruitment, recruitment management and training Recruiters, account management and client interactions. ability to conduct phone and face to face technical interviews for software engineers with technical skills in J2Ee( architects and developers),. Net, business objects, Database developers, administrators, Qa and testing specialists, project managers, business analysts and various other software professionals extensive experience in Sourcing professionals specializing in( Java/ J2Ee,. Net technologies, portal developers, Messaging and integration experts,. Net, Sharepoint, Biztalk& testing experts, business analysts, Eai other skill sets and infrastructure skills specialties: corporate recruitment, negotiation skills, talent management,, hiring top it talent for specifically for enterprise application integration skills, team handling and client interactions, account manager( recruitment& client interactions)- Vdart technologies, account manager( recruitment) Vdart Technologies at Vdart Inc, delivery account lead at Vdart Inc\n",
      "\n",
      " TrueCase Annotated \n",
      " I recently graduated with an MBA in marketing from West Texas a& M University. During the same Timeframe, I earned a master gardener credential in consumer Horticulture from Rutgers cooperative extension. I am a nature photographer, and I sell my photography on my Website, on Amazon handmade, and other social media platforms. I am passionate about engaging others in the products and services of the Horticultural industry. My expertise is in social media and Digital marketing strategies, incorporating photography into Multi-Channel platforms, along with a proven track record in direct selling., I graduated in 2015 with an MBA in marketing from West Texas a& M University. During the same Timeframe, I earned a master gardener credential in consumer Horticulture from Rutgers cooperative extension. I am a nature photographer, and I sell my photography on my Website, on Amazon handmade, and other social media platforms. My expertise is in social media and Digital marketing strategies, incorporating photography into Multi-Channel platforms, along with a proven track record in direct selling.* marketing* social media* entrepreneur* strategist* Influencer* innovator, recently graduated with an MBA in marketing from West Texas a& M University. Also, earned a master gardener credential in consumer Horticulture. In addition, I am a nature photographer, and I sell my photography on my Website, on Amazon handmade, and other social media platforms. I am passionate about engaging others in the products and services of the Horticultural industry. My expertise is in social media and Digital marketing strategies, incorporating photography into Multi-Channel platforms, along with a proven track record in direct selling., problem Solver Extraordinaire who makes organized to do list and Juggles many balls in the air at one time. Besides enjoying my administrative work at Princeton University, I also manage the day-to-day running of a small education non-profit. and just to keep my plate full, I am a nature photographer who loves to\" make something from nothing.\" I sell my photography on my Website, on Amazon handmade, and social media platforms. You can also learn about my gardening adventures and photos on my Blog. I look forward to connecting with you., I graduated in 2015 with an MBA in marketing from West Texas a& M University. I am an innovative entrepreneur who loves to\" make something from nothing.\" my expertise is in social media and Digital marketing strategies, incorporating photography into Multi-Channel platforms, along with a proven track record in direct selling. I am outside taking photos of nature everywhere I go. I sell my photography on my Website, on Amazon handmade, and other social media platforms. connect with me to discuss your marketing needs today!, innovative marketing- social media- management professional focusing on the Horticultural industry, striving to improve the Horticultural/ agricultural industry through sales, marketing& social media., striving to improve the Horticultural industry through sales, marketing& social media., experienced administrative and marketing specialist, experienced marketing and social media specialist\n",
      "\n",
      " TrueCase Annotated \n",
      " Record of accelerating branded Video businesses??? revenue, scale and profitability; streamlining operations with new processes, partners and infrastructure; elevating organizational reputation with premium branded and editorial content that delivers on Kpis; Leveraging data and Metrics for development/ optimization and measuring roi. deep understanding of creation and exploitation of long and Short-Form content across full media Ecosystem, distribution and targeting, social platforms, development/ production/ post, and business affairs for IP, licensing, talent and new business. expert in strategy and tactics of Omni-Channel branding, brand building, marketing and Messaging. 15+ years experience in new and traditional media, Digital, television and film; developing, pitching, and executing Video-First integrated marketing campaigns for Household-Name brands and top- 100 media agencies., 15 years managing full cycles of creative development, production, and distribution for Video, television, and film. decade of experience developing, pitching, selling and executing Video-First integrated marketing campaigns for Household-Name brands and top- 100 media agencies. track record of success directing Million-Dollar media programs; growing Video revenue, client base, and profitability; collaborating across matrix organizations; managing Best-In class vendors, production teams, producers, directors, and A-Level talent; establishing processes, infrastructure, and efficiencies to create better content; and elevating organizational reputation with premium branded and editorial content that engages target audiences., 15 years managing Full-Cycles of creative development, production, and distribution across Video, television, and film. additional decade of experience creating Video-First integrated marketing programs. track record of success conceiving, pitching, and executing original creative for agency clients, directly to brands, and for corporate development initiatives. lead Million-Dollar projects to drive double-digit Yoy revenue growth, win repeat and new business, build and grow audience, and elevate client and organizational reputations. An able storyteller seeking opportunities to create viable content experiences that change the way people see and interact with the world around them., I am an able storyteller who combines strong working knowledge of brand marketing and content Monetization, with over Ten-Years experience developing, producing, and exploiting film, TV and video products across all platforms. I seek opportunities to create commercially viable and profitable content experiences that have the power to change the way people see and interact with the world around them., content strategist, marketer, storyteller, Award-Winning executive producer, Client-Facing creative lead, SR Dir Video programming, head of enterprise Video at the foundry( time Inc.), executive producer, creative development lead, content marketer, storyteller, executive producer, creative development lead, Digital and content marketer, content marketer, strategist, executive producer, storyteller, senior director, programming at time Inc. content solutions\n",
      "\n",
      " TrueCase Annotated \n",
      " I am the founding partner of Ff venture capital, and I have been an Early-Stage investor since late 1999. At Ff venture capital, we champion technology Founders who are changing the way we interact with the world. Our portfolio companies receive ongoing, customized support from the Ff acceleration team, who provide a full range of services in accounting and finance, PR and branding, engineering, recruiting, community management and business development. There is a lot of Hype out there. Instead, we believe in results. Prior to founding Ff venture capital, I worked at Goldman Sachs for 21 years in a variety of roles that involved technology development, Reengineering, and capital markets. I have served as a director of over 35 companies and an investor in more than 76 companies, including cornerstone Ondemand( Csod on Nasdaq), Indiegogo, ionic security, Klout, Skycatch, plated, 500Px, distil networks, and Bottlenose., I founded Ff venture capital(\" Ffvc\") in 2008 and have been a seed- and Early-Stage investor since late 1999. I focus on advising and growing technology and Technology-Enabled companies across emerging industries, including artificial intelligence, Cyber security, drones, enterprise software, Crowdfunding, and data ANALYTICS, among others. I have served on the boards of more than 35 companies and led investments in more than 80 companies, including cornerstone Ondemand( Csod), Indiegogo, ionic security, Unikey, Skycatch, plated, 500Px, distil networks, Pebblepost, and Owlet. I also sit on the NYU Tandon school of Engineering'S board of overseers. Prior to founding Ffvc, I worked at Goldman Sachs for 21 years in a variety of roles that involved technology development, Reengineering and capital markets., I am the founding partner of Ff venture capital(\" Ffvc\") and have been a seed and Early-Stage investor since late 1999. I focus on advising and growing technology and Technology-Enabled companies across emerging industries, including smart locks, Cloud-Based security, machine learning and artificial intelligence, Uavs, enterprise software and Crowdfunding, among others. I have served on the boards of more than 35 companies and have led investments in more than 80 companies, including cornerstone Ondemand( Csod), Indiegogo, ionic security, Unikey, Socure, reaction housing, Skycatch, plated, 500Px, distil networks, and Bottlenose. Prior to founding Ffvc, I worked at Goldman Sachs for 21 years in a variety of roles that involved technology development, Reengineering and capital markets., location: greater New York City area; industry: venture capital& private equity ... prior to founding Ffvc, I worked at Goldman Sachs for 21 years in a variety of roles ... of roles that stretched from financial management, technology development, ... asset management · executive management · equities · managerial Finance ..., early stage venture capitalist. love working with energetic entrepreneurs working to change the world., partner, Ff venture capital at Ff venture capital, application development and maintenance, investment banking- back office, board of directors at Estify, retail banking- back office\n",
      "\n",
      " TrueCase Annotated \n",
      " Project manager, telecommunications a summary of my past in layman's terms that does not include the word\" synergy\" ... currently employed as a project manager for Prg, I've had a long history of project management . . starting as a basic Linemen back in 1993, I've had a great career working/ managing many diverse projects all across the country. I've held many positions throughout the years at and have enjoyed a lot of training and experience with many aspects of the Telecom industry. The\" positions held\" section of Linkedin could never cover all the 1000 things a person does over the years, from Micro projects of me and another guy building a head end to being a senior project manager running an entire Hfc upgrade across major metropolitan areas. from mechanical and CAD design of Hfc networks to Das commissioning. strand and field Walkouts to Scoping labor and materials for a tower Mod. doing a fiber matrix for San Juan Puerto Rico to surveying mountain tops in Wyoming for tower locations. It's been a long strange trip and it's still keeping me busy., project manager, telecommunications a brief summary ... currently employed as a project manager for Jacobs. I've had a long history of project management. starting as a basic Linemen back in 1993, I've had a great career working/ managing many diverse projects all across the country. I've held many positions throughout the years and have enjoyed a lot of training and experience with many aspects of the Telecom industry. The\" positions held\" section of Linkedin could never cover all the 1000 things a person does over the years, from Micro projects of me and another guy building a head end to being a senior project manager running an Hfc upgrade across major metropolitan areas. from mechanical and CAD design of Hfc networks to Das commissioning. strand and field Walkouts to Scoping labor and materials for a tower Mod. doing a fiber matrix for San Juan Puerto Rico to surveying mountain tops in Wyoming for tower locations. Telecom management has been a long strange trip and it's still keeping me busy., project manager, telecommunications a brief summary ... currently employed as a project manager for Prg. I've had a long history of project management. starting as a basic Linemen back in 1993, I've had a great career working/ managing many diverse projects all across the country. I've held many positions throughout the years and have enjoyed a lot of training and experience with many aspects of the Telecom industry. The\" positions held\" section of Linkedin could never cover all the 1000 things a person does over the years, from Micro projects of me and another guy building a head end to being a senior project manager running an Hfc upgrade across major metropolitan areas. from mechanical and CAD design of Hfc networks to Das commissioning. strand and field Walkouts to Scoping labor and materials for a tower Mod. doing a fiber matrix for San Juan Puerto Rico to surveying mountain tops in Wyoming for tower locations. Telecom management has been a long strange trip and it's still keeping me busy., project manager at project resources group, Inc at project resources group, Inc.\n",
      "\n",
      " TrueCase Annotated \n",
      " Close to 11 years experience in technical sales/ business development& account management sharp interpersonal& presentation skills and understanding of it landscape in all Requirements.Focused approach to all accounts. experience in selling the below it solution& services: 1. Digital banking, infrastructure services, business application& transformation services, ANALYTICS, consultancy services, core banking transformation. 2. banking solution namely loan origination system, anti money laundering, risk management, Treasury, factoring& core banking. 3. investment& asset management solution. 4.Workforce management for TELECOMS and utilities vertical, enterprise applications 5. mobility solutions 6. services- Sharepoint,. Net, sap, Erp, bi propositions 7. risk management/ mobile banking solution in Bfsi. 8. payment& settlement solutions. 9. Cheque Truncations system 10. hardware security solution 11. It infrastructure- Encyprtion, Pki technologies, Bcp, DC& Dr, close to 9 years experience in technical sales/ business development& account management sharp interpersonal& presentation skills and understanding of it landscape in all Requirements.Focused approach to all accounts. experience in selling the below it solution& services: 1. Digital banking, infrastructure services, business application& transformation services, ANALYTICS, consultancy services, core banking transformation. 2. banking solution namely loan origination system, anti money laundering, risk management, Treasury, factoring& core banking. 3. investment& asset management solution. 4.Workforce management for TELECOMS and utilities vertical, enterprise applications 5. mobility solutions 6. services- Sharepoint,. Net, sap, Erp, bi propositions 7. risk management/ mobile banking solution in Bfsi. 8. payment& settlement solutions. 9. Cheque Truncations system 10. hardware security solution 11. It infrastructure- Encyprtion, Pki technologies, Bcp, DC& Dr, over 7 years experience in technical sales/ business development& account management sharp interpersonal& presentation skills and understanding of it landscape in all Requirements.Focused approach to all accounts. experience in selling the below it solution& services: 1. investment& asset management solutions. 2. banking solution namely loan origination system, anti money laundering, risk management, Treasury, factoring& core banking. 3.Workforce management for TELECOMS and utilities vertical, enterprise applications 4. mobility solutions 5. services- Sharepoint,. Net, sap, Erp, bi propositions 6. risk management/ mobile banking solution in Bfsi. 7. payment& settlement solutions. 8. Cheque Truncations system 9. hardware security solution 10. It infrastructure- Encyprtion, Pki technologies, Bcp, DC& Dr, Aayush Bhargava. manager- sales, Asia Pacific at 3I Infotech ... workforce management for TELECOMS and utilities vertical, enterprise applications 4. mobility ..., business development manager, banking& financial services at Wipro technologies, manager- sales, Asia Pacific at 3I Infotech at I Infotech\n",
      "\n",
      " TrueCase Annotated \n",
      " Opito level 4 and Nvq level 3 rigger Opito level 4 Banksman/ Slinger Irata rope access level 1 Iosh-Managing safely Ecitb ace Ccnsg safety passport Iosh working safely Leea lifting equipment inspection and Loler lift plan and risk assessor also Oertm and Hda-Ert Nopega Hlo Nopega lifeboat/ Ff-Lifeboat Coxswain Nopega Frc Coxswain I have both on and offshore experience, I am Irata level 1 approved in rope access I also have current: Bosiet survival mist ca Ebs training shoulder measurement procedure UK and Norwegian Topside Medicals Gwo working at height and rescue Ruk working at height and rescue Gwo fire awareness Gwo manual handling Ruk vessel transfer and transit( Mst) Gwo sea survival Gwo first aid training city& Guilds medium risk confined space Mrs medium risk confined space yellow fever 10Year Immunisation, Opito level 4 and Nvq level 3 rigger Opito level 4 Banksman/ Slinger Iosh-Managing safely Ecitb ace Ccnsg safety passport Iosh working safely Leea lifting equipment inspection and Loler lift plan and risk assessor also Oertm and Hda-Ert Nopega Hlo Nopega lifeboat/ Ff-Lifeboat Coxswain Nopega Frc Coxswain I have both on and offshore experience, I am Irata level 1 approved in rope access I also have current: Bosiet survival mist ca Ebs training shoulder measurement procedure UK and Norwegian Topside Medicals Gwo working at height and rescue Ruk working at height and rescue Gwo fire awareness Gwo manual handling Ruk vessel transfer and transit( Mst) Gwo sea survival Gwo first aid training city& Guilds medium risk confined space Mrs medium risk confined space yellow fever 10Year Immunisation, I am a Opito level 4 and Nvq level 3 rigger also Opito level 4 Banksman/ Slinger with Ecitb ace, Ccnsg safety passport and Leea lifting equipment inspection and Loler lift plan and risk assessor also Oertm and Hda-Ert I have both on and offshore experience, I am Irata level 1 approved in rope access I also have current: Bosiet survival mist ca Ebs training shoulder measurement procedure UK and Norwegian Topside Medicals Norwegian Maritime medical Gwo working at height and rescue Ruk working at height and rescue Gwo fire awareness Gwo manual handling Ruk vessel transfer and transit( Mst) Gwo sea survival Gwo first aid training city& Guilds medium risk confined space Mrs medium risk confined space yellow fever 10Year Immunisation, Ecitb appointed person moving loads tap 01 rigging operation planning Ecitb diploma Nvq level 3 moving loads Ecitb ace card Opito level 4 rigger Opito level 4 Banksman/ Slinger Irata rope access level 1 Iosh-Managing safely Iosh-Working safely Ccnsg safety passport Leea lifting equipment inspection Loler lift plan and risk assessor Oertm Foet survival mist Oguk medical Chester step medical ca Ebs training Gwo working at height and rescue Gwo fire awareness Gwo manual handling Gwo sea survival/ vessel transfer Gwo first aid training yellow fever 10Year Immunisation, rigging supervisor/ Loler lift planner/ Leea inspection/ M-Iosh/ Hlo/ Hda/ Ert/ Frc& lifeboat Coxswain, rigger/ permit authority at Apave Ghana limited, rigging supervisor/ lead rigger, Borwin gamma Hvdc platform\n",
      "\n",
      " TrueCase Annotated \n",
      " High performing technology compliance manager with over 6 years of experience leading teams in the assessment, development, and implementation of technical business processes and controls for leading technology and cloud services companies.- expertise in cloud architecture, security and compliance.- experience in strategic network architecture.- proven track record in it audit and compliance for Saas/ Paas environments.- expertise in it audit project/ program management technical skills MS office suite( including excel macro Dev), Oracle Database and Erp, and SQL. compliance Frameworks Ssae 16( Soc 1, 2, 3), Iesa 3402, Nist 800-53, Systrust, Fedramp, Itil, and ISO 27001. Keywords: it audit; technical project management; risk management; process engineering; process improvement; personnel management; trust principals: security, availability, confidentiality, and privacy., high performing information security and technology compliance manager with a proven track record driving security and compliance initiatives for leading technology and cloud services companies. expertise in the following:- information security and technology compliance for Saas, Paas, and Iaas.- vulnerability assessments of complex globally distributed environments.- technology Governance for security, availability, confidentiality, and privacy.- proficiency in leading projects in information security and technical operations. technical skills MS office suite( including excel macro Dev), Oracle Database and Erp, Atlassian Jira& Confluence, Salesforce, os X, Okta, Casper suite, Omnigraffle, Appdetectivepro, Nexpose, and SQL. compliance Frameworks Ssae 16( Soc 1, 2, 3), Iesa 3402, Nist 800-53, Systrust, CIS, Disa-Stig, Fedramp, and ISO 27001., information security and technology compliance manager with a proven track record driving security and compliance initiatives for leading technology and cloud services companies. expertise in the following:- information security and technology compliance for Saas, Paas, and Iaas.- vulnerability assessments of complex globally distributed environments.- technology Governance for security, availability, confidentiality, and privacy.- proficiency in leading projects in information security and technical operations. technical skills MS office suite( including excel macro Dev), Oracle Database and Erp, Atlassian Jira& Confluence, Salesforce, os X, Okta, Casper suite, Omnigraffle, Appdetectivepro, Nexpose, and SQL. compliance Frameworks Ssae 16( Soc 1, 2, 3), Iesa 3402, Nist 800-53, Systrust, CIS, Disa-Stig, Fedramp, and ISO 27001., information security risk and compliance manager with a proven track record building and leading teams, while driving large scale information security initiatives for leading technology and cloud services companies., technology risk and compliance manager with a proven track record leading teams and driving security and compliance initiatives for leading technology and cloud services companies., manager, it Governance risk& compliance at Appdynamics, information security& compliance at Facebook, information security and technology risk\n"
     ]
    },
    {
     "name": "stdout",
     "output_type": "stream",
     "text": [
      "\n",
      " TrueCase Annotated \n",
      " ETL developer/ consultant with over 7 years of experience in the information technology( it) industry in helping clients align it strategies with corporate strategic objectives across all departments& divisions and continued to be involved with every phase of the life cycle development, including feasibility studies, design, and coding for large and medium business intelligence projects. have acquired over the years a comprehensive understanding of Database design and methodology from multiple perspectives( user, designer, and developer) and has hands-on experience in designing, developing, testing and implementing extraction, transformation, and load( ETL) techniques on multiple Database platforms and operating system environments using today's cutting edge technology. have worked on projects for clients such as horizon Bcbsnj, Baxter Inc., Royal Bank of Scotland., ETL developer/ consultant with over 9 years of experience in the information technology( it) industry in helping clients align it strategies with corporate strategic objectives across all departments& divisions and continued to be involved with every phase of the life cycle development, including feasibility studies, design, and coding for large and medium business intelligence projects. have acquired over the years a comprehensive understanding of Database design and methodology from multiple perspectives( user, designer, and developer) and has hands-on experience in designing, developing, testing and implementing extraction, transformation, and load( ETL) techniques on multiple Database platforms and operating system environments using today's cutting edge technology. have worked on projects for clients such as horizon Bcbsnj, Baxter Inc., Royal Bank of Scotland., ETL consultant with over 7 years of experience in the information technology( it) industry in helping clients align it strategies with corporate strategic objectives across all departments& divisions and continued to be involved with every phase of the life cycle development, including feasibility studies, design, and coding for large and medium business intelligence projects. have acquired over the years a comprehensive understanding of Database design and methodology from multiple perspectives( user, designer, and developer) and has hands-on experience in designing, developing, testing and implementing extraction, transformation, and load( ETL) techniques on multiple Database platforms and operating system environments using today's cutting edge technology. have worked on projects for clients such as horizon Bcbsnj, Baxter Inc., Royal Bank of Scotland., Techno-Functional& consulting experience of working across multiple ETL tools in banking& financial Domains.Have the ability to leverage my it skills to meet the growing business needs in Dwh.Having a good experience in Healthcare Domain.Specialties: Informaticaoraclesql Servercognosbussiness Objectsadobe Flexaction scripts, associate- projects at cognizant technology solutions, ETL developer at cognizant technology solutions, ETL developer technology solutions at cognizant, technical lead at cognizant\n",
      "\n",
      " TrueCase Annotated \n",
      " I'm co-owner/ Coo of Alesmith brewing company which has been operating since 1995. We are also business partners with the soon to be Mikkeller San Diego brewing company which is due to open early 2016. I am seeking an hr manager/ director to take over hr for our company which has now grown to 65 employees. We plan to hire an additional 20 people by the end of 2016. For career opportunities at Alesmith, please see our Website at Alesmith.Com for a current listing of all of our openings. please send a resume and cover letter to Careers@Alesmith.Com. We are also recruiting for Mikkeller and resumes can be sent to Mikkellersdjobs@Alesmith.Com. As you apply for either company, please include the following Info: list your ideal position in the subject line of the Email. include your reasons for wanting to work at Alesmith or Mikkeller, your long term goals and how that position can help you get there, your desired salary, and your reasons as to why we should consider you. Thank you!, I'm co-owner/ Coo of Alesmith brewing company which has been operating since 1995. We are also business partners with Mikkeller San Diego brewing company which is now open! I am working with Mikkeller to help them find a GM with an emphasis in sales to set up new distributor agreements and manage those relationships. For career opportunities at Alesmith, please see our Website at Alesmith.Com for a current listing of all of our openings. please send a resume and cover letter to Careers@Alesmith.Com. We are also recruiting for Mikkeller and resumes can be sent to Mikkellersdjobs@Alesmith.Com. As you apply for either company, please include the following Info: list your ideal position in the subject line of the Email. include your reasons for wanting to work at Alesmith or Mikkeller, your long term goals and how that position can help you get there, your desired salary, and your reasons as to why we should consider you. Thank you!, I'm co-owner/ Coo of Alesmith brewing company which has been operating since 1995. For career opportunities, please send a resume and cover letter to Careers@Alesmith.Com. Although we may not have your desired position posted at the time, we do keep resumes on file as we have plans for continued growth. please include the following Info in your Email: list your ideal position in the subject line of the Email. include your reasons for wanting to work at Alesmith, your long term goals and how that position can help you get there, your desired salary, and your reasons as to why we should consider you. Thank you!, I'm co-owner/ Coo of Alesmith brewing company where we have been brewing award winning beers since 1995. We are seeking new sales Reps for San Diego. If you have a passion for quality craft beer, 5- Star customer service, with an interest in helping us make a positive impact in our local and global communities, we would like to speak with you. please send a resume and cover letter to Careers@Alesmith.Com. We look forward to hearing from you. cheers!, co-owner/ Coo, Alesmith brewing company at Alesmith brewing company, director, human resources at Alesmith brewing company\n",
      "\n",
      " TrueCase Annotated \n",
      " A certified Azure and Aws cloud professional, Pmp, Itil, Msce, Ccna, Cne and retail foundation professional with 20 years of experience in service delivery, it operations, converged operations, Digital it operations, Noc operations, it transitions, it infrastructure management, remote it managed services, project/ program management, data center building and migration, Vmware Virtualization, hosting services, practice building and team management between 20 to 100 technical staff, vendor management, Presales and proposal building under it infrastructure( IMS) and retail application including Online customer service operations. specialized in service delivery and program management with business acumen, managed service delivery account worth>$ 100M, executed projects worth$ 2M to$ 8M, delivered project/ program for complex technologies and executed 30 plus key it transitions and transformed to steady state operations adopted innovative methods in services and contributed in implementation of key Organisation IP initiatives., a certified Azure and Aws cloud professional, Pmp, Itil, Msce, Ccna, Cne and retail foundation professional with 18 years of experience in service delivery, it operations, Noc operations, it transitions, it infrastructure management, remote it managed services, project/ program management, data center building and migration, Vmware Virtualization, hosting services, practice building and team management between 20 to 100 technical staff, vendor management, Presales and proposal building under it infrastructure( IMS) and retail application including Online customer service operations. specialized in service delivery and program management with business acumen, managed service delivery account worth>$ 100M, executed projects worth$ 2M to$ 8M, delivered project/ program for complex technologies and executed 30 plus key it transitions and transformed to steady state operations adopted innovative methods in services and contributed in implementation of key Organisation IP initiatives., a certified Pmp, Itil, Msce, Ccna, Cne and retail foundation professional with 18 years of experience in service delivery, it operations, Noc operations, it transitions, it infrastructure management, remote it managed services, project/ program management, data center building and migration, Vmware Virtualization, hosting services, practice building and team management between 20 to 100 technical staff, vendor management, Presales and proposal building under it infrastructure( IMS) and retail application including Online customer service operations. specialized in service delivery and program management with business acumen, managed service delivery account worth>$ 100M, executed projects worth$ 2M to$ 8M, delivered project/ program for complex technologies and executed 30 plus key it transitions and transformed to steady state operations adopted innovative methods in services and contributed in implementation of key Organisation IP initiatives., program manager- cloud infrastructure services( CIS) at Capgemini, senior service delivery manager at cognizant India pvt. Ltd.\n",
      "\n",
      " TrueCase Annotated \n",
      " Results-Driven, Detail-Oriented professional professional with over 29 years of proven track record of international defense markets including but not limited to tactical Radiocommunications systems, products and applications, product development, market introduction, operations, program management, strategic partnership and strategic selling. proven ability to understand customer needs and launch Revenue-Generating products to meet these needs. specialties: product Lifecycle management, product development, product market introduction, tactical radio communications, International business development, strategic selling, key account management, international partnerships, foreign military sales, offset obligations, market assessment, business integration, contract negotiations, program management, fluent in English, Spanish, basic knowledge of Portuguese and Italian., results driven professional with over 28 years of proven track record of international defense markets including but not limited to tactical communications systems, products and applications, product development, market introduction, operations, program management, strategic partnership and strategic selling. specialties: International business development, Latin America& Caribbean, strategic selling, key account management, international partnerships, foreign military sales, new account development, offset obligations, market assessment, business integration, contract negotiations, program management, tactical radio communications, fluent in English, Spanish, basic knowledge of Portuguese and Italian., results driven professional with over 26 years of proven track record of international defense markets including but not limited to tactical communications systems, products and applications, product development, market introduction, operations, program management, strategic partnership and strategic selling. specialties: International business development, Latin America& Caribbean, strategic selling, key account management, international partnerships, foreign military sales, new account development, offset obligations, market assessment, business integration, contract negotiations, program management, tactical radio communications, fluent in English, Spanish, basic knowledge of Portuguese and Italian., Results-Driven, Detail-Oriented professional professional with over 30 years of proven track record of international defense markets including but not limited to tactical Radiocommunications systems, products and applications, product development, market introduction, operations, program management, strategic partnership and strategic selling. proven ability to understand customer needs and launch Revenue-Generating products to meet these needs. specialties: HF tactical radio communications, antennas and radio propagation., senior program manager- Latin America& Caribbean at Harris corporation, senior product manager at Harris corporation. Msee, maps, Pmc, medical device- electrical engineering, medical device- engineering- other, aerospace engineering and design, big data statistical analysis\n",
      "\n",
      " TrueCase Annotated \n",
      " I have over 22 years of banking experience at both fifth third Bank and national city Bank/ PNC bank. My professional experience is well-rounded and includes positions in Treasury management operations, Treasury management Implementations, Treasury product management, and Treasury management sales. I am a certified Treasury professional( Ctp). I am able to accurately assess a company's accounts receivable, accounts payable, liquidity, and/ or information needs or concerns. I can then assist clients in optimizing, automating, and streamlining their working capital. I also advise clients on how to mitigate financial risk. I currently manage a team of four Treasury sales professionals who support the greater Cincinnati/ Dayton/ northern Kentucky markets. I am currently also serving as vice president of the Southwest Ohio Association for financial professionals( Swoafp). locate us and learn more at: Swoafp.Org. I can be reached at Bethany.Hartman@53.Com or 513-226-1874., I have 20 years of banking experience: 14 years at fifth third Bank, and 6 years at national city Bank/ PNC bank. My professional experience is well-rounded and includes positions in operations management, Implementations, product management, and also sales. I am a certified Treasury professional( Ctp). This designation allows me to accurately assess a company's accounts receivable, accounts payable, liquidity, and/ or information needs, which in turn allows me to optimize a company's working capital position. I currently manage a team of Treasury sales professionals who support the greater Cincinnati market( including Dayton) and the central Ohio/ Columbus market., I have 19 years of banking experience: 13 years at fifth third Bank, and 6 years at national city Bank/ PNC bank. My professional experience is well-rounded and includes positions in operations management, Implementations, product management, and also sales. I am a certified Treasury professional( Ctp). This designation allows me to accurately assess a company's accounts receivable, accounts payable, liquidity, and/ or information needs, which in turn allows me to optimize a company's working capital position. I currently manage a team of Treasury sales professionals who support the greater Cincinnati market., I have almost 16 years of banking experience: 10 years at fifth third Bank, and 6 years at national city Bank/ PNC bank. My professional experience is well-rounded and includes positions in operations management, Implementations, product management, and also sales. I am a certified Treasury professional( Ctp). This designation allows me to accurately assess a company's accounts receivable, accounts payable, liquidity, and/ or information needs, which in turn allows me to optimize a company's working capital position., vice president& Treasury management area sales manager ... manage a team of Treasury sales professionals who support the greater Cincinnati market., application development and maintenance, vice president at fifth third Bank, investment banking- middle office, investment banking- front office\n",
      "\n",
      " TrueCase Annotated \n",
      " I love using new technologies and media channels to innovate the way people, governments and groups communicate. by encouraging a combination of Analytical strategy and User-Focused design, we can create Digital products that do more than simply targets ads or\" connect brand Influencers\". by creating useful, approachable and Empathetic Digital tools, we can drive Net-Positive change without sacrificing lucrative market opportunities. Though a student of political science and sociology, my professional experience is in product management and and coordinating Multi-Stage technical projects for large clients, primarily in the higher Ed, publishing, technology and Cpg sectors. I'm also a Self-Taught developer, with experience in Php and Node.Js. I've designed Apis, done end-to-end Qa testing, written 400 page requirements docs, coded Webhook receivers, Debugged Bootstrap in Ie6, pitched investors, closed clients and designed interfaces. All while pushing commits from 15 countries., I love using new technologies and media channels to innovate the way people, governments and groups communicate. by creating useful, approachable and Empathetic Digital tools, we can drive Net-Positive change without sacrificing lucrative market opportunities. Though a student of political science and sociology, my professional experience is in product management and and coordinating Multi-Stage technical projects for large clients, primarily in the higher Ed, publishing, travel and exploration sectors. I'm also a Self-Taught developer, with experience in Php and Node.Js. I've designed Apis, done end-to-end Qa testing, written 400 page requirements docs, coded Webhook receivers, Debugged Bootstrap in Ie6, pitched investors, closed clients and designed interfaces. All while pushing commits from 15 countries., product leader with technical background and experience in Growth-Stage technology companies as both founder and early hire. enterprise vendor/ consultant experience at each stage of the process, touching sales, strategy, implementation and account management. My background is in product management and and coordinating Multi-Stage technical projects in Verticals like travel, exploration, publishing and higher Ed. Self-Taught developer, with experience in Php and unique large-scale Wordpress scenarios. I've designed Apis, done end-to-end Qa testing, written 400- page requirements docs, coded Webhook receivers, sold six-figure projects, Debugged Bootstrap in Ie6, pitched investors, managed product teams, closed clients and designed interfaces while pushing commits from 15 countries., I live in Brooklyn and help people build awesome Digital products. I am one of the Co-Founders of A022 Digital, a small group that offers web development, design and product development services. We have our own ongoing product called alumni spaces, aimed at helping local and national alumni groups be more awesome., Tech Co-Founder @Alumnispaces. Now a Brooklyner, sometimes a developer, occasionally a traveler and too rarely a sailor., Co-Founder at alumni spaces, Co-Founder at lat long\n",
      "\n",
      " TrueCase Annotated \n",
      " A brand, marketing and communications professional with skills gained in project management, brand, events, full marketing mix campaigns, management, process and operations and business strategy. I currently manage a team of eight Designers, six account/ project managers and five Optimisation and development managers to deliver projects, support clients and drive business growth. As part of the senior management team I am consistently successful in delivering for the business and supporting It's needs and objectives to facilitate growth. I am a goal orientated manager with strong planning, Multi-Tasking and delegating capacities. brand management- brand insight- brand values- strategic planning- budget management- events/ conferences/ trade shows- advertising Online/ Offline- Email communications Online- analysis- TV advertising- TV production- contract negotiations- Multitasking- delegation- campaign planning- design- project management- planning- process management- operations- mentoring- coaching, a brand, marketing and communications professional with skills gained in project management, brand and design, events, full marketing mix campaigns, management and reporting. I currently manage a team of nine Designers, six account managers and four compliance managers to deliver campaigns, support clients, drive acquisition and build brands. As part of the senior management team I am consistently successful in delivering for the business and supporting It's needs and objectives to facilitate growth. I am a goal orientated manager with strong planning, Multi-Tasking and delegating capacities. brand management- brand insight- brand values- strategic planning- budget management- events/ conferences/ trade shows- advertising Online/ Offline- Email communications Online- analysis- TV advertising- TV production- contract negotiations- Multitasking- delegation- campaign planning- design- project management- planning- process management, a marketing and communications professional with skills gained in project management, brand and design, events, full marketing mix campaigns, management and reporting. I currently manage a team of five designers and five account managers to deliver campaigns, support clients, drive acquisition and build brands. As part of the senior management team I am consistently successful in delivering for the business and supporting It's needs and objectives to facilitate growth. I am a goal orientated manager with strong planning, Multi-Tasking and delegating capacities. strategic planning- budget management- events/ conferences/ trade shows- advertising Online/ Offline- Email communications Online- analysis- TV advertising- TV production- contract negotiations- Multitasking- delegation- brand management- campaign planning- design- project management- planning- process management, MARCOM manager at active win. undergoing a Cam diploma in Digital marketing., marketing and communications professional| Cam diploma, head of MARCOM at Activewin media, MARCOM manager at Activewin media\n",
      "\n",
      " TrueCase Annotated \n",
      " I have a strong background in product management and event strategy but my passion now lies with client management. learning sales, I believe, is necessary for every marketer so they can better understand how to provide the most value to customers through their marketing strategy. My goal in every role is to really understand what makes each one of my customer's tick and finding ways to solve their business problems. Most recently I have gained a keen interest in training and development and leading programs that make a large impact on the overall business. I love technology and the fast paced challenging environment that goes along with it. specialties: client and account management marketing strategy Mentorship/ leadership training and development brand development& Re-Positioning project management integrated marketing communications social media and Online research& trend analysis Industries: community/ advocacy marketing, document management/ Saas, financial services, telecommunications, national meetings and events, small business storage, not for profit, I have a strong background in product management and event strategy but I have come to enjoy B-To-B marketing specifically in client management. I have worked on projects that extend across print advertising, Online content development, experiential and face to face marketing. being in a highly competitive industry has encouraged me to use my knowledge of social media and print marketing to expand Xerox'S wallet share and build long lasting relationships with customers. My goal in every role is to really understand what makes each one of my customer's tick and find ways to solve their business problems. specialties: client and account management experiential marketing brand development& Re-Positioning project management social media and Online research& trend analysis integrated marketing communications advertising Industries: document management, financial services, telecommunications, national meetings and events, small business storage, not for profit, determined and collaborative individual with proven success in pitching and executing marketing strategies and campaigns leading to increased brand penetration. a highly Pro-Active leader determined to build valuable relationships with internal and external customers. excellent communicator Leveraging strong Analytical and problem solving skills to influence the decision making process. relentless work ethic leading to achieving company sales targets. specialties: experiential marketing brand development& Re-Positioning account& project management social media and Online research& trend analysis integrated marketing communications relationship management& collaboration advertising Industries: financial services, telecommunications, national meetings and events, small business storage, not for profit, manager client development at Bay St. business systems, Xerox Canada Ltd., customer success manager, advocacy coach at Influitive, marketing and advertising professional, senior client manager, Xerox, Bay St.\n",
      "\n",
      " TrueCase Annotated \n",
      " I am an experienced business analyst, product owner and registered BAS agent with extensive experience in working with government agencies such as Ato, Treasury and Fairwork. I understand the full business process from data entry to calculation to reporting to interaction with Externals such as tax agents and government agencies. specialist in:* Australian payroll* payment summaries* employee share scheme statements* superannuation* New Zealand payroll* responsive web design* GST, BAS, taxation, debtors control, creditors control, inventory, asset Registry and banking process* developing tools to assist with testing of developed software* agile& waterfall Methodologies* Prototyping( Irise, Balsamic& Html/ CSS)* user experience, I am an experienced business analyst and registered BAS agent with extensive experience in working with government agencies such as Ato, Treasury, Fairwork, Ird and Mbie. I understand the full business process from data entry to calculation to reporting to interaction with Externals such as tax agents and government agencies. specialist in:* Australian payroll* payment summaries* employee share scheme statements* superannuation* New Zealand payroll* responsive web design* GST, BAS, taxation, debtors control, creditors control, inventory, asset Registry and banking process* developing tools to assist with testing of developed software* agile& waterfall Methodologies* Prototyping( Irise, Balsamic& Html/ CSS)* user experience, certified Scrum master& registered BAS agent I am an experienced business analyst with extensive experience in working with government agencies such as Ato and Fairwork. I understand the full business process from data entry to calculation to reporting to interaction with Externals such as tax agents and government agencies. specialist in:* Australian payroll* superannuation* New Zealand payroll* small business process such as GST, BAS, taxation, debtors control, creditors control, inventory, asset Registry and banking process* developing tools to assist with testing of developed software* agile& waterfall Methodologies* user experience testing, I am an experienced business analyst with extensive experience in working with government agencies such as Ato and Fairwork. I understand the full business process from data entry to calculation to reporting to interaction with Externals such as tax agents and government agencies. specialist in:* Australian payroll* superannuation* New Zealand payroll* responsive web design* small business process such as GST, BAS, taxation, debtors control, creditors control, inventory, asset Registry and banking process* developing tools to assist with testing of developed software* agile& waterfall Methodologies* Prototyping( Irise)* user experience testing, business analyst, product owner, registered BAS agent& certified Scrum master, business analyst, certified Scrum master& registered BAS agent, business analyst, registered BAS agent& certified Scrum master, legislative business analyst at ADP\n",
      "\n",
      " TrueCase Annotated \n",
      " | value Creator| brand custodian| snack monster| hello! every relationship begins with a single word, whilst every brand blooms with multiple words woven into stories that people share. The joy of creating and amplifying stories, the curiosity to understand the' why' behind the' what', and the constant urge to add value to my organization are what propel me, even after 10 years in the communications industry. I have a hands-on approach to the communications world, having being an advertising suit, a Freelance designer, a media strategist and now a marketer on one of Singapore'S most Iconic brands. businesses I have worked on before include Johnson& Johnson, Procter& Gamble, tiger beer and DBS/ Posb, and in markets including Singapore, Indonesia, Thailand, Malaysia and Vietnam. at work, I combine an inquisitive nature with a pragmatic approach to finding solutions. At play, I share stories to children at libraries, Disect the latest Indie films, and, my latest venture, make dresses from scratch!, solutions explorer| value Creator| brand custodian hello! every relationship begins with a single word, just as every brand is built on the stories that people share. The hunger to be In-The-Know of the latest innovations, the constant Tweaking of current work to stay relevant and the curiosity to understand the' why' behind the' what' still propel me after 10 years in the communications industry. I have a hands-on approach to the communications world, having being an advertising suit, a Freelance designer, a media strategist and now a marketer on one of Singapore'S most Iconic brands. businesses I have worked on before include Johnson& Johnson, Procter& Gamble, tiger beer and DBS/ Posb, and in markets including Singapore, Indonesia, Thailand, Malaysia and Vietnam. at work, I combine an inquisitive nature with a pragmatic approach to finding solutions. At play, I enjoy Story-Telling to children, photography, and Blogging about shoes and their reflection of the world., hello! every relationship begins with a single word, whilst every brand blooms with multiple experiences woven into stories that people share. The joy of creating and amplifying stories, the curiosity to understand the' why' behind the' what', and the constant urge to add value to my organization are what propel me, even after 10 years in the communications industry. I have a hands-on approach to the communications world, having being an advertising suit, a Freelance designer, a media strategist and now a marketer of the world's most Iconic brands. blue-chip businesses I have helped grow include Johnson& Johnson, Procter& Gamble, tiger beer and DBS, in markets including Singapore, Indonesia, Thailand, Malaysia and Vietnam. at work, I combine an inquisitive nature with a pragmatic approach to finding solutions. At play, I share stories to children at libraries, Dissect the latest films, and, my latest venture, make dresses from scratch!, waking up each morning excited to bring my' a' game at Johnson& Johnson, senior brand manager at Johnson& Johnson\n",
      "\n",
      " TrueCase Annotated \n",
      " Technology leader with experience in building& Architecting Internet scale applications using open source stacks and cloud platforms( Aws, Azure). experience in finance, payment and insurance domain. experience in leading cross functional distributed teams. working for Li Digital payments as vice president technology. worked for Nbfc capital trust( Nse: Captrust) as head technology helping them innovate, modernize and transform their loan origination/ loan management product. worked for HCL Technologies consulting large scale transformation programs for 6 years for various customers in us, UK and Apac regions. worked for E-Commerce shopping search engine Nextag for 3 years. experienced as an enterprise architect for consulting on building Web-Scale architectures. expert in legacy transformation Leveraging enterprise grade open source platforms like spring framework, Micro-Service architecture( Springboot), Drools, Mulesoft, fuse ESB, Apache spark/ Kafka, API Gateway/ management tools like Zuul, Anypoint platform. etc.,- working for Nbfc capital trust( Nse: Captrust) as head technology helping them innovate, modernize and transform their loan origination/ loan management product.- worked for HCL Technologies consulting large scale transformation programs for 6 years for various customers in us, UK and Apac regions.- worked for E-Commerce shopping search engine Nextag for 3 years.- experienced as an enterprise architect for consulting on building Web-Scale architectures.- expert in legacy transformation Leveraging enterprise grade open source platforms like spring framework, Micro-Service architecture( Springboot), Drools, Mulesoft, fuse ESB, Apache spark/ Kafka etc.- expert in cloud computing( Aws)- also has experience in API Gateway/ management tools like Zuul, Anypoint platform., experienced as a solution architect for consulting on building Web-Scale architectures. working on open source technology stacks like spring framework, Micro-Service architecture( Springboot), Drools, Mulesoft, fuse ESB, Apache spark/ Kafka etc. expert in cloud Technologies like Aws. also has experience in API Gateway/ management tools like Zuul, Anypoint platform. currently working for a capital trust( Nse: Captrust) as head technology with unique blend of modern application platform along with rich domain experience in financial services. previously worked for HCL Technologies driving their modern applications horizontal for 6 years. also worked for Small-Size/ Mid-Size companies like Aditi technologies, Nextag software( E-Commerce platform), Rsg media systems., solution architect at HCL Technologies. location: new ... Indian Institute of technology, Kharagpur ... experienced as a solution architect for consulting on building Web-Scale architectures. working on ... lead consultant at HCL Technologies ..., technology leader with 18 years of experience in development and enterprise architecture, technology leader with 17 years of experience in development and enterprise architecture, investment banking- back office, retail banking- back office\n",
      "\n",
      " TrueCase Annotated \n",
      " Having resided in Asia for over 16 years, my character has been positively influenced by the people surrounding me. being a German native Speaker fluent in English and Mandarin, conversational Cantonese and French, this diversity gives me a competitive edge/ advantage when it comes to breaking through in today's business world. I have gained tremendous experience in various departments when working for Mercedes-Benz HK Ltd. and quality assurance providers in Hong Kong. I have gained my bachelors degree in marketing and finished my masters degree in management with the University of Ireland, college Dublin in May 2013. I am eager to develop new business opportunities and gain further knowledge in the areas of marketing, sales, PR and quality. please feel free to connect. specialties: team work, patience, cross-cultural communication, marketing, sales, business development, key account management, strategic account management, quality control and quality assurance, having resided in Asia for over 17 years, my character has been positively influenced by the people surrounding me. being a German native Speaker fluent in English and Mandarin, conversational Cantonese and French, this diversity gives me a competitive edge/ advantage when it comes to breaking through in today's business world. I have gained tremendous experience in various departments when working for Mercedes-Benz HK Ltd. and quality assurance providers in Hong Kong. I have gained my bachelors degree in marketing and finished my masters degree in management with the University of Ireland, college Dublin in May 2013. I am eager to develop new business opportunities and gain further knowledge in the areas of marketing, sales, PR and quality. please feel free to connect. specialties: team work, patience, cross-cultural communication, marketing, sales, business development, key account management, strategic account management, quality control and quality assurance, having resided in Asia for over 13 years, my character has been positively influenced by the people surrounding me. being a German native Speaker fluent in English and Mandarin, conversational Cantonese and French, this diversity gives me a competitive edge or advantage when it comes to breaking through in today's business world. I have gained tremendous experience in various departments when working for Mercedes-Benz HK Ltd. and other quality control firms in Hong Kong. I have gained my bachelors degree in marketing and finished my masters degree in management with the University of Ireland, college Dublin in May 2013. I am eager to develop new business opportunities and gain further knowledge in the areas of marketing, sales, PR and quality. please feel free to contact me for any inquiry you might have. specialties: team work, patience, cross-cultural communication, marketing, sales, quality control, attending various trade fairs in HK and China to get new sales leads. creating ... exhibit at HK electronics fair twice a year to promote company services, investment banking- front office\n"
     ]
    },
    {
     "name": "stdout",
     "output_type": "stream",
     "text": [
      "\n",
      " TrueCase Annotated \n",
      " I just recently graduated from Washington state university where I earned my bachelors of business administration with an emphasis in marketing. In addition to my marketing degree at Washington state university I also studied International business in Grenoble, France at the Grenoble Ecole de management. During my undergraduate I developed leadership, marketing, and organizational skills as a member of Sigma Pi fraternity where I served as President, Secretary, Finance chair, Philanthropy chair and as a Senator on the Interfraternity Council. Additionally I had the opportunity to work for Sourceamerica as their business intern where I learned the roles of business development, account management, training development, and marketing. I also have over 8 years of customer service experience working for valve Corporation and Columbia athletic club as well as experience working with multiple channels of business. I currently am an associate district manager for ADP where I help small businesses streamline their human capital management processes., I am a salesman with experience selling software and hardware solutions to customers in an inside and outside sales capacity for companies such as ADP and Straube Associates. During my time at these companies I ran the entire sales process including prospecting, cold calling, presenting Demos, closing deals, and implementation of software. I consistently exceeded my quota expectations and earned accolades for my accomplishments. I am currently working as an account executive at Zipwhip where I am responsible for increasing our presence in the education sector., customers are overwhelmingly expressing that they want to communicate with businesses through traditional text messages. It is extremely important that businesses cater to this customer need so as to drive business, increase revenues, and lower customer acquisition costs. I help by enabling businesses with state-of-the-art Texting tools that operate over their Landline number so that communication is streamlined, centralized, and easy to implement. text or call me at (206) 816-3524 Email me at Cmckinsey@Zipwhip.Com, experienced account executive with a demonstrated history of working in the technology industry on both the software and hardware side. skilled in social media, public speaking and customer service. strong sales professional with a Bachelor'S degree focused in marketing from Washington state university and an international business certification from the Grenoble Ecole de management., I am a hardworking individual with multiple leadership experiences under my belt. I have been the Secretary and president of the iota NU chapter of Sigma Pi fraternity, in addition to being extremely active in the community., account executive with Zipwhip| helping businesses communicate with their customers, I help small businesses streamline their human capital management processes, Secretary at Sigma Pi fraternity, iota NU chapter, outside sales manager at Straube Associates, senior at Washington state university\n",
      "\n",
      " TrueCase Annotated \n",
      " Currently, legal assistant( Gsgs) at Citco office located in Vilnius. a highly motivated and hardworking individual, with over two years of experience in the compliance field is now looking for a possibility to expand her knowledge in law related job. over her job and studies experience she had gained a wide range of valuable transferable skills such as Multitasking, attention to details, ability to deliver results no matter how tight the deadlines are etc. Her previous job role taught how to behave in stressful situations and take personal ownership of the problems that had arisen. She is now fully aware how to deal with sensitive and confidential information and proceed with many tasks at once keeping her mind sharp. While performing her daily tasks she is also trusted with additional duties as she had proven herself to be a trustworthy and responsible employee. eventual career goal is to become a fully qualified specialist in corporate law field., currently, a specialist, AML compliance in Western Union' European regional operations center in Vilnius. a highly motivated and hardworking individual, with over a year of experience in the compliance field is now looking for a possibility to expand her knowledge. over her previous job and studies experience she had gained a wide range of valuable transferable skills such as Multitasking, attention to details, ability to deliver results no matter how tight the deadlines are etc. Her current job role taught how to behave in stressful situations and take personal ownership of the problems that had arisen. She is now fully aware how to deal with sensitive and confidential information and proceed with many tasks at once keeping her mind sharp. eventual career goal is to become a Fully-Qualified and experienced specialist in AML field., currently, compliance officer at Moneta International office located in Vilnius. a highly motivated and hardworking individual, with over three years of experience in the compliance field. over her job and studies experience she had gained a wide range of valuable transferable skills such as Multitasking, attention to details, ability to deliver results no matter how tight the deadlines are etc. Her previous job roles taught how to behave in stressful situations and take personal ownership of the problems that had arisen. She is now fully aware how to deal with sensitive and confidential information and proceed with many tasks at once keeping her mind sharp. While performing her daily tasks she is also trusted with additional duties as she had proven herself to be a trustworthy and responsible employee., ... employee. eventual career goal is to become a fully qualified specialist in corporate law field . ... specialist, AML compliance · Western Union ... activities and societies:\" Elsa Lithuania\" ... AML compliance specialist at Western Union ..., legal assistant( Gsgs) at the Citco group of companies, specialist, AML compliance( Gsi) at Western Union, compliance officer at Moneta International UAB\n",
      "\n",
      " TrueCase Annotated \n",
      " Founder, advisor, ai researcher. passionate about building things that matter from Algorithms to organisations- for positive social impact. I'm a Co-Founder and director of Outware mobile. We built some of Australia'S most Impactful applications with our clients, received multiple industry awards, grew fast to 250 and were successfully acquired by Melbourne it in 2017. deep expertise in Organisational leadership, technical and innovation strategy as well as leading and Scaling teams with a foundation of collaboration, empowerment, quality and innovation. I also have extensive R& D expertise, holding a Phd in robotics engineering, with experience covering computer vision, ai, protein Modelling, motor control and Mechatronics. I'm focussed on Multidisciplinary approaches to new modes of Cognition, artificial general intelligence and consciousness., Gideon is director and Co-Founder of Outware mobile, one of Australia'S fastest growing technology companies. He has deep expertise in Organisational leadership, technical and innovation strategy and leading and Scaling technical teams, with a culture of collaboration, empowerment, collaboration, innovation and quality; to deliver Impactful software applications. Gideon also has broad research and development expertise, holding a Phd in robotics engineering, with experience covering computer vision, ai, protein Modelling, motor control and Mechatronics. He is interested in Multidisciplinary approaches to new modes of Cognition, intelligence and consciousness., Gideon is director and Co-Founder of Outware mobile, one of Australia'S fastest growing technology companies. He has extensive experience leading and Scaling engineering teams, with a culture of collaboration, empowerment, collaboration, innovation and quality; to deliver major software applications for tier 1 organisations. Gideon also has broad research and development expertise, holding a Phd in robotics engineering, with experience covering computer vision, ai, protein Modelling, motor control and Mechatronics. He is interested in Multidisciplinary approaches to new modes of Cognition, intelligence and consciousness., passionate about building things that matter through emerging and novel use of technology. deep expertise in Organisational leadership, technical and innovation strategy as well as leading and Scaling teams to deliver Impactful applications with a foundation of collaboration, empowerment, quality and innovation. Gideon has broad research and development expertise, holding a Phd in robotics engineering, with experience covering computer vision, ai, protein Modelling, motor control and Mechatronics. He is interested in Multidisciplinary approaches to new modes of Cognition, artificial general intelligence and consciousness., passionate about building things that matter through novel use of technology., founder, advisor, ai R& D for positive social impact., application development and maintenance, Co-Founder/ director at Outware mobile, aerospace engineering and design\n",
      "\n",
      " TrueCase Annotated \n",
      " A competitive sales, business development, marketing and branding professional with a proven record of positioning products, driving market share, visibility with recognition of new and repeat business. serving clients and employers ranging from small startups and Early-Stage companies to global industry giants, developed Hard-hitting strategies to fuel strong growth and recognition. Adaptive, creative and innovative, leveraged a Well-Honed arsenal of sales, marketing and general business management skills to deliver exceptional results for firms in sport science, sports marketing, technology, software and other sectors that far surpassed expectations. extensive management experience includes spearheading Fast-Paced startups through acquisition, rapid growth initiatives, successful Turnarounds and brand Makeovers. Humaninterestgroup.Org Retul.Com Sansego.Co Altitudetraining.Com Skiersedge.Com, seasoned and ambitious executive with over fifteen years of achievement developing and directing strategic global sales and marketing initiatives in ever-changing, dynamic environments. intuitive leader with acute business acumen and expertise in brand development and market penetration; who excels at Aligning core business, revenue, and growth goals to enhance roi. solid history of success in OEM and Saas sales, product development and marketing, cost control and reduction, budget administration, acquisition and retention, key account development, performance/ direct response marketing, and partner/ brand/ promotions marketing. consistent innovative sales and marketing success in developing new entities and marketing platforms., seasoned and ambitious executive with over fifteen years of achievement developing and directing strategic International sales and marketing initiatives in ever-changing, dynamic environments. intuitive leader with acute business acumen and expertise in brand development and market penetration; who excels at Aligning core business, revenue, and growth goals to enhance roi. solid history of success in product development and marketing, cost control and reduction, budget administration, acquisition and retention, key account development, performance/ direct response marketing, and partner/ brand/ promotions marketing. consistent innovative marketing success in developing new entities and marketing platforms., managing director- human interest group- sports marketing and management Co-Founder, marketing director- Sansego, LLC- endurance based coaching sales and marketing officer- Retul 3D motion capture bike fit technology sales and marketing director at Colorado altitude training marketing manager at the Skier'S edge company specialties: unique, Out-Of-The-Box, One-Of-A-Kind, never been done before, business development and branding strategies and campaigns, global sales& marketing strategist, brand management, sponsorship, business development, marketing strategist, sales, brand management, sponsorship, managing director at the human interest group\n",
      "\n",
      " TrueCase Annotated \n",
      " Basic outline of abilities providing administrative and secretarial support to senior level social media- set up and maintenance Website design and maintenance diary management and travel arrangements for appropriate staff completing reports and correspondence meeting management and data briefing event hosting preparing presentations and speeches research and project work covering relevant topics to the organization organising hospitality for both internal and external meetings/ events Actioning incoming mail and directing/ screening telephone calls high level of attention to detail excellent Organisational and exceptional communication skills strong team Player own initiative and research skills competent with excel, word and Powerpoint, Bolinda is a private and expanding international media company that is a recognised leader in the field of Audio books, while pioneering the Digital Download market for Audiobooks and Ebooks in public libraries through its App called Borrowbox. Borrowbox offers library users free access to the latest Eaudiobooks, Ebooks and now Emagazines- log on and lose yourself! Bolinda Audio has established a globally identifiable master brand that enjoys strong consumer and industry recognition. Bolinda is market leader in the public library market in Australia, New Zealand& the UK as supplier of Audio books and large print books and its Digital Download solution Borrowbox- your library in one App., basic outline of abilities provide administrative and secretarial support( Pa) to senior level social media and Website set-up and maintenance. diary management and travel arrangements for appropriate staff meeting management and data briefing preparing presentations and speeches research and project work covering relevant topics to the Organisation organising hospitality for both internal and external meetings/ events Actioning incoming mail and directing/ screening telephone calls high level of attention to detail excellent Organisational and exceptional communication skills competent with Crm software, Oracle and windows applications. experience of lead generation invoice investigation, basic outline of abilities providing administrative and secretarial support to senior level diary management and travel arrangements for appropriate staff completing reports and correspondence meeting management and data briefing event hosting preparing presentations and speeches research and project work covering relevant topics to the organization organising hospitality for both internal and external meetings/ events Actioning incoming mail and directing/ screening telephone calls high level of attention to detail excellent Organisational and exceptional communication skills strong team Player own initiative and research skills competent with excel, word and Powerpoint, job hunting- studying a project management and an events management course to bring my skills up to date., sales executive at Kicktek limited, Admin/ events/ project management\n",
      "\n",
      " TrueCase Annotated \n",
      " Chris is a young Mit-Trained innovative Ed-Tech entrepreneur from Nigeria and a Forbes under 30 honoree. He's passionate about technology and the average African youth. his current venture aims at developing the Continent'S young talents into world class professionals while providing smart Ai-Based tools to help businesses integrate top Entry-Level talents into their workforce. He has been invited to share this smart talent/ workforce model through several platforms, with the likes of former us President Barack Obama, bill gates, the African Union, and across several continents and countries within the last few years. with a massive interest and substantial knowledge in computers and technology spanning well over 2 decades( nearly all his life) he has served as keynote Speaker, and panel Speaker in a couple of events including the Elearning Africa conference in Ethiopia, world forum for responsible economy in France, innovation Arabia in Dubai, and MTV base meets show with bill gates in Durban-South Africa. He believes that every good success comes from God., Chris is a young Mit-Trained innovative Ed-Tech entrepreneur and a Forbes under 30 honoree. He's passionate about technology and the average African youth. his current venture aims at developing the Continent'S young talents into world class professionals while providing smart Ai-Based tools to help businesses integrate top Entry-Level talents into their workforce. He has been invited to share this smart talent/ workforce model through several platforms, with the likes of former us President Barack Obama, bill gates, the African Union, and across several continents and countries within the last few years. with a massive interest and substantial knowledge in computers and technology spanning well over 2 decades( nearly all his life) he has served as keynote Speaker, and panel Speaker in a couple of events including the Elearning Africa conference in Ethiopia, world forum for responsible economy in France, innovation Arabia in Dubai, and MTV base meets show with bill gates in Durban-South Africa., Chris is a young MIT/ Harvard trained innovative Ed-Tech entrepreneur from Nigeria. He's passionate about technology and the average African youth. His venture, Slatecube, aims at developing young African talents into world class professionals for today's distributed workforce. He's shared this model with the likes of us President Barack Obama, bill gates, and across several continents and countries within the last 2 years. with a massive interest and substantial knowledge in computers and technology spanning a little over a decade( nearly all his life) he has an Unflinching desire to impact his immediate world most importantly, teenagers and young adults with this knowledge, and also demonstrate to them the path to societal and global relevance. He believes that every good success comes from God and that there really is a lot to learn about life., Co-Founder and Ceo at Slatecube, Co founder at Slatecube\n",
      "\n",
      " TrueCase Annotated \n",
      " Senior hr business partner for business development across Uki. role includes management of a small team of hr Bd resources and responsibility for hr work stream lead for multiple new business projects, accountable for hr bid response, detailed due diligence processes, recruitment, Tupe, On-Boarding processes and change management. tried and tested project plans and template documents enable accurate information gathering and Stakeholder management to ensure seamless transfer of people and payroll. project management Prince 2 principles applied. experience working as hr generalist covering all areas of hr, over 15 years in hr manager/ hr business partner roles, significant commercial experience/ acumen. accomplished professional working in environments with trade union collective agreements in place: negotiating and influencing experience in change management practices: engaging Stakeholders, gaining buy in and project management execution of programmes. accountable for delivery and success of multiple Tupe processes across multiple locations., hr business partner to vp innovation and business development team. role includes responsibility of hr work stream lead for multiple new business projects, accountable for hr bid response, detailed due diligence processes, recruitment, Tupe, On-Boarding processes and change management. tried and tested project plans and template documents enable accurate information gathering and Stakeholder management to ensure seamless transfer of people and payroll. project management Prince 2 principles applied. experience working as hr generalist covering all areas of hr, over 10 years in hr manager/ hr business partner roles, significant commercial experience/ acumen. accomplished professional working in environments with trade union collective agreements in place: negotiating and influencing experience in change management practices: engaging Stakeholders, gaining buy in and project management execution of programmes. accountable for delivery and success of multiple Tupe processes across multiple locations., hr work stream lead for multiple projects, involving detailed due diligence and migration of people data onto central hr systems. project management Prince 2 principles applied. tried and tested template documents enable accurate information gathering to ensure seamless transfer of hr systems data and payroll. working with the employees in scope of transfer through the consultation process, to ensure accuracy and timely collation of information for system set up. experience working as hr generalist covering all areas of hr, over 10 years in hr manager/ hr business partner roles experience working in environments with trade union collective agreements in place: negotiating and influencing experience in change management practices: engaging Stakeholders, gaining buy in and project management execution of programmes., hr business development manager- Dhl supply chain, senior hr business partner at Dhl supply chain\n",
      "\n",
      " TrueCase Annotated \n",
      " I am a Self-Motivated sales& marketing professional with excellent communication skills. In addition, I possess strong web based marketing and Database MGMT experience. as a owner& operator at quality clean Miami. My objective of focus is to continue to cultivate Miami's cleaning industry by providing excellent service. At Qc Miami we have the capacity to handle any cleaning job: commercial, residential, move in/ out clean, construction clean up, etc. We also use our sales& marketing skills to develop and maintain rapport with clients. as a business man, I am constantly looking for new ways to market/ sell products and build professional network ties giving birth to investment zoom., I am a Self-Motivated sales& marketing professional with excellent verbal communication skills. in a addition, I possess strong web based marketing and Crm experience. as a owner& operator at quality clean Miami. My objective of focus is to continue to cultivate Miami's cleaning industry by providing excellent service. At Qc Miami we have the capacity to handle any cleaning job: commercial, residential, move in/ out clean, construction clean up, etc. We also use our sales& marketing skills to develop and maintain rapport with clients. as a business man, I am constantly looking for new ways to market/ sell products and build professional network ties., I am a Self-Motivated sales& marketing professional with excellent verbal communication skills. In addition, I possess strong web based marketing and Crm experience. as a owner& operator at quality clean Miami. My objective of focus is to continue to cultivate Miami's cleaning industry by providing excellent service. At Qc Miami we have the capacity to handle any cleaning job: commercial, residential, move in/ out clean, construction clean up, etc. We also use our sales& marketing skills to develop and maintain rapport with clients. as a business man, I am constantly looking for new ways to market/ sell products and build professional network ties., I am a Self-Motivated sales& marketing professional with excellent verbal and written communication skills. in a addition, I possess strong web and Crm experience. as a property manager at peak management I am responsible for screening potential residents and guiding them through the leasing process. I am also responsible for ensuring the most comfortable stay as possible. I use my persuasive sales& marketing skills to develop and maintain rapport with residents. as a business man, I am constantly looking for new ways to promote/ sell products and build professional network ties., professional helicopter pilot with additional experience and mastery of major automotive repair, graphic design, leadership training, English as a second language, sales, and small business management, rotor wing pilot at Wyoming life flight, air methods, broker at Tql Miami at total quality logistics, leasing manager at peak management LLC, managing partner at Qc Miami\n",
      "\n",
      " TrueCase Annotated \n",
      " Dyson transform every category they enter with radical and Iconic Reinventions that work, perform and look very different. that makes Dyson far from ordinary and I love the unique culture. not always easy or comfortable but I as someone that thrives on change and new challenges it is for me. If I believe in a better way of doing things I have the autonomy and scope to drive solutions. It is a business that thinks about tomorrow and beyond. The retail team are at the forefront designing and delivering a great customer journey in partnership with key retailers. We are growing- fast and our future ambitions mean more people and more consumers. I am a hr professional that is ambitious and looking excel in the field of hr. currently working towards my Cipd qualification whilst gaining invaluable experience in a fast paced generalist hr role. I am passionate about hr Partnering the business and assisting them achieve their agenda through the success of its people. I am driven to continuously improve both myself and the business I am in., commercial and experienced hr professional inspired by delivering business change. seeking to continue to deliver results within a global/ International fast paced environment. demonstrable experience of working with senior Stakeholders to manage strategic projects, challenge performance and drive organizational effectiveness. strong team player with the ability to work independently, using own judgment and initiative to make decisions. broad knowledge of key hr pillars including talent management, organizational design and engagement. truly passionate about the role of hr continually driving improvement through the success of the people agenda. specialties: er case management, engagement, management and leadership development, talent management and recruitment., I am a hr management Trainee that is ambitious and looking excel in the field of hr. currently working towards my Cipd qualification whilst gaining invaluable experience in a generalist hr role within the logistics sector. I am passionate about hr supporting business and assisting them achieve their agenda through the success of its people. I want to continuously improve both myself and the business I am in., I am a hr professional that is ambitious and looking excel in the field of hr. currently working towards my Cipd qualification whilst gaining invaluable experience in a fast paced generalist hr role. I am passionate about hr Partnering the business and assisting them achieve their agenda through the success of its people. I am driven to continuously improve both myself and the business I am in., hr officer at Warburtons- recruiting for a retail development manager, hr officer at Warburtons- recruiting for a technical manager, hr officer at Warburtons- recruiting for bakery team leader, senior employee relations specialist at Agoda, hr advisor- field sales at Dyson, hr advisor- retail at Dyson, hr business partner at Dyson\n",
      "\n",
      " TrueCase Annotated \n",
      " Epic Certifications( 2018 ): Epiccare inpatient procedure orders Asap emergency Department Epiccare inpatient order transmittal masters Smartform administration security coordinator radar reporting workbench Cogito project manager grand central( ADT/ prelude) infection control build and support experience: Asap emergency Department, reporting workbench/ radar, Slicerdicer, care everywhere, orders, Smartsets, preference lists, order transmittal, Smarttools, therapy plans, simple treatment plans, Phoenix, Doc Flowsheets, navigators, Narrators, Workflow engine go live/ upgrade experience end user support: work with end users to resolve their issues by researching, Troubleshooting, and implementing a resolution application/ integrated test script development end user training material development supported upgrade from epic 2010 to epic 2014- June 2014 supported upgrade from epic 2014 to epic 2015- November 2015 supported implementation of epic revenue cycle products- Novemeber 2016 supported opening of new adult emergency Department- December 2017, epic Certifications( 2015 ): Epiccare inpatient procedure orders Asap emergency Department Epiccare inpatient order transmittal masters Smartform administration security coordinator radar reporting workbench Cogito project manager grand central( ADT/ prelude) build and support experience: Asap emergency Department, reporting workbench/ radar, care everywhere, orders, Smartsets, preference lists, order transmittal, Smarttools, therapy plans, simple treatment plans, Phoenix, Doc Flowsheets, navigators, Narrators, Workflow engine go live/ upgrade experience end user support: work with end users to resolve their issues by researching, Troubleshooting, and implementing a resolution application/ integrated test script development end user training material development supported upgrade from epic 2010 to epic 2014- June 2014 supported upgrade from epic 2014 to epic 2015- November 2015, epic Certifications( 2017 ): Epiccare inpatient procedure orders Asap emergency Department Epiccare inpatient order transmittal masters Smartform administration security coordinator radar reporting workbench Cogito project manager grand central( ADT/ prelude) build and support experience: Asap emergency Department, reporting workbench/ radar, care everywhere, orders, Smartsets, preference lists, order transmittal, Smarttools, therapy plans, simple treatment plans, Phoenix, Doc Flowsheets, navigators, Narrators, Workflow engine go live/ upgrade experience end user support: work with end users to resolve their issues by researching, Troubleshooting, and implementing a resolution application/ integrated test script development end user training material development supported upgrade from epic 2010 to epic 2014- June 2014 supported upgrade from epic 2014 to epic 2015- November 2015, senior business systems analyst at University of Chicago medicine, lead business system analyst at University of Chicago medicine\n",
      "\n",
      " TrueCase Annotated \n",
      " High-Performing, Strategic-Thinking professional with more than 6 years' of experience in medical device marketing and product management. An engineer by qualification, a marketing profession by virtue of current position. strong capacity to manage multiple projects on strict Timelines that adhere to brand identity and values team oriented leader with successful track record, outstanding written and oral communication skills with comprehensive experience in medical device marketing, product management, product Life-Cycle, product training/ demonstration, clinical application specialist( CAS), clinical trials, product launch, customer relationship management, marketing collateral, marketing strategies, sales team/ distributor training. proven expertise in establishing rapport and building trust with customer. ability and interest in learning and incorporating new Technology.Consistently receive positive feedback from manager, co-workers and customer., High-Performing, Strategic-Thinking professional with 9 years' of experience in medical device marketing and product management. An engineer by qualification, a marketing profession by virtue of current position. strong capacity to manage multiple projects on strict Timelines that adhere to brand identity and values team oriented leader with successful track record, outstanding written and oral communication skills with comprehensive experience in medical device marketing, product management, product Life-Cycle, product training/ demonstration, clinical application specialist( CAS), clinical trials, product launch, customer relationship management, marketing collateral, marketing strategies, sales team/ distributor training. proven expertise in establishing rapport and building trust with customer. ability and interest in learning and incorporating new Technology.Consistently receive positive feedback from manager, co-workers and customer., High-Performing, Strategic-Thinking professional with 8 years' of experience in medical device marketing and product management. An engineer by qualification, a marketing profession by virtue of current position. strong capacity to manage multiple projects on strict Timelines that adhere to brand identity and values team oriented leader with successful track record, outstanding written and oral communication skills with comprehensive experience in medical device marketing, product management, product Life-Cycle, product training/ demonstration, clinical application specialist( CAS), clinical trials, product launch, customer relationship management, marketing collateral, marketing strategies, sales team/ distributor training. proven expertise in establishing rapport and building trust with customer. ability and interest in learning and incorporating new Technology.Consistently receive positive feedback from manager, co-workers and customer., SR. product officer at Olympus medical system, product Specalist at Olympus medical system\n",
      "\n",
      " TrueCase Annotated \n",
      " I have over 18Years working experience spanning financial services, oil& gas consulting and publishing, acquired tremendous business development experience in corporate and investment banking in Nigeria and South Africa through my involvement in origination and execution of deals worth over us$ 5Billion since 2002. I have led teams offering advisory services to blue chip companies and small& medium enterprises in the areas of asset management, mergers and acquisitions, restructuring and capital raising( both debt and equity). I have also attended various training programme locally and abroad aimed at enhancing my skills and productivity. as a result of the passion I have for helping other people attain their full potentials and thus achieve their goals in life, I started undergoing training as a business Coach-Leader in 2009 and I speak on business leadership and coaching at workshops/ seminars in Nigeria and South Africa., I have over 15Years working experience spanning financial services, oil& gas consulting and publishing, acquired tremendous business development experience in corporate and investment banking in Nigeria and South Africa through my involvement in origination and execution of deals worth over us$ 5Billion since 2002. I have led teams offering advisory services to blue chip companies and small& medium enterprises in the areas of asset management, mergers and acquisitions, restructuring and capital raising( both debt and equity). I have also attended various Trainings locally and abroad aimed at enhancing my skills and productivity. as a result of the passion I have for helping other people attain their full potentials and thus achieve their goals in life, I started undergoing training as a business Coach-Leader in 2009 and I speak on business leadership and coaching at workshops/ seminars in Nigeria and South Africa., I have over 15Years working experience spanning financial services, oil& gas consulting and publishing, acquiring tremendous business development experience in corporate and investment banking in Nigeria through my involvement in origination and execution of deals worth over us$ 2Billion since 2002. I have led teams offering advisory services to blue chip companies and small& medium enterprises in the areas of asset management, mergers and acquisitions, restructuring and capital raising( both debt and equity). I have also attended various Trainings locally and abroad aimed at enhancing my skills and productivity. as a result of the passion I have for helping other people attain their full potentials and thus achieve their goals in life, I started undergoing training as a business Coach-Leader in 2009 and I speak on business leadership and coaching at workshops/ seminars in Nigeria and South Africa., chief executive officer at Butterpot capital limited, senior Md, Sub-Saharan Africa at the Talitha group, experienced investment banking executive\n"
     ]
    },
    {
     "name": "stdout",
     "output_type": "stream",
     "text": [
      "\n",
      " TrueCase Annotated \n",
      " I am a young professional with a rich educational background in business administration, international relations and finance, currently pursuing a MSC degree in finance& investment at Rotterdam school of management and developing the Swiss market for the Dutch student housing platform Housinganywhere. having been a part of the Erasmus centre for Entrepreneurship students, I got introduced to the start-up scene of Rotterdam. I am lucky to have lived in and travelled to various cities in the world. originally from a small city in Moscow region, Russia, I moved to a truly international Geneva, Switzerland to obtain my double bachelor degree. later on, I was accepted to the Rotterdam school of management for my MSC in finance& investment. and I am sure that my worldwide experience would continue in the future. I am ambitious and passionate about everything I do in my life- my studies, career opportunities, weight Trainings, skiing and travelling., I am a girl with a traditional Russian background that was influenced by the International surroundings of Geneva where I moved when I was 18. ambitious and passionate about everything I do in my life, I truly believe that diversified personal development is crucial. continuing Self-Education, reading and sport are my hobbies. I find the process of acquiring new language skills very captivating- I keep on improving the knowledge of the ones that I already speak( Russian, English, French and German ); my plans also include learning Arabic and Spanish. It is very important to keep on setting new aims in life when old ones are achieved that is why now I'm looking forward to get an opportunity to implement my knowledge and skills at the career field. I prefer to set high goals, because challenges develop your creativity and make the life more Colourful ..., from attaining a Maltese passport or acquiring a Maltese residence( allowing you Visa-Free access to 168 countries( including all Eu member states, the UK, USA, and Canada)) as well as advising on other citizenship or residence by investment programs, to setting up companies and physical offices in Malta, from mergers and acquisitions to setting up a trust account, the professionals of the Integritas group will expertly handle your personal, business, and corporate needs., young professional with a financial education background. currently I am specialising in business development, market research and brokerage as well as assisting with portfolio management. My highly International profile allows me to address the needs of international clients as well as facilitate the Malveira holding activities in different countries., student at Rotterdam school of management, Erasmus University, assistant country manager- Geneva at Housinganywhere.Com, country manager- Switzerland at Housinganywhere.Com, business development manager at Integritas trustees, student at Webster University Geneva\n",
      "\n",
      " TrueCase Annotated \n",
      " ** New York permanent placement, active searches** currently seeking: conflicts attorney with 2+ years of Exp ... this role is within a global firm and offers the opportunity to work with a great team in Midtown- salary up to$ 130K litigation Paralegal for am law 100 firm- general litigation for a firm in Midtown offering up to$ 85K+ for the right background, 5+ Yrs of Exp. sought Paralegal manager opportunity for INTL firm in Midtwon .. up to$ 100K Email resumes in confidence to: Ramon.Ramos@Roberthalflegal.Com,** New York permanent placement, active searches** litigation legal Secretary( plaintiff's experience), Midtown firm, 8+ years of experience, up to$ 70K commercial real estate Paralegal( large firm Exp.), Midtown firm, 3+ years of experience,$ open director of leasing( Exp with over 3000 units), Midtown firm, 10-15+ years of experience,$ 100K+ litigation Paralegal, 2+ years of experience, Midtown firm, up to$ 60K please Email your resume directly to Ramon.Ramos@Roberthalflegal.Com,** New York permanent placement, active searches** white collar litigation Paralegal, 4+ Yrs of Exp, Midtown, up to$ 90K+** in-house role** Paralegal with insurance claims background, Midtown, 4+ Yrs of Exp. up to$ 75K legal administrative assistant/ Secretary, Midtown firm, 8+ years of Exp., salary open!! plaintiff personal injury Paralegal, 2+ years of experience, Midtown firm, up to$ 50K please Email your resume directly to Ramon.Ramos@Roberthalflegal.Com,** New York permanent placement, active searches** executive legal Secretary with media Compnay( Transactional/ contracts Exp. required), Midtown,$ 55-70 K DOE litigation legal Secretary in Midtown with law firm( employment law),$ 55K- 70K DOE legal Secretary in New Jersey( Berkeley heights), insurance defense Exp,$ 50K- 60K DOE please Email your resume directly to Ramon.Ramos@Roberthalflegal.Com, direct hire active searches: bankruptcy Paralegal, 2+ years of experience,$ 60K+ coop Condo attorney, 2+ years of Exp,$ 75K+ Transactional real estate attorney, 5+ years of Exp-$ 150K+ corporate associate/ attorney, 5+ years of Exp--$ 150K+ Email your resume in word version to Ramon.Ramos@Roberthalflegal.Com for immediate consideration as these roles are moving quickly!!!, do you have a position that needs to be filled immediately? my team is meeting with over 30 candidates a week from all legal backgrounds. Let me know how we can assist today. Email me at Ramon.Ramos@Roberthalflegal.Com or call 212-557-7878, division director- permanent placement Ramon.Ramos@Roberthalflegal.Com office: 212-557-7878, mobile: 646-425-9543, division director- permanent placement Ramon.Ramos@Roberthalflegal.Com 212-557-7878 at Robert half legal, recruiting and business development- permanent placement Ramon.Ramos@Roberthalflegal.Com 212-557-7878, Email resumes in confidence to: Ramon.Ramos@Roberthalflegal.Com, hospitality professional seeking new role\n",
      "\n",
      " TrueCase Annotated \n",
      " Management consultant with more than a decade of experience in the investment management, wealth management, and banking industries. I specialize in assisting institution's leadership to shape strategy and implement risk management change using my deep understanding of derivatives, fixed income securities, portfolio management Workflows, products, regulation, and compliance functions. I have broad experience assisting clients to strategically reorganize team structures, Re-Engineer processes, create strategic approaches based on data and client experience needs, and implement new Frameworks to address the challenges they are currently facing. I am passionate about bringing the type of change to financial organizations that enables them to better address modern clients' needs in a profitable and strategic manner., management consultant with years of experience in the asset management industry, specializing in risk management with a firm understanding of derivatives, fixed income securities, portfolio management Workflows, regulation, and compliance functions. I am passionate about understanding and explaining the financial markets through both quantitative and qualitative analyses. recent experience includes leading a global team providing information delivery services for a leading institutional investment manager's fixed income desk and directing an assessment of a G-Sib'S Enterprise-Wide Bcbs 239 compliance. I am also a CFA candidate, registered for the June, 2016 level 3 exam., as a senior manager, within Accenture'S Finance& risk practice, with more than a decade helping clients across the financial services industry with a broad base of experiences from Data-Driven process strategy to Customer-Centric fraud risk technology design. I am driven by changing companies for the better: better risk management, better client experience, better organizational processes, better products, better bottom line, and better strategy. outside of work, you'll likely find me traveling to new places to hike, eat, or Immerse myself in culture. I'm passionate about my local restaurant scene and stay close to the industry, trying new places when I'm off the road., management consultant specializing in risk management with a firm understanding of derivatives, fixed income securities, portfolio management Workflows, regulation, and compliance functions. I am passionate about understanding and explaining the financial markets through both quantitative and qualitative analyses. recent experience includes leading a global team providing information delivery services for a leading institutional investment manager's fixed income desk and directing an assessment of a G-Sib'S Enterprise-Wide Bcbs 239 compliance. I am also a CFA candidate, registered for the June, 2016 level 3 exam., senior manager- financial services management consultant, manager- financial services risk management\n",
      "\n",
      " TrueCase Annotated \n",
      " After leaving a successful career in financial planning, Danielle developed her media agency what vibes your tribe, where she helps fortune 500 companies and public figures market their business through content creation, Digital publishing, consultancy, and publicity. specializing in Fintech, financial planning and professional sports her agency is well known for their ability to develop and Productize an organization's unique thought leadership into Consumable content. Danielle is also the founder of tribe builder Academy, an Online course teaching other Heart-Centered entrepreneurs the revolutionary framework that is designed to help you stay true to your vision while adapting to a rapidly changing marketplace. You can request Danielle to cover your next event by sending an Email to Danielle@Daniellesabrina.Com with your event details, and date!, after leaving a successful career in financial planning, Danielle developed her freedom based business what vibes your tribe, where she helps Purpose-Driven entrepreneurs Monetize their passion and do what they love full time through content creation and Digital publishing. She is well known for her thought leadership development, and helping her clients turn their readers into clients! Danielle is also the founder of tribe builder Academy, teaching other Heart-Centered entrepreneurs the revolutionary framework that is designed to help you stay true to your vision while adapting to a rapidly changing marketplace. You can request Danielle at your next event by sending an Email to Danielle@Daniellesabrina.Com with your event details, and date! in the meantime join my free mastermind here>> Http://On.Fb.Me/1Kq6Xsm, Www.Daniellesabrina.Com join my Group>>> Www.Facebook.Com/Groups/Gethappymakemoney Www.Facebook.Com/Gethappymakemoney Twitter @Daniellescorp Instagram Https://Instagram.Com/What_Vibes_Your_Tribe Youtube Https://Www.Youtube.Com/Channel/Ucuhfaovn-89Pe2Yulnajnhw Pinterest Https://Www.Pinterest.Com/Gethappycourse/, Www.Daniellesabrina.Com join my Group>>> Www.Facebook.Com/Groups/Gethappymakemoney Www.Facebook.Com/Gethappymakemoney Twitter @Daniellescorp Instagram Https://Instagram.Com/What_Vibes_Your_Tribe Youtube Https://Www.Youtube.Com/Channel/Ucuhfaovn-89Pe2Yulnajnhw Pinterest Https://Www.Pinterest.Com/Gethappycourse/, social media strategist, culture Creator, Speaker, brand manager, contributor @Huffpost, founder tribe builder Academy, social media strategist, culture Creator, brand manager, watch me live on Facebook, contributor @Huffpost, named Cio'S top 20 female entrepreneur to watch in 2018, Fintech, Crypto, Blockchain advisor, person brand builder, thought leadership developer, culture Creator, contributor @Huffpost, media, Digital publishing, content Creator, contributor @Huffpost, Monetization strategist& contributor@ Huffington post, business intuitive at what vibes your tribe\n",
      "\n",
      " TrueCase Annotated \n",
      " Bachelor of science( B. S) degree in\" telecommunications networks and software\" program at Politehnica University- electronics, telecommunications and information technology faculty master of science( M. S.) degree in\" management of networks and services\" program at Politehnica University- electronics, telecommunications and information technology faculty routing and switching skills Cisco Ccna( 640-802 certification) Cisco Ccnp route( 642-902 certification: implementing Cisco IP routing) Cisco Ccnp switch( 642-813 certification: implementing Cisco IP switched networks) Cisco Ccnp Tshoot( 642-832 certification: Troubleshooting and maintaining Cisco IP networks) experience in Troubleshooting and deploying networks using major L2/ L3 protocols and platforms:- routing protocols( rip, Ospf, Eigrp, Is-Is, Bgp)- data link protocols( Stp, Rstp, Mstp)- first hop redundancy protocols: Hsrp, Vrrp, Glbp- Mpls fundamentals- Cisco, nexus, Juniper, Alcatel SR platforms- Unix/ Linux- basic, master of science( M. S.) degree in\" management of networks and services\"- Politehnica University- electronics, telecommunications and information technology faculty bachelor of science( B. S) in\" telecommunications networks and software\"- Politehnica University- electronics, telecommunications and information technology faculty experience in operation and maintenance, planning and deploying large scale networks using high availability/ routing and switching Technologies in the likes of: Hsrp/ Vrrp, Ospf, Bgp, Mpls, LDP experience in working with network automation and deployment tools and scripts using Versioned repositories( git), Jinja Templates, Bash/ python scripts. Cisco certified network professional routing and switching( Ccnp routing and switching),' Politehnica' University of Bucharest graduate in 2011, electronics, telecommunications and information technology faculty master in networks and services management at the same faculty, diploma obtained in July 2013. bachelor degree in telecommunications software and networks- routing protocols( rip, Ospf, Eigrp, Is-Is, Bgp)- data link protocols( Stp, Rstp, Mstp, Cdp, Ppp)- first hop redundancy protocols: Hsrp, Vrrp, Glbp- Mpls fundamentals- Cisco, nexus, Juniper, Alcatel SR platforms- Unix/ Linux- basic- good knowledge of Microsoft office suite: word, excel, power point, Visio specialties- Cisco routing and switching- Cisco Ccna certified- Cisco Ccnp route diploma- Sdh/ Dwdm- basic level, Mihnea Tudor. network development engineer- Internet services at Amazon ... bachelor of science( B. S) degree in\" telecommunications networks and software\" program at Politehnica University- electronics ... Cisco, nexus, Juniper, Alcatel SR platforms ... network engineer at workday ... Linkedin members in Ireland:., senior network analyst at continent 8 technologies, network specialist at Asavie\n",
      "\n",
      " TrueCase Annotated \n",
      " Management consultant with Alvarez& Marsal in the corporate performance improvement practice in Dallas, Texas. with over five years of functional and consulting Hris and total rewards experience, I have participated in and lead Hris system Implementations and enhancements, M& a hr Integrations and cost Take-Outs, and compensation and benefits program design, analysis and Implementations. My career to date has been shaped by Uncovering how technology, people, and processes can be combined and leveraged to advance strategic business objectives., I am a driven and enthusiastic human resources professional with a strong understanding of Hris systems and data. having worked closely with personnel across all functions of human resources, including benefits& compensation, talent acquisition, performance management and payroll, I have developed a strong understanding of how meaningful data can drive strategic goals in these areas. I am naturally Analytical and enjoy providing new insight to benefit and improve processes., driven and enthusiastic human resources professional with a strong understanding of Hris systems and data. ability to understand and add meaning to employee data as a means to support strategic hr activity. working with systems has also positioned me to gain a strong understanding of the basic functions of hr including compensation and benefits, performance appraisal and performance measurement, employee relations, payroll and talent acquisition., human resources professional with a strong understanding of Hris and data. having worked closely with personnel across all functions of human resources, including benefits& compensation, talent acquisition, performance management and payroll, I have developed a strong understanding of how meaningful data can drive strategic goals in these areas. I am naturally Analytical and enjoy providing new insight to benefit and improve processes., I am a naturally Analytical human resources professional with a strong understanding of systems and data. My experience in working closely with personnel across all functions of human resources has provided me with a sound knowledge of hr best practices. My career to date has been characterised by the constant desire to ignite change& challenge the status quo, while using meaningful data to drive operational& strategic outcomes., Solutions-Driven professional with technical experience managing hr systems, administering and implementing total rewards initiatives, and utilizing employee data to support strategic business outcomes. Naturally Analytical with a high level of hr and business acumen. strong understanding of Hris, compensation and benefits administration, workforce ANALYTICS, hr reporting and systems management., senior analyst, Hris& total rewards at active network, LLC, Hris specialist at Rust-Oleum corporation, Hris analyst at active network, LLC\n",
      "\n",
      " TrueCase Annotated \n",
      " Www.Lisawilkins.Com specialties: visual/ Ui/ Ux design and research for Online media, mobile& Ott. business requirements in hand, my first and foremost goal is to create an experience where my work is invisible to the End-User. to demonstrate my solutions I create Wireframes, Prototypes, user tests and Iterations using sketch, or principle/ Invision/ Pixate( and soon Framer.Js), or Html/ CSS ... whichever tools I have available to get the job done. If don't know something I'll find an answer, or learn about it. I present to peers, Devs, executive staff and anyone else needing the details with equal comfort. I value teams that are unified towards a single goal, and Upfront with each other during the entire development process. Yet sometimes information Hoarders or Curmudgeons just can't be avoided, so I just power through. I've learned to accept challenging personalities because they usually stem from an insecurity, and don't we all have some sort of insecurity? basically: time is always short, get to work, play well with others., Www.Lisawilkins.Com specialties: visual/ Ui/ Ux design and research for Online media, mobile& connected TV systems. business requirements in hand, my first and foremost goal is to create an experience where my work is invisible to the End-User. to demonstrate my solutions I create Wireframes, Prototypes, user tests and Iterations using sketch, or principle/ Xcode or Html/ CSS ... whichever tools I have available to get the job done. If I'm lacking in skills, I'll learn. I present to peers, Devs, executive staff and anyone else needing the details with equal comfort. I value teams that are unified towards a single goal, and Upfront with each other during the entire development process. basically: time is always short, get to work, play well with others., Www.Lisawilkins.Com specialties: visual/ Ui/ Ux design and Front-End development for Online media, mobile, Ott, and other input devices. business requirements in hand, my first and foremost goal is to create an experience where I am invisible to the End-User. This Encapsulates the teams I look to create and work with: Https://Medium.Com/@Rhysys/No-Dickheads-A-Guide-To-Building-Happy-Healthy-And-Creative-Teams-7E9B049Fc57D I value teams that are unified towards a single goal, and Upfront with each other during the entire development process. time is always short, thus there is no room or passive aggression. The team members must be able to take and give constructive criticism., Www.Lisawilkins.Com specialties: visual/ Ui/ Ux design and research for Online media, mobile& connected TV systems. create an experience where my work is invisible to the End-User. I value teams that are unified towards unifying goals, and Upfront with each other during the entire development process. time is always short, get to work, play well with others., SR. Ux designer at NBC news\n",
      "\n",
      " TrueCase Annotated \n",
      " I work with Ecommerce partners in leading the strategic planning, implementation, and tactical execution of their business plans for products across all Amazon business segments and other third party Marketplaces( Wal-Mart, Ebay, etc). I work with, and report directly to key decision makers to set objectives and take full ownership of initiatives. I am responsible for channel growth strategies and achieving revenue and margin goals. I am a certified Google& Amazon partner and as a Digital marketer, my portfolio includes companies like Upglobal, Leesa Mattress, urban accents, outward hound, and the Smithsonian Channel. I have worked in different capacities supporting Digital marketing efforts for startups and businesses of all sizes. I am Metrics driven and a proponent of the lean ANALYTICS system of marketing. check out what I've been up to Https://Medium.Com/@Marketingchimp1, I am a us Navy veteran; I was honorably discharged from the Navy in 2007. After getting out of the Navy, I moved to Connecticut and worked full time at a power plant as an operator while going to school full time. Last year, I complete my Bachelor'S degree in Entrepreneurship and small business management from Quinnipiac University. My role at the power plant evolved from operator, to procurement specialist and manager. I am responsible for all of the procurement responsibilities on site including scheduling work, terms& conditions with vendors and the tracking, replenishment and usage of all items. We currently use the Maximo production system to for inventory management, work delegation and asset tracking, I am a PPC manager with Bobsled marketing and responsible for the management and growth of client accounts. I am a certified Google partner and as a Digital marketer, my portfolio includes companies like Upglobal, Onewaylimo and the Smithsonian Channel. I have worked in different capacities supporting Digital marketing efforts for startups and businesses of all sizes. I am Metrics driven and a proponent of the lean ANALYTICS system of marketing. check out what I've been up to Https://Medium.Com/@Marketingchimp1, I am an entrepreneur& focus my efforts on creative Digital marketing strategies& experiences for small to mid size businesses. My expertise involves interrelated disciplines including Seo, conversion optimization, content strategy, social media marketing and paid search management. My focus is on first page Google results, roi and value added for dollars invested. I place a strong emphasis and effort on quality, customer service and availability., may 22, 2015 ... after getting out of the Navy, I moved to Connecticut and worked full time ... I worked with will and his fellow community leaders in Stamford, ct ..., director of Digital marketing at Checkmate creations, Waterbury, ct at operations specialist, PPC manager at Bobsled marketing\n"
     ]
    }
   ],
   "source": [
    "for ind in summary.index:\n",
    "    summary[\"summaries\"][ind][0] = truecase.get_true_case(summary[\"summaries\"][ind][0])\n",
    "    print(\"\\n TrueCase Annotated \\n\", summary[\"summaries\"][ind][0])"
   ]
  },
  {
   "cell_type": "code",
   "execution_count": 26,
   "metadata": {},
   "outputs": [],
   "source": [
    "\n",
    "def dictionary_with_title_description(df):\n",
    "    company_names_description = {}\n",
    "    \n",
    "    for i in range(0, len(df)):\n",
    "        \n",
    "        doc = nlp(df.loc[i, \"summaries\"][0])\n",
    "        \n",
    "        for X in doc.ents:\n",
    "            if X.label_ == 'ORG':\n",
    "                company_names_description.setdefault(df.loc[i, \"id\"], [])\n",
    "                company_names_description[df.loc[i, \"id\"]].append(X.text)\n",
    "                \n",
    "    print(\"Company names extracted from Summaries : \\n\",company_names_description)\n",
    "\n",
    "    return company_names_description"
   ]
  },
  {
   "cell_type": "code",
   "execution_count": 27,
   "metadata": {
    "colab": {
     "base_uri": "https://localhost:8080/"
    },
    "id": "fmQS4ClKI5eK",
    "outputId": "6d7a83b3-9dd5-47dc-8360-9df8415b8037"
   },
   "outputs": [
    {
     "name": "stdout",
     "output_type": "stream",
     "text": [
      "Company names extracted from Summaries : \n",
      " {'OZO7g2R5RUt6cSSaRvriTw_0000': ['Governance', 'Ics', 'Encryption/ Cryptography', 'Outsourcing', 'Pre-Screening', \"Dpo'S\", 'Encryption/ Cryptography', 'Industries', 'Outsourcing', 'Pre-Screening', 'Encryption/ Cryptography', 'Industries', 'Outsourcing', 'Pre-Screening', 'Encryption/ Cryptography', 'Industries', 'Outsourcing', 'Pre-Screening', 'Digital', 'Governance', 'Encryption/ Cryptography', 'Outsourcing', 'Pre-Screening', 'TDS Cybersecurity', 'Cybersecurity', 'Cybersecurity', 'Trinity', 'United', 'Trinity Digital'], 'sQDmPUvJBPi0Sqv0lSESbQ_0000': ['Tiaa Bank', 'Everbank', 'Tiaa Bank', 'Everbank', 'STE 109 Coral Gables', 'FHA', 'Home-Buyer', 'FHA', 'Home-Buyer', 'Everbank/ Nmls', 'American Bancshares'], 'fnCCUnbQkZEB0WAyzp-syQ_0000': ['CNS', 'Analytical', 'Ich-Gcp E6', 'CFR', 'Edc', 'Cross-Functional', 'Linkedin', 'CNS', 'Analytical', 'Ich-Gcp E6', 'CFR', 'Edc', 'Cross-Functional', 'Linkedin', 'Rutgers University', 'Neuroscience', 'Research-Based', 'Ich-Gcp', 'Linkedin', 'MGMT', 'CNS', 'Rutgers', 'Neuroscience', 'Icg-Gcp E6', 'MGMT', 'MGMT', 'Cross-Functional', 'Linkedin', 'Rutgers University', 'Neuroscience', 'Research-Based', 'Rutgers University', 'Neuroscience', 'Internship', 'Rutgers', 'Rutgers', 'Accenture', 'Honda R& D America', 'CNS'], 'b4KHSrsYZcamh6oXJWld0g_0000': ['Java', 'COBOL', 'Cics', 'Tso', 'Changeman', 'Control-M', 'IBM', 'Altamira', 'Module', 'Module', 'Self-Organization', 'Java', 'COBOL', 'Cics', 'Tso', 'Changeman', 'Control-M', 'IBM', 'Altamira', 'Module', 'Module', 'Self-Organization', 'Java', 'COBOL', 'Cics', 'Tso', 'Changeman', 'Control-M', 'IBM', 'Altamira', 'Module', 'Module', 'Self-Organization', 'COBOL', 'Cics', 'Tso', 'Changeman', 'Control-M', 'IBM', 'Altamira', 'Module', 'Module', 'Self-Organization', 'COBOL', 'Cics', 'Tso', 'Changeman', 'Control-M', 'IBM', 'Altamira', 'Module', 'Module', 'Self-Organization'], '4gvW8kGrGpjCRatQY7D2UA_0000': ['Developement', 'Developement', 'Developement', 'Verizon Wireless', 'Verizon Wireless'], 'VfXZF6zM1qN-4QcvltAM3Q_0000': ['Aligning', 'Competencies', 'Conf-Irm', 'Conf-Irm', 'Aligning', 'Competencies', 'Conf-Irm', 'Conf-Irm', 'Conf-Irm', 'Conf-Irm', 'Aligning', 'Conf-Irm', 'Conf-Irm', 'Aligning', 'Conf-Irm', 'Conf-Irm', 'Conf-Irm', 'Cisco systems', 'Canada Co.'], 'wGX7QmVHBijxQrH-U3ncbA_0000': ['Steelworks', 'Leea', 'Multi-Cultural', 'Multi-Cultural', 'Leea', 'Leea', 'Multi-Cultural', 'Multi-Cultural', 'Multi-Cultural', 'Brookfield Multiplex', 'Multiplex'], 'dw-hKLsrQSEUChJDGhWv2g_0000': ['Ultra', 'Analytical&', 'Stage-Gate', 'Ultra', 'Analytical&', 'Stage-Gate', 'Ultra', 'Analytical&', 'Stage-Gate', 'Ultra', 'Analytical&', 'Stage-Gate', 'Scott', 'Trelleborg', 'Michelin'], 'fQ2ZZYOxKpdNYTC6TLFObA_0000': ['Angularjs 1', 'Reactjs', 'Phonegap', 'Javascript', 'Angularjs 1', 'Jquery', 'Xcode', 'Android', 'Iphone/ Ipad Apps', 'environments.-', 'Angularjs 1', 'Reactjs', 'Phonegap', 'Javascript', 'Angularjs 1', 'Jquery', 'Xcode', 'Android', 'Iphone/ Ipad Apps', 'environments.-', 'Phonegap', 'Reactjs', 'Javascript', 'Jquery', 'Xcode', 'Android', 'Iphone/ Ipad Apps', 'environments.-', 'Javascript', 'Jquery', 'Xcode', 'Iphone/ Ipad Apps', 'environments.-', 'Iphone/ Ipad Apps', 'environments.-', 'SR', 'Mobiloitte', 'Infosys'], '5iVHVfXphUmeogTeimejTw_0000': ['Impacting Healthcare', 'Ecosystem of Community-Based', 'Digital', 'Solera', 'Digital', 'Solera', 'Ecosystem of Curated', 'Clearinghouse', 'Digital', 'Impacting Healthcare', 'Ecosystem of Community-Based', 'Digital', 'Solera', 'Digital', 'Solera', 'Ecosystem of Curated', 'Clearinghouse', 'Digital', 'Healthcare', 'Healthcare', 'Solera', 'Pre-Integrated', 'Digital Therapeutics', 'Solera', 'Impacting Healthcare', 'Non-Medical', 'Health-Related', 'Solera', 'Digital', 'Solera', 'Industry-Leading', 'Solera', 'Digital', 'Healthcare', 'Solera', 'Digital Therapeutics', '& Ceo', 'Solera', 'Solera'], 'oEArApI0BryPgwBwOybKxw_0000': ['Digital', 'Zigbee', 'Lte', 'Cat-M', 'Digital', 'IP', 'Iec 60601-1', 'ISO 13485', 'FCC', 'Ce and Ul', 'CAD', 'Digital', 'Zigbee', 'Lte', 'FCC', 'Ce, IC, Ul', 'Iec 60601-1', 'Iec 60601', 'FDA', 'FDA', 'ISO 9001:2015', 'ISO 13485', 'Npi', 'EMS', 'Qty', 'CAD', 'Allegro', 'Digital', 'Digital', 'IP', 'Iec 60601-1', 'ISO 13485', 'CAD', 'Digital', 'Digital', 'IP', 'Iec 60601-1', 'ISO 13485', 'CAD', 'Digital', 'Digital', 'IP', 'Validationgoal', 'CAD', 'Volansys Technologies pvt Ltd', 'Azoi Inc', 'Volansys Technologies'], '0YjTZXpDZyt6BryJBxYVnQ_0000': ['Iterative', 'Iterative', 'Personalization, Ecommerce', 'Multivariate', 'Multivariate', 'Nielsen', 'Nielsen'], 'HBUj70GPulSw8shBTKZh-A_0000': ['retail)-', 'Shorex', 'Cococay', 'Labadee Grev+', 'I. E. Monaco Grand Prix', 'I. E. Monaco Grand Prix', 'International', 'Royal Caribbean', 'International', 'Royal Caribbean', 'International', 'Royal Caribbean', 'International', 'Royal Caribbean', 'International', 'Royal Caribbean', 'Pre-Cruise', 'Royal Caribbean', 'SR Ae', 'Royal Caribbean International'], 'oPVWrLTkRwySuVByvgD7YQ_0000': ['Linkiesta', \"L'Opinione\", 'Linkiesta', \"L'Opinione\", 'CSR', 'Linkiesta', \"L'Opinione\", 'Businesss', 'House&', 'Linkiesta', \"L'Opinione\", 'Linkiesta', \"L'Opinione\", \"L'Opinione\", 'Radiotelevisione Italiana'], 'GJLF2mD6gDlgYu8qmBljng_0000': ['Analytics-Financial', 'Accenture', 'Kpmg', 'Icici Bank', 'Experian', 'Econometrics', 'Accenture', 'KPMG', 'Icici Bank', 'Experian', 'Econometrics', 'Analytics-Financial', 'Accenture Digital', 'Kpmg', 'Icici Bank', 'Experian', 'Econometrics', 'Kpmg', 'Icici Bank', 'Experian', 'Econometrics', 'Accenture', 'Accenture'], '-sQNuO1antttcEmOWs-o5Q_0000': ['Fact-Based', 'Fact-Based', 'Fact-Based', 'Verdeco', 'Repet Inc.', 'Pacific', 'Bank'], 'gBOCU6AP5kiTqnAsBjH1lQ_0000': ['Impactful Digital', 'Multi-Tasking', 'Cross-Functional', 'Testimonials/', 'Impactful Digital', 'Multi-Tasking', 'Cross-Functional', 'Digital', 'Ui', 'Testimonials/', 'Impactful Digital', 'Multi-Tasking', 'Cross-Functional', 'Digital', 'Ui', 'Testimonials/', 'Tech', 'Digital'], 'r-cTUKsWGhVxwdge82Yu-w_0000': ['University', 'Pre-Sales/ Post-Sales', 'Architecting', '& Hyper-Converged', 'University', 'Pre-Sales/ Post-Sales', 'Architecting', '& Hyper-Converged', 'University', 'Pre-Sales/ Post-Sales', 'Architecting', 'Emc Certfied San', 'Vmware', 'University', 'Pre-Sales/ Post-Sales', '& Hyper-Converged', 'Pre-Sales/ Post-Sales', '& Hyper-Converged', 'Sanovi Technologies', 'Governance', 'Thomson Reuters', 'Sanovi', 'IBM'], 'gkTKXZqBImbZp26gNPYFEQ_0000': ['Everchanging Wireless', 'the Un-Carrier', 'Everchanging Wireless', 'Everchanging Wireless', 'Everchanging Wireless', 'Everchanging Wireless', 'Everchanging Wireless', 'T-Mobile'], 'GBHcIuBLYtF5V5mmtCMA1Q_0000': ['Data-Driven', 'Digital', 'Multi-Channel', 'Multi-Industry', 'Digital', 'Adobe Digi', 'Congress', 'Cmo Asia', 'Blockchain', 'Technologies', 'Multi-Industry', 'Multi-Location', 'Multi-Tools', 'Multi-Channel', 'Multi-Industry', 'Multi-Industry', 'Multi-Channel', 'Multi-Industry', 'Digital', 'Bry-Air( Asia'], 'SJxstPFCfBReghsjZzFooQ_0000': ['Start-Ups', 'Start-Ups', 'Start-Ups', 'Start-Ups', 'Cfo', 'Ift International', 'CB&'], 'MTQYW6hgZZcNlFTWa6ltPg_0000': ['Kraft', 'Grainger, SR director'], 'LuQ-5ItCmlX1ctwCCeLRTw_0000': ['Technologist', 'Digital', 'Rollout', 'Governance', 'Cross-Functional', 'Technologist', 'Analytical', 'Rollout', 'Governance', 'Analytical', 'Rollout', 'Governance', 'Rollout', 'Digital', 'Analytical', 'Aetna', 'Technologist', 'Aetna', 'Technologist', 'Technologist', 'Technologist', 'Digital'], 'eyqZLYXmbI7ukANzz8zgeA_0000': ['Finance', 'Microsoft', 'Finance', 'Microsoft', 'Finance', 'Microsoft', 'Cloud-Based', 'Cloud-Based', 'Digital', 'Finance', 'Digital', 'Finance', 'Hewlett-Packard'], 'ZgQQyGoSjvLRPSdzE2uSAw_0000': ['Job-Costing', 'Subcontractor', 'DOT', 'Msha', 'Job-Costing', 'Subcontractor', 'DOT', 'DOT', 'Job-Costing', 'Subcontractor', 'DOT', 'Eide Bailly Llp'], 'ZtzT0811R-BIyA6wT1qtlQ_0000': ['Renaissance-Man', 'Multi-Disciplinary', 'Multi-Disciplinary', 'Gallatin'], 'llvcxHwBgTVIw3PgJawDwg_0000': ['Re-Branded', 'Digital', 'Digital', 'Tech Academy', 'Ncaa', 'Adams state university', 'the San Luis Valley'], 'avogC0yF9sNEWxARekacUw_0000': ['GE', 'Staad', 'ACI', 'IBC', 'Ubc', 'Beam', 'GE', 'GE', 'SME&', 'GE', 'Vadodara Toastmasters', 'SR', 'Bridgei 2I ANALYTICS', 'Hewlett Packard'], 'q3PVYm0QBQYvDAQ1SU2jTQ_0000': ['Amazon', 'Salesforce', 'Vodafone', 'BA Hons', 'Vodafone', 'Vodafone', 'Amazon', 'Salesforce', 'Peoplesoft', 'Uat', 'Vodafone', 'Prague International', 'Amazon'], '9ChJeoLQdcnqKSzQ-afBZw_0000': ['Sourcing', 'Sourcing', 'Sourcing', 'Sourcing', 'Corp Australia', 'Corp'], '7QUpBXxyJ8Qd7YrAnMi8CA_0000': ['pvt Ltd.', 'pvt Ltd.', 'Channel', 'Upe', 'Odyssey Microtrends pvt Ltd.', 'Uttar Pradesh Rajarshi Tandon', 'Asst', 'pvt Ltd'], 'BC7Rbgj4cojc9skf-qDycg_0000': ['Multi-Unit', 'LMS', 'Multi-Unit', 'Multi-Unit', 'LMS', 'L& D/', 'Multi-Unit', 'Multi-Unit', 'LMS', 'Multi-Unit', 'Multi-Unit', 'LMS', 'Trainer/'], 'udzSvEueVZeZraRcjx0Uvw_0000': ['Catia', 'CNC', 'Spar', 'Boeing', 'Spacex', 'Lockheedmartin,', 'Mastercam', 'Topsolid', 'Offline Catia NC', 'Shop-Data', 'Catia V5 V6', 'Nx', 'IMS', 'Vb', 'Assembly', 'Spar', 'Boeing', 'Spacex', 'Lockheedmartin,', 'Offline Catia NC', 'Shop-Data', 'Catia V5 V6', 'Nx', 'IMS', 'Vb', 'Assembly', 'Spar', 'Boeing', 'Spacex', 'Lockheedmartin,', 'Catia V5 V612', 'Assembly', 'Mazak 5', 'Hmc', 'Fidia 5 axis', 'Cincinnati Gantry Millpost', 'Mazak 5', 'Hmc', 'Catia', 'Nx NC', 'Catia& Nx', 'Javelin'], 'AK2Fej4pLn0nQdYA8An8WA_0000': ['Customer-Centric', 'Database/', 'Cross-Functional', 'Competencies', 'Union', 'Healthcare', 'Cross-Functional', 'Competencies', 'Suppport at', 'Langley Federal', 'Union', 'Langley Federal', 'Langley Federal'], 'F02C0F160tJQEJgoshdN8w_0000': ['Defibrillators', 'Healthcare', 'Aed', 'Ppe', 'Pre-Hospital-Emergency-Safety', 'Disposables', 'EMS', 'BNI-', 'Defibrillators', 'Disposables', 'Healthcare', 'Aed', 'Ppe', 'Pre-Hospital-Emergency-Safety', 'Disposables', 'EMS', 'Defibrillators', 'Healthcare', 'Aed', 'Ppe', 'Pre-Hospital-Emergency-Safety', 'Disposables', 'EMS', 'Aed', 'Ppe', 'Pre-Hospital-Emergency', 'Disposables', 'American heart Association', 'Executive-Ems', 'LLC', 'LLC'], '-gje06EDSxsMmw8WF1hKtA_0000': ['Healthcare', 'Healthcare', 'Healthcare', 'Healthcare', 'Healthcare', 'Healthcare', 'Healthcare', 'Healthcare'], '0MA7aw54K2mBYnPhOmAloA_0000': ['Anitab', 'Non-Technical', 'Anitab', 'Non-Technical', 'Intel', 'Non-Technical', 'Intel', 'Non-Technical', 'Intel', 'Hpc', 'Intel'], '98WOL46AL0nigoZx2Dy2-Q_0000': ['Aca', 'Medicaid/', 'Aca', 'Medicaid/', 'Aca', 'Aca', 'Endicott', 'Xerox/ Xerox', 'Conduent', 'Xerox'], 'oBpwX7oc0W-Z9DYr0t01Yg_0000': ['Self-Improvement', 'Process-Oriented', 'Data', 'CAD', 'Dvp& R', 'Electro-Mechanical', 'Self-Improvement', 'CAD', 'Dfx, Fmea', 'Dvp& R', 'Electro-Mechanical', 'Self-Improvement', 'CAD', 'Electro-Mechanical', 'Keurig', 'Keurig', 'Keurig', 'Keurig', 'Reliability', 'Keurig', 'Reliability', 'Keurig', 'Keurig'], 'Iz5JIx9IinrfRTbZKgBZLw_0000': ['Bureau of Canada', 'IBC', 'IBC', 'IBC', 'Chenda', 'the University of Guelph-Humber', 'Tjx Canada', 'Bureau of Canada', 'Canadian Cambodian Association', 'Chenda', 'Chenda', 'Chenda', 'the University of Guelph-Humber', 'Bureau of Canada', 'Tjx Canada', 'Chenda', 'Chenda', 'Chenda', 'Bureau of Canada', 'Chenda', 'Chenda'], 'owibSjF2u-sTkdaBgl59xA_0000': ['Northrop GRUMMAN corporation'], 'WBJ7usAgsvpHWleF7T4liw_0000': ['Herbal', 'Trainer', 'Picklifeinc', 'Theater', 'Models/', 'Herbal', 'Trainer', 'Picklifeinc', 'Theater', 'Models/', 'Models/', 'Ferris'], 'tbDgkk1SsTToUedHcsllYA_0000': ['Recruiters of Detroit& Farmington hills', 'Herreshoff cat Ketch', '& Mizzen', 'Oak interiors& 1/2 Wishbone Teak', 'Recruiters of Detroit& Farmington hills', 'Herreshoff cat Ketch', '& Mizzen', 'Oak interiors& 1/2 Wishbone Teak', 'Recruiters of Detroit& Farmington hills', 'Herreshoff cat Ketch', '& Mizzen', 'Oak interiors& 1/2 Wishbone Teak', 'Linkedin', 'Linkedin', 'Recruiters of Detroit'], 'DjUBKckFq6a9naiAMl6oeg_0000': ['Bezig', 'Digitale)', 'Onze', 'Online/ Digital', 'Bezig', 'Digitale)', 'Onze', 'Online/ Digital', 'Binnen Pwc en Houd Ik', 'Van Ruim', 'Bezig', 'Digitale)', 'Onze'], 'cTW7Pqtt7bKT-vR46j0zvA_0000': ['Microelectronics', 'Synopsys', 'ICC 2', 'Shell', 'GPU', 'Microelectronics', 'Synopsys', 'ICC 2', 'Shell', 'GPU', 'Microelectronics', 'Synopsys', 'ICC 2', 'Redhawk', 'Shell', 'Microelectronics', 'Vlsi/ Asic Digital IC', 'Finfet', 'Synopsys', 'ICC', 'Star-Rc', 'Shell', 'Signoff', 'Microelectronics', 'Tsmc Finfet', 'Synopsys', 'ICC 2', 'Redhawk', 'Shell', 'Tcl/ TK', 'Signoff', 'Smartplay Technologies', 'Visvesvaraya National Institute', 'Smartplay Technologies', 'SR', 'Qualcomm'], '04dK5T2y78a27gewYZxfEA_0000': ['Houdini', 'Modelling, Renderman', 'Pftrack', 'Adobe', 'Houdini', 'Modelling, Renderman', 'Pftrack', 'Adobe', 'Houdini', 'Modelling, Renderman', 'Pftrack', 'Adobe', 'Modelling, Renderman', 'Pftrack', 'Adobe', 'Fx', 'Fx', 'Sony', 'Imageworks', 'SR', 'Sony'], 'sZtUwywexqP7-9UH4LxZvg_0000': ['SR', 'T-Mobile', 'SR', 'SR', 'SR', 'Pacific Northwest', 'Council', '& Corpdev'], 'u8BBNB4He8NQMMyWTUfjQA_0000': ['Lawrence University', 'Macroeconomics', 'Lawrence University', 'Appleton', 'LLC', 'Lawrence University', 'Lawrence University', 'Lawrence University', 'Admitad GmbH', 'Appleton', 'LLC'], 'grpB85GrZaIcq-HRhcNj6Q_0000': ['Dmz', 'Security Technologies', 'Sonicwall Gms', 'Nessus', 'Splunk', 'Digital Gaurdian', 'Meraki', 'DOT', 'Cisco Routers', 'Ipsec Vpn&', 'Vpn', 'IMC', 'Solarwinds', 'Mrtg, Prtg', 'Visio', 'Vpn& Bgp', 'Dmz', 'Security Technologies', 'Dell Sonicwall Gms', 'Nessus', 'DOT', 'Cisco Routers', 'Fwsm/ Checkpoint/ Juniper/ Dell Sonicwall/ Fortigate', 'Ipsec Vpn&', 'Vpn', 'IMC', 'Solarwinds', 'Mrtg, Prtg', 'Visio', 'Vpn& Bgp', 'Dmz', 'Centers', 'Cisco Routers', 'Cisco ASA/ IDS/', 'Fwsm/ Checkpoint/ Juniper/ Dell Sonicwall/ Fortigate', 'Ipsec Vpn&', 'Vpn', 'IMC', 'Solarwinds', 'Mrtg, Prtg', 'Toolssecurity Technologies', 'Dell Sonicwall Gms', 'Nessus', 'DOT', 'Visio', 'Vpn& Bgp', '& PCI', 'Splunk', 'Sitel'], 'uWBB4Pvsoy2jFD-7tGKUbA_0000': ['SME', 'SME', 'Aswell'], 'G7Z5nj3ITGvca2UMnin90A_0000': ['Vlocity Enablement', 'Vlocity Ux', 'CPQ', 'Vlocity', 'Salesforce', 'Appexchange', 'Vlocity', 'Healthcare', 'Disa', 'North America Federal', 'Vlocity', 'Salesforce', 'Digital', 'Digital', 'Functionality', 'Com/Company/Values', 'Oracle', 'Oracle', 'Oracle', 'Oracle', 'Oracle', 'SR', 'Oracle', 'Oracle', 'SR', 'Oracle', 'Vlocity', 'Oracle', 'Oracle, SR', 'Oracle', 'Vlocity'], 'dnImmWK9SCO2YwCe96ojSQ_0000': ['E& P', '2d& 3D', 'E& P', '2d& 3D', 'E& P', '2d& 3D', 'E& P', '2d& 3D', 'Baker Hughes', 'Geophysicist', 'Geophysicist at Jb Geosciences'], 'zPnnWGWHb2gSYnd98GKaag_0000': ['Unicorn Wrangler&', 'Hewlett Packard', 'Unicorn Wrangler&', 'Microsoft'], 'jytsaXFxY7tX5CGXa7OqsQ_0000': ['Tech', 'the University of Rhode Island', 'the University of Rhode Island', 'the University of Rhode Island', 'the University of Rhode Island', 'the University of Rhode Island', 'the University of Rhode Island', 'Sdl', '& ANALYTICS'], 'Gq64EyBzfmfUzeOUMJfqQg_0000': ['Holisticmummy', 'Wordpress', 'Bi-Lingual', 'Www', 'Skype', 'Bi-Lingual', 'Www', 'Module', 'Celticsoulessence', 'Www', 'Celticsoulesssence', 'Doterra'], 'GggwVfCn54dABEqkYSDN0A_0000': ['Organisational', 'Organisational', 'BTCI', 'Organisational', 'Allscripts Healthcare', 'Barclays'], 'lwOeVYCDpGjm1pbFuFM63A_0000': ['Itti blank|+', 'Re-Located', 'II', 'II Inc.', 'Itti blank|+', 'Re-Located', 'II', 'II Inc.', 'II Inc.', 'Itti blank|+', 'Time-Line', 'Re-Located', 'II', 'II Inc.', 'II Inc.', 'II Inc.', 'II', 'DBA', 'II Inc.', 'II', 'DBA', 'Cureiosities'], 'H5H6VtrfHFWbh5sBTx2RMA_0000': ['Finance', 'Erp', 'Frameworks', 'PCI', 'Finance', 'Erp', 'Frameworks', 'PCI', 'Finance', 'Finance'], 'xi8skZhrJpM4GVvKfqmuiQ_0000': ['Icandydesigns', 'Nordstrom', 'Nordstrom', 'Nordstrom', 'Icandydesigns', 'Nordstrom', 'Nordstrom', 'Nordstrom', 'Icandydesigns', 'Turner', 'Nordstrom', 'Fnl', 'Nordstrom'], '9RGhrb4-E3ZF0II7ouKrBw_0000': ['Ideation', 'Pro-Bono', 'Digital', 'Pro-Bono', 'Boggle Player', 'Pro-Bono', 'Boggle Player'], 'oOTj93pzNfXgOir-roRvOQ_0000': ['Recruiters', 'Qa', 'Sharepoint', 'Biztalk&', 'Recruiters', 'Qa', 'Sharepoint', 'Biztalk&', 'Recruiters', 'Qa', 'Sharepoint', 'Biztalk&', 'Vdart', 'Vdart Technologies', 'Vdart Inc', 'Vdart Inc'], '2VQvMD9Y3n-QAXQuAre42Q_0000': ['West Texas a& M University', 'Horticulture', 'Rutgers', 'Amazon', 'Horticultural', 'Digital', 'Multi-Channel', 'West Texas a& M University', 'Horticulture', 'Rutgers', 'Amazon', 'Digital', 'Multi-Channel', 'West Texas a& M University', 'Horticulture', 'Amazon', 'Horticultural', 'Digital', 'Multi-Channel', 'Juggles', 'Princeton University', 'Amazon', 'West Texas a& M University', 'Digital', 'Multi-Channel', 'Amazon', 'Horticultural', 'Horticultural/', 'Horticultural'], '4Sefu5D2I9vJ3rCksePQaQ_0000': ['IP', 'Omni-Channel', 'Digital', 'Video', 'Client-Facing', 'SR Dir Video', 'Digital'], 'h5n8IuHP9cjm5NB20yJKKA_0000': ['Ff', 'Ff', 'Ff', 'Ff', 'Goldman Sachs', 'Nasdaq', 'Indiegogo', 'Skycatch', 'Bottlenose', 'Ff', 'Technology-Enabled', 'Indiegogo', 'Unikey', 'Skycatch', 'Pebblepost', 'Owlet', 'NYU Tandon school', \"Engineering'S\", 'Goldman Sachs', 'Ff', 'Technology-Enabled', 'Cloud-Based', 'Uavs', 'Indiegogo', 'Unikey', 'Socure', 'Skycatch', 'Bottlenose', 'Goldman Sachs', 'Goldman Sachs', 'Finance', 'Ff', 'Ff', 'Estify'], 'Rs34efbZ0OFyodTxqIczZA_0000': ['Linkedin', 'Micro', 'Hfc', 'CAD', 'Hfc', 'Jacobs', 'Linkedin', 'Micro', 'Hfc', 'CAD', 'Hfc', 'Linkedin', 'Micro', 'Hfc', 'CAD', 'Hfc', 'Inc'], 'XDp0qW4NNrPkCOWBOD3Efg_0000': ['Digital', 'Treasury', '4.Workforce', 'TELECOMS', 'Sharepoint', 'Erp', 'Pki', 'DC& Dr', 'Digital', 'Treasury', '4.Workforce', 'TELECOMS', 'Sharepoint', 'Erp', 'Pki', 'DC& Dr', 'Treasury', 'TELECOMS', 'Sharepoint', 'Erp', 'Pki', 'DC& Dr', 'Asia Pacific', 'Infotech', 'TELECOMS', 'Wipro', 'Asia Pacific', 'Infotech', 'Infotech'], 'fypHOrK61HY-XC0RAf-Y5Q_0000': ['Opito level', 'Ccnsg', 'Leea', 'Loler', 'Oertm', 'Hda-Ert Nopega Hlo Nopega', '& Guilds', 'Ccnsg', 'Leea', 'Loler', 'Oertm', 'Hda-Ert Nopega Hlo Nopega', '& Guilds', 'Opito level', 'Banksman/ Slinger', 'Ccnsg', 'Leea', 'Loler', 'Oertm', 'Norwegian Maritime', '& Guilds', 'Opito', 'Iosh-Working', 'Ccnsg', 'Leea', 'Loler', 'Hda/ Ert/ Frc&', 'Coxswain', 'Apave Ghana'], 't7aOtStFnu3uo315iAAr-Q_0000': ['Dev', 'Oracle Database and Erp', 'SQL', 'Nist', 'ISO 27001', 'Saas', 'environments.-', 'Dev', 'Oracle Database and Erp', 'Atlassian Jira& Confluence', 'Salesforce', 'SQL', 'Nist', 'CIS', 'Disa-Stig', 'ISO 27001', 'Saas', 'environments.-', 'Dev', 'Oracle Database and Erp', 'Atlassian Jira& Confluence', 'Salesforce', 'SQL', 'Nist', 'CIS', 'Disa-Stig', 'ISO 27001', 'Facebook'], 'TqNhY7OoUReJHxLQyjmKjQ_0000': ['ETL', 'ETL', 'Baxter Inc.', 'Royal Bank of Scotland', 'ETL', 'ETL', 'Baxter Inc.', 'Royal Bank of Scotland', 'ETL', 'ETL', 'Baxter Inc.', 'Royal Bank of Scotland', 'Techno-Functional&', 'ETL', 'Healthcare Domain', 'ETL', 'ETL'], 'oJgQgxxXMeemR-qKaQ09pw_0000': ['Mikkeller San Diego', 'GM'], 'D2-V0HxR1Fuy8YftZIvjQA_0000': ['Azure', 'Aws', 'Ccna, Cne', 'Digital', 'Noc', 'IMS', 'worth>$ 100M', 'Azure', 'Aws', 'Ccna, Cne', 'Noc', 'IMS', 'worth>$ 100M', 'Ccna, Cne', 'Noc', 'IMS', 'worth>$ 100M'], '7Yshf9lVrc-ioCYSViBU6g_0000': ['Radiocommunications', 'Lifecycle', 'Latin America& Caribbean', 'Latin America& Caribbean', 'Radiocommunications', 'Latin America& Caribbean', 'Harris', 'Harris', 'Pmc'], 'lhOzBE79BvYncvzQ2h30tg_0000': ['Bank', 'Bank/ PNC', 'Treasury', 'Treasury', 'Implementations', 'Treasury', 'Treasury', 'Treasury', 'Treasury', 'the Southwest Ohio Association', 'Bank/ PNC', 'Implementations', 'Treasury', 'Treasury', 'Dayton', 'Bank/ PNC', 'Implementations', 'Treasury', 'Treasury', 'Bank/ PNC', 'Implementations', 'Treasury', '& Treasury', 'Treasury', 'Bank'], 'JCq2jVWf36ekzz96DLME9g_0000': ['Digital', 'Influencers', 'Empathetic Digital', 'Multi-Stage', 'Debugged Bootstrap', 'Empathetic Digital', 'Multi-Stage', 'Debugged Bootstrap', 'Multi-Stage', 'Wordpress', 'Debugged Bootstrap', 'Digital', 'the Co-Founders', 'A022 Digital', 'Tech Co-Founder @Alumnispaces', 'Co-Founder', 'Co-Founder'], 'tth0oBANkcyQgJRn1q6LBg_0000': ['Multi-Tasking', 'Online/', 'Multi-Tasking', 'Online/', 'Multi-Tasking', 'Online/', 'Digital', 'Activewin media', 'Activewin'], 'qJqT0aT-Fb0NbZYj4p1wLg_0000': ['Mentorship/', '& Re-Positioning', 'Xerox', '& Re-Positioning', 'Pro-Active', 'Analytical', '& Re-Positioning', 'Xerox Canada Ltd.', 'Xerox'], 'aezg7K7YHjEMLWdLmrB9zw_0000': ['Ato', 'Treasury', 'Registry', 'Irise', 'Balsamic& Html/', 'Ato', 'Treasury', 'Registry', 'Irise', 'Balsamic& Html/', 'GST', 'Registry', 'GST', 'Registry', 'Irise', 'ADP'], 'JPreefEPLBGnOa9kOjb7pg_0000': ['custodian|', 'Iconic', 'Johnson& Johnson', 'Procter& Gamble', 'Iconic', 'Johnson& Johnson', 'Procter& Gamble', 'Iconic', 'Johnson& Johnson', 'Procter& Gamble', 'Johnson& Johnson', 'Johnson& Johnson'], 'W-5G5QIDwO4Bf0TDwAfwMw_0000': ['& Architecting', 'Aws, Azure', 'Li Digital', 'HCL Technologies', 'Nextag', 'Micro-Service', 'Drools', 'ESB', 'Anypoint', 'HCL Technologies', 'Apac regions.-', 'Nextag', 'Micro-Service', 'Drools', 'ESB', 'Anypoint', 'Micro-Service', 'Drools', 'ESB', 'Aws', 'Anypoint', 'HCL Technologies', 'Nextag', 'HCL Technologies', 'Indian Institute', 'HCL Technologies'], 'aJP7XfzHBqMWTNSoOJZeuA_0000': ['Mercedes-Benz HK Ltd.', 'the University of Ireland', 'Mercedes-Benz HK Ltd.', 'the University of Ireland', 'Mercedes-Benz HK Ltd.', 'the University of Ireland', 'HK'], 'VB5eheB-bmUish86Rt4-CA_0000': ['Grenoble Ecole de', 'Finance', 'Philanthropy', 'the Interfraternity Council', 'Corporation', 'Columbia', 'ADP', 'ADP', 'Straube Associates', 'Grenoble Ecole de', 'NU', 'Sigma Pi', 'NU', 'Straube Associates'], 'jzoGMqvflaw31IOzBFkcEA_0000': ['Gsgs', 'Citco', 'AML', \"Western Union'\", 'AML', 'Moneta International', 'AML', 'AML', 'Western Union', 'Gsgs', 'Citco', 'AML', 'Gsi', 'Western Union', 'Moneta International UAB'], 'iKco7NV9OC3Ext5FAy2sxw_0000': ['Impactful', 'Organisational', 'Multidisciplinary', 'Cognition', 'Co-Founder of Outware', 'Organisational', 'Multidisciplinary', 'Cognition', 'Co-Founder of Outware', 'Multidisciplinary', 'Cognition', 'Organisational', 'Multidisciplinary', 'Cognition', 'Co-Founder/', 'Outware'], 'AhIwR9LOfrE6oO93NKBTuw_0000': ['Com', 'Aligning', 'Saas', 'Aligning', 'Co-Founder', 'Sansego', 'LLC-'], 'NLy4tYgUGblozQXOCgUtaA_0000': ['Organisational', 'Audio', 'Digital Download', 'Borrowbox', 'Eaudiobooks, Ebooks', 'New Zealand&', 'Audio', 'Digital Download', 'Organisation', 'Organisational', 'Oracle', 'Organisational', 'Kicktek', 'Admin/'], '7Y0BYrLd-6pMoffngsHOqw_0000': ['Mit-Trained', 'Ed-Tech', 'Forbes', 'the African Union', 'MTV', 'Mit-Trained', 'Ed-Tech', 'Forbes', 'the African Union', 'MTV', 'Harvard', 'Ed-Tech', 'Slatecube', 'Unflinching', 'Co-Founder', 'Slatecube, Co founder', 'Slatecube'], '6RDPdw0zmLeBIBkBEf8obQ_0000': ['Dhl', 'Dhl'], '-nbbpInS-iD0thomdMs6BQ_0000': ['LLC'], '6xJLMnADuDBERjJtvABEaw_0000': ['Dyson', 'Dyson', 'Agoda', 'Dyson, hr', 'Dyson', 'Dyson'], 'R7OBFWMZfjieFf1aGBehsw_0000': ['Smartform', 'ADT/', 'Smartsets', 'Smarttools', 'Smartform', 'ADT/', 'Smartsets', 'Smarttools', 'Smartform', 'ADT/', 'Smartsets', 'Smarttools', 'University of Chicago', 'University of Chicago'], 'xemFTL4WGIObJBz0VZv0gg_0000': ['Life-Cycle', 'Technology', 'Life-Cycle', 'Technology', 'Life-Cycle', 'Technology', 'SR', 'Olympus', 'Olympus'], 'hvUFh1zBD8Wm6knPIMhQCQ_0000': ['Sub-Saharan Africa'], 'cgsrEakp1FaqiOAAUD4ipg_0000': ['MSC', 'Housinganywhere', 'MSC', 'Self-Education', 'Eu', 'Integritas', 'Erasmus University', 'Com', 'Integritas', 'Webster University'], 'Zip2P5W63v0tYF5jEwbo0w_0000': ['K litigation Paralegal', 'INTL', 'Midtwon', 'Exp', 'Paralegal', 'Paralegal', 'Midtown', 'Paralegal', 'Transactional/', 'K DOE', 'K DOE', 'K DOE', 'Paralegal'], 'NByjQpBjL8SLsmlq6Rp2hA_0000': ['Workflows', 'Workflows', \"G-Sib'S Enterprise-Wide Bcbs\", 'CFA', \"Accenture'S Finance&\", 'Data-Driven', 'Customer-Centric', 'Workflows', \"G-Sib'S Enterprise-Wide Bcbs\", 'CFA'], 'XfYHqKUckGPJiO8MxZWNrA_0000': ['Digital', 'Fintech', 'Productize', 'Academy', 'Purpose-Driven', 'Digital', 'Academy', 'Me/1Kq6Xsm', 'Com', 'Group>>> Www', 'Groups/Gethappymakemoney Www', 'Gethappymakemoney Twitter @Daniellescorp Instagram Https://Instagram', 'Com', 'Youtube', 'Com/', 'Channel/Ucuhfaovn-89Pe2Yulnajnhw Pinterest', 'Com', 'Gethappycourse/', 'Com', 'Group>>> Www', 'Groups/Gethappymakemoney Www', 'Gethappymakemoney Twitter @Daniellescorp Instagram Https://Instagram', 'Com', 'Youtube', 'Com/', 'Channel/Ucuhfaovn-89Pe2Yulnajnhw Pinterest', 'Com', 'Gethappycourse/', '@Huffpost', 'Academy', 'Facebook', '@Huffpost', \"Cio'S\", 'Fintech', 'Blockchain', '@Huffpost', 'Digital', '@Huffpost', '& contributor@ Huffington'], 'z5LcE0BcZevf5WmwL8nunQ_0000': ['Cisco Ccna', 'Cisco Ccnp', 'Cisco IP', 'Cisco Ccnp', 'Cisco IP', 'Cisco Ccnp Tshoot', 'Cisco IP', 'Ospf', 'Stp', 'Rstp', 'Juniper', 'Alcatel SR platforms-', 'software\"- Politehnica University-', 'Technologies', 'Ospf', 'LDP', 'Versioned', 'Bash/', 'Cisco', 'Ccnp', 'Ospf', 'Stp', 'Rstp', 'Juniper', 'Alcatel SR platforms-', 'Microsoft', 'Visio', 'Cisco', 'Amazon', 'Cisco', 'Juniper', 'Alcatel SR'], 'lsyGs3Wy1kabQgBF4kdtsw_0000': ['Alvarez& Marsal', 'Implementations', 'M& a hr Integrations', 'Analytical', 'Analytical', 'Hris&', 'LLC', 'Rust-Oleum', 'LLC'], '-jsY6ula0lsaOQ5rBHxHLg_0000': ['& Ott', 'Html/', 'Upfront', 'Www', 'Html/', 'Upfront', 'Www', 'Front-End', 'Upfront', 'Www', 'Upfront', 'SR', 'NBC'], 'Znp9f-UWby49HRGlCgGHxw_0000': ['Ecommerce', 'Amazon', 'Marketplaces', 'Wal-Mart', 'Ebay', 'Google& Amazon', 'Digital', 'Upglobal', 'Leesa Mattress', 'the Smithsonian Channel', 'Digital', 'Navy', 'Navy', 'Navy', 'Quinnipiac University', 'PPC', 'Google', 'Digital', 'Upglobal', 'the Smithsonian Channel', 'Digital', 'Digital', 'Seo', 'Google', 'Navy', 'Digital', 'Checkmate', 'PPC', 'Bobsled']}\n"
     ]
    }
   ],
   "source": [
    "# function call\n",
    "company_names_description = dictionary_with_title_description(summary)"
   ]
  },
  {
   "cell_type": "code",
   "execution_count": 28,
   "metadata": {
    "id": "h4StonD_jbCU"
   },
   "outputs": [],
   "source": [
    "# def new_swapped_dict(df, company_names_description):\n",
    "#   company_names_description_new = {}\n",
    "  \n",
    "#   for key, value in company_names_description.items():\n",
    "    \n",
    "#     for j in range(0, len(value)):\n",
    "      \n",
    "#       company_names_description_new[value[j]] = key\n",
    "    \n",
    "#   final_dictionary = {}\n",
    "  \n",
    "#   for key, val in company_names_description_new.items():\n",
    "#     for i in range(0 , len(tech)):\n",
    "#       if fuzz.ratio(key, tech.loc[i, \"title\"]) > 70:\n",
    "#         final_dictionary.setdefault(val,[])\n",
    "#         final_dictionary[val].append(tech.loc[i, \"title\"])\n",
    "#         # entries are of type : final_dictionary{'blog_id': company ids}\n",
    "\n",
    "#   return company_names_description_new, final_dictionary"
   ]
  },
  {
   "cell_type": "code",
   "execution_count": 29,
   "metadata": {},
   "outputs": [],
   "source": [
    "def new_swapped_dict(df, company_names_description):\n",
    "\n",
    "    company_names_description_new = {}\n",
    "    \n",
    "    for key, value in company_names_description.items():\n",
    "        for j in range(0, len(value)):\n",
    "            company_names_description_new[value[j]] = key\n",
    "    \n",
    "    final_dictionary = {}\n",
    "    \n",
    "    for key_2, val in company_names_description_new.items():\n",
    "        \n",
    "        for i in range(0 , len(tech)):\n",
    "            b = tech.loc[i, \"title\"]\n",
    "            b=b.lower()\n",
    "            key_2 = key_2.lower()\n",
    "                            \n",
    "#             if fuzz.ratio(key_2, b) > 85:\n",
    "            if key_2 == b:\n",
    "                final_dictionary.setdefault(val,[])\n",
    "                final_dictionary[val].append(b)\n",
    "                \n",
    "    return company_names_description_new, final_dictionary"
   ]
  },
  {
   "cell_type": "code",
   "execution_count": 30,
   "metadata": {
    "colab": {
     "base_uri": "https://localhost:8080/",
     "height": 181
    },
    "id": "9dDkJIOo3qzA",
    "outputId": "383f75c8-1ec7-434d-f302-636612bd04ea"
   },
   "outputs": [],
   "source": [
    "# function call\n",
    "company_names_description_new, final_dictionary = new_swapped_dict(summary, company_names_description)"
   ]
  },
  {
   "cell_type": "code",
   "execution_count": 31,
   "metadata": {},
   "outputs": [
    {
     "data": {
      "text/plain": [
       "{'OZO7g2R5RUt6cSSaRvriTw_0000': ['ics'],\n",
       " 'GJLF2mD6gDlgYu8qmBljng_0000': ['accenture'],\n",
       " 'b4KHSrsYZcamh6oXJWld0g_0000': ['java', 'cobol'],\n",
       " 'fQ2ZZYOxKpdNYTC6TLFObA_0000': ['phonegap',\n",
       "  'javascript',\n",
       "  'jquery',\n",
       "  'xcode',\n",
       "  'android'],\n",
       " '0YjTZXpDZyt6BryJBxYVnQ_0000': ['nielsen'],\n",
       " 'r-cTUKsWGhVxwdge82Yu-w_0000': ['vmware'],\n",
       " 'grpB85GrZaIcq-HRhcNj6Q_0000': ['dot',\n",
       "  'splunk',\n",
       "  'cisco routers',\n",
       "  'solarwinds'],\n",
       " 'avogC0yF9sNEWxARekacUw_0000': ['beam'],\n",
       " '9ChJeoLQdcnqKSzQ-afBZw_0000': ['sourcing'],\n",
       " 'udzSvEueVZeZraRcjx0Uvw_0000': ['assembly'],\n",
       " '0MA7aw54K2mBYnPhOmAloA_0000': ['intel'],\n",
       " '04dK5T2y78a27gewYZxfEA_0000': ['adobe'],\n",
       " 'JCq2jVWf36ekzz96DLME9g_0000': ['wordpress'],\n",
       " 'Gq64EyBzfmfUzeOUMJfqQg_0000': ['skype'],\n",
       " 'XDp0qW4NNrPkCOWBOD3Efg_0000': ['sharepoint', 'wipro'],\n",
       " 'h5n8IuHP9cjm5NB20yJKKA_0000': ['indiegogo',\n",
       "  'bottlenose',\n",
       "  'pebblepost',\n",
       "  'socure'],\n",
       " 'D2-V0HxR1Fuy8YftZIvjQA_0000': ['azure'],\n",
       " '7Yshf9lVrc-ioCYSViBU6g_0000': ['lifecycle'],\n",
       " 'aezg7K7YHjEMLWdLmrB9zw_0000': ['irise'],\n",
       " 'VB5eheB-bmUish86Rt4-CA_0000': ['adp'],\n",
       " 'z5LcE0BcZevf5WmwL8nunQ_0000': ['juniper'],\n",
       " 'Znp9f-UWby49HRGlCgGHxw_0000': ['checkmate']}"
      ]
     },
     "execution_count": 31,
     "metadata": {},
     "output_type": "execute_result"
    }
   ],
   "source": [
    "final_dictionary"
   ]
  },
  {
   "cell_type": "code",
   "execution_count": 32,
   "metadata": {
    "colab": {
     "base_uri": "https://localhost:8080/",
     "height": 204
    },
    "id": "AZlaGew0mUpG",
    "outputId": "2d38897a-4d16-4e24-ad52-74e3a7dcd0f9"
   },
   "outputs": [
    {
     "data": {
      "text/html": [
       "<div>\n",
       "<style scoped>\n",
       "    .dataframe tbody tr th:only-of-type {\n",
       "        vertical-align: middle;\n",
       "    }\n",
       "\n",
       "    .dataframe tbody tr th {\n",
       "        vertical-align: top;\n",
       "    }\n",
       "\n",
       "    .dataframe thead th {\n",
       "        text-align: right;\n",
       "    }\n",
       "</style>\n",
       "<table border=\"1\" class=\"dataframe\">\n",
       "  <thead>\n",
       "    <tr style=\"text-align: right;\">\n",
       "      <th></th>\n",
       "      <th>title</th>\n",
       "      <th>id</th>\n",
       "    </tr>\n",
       "  </thead>\n",
       "  <tbody>\n",
       "    <tr>\n",
       "      <th>0</th>\n",
       "      <td>Lattice</td>\n",
       "      <td>0</td>\n",
       "    </tr>\n",
       "    <tr>\n",
       "      <th>1</th>\n",
       "      <td>WorkflowMax</td>\n",
       "      <td>1</td>\n",
       "    </tr>\n",
       "    <tr>\n",
       "      <th>2</th>\n",
       "      <td>InGenius</td>\n",
       "      <td>2</td>\n",
       "    </tr>\n",
       "    <tr>\n",
       "      <th>3</th>\n",
       "      <td>DealHub</td>\n",
       "      <td>3</td>\n",
       "    </tr>\n",
       "    <tr>\n",
       "      <th>4</th>\n",
       "      <td>Ebsta</td>\n",
       "      <td>4</td>\n",
       "    </tr>\n",
       "  </tbody>\n",
       "</table>\n",
       "</div>"
      ],
      "text/plain": [
       "         title  id\n",
       "0      Lattice   0\n",
       "1  WorkflowMax   1\n",
       "2     InGenius   2\n",
       "3      DealHub   3\n",
       "4        Ebsta   4"
      ]
     },
     "execution_count": 32,
     "metadata": {},
     "output_type": "execute_result"
    }
   ],
   "source": [
    "tech[\"id\"] = tech.index\n",
    "tech.head()"
   ]
  },
  {
   "cell_type": "code",
   "execution_count": 33,
   "metadata": {
    "id": "ykWbBVlwv_t3"
   },
   "outputs": [],
   "source": [
    "try:\n",
    "  \n",
    "  for k, v in final_dictionary.items():\n",
    "    # x = summary[\"summaries\"].loc(summary[\"id\"] == k)\n",
    "    # print(x)\n",
    "    new_row = {'id':k,'Technology_Names': final_dictionary[k]}\n",
    "    output = output.append(new_row, ignore_index=True)\n",
    "\n",
    "except Exception as e :\n",
    "  print(\"\\n\\n\", e)"
   ]
  },
  {
   "cell_type": "code",
   "execution_count": 34,
   "metadata": {
    "colab": {
     "base_uri": "https://localhost:8080/",
     "height": 204
    },
    "id": "e2kWNI9x-l8i",
    "outputId": "5e62bf60-660b-4f5d-e8ff-e8f8f47fb4ec"
   },
   "outputs": [
    {
     "data": {
      "text/html": [
       "<div>\n",
       "<style scoped>\n",
       "    .dataframe tbody tr th:only-of-type {\n",
       "        vertical-align: middle;\n",
       "    }\n",
       "\n",
       "    .dataframe tbody tr th {\n",
       "        vertical-align: top;\n",
       "    }\n",
       "\n",
       "    .dataframe thead th {\n",
       "        text-align: right;\n",
       "    }\n",
       "</style>\n",
       "<table border=\"1\" class=\"dataframe\">\n",
       "  <thead>\n",
       "    <tr style=\"text-align: right;\">\n",
       "      <th></th>\n",
       "      <th>id</th>\n",
       "      <th>summaries</th>\n",
       "      <th>Technology_Names</th>\n",
       "    </tr>\n",
       "  </thead>\n",
       "  <tbody>\n",
       "    <tr>\n",
       "      <th>0</th>\n",
       "      <td>OZO7g2R5RUt6cSSaRvriTw_0000</td>\n",
       "      <td>NaN</td>\n",
       "      <td>[ics]</td>\n",
       "    </tr>\n",
       "    <tr>\n",
       "      <th>1</th>\n",
       "      <td>GJLF2mD6gDlgYu8qmBljng_0000</td>\n",
       "      <td>NaN</td>\n",
       "      <td>[accenture]</td>\n",
       "    </tr>\n",
       "    <tr>\n",
       "      <th>2</th>\n",
       "      <td>b4KHSrsYZcamh6oXJWld0g_0000</td>\n",
       "      <td>NaN</td>\n",
       "      <td>[java, cobol]</td>\n",
       "    </tr>\n",
       "    <tr>\n",
       "      <th>3</th>\n",
       "      <td>fQ2ZZYOxKpdNYTC6TLFObA_0000</td>\n",
       "      <td>NaN</td>\n",
       "      <td>[phonegap, javascript, jquery, xcode, android]</td>\n",
       "    </tr>\n",
       "    <tr>\n",
       "      <th>4</th>\n",
       "      <td>0YjTZXpDZyt6BryJBxYVnQ_0000</td>\n",
       "      <td>NaN</td>\n",
       "      <td>[nielsen]</td>\n",
       "    </tr>\n",
       "  </tbody>\n",
       "</table>\n",
       "</div>"
      ],
      "text/plain": [
       "                            id summaries  \\\n",
       "0  OZO7g2R5RUt6cSSaRvriTw_0000       NaN   \n",
       "1  GJLF2mD6gDlgYu8qmBljng_0000       NaN   \n",
       "2  b4KHSrsYZcamh6oXJWld0g_0000       NaN   \n",
       "3  fQ2ZZYOxKpdNYTC6TLFObA_0000       NaN   \n",
       "4  0YjTZXpDZyt6BryJBxYVnQ_0000       NaN   \n",
       "\n",
       "                                 Technology_Names  \n",
       "0                                           [ics]  \n",
       "1                                     [accenture]  \n",
       "2                                   [java, cobol]  \n",
       "3  [phonegap, javascript, jquery, xcode, android]  \n",
       "4                                       [nielsen]  "
      ]
     },
     "execution_count": 34,
     "metadata": {},
     "output_type": "execute_result"
    }
   ],
   "source": [
    "# try:\n",
    "#   for i in range(0, len(summary)):\n",
    "#     new_row_2 = {'id':summary[\"id\"][i], 'summaries':summary[\"summaries\"][i], 'Technology_Names':final_dictionary[summary[\"id\"][i]]}\n",
    "#     output_2 = output.append(new_row, ignore_index=True)\n",
    "\n",
    "# except Exception as e :\n",
    "#   print(\"\\n\\n\", e)\n",
    "output.head()"
   ]
  },
  {
   "cell_type": "code",
   "execution_count": 35,
   "metadata": {},
   "outputs": [
    {
     "data": {
      "text/plain": [
       "22"
      ]
     },
     "execution_count": 35,
     "metadata": {},
     "output_type": "execute_result"
    }
   ],
   "source": [
    "len(output)"
   ]
  },
  {
   "cell_type": "code",
   "execution_count": null,
   "metadata": {},
   "outputs": [],
   "source": []
  },
  {
   "cell_type": "code",
   "execution_count": 36,
   "metadata": {},
   "outputs": [],
   "source": [
    "# Extracting summary to Output sheet\n",
    "for ind in output.index:\n",
    "    for i in summary.index:\n",
    "        \n",
    "        if output[\"id\"][ind]==summary[\"id\"][i]:\n",
    "            output[\"summaries\"][ind] = summary[\"summaries\"][i]"
   ]
  },
  {
   "cell_type": "code",
   "execution_count": 37,
   "metadata": {},
   "outputs": [
    {
     "data": {
      "text/plain": [
       "22"
      ]
     },
     "execution_count": 37,
     "metadata": {},
     "output_type": "execute_result"
    }
   ],
   "source": [
    "len(output)"
   ]
  },
  {
   "cell_type": "code",
   "execution_count": 38,
   "metadata": {},
   "outputs": [
    {
     "data": {
      "text/html": [
       "<div>\n",
       "<style scoped>\n",
       "    .dataframe tbody tr th:only-of-type {\n",
       "        vertical-align: middle;\n",
       "    }\n",
       "\n",
       "    .dataframe tbody tr th {\n",
       "        vertical-align: top;\n",
       "    }\n",
       "\n",
       "    .dataframe thead th {\n",
       "        text-align: right;\n",
       "    }\n",
       "</style>\n",
       "<table border=\"1\" class=\"dataframe\">\n",
       "  <thead>\n",
       "    <tr style=\"text-align: right;\">\n",
       "      <th></th>\n",
       "      <th>id</th>\n",
       "      <th>summaries</th>\n",
       "      <th>Technology_Names</th>\n",
       "    </tr>\n",
       "  </thead>\n",
       "  <tbody>\n",
       "    <tr>\n",
       "      <th>0</th>\n",
       "      <td>OZO7g2R5RUt6cSSaRvriTw_0000</td>\n",
       "      <td>[Passionate hands-on company owner and recruit...</td>\n",
       "      <td>[ics]</td>\n",
       "    </tr>\n",
       "    <tr>\n",
       "      <th>1</th>\n",
       "      <td>GJLF2mD6gDlgYu8qmBljng_0000</td>\n",
       "      <td>[Currently working as a manager in the advance...</td>\n",
       "      <td>[accenture]</td>\n",
       "    </tr>\n",
       "    <tr>\n",
       "      <th>2</th>\n",
       "      <td>b4KHSrsYZcamh6oXJWld0g_0000</td>\n",
       "      <td>[Professional over 23 years of experience in t...</td>\n",
       "      <td>[java, cobol]</td>\n",
       "    </tr>\n",
       "    <tr>\n",
       "      <th>3</th>\n",
       "      <td>fQ2ZZYOxKpdNYTC6TLFObA_0000</td>\n",
       "      <td>[5.9 years of total it experience with wide ra...</td>\n",
       "      <td>[phonegap, javascript, jquery, xcode, android]</td>\n",
       "    </tr>\n",
       "    <tr>\n",
       "      <th>4</th>\n",
       "      <td>0YjTZXpDZyt6BryJBxYVnQ_0000</td>\n",
       "      <td>[Technology and business leader offering 20 ye...</td>\n",
       "      <td>[nielsen]</td>\n",
       "    </tr>\n",
       "  </tbody>\n",
       "</table>\n",
       "</div>"
      ],
      "text/plain": [
       "                            id  \\\n",
       "0  OZO7g2R5RUt6cSSaRvriTw_0000   \n",
       "1  GJLF2mD6gDlgYu8qmBljng_0000   \n",
       "2  b4KHSrsYZcamh6oXJWld0g_0000   \n",
       "3  fQ2ZZYOxKpdNYTC6TLFObA_0000   \n",
       "4  0YjTZXpDZyt6BryJBxYVnQ_0000   \n",
       "\n",
       "                                           summaries  \\\n",
       "0  [Passionate hands-on company owner and recruit...   \n",
       "1  [Currently working as a manager in the advance...   \n",
       "2  [Professional over 23 years of experience in t...   \n",
       "3  [5.9 years of total it experience with wide ra...   \n",
       "4  [Technology and business leader offering 20 ye...   \n",
       "\n",
       "                                 Technology_Names  \n",
       "0                                           [ics]  \n",
       "1                                     [accenture]  \n",
       "2                                   [java, cobol]  \n",
       "3  [phonegap, javascript, jquery, xcode, android]  \n",
       "4                                       [nielsen]  "
      ]
     },
     "execution_count": 38,
     "metadata": {},
     "output_type": "execute_result"
    }
   ],
   "source": [
    "output.head()"
   ]
  },
  {
   "cell_type": "code",
   "execution_count": 39,
   "metadata": {},
   "outputs": [],
   "source": [
    "# output.to_csv(\"Dataset/Output/NER-output/NER_train_before_regex_match_lg_truecase.csv\", index = False)"
   ]
  },
  {
   "cell_type": "code",
   "execution_count": 40,
   "metadata": {},
   "outputs": [],
   "source": [
    "# Lowercasing the summary is important for exact match finding\n",
    "for ind in output.index:\n",
    "    output[\"summaries\"][ind][0] = output[\"summaries\"][ind][0].lower()"
   ]
  },
  {
   "cell_type": "code",
   "execution_count": 41,
   "metadata": {},
   "outputs": [],
   "source": [
    "# Applying Regex to filter out Invalid Words\n",
    "\n",
    "def get_exact_match(txt, tech):\n",
    "    try:\n",
    "        patt = '|'.join(['\\\\b'+elem+'\\\\b' for elem in tech])\n",
    "        matched_patt = re.findall(patt,txt[0])\n",
    "    except Exception as e:\n",
    "        print(e)\n",
    "        matched_patt = []\n",
    "    return matched_patt"
   ]
  },
  {
   "cell_type": "code",
   "execution_count": 42,
   "metadata": {},
   "outputs": [],
   "source": [
    "output['matched_NER'] = output.apply(lambda x: get_exact_match(x[\"summaries\"], x[\"Technology_Names\"]), axis = 1)"
   ]
  },
  {
   "cell_type": "code",
   "execution_count": null,
   "metadata": {},
   "outputs": [],
   "source": []
  },
  {
   "cell_type": "code",
   "execution_count": 43,
   "metadata": {},
   "outputs": [
    {
     "data": {
      "text/html": [
       "<div>\n",
       "<style scoped>\n",
       "    .dataframe tbody tr th:only-of-type {\n",
       "        vertical-align: middle;\n",
       "    }\n",
       "\n",
       "    .dataframe tbody tr th {\n",
       "        vertical-align: top;\n",
       "    }\n",
       "\n",
       "    .dataframe thead th {\n",
       "        text-align: right;\n",
       "    }\n",
       "</style>\n",
       "<table border=\"1\" class=\"dataframe\">\n",
       "  <thead>\n",
       "    <tr style=\"text-align: right;\">\n",
       "      <th></th>\n",
       "      <th>id</th>\n",
       "      <th>summaries</th>\n",
       "      <th>Technology_Names</th>\n",
       "      <th>matched_NER</th>\n",
       "    </tr>\n",
       "  </thead>\n",
       "  <tbody>\n",
       "    <tr>\n",
       "      <th>0</th>\n",
       "      <td>OZO7g2R5RUt6cSSaRvriTw_0000</td>\n",
       "      <td>[passionate hands-on company owner and recruit...</td>\n",
       "      <td>[ics]</td>\n",
       "      <td>[ics, ics]</td>\n",
       "    </tr>\n",
       "    <tr>\n",
       "      <th>1</th>\n",
       "      <td>GJLF2mD6gDlgYu8qmBljng_0000</td>\n",
       "      <td>[currently working as a manager in the advance...</td>\n",
       "      <td>[accenture]</td>\n",
       "      <td>[accenture, accenture, accenture, accenture, a...</td>\n",
       "    </tr>\n",
       "    <tr>\n",
       "      <th>2</th>\n",
       "      <td>b4KHSrsYZcamh6oXJWld0g_0000</td>\n",
       "      <td>[professional over 23 years of experience in t...</td>\n",
       "      <td>[java, cobol]</td>\n",
       "      <td>[java, cobol, java, cobol, java, cobol, cobol,...</td>\n",
       "    </tr>\n",
       "    <tr>\n",
       "      <th>3</th>\n",
       "      <td>fQ2ZZYOxKpdNYTC6TLFObA_0000</td>\n",
       "      <td>[5.9 years of total it experience with wide ra...</td>\n",
       "      <td>[phonegap, javascript, jquery, xcode, android]</td>\n",
       "      <td>[phonegap, javascript, jquery, xcode, android,...</td>\n",
       "    </tr>\n",
       "    <tr>\n",
       "      <th>4</th>\n",
       "      <td>0YjTZXpDZyt6BryJBxYVnQ_0000</td>\n",
       "      <td>[technology and business leader offering 20 ye...</td>\n",
       "      <td>[nielsen]</td>\n",
       "      <td>[nielsen, nielsen, nielsen]</td>\n",
       "    </tr>\n",
       "  </tbody>\n",
       "</table>\n",
       "</div>"
      ],
      "text/plain": [
       "                            id  \\\n",
       "0  OZO7g2R5RUt6cSSaRvriTw_0000   \n",
       "1  GJLF2mD6gDlgYu8qmBljng_0000   \n",
       "2  b4KHSrsYZcamh6oXJWld0g_0000   \n",
       "3  fQ2ZZYOxKpdNYTC6TLFObA_0000   \n",
       "4  0YjTZXpDZyt6BryJBxYVnQ_0000   \n",
       "\n",
       "                                           summaries  \\\n",
       "0  [passionate hands-on company owner and recruit...   \n",
       "1  [currently working as a manager in the advance...   \n",
       "2  [professional over 23 years of experience in t...   \n",
       "3  [5.9 years of total it experience with wide ra...   \n",
       "4  [technology and business leader offering 20 ye...   \n",
       "\n",
       "                                 Technology_Names  \\\n",
       "0                                           [ics]   \n",
       "1                                     [accenture]   \n",
       "2                                   [java, cobol]   \n",
       "3  [phonegap, javascript, jquery, xcode, android]   \n",
       "4                                       [nielsen]   \n",
       "\n",
       "                                         matched_NER  \n",
       "0                                         [ics, ics]  \n",
       "1  [accenture, accenture, accenture, accenture, a...  \n",
       "2  [java, cobol, java, cobol, java, cobol, cobol,...  \n",
       "3  [phonegap, javascript, jquery, xcode, android,...  \n",
       "4                        [nielsen, nielsen, nielsen]  "
      ]
     },
     "execution_count": 43,
     "metadata": {},
     "output_type": "execute_result"
    }
   ],
   "source": [
    "output.head()"
   ]
  },
  {
   "cell_type": "code",
   "execution_count": 44,
   "metadata": {},
   "outputs": [],
   "source": [
    "df_company_names_description = pd.DataFrame(list(company_names_description.items()))\n",
    "df_company_names_description.columns = [\"id\",\"NER_Extracted_Tags\"]"
   ]
  },
  {
   "cell_type": "code",
   "execution_count": 45,
   "metadata": {},
   "outputs": [],
   "source": [
    "# df_company_names_description[\"summaries\"] = np.nan"
   ]
  },
  {
   "cell_type": "code",
   "execution_count": 46,
   "metadata": {},
   "outputs": [],
   "source": [
    "# # Extracting summary to Output sheet\n",
    "# for ind in df_company_names_description.index:\n",
    "#     for i in summary.index:\n",
    "        \n",
    "#         if df_company_names_description[\"id\"][ind]==summary[\"id\"][i]:\n",
    "#             df_company_names_description[\"summaries\"][ind] = summary[\"summaries\"][i]"
   ]
  },
  {
   "cell_type": "code",
   "execution_count": 47,
   "metadata": {},
   "outputs": [
    {
     "data": {
      "text/html": [
       "<div>\n",
       "<style scoped>\n",
       "    .dataframe tbody tr th:only-of-type {\n",
       "        vertical-align: middle;\n",
       "    }\n",
       "\n",
       "    .dataframe tbody tr th {\n",
       "        vertical-align: top;\n",
       "    }\n",
       "\n",
       "    .dataframe thead th {\n",
       "        text-align: right;\n",
       "    }\n",
       "</style>\n",
       "<table border=\"1\" class=\"dataframe\">\n",
       "  <thead>\n",
       "    <tr style=\"text-align: right;\">\n",
       "      <th></th>\n",
       "      <th>id</th>\n",
       "      <th>NER_Extracted_Tags</th>\n",
       "    </tr>\n",
       "  </thead>\n",
       "  <tbody>\n",
       "    <tr>\n",
       "      <th>0</th>\n",
       "      <td>OZO7g2R5RUt6cSSaRvriTw_0000</td>\n",
       "      <td>[Governance, Ics, Encryption/ Cryptography, Ou...</td>\n",
       "    </tr>\n",
       "    <tr>\n",
       "      <th>1</th>\n",
       "      <td>sQDmPUvJBPi0Sqv0lSESbQ_0000</td>\n",
       "      <td>[Tiaa Bank, Everbank, Tiaa Bank, Everbank, STE...</td>\n",
       "    </tr>\n",
       "    <tr>\n",
       "      <th>2</th>\n",
       "      <td>fnCCUnbQkZEB0WAyzp-syQ_0000</td>\n",
       "      <td>[CNS, Analytical, Ich-Gcp E6, CFR, Edc, Cross-...</td>\n",
       "    </tr>\n",
       "    <tr>\n",
       "      <th>3</th>\n",
       "      <td>b4KHSrsYZcamh6oXJWld0g_0000</td>\n",
       "      <td>[Java, COBOL, Cics, Tso, Changeman, Control-M,...</td>\n",
       "    </tr>\n",
       "    <tr>\n",
       "      <th>4</th>\n",
       "      <td>4gvW8kGrGpjCRatQY7D2UA_0000</td>\n",
       "      <td>[Developement, Developement, Developement, Ver...</td>\n",
       "    </tr>\n",
       "  </tbody>\n",
       "</table>\n",
       "</div>"
      ],
      "text/plain": [
       "                            id  \\\n",
       "0  OZO7g2R5RUt6cSSaRvriTw_0000   \n",
       "1  sQDmPUvJBPi0Sqv0lSESbQ_0000   \n",
       "2  fnCCUnbQkZEB0WAyzp-syQ_0000   \n",
       "3  b4KHSrsYZcamh6oXJWld0g_0000   \n",
       "4  4gvW8kGrGpjCRatQY7D2UA_0000   \n",
       "\n",
       "                                  NER_Extracted_Tags  \n",
       "0  [Governance, Ics, Encryption/ Cryptography, Ou...  \n",
       "1  [Tiaa Bank, Everbank, Tiaa Bank, Everbank, STE...  \n",
       "2  [CNS, Analytical, Ich-Gcp E6, CFR, Edc, Cross-...  \n",
       "3  [Java, COBOL, Cics, Tso, Changeman, Control-M,...  \n",
       "4  [Developement, Developement, Developement, Ver...  "
      ]
     },
     "execution_count": 47,
     "metadata": {},
     "output_type": "execute_result"
    }
   ],
   "source": [
    "df_company_names_description.head()"
   ]
  },
  {
   "cell_type": "code",
   "execution_count": 48,
   "metadata": {},
   "outputs": [],
   "source": [
    "# df_company_names_description.to_csv(\"Dataset/Output/NER-output/NER_Extracted_Entities__lg_truecase_library.csv\", index = False)"
   ]
  },
  {
   "cell_type": "code",
   "execution_count": 49,
   "metadata": {},
   "outputs": [],
   "source": [
    "output = output.merge(df_company_names_description, 'left')"
   ]
  },
  {
   "cell_type": "code",
   "execution_count": 50,
   "metadata": {},
   "outputs": [
    {
     "data": {
      "text/html": [
       "<div>\n",
       "<style scoped>\n",
       "    .dataframe tbody tr th:only-of-type {\n",
       "        vertical-align: middle;\n",
       "    }\n",
       "\n",
       "    .dataframe tbody tr th {\n",
       "        vertical-align: top;\n",
       "    }\n",
       "\n",
       "    .dataframe thead th {\n",
       "        text-align: right;\n",
       "    }\n",
       "</style>\n",
       "<table border=\"1\" class=\"dataframe\">\n",
       "  <thead>\n",
       "    <tr style=\"text-align: right;\">\n",
       "      <th></th>\n",
       "      <th>id</th>\n",
       "      <th>summaries</th>\n",
       "      <th>Technology_Names</th>\n",
       "      <th>matched_NER</th>\n",
       "      <th>NER_Extracted_Tags</th>\n",
       "    </tr>\n",
       "  </thead>\n",
       "  <tbody>\n",
       "    <tr>\n",
       "      <th>0</th>\n",
       "      <td>OZO7g2R5RUt6cSSaRvriTw_0000</td>\n",
       "      <td>[passionate hands-on company owner and recruit...</td>\n",
       "      <td>[ics]</td>\n",
       "      <td>[ics, ics]</td>\n",
       "      <td>[Governance, Ics, Encryption/ Cryptography, Ou...</td>\n",
       "    </tr>\n",
       "    <tr>\n",
       "      <th>1</th>\n",
       "      <td>GJLF2mD6gDlgYu8qmBljng_0000</td>\n",
       "      <td>[currently working as a manager in the advance...</td>\n",
       "      <td>[accenture]</td>\n",
       "      <td>[accenture, accenture, accenture, accenture, a...</td>\n",
       "      <td>[Analytics-Financial, Accenture, Kpmg, Icici B...</td>\n",
       "    </tr>\n",
       "    <tr>\n",
       "      <th>2</th>\n",
       "      <td>b4KHSrsYZcamh6oXJWld0g_0000</td>\n",
       "      <td>[professional over 23 years of experience in t...</td>\n",
       "      <td>[java, cobol]</td>\n",
       "      <td>[java, cobol, java, cobol, java, cobol, cobol,...</td>\n",
       "      <td>[Java, COBOL, Cics, Tso, Changeman, Control-M,...</td>\n",
       "    </tr>\n",
       "    <tr>\n",
       "      <th>3</th>\n",
       "      <td>fQ2ZZYOxKpdNYTC6TLFObA_0000</td>\n",
       "      <td>[5.9 years of total it experience with wide ra...</td>\n",
       "      <td>[phonegap, javascript, jquery, xcode, android]</td>\n",
       "      <td>[phonegap, javascript, jquery, xcode, android,...</td>\n",
       "      <td>[Angularjs 1, Reactjs, Phonegap, Javascript, A...</td>\n",
       "    </tr>\n",
       "    <tr>\n",
       "      <th>4</th>\n",
       "      <td>0YjTZXpDZyt6BryJBxYVnQ_0000</td>\n",
       "      <td>[technology and business leader offering 20 ye...</td>\n",
       "      <td>[nielsen]</td>\n",
       "      <td>[nielsen, nielsen, nielsen]</td>\n",
       "      <td>[Iterative, Iterative, Personalization, Ecomme...</td>\n",
       "    </tr>\n",
       "  </tbody>\n",
       "</table>\n",
       "</div>"
      ],
      "text/plain": [
       "                            id  \\\n",
       "0  OZO7g2R5RUt6cSSaRvriTw_0000   \n",
       "1  GJLF2mD6gDlgYu8qmBljng_0000   \n",
       "2  b4KHSrsYZcamh6oXJWld0g_0000   \n",
       "3  fQ2ZZYOxKpdNYTC6TLFObA_0000   \n",
       "4  0YjTZXpDZyt6BryJBxYVnQ_0000   \n",
       "\n",
       "                                           summaries  \\\n",
       "0  [passionate hands-on company owner and recruit...   \n",
       "1  [currently working as a manager in the advance...   \n",
       "2  [professional over 23 years of experience in t...   \n",
       "3  [5.9 years of total it experience with wide ra...   \n",
       "4  [technology and business leader offering 20 ye...   \n",
       "\n",
       "                                 Technology_Names  \\\n",
       "0                                           [ics]   \n",
       "1                                     [accenture]   \n",
       "2                                   [java, cobol]   \n",
       "3  [phonegap, javascript, jquery, xcode, android]   \n",
       "4                                       [nielsen]   \n",
       "\n",
       "                                         matched_NER  \\\n",
       "0                                         [ics, ics]   \n",
       "1  [accenture, accenture, accenture, accenture, a...   \n",
       "2  [java, cobol, java, cobol, java, cobol, cobol,...   \n",
       "3  [phonegap, javascript, jquery, xcode, android,...   \n",
       "4                        [nielsen, nielsen, nielsen]   \n",
       "\n",
       "                                  NER_Extracted_Tags  \n",
       "0  [Governance, Ics, Encryption/ Cryptography, Ou...  \n",
       "1  [Analytics-Financial, Accenture, Kpmg, Icici B...  \n",
       "2  [Java, COBOL, Cics, Tso, Changeman, Control-M,...  \n",
       "3  [Angularjs 1, Reactjs, Phonegap, Javascript, A...  \n",
       "4  [Iterative, Iterative, Personalization, Ecomme...  "
      ]
     },
     "execution_count": 50,
     "metadata": {},
     "output_type": "execute_result"
    }
   ],
   "source": [
    "output.head()"
   ]
  },
  {
   "cell_type": "code",
   "execution_count": 51,
   "metadata": {
    "id": "ZIydqgqt4sCu"
   },
   "outputs": [],
   "source": [
    "output.to_csv(\"Dataset/Output/NER-output/NER_train_ast_dump_resolve_lg_truecase.csv\", index = False)"
   ]
  },
  {
   "cell_type": "code",
   "execution_count": 52,
   "metadata": {},
   "outputs": [],
   "source": [
    "# Technology vs COunt and removing duplicates but preserving their counts\n",
    "df_cm = output"
   ]
  },
  {
   "cell_type": "code",
   "execution_count": 53,
   "metadata": {
    "id": "E-7khWXYe8Vq"
   },
   "outputs": [],
   "source": [
    "count = []\n",
    "id_elem = []\n",
    "elem = []"
   ]
  },
  {
   "cell_type": "code",
   "execution_count": 54,
   "metadata": {
    "id": "T9AhIBgKe8YC"
   },
   "outputs": [],
   "source": [
    "for ind in df_cm.index:\n",
    "    d = df_cm[\"matched_NER\"][ind]\n",
    "    for j in range(0, len(d)-1):\n",
    "        search_elem = df_cm[\"matched_NER\"][ind][j]\n",
    "        i = d.count(search_elem)\n",
    "        count.append(i)\n",
    "        elem.append(search_elem)\n",
    "        id_elem.append(df_cm[\"id\"])"
   ]
  },
  {
   "cell_type": "code",
   "execution_count": 55,
   "metadata": {
    "id": "-0uQxuJbdidz"
   },
   "outputs": [],
   "source": [
    "df_final_v2 = pd.DataFrame(list(zip(elem, count)), \n",
    "               columns =['Technology_Names', \"Count\"])"
   ]
  },
  {
   "cell_type": "code",
   "execution_count": 56,
   "metadata": {},
   "outputs": [
    {
     "data": {
      "text/html": [
       "<div>\n",
       "<style scoped>\n",
       "    .dataframe tbody tr th:only-of-type {\n",
       "        vertical-align: middle;\n",
       "    }\n",
       "\n",
       "    .dataframe tbody tr th {\n",
       "        vertical-align: top;\n",
       "    }\n",
       "\n",
       "    .dataframe thead th {\n",
       "        text-align: right;\n",
       "    }\n",
       "</style>\n",
       "<table border=\"1\" class=\"dataframe\">\n",
       "  <thead>\n",
       "    <tr style=\"text-align: right;\">\n",
       "      <th></th>\n",
       "      <th>Technology_Names</th>\n",
       "      <th>Count</th>\n",
       "    </tr>\n",
       "  </thead>\n",
       "  <tbody>\n",
       "    <tr>\n",
       "      <th>0</th>\n",
       "      <td>ics</td>\n",
       "      <td>2</td>\n",
       "    </tr>\n",
       "    <tr>\n",
       "      <th>1</th>\n",
       "      <td>accenture</td>\n",
       "      <td>5</td>\n",
       "    </tr>\n",
       "    <tr>\n",
       "      <th>2</th>\n",
       "      <td>accenture</td>\n",
       "      <td>5</td>\n",
       "    </tr>\n",
       "    <tr>\n",
       "      <th>3</th>\n",
       "      <td>accenture</td>\n",
       "      <td>5</td>\n",
       "    </tr>\n",
       "    <tr>\n",
       "      <th>4</th>\n",
       "      <td>accenture</td>\n",
       "      <td>5</td>\n",
       "    </tr>\n",
       "  </tbody>\n",
       "</table>\n",
       "</div>"
      ],
      "text/plain": [
       "  Technology_Names  Count\n",
       "0              ics      2\n",
       "1        accenture      5\n",
       "2        accenture      5\n",
       "3        accenture      5\n",
       "4        accenture      5"
      ]
     },
     "execution_count": 56,
     "metadata": {},
     "output_type": "execute_result"
    }
   ],
   "source": [
    "df_final_v2.head()"
   ]
  },
  {
   "cell_type": "code",
   "execution_count": 57,
   "metadata": {},
   "outputs": [],
   "source": [
    "# Count vs Technology Sheet\n",
    "save = df_final_v2.groupby([\"Technology_Names\"]).sum()\n",
    "save.reset_index(inplace = True)"
   ]
  },
  {
   "cell_type": "code",
   "execution_count": 58,
   "metadata": {},
   "outputs": [
    {
     "data": {
      "text/html": [
       "<div>\n",
       "<style scoped>\n",
       "    .dataframe tbody tr th:only-of-type {\n",
       "        vertical-align: middle;\n",
       "    }\n",
       "\n",
       "    .dataframe tbody tr th {\n",
       "        vertical-align: top;\n",
       "    }\n",
       "\n",
       "    .dataframe thead th {\n",
       "        text-align: right;\n",
       "    }\n",
       "</style>\n",
       "<table border=\"1\" class=\"dataframe\">\n",
       "  <thead>\n",
       "    <tr style=\"text-align: right;\">\n",
       "      <th></th>\n",
       "      <th>Technology_Names</th>\n",
       "      <th>Count</th>\n",
       "    </tr>\n",
       "  </thead>\n",
       "  <tbody>\n",
       "    <tr>\n",
       "      <th>0</th>\n",
       "      <td>accenture</td>\n",
       "      <td>20</td>\n",
       "    </tr>\n",
       "    <tr>\n",
       "      <th>1</th>\n",
       "      <td>adobe</td>\n",
       "      <td>12</td>\n",
       "    </tr>\n",
       "    <tr>\n",
       "      <th>2</th>\n",
       "      <td>adp</td>\n",
       "      <td>2</td>\n",
       "    </tr>\n",
       "    <tr>\n",
       "      <th>3</th>\n",
       "      <td>android</td>\n",
       "      <td>56</td>\n",
       "    </tr>\n",
       "    <tr>\n",
       "      <th>4</th>\n",
       "      <td>assembly</td>\n",
       "      <td>42</td>\n",
       "    </tr>\n",
       "  </tbody>\n",
       "</table>\n",
       "</div>"
      ],
      "text/plain": [
       "  Technology_Names  Count\n",
       "0        accenture     20\n",
       "1            adobe     12\n",
       "2              adp      2\n",
       "3          android     56\n",
       "4         assembly     42"
      ]
     },
     "execution_count": 58,
     "metadata": {},
     "output_type": "execute_result"
    }
   ],
   "source": [
    "save.head()"
   ]
  },
  {
   "cell_type": "code",
   "execution_count": null,
   "metadata": {},
   "outputs": [],
   "source": [
    "save.to_csv(\"Dataset/Output/NER-output/Tech_Count/Tech_Count_NER_v5_train_lg_truecase.csv\", index = False)"
   ]
  }
 ],
 "metadata": {
  "colab": {
   "collapsed_sections": [],
   "name": "NER_Match.ipynb",
   "provenance": []
  },
  "kernelspec": {
   "display_name": "Python 3",
   "language": "python",
   "name": "python3"
  },
  "language_info": {
   "codemirror_mode": {
    "name": "ipython",
    "version": 3
   },
   "file_extension": ".py",
   "mimetype": "text/x-python",
   "name": "python",
   "nbconvert_exporter": "python",
   "pygments_lexer": "ipython3",
   "version": "3.9.0"
  }
 },
 "nbformat": 4,
 "nbformat_minor": 1
}
