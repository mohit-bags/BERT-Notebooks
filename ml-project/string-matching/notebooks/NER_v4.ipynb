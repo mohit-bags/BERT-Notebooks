{
 "cells": [
  {
   "cell_type": "markdown",
   "metadata": {
    "id": "m4JryurFGjvG"
   },
   "source": [
    "- importing the libraries here..."
   ]
  },
  {
   "cell_type": "code",
   "execution_count": 1,
   "metadata": {
    "id": "gVtvbWqdhLWl"
   },
   "outputs": [],
   "source": [
    "import nltk\n",
    "# nltk.download()\n",
    "import pandas as pd\n",
    "import spacy\n",
    "# from spacy import displacy\n",
    "# from collections import Counter\n",
    "import en_core_web_sm\n",
    "nlp = en_core_web_sm.load()"
   ]
  },
  {
   "cell_type": "code",
   "execution_count": 2,
   "metadata": {
    "colab": {
     "base_uri": "https://localhost:8080/"
    },
    "id": "0KBtEHCTl7_s",
    "outputId": "0c32e77e-d009-451c-abec-9ae8cbd89be6"
   },
   "outputs": [
    {
     "name": "stdout",
     "output_type": "stream",
     "text": [
      "Collecting fuzzywuzzy\n",
      "  Downloading https://files.pythonhosted.org/packages/43/ff/74f23998ad2f93b945c0309f825be92e04e0348e062026998b5eefef4c33/fuzzywuzzy-0.18.0-py2.py3-none-any.whl\n",
      "Installing collected packages: fuzzywuzzy\n",
      "Successfully installed fuzzywuzzy-0.18.0\n",
      "Collecting python-Levenshtein\n",
      "\u001b[?25l  Downloading https://files.pythonhosted.org/packages/2a/dc/97f2b63ef0fa1fd78dcb7195aca577804f6b2b51e712516cc0e902a9a201/python-Levenshtein-0.12.2.tar.gz (50kB)\n",
      "\u001b[K     |â–ˆâ–ˆâ–ˆâ–ˆâ–ˆâ–ˆâ–ˆâ–ˆâ–ˆâ–ˆâ–ˆâ–ˆâ–ˆâ–ˆâ–ˆâ–ˆâ–ˆâ–ˆâ–ˆâ–ˆâ–ˆâ–ˆâ–ˆâ–ˆâ–ˆâ–ˆâ–ˆâ–ˆâ–ˆâ–ˆâ–ˆâ–ˆ| 51kB 2.6MB/s \n",
      "\u001b[?25hRequirement already satisfied: setuptools in /usr/local/lib/python3.6/dist-packages (from python-Levenshtein) (53.0.0)\n",
      "Building wheels for collected packages: python-Levenshtein\n",
      "  Building wheel for python-Levenshtein (setup.py) ... \u001b[?25l\u001b[?25hdone\n",
      "  Created wheel for python-Levenshtein: filename=python_Levenshtein-0.12.2-cp36-cp36m-linux_x86_64.whl size=148895 sha256=b4526bcbe336bc8fdfdaaabc5ddb01a517867f7acaadf50805756e43ad9f2e3d\n",
      "  Stored in directory: /root/.cache/pip/wheels/b3/26/73/4b48503bac73f01cf18e52cd250947049a7f339e940c5df8fc\n",
      "Successfully built python-Levenshtein\n",
      "Installing collected packages: python-Levenshtein\n",
      "Successfully installed python-Levenshtein-0.12.2\n"
     ]
    }
   ],
   "source": [
    "!pip3 install fuzzywuzzy\n",
    "!pip3 install python-Levenshtein"
   ]
  },
  {
   "cell_type": "code",
   "execution_count": 3,
   "metadata": {
    "id": "eihDB1YzeeEL"
   },
   "outputs": [],
   "source": [
    "from fuzzywuzzy import fuzz"
   ]
  },
  {
   "cell_type": "code",
   "execution_count": 4,
   "metadata": {
    "id": "ZJdkNkhDVDmx"
   },
   "outputs": [],
   "source": [
    "# !python -m spacy download en_core_web_lg"
   ]
  },
  {
   "cell_type": "code",
   "execution_count": 5,
   "metadata": {
    "id": "x9J-FKau3Jhi"
   },
   "outputs": [],
   "source": [
    "def  reading_file():\n",
    "  \n",
    "  tech = pd.read_csv(\"/content/Technology Summary Matching Project - technologies.csv\")\n",
    "  summary = pd.read_csv(\"/content/Testing-Sheet(23_02) - Sheet1.csv\")\n",
    "  output = pd.read_csv(\"/content/output - output.csv\")\n",
    "\n",
    "  print(\"Technology sheet\", tech.head())\n",
    "  print(\"\\n\\n Technology sheet data types\\n\", tech.dtypes)\n",
    "\n",
    "  print(\"summary sheet\", summary.head())\n",
    "  print(\"\\n\\n summary sheet data types\\n\", summary.dtypes)\n",
    "\n",
    "  print(\"output sheet\", output.head())\n",
    "  print(\"\\n\\n output sheet data types\\n\", output.dtypes)\n",
    "\n",
    "  return tech, summary, output"
   ]
  },
  {
   "cell_type": "code",
   "execution_count": 6,
   "metadata": {
    "colab": {
     "base_uri": "https://localhost:8080/"
    },
    "id": "eGFuuERhhLWo",
    "outputId": "b2e21d2f-79ff-4586-e475-873cac077989"
   },
   "outputs": [
    {
     "name": "stdout",
     "output_type": "stream",
     "text": [
      "Technology sheet          title\n",
      "0      Lattice\n",
      "1  WorkflowMax\n",
      "2     InGenius\n",
      "3      DealHub\n",
      "4        Ebsta\n",
      "\n",
      "\n",
      " Technology sheet data types\n",
      " title    object\n",
      "dtype: object\n",
      "summary sheet                             id  ...                                     version_status\n",
      "0  XOELhfz2TfdBzJQsZsYcew_0000  ...  {\"contains\":[],\"previous_version\":\"9\",\"current...\n",
      "1  dAvAXCfTPxPXJ3K3jeGj4g_0000  ...  {\"contains\":[],\"previous_version\":\"9\",\"current...\n",
      "2  E30RAmLIIdsOMP-fZCMCOQ_0000  ...  {\"contains\":[],\"previous_version\":\"9\",\"current...\n",
      "3  BIL7L35xzb4vxuooMzQ3Ng_0000  ...  {\"contains\":[],\"previous_version\":\"9\",\"current...\n",
      "4  DB7LnCzxCn93VYO2cG3ytA_0000  ...  {\"contains\":[],\"previous_version\":\"9\",\"current...\n",
      "\n",
      "[5 rows x 19 columns]\n",
      "\n",
      "\n",
      " summary sheet data types\n",
      " id                            object\n",
      "birth_date                    object\n",
      "birth_date_fuzzy             float64\n",
      "certifications                object\n",
      "education                     object\n",
      "emails                        object\n",
      "experience                    object\n",
      "industries                    object\n",
      "inferred_salary               object\n",
      "inferred_years_experience    float64\n",
      "interests                     object\n",
      "locations                     object\n",
      "names                         object\n",
      "phone_numbers                 object\n",
      "primary                       object\n",
      "profiles                      object\n",
      "skills                        object\n",
      "summaries                     object\n",
      "version_status                object\n",
      "dtype: object\n",
      "output sheet Empty DataFrame\n",
      "Columns: [id, summaries, Technology_Names]\n",
      "Index: []\n",
      "\n",
      "\n",
      " output sheet data types\n",
      " id                  object\n",
      "summaries           object\n",
      "Technology_Names    object\n",
      "dtype: object\n"
     ]
    }
   ],
   "source": [
    "tech, summary, output = reading_file()"
   ]
  },
  {
   "cell_type": "code",
   "execution_count": 7,
   "metadata": {
    "id": "kp9NEv6aBHNQ"
   },
   "outputs": [],
   "source": [
    "output = output.drop(\"summaries\", axis =1)"
   ]
  },
  {
   "cell_type": "code",
   "execution_count": 8,
   "metadata": {
    "id": "WhQVN_q0lrj0"
   },
   "outputs": [],
   "source": [
    "\n",
    "def dictionary_with_title_description(df):\n",
    "  \" This function will return dictionaries containing blog id, company names from title, and company name from description\"\n",
    "  \n",
    "  company_names_description = {} # initialising empty dictionary for company names extracted from description\n",
    " \n",
    "  for i in range(0, len(df)):\n",
    "    doc = nlp(df.loc[i, \"summaries\"])\n",
    "    \n",
    "    for X in doc.ents:\n",
    "      \n",
    "      if X.label_ == 'ORG':\n",
    "\n",
    "        company_names_description.setdefault(df.loc[i, \"id\"], [])\n",
    "        company_names_description[df.loc[i, \"id\"]].append(X.text)\n",
    "        # company_names_description{'blog_id' : list of companies found from ORG tag using spacy }\n",
    "        \n",
    "  print(\"Company names extracted from Summaries : \\n\",company_names_description)\n",
    "\n",
    "\n",
    "  return company_names_description"
   ]
  },
  {
   "cell_type": "code",
   "execution_count": 9,
   "metadata": {
    "colab": {
     "base_uri": "https://localhost:8080/"
    },
    "id": "fmQS4ClKI5eK",
    "outputId": "c6491350-e0bb-455a-954c-16ee500ed9a4"
   },
   "outputs": [
    {
     "name": "stdout",
     "output_type": "stream",
     "text": [
      "Company names extracted from Summaries : \n",
      " {'DB7LnCzxCn93VYO2cG3ytA_0000': ['the university of colorado skaggs school of pharmacy and pharmaceutical sciences', 'the university of colorado skaggs school of pharmacy and pharmaceutical sciences student council', 'the student national pharmaceutical association', 'phi lambda sigma', 'the university of arizona', 'the university of arizona campus', 'mtm'], 'FnuiJCYmhgCYdhjrUgiXpg_0000': ['Neugene International'], 'bjKPZry3ODiQTOsoaJzO5Q_0000': ['Precious Eklad Ventures Ltd'], '0DxoDBIf4Gu73Qq9gnk-kA_0000': ['CIBC'], 'yWuSp-FD9DpqC4MUcKUHdQ_0000': ['fp&a', 'fp&a', 'fp&a', 'fp&a', 'fp&a', 'fp&a'], 'XimiDkHNmTI8QRdUw4IJGQ_0000': ['TEC Group International'], 'AgCVjEKXkCXY0hsvFdQefA_0000': ['Jaguar Land Rover'], 'uuPTGTLKCjSRq2wyKpYFPg_0000': ['samsung mobiles india'], '4wqNd8FCEFzKAhev70nL9g_0000': ['Zephyr Real Estate'], 'XBCv9B5Nfo4YmUkGlBosSQ_0000': ['Thermal & Wind Power Projects, Industrial Projects, Refineries & Gas Plants', 'Techno-Commercial', 'Project Management', 'Project Planning'], 'PVpqBSql0waYjouAXc4USg_0000': ['Owner, Vons & Van Santen'], 'aZB8UCbA3OHcBzOfzqNRqg_0000': ['Quality Office Design Inc.'], 'aA2QL9sW9JJAPG-B8CjDhQ_0000': ['philip morris international', 'w philip morris international', 'philip morris international'], 'pswspuWUPidgXCH5jqmBsw_0000': ['Optimal Health Clinic', 'Speratus Trade'], 'eIffRoowom38-wujpO29ZA_0000': ['kbc', 'kbc bank & verzekering'], '5a83PnPB0fA3-tNw-y3BBg_0000': ['leisure, travel & tourism'], '9qxO5Zf9PqKsuOjQl7wQRQ_0000': ['microsoft', 'hurren & hope'], 'rAr0u5afB6tdTXqocYqMhw_0000': ['Business Development Executive', 'HDFC Bank'], 'jrgBeBmQbfb0W8kI2nNpQg_0000': ['Forever Living Products'], 'jPRXTVKpUNli3OgxchLOAQ_0000': ['the supreme court', 'jsw steel ltd.', 'the phnom penh post', 'phnom penh post'], 'F5G6oc35pcW6q22-JnNtqQ_0000': ['Bank of America'], '8UDX5CcxMJJYIaIUwIzr0g_0000': ['Microsoft'], 'GSUfBYBrcun1eU14bXHPTw_0000': ['cisco advanced services', 'cse - data center', 'nce - dcvp'], '8hnPYFLinCCY-8ey3vCf1g_0000': ['SM Services'], '4x02n4MdwY4d1urVCAulfA_0000': ['Damas Jewellery LLC'], 'BHr-j7dz7Lsw9qNwSWwi7w_0000': ['vardhman polytex limited', 'vardhman polytex limited'], 'W316SbrGOZUSE5kBm12DXQ_0000': ['Northern Manufacturing'], '1z74KV51-kV-2wBK0w1wsg_0000': ['j&d electric'], 'HwzQJazn1qd8DNHHbF025A_0000': ['StubHub', 'eBay', 'Operations', 'Versity.com', 'the Wharton School of Business', 'the University of Pennsylvania'], 'yd6apUIURzyvZIEG5obZ6w_0000': ['geico university for geico insurance company geico', 'training & geico university', 'washington d.c.', 'university of maryland'], 'PBTMD9JHy1B2bWTnzvd02Q_0000': ['Student Services', 'Penn Manor School District'], 'H0QF2Fnqn3678hEQ9eXBmg_0000': ['Country Estate Fence Inc'], 'jRlkYKPVCOUag3thZ22buA_0000': ['standard chartered bank'], 'pXCUO2AQY7TeF4yRQbfBFQ_0000': ['[bank of new york mellon', 'mellon', 'mellon'], 'PnBlQve9incjPxS3y42B9Q_0000': ['Exterior VW Argentina SA'], 'EjbbcUH-R7umioECmlkhSg_0000': ['arts council of lake oswego', 'national mining hall of fame and museum'], 'GJ5r9NkYnKVttriVJVBw4Q_0000': ['Human Resources'], 'WwP8CpXcek79jywBYuPbCA_0000': ['agsm / unsw', 'agsm / unsw', 'axt pty ltd', 'axt pty ltd'], 'jCCbLEKfXwAlQ9ABOvfgSw_0000': ['xiaomi technology india pvt ltd', 'mis', 'capex accounting', 'sox', 'financial planning & analysis', 'mis', 'india pvt ltd', 'mis', 'capex accounting', 'sox', 'financial planning & analysis', 'mis', 'india pvt ltd', 'xiaomi technology'], 'Ifxlgw-cTST7RYL85yjpGw_0000': ['Centura Floor'], 'cih6os9c9gKWAOuE8ZJ6bA_0000': ['[factory planning &', 'gwa bathrooms & kitchens'], 'CGZ36NQRJUy2jHXOnf1hwg_0000': ['Independent Business Owner'], 'cYro04Vm8jYanZOgI1TyEQ_0000': ['management & hr consultancy'], 'g5jadETOq0mQBvnHMHo46A_0000': ['Catholic Charities San Bernardino & Riverside Counties'], '02zqTeZmqfuGAT5nq9NU0A_0000': ['life ltd', 'boiler & central', 'service & care', 'honest & reliable service', 'chartered institute of plumbing & heating engineering', 'central heating - service & breakdown\\nwetrooms & bathrooms - design &', 'kitchens - design &', 'life ltd'], 'rGhlpQQYSqyR-uA0lDyh3g_0000': ['Independent Interactive Design Professional'], '6dMN5SLVO-W8scSmDm2OaQ_0000': ['Veterinarian/Owner'], 'z1XzMeYMqKYVTef6GOCkMA_0000': ['Virgin Atlantic Airways'], 'fslK5uOCNykpnJ7ByF63iw_0000': ['information technology & customer service industries', 'banking & finance', 'westpac, finance trainee', 'westpac group', 'westpac'], 'GYdcJuPcUVOWRFs1hUhT5Q_0000': ['american express', 'american express'], 'PQMr91HIPEG-5CVXoBL6ew_0000': ['sits - skatteetatens it- & servicepartner'], 'BN7kbXgSyinXPNGq3QeLsw_0000': ['serenity health & wellness'], 'mjf1zrs16h0B-3BERHBrAA_0000': ['Graduate of Georgia Southern University'], 'fQ227bT0DL1TU1sgFOXfAw_0000': ['global brand &', 'campaigns & events', 'digital', 'founder &'], 'EkrsGQTtm1yNBgZSxyITrQ_0000': ['IND & MED Quality Control', 'The Linde Group'], 'QPbbhIwddixcyRAkAArJbQ_0000': ['Hamat Alezz Trading'], 'aHuIm-R2-F3I5PIlyoAsyg_0000': ['Hussung Mechanical Contractors, Inc. / HMC Service Company'], 'yr8j5G9a8bZvqQnKB2pSiQ_0000': ['delphi diesel systems'], 'wh3MLMsWG1PLMeTDoBWJXg_0000': ['php', 'iip'], 'z4lf8UhhgrUuuqASPoYjDA_0000': ['the American Society of Military Comptrollers'], 'rB2zaT2BsUzaW3gfwAPzSA_0000': ['nui galway'], 'gcC-dCidfxPrUMbN594VFg_0000': ['tanta recuitment', 'croydon', 'www.tantarecruitment.com', 'yoti ltd', 'expedia, inc.', 'tanta recruitment'], 'ovYcIrlouLcrv0Vv7lF8QA_0000': ['the learning sciences', 'the wolf museum of exploration', 'santa clara university'], 'O5s4oLY9u-deSjoA0iS2vw_0000': ['Filippa-K'], 'KnmIwiduHvfaBwxWbaJ9CQ_0000': ['NOLS Patagonia'], 'Sy3bZ8mywr5Uwc3CQENdhQ_0000': ['Boys & Girls Club'], 'iHG8c3dQz0W3Mf1EkN-1Lw_0000': ['eVision'], 'W5TG6gyYKPwgQPFQ4grLJw_0000': ['HAI Group'], 'rzXSztBTm-edWFthXBRbvQ_0000': ['digital', 'rhino-rack', 'digital', 'the avis budget group', 'infocouncil pty ltd'], 'zha7Rwkzs-cnHnjvb3GRzQ_0000': ['freelance web journalist & content', 'web journalist & content', 'chez freelance'], 'W73E15UUIoTlwH92NUx-0w_0000': ['mmg limited', 'monash university'], 'zGhD-IfmgkyMijs5BB7d1A_0000': ['Uk Ltd'], '9cUWH8Q-4PM4pomeF9siBg_0000': ['crm', 'london metropolitan university.'], 'FM9HvfZixBRSbjWagKjd2Q_0000': ['asura risk management & insurance services'], '8rz6gNW-WJv9PORClfDBCg_0000': ['[fp consulting ltd', 'fp consulting ltd', 'health & safety', 'fp consulting ltd', 'fp consulting ltd'], 'timdbNo3XQGlfsXSvyKKkA_0000': ['ethiopian railway corporation'], 'GNBJ1ZPMf2vgvT1ITKmRQQ_0000': ['SunChase Condominium'], 'g827B97533fQiEqRUX3L5w_0000': ['The Farm at Collins', 'LLC'], 'MnzdaIDC0mt46if5rVu3qA_0000': ['LEXA Event Management', 'LEXA Global Resources'], 'Dn4kkCp1l2zOPV576sJznw_0000': ['sennheiser electronic', 'people development & change'], 'XsNx7nnGlpFsGFd9rEFspA_0000': ['connect group n.v.'], 'ZaVALboFltZwoD2QcezbSQ_0000': ['sysnet technology solutions pvt.ltd', 'erp international...', 'sysnet technology solutions inc'], 'tAN3G8by5GzxcJE3RPk7wg_0000': ['Accounts Executive', 'Genius Consultants Limited'], 'iZ8Z21RJCnobjKEsgBIxSA_0000': ['Board Member', 'Spirit League'], 'Vj8O0j4HUAOlPYQmFlxd-g_0000': ['Open University of Tanzania'], 'ZRdW9dncO3oJoBzCywY9-w_0000': ['| symfony & angular js', '| php & python |'], 'e-hnrv6uPCYUXP81kup8SQ_0000': ['Stapleton Group, Inc.'], 'ATBZHgsnHCCqy6a1mYWVtw_0000': ['medicare'], '-F2S7sWt2LwzIR7biTVDJw_0000': ['Peking University'], 'fQZ5zRL9kOQZ7h6U8HPtGg_0000': ['NZQA'], 'hlivuQcSvtGPeUZRVWBldA_0000': ['Speedy mart']}\n"
     ]
    }
   ],
   "source": [
    "# function call\n",
    "company_names_description = dictionary_with_title_description(summary)"
   ]
  },
  {
   "cell_type": "code",
   "execution_count": 10,
   "metadata": {
    "id": "h4StonD_jbCU"
   },
   "outputs": [],
   "source": [
    "def new_swapped_dict(df, company_names_description):\n",
    "  company_names_description_new = {}\n",
    "  \n",
    "  for key, value in company_names_description.items():\n",
    "    \n",
    "    for j in range(0, len(value)):\n",
    "      \n",
    "      company_names_description_new[value[j]] = key\n",
    "    \n",
    "  final_dictionary = {}\n",
    "  \n",
    "  for key, val in company_names_description_new.items():\n",
    "    for i in range(0 , len(tech)):\n",
    "      if fuzz.ratio(key, tech.loc[i, \"title\"]) > 70:\n",
    "        final_dictionary.setdefault(val,[])\n",
    "        final_dictionary[val].append(tech.loc[i, \"title\"])\n",
    "        # entries are of type : final_dictionary{'blog_id': company ids}\n",
    "\n",
    "  return company_names_description_new, final_dictionary"
   ]
  },
  {
   "cell_type": "code",
   "execution_count": 11,
   "metadata": {
    "id": "9dDkJIOo3qzA"
   },
   "outputs": [],
   "source": [
    "# function call\n",
    "company_names_description_new, final_dictionary = new_swapped_dict(summary, company_names_description)"
   ]
  },
  {
   "cell_type": "code",
   "execution_count": 12,
   "metadata": {
    "colab": {
     "base_uri": "https://localhost:8080/",
     "height": 204
    },
    "id": "AZlaGew0mUpG",
    "outputId": "3df1e0b4-aeb7-46fd-9a7a-296e40320c55"
   },
   "outputs": [
    {
     "data": {
      "text/html": [
       "<div>\n",
       "<style scoped>\n",
       "    .dataframe tbody tr th:only-of-type {\n",
       "        vertical-align: middle;\n",
       "    }\n",
       "\n",
       "    .dataframe tbody tr th {\n",
       "        vertical-align: top;\n",
       "    }\n",
       "\n",
       "    .dataframe thead th {\n",
       "        text-align: right;\n",
       "    }\n",
       "</style>\n",
       "<table border=\"1\" class=\"dataframe\">\n",
       "  <thead>\n",
       "    <tr style=\"text-align: right;\">\n",
       "      <th></th>\n",
       "      <th>title</th>\n",
       "      <th>id</th>\n",
       "    </tr>\n",
       "  </thead>\n",
       "  <tbody>\n",
       "    <tr>\n",
       "      <th>0</th>\n",
       "      <td>Lattice</td>\n",
       "      <td>0</td>\n",
       "    </tr>\n",
       "    <tr>\n",
       "      <th>1</th>\n",
       "      <td>WorkflowMax</td>\n",
       "      <td>1</td>\n",
       "    </tr>\n",
       "    <tr>\n",
       "      <th>2</th>\n",
       "      <td>InGenius</td>\n",
       "      <td>2</td>\n",
       "    </tr>\n",
       "    <tr>\n",
       "      <th>3</th>\n",
       "      <td>DealHub</td>\n",
       "      <td>3</td>\n",
       "    </tr>\n",
       "    <tr>\n",
       "      <th>4</th>\n",
       "      <td>Ebsta</td>\n",
       "      <td>4</td>\n",
       "    </tr>\n",
       "  </tbody>\n",
       "</table>\n",
       "</div>"
      ],
      "text/plain": [
       "         title  id\n",
       "0      Lattice   0\n",
       "1  WorkflowMax   1\n",
       "2     InGenius   2\n",
       "3      DealHub   3\n",
       "4        Ebsta   4"
      ]
     },
     "execution_count": 12,
     "metadata": {
      "tags": []
     },
     "output_type": "execute_result"
    }
   ],
   "source": [
    "tech[\"id\"] = tech.index\n",
    "tech.head()"
   ]
  },
  {
   "cell_type": "code",
   "execution_count": 13,
   "metadata": {
    "id": "ykWbBVlwv_t3"
   },
   "outputs": [],
   "source": [
    "try:\n",
    "  \n",
    "  for k, v in final_dictionary.items():\n",
    "    # x = summary[\"summaries\"].loc(summary[\"id\"] == k)\n",
    "    # print(x)\n",
    "    new_row = {'id':k,'Technology_Names': final_dictionary[k]}\n",
    "    output = output.append(new_row, ignore_index=True)\n",
    "\n",
    "except Exception as e :\n",
    "  print(\"\\n\\n\", e)"
   ]
  },
  {
   "cell_type": "code",
   "execution_count": 14,
   "metadata": {
    "colab": {
     "base_uri": "https://localhost:8080/",
     "height": 204
    },
    "id": "e2kWNI9x-l8i",
    "outputId": "ba670f2b-010c-489d-d10a-452d01413d34"
   },
   "outputs": [
    {
     "data": {
      "text/html": [
       "<div>\n",
       "<style scoped>\n",
       "    .dataframe tbody tr th:only-of-type {\n",
       "        vertical-align: middle;\n",
       "    }\n",
       "\n",
       "    .dataframe tbody tr th {\n",
       "        vertical-align: top;\n",
       "    }\n",
       "\n",
       "    .dataframe thead th {\n",
       "        text-align: right;\n",
       "    }\n",
       "</style>\n",
       "<table border=\"1\" class=\"dataframe\">\n",
       "  <thead>\n",
       "    <tr style=\"text-align: right;\">\n",
       "      <th></th>\n",
       "      <th>id</th>\n",
       "      <th>Technology_Names</th>\n",
       "    </tr>\n",
       "  </thead>\n",
       "  <tbody>\n",
       "    <tr>\n",
       "      <th>0</th>\n",
       "      <td>FnuiJCYmhgCYdhjrUgiXpg_0000</td>\n",
       "      <td>[YTZ International, ITN International, Retain ...</td>\n",
       "    </tr>\n",
       "    <tr>\n",
       "      <th>1</th>\n",
       "      <td>0DxoDBIf4Gu73Qq9gnk-kA_0000</td>\n",
       "      <td>[CINC]</td>\n",
       "    </tr>\n",
       "    <tr>\n",
       "      <th>2</th>\n",
       "      <td>XimiDkHNmTI8QRdUw4IJGQ_0000</td>\n",
       "      <td>[YTZ International, ITN International, Profile...</td>\n",
       "    </tr>\n",
       "    <tr>\n",
       "      <th>3</th>\n",
       "      <td>XBCv9B5Nfo4YmUkGlBosSQ_0000</td>\n",
       "      <td>[Technomedia, W3B Project Management, Azure Co...</td>\n",
       "    </tr>\n",
       "    <tr>\n",
       "      <th>4</th>\n",
       "      <td>9qxO5Zf9PqKsuOjQl7wQRQ_0000</td>\n",
       "      <td>[Microsoft FRx, Microsoft IIS, Microsoft.NET]</td>\n",
       "    </tr>\n",
       "  </tbody>\n",
       "</table>\n",
       "</div>"
      ],
      "text/plain": [
       "                            id                                   Technology_Names\n",
       "0  FnuiJCYmhgCYdhjrUgiXpg_0000  [YTZ International, ITN International, Retain ...\n",
       "1  0DxoDBIf4Gu73Qq9gnk-kA_0000                                             [CINC]\n",
       "2  XimiDkHNmTI8QRdUw4IJGQ_0000  [YTZ International, ITN International, Profile...\n",
       "3  XBCv9B5Nfo4YmUkGlBosSQ_0000  [Technomedia, W3B Project Management, Azure Co...\n",
       "4  9qxO5Zf9PqKsuOjQl7wQRQ_0000      [Microsoft FRx, Microsoft IIS, Microsoft.NET]"
      ]
     },
     "execution_count": 14,
     "metadata": {
      "tags": []
     },
     "output_type": "execute_result"
    }
   ],
   "source": [
    "# try:\n",
    "#   for i in range(0, len(summary)):\n",
    "#     new_row_2 = {'id':summary[\"id\"][i], 'summaries':summary[\"summaries\"][i], 'Technology_Names':final_dictionary[summary[\"id\"][i]]}\n",
    "#     output_2 = output.append(new_row, ignore_index=True)\n",
    "\n",
    "# except Exception as e :\n",
    "#   print(\"\\n\\n\", e)\n",
    "output.head()"
   ]
  },
  {
   "cell_type": "code",
   "execution_count": 15,
   "metadata": {
    "id": "ZIydqgqt4sCu"
   },
   "outputs": [],
   "source": [
    "output.to_csv(\"Output-NER_spacy(Test-23-02-profiles).csv\", index = False)"
   ]
  },
  {
   "cell_type": "code",
   "execution_count": 15,
   "metadata": {
    "id": "Gb7AF6NV7wd1"
   },
   "outputs": [],
   "source": []
  }
 ],
 "metadata": {
  "colab": {
   "collapsed_sections": [],
   "name": "NER_v4.ipynb",
   "provenance": []
  },
  "kernelspec": {
   "display_name": "Python 3",
   "language": "python",
   "name": "python3"
  },
  "language_info": {
   "codemirror_mode": {
    "name": "ipython",
    "version": 3
   },
   "file_extension": ".py",
   "mimetype": "text/x-python",
   "name": "python",
   "nbconvert_exporter": "python",
   "pygments_lexer": "ipython3",
   "version": "3.8.2"
  }
 },
 "nbformat": 4,
 "nbformat_minor": 1
}
