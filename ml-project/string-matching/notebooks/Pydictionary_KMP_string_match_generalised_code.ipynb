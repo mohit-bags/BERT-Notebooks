{
 "cells": [
  {
   "cell_type": "code",
   "execution_count": 1,
   "metadata": {
    "id": "3AqmWw0zX0CG"
   },
   "outputs": [],
   "source": [
    "# importing libraries\n",
    "import nltk\n",
    "from PyDictionary import PyDictionary\n",
    "import pandas as pd\n",
    "import numpy as np\n",
    "import ast\n",
    "import json\n",
    "import re\n",
    "from tqdm import tqdm\n",
    "import time\n",
    "from nltk.stem.wordnet import WordNetLemmatizer\n",
    "from collections import OrderedDict "
   ]
  },
  {
   "cell_type": "code",
   "execution_count": 2,
   "metadata": {
    "id": "ZzBHezmzHJNZ"
   },
   "outputs": [],
   "source": [
    "# tagged dataset original\n",
    "summary = pd.read_csv(\"1000_tagged_simanchala/1000_Simanchala_Manual_Tagged_final.csv\")\n",
    "# summary = pd.read_csv(\"1000_tagged_simanchala/tech_sort1k.csv\")\n",
    "\n",
    "# technology dataset, after dictionary split\n",
    "tech = pd.read_csv(\"Tech_pydictionary_2.csv\")\n",
    "\n",
    "# output sheet\n",
    "output = pd.read_csv(\"Dataset/output - output.csv\")"
   ]
  },
  {
   "cell_type": "code",
   "execution_count": 3,
   "metadata": {},
   "outputs": [
    {
     "data": {
      "text/plain": [
       "1001"
      ]
     },
     "execution_count": 3,
     "metadata": {},
     "output_type": "execute_result"
    }
   ],
   "source": [
    "len(summary)"
   ]
  },
  {
   "cell_type": "code",
   "execution_count": 4,
   "metadata": {},
   "outputs": [],
   "source": [
    "summary = summary.loc[:1]"
   ]
  },
  {
   "cell_type": "code",
   "execution_count": 5,
   "metadata": {},
   "outputs": [
    {
     "data": {
      "text/html": [
       "<div>\n",
       "<style scoped>\n",
       "    .dataframe tbody tr th:only-of-type {\n",
       "        vertical-align: middle;\n",
       "    }\n",
       "\n",
       "    .dataframe tbody tr th {\n",
       "        vertical-align: top;\n",
       "    }\n",
       "\n",
       "    .dataframe thead th {\n",
       "        text-align: right;\n",
       "    }\n",
       "</style>\n",
       "<table border=\"1\" class=\"dataframe\">\n",
       "  <thead>\n",
       "    <tr style=\"text-align: right;\">\n",
       "      <th></th>\n",
       "      <th>id</th>\n",
       "      <th>summaries</th>\n",
       "      <th>exact_matched_patt_contextual</th>\n",
       "      <th>Note</th>\n",
       "    </tr>\n",
       "  </thead>\n",
       "  <tbody>\n",
       "    <tr>\n",
       "      <th>0</th>\n",
       "      <td>-18msGiQiE2XLdy6XWGAEQ_0000</td>\n",
       "      <td>10+ years of leveraged finance and investment ...</td>\n",
       "      <td>NaN</td>\n",
       "      <td>NaN</td>\n",
       "    </tr>\n",
       "    <tr>\n",
       "      <th>1</th>\n",
       "      <td>-4ldAQ53se0hp9GU5FgnIQ_0000</td>\n",
       "      <td>an extremely driven professional within the bi...</td>\n",
       "      <td>NaN</td>\n",
       "      <td>NaN</td>\n",
       "    </tr>\n",
       "  </tbody>\n",
       "</table>\n",
       "</div>"
      ],
      "text/plain": [
       "                            id  \\\n",
       "0  -18msGiQiE2XLdy6XWGAEQ_0000   \n",
       "1  -4ldAQ53se0hp9GU5FgnIQ_0000   \n",
       "\n",
       "                                           summaries  \\\n",
       "0  10+ years of leveraged finance and investment ...   \n",
       "1  an extremely driven professional within the bi...   \n",
       "\n",
       "  exact_matched_patt_contextual Note  \n",
       "0                           NaN  NaN  \n",
       "1                           NaN  NaN  "
      ]
     },
     "execution_count": 5,
     "metadata": {},
     "output_type": "execute_result"
    }
   ],
   "source": [
    "summary.head()"
   ]
  },
  {
   "cell_type": "code",
   "execution_count": 6,
   "metadata": {},
   "outputs": [],
   "source": [
    "# sorting by id\n",
    "summary = summary.sort_values(by=['id'], ascending=False)\n",
    "summary.reset_index(inplace = True, drop = True)\n",
    "summary.drop(columns = [\"Note\"], axis =1, inplace = True)"
   ]
  },
  {
   "cell_type": "markdown",
   "metadata": {
    "id": "fg0Yg8HxIDJ1"
   },
   "source": [
    "* PyDictionary *"
   ]
  },
  {
   "cell_type": "code",
   "execution_count": 7,
   "metadata": {
    "id": "OPQ0094HKiSs"
   },
   "outputs": [],
   "source": [
    "# k = [\"Customer Relationship Management\", \"Lattice\", \"Java\", \"Oyez Forms\", \"outsourcing\", \"sigma\", \"built in\"]"
   ]
  },
  {
   "cell_type": "code",
   "execution_count": 8,
   "metadata": {
    "id": "gvbQcvauJZLt"
   },
   "outputs": [],
   "source": [
    "\n",
    "# def contains_multiple_words(s):\n",
    "#   return len(re.compile('\\W').split(s)) > 1"
   ]
  },
  {
   "cell_type": "code",
   "execution_count": 9,
   "metadata": {
    "id": "aM1qNDhiT8T3"
   },
   "outputs": [],
   "source": [
    "\n",
    "# def contains_single_words(s):\n",
    "#   v = len(re.compile('\\W').split(s))\n",
    "#   print(v)\n",
    "#   if (v)==1:\n",
    "#     return True\n",
    "#   else:\n",
    "#     return False "
   ]
  },
  {
   "cell_type": "code",
   "execution_count": 10,
   "metadata": {
    "id": "pXRwnd4ndtKu"
   },
   "outputs": [],
   "source": [
    "# x = contains_single_words(\"Customer Relationship Management\")\n",
    "# x"
   ]
  },
  {
   "cell_type": "code",
   "execution_count": 11,
   "metadata": {
    "id": "ZEph884-KTJJ"
   },
   "outputs": [],
   "source": [
    "# def convert_single_word(string_tech):\n",
    "#     return (string_tech.split())"
   ]
  },
  {
   "cell_type": "code",
   "execution_count": 12,
   "metadata": {
    "id": "PBjpY6PBYC_v"
   },
   "outputs": [],
   "source": [
    "# def give_base_form(word):\n",
    "#   for word in words:\n",
    "#     h = WordNetLemmatizer().lemmatize(word,'v')\n",
    "#   return h"
   ]
  },
  {
   "cell_type": "code",
   "execution_count": 13,
   "metadata": {
    "id": "yow2Ny36RfEl"
   },
   "outputs": [],
   "source": [
    "# # # dictionary=PyDictionary(\"hotel\",\"ambush\",\"nonchalant\",\"perceptive\")\n",
    "# # # 'There can be any number of words in the Instance'\n",
    "\n",
    "# # # print(dictionary.printMeanings()) \n",
    "# # # print(dictionary.getMeanings()) \n",
    "# # # print (dictionary.getSynonyms())\n",
    "\n",
    "# # # print (dictionary.translateTo(\"hi\"))\n",
    "\n",
    "# # dict_eng = {}\n",
    "# # dict_tech = {}\n",
    "# # none_set = set([None])\n",
    "# # for i in range(0, len(k)):\n",
    "# #   print(i)\n",
    "# #   check = []\n",
    "# #   word = k[i]\n",
    "# #   dictionary=PyDictionary(word)\n",
    "# #   f = dictionary.getMeanings()\n",
    "# #   if f[word] is None and contains_single_words(word):\n",
    "# #     print(\"\\n 1. Single Word and not in Dictionary\\n\")\n",
    "# #     print(\"\\n\\n Searching Base Form \\n\\n\")\n",
    "# #     dict_tech[i] = word\n",
    "# #   elif f[word] is None and contains_multiple_words(word):\n",
    "# #     print(\"\\n 2. Multiple Words and in one go not in dictionary, so split them individualy and check \\n\")\n",
    "# #     a = convert_single_word(word)\n",
    "# #     for j in range(0, len(a)):\n",
    "# #       dictionary_2 = PyDictionary(a[j])\n",
    "# #       g = dictionary_2.getMeanings()\n",
    "# #       check.append(g[a[j]])\n",
    "\n",
    "# #     if None in check:\n",
    "# #       print(\"\\n 2.1 All words in Multi Words are not English, put in Technology List\\n\")\n",
    "# #       dict_tech[i] = word\n",
    "\n",
    "# #     else:\n",
    "# #       print(\"\\n 2.2 All words in Multi Words are English, put in English List\\n\")\n",
    "# #       dict_eng[i] = word\n",
    "# #   else:\n",
    "# #     print(\"\\n 3 Single words and present in dictionary\\n\")\n",
    "# #     dict_eng[i] = word\n",
    "\n",
    "# # dictionary=PyDictionary(\"hotel\",\"ambush\",\"nonchalant\",\"perceptive\")\n",
    "# # 'There can be any number of words in the Instance'\n",
    "\n",
    "# # print(dictionary.printMeanings()) \n",
    "# # print(dictionary.getMeanings()) \n",
    "# # print (dictionary.getSynonyms())\n",
    "\n",
    "# # print (dictionary.translateTo(\"hi\"))\n",
    "# def dictionary_splitting(tech):\n",
    "\n",
    "#   dict_eng = {}\n",
    "#   dict_tech = {}\n",
    "#   none_set = set([None])\n",
    "#   for i in range(0, len(tech)):\n",
    "#     print(\"\\n Currently at Index :\\n\",i)\n",
    "#     check = []\n",
    "#     word = tech[\"title\"][i]\n",
    "#     dictionary=PyDictionary(word)\n",
    "#     f = dictionary.getMeanings()\n",
    "#     if f[word] is None and contains_single_words(word):\n",
    "#       dict_tech[i] = word\n",
    "#     elif f[word] is None and contains_multiple_words(word):\n",
    "#       a = convert_single_word(word)\n",
    "#       for j in range(0, len(a)):\n",
    "#         dictionary_2 = PyDictionary(a[j])\n",
    "#         g = dictionary_2.getMeanings()\n",
    "#         check.append(g[a[j]])\n",
    "\n",
    "#       if None in check:\n",
    "#         dict_tech[i] = word\n",
    "\n",
    "#       else:\n",
    "#         dict_eng[i] = word\n",
    "#     else:\n",
    "#       dict_eng[i] = word\n",
    "\n",
    "#   return dict_eng, dict_tech"
   ]
  },
  {
   "cell_type": "code",
   "execution_count": 14,
   "metadata": {
    "colab": {
     "base_uri": "https://localhost:8080/"
    },
    "id": "f2TRHSMzeNpp",
    "outputId": "65522d55-06f7-4332-ded5-2d303322aac7"
   },
   "outputs": [],
   "source": [
    "# dict_eng, dict_tech = dictionary_splitting(tech)"
   ]
  },
  {
   "cell_type": "code",
   "execution_count": 15,
   "metadata": {},
   "outputs": [],
   "source": [
    "# dict_eng"
   ]
  },
  {
   "cell_type": "code",
   "execution_count": 16,
   "metadata": {},
   "outputs": [],
   "source": [
    "# dict_tech"
   ]
  },
  {
   "cell_type": "code",
   "execution_count": 17,
   "metadata": {},
   "outputs": [],
   "source": [
    "# print(\"Length of English dictionary\", len(dict_eng), \"Length of Tech dictionary\", len(dict_tech))"
   ]
  },
  {
   "cell_type": "code",
   "execution_count": 18,
   "metadata": {
    "id": "YC1nxUwBmi7o"
   },
   "outputs": [],
   "source": [
    "# df_eng = pd.DataFrame.from_dict(dict_eng, orient ='index') \n",
    "# df_tech = pd.DataFrame.from_dict(dict_tech, orient ='index') \n",
    "# df_eng.columns = [\"English_word\"]\n",
    "# df_tech.columns = [\"Tech_word\"]"
   ]
  },
  {
   "cell_type": "code",
   "execution_count": 19,
   "metadata": {
    "colab": {
     "base_uri": "https://localhost:8080/",
     "height": 204
    },
    "id": "7dOVb35Mmy7F",
    "outputId": "e05985da-db83-44fb-8574-37611611fdbb"
   },
   "outputs": [],
   "source": [
    "# df_eng.head()"
   ]
  },
  {
   "cell_type": "code",
   "execution_count": 20,
   "metadata": {
    "colab": {
     "base_uri": "https://localhost:8080/",
     "height": 80
    },
    "id": "oqOkzztkm11B",
    "outputId": "44ec3b8a-1fa3-419a-e33b-635e3aed8efb"
   },
   "outputs": [],
   "source": [
    "# df_tech.head()"
   ]
  },
  {
   "cell_type": "code",
   "execution_count": 21,
   "metadata": {},
   "outputs": [],
   "source": [
    "# df_tech.reset_index(inplace = True, drop = True)"
   ]
  },
  {
   "cell_type": "code",
   "execution_count": 22,
   "metadata": {
    "colab": {
     "base_uri": "https://localhost:8080/"
    },
    "id": "ZpH6P80jeR8u",
    "outputId": "21fda673-31ec-4741-d6f7-d7bddbdb9402"
   },
   "outputs": [],
   "source": [
    "# df_eng.to_csv(\"Eng_pydictionary.csv\", index = True)\n",
    "# df_tech.to_csv(\"Tech_pydictionary.csv\", index = True)"
   ]
  },
  {
   "cell_type": "code",
   "execution_count": 23,
   "metadata": {
    "id": "R-H36xkhjscG"
   },
   "outputs": [],
   "source": [
    "# df_eng.to_csv(\"Eng_pydictionary_2.csv\", index = True)\n",
    "# df_tech.to_csv(\"Tech_pydictionary_2.csv\", index = True)"
   ]
  },
  {
   "cell_type": "code",
   "execution_count": 24,
   "metadata": {
    "id": "PcsKPEm7H-n_"
   },
   "outputs": [],
   "source": [
    "# eng_dictionary.columns = [\"index\", \"title\"]\n",
    "# eng_dictionary.drop(columns = [\"index\"], axis =1 , inplace = True)\n",
    "# # eng_dictionary.set_index(\"index\", inplace = True)"
   ]
  },
  {
   "cell_type": "code",
   "execution_count": 25,
   "metadata": {
    "id": "9MkktojzHJNa"
   },
   "outputs": [],
   "source": [
    "# summary = summary.sort_values(by=['id'], ascending=False)\n",
    "# summary.reset_index(inplace = True, drop = True)\n",
    "# # summary_copy = summary.iloc[2000:10000]\n",
    "# # summary_copy.reset_index(inplace = True, drop = True)"
   ]
  },
  {
   "cell_type": "code",
   "execution_count": null,
   "metadata": {},
   "outputs": [],
   "source": []
  },
  {
   "cell_type": "code",
   "execution_count": 26,
   "metadata": {},
   "outputs": [
    {
     "data": {
      "text/plain": [
       "24057"
      ]
     },
     "execution_count": 26,
     "metadata": {},
     "output_type": "execute_result"
    }
   ],
   "source": [
    "len(tech)"
   ]
  },
  {
   "cell_type": "code",
   "execution_count": 27,
   "metadata": {},
   "outputs": [],
   "source": [
    "tech.columns = [\"index\", \"title\"]\n",
    "tech.drop(columns = [\"index\"], axis =1 , inplace = True)\n",
    "tech.reset_index(inplace = True, drop = True)"
   ]
  },
  {
   "cell_type": "code",
   "execution_count": 28,
   "metadata": {
    "id": "57uvoEsfHJNa",
    "outputId": "3772fc88-899a-4b98-e843-5042d21a6688"
   },
   "outputs": [
    {
     "data": {
      "text/html": [
       "<div>\n",
       "<style scoped>\n",
       "    .dataframe tbody tr th:only-of-type {\n",
       "        vertical-align: middle;\n",
       "    }\n",
       "\n",
       "    .dataframe tbody tr th {\n",
       "        vertical-align: top;\n",
       "    }\n",
       "\n",
       "    .dataframe thead th {\n",
       "        text-align: right;\n",
       "    }\n",
       "</style>\n",
       "<table border=\"1\" class=\"dataframe\">\n",
       "  <thead>\n",
       "    <tr style=\"text-align: right;\">\n",
       "      <th></th>\n",
       "      <th>title</th>\n",
       "    </tr>\n",
       "  </thead>\n",
       "  <tbody>\n",
       "    <tr>\n",
       "      <th>0</th>\n",
       "      <td>WorkflowMax</td>\n",
       "    </tr>\n",
       "    <tr>\n",
       "      <th>1</th>\n",
       "      <td>InGenius</td>\n",
       "    </tr>\n",
       "    <tr>\n",
       "      <th>2</th>\n",
       "      <td>DealHub</td>\n",
       "    </tr>\n",
       "    <tr>\n",
       "      <th>3</th>\n",
       "      <td>Ebsta</td>\n",
       "    </tr>\n",
       "    <tr>\n",
       "      <th>4</th>\n",
       "      <td>Repsly Mobile CRM</td>\n",
       "    </tr>\n",
       "  </tbody>\n",
       "</table>\n",
       "</div>"
      ],
      "text/plain": [
       "               title\n",
       "0        WorkflowMax\n",
       "1           InGenius\n",
       "2            DealHub\n",
       "3              Ebsta\n",
       "4  Repsly Mobile CRM"
      ]
     },
     "execution_count": 28,
     "metadata": {},
     "output_type": "execute_result"
    }
   ],
   "source": [
    "tech.head()"
   ]
  },
  {
   "cell_type": "code",
   "execution_count": 29,
   "metadata": {
    "id": "RR_KosylHJNf"
   },
   "outputs": [],
   "source": [
    "tech_list = []\n",
    "summary_list = []\n",
    "id_list = []"
   ]
  },
  {
   "cell_type": "code",
   "execution_count": 30,
   "metadata": {
    "id": "i4XtYQfhHJNg"
   },
   "outputs": [],
   "source": [
    "def KMP_String(pattern, text):\n",
    "    a = len(text)\n",
    "    b = len(pattern)\n",
    "\n",
    "    prefix_arr = get_prefix_arr(pattern, b)\n",
    "\n",
    "  \n",
    "    initial_point = []\n",
    "\n",
    "    m = 0\n",
    "    n = 0\n",
    "\n",
    "  \n",
    "    while m != a:\n",
    "       \n",
    "        if text[m] == pattern[n]:\n",
    "            m += 1\n",
    "            n += 1\n",
    "      \n",
    "        else:\n",
    "            n = prefix_arr[n-1]\n",
    "\n",
    "       \n",
    "        if n == b:\n",
    "            initial_point.append(m-n)\n",
    "            n = prefix_arr[n-1]\n",
    "        elif n == 0:\n",
    "            m += 1\n",
    "            \n",
    "    return initial_point\n",
    "\n",
    "\n",
    "\n",
    "def get_prefix_arr(pattern, b):\n",
    "    prefix_arr = [0] * b\n",
    "    n = 0\n",
    "    m = 1\n",
    "\n",
    "    while m != b:\n",
    "        if pattern[m] == pattern[n]:\n",
    "            n += 1\n",
    "            prefix_arr[m] = n\n",
    "            m += 1\n",
    "        elif n != 0:\n",
    "                n = prefix_arr[n-1]\n",
    "        else:\n",
    "            prefix_arr[m] = 0\n",
    "            m += 1\n",
    "\n",
    "    return prefix_arr"
   ]
  },
  {
   "cell_type": "code",
   "execution_count": 31,
   "metadata": {},
   "outputs": [],
   "source": [
    "summary_copy =summary"
   ]
  },
  {
   "cell_type": "code",
   "execution_count": 32,
   "metadata": {
    "id": "HvY1NE-KHJNg",
    "outputId": "e25c064d-866d-432b-8ac2-0bb7db498c05"
   },
   "outputs": [],
   "source": [
    "# converts the string of list of string\n",
    "def summary_text_preprocess(df, summary_col_name):\n",
    "    \n",
    "    for i in range(0, len(df)):\n",
    "        \n",
    "        if df[summary_col_name][i] is not np.nan:\n",
    "            demo = df[summary_col_name][i]\n",
    "            res = demo.strip('][')\n",
    "            resl = []\n",
    "            resl.append(res)\n",
    "            df[summary_col_name][i] = resl\n",
    "\n",
    "        else:\n",
    "            df[summary_col_name][i] = '[]'\n",
    "            demo = df[summary_col_name][i]\n",
    "            res = demo.strip('][')\n",
    "            resl = []\n",
    "            resl.append(res)\n",
    "            df[summary_col_name][i] = resl\n",
    "\n",
    "    return df"
   ]
  },
  {
   "cell_type": "code",
   "execution_count": 33,
   "metadata": {},
   "outputs": [],
   "source": [
    "summary = summary_text_preprocess(summary, \"summaries\")"
   ]
  },
  {
   "cell_type": "code",
   "execution_count": 34,
   "metadata": {},
   "outputs": [],
   "source": [
    "# trying joblib for paraller processing\n",
    "#Import package\n",
    "from joblib import Parallel, delayed\n",
    "from joblib import Memory"
   ]
  },
  {
   "cell_type": "code",
   "execution_count": 35,
   "metadata": {},
   "outputs": [],
   "source": [
    "backend = 'multiprocessing'"
   ]
  },
  {
   "cell_type": "code",
   "execution_count": 36,
   "metadata": {
    "id": "uFAWAaBmHJNh",
    "outputId": "0d970aea-9d58-4d38-f319-177f730f5d0d"
   },
   "outputs": [],
   "source": [
    "# String Match run for matching entries from technology list in summary column\n",
    "def final_run_string(df, tech):\n",
    "    \n",
    "    tech_list = []\n",
    "    summary_list = []\n",
    "    id_list = []\n",
    "    \n",
    "    start = time.time()\n",
    "\n",
    "    for i in range(0, len(df)):\n",
    "        print(i)\n",
    "        string = df.loc[i, \"summaries\"][0]\n",
    "        string = string.lower()\n",
    "\n",
    "        for j in range(0, len(tech)):\n",
    "            pat = tech.loc[j,\"title\"]\n",
    "            pat = pat.lower()\n",
    "\n",
    "\n",
    "            initial_index = KMP_String(pat, string)\n",
    "            if len(initial_index)!=0:\n",
    "\n",
    "                tech_list.append(pat)    \n",
    "                summary_list.append(string)\n",
    "                id_list.append(df.loc[i,\"id\"])\n",
    "\n",
    "    end = time.time() - start\n",
    "    print(\"\\n Time Taken (in s): \\n\", end)\n",
    "    return tech_list, summary_list, id_list"
   ]
  },
  {
   "cell_type": "code",
   "execution_count": 37,
   "metadata": {},
   "outputs": [
    {
     "name": "stdout",
     "output_type": "stream",
     "text": [
      "0\n",
      "1\n",
      "\n",
      " Time Taken (in s): \n",
      " 30.061142683029175\n"
     ]
    }
   ],
   "source": [
    "tech_list, summary_list, id_list = final_run_string(summary, tech)"
   ]
  },
  {
   "cell_type": "code",
   "execution_count": 38,
   "metadata": {
    "id": "YbIjEkuTHJNh"
   },
   "outputs": [],
   "source": [
    "tech_list_copy = tech_list\n",
    "id_list_copy = id_list\n",
    "summary_list_copy = summary_list"
   ]
  },
  {
   "cell_type": "code",
   "execution_count": 39,
   "metadata": {
    "id": "n_w6LNW7HJNi"
   },
   "outputs": [],
   "source": [
    "def getDuplicatesWithInfo(listOfElems):\n",
    "    ''' Get duplicate element in a list along with thier indices in list\n",
    "     and frequency count'''\n",
    "    dictOfElems = dict()\n",
    "    index = 0\n",
    "    # Iterate over each element in list and keep track of index\n",
    "    for elem in listOfElems:\n",
    "        # If element exists in dict then keep its index in list & increment its frequency\n",
    "        if elem in dictOfElems:\n",
    "            dictOfElems[elem][0] += 1\n",
    "            dictOfElems[elem][1].append(index)\n",
    "        else:\n",
    "            # Add a new entry in dictionary \n",
    "            dictOfElems[elem] = [1, [index]]\n",
    "        index += 1    \n",
    " \n",
    "    dictOfElems = { key:value for key, value in dictOfElems.items() if value[0] > 1}\n",
    "    return dictOfElems"
   ]
  },
  {
   "cell_type": "code",
   "execution_count": 40,
   "metadata": {
    "id": "mQFGu8BLHJNi"
   },
   "outputs": [],
   "source": [
    "# List of strings\n",
    "listOfElems = id_list\n",
    "dictOfElems = getDuplicatesWithInfo(listOfElems)"
   ]
  },
  {
   "cell_type": "code",
   "execution_count": 41,
   "metadata": {
    "id": "ZYuSGpEHHJNk"
   },
   "outputs": [],
   "source": [
    "df = pd.DataFrame(list(zip(id_list, summary_list, tech_list)), \n",
    "               columns =['id', 'summaries', \"Technology\"])"
   ]
  },
  {
   "cell_type": "code",
   "execution_count": 42,
   "metadata": {
    "id": "x6_r6PyAHJNk",
    "outputId": "61ac5833-bbcd-4d31-bb01-d5e046a0eb95"
   },
   "outputs": [
    {
     "data": {
      "text/html": [
       "<div>\n",
       "<style scoped>\n",
       "    .dataframe tbody tr th:only-of-type {\n",
       "        vertical-align: middle;\n",
       "    }\n",
       "\n",
       "    .dataframe tbody tr th {\n",
       "        vertical-align: top;\n",
       "    }\n",
       "\n",
       "    .dataframe thead th {\n",
       "        text-align: right;\n",
       "    }\n",
       "</style>\n",
       "<table border=\"1\" class=\"dataframe\">\n",
       "  <thead>\n",
       "    <tr style=\"text-align: right;\">\n",
       "      <th></th>\n",
       "      <th>id</th>\n",
       "      <th>summaries</th>\n",
       "      <th>Technology</th>\n",
       "    </tr>\n",
       "  </thead>\n",
       "  <tbody>\n",
       "    <tr>\n",
       "      <th>0</th>\n",
       "      <td>-4ldAQ53se0hp9GU5FgnIQ_0000</td>\n",
       "      <td>an extremely driven professional within the bi...</td>\n",
       "      <td>eschedule</td>\n",
       "    </tr>\n",
       "    <tr>\n",
       "      <th>1</th>\n",
       "      <td>-4ldAQ53se0hp9GU5FgnIQ_0000</td>\n",
       "      <td>an extremely driven professional within the bi...</td>\n",
       "      <td>xperience</td>\n",
       "    </tr>\n",
       "    <tr>\n",
       "      <th>2</th>\n",
       "      <td>-4ldAQ53se0hp9GU5FgnIQ_0000</td>\n",
       "      <td>an extremely driven professional within the bi...</td>\n",
       "      <td>iolo</td>\n",
       "    </tr>\n",
       "    <tr>\n",
       "      <th>3</th>\n",
       "      <td>-4ldAQ53se0hp9GU5FgnIQ_0000</td>\n",
       "      <td>an extremely driven professional within the bi...</td>\n",
       "      <td>and co</td>\n",
       "    </tr>\n",
       "    <tr>\n",
       "      <th>4</th>\n",
       "      <td>-4ldAQ53se0hp9GU5FgnIQ_0000</td>\n",
       "      <td>an extremely driven professional within the bi...</td>\n",
       "      <td>verifi</td>\n",
       "    </tr>\n",
       "  </tbody>\n",
       "</table>\n",
       "</div>"
      ],
      "text/plain": [
       "                            id  \\\n",
       "0  -4ldAQ53se0hp9GU5FgnIQ_0000   \n",
       "1  -4ldAQ53se0hp9GU5FgnIQ_0000   \n",
       "2  -4ldAQ53se0hp9GU5FgnIQ_0000   \n",
       "3  -4ldAQ53se0hp9GU5FgnIQ_0000   \n",
       "4  -4ldAQ53se0hp9GU5FgnIQ_0000   \n",
       "\n",
       "                                           summaries Technology  \n",
       "0  an extremely driven professional within the bi...  eschedule  \n",
       "1  an extremely driven professional within the bi...  xperience  \n",
       "2  an extremely driven professional within the bi...       iolo  \n",
       "3  an extremely driven professional within the bi...     and co  \n",
       "4  an extremely driven professional within the bi...     verifi  "
      ]
     },
     "execution_count": 42,
     "metadata": {},
     "output_type": "execute_result"
    }
   ],
   "source": [
    "df.head()"
   ]
  },
  {
   "cell_type": "code",
   "execution_count": 43,
   "metadata": {
    "id": "XQLjXOfVHJNl"
   },
   "outputs": [],
   "source": [
    "# df.to_csv(\"string_match_copy_Save17k.csv\", index = False)"
   ]
  },
  {
   "cell_type": "code",
   "execution_count": 44,
   "metadata": {
    "id": "s8o5-G8LHJNl"
   },
   "outputs": [],
   "source": [
    "for key, value in dictOfElems.items():\n",
    "#     print(\"******************\")\n",
    "#     print(\"\\n ID is..\", key )\n",
    "    a = df[\"Technology\"][value[1][0]] #this needs to be changed\n",
    "    b = []\n",
    "    b.insert(0,a)\n",
    "#     print(\"List at first index\", b)\n",
    "    for i in range(0, len(value[1])-1):\n",
    "        b.append(df[\"Technology\"][value[1][i+1]])\n",
    "        df[\"Technology\"][value[1][0]] = b\n",
    "        \n",
    "    for i in range(0, len(value[1])-1):\n",
    "        df = df.drop(index = [value[1][i+1]])\n",
    "#         print('Element = ', key , ' :: Repeated Count = ', value[0] , ' :: Index Positions =  ', value[1])"
   ]
  },
  {
   "cell_type": "code",
   "execution_count": 45,
   "metadata": {
    "id": "d6ooy5XgHJNl"
   },
   "outputs": [],
   "source": [
    "df.reset_index(inplace = True, drop = True)"
   ]
  },
  {
   "cell_type": "code",
   "execution_count": 46,
   "metadata": {
    "id": "2e5wb9xYHJNl"
   },
   "outputs": [],
   "source": [
    "# Applying Regex to filter out Invalid Words\n",
    "\n",
    "def get_exact_match(txt, tech):\n",
    "    try:\n",
    "        patt = '|'.join(['\\\\b'+elem+'\\\\b' for elem in tech])\n",
    "        matched_patt = re.findall(patt,txt)\n",
    "    except Exception as e:\n",
    "        print(e)\n",
    "        matched_patt = []\n",
    "    return matched_patt"
   ]
  },
  {
   "cell_type": "code",
   "execution_count": 47,
   "metadata": {
    "id": "75SnUiPEHJNm"
   },
   "outputs": [],
   "source": [
    "df['exact_matched_patt'] = df.apply(lambda x: get_exact_match(x[\"summaries\"], x[\"Technology\"]), axis = 1)"
   ]
  },
  {
   "cell_type": "code",
   "execution_count": 48,
   "metadata": {
    "id": "ZrEmK-bmHJNm"
   },
   "outputs": [],
   "source": [
    "# Applying Regex to filter out Invalid Words\n",
    "\n",
    "def get_exact_match_2(txt, tech):\n",
    "    try:\n",
    "        patt = '|'.join(['\\\\s'+elem+'\\\\s' for elem in tech])\n",
    "        matched_patt = re.findall(patt,txt[0])\n",
    "    except Exception as e:\n",
    "        print(e)\n",
    "        matched_patt = []\n",
    "    return matched_patt"
   ]
  },
  {
   "cell_type": "code",
   "execution_count": 49,
   "metadata": {
    "id": "pY0RNTMjHJNm"
   },
   "outputs": [],
   "source": [
    "df['matched_NER_final'] = df.apply(lambda x: get_exact_match_2(x[\"summaries\"], x[\"exact_matched_patt\"]), axis = 1)"
   ]
  },
  {
   "cell_type": "code",
   "execution_count": 50,
   "metadata": {
    "id": "1L376SdUHJNn"
   },
   "outputs": [],
   "source": [
    "for ind in df.index:\n",
    "    res = list(OrderedDict.fromkeys(df[\"exact_matched_patt\"][ind]))\n",
    "    df[\"exact_matched_patt\"][ind] = res"
   ]
  },
  {
   "cell_type": "code",
   "execution_count": 51,
   "metadata": {
    "id": "LRH_-1GKpxgX"
   },
   "outputs": [],
   "source": [
    "# if need to remove words like manager, hr manager, etc"
   ]
  },
  {
   "cell_type": "code",
   "execution_count": 52,
   "metadata": {
    "id": "PtsEfnu3HJNo"
   },
   "outputs": [],
   "source": [
    "r = pd.read_csv(\"Remove.csv\")"
   ]
  },
  {
   "cell_type": "code",
   "execution_count": 53,
   "metadata": {
    "id": "NpWUz_lbHJNo"
   },
   "outputs": [],
   "source": [
    "for i in range(0,len(r)):\n",
    "    r[\"Remove\"][i] = r[\"Remove\"][i].lower()\n",
    "    \n",
    "remove_list = r[\"Remove\"].tolist()\n",
    "remove_list.append(\"ve\")"
   ]
  },
  {
   "cell_type": "code",
   "execution_count": 54,
   "metadata": {
    "id": "-pqmPxSUHJNq"
   },
   "outputs": [],
   "source": [
    "for i in range(0, len(df)):\n",
    "    for word in list(df[\"Technology\"][i]):\n",
    "        if word in remove_list:\n",
    "            df[\"Technology\"][i].remove(word)"
   ]
  },
  {
   "cell_type": "code",
   "execution_count": 55,
   "metadata": {
    "id": "xprrY9E5HJNq"
   },
   "outputs": [],
   "source": [
    "for i in range(0, len(df)):\n",
    "    for word in list(df[\"exact_matched_patt\"][i]):\n",
    "        if word in remove_list:\n",
    "            df[\"exact_matched_patt\"][i].remove(word)"
   ]
  },
  {
   "cell_type": "code",
   "execution_count": 56,
   "metadata": {
    "id": "_wHPfgjKHJNn"
   },
   "outputs": [],
   "source": [
    "# df.to_csv(\"1000_tagged_simanchala/output_local/KMP_string_Match_newer_1000.csv\", index = False)\n",
    "# df.to_csv(\"1000_tagged_simanchala/output_local/KMP_string_Match_2_entry.csv\", index = False)"
   ]
  },
  {
   "cell_type": "markdown",
   "metadata": {},
   "source": [
    "# END"
   ]
  },
  {
   "cell_type": "markdown",
   "metadata": {},
   "source": [
    "# STRING MATCH - reducing FP"
   ]
  },
  {
   "cell_type": "code",
   "execution_count": 57,
   "metadata": {},
   "outputs": [],
   "source": [
    "# eng_list_processing = ['AIMS',\n",
    "#  'CLAIMS',\n",
    "#  'ACCOUNTS',\n",
    "#  'Progressive',\n",
    "#  'Hone',\n",
    "#  'Unbeatable',\n",
    "#  'Disco',\n",
    "#  'Assembly',\n",
    "#  'Sourcing',\n",
    "#  'PADS',\n",
    "#  'Nomad',\n",
    "#  'Grace',\n",
    "#  'Turnkey',\n",
    "#  'PROS']"
   ]
  },
  {
   "cell_type": "code",
   "execution_count": 58,
   "metadata": {},
   "outputs": [],
   "source": [
    "# for i in range(0, len(eng_list_processing)):\n",
    "#     eng_list_processing[i] = eng_list_processing[i].lower()"
   ]
  },
  {
   "cell_type": "code",
   "execution_count": 59,
   "metadata": {},
   "outputs": [],
   "source": [
    "# for i in range(0, len(df)):\n",
    "#     for word in list(df[\"exact_matched_patt\"][i]):\n",
    "#         if word in eng_list_processing:\n",
    "#             df[\"exact_matched_patt\"][i].remove(word)"
   ]
  },
  {
   "cell_type": "code",
   "execution_count": 60,
   "metadata": {},
   "outputs": [],
   "source": [
    "# for i in range(0, len(df)):\n",
    "#     for word in list(df[\"exact_matched_patt\"][i]):\n",
    "#         if word in remove_list:\n",
    "#             df[\"exact_matched_patt\"][i].remove(word)"
   ]
  },
  {
   "cell_type": "code",
   "execution_count": 61,
   "metadata": {},
   "outputs": [],
   "source": [
    "df.to_csv(\"1000_tagged_simanchala/output_local/KMP_string_Match_2_entry.csv\")"
   ]
  }
 ],
 "metadata": {
  "colab": {
   "collapsed_sections": [],
   "name": "(Pydictionary)KMP_string_match-1lakh_run.ipynb",
   "provenance": []
  },
  "kernelspec": {
   "display_name": "Python 3",
   "language": "python",
   "name": "python3"
  },
  "language_info": {
   "codemirror_mode": {
    "name": "ipython",
    "version": 3
   },
   "file_extension": ".py",
   "mimetype": "text/x-python",
   "name": "python",
   "nbconvert_exporter": "python",
   "pygments_lexer": "ipython3",
   "version": "3.9.2"
  }
 },
 "nbformat": 4,
 "nbformat_minor": 1
}
