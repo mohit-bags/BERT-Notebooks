{
 "cells": [
  {
   "cell_type": "code",
   "execution_count": 1,
   "metadata": {},
   "outputs": [],
   "source": [
    "# import os\n",
    "# print(\"PYTHONPATH:\", os.environ.get('PYTHONPATH'))\n",
    "# print(\"PATH:\", os.environ.get('PATH'))"
   ]
  },
  {
   "cell_type": "code",
   "execution_count": 2,
   "metadata": {},
   "outputs": [],
   "source": [
    "# Importing the libraries here\n",
    "\n",
    "import pandas as pd\n",
    "import numpy as np\n",
    "import ast\n",
    "import json\n",
    "from operator import add \n",
    "from operator import truediv\n",
    "import re\n",
    "# import swifter\n",
    "from tqdm import tqdm"
   ]
  },
  {
   "cell_type": "code",
   "execution_count": 3,
   "metadata": {},
   "outputs": [],
   "source": [
    "# reading the dataset\n",
    "# df_cm = pd.read_csv(\"Train_Data/Accuracy_Data/NER_Output_Collection - NER_train_ast_dump_resolve_tech_count_ner_en_large_flair_1000.csv\")\n",
    "# df_cm_orig = pd.read_csv(\"Dataset/Output/op_string/KMP_optimised_20k_profiles.csv\")\n",
    "# df_tagged = pd.read_csv(\"Train_Data/Accuracy_Data/String_Exact_Match_Technologies - String_Exact_Match_Technologies.csv\")\n",
    "\n",
    "# df_cm = pd.read_csv(\"Train_Data/Accuracy_Data/Dataset_to_run_on_all/Output/NER_train_ast_dump_resolve_ner_en_large_flair_100_tagged.csv\")\n",
    "# df_cm = pd.read_csv(\"Train_Data/Accuracy_Data/Dataset_to_run_on_all/Output/NER_train_ast_dump_resolve_ner_spacy_own_vocab_100_tagged.csv\")\n",
    "summary = pd.read_csv(\"Train_Data/Accuracy_Data/Dataset_to_run_on_all/tagged_simanchala_100.csv\")\n",
    "\n",
    "# df_cm = pd.read_csv(\"Train_Data/Accuracy_Data/Dataset_to_run_on_all/Output/NER_train_ast_dump_resolve_lg_truecase_moreTAGS_tagged_100.csv\")\n",
    "df_cm = pd.read_csv(\"Train_Data/Accuracy_Data/Dataset_to_run_on_all/Output/NER_train_ast_dump_resolve_lg__moreTAGS_tagged_100_more_ENTS.csv\")\n",
    "# df_cm = pd.read_csv(\"Train_Data/Accuracy_Data/Dataset_to_run_on_all/Output/NER_train_ast_dump_resolve_ner_spacy_own_vocab_100_tagged.csv\")\n",
    "# df_cm = pd.read_csv(\"Train_Data/Accuracy_Data/Dataset_to_run_on_all/Output/NER_train_ast_dump_resolve_ner_en_flair_100_tagged.csv\")\n",
    "# df_cm = pd.read_csv(\"Train_Data/Accuracy_Data/Dataset_to_run_on_all/Output/NER_train_ast_dump_resolve_lg__moreTAGS_tagged_100_simple_spacy.csv\")\n",
    "# df_cm = pd.read_csv(\"Train_Data/Accuracy_Data/Dataset_to_run_on_all/Output/KMP_string_Match.csv\")"
   ]
  },
  {
   "cell_type": "code",
   "execution_count": 4,
   "metadata": {},
   "outputs": [],
   "source": [
    "# ## Extracting summary to Output sheet\n",
    "# for ind in df_tagged.index:\n",
    "#     for i in summary.index:\n",
    "        \n",
    "#         if df_tagged[\"id\"][ind]==summary[\"id\"][i]:\n",
    "#             df_tagged[\"summaries\"][ind] = summary[\"summaries\"][i]"
   ]
  },
  {
   "cell_type": "code",
   "execution_count": 5,
   "metadata": {},
   "outputs": [],
   "source": [
    "# Let's see how the data looks like\n",
    "# summary.head()"
   ]
  },
  {
   "cell_type": "code",
   "execution_count": 6,
   "metadata": {},
   "outputs": [],
   "source": [
    "# len(df_cm)"
   ]
  },
  {
   "cell_type": "code",
   "execution_count": 7,
   "metadata": {},
   "outputs": [
    {
     "data": {
      "text/html": [
       "<div>\n",
       "<style scoped>\n",
       "    .dataframe tbody tr th:only-of-type {\n",
       "        vertical-align: middle;\n",
       "    }\n",
       "\n",
       "    .dataframe tbody tr th {\n",
       "        vertical-align: top;\n",
       "    }\n",
       "\n",
       "    .dataframe thead th {\n",
       "        text-align: right;\n",
       "    }\n",
       "</style>\n",
       "<table border=\"1\" class=\"dataframe\">\n",
       "  <thead>\n",
       "    <tr style=\"text-align: right;\">\n",
       "      <th></th>\n",
       "      <th>id</th>\n",
       "      <th>summaries</th>\n",
       "      <th>Technology</th>\n",
       "      <th>Technology_Names</th>\n",
       "      <th>matched_NER_by_borders</th>\n",
       "      <th>matched_NER_final</th>\n",
       "      <th>NER_Extracted_Tags</th>\n",
       "    </tr>\n",
       "  </thead>\n",
       "  <tbody>\n",
       "    <tr>\n",
       "      <th>0</th>\n",
       "      <td>zPnnWGWHb2gSYnd98GKaag_0000</td>\n",
       "      <td>['15+ years within the recruiting industry com...</td>\n",
       "      <td>unity</td>\n",
       "      <td>['industry', 'hunter', 'snap', 'sourcing', 'un...</td>\n",
       "      <td>['snap', 'industry', 'unity', 'unicorn', 'guru...</td>\n",
       "      <td>['industry', 'resource', 'sourcing', 'sourcing...</td>\n",
       "      <td>['ten years', 'statements', 'all statements', ...</td>\n",
       "    </tr>\n",
       "    <tr>\n",
       "      <th>1</th>\n",
       "      <td>z5LcE0BcZevf5WmwL8nunQ_0000</td>\n",
       "      <td>['Bachelor of science( B. S) degree in\" teleco...</td>\n",
       "      <td>microsoft office, juniper, workday, python, linux</td>\n",
       "      <td>['juniper', 'route', 'python', 'link', 'workday']</td>\n",
       "      <td>['workday', 'microsoft office', 'juniper', 'ro...</td>\n",
       "      <td>['link', 'python', 'link', 'route', 'workday']</td>\n",
       "      <td>['b. s', 'telecommunications', 'unix/', 'rstp'...</td>\n",
       "    </tr>\n",
       "    <tr>\n",
       "      <th>2</th>\n",
       "      <td>xi8skZhrJpM4GVvKfqmuiQ_0000</td>\n",
       "      <td>[\"I'm a current Online student for fashion mer...</td>\n",
       "      <td>NaN</td>\n",
       "      <td>['service', 'manager']</td>\n",
       "      <td>[]</td>\n",
       "      <td>['manager', 'manager', 'manager']</td>\n",
       "      <td>['business', 'manager', '2016-', 'advanced soc...</td>\n",
       "    </tr>\n",
       "    <tr>\n",
       "      <th>3</th>\n",
       "      <td>xemFTL4WGIObJBz0VZv0gg_0000</td>\n",
       "      <td>[\"High-Performing, Strategic-Thinking professi...</td>\n",
       "      <td>NaN</td>\n",
       "      <td>['manager', 'rapport']</td>\n",
       "      <td>['rapport', 'customer relationship management']</td>\n",
       "      <td>['rapport', 'rapport', 'rapport']</td>\n",
       "      <td>['manager', 'track record', 'projects', '8 yea...</td>\n",
       "    </tr>\n",
       "    <tr>\n",
       "      <th>4</th>\n",
       "      <td>wGX7QmVHBijxQrH-U3ncbA_0000</td>\n",
       "      <td>[\"I am a highly motivated civil engineer with ...</td>\n",
       "      <td>NaN</td>\n",
       "      <td>['industry', 'insight', 'manager']</td>\n",
       "      <td>['industry', 'insight']</td>\n",
       "      <td>['insight', 'insight', 'insight', 'insight', '...</td>\n",
       "      <td>['course', 'both perspectives', 'manager', 'te...</td>\n",
       "    </tr>\n",
       "  </tbody>\n",
       "</table>\n",
       "</div>"
      ],
      "text/plain": [
       "                            id  \\\n",
       "0  zPnnWGWHb2gSYnd98GKaag_0000   \n",
       "1  z5LcE0BcZevf5WmwL8nunQ_0000   \n",
       "2  xi8skZhrJpM4GVvKfqmuiQ_0000   \n",
       "3  xemFTL4WGIObJBz0VZv0gg_0000   \n",
       "4  wGX7QmVHBijxQrH-U3ncbA_0000   \n",
       "\n",
       "                                           summaries  \\\n",
       "0  ['15+ years within the recruiting industry com...   \n",
       "1  ['Bachelor of science( B. S) degree in\" teleco...   \n",
       "2  [\"I'm a current Online student for fashion mer...   \n",
       "3  [\"High-Performing, Strategic-Thinking professi...   \n",
       "4  [\"I am a highly motivated civil engineer with ...   \n",
       "\n",
       "                                          Technology  \\\n",
       "0                                              unity   \n",
       "1  microsoft office, juniper, workday, python, linux   \n",
       "2                                                NaN   \n",
       "3                                                NaN   \n",
       "4                                                NaN   \n",
       "\n",
       "                                    Technology_Names  \\\n",
       "0  ['industry', 'hunter', 'snap', 'sourcing', 'un...   \n",
       "1  ['juniper', 'route', 'python', 'link', 'workday']   \n",
       "2                             ['service', 'manager']   \n",
       "3                             ['manager', 'rapport']   \n",
       "4                 ['industry', 'insight', 'manager']   \n",
       "\n",
       "                              matched_NER_by_borders  \\\n",
       "0  ['snap', 'industry', 'unity', 'unicorn', 'guru...   \n",
       "1  ['workday', 'microsoft office', 'juniper', 'ro...   \n",
       "2                                                 []   \n",
       "3    ['rapport', 'customer relationship management']   \n",
       "4                            ['industry', 'insight']   \n",
       "\n",
       "                                   matched_NER_final  \\\n",
       "0  ['industry', 'resource', 'sourcing', 'sourcing...   \n",
       "1     ['link', 'python', 'link', 'route', 'workday']   \n",
       "2                  ['manager', 'manager', 'manager']   \n",
       "3                  ['rapport', 'rapport', 'rapport']   \n",
       "4  ['insight', 'insight', 'insight', 'insight', '...   \n",
       "\n",
       "                                  NER_Extracted_Tags  \n",
       "0  ['ten years', 'statements', 'all statements', ...  \n",
       "1  ['b. s', 'telecommunications', 'unix/', 'rstp'...  \n",
       "2  ['business', 'manager', '2016-', 'advanced soc...  \n",
       "3  ['manager', 'track record', 'projects', '8 yea...  \n",
       "4  ['course', 'both perspectives', 'manager', 'te...  "
      ]
     },
     "execution_count": 7,
     "metadata": {},
     "output_type": "execute_result"
    }
   ],
   "source": [
    "df_cm.head()"
   ]
  },
  {
   "cell_type": "code",
   "execution_count": 8,
   "metadata": {},
   "outputs": [
    {
     "data": {
      "text/html": [
       "<div>\n",
       "<style scoped>\n",
       "    .dataframe tbody tr th:only-of-type {\n",
       "        vertical-align: middle;\n",
       "    }\n",
       "\n",
       "    .dataframe tbody tr th {\n",
       "        vertical-align: top;\n",
       "    }\n",
       "\n",
       "    .dataframe thead th {\n",
       "        text-align: right;\n",
       "    }\n",
       "</style>\n",
       "<table border=\"1\" class=\"dataframe\">\n",
       "  <thead>\n",
       "    <tr style=\"text-align: right;\">\n",
       "      <th></th>\n",
       "      <th>Unnamed: 0</th>\n",
       "      <th>id</th>\n",
       "      <th>summaries</th>\n",
       "      <th>exact_matched_patt</th>\n",
       "      <th>Note</th>\n",
       "      <th>Technology</th>\n",
       "      <th>Not Technology</th>\n",
       "      <th>Note1</th>\n",
       "      <th>Note2</th>\n",
       "      <th>Unnamed: 8</th>\n",
       "      <th>summaries status</th>\n",
       "    </tr>\n",
       "  </thead>\n",
       "  <tbody>\n",
       "    <tr>\n",
       "      <th>0</th>\n",
       "      <td>0</td>\n",
       "      <td>zPnnWGWHb2gSYnd98GKaag_0000</td>\n",
       "      <td>[15+ years within the recruiting industry comb...</td>\n",
       "      <td>['unicorn', 'purple', 'hunter', 'unity', 'guru...</td>\n",
       "      <td>NaN</td>\n",
       "      <td>unity</td>\n",
       "      <td>unicorn, purple, hunter, guru, snap</td>\n",
       "      <td>NaN</td>\n",
       "      <td>NaN</td>\n",
       "      <td>NaN</td>\n",
       "      <td>NaN</td>\n",
       "    </tr>\n",
       "    <tr>\n",
       "      <th>1</th>\n",
       "      <td>1</td>\n",
       "      <td>z5LcE0BcZevf5WmwL8nunQ_0000</td>\n",
       "      <td>[bachelor of science (b.s) degree in \" telecom...</td>\n",
       "      <td>['microsoft office', 'juniper', 'workday', 'sw...</td>\n",
       "      <td>link</td>\n",
       "      <td>microsoft office, juniper, workday, python, linux</td>\n",
       "      <td>switch, route, link</td>\n",
       "      <td>NaN</td>\n",
       "      <td>NaN</td>\n",
       "      <td>NaN</td>\n",
       "      <td>NaN</td>\n",
       "    </tr>\n",
       "    <tr>\n",
       "      <th>2</th>\n",
       "      <td>2</td>\n",
       "      <td>xi8skZhrJpM4GVvKfqmuiQ_0000</td>\n",
       "      <td>[i'm a current online student for fashion merc...</td>\n",
       "      <td>['visually', 've', 'go']</td>\n",
       "      <td>go</td>\n",
       "      <td>NaN</td>\n",
       "      <td>visually, go</td>\n",
       "      <td>NaN</td>\n",
       "      <td>NaN</td>\n",
       "      <td>NaN</td>\n",
       "      <td>Ve</td>\n",
       "    </tr>\n",
       "    <tr>\n",
       "      <th>3</th>\n",
       "      <td>3</td>\n",
       "      <td>xemFTL4WGIObJBz0VZv0gg_0000</td>\n",
       "      <td>[high-performing,strategic-thinking profession...</td>\n",
       "      <td>['customer relationship management', 'rapport']</td>\n",
       "      <td>NaN</td>\n",
       "      <td>NaN</td>\n",
       "      <td>rapport</td>\n",
       "      <td>customer relationship management - general tec...</td>\n",
       "      <td>NaN</td>\n",
       "      <td>NaN</td>\n",
       "      <td>NaN</td>\n",
       "    </tr>\n",
       "    <tr>\n",
       "      <th>4</th>\n",
       "      <td>4</td>\n",
       "      <td>wGX7QmVHBijxQrH-U3ncbA_0000</td>\n",
       "      <td>[i am a highly motivated civil engineer with o...</td>\n",
       "      <td>['insight', 'meet']</td>\n",
       "      <td>NaN</td>\n",
       "      <td>NaN</td>\n",
       "      <td>insight, meet</td>\n",
       "      <td>NaN</td>\n",
       "      <td>NaN</td>\n",
       "      <td>NaN</td>\n",
       "      <td>NaN</td>\n",
       "    </tr>\n",
       "  </tbody>\n",
       "</table>\n",
       "</div>"
      ],
      "text/plain": [
       "   Unnamed: 0                           id  \\\n",
       "0           0  zPnnWGWHb2gSYnd98GKaag_0000   \n",
       "1           1  z5LcE0BcZevf5WmwL8nunQ_0000   \n",
       "2           2  xi8skZhrJpM4GVvKfqmuiQ_0000   \n",
       "3           3  xemFTL4WGIObJBz0VZv0gg_0000   \n",
       "4           4  wGX7QmVHBijxQrH-U3ncbA_0000   \n",
       "\n",
       "                                           summaries  \\\n",
       "0  [15+ years within the recruiting industry comb...   \n",
       "1  [bachelor of science (b.s) degree in \" telecom...   \n",
       "2  [i'm a current online student for fashion merc...   \n",
       "3  [high-performing,strategic-thinking profession...   \n",
       "4  [i am a highly motivated civil engineer with o...   \n",
       "\n",
       "                                  exact_matched_patt  Note  \\\n",
       "0  ['unicorn', 'purple', 'hunter', 'unity', 'guru...   NaN   \n",
       "1  ['microsoft office', 'juniper', 'workday', 'sw...  link   \n",
       "2                           ['visually', 've', 'go']    go   \n",
       "3    ['customer relationship management', 'rapport']   NaN   \n",
       "4                                ['insight', 'meet']   NaN   \n",
       "\n",
       "                                          Technology  \\\n",
       "0                                              unity   \n",
       "1  microsoft office, juniper, workday, python, linux   \n",
       "2                                                NaN   \n",
       "3                                                NaN   \n",
       "4                                                NaN   \n",
       "\n",
       "                        Not Technology  \\\n",
       "0  unicorn, purple, hunter, guru, snap   \n",
       "1                  switch, route, link   \n",
       "2                         visually, go   \n",
       "3                              rapport   \n",
       "4                        insight, meet   \n",
       "\n",
       "                                               Note1 Note2 Unnamed: 8  \\\n",
       "0                                                NaN   NaN        NaN   \n",
       "1                                                NaN   NaN        NaN   \n",
       "2                                                NaN   NaN        NaN   \n",
       "3  customer relationship management - general tec...   NaN        NaN   \n",
       "4                                                NaN   NaN        NaN   \n",
       "\n",
       "  summaries status  \n",
       "0              NaN  \n",
       "1              NaN  \n",
       "2               Ve  \n",
       "3              NaN  \n",
       "4              NaN  "
      ]
     },
     "execution_count": 8,
     "metadata": {},
     "output_type": "execute_result"
    }
   ],
   "source": [
    "summary.head()"
   ]
  },
  {
   "cell_type": "code",
   "execution_count": 9,
   "metadata": {},
   "outputs": [],
   "source": [
    "# df_cm['exact_matched_patt'] = summary['exact_matched_patt'].values (remove it)\n",
    "df_cm['Technology'] = summary['Technology'].values"
   ]
  },
  {
   "cell_type": "code",
   "execution_count": 10,
   "metadata": {},
   "outputs": [
    {
     "data": {
      "text/html": [
       "<div>\n",
       "<style scoped>\n",
       "    .dataframe tbody tr th:only-of-type {\n",
       "        vertical-align: middle;\n",
       "    }\n",
       "\n",
       "    .dataframe tbody tr th {\n",
       "        vertical-align: top;\n",
       "    }\n",
       "\n",
       "    .dataframe thead th {\n",
       "        text-align: right;\n",
       "    }\n",
       "</style>\n",
       "<table border=\"1\" class=\"dataframe\">\n",
       "  <thead>\n",
       "    <tr style=\"text-align: right;\">\n",
       "      <th></th>\n",
       "      <th>id</th>\n",
       "      <th>summaries</th>\n",
       "      <th>Technology</th>\n",
       "      <th>Technology_Names</th>\n",
       "      <th>matched_NER_by_borders</th>\n",
       "      <th>matched_NER_final</th>\n",
       "      <th>NER_Extracted_Tags</th>\n",
       "    </tr>\n",
       "  </thead>\n",
       "  <tbody>\n",
       "    <tr>\n",
       "      <th>0</th>\n",
       "      <td>zPnnWGWHb2gSYnd98GKaag_0000</td>\n",
       "      <td>['15+ years within the recruiting industry com...</td>\n",
       "      <td>unity</td>\n",
       "      <td>['industry', 'hunter', 'snap', 'sourcing', 'un...</td>\n",
       "      <td>['snap', 'industry', 'unity', 'unicorn', 'guru...</td>\n",
       "      <td>['industry', 'resource', 'sourcing', 'sourcing...</td>\n",
       "      <td>['ten years', 'statements', 'all statements', ...</td>\n",
       "    </tr>\n",
       "    <tr>\n",
       "      <th>1</th>\n",
       "      <td>z5LcE0BcZevf5WmwL8nunQ_0000</td>\n",
       "      <td>['Bachelor of science( B. S) degree in\" teleco...</td>\n",
       "      <td>microsoft office, juniper, workday, python, linux</td>\n",
       "      <td>['juniper', 'route', 'python', 'link', 'workday']</td>\n",
       "      <td>['workday', 'microsoft office', 'juniper', 'ro...</td>\n",
       "      <td>['link', 'python', 'link', 'route', 'workday']</td>\n",
       "      <td>['b. s', 'telecommunications', 'unix/', 'rstp'...</td>\n",
       "    </tr>\n",
       "    <tr>\n",
       "      <th>2</th>\n",
       "      <td>xi8skZhrJpM4GVvKfqmuiQ_0000</td>\n",
       "      <td>[\"I'm a current Online student for fashion mer...</td>\n",
       "      <td>NaN</td>\n",
       "      <td>['service', 'manager']</td>\n",
       "      <td>[]</td>\n",
       "      <td>['manager', 'manager', 'manager']</td>\n",
       "      <td>['business', 'manager', '2016-', 'advanced soc...</td>\n",
       "    </tr>\n",
       "    <tr>\n",
       "      <th>3</th>\n",
       "      <td>xemFTL4WGIObJBz0VZv0gg_0000</td>\n",
       "      <td>[\"High-Performing, Strategic-Thinking professi...</td>\n",
       "      <td>NaN</td>\n",
       "      <td>['manager', 'rapport']</td>\n",
       "      <td>['rapport', 'customer relationship management']</td>\n",
       "      <td>['rapport', 'rapport', 'rapport']</td>\n",
       "      <td>['manager', 'track record', 'projects', '8 yea...</td>\n",
       "    </tr>\n",
       "    <tr>\n",
       "      <th>4</th>\n",
       "      <td>wGX7QmVHBijxQrH-U3ncbA_0000</td>\n",
       "      <td>[\"I am a highly motivated civil engineer with ...</td>\n",
       "      <td>NaN</td>\n",
       "      <td>['industry', 'insight', 'manager']</td>\n",
       "      <td>['industry', 'insight']</td>\n",
       "      <td>['insight', 'insight', 'insight', 'insight', '...</td>\n",
       "      <td>['course', 'both perspectives', 'manager', 'te...</td>\n",
       "    </tr>\n",
       "    <tr>\n",
       "      <th>...</th>\n",
       "      <td>...</td>\n",
       "      <td>...</td>\n",
       "      <td>...</td>\n",
       "      <td>...</td>\n",
       "      <td>...</td>\n",
       "      <td>...</td>\n",
       "      <td>...</td>\n",
       "    </tr>\n",
       "    <tr>\n",
       "      <th>95</th>\n",
       "      <td>04dK5T2y78a27gewYZxfEA_0000</td>\n",
       "      <td>['Features: Thor: Ragnarok Spiderman: homecomi...</td>\n",
       "      <td>compass, katana, zbrush, adobe</td>\n",
       "      <td>['image', 'adobe', 'compass', 'percy']</td>\n",
       "      <td>['katana', 'compass', 'renderman', 'adobe', 'i...</td>\n",
       "      <td>['percy', 'compass', 'adobe', 'percy', 'compas...</td>\n",
       "      <td>['camera', 'beasts', 'fire', 'arnold', 'td', '...</td>\n",
       "    </tr>\n",
       "    <tr>\n",
       "      <th>96</th>\n",
       "      <td>-sQNuO1antttcEmOWs-o5Q_0000</td>\n",
       "      <td>['Passionate Visioner and Doer. expert in sust...</td>\n",
       "      <td>NaN</td>\n",
       "      <td>['polymer', 'industry', 'omega', 'manager']</td>\n",
       "      <td>['industry', 'omega', 'polymer']</td>\n",
       "      <td>['polymer', 'industry', 'manager', 'polymer', ...</td>\n",
       "      <td>['business', '15 years', 'manager', 'visioner'...</td>\n",
       "    </tr>\n",
       "    <tr>\n",
       "      <th>97</th>\n",
       "      <td>-nbbpInS-iD0thomdMs6BQ_0000</td>\n",
       "      <td>[\"I am a Self-Motivated sales&amp; marketing profe...</td>\n",
       "      <td>zoom</td>\n",
       "      <td>['air', 'industry', 'pilot', 'wing', 'service'...</td>\n",
       "      <td>['zoom', 'flight', 'industry', 'rapport', 'win...</td>\n",
       "      <td>['industry', 'rapport', 'industry', 'rapport',...</td>\n",
       "      <td>['business', 'manager', 'wyoming life flight',...</td>\n",
       "    </tr>\n",
       "    <tr>\n",
       "      <th>98</th>\n",
       "      <td>-jsY6ula0lsaOQ5rBHxHLg_0000</td>\n",
       "      <td>[\"Www.Lisawilkins.Com specialties: visual/ Ui/...</td>\n",
       "      <td>invision, pixate, xcode, html</td>\n",
       "      <td>['front', 'room']</td>\n",
       "      <td>['invision', 'xcode', 'front', 'pixate', 'room']</td>\n",
       "      <td>['room']</td>\n",
       "      <td>['business', 'insecurity', 'an experience', 'u...</td>\n",
       "    </tr>\n",
       "    <tr>\n",
       "      <th>99</th>\n",
       "      <td>-gje06EDSxsMmw8WF1hKtA_0000</td>\n",
       "      <td>['Driven and compassionate Healthcare professi...</td>\n",
       "      <td>NaN</td>\n",
       "      <td>['care', 'solver', 'service', 'manager', 'foun...</td>\n",
       "      <td>['crossover', 'care', 'foundation', 'solver']</td>\n",
       "      <td>['care', 'service', 'care', 'service', 'care',...</td>\n",
       "      <td>['organizing', 'manager', '8 years', 'planning...</td>\n",
       "    </tr>\n",
       "  </tbody>\n",
       "</table>\n",
       "<p>100 rows × 7 columns</p>\n",
       "</div>"
      ],
      "text/plain": [
       "                             id  \\\n",
       "0   zPnnWGWHb2gSYnd98GKaag_0000   \n",
       "1   z5LcE0BcZevf5WmwL8nunQ_0000   \n",
       "2   xi8skZhrJpM4GVvKfqmuiQ_0000   \n",
       "3   xemFTL4WGIObJBz0VZv0gg_0000   \n",
       "4   wGX7QmVHBijxQrH-U3ncbA_0000   \n",
       "..                          ...   \n",
       "95  04dK5T2y78a27gewYZxfEA_0000   \n",
       "96  -sQNuO1antttcEmOWs-o5Q_0000   \n",
       "97  -nbbpInS-iD0thomdMs6BQ_0000   \n",
       "98  -jsY6ula0lsaOQ5rBHxHLg_0000   \n",
       "99  -gje06EDSxsMmw8WF1hKtA_0000   \n",
       "\n",
       "                                            summaries  \\\n",
       "0   ['15+ years within the recruiting industry com...   \n",
       "1   ['Bachelor of science( B. S) degree in\" teleco...   \n",
       "2   [\"I'm a current Online student for fashion mer...   \n",
       "3   [\"High-Performing, Strategic-Thinking professi...   \n",
       "4   [\"I am a highly motivated civil engineer with ...   \n",
       "..                                                ...   \n",
       "95  ['Features: Thor: Ragnarok Spiderman: homecomi...   \n",
       "96  ['Passionate Visioner and Doer. expert in sust...   \n",
       "97  [\"I am a Self-Motivated sales& marketing profe...   \n",
       "98  [\"Www.Lisawilkins.Com specialties: visual/ Ui/...   \n",
       "99  ['Driven and compassionate Healthcare professi...   \n",
       "\n",
       "                                           Technology  \\\n",
       "0                                               unity   \n",
       "1   microsoft office, juniper, workday, python, linux   \n",
       "2                                                 NaN   \n",
       "3                                                 NaN   \n",
       "4                                                 NaN   \n",
       "..                                                ...   \n",
       "95                     compass, katana, zbrush, adobe   \n",
       "96                                                NaN   \n",
       "97                                               zoom   \n",
       "98                      invision, pixate, xcode, html   \n",
       "99                                                NaN   \n",
       "\n",
       "                                     Technology_Names  \\\n",
       "0   ['industry', 'hunter', 'snap', 'sourcing', 'un...   \n",
       "1   ['juniper', 'route', 'python', 'link', 'workday']   \n",
       "2                              ['service', 'manager']   \n",
       "3                              ['manager', 'rapport']   \n",
       "4                  ['industry', 'insight', 'manager']   \n",
       "..                                                ...   \n",
       "95             ['image', 'adobe', 'compass', 'percy']   \n",
       "96        ['polymer', 'industry', 'omega', 'manager']   \n",
       "97  ['air', 'industry', 'pilot', 'wing', 'service'...   \n",
       "98                                  ['front', 'room']   \n",
       "99  ['care', 'solver', 'service', 'manager', 'foun...   \n",
       "\n",
       "                               matched_NER_by_borders  \\\n",
       "0   ['snap', 'industry', 'unity', 'unicorn', 'guru...   \n",
       "1   ['workday', 'microsoft office', 'juniper', 'ro...   \n",
       "2                                                  []   \n",
       "3     ['rapport', 'customer relationship management']   \n",
       "4                             ['industry', 'insight']   \n",
       "..                                                ...   \n",
       "95  ['katana', 'compass', 'renderman', 'adobe', 'i...   \n",
       "96                   ['industry', 'omega', 'polymer']   \n",
       "97  ['zoom', 'flight', 'industry', 'rapport', 'win...   \n",
       "98   ['invision', 'xcode', 'front', 'pixate', 'room']   \n",
       "99      ['crossover', 'care', 'foundation', 'solver']   \n",
       "\n",
       "                                    matched_NER_final  \\\n",
       "0   ['industry', 'resource', 'sourcing', 'sourcing...   \n",
       "1      ['link', 'python', 'link', 'route', 'workday']   \n",
       "2                   ['manager', 'manager', 'manager']   \n",
       "3                   ['rapport', 'rapport', 'rapport']   \n",
       "4   ['insight', 'insight', 'insight', 'insight', '...   \n",
       "..                                                ...   \n",
       "95  ['percy', 'compass', 'adobe', 'percy', 'compas...   \n",
       "96  ['polymer', 'industry', 'manager', 'polymer', ...   \n",
       "97  ['industry', 'rapport', 'industry', 'rapport',...   \n",
       "98                                           ['room']   \n",
       "99  ['care', 'service', 'care', 'service', 'care',...   \n",
       "\n",
       "                                   NER_Extracted_Tags  \n",
       "0   ['ten years', 'statements', 'all statements', ...  \n",
       "1   ['b. s', 'telecommunications', 'unix/', 'rstp'...  \n",
       "2   ['business', 'manager', '2016-', 'advanced soc...  \n",
       "3   ['manager', 'track record', 'projects', '8 yea...  \n",
       "4   ['course', 'both perspectives', 'manager', 'te...  \n",
       "..                                                ...  \n",
       "95  ['camera', 'beasts', 'fire', 'arnold', 'td', '...  \n",
       "96  ['business', '15 years', 'manager', 'visioner'...  \n",
       "97  ['business', 'manager', 'wyoming life flight',...  \n",
       "98  ['business', 'insecurity', 'an experience', 'u...  \n",
       "99  ['organizing', 'manager', '8 years', 'planning...  \n",
       "\n",
       "[100 rows x 7 columns]"
      ]
     },
     "execution_count": 10,
     "metadata": {},
     "output_type": "execute_result"
    }
   ],
   "source": [
    "df_cm"
   ]
  },
  {
   "cell_type": "code",
   "execution_count": 11,
   "metadata": {},
   "outputs": [],
   "source": [
    "# df_tagged = df_tagged.sort_values(by=['id'], ascending=False)"
   ]
  },
  {
   "cell_type": "code",
   "execution_count": 12,
   "metadata": {},
   "outputs": [],
   "source": [
    "# df_tagged.reset_index(inplace = True, drop = True)"
   ]
  },
  {
   "cell_type": "code",
   "execution_count": 13,
   "metadata": {},
   "outputs": [
    {
     "data": {
      "text/plain": [
       "'microsoft office, juniper, workday, python, linux'"
      ]
     },
     "execution_count": 13,
     "metadata": {},
     "output_type": "execute_result"
    }
   ],
   "source": [
    "df_cm[\"Technology\"][1]"
   ]
  },
  {
   "cell_type": "code",
   "execution_count": 14,
   "metadata": {},
   "outputs": [
    {
     "data": {
      "text/plain": [
       "\"['workday', 'microsoft office', 'juniper', 'route', 'python', 'link']\""
      ]
     },
     "execution_count": 14,
     "metadata": {},
     "output_type": "execute_result"
    }
   ],
   "source": [
    "df_cm[\"matched_NER_by_borders\"][1]\n",
    "# df_cm[\"exact_matched_patt\"][1]\n",
    "\n"
   ]
  },
  {
   "cell_type": "code",
   "execution_count": 15,
   "metadata": {},
   "outputs": [],
   "source": [
    "# df_tagged.to_csv(\"Train_Data/Accuracy_Data/Dataset_to_run_on_all/tagged_simanchala_100.csv\")"
   ]
  },
  {
   "cell_type": "code",
   "execution_count": 16,
   "metadata": {},
   "outputs": [],
   "source": [
    "# Converting dumped data into proper format i.e string into list\n",
    "\n",
    "# Pass the matched technology column that we got\n",
    "def convert_data_format(df,column_name):\n",
    "    \n",
    "    for i in range(0, len(df)):\n",
    "        \n",
    "        if df[column_name][i][0] == '[':\n",
    "            res = ast.literal_eval(df[column_name][i])\n",
    "            df[column_name][i] = res\n",
    "            \n",
    "        else:\n",
    "            x = []\n",
    "            x.insert(0, df[column_name][i])\n",
    "            df[column_name][i] = x\n",
    "            \n",
    "    return df"
   ]
  },
  {
   "cell_type": "code",
   "execution_count": 17,
   "metadata": {},
   "outputs": [],
   "source": [
    "df_cm = convert_data_format(df_cm, \"matched_NER_by_borders\")"
   ]
  },
  {
   "cell_type": "code",
   "execution_count": 18,
   "metadata": {},
   "outputs": [
    {
     "data": {
      "text/plain": [
       "'microsoft office, juniper, workday, python, linux'"
      ]
     },
     "execution_count": 18,
     "metadata": {},
     "output_type": "execute_result"
    }
   ],
   "source": [
    "df_cm[\"Technology\"][1]"
   ]
  },
  {
   "cell_type": "code",
   "execution_count": 19,
   "metadata": {},
   "outputs": [
    {
     "data": {
      "text/plain": [
       "['workday', 'microsoft office', 'juniper', 'route', 'python', 'link']"
      ]
     },
     "execution_count": 19,
     "metadata": {},
     "output_type": "execute_result"
    }
   ],
   "source": [
    "df_cm[\"matched_NER_by_borders\"][1]"
   ]
  },
  {
   "cell_type": "markdown",
   "metadata": {},
   "source": [
    "# Converting into dataformat to compare two strings"
   ]
  },
  {
   "cell_type": "code",
   "execution_count": 20,
   "metadata": {},
   "outputs": [],
   "source": [
    "# v = df_cm[\"Technology\"][1].split(',')\n",
    "# v\n",
    "\n",
    "for i in range(0, len(df_cm)):\n",
    "    if df_cm[\"Technology\"][i] is not np.nan:\n",
    "        df_cm[\"Technology\"][i] = df_cm[\"Technology\"][i].split(',')\n",
    "        for j in range(0, len(df_cm[\"Technology\"][i])):\n",
    "            df_cm[\"Technology\"][i][j] = df_cm[\"Technology\"][i][j].strip()"
   ]
  },
  {
   "cell_type": "code",
   "execution_count": 21,
   "metadata": {},
   "outputs": [
    {
     "data": {
      "text/plain": [
       "['microsoft office', 'juniper', 'workday', 'python', 'linux']"
      ]
     },
     "execution_count": 21,
     "metadata": {},
     "output_type": "execute_result"
    }
   ],
   "source": [
    "df_cm[\"Technology\"][1]"
   ]
  },
  {
   "cell_type": "code",
   "execution_count": 22,
   "metadata": {},
   "outputs": [],
   "source": [
    "# def convert_tagged_data_format(df,column_name):\n",
    "    \n",
    "#     for i in range(0, len(df_cm)):\n",
    "#         print(i)\n",
    "        \n",
    "#         if df[column_name][i] is not np.nan:\n",
    "            \n",
    "#             if df[column_name][i][0] == '[':\n",
    "#                 pass\n",
    "# #                 res = ast.literal_eval(df[column_name][i])\n",
    "# #                 df[column_name][i] = res\n",
    "                \n",
    "#             else:\n",
    "#                 y = []\n",
    "#                 y.insert(1, df[column_name][i])\n",
    "#                 df[column_name][i] = y\n",
    "                \n",
    "#         else:\n",
    "    \n",
    "#                 y = []\n",
    "#                 y.insert(1, df[column_name][i])\n",
    "#                 df[column_name][i] = y\n",
    "#     return df"
   ]
  },
  {
   "cell_type": "code",
   "execution_count": 23,
   "metadata": {},
   "outputs": [],
   "source": [
    "# df_cm = convert_tagged_data_format(df_cm, \"Technology\")"
   ]
  },
  {
   "cell_type": "code",
   "execution_count": 24,
   "metadata": {},
   "outputs": [
    {
     "data": {
      "text/plain": [
       "['unity']"
      ]
     },
     "execution_count": 24,
     "metadata": {},
     "output_type": "execute_result"
    }
   ],
   "source": [
    "df_cm[\"Technology\"][0]"
   ]
  },
  {
   "cell_type": "code",
   "execution_count": 25,
   "metadata": {},
   "outputs": [],
   "source": [
    "# TP: present in both sheet i==j\n",
    "# TN: not in both (insignificant)\n",
    "# FP: in extracted sheet but not in manual tagging     i!=j\n",
    "# FN: in manual tagging and is not in extracted tagging j"
   ]
  },
  {
   "cell_type": "code",
   "execution_count": 26,
   "metadata": {},
   "outputs": [],
   "source": [
    "tp = []\n",
    "tn = []\n",
    "fp = []\n",
    "fn = []"
   ]
  },
  {
   "cell_type": "code",
   "execution_count": 27,
   "metadata": {},
   "outputs": [],
   "source": [
    "TP = TN = FP = FN = 0"
   ]
  },
  {
   "cell_type": "code",
   "execution_count": 28,
   "metadata": {},
   "outputs": [],
   "source": [
    "# TP + FP calculation\n",
    "# op_string = exact_matched_patt\n",
    "# , manual_tagged_string = Actual/Actual(NER)"
   ]
  },
  {
   "cell_type": "code",
   "execution_count": 29,
   "metadata": {},
   "outputs": [
    {
     "data": {
      "text/html": [
       "<div>\n",
       "<style scoped>\n",
       "    .dataframe tbody tr th:only-of-type {\n",
       "        vertical-align: middle;\n",
       "    }\n",
       "\n",
       "    .dataframe tbody tr th {\n",
       "        vertical-align: top;\n",
       "    }\n",
       "\n",
       "    .dataframe thead th {\n",
       "        text-align: right;\n",
       "    }\n",
       "</style>\n",
       "<table border=\"1\" class=\"dataframe\">\n",
       "  <thead>\n",
       "    <tr style=\"text-align: right;\">\n",
       "      <th></th>\n",
       "      <th>id</th>\n",
       "      <th>summaries</th>\n",
       "      <th>Technology</th>\n",
       "      <th>Technology_Names</th>\n",
       "      <th>matched_NER_by_borders</th>\n",
       "      <th>matched_NER_final</th>\n",
       "      <th>NER_Extracted_Tags</th>\n",
       "    </tr>\n",
       "  </thead>\n",
       "  <tbody>\n",
       "    <tr>\n",
       "      <th>0</th>\n",
       "      <td>zPnnWGWHb2gSYnd98GKaag_0000</td>\n",
       "      <td>['15+ years within the recruiting industry com...</td>\n",
       "      <td>[unity]</td>\n",
       "      <td>['industry', 'hunter', 'snap', 'sourcing', 'un...</td>\n",
       "      <td>[snap, industry, unity, unicorn, guru, sourcin...</td>\n",
       "      <td>['industry', 'resource', 'sourcing', 'sourcing...</td>\n",
       "      <td>['ten years', 'statements', 'all statements', ...</td>\n",
       "    </tr>\n",
       "    <tr>\n",
       "      <th>1</th>\n",
       "      <td>z5LcE0BcZevf5WmwL8nunQ_0000</td>\n",
       "      <td>['Bachelor of science( B. S) degree in\" teleco...</td>\n",
       "      <td>[microsoft office, juniper, workday, python, l...</td>\n",
       "      <td>['juniper', 'route', 'python', 'link', 'workday']</td>\n",
       "      <td>[workday, microsoft office, juniper, route, py...</td>\n",
       "      <td>['link', 'python', 'link', 'route', 'workday']</td>\n",
       "      <td>['b. s', 'telecommunications', 'unix/', 'rstp'...</td>\n",
       "    </tr>\n",
       "    <tr>\n",
       "      <th>2</th>\n",
       "      <td>xi8skZhrJpM4GVvKfqmuiQ_0000</td>\n",
       "      <td>[\"I'm a current Online student for fashion mer...</td>\n",
       "      <td>NaN</td>\n",
       "      <td>['service', 'manager']</td>\n",
       "      <td>[]</td>\n",
       "      <td>['manager', 'manager', 'manager']</td>\n",
       "      <td>['business', 'manager', '2016-', 'advanced soc...</td>\n",
       "    </tr>\n",
       "    <tr>\n",
       "      <th>3</th>\n",
       "      <td>xemFTL4WGIObJBz0VZv0gg_0000</td>\n",
       "      <td>[\"High-Performing, Strategic-Thinking professi...</td>\n",
       "      <td>NaN</td>\n",
       "      <td>['manager', 'rapport']</td>\n",
       "      <td>[rapport, customer relationship management]</td>\n",
       "      <td>['rapport', 'rapport', 'rapport']</td>\n",
       "      <td>['manager', 'track record', 'projects', '8 yea...</td>\n",
       "    </tr>\n",
       "    <tr>\n",
       "      <th>4</th>\n",
       "      <td>wGX7QmVHBijxQrH-U3ncbA_0000</td>\n",
       "      <td>[\"I am a highly motivated civil engineer with ...</td>\n",
       "      <td>NaN</td>\n",
       "      <td>['industry', 'insight', 'manager']</td>\n",
       "      <td>[industry, insight]</td>\n",
       "      <td>['insight', 'insight', 'insight', 'insight', '...</td>\n",
       "      <td>['course', 'both perspectives', 'manager', 'te...</td>\n",
       "    </tr>\n",
       "  </tbody>\n",
       "</table>\n",
       "</div>"
      ],
      "text/plain": [
       "                            id  \\\n",
       "0  zPnnWGWHb2gSYnd98GKaag_0000   \n",
       "1  z5LcE0BcZevf5WmwL8nunQ_0000   \n",
       "2  xi8skZhrJpM4GVvKfqmuiQ_0000   \n",
       "3  xemFTL4WGIObJBz0VZv0gg_0000   \n",
       "4  wGX7QmVHBijxQrH-U3ncbA_0000   \n",
       "\n",
       "                                           summaries  \\\n",
       "0  ['15+ years within the recruiting industry com...   \n",
       "1  ['Bachelor of science( B. S) degree in\" teleco...   \n",
       "2  [\"I'm a current Online student for fashion mer...   \n",
       "3  [\"High-Performing, Strategic-Thinking professi...   \n",
       "4  [\"I am a highly motivated civil engineer with ...   \n",
       "\n",
       "                                          Technology  \\\n",
       "0                                            [unity]   \n",
       "1  [microsoft office, juniper, workday, python, l...   \n",
       "2                                                NaN   \n",
       "3                                                NaN   \n",
       "4                                                NaN   \n",
       "\n",
       "                                    Technology_Names  \\\n",
       "0  ['industry', 'hunter', 'snap', 'sourcing', 'un...   \n",
       "1  ['juniper', 'route', 'python', 'link', 'workday']   \n",
       "2                             ['service', 'manager']   \n",
       "3                             ['manager', 'rapport']   \n",
       "4                 ['industry', 'insight', 'manager']   \n",
       "\n",
       "                              matched_NER_by_borders  \\\n",
       "0  [snap, industry, unity, unicorn, guru, sourcin...   \n",
       "1  [workday, microsoft office, juniper, route, py...   \n",
       "2                                                 []   \n",
       "3        [rapport, customer relationship management]   \n",
       "4                                [industry, insight]   \n",
       "\n",
       "                                   matched_NER_final  \\\n",
       "0  ['industry', 'resource', 'sourcing', 'sourcing...   \n",
       "1     ['link', 'python', 'link', 'route', 'workday']   \n",
       "2                  ['manager', 'manager', 'manager']   \n",
       "3                  ['rapport', 'rapport', 'rapport']   \n",
       "4  ['insight', 'insight', 'insight', 'insight', '...   \n",
       "\n",
       "                                  NER_Extracted_Tags  \n",
       "0  ['ten years', 'statements', 'all statements', ...  \n",
       "1  ['b. s', 'telecommunications', 'unix/', 'rstp'...  \n",
       "2  ['business', 'manager', '2016-', 'advanced soc...  \n",
       "3  ['manager', 'track record', 'projects', '8 yea...  \n",
       "4  ['course', 'both perspectives', 'manager', 'te...  "
      ]
     },
     "execution_count": 29,
     "metadata": {},
     "output_type": "execute_result"
    }
   ],
   "source": [
    "df_cm.head()"
   ]
  },
  {
   "cell_type": "code",
   "execution_count": 30,
   "metadata": {},
   "outputs": [],
   "source": [
    "df_cm[\"Technology\"] = df_cm[\"Technology\"].fillna('[]')"
   ]
  },
  {
   "cell_type": "code",
   "execution_count": 31,
   "metadata": {},
   "outputs": [],
   "source": [
    "def get_TP(df,manual_tagged_string,op_string):\n",
    "    \n",
    "    for ind in df.index:\n",
    "        TP = FP = 0\n",
    "        \n",
    "        for i in range(0, len(df[op_string][ind])):\n",
    "            \n",
    "            if df[op_string][ind][i] in df[manual_tagged_string][ind]:\n",
    "                TP = TP + 1\n",
    "                \n",
    "            else:\n",
    "                pass\n",
    "                \n",
    "        tp.append(TP)\n",
    "\n",
    "    return tp"
   ]
  },
  {
   "cell_type": "code",
   "execution_count": 32,
   "metadata": {},
   "outputs": [],
   "source": [
    "# import numpy as np\n",
    "# list_1 = [\"a\", \"b\", \"c\", \"d\", \"e\"]\n",
    "# list_2 = [\"a\", \"f\", \"c\", \"m\"] \n",
    "# # yields the elements in `list_2` that are NOT in `list_1`\n",
    "# main_list = np.setdiff1d(list_2,list_1)\n",
    "# yields the elements in `list_2` that are NOT in `list_1`\n",
    "\n",
    "\n",
    "\n",
    "def get_FP(df,manual_tagged_string, op_string):\n",
    "    \n",
    "    for ind in df.index:\n",
    "        main_list = np.setdiff1d(df[op_string][ind],df[manual_tagged_string][ind])\n",
    "        fp.append(len(main_list))\n",
    "        \n",
    "    return fp"
   ]
  },
  {
   "cell_type": "code",
   "execution_count": 33,
   "metadata": {},
   "outputs": [],
   "source": [
    "# entry like Empty|list of technology output\n",
    "# "
   ]
  },
  {
   "cell_type": "code",
   "execution_count": 34,
   "metadata": {},
   "outputs": [],
   "source": [
    "def get_FN(df,manual_tagged_string, op_string):\n",
    "    \n",
    "    for ind in df.index:\n",
    "        \n",
    "        main_list = np.setdiff1d(df[manual_tagged_string][ind], df[op_string][ind])\n",
    "        if df[manual_tagged_string][ind]=='[]':\n",
    "            fn.append(0)\n",
    "        else:\n",
    "            fn.append(len(main_list))\n",
    "        \n",
    "    return fn"
   ]
  },
  {
   "cell_type": "code",
   "execution_count": 35,
   "metadata": {},
   "outputs": [],
   "source": [
    "# function call\n",
    "tp = get_TP(df_cm, \"Technology\", \"matched_NER_by_borders\")\n",
    "fp = get_FP(df_cm, \"Technology\", \"matched_NER_by_borders\")\n",
    "fn = get_FN(df_cm, \"Technology\", \"matched_NER_by_borders\")\n",
    "\n",
    "# tp = get_TP(df_cm, \"Technology\", \"exact_matched_patt\")\n",
    "# fp = get_FP(df_cm, \"Technology\", \"exact_matched_patt\")\n",
    "# fn = get_FN(df_cm, \"Technology\", \"exact_matched_patt\")"
   ]
  },
  {
   "cell_type": "code",
   "execution_count": 36,
   "metadata": {},
   "outputs": [
    {
     "name": "stdout",
     "output_type": "stream",
     "text": [
      "100 100 100\n"
     ]
    }
   ],
   "source": [
    "print(len(tp), len(fp), len(fn))"
   ]
  },
  {
   "cell_type": "code",
   "execution_count": 37,
   "metadata": {},
   "outputs": [
    {
     "data": {
      "text/html": [
       "<div>\n",
       "<style scoped>\n",
       "    .dataframe tbody tr th:only-of-type {\n",
       "        vertical-align: middle;\n",
       "    }\n",
       "\n",
       "    .dataframe tbody tr th {\n",
       "        vertical-align: top;\n",
       "    }\n",
       "\n",
       "    .dataframe thead th {\n",
       "        text-align: right;\n",
       "    }\n",
       "</style>\n",
       "<table border=\"1\" class=\"dataframe\">\n",
       "  <thead>\n",
       "    <tr style=\"text-align: right;\">\n",
       "      <th></th>\n",
       "      <th>TP</th>\n",
       "      <th>FP</th>\n",
       "      <th>FN</th>\n",
       "    </tr>\n",
       "  </thead>\n",
       "  <tbody>\n",
       "    <tr>\n",
       "      <th>0</th>\n",
       "      <td>1</td>\n",
       "      <td>6</td>\n",
       "      <td>0</td>\n",
       "    </tr>\n",
       "    <tr>\n",
       "      <th>1</th>\n",
       "      <td>4</td>\n",
       "      <td>2</td>\n",
       "      <td>1</td>\n",
       "    </tr>\n",
       "    <tr>\n",
       "      <th>2</th>\n",
       "      <td>0</td>\n",
       "      <td>0</td>\n",
       "      <td>0</td>\n",
       "    </tr>\n",
       "    <tr>\n",
       "      <th>3</th>\n",
       "      <td>0</td>\n",
       "      <td>2</td>\n",
       "      <td>0</td>\n",
       "    </tr>\n",
       "    <tr>\n",
       "      <th>4</th>\n",
       "      <td>0</td>\n",
       "      <td>2</td>\n",
       "      <td>0</td>\n",
       "    </tr>\n",
       "    <tr>\n",
       "      <th>...</th>\n",
       "      <td>...</td>\n",
       "      <td>...</td>\n",
       "      <td>...</td>\n",
       "    </tr>\n",
       "    <tr>\n",
       "      <th>94</th>\n",
       "      <td>1</td>\n",
       "      <td>1</td>\n",
       "      <td>0</td>\n",
       "    </tr>\n",
       "    <tr>\n",
       "      <th>95</th>\n",
       "      <td>4</td>\n",
       "      <td>3</td>\n",
       "      <td>0</td>\n",
       "    </tr>\n",
       "    <tr>\n",
       "      <th>96</th>\n",
       "      <td>0</td>\n",
       "      <td>3</td>\n",
       "      <td>0</td>\n",
       "    </tr>\n",
       "    <tr>\n",
       "      <th>97</th>\n",
       "      <td>1</td>\n",
       "      <td>5</td>\n",
       "      <td>0</td>\n",
       "    </tr>\n",
       "    <tr>\n",
       "      <th>98</th>\n",
       "      <td>3</td>\n",
       "      <td>2</td>\n",
       "      <td>1</td>\n",
       "    </tr>\n",
       "  </tbody>\n",
       "</table>\n",
       "<p>99 rows × 3 columns</p>\n",
       "</div>"
      ],
      "text/plain": [
       "    TP  FP  FN\n",
       "0    1   6   0\n",
       "1    4   2   1\n",
       "2    0   0   0\n",
       "3    0   2   0\n",
       "4    0   2   0\n",
       "..  ..  ..  ..\n",
       "94   1   1   0\n",
       "95   4   3   0\n",
       "96   0   3   0\n",
       "97   1   5   0\n",
       "98   3   2   1\n",
       "\n",
       "[99 rows x 3 columns]"
      ]
     },
     "execution_count": 37,
     "metadata": {},
     "output_type": "execute_result"
    }
   ],
   "source": [
    "# creating a dataframe\n",
    "df_matrix = pd.DataFrame(list(zip(tp, fp, fn)), \n",
    "               columns =['TP', 'FP', \"FN\"])\n",
    "df_matrix.head(-1)"
   ]
  },
  {
   "cell_type": "code",
   "execution_count": 38,
   "metadata": {},
   "outputs": [],
   "source": [
    "def get_precision(tp,fp):\n",
    "    \n",
    "    if tp+fp ==0:\n",
    "        precision = 0\n",
    "    else:\n",
    "        precision = tp/(tp+fp)\n",
    "    \n",
    "    return precision"
   ]
  },
  {
   "cell_type": "code",
   "execution_count": 39,
   "metadata": {},
   "outputs": [],
   "source": [
    "def get_recall(tp,fn):\n",
    "    \n",
    "    if tp+fn ==0:\n",
    "        recall = 0\n",
    "    else:\n",
    "        recall = tp/(tp+fn)\n",
    "    \n",
    "    return recall"
   ]
  },
  {
   "cell_type": "code",
   "execution_count": 40,
   "metadata": {},
   "outputs": [],
   "source": [
    "def get_f_score(precision, recall):\n",
    "    if precision+recall == 0:\n",
    "        f_score = 0\n",
    "    else:\n",
    "        f_score = 2*(precision*recall)/(precision+recall)\n",
    "        \n",
    "    return f_score"
   ]
  },
  {
   "cell_type": "code",
   "execution_count": 41,
   "metadata": {},
   "outputs": [],
   "source": [
    "df_matrix['Precision'] = df_matrix.apply(lambda x: get_precision(x[\"TP\"], x[\"FP\"]), axis = 1)"
   ]
  },
  {
   "cell_type": "code",
   "execution_count": 42,
   "metadata": {},
   "outputs": [],
   "source": [
    "df_matrix[\"Recall\"] = df_matrix.apply(lambda x: get_recall(x[\"TP\"], x[\"FN\"]), axis = 1)"
   ]
  },
  {
   "cell_type": "code",
   "execution_count": 43,
   "metadata": {},
   "outputs": [],
   "source": [
    "df_matrix[\"f_score\"] = df_matrix.apply(lambda x: get_f_score(x[\"Precision\"], x[\"Recall\"]), axis = 1)"
   ]
  },
  {
   "cell_type": "code",
   "execution_count": 44,
   "metadata": {},
   "outputs": [
    {
     "data": {
      "text/html": [
       "<div>\n",
       "<style scoped>\n",
       "    .dataframe tbody tr th:only-of-type {\n",
       "        vertical-align: middle;\n",
       "    }\n",
       "\n",
       "    .dataframe tbody tr th {\n",
       "        vertical-align: top;\n",
       "    }\n",
       "\n",
       "    .dataframe thead th {\n",
       "        text-align: right;\n",
       "    }\n",
       "</style>\n",
       "<table border=\"1\" class=\"dataframe\">\n",
       "  <thead>\n",
       "    <tr style=\"text-align: right;\">\n",
       "      <th></th>\n",
       "      <th>TP</th>\n",
       "      <th>FP</th>\n",
       "      <th>FN</th>\n",
       "      <th>Precision</th>\n",
       "      <th>Recall</th>\n",
       "      <th>f_score</th>\n",
       "    </tr>\n",
       "  </thead>\n",
       "  <tbody>\n",
       "    <tr>\n",
       "      <th>0</th>\n",
       "      <td>1</td>\n",
       "      <td>6</td>\n",
       "      <td>0</td>\n",
       "      <td>0.142857</td>\n",
       "      <td>1.0</td>\n",
       "      <td>0.250000</td>\n",
       "    </tr>\n",
       "    <tr>\n",
       "      <th>1</th>\n",
       "      <td>4</td>\n",
       "      <td>2</td>\n",
       "      <td>1</td>\n",
       "      <td>0.666667</td>\n",
       "      <td>0.8</td>\n",
       "      <td>0.727273</td>\n",
       "    </tr>\n",
       "    <tr>\n",
       "      <th>2</th>\n",
       "      <td>0</td>\n",
       "      <td>0</td>\n",
       "      <td>0</td>\n",
       "      <td>0.000000</td>\n",
       "      <td>0.0</td>\n",
       "      <td>0.000000</td>\n",
       "    </tr>\n",
       "    <tr>\n",
       "      <th>3</th>\n",
       "      <td>0</td>\n",
       "      <td>2</td>\n",
       "      <td>0</td>\n",
       "      <td>0.000000</td>\n",
       "      <td>0.0</td>\n",
       "      <td>0.000000</td>\n",
       "    </tr>\n",
       "    <tr>\n",
       "      <th>4</th>\n",
       "      <td>0</td>\n",
       "      <td>2</td>\n",
       "      <td>0</td>\n",
       "      <td>0.000000</td>\n",
       "      <td>0.0</td>\n",
       "      <td>0.000000</td>\n",
       "    </tr>\n",
       "  </tbody>\n",
       "</table>\n",
       "</div>"
      ],
      "text/plain": [
       "   TP  FP  FN  Precision  Recall   f_score\n",
       "0   1   6   0   0.142857     1.0  0.250000\n",
       "1   4   2   1   0.666667     0.8  0.727273\n",
       "2   0   0   0   0.000000     0.0  0.000000\n",
       "3   0   2   0   0.000000     0.0  0.000000\n",
       "4   0   2   0   0.000000     0.0  0.000000"
      ]
     },
     "execution_count": 44,
     "metadata": {},
     "output_type": "execute_result"
    }
   ],
   "source": [
    "df_matrix.head()"
   ]
  },
  {
   "cell_type": "code",
   "execution_count": 45,
   "metadata": {},
   "outputs": [],
   "source": [
    "# df_matrix.to_csv(\"Train_Data/Accuracy_Data/Dataset_to_run_on_all/Output/Accuracy_Sheet_ner_en_large_flair_100_tagged.csv\", index = False)\n",
    "# df_matrix.to_csv(\"Train_Data/Accuracy_Data/Dataset_to_run_on_all/Output/Accuracy_Sheet_spacy_adding_more_tags.csv\", index = False)\n",
    "# df_matrix.to_csv(\"Train_Data/Accuracy_Data/Dataset_to_run_on_all/Output/Accuracy_Sheet_String_Match_non_context.csv\", index = False)\n",
    "df_matrix.to_csv(\"Train_Data/Accuracy_Data/Dataset_to_run_on_all/Output/Accuracy_Sheet_String_Match_NER_NOUN_Tags.csv\", index = False)\n",
    "\n",
    "# df_matrix.to_csv(\"Train_Data/Accuracy_Data/Dataset_to_run_on_all/Output/Accuracy_Sheet_lg__moreTAGS_tagged_100_more_ENTS.csv\", index = False)\n",
    "# df_matrix.to_csv(\"Train_Data/Accuracy_Data/Dataset_to_run_on_all/Output/Accuracy_Sheet_lg_100_simple_spacy.csv\", index = False)\n"
   ]
  },
  {
   "cell_type": "markdown",
   "metadata": {},
   "source": [
    "# Sorting 1000 profiles for Manual Tagging"
   ]
  },
  {
   "cell_type": "code",
   "execution_count": 46,
   "metadata": {},
   "outputs": [],
   "source": [
    "# to_tag = pd.read_csv(\"Train_Data/Latest_String_Match_non_duplicates - String_Match_non_duplicates.csv\")"
   ]
  },
  {
   "cell_type": "code",
   "execution_count": 47,
   "metadata": {},
   "outputs": [],
   "source": [
    "# len(to_tag)"
   ]
  },
  {
   "cell_type": "code",
   "execution_count": null,
   "metadata": {},
   "outputs": [],
   "source": []
  }
 ],
 "metadata": {
  "kernelspec": {
   "display_name": "Python 3",
   "language": "python",
   "name": "python3"
  },
  "language_info": {
   "codemirror_mode": {
    "name": "ipython",
    "version": 3
   },
   "file_extension": ".py",
   "mimetype": "text/x-python",
   "name": "python",
   "nbconvert_exporter": "python",
   "pygments_lexer": "ipython3",
   "version": "3.9.2"
  }
 },
 "nbformat": 4,
 "nbformat_minor": 2
}
